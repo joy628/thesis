{
 "cells": [
  {
   "cell_type": "code",
   "execution_count": 6,
   "metadata": {},
   "outputs": [],
   "source": [
    "import numpy as np\n",
    "import pandas as pd\n",
    "from pathlib import Path\n",
    "\n",
    "import os\n",
    "import sys\n",
    "\n",
    "sys.path.append(os.path.abspath(\"../\"))\n",
    "from utils import write_json, write_pkl, load_json\n",
    "\n",
    "from convert import convert_timeseries_to_mmap,convert_csv_to_mmap,read_mm\n"
   ]
  },
  {
   "cell_type": "code",
   "execution_count": 10,
   "metadata": {},
   "outputs": [
    {
     "name": "stdout",
     "output_type": "stream",
     "text": [
      "Loading eICU processed data from /home/mei/nas/docker/thesis/data/csv\n",
      "Saving mmap data in /home/mei/nas/docker/thesis/data/mmap\n"
     ]
    }
   ],
   "source": [
    "paths = load_json(\"../paths.json\")\n",
    "data_dir = paths[\"eICU_path\"]\n",
    "save_dir = paths[\"mmap_dir\"]\n",
    "print(f\"Loading eICU processed data from {data_dir}\")\n",
    "print(f\"Saving mmap data in {save_dir}\")\n",
    "Path(save_dir).mkdir(exist_ok=True)\n"
   ]
  },
  {
   "cell_type": "code",
   "execution_count": 9,
   "metadata": {},
   "outputs": [
    {
     "name": "stdout",
     "output_type": "stream",
     "text": [
      "the shape of labels is  (10023, 3)\n",
      "the shape of timeseries is  (240552, 115)\n",
      "the shape of diagnoses is  (10023, 115)\n",
      "the shape of flat_features is  (10023, 106)\n"
     ]
    }
   ],
   "source": [
    "labels = pd.read_csv(os.path.join(data_dir, 'final_labels.csv')).set_index('patient')\n",
    "timeseries = pd.read_csv(os.path.join(data_dir, 'final_timeseries.csv')).set_index('patient')\n",
    "diagnoses = pd.read_csv(os.path.join(data_dir, 'final_diagnoses.csv')).set_index('patient')\n",
    "flat_features = pd.read_csv(os.path.join(data_dir, 'final_flat_drug.csv')).set_index('patient')\n",
    "\n",
    "print(\"the shape of labels is \",labels.shape)\n",
    "print(\"the shape of timeseries is \",timeseries.shape)\n",
    "print(\"the shape of diagnoses is \",diagnoses.shape)\n",
    "print(\"the shape of flat_features is \",flat_features.shape)"
   ]
  },
  {
   "cell_type": "code",
   "execution_count": null,
   "metadata": {},
   "outputs": [],
   "source": [
    "# Convert time series data\n",
    "print(\"** Converting time series **\")\n",
    "convert_timeseries_to_mmap(data_dir, save_dir)"
   ]
  }
 ],
 "metadata": {
  "kernelspec": {
   "display_name": "eicu",
   "language": "python",
   "name": "python3"
  },
  "language_info": {
   "codemirror_mode": {
    "name": "ipython",
    "version": 3
   },
   "file_extension": ".py",
   "mimetype": "text/x-python",
   "name": "python",
   "nbconvert_exporter": "python",
   "pygments_lexer": "ipython3",
   "version": "3.10.14"
  }
 },
 "nbformat": 4,
 "nbformat_minor": 2
}
