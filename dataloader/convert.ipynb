{
 "cells": [
  {
   "cell_type": "code",
   "execution_count": 1,
   "metadata": {},
   "outputs": [],
   "source": [
    "import pandas as pd\n",
    "import numpy as np\n",
    "import os"
   ]
  },
  {
   "cell_type": "code",
   "execution_count": 6,
   "metadata": {},
   "outputs": [],
   "source": [
    "def save_timeseries_to_h5(data_path, partition):\n",
    "    partition_path = os.path.join(data_path, partition)\n",
    "    timeseries_file = os.path.join(partition_path, 'timeseries.h5')\n",
    "    \n",
    "    \n",
    "    # 读取时间序列数据\n",
    "    timeseries_data = pd.read_hdf(timeseries_file)\n",
    "    \n",
    "    output_file = os.path.join(partition_path, 'timeseries_for_each_patient.h5')\n",
    "    with pd.HDFStore(output_file, 'w') as h5f:\n",
    "        for patient_id, group in timeseries_data.groupby('patient'):\n",
    "            h5f.put(f'patient_{patient_id}', group)\n",
    "    \n",
    "    print(f'Data for {partition} saved successfully!')"
   ]
  },
  {
   "cell_type": "code",
   "execution_count": 7,
   "metadata": {},
   "outputs": [
    {
     "name": "stdout",
     "output_type": "stream",
     "text": [
      "Data for train saved successfully!\n",
      "Data for val saved successfully!\n",
      "Data for test saved successfully!\n"
     ]
    }
   ],
   "source": [
    "data_path = '/home/mei/nas/docker/thesis/data/hdf/'\n",
    "\n",
    "for partition in ['train', 'val', 'test']:\n",
    "    save_timeseries_to_h5(data_path, partition)"
   ]
  }
 ],
 "metadata": {
  "kernelspec": {
   "display_name": "eicu",
   "language": "python",
   "name": "python3"
  },
  "language_info": {
   "codemirror_mode": {
    "name": "ipython",
    "version": 3
   },
   "file_extension": ".py",
   "mimetype": "text/x-python",
   "name": "python",
   "nbconvert_exporter": "python",
   "pygments_lexer": "ipython3",
   "version": "3.10.14"
  }
 },
 "nbformat": 4,
 "nbformat_minor": 2
}
