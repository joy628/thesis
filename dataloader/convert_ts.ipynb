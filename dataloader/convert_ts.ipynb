{
 "cells": [
  {
   "cell_type": "code",
   "execution_count": 2,
   "metadata": {},
   "outputs": [],
   "source": [
    "import pandas as pd\n",
    "import numpy as np\n",
    "import h5py\n",
    "import os"
   ]
  },
  {
   "cell_type": "code",
   "execution_count": null,
   "metadata": {},
   "outputs": [],
   "source": [
    "def save_ts_to_h5py(data_path, partition):\n",
    "    partition_path = os.path.join(data_path, partition)\n",
    "    timeseries_file = os.path.join(partition_path, 'timeseries_marker.h5')\n",
    "    \n",
    "    # load the timeseries data\n",
    "    timeseries_data = pd.read_hdf(timeseries_file)\n",
    "    \n",
    "    output_file = os.path.join(partition_path, 'ts_each_patient_np_marker.h5')\n",
    "    with h5py.File(output_file, 'w') as h5f:\n",
    "        for patient_id, group in timeseries_data.groupby('patient'):\n",
    "            h5f.create_dataset(str(patient_id), data=group.values)\n",
    "    \n",
    "    print(f'Data for {partition} saved successfully in h5py version!')"
   ]
  },
  {
   "cell_type": "code",
   "execution_count": 4,
   "metadata": {},
   "outputs": [
    {
     "name": "stdout",
     "output_type": "stream",
     "text": [
      "Data for train saved successfully in h5py version!\n",
      "Data for val saved successfully in h5py version!\n",
      "Data for test saved successfully in h5py version!\n"
     ]
    }
   ],
   "source": [
    "data_path = '/home/mei/nas/docker/thesis/data/hdf/'\n",
    "\n",
    "for partition in ['train', 'val', 'test']:\n",
    "    save_ts_to_h5py(data_path, partition)"
   ]
  },
  {
   "cell_type": "code",
   "execution_count": 5,
   "metadata": {},
   "outputs": [],
   "source": [
    "def save_risk_scores_to_h5py(data_path, partition):\n",
    "    partition_path = os.path.join(data_path, partition)\n",
    "    risks_file = os.path.join(partition_path, 'risks.h5')\n",
    "    \n",
    "    # load the risks\n",
    "    risks_data = pd.read_hdf(risks_file)\n",
    "    \n",
    "    output_file = os.path.join(partition_path, 'risk_scores_each_patient_np.h5')\n",
    "    with h5py.File(output_file, 'w') as h5f:\n",
    "        for patient_id, group in risks_data.groupby('patient'):\n",
    "            h5f.create_dataset(str(patient_id), data=group['risk_score'].values)\n",
    "    \n",
    "    print(f'Risk scores for {partition} saved successfully in h5py version!')\n"
   ]
  },
  {
   "cell_type": "code",
   "execution_count": 6,
   "metadata": {},
   "outputs": [
    {
     "name": "stdout",
     "output_type": "stream",
     "text": [
      "Risk scores for train saved successfully in h5py version!\n",
      "Risk scores for val saved successfully in h5py version!\n",
      "Risk scores for test saved successfully in h5py version!\n"
     ]
    }
   ],
   "source": [
    "data_path = '/home/mei/nas/docker/thesis/data/hdf/'\n",
    "\n",
    "for partition in ['train', 'val', 'test']:\n",
    "    save_risk_scores_to_h5py(data_path, partition)"
   ]
  },
  {
   "cell_type": "code",
   "execution_count": null,
   "metadata": {},
   "outputs": [],
   "source": []
  }
 ],
 "metadata": {
  "kernelspec": {
   "display_name": "eicu",
   "language": "python",
   "name": "python3"
  },
  "language_info": {
   "codemirror_mode": {
    "name": "ipython",
    "version": 3
   },
   "file_extension": ".py",
   "mimetype": "text/x-python",
   "name": "python",
   "nbconvert_exporter": "python",
   "pygments_lexer": "ipython3",
   "version": "3.10.14"
  }
 },
 "nbformat": 4,
 "nbformat_minor": 2
}
