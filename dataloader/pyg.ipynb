{
 "cells": [
  {
   "cell_type": "code",
   "execution_count": 1,
   "metadata": {},
   "outputs": [],
   "source": [
    "import torch\n",
    "import os\n",
    "from torch_geometric.data import Data, InMemoryDataset\n",
    "from torch_geometric.loader import DataLoader \n",
    "from pathlib import Path\n",
    "import pandas as pd\n",
    "from torch_geometric.data import Batch\n"
   ]
  },
  {
   "cell_type": "code",
   "execution_count": 2,
   "metadata": {},
   "outputs": [],
   "source": [
    "from torch_geometric.loader import NeighborLoader"
   ]
  },
  {
   "cell_type": "code",
   "execution_count": 36,
   "metadata": {},
   "outputs": [],
   "source": [
    "class GraphDataset(InMemoryDataset):\n",
    "    \"\"\"\n",
    "    PyG dataset for patient graphs (Load precomputed graphs from .pt or .h5).\n",
    "    \"\"\"\n",
    "    def __init__(self, config,transform=None, pre_transform=None):\n",
    "        super(GraphDataset, self).__init__(root=config[\"data_dir\"], transform=transform, pre_transform=pre_transform)\n",
    "\n",
    "        # === 1. Graph ===\n",
    "        graph_path = Path(config[\"graph_dir\"]) / f\"diagnosis_graph_{config['mode']}_k{config['k']}.pt\"\n",
    "        print(f\"==> Loading precomputed graph from {graph_path}\")\n",
    "        self.graph_data = torch.load(graph_path, weights_only=False)\n",
    "\n",
    "        # === 2. Extract edge_index and edge_attr ===\n",
    "        self.edge_index = self.graph_data.edge_index\n",
    "        self.edge_attr = self.graph_data.edge_attr\n",
    "        self.patient_ids = self.graph_data.patient_ids.numpy()\n",
    "        \n",
    "         # === 3️. Get Flat Features from LSTMDataset ===\n",
    "        \n",
    "        flat_path = Path(config[\"data_dir\"]) / \"final_flat.h5\"  # 假设 flat 特征存储在 flat.h5\n",
    "        print(f\"==> Loading flat features from {flat_path}\")\n",
    "        flat_df = pd.read_hdf(flat_path)  # 读取 flat 特征\n",
    "        flat_df = flat_df.set_index(\"patient\") \n",
    "        \n",
    "         # === 4. Align Flat Features with Graph Patient IDs ===\n",
    "        sorted_idx = [flat_df.index.get_loc(pid) for pid in self.patient_ids]  # 获取 `patient_id` 对应的索引\n",
    "        x_flat = torch.tensor(flat_df.values[sorted_idx], dtype=torch.float)  # 按 `patient_id` 重新排序\n",
    "        print(f\"x_flat shape: {x_flat.shape}, num_nodes: {self.graph_data.num_nodes}\")\n",
    "        \n",
    "        # === 5. PyG `Data`  ===\n",
    "        self.data = Data(x=x_flat, edge_index=self.edge_index, edge_attr=self.edge_attr)\n",
    "        self.graph_data.x = x_flat\n",
    "        self.graph_data.num_nodes = x_flat.shape[0]\n",
    "\n",
    "    def __len__(self):\n",
    "        return 1  \n",
    "\n",
    "    def __getitem__(self, idx):\n",
    "        return self.data \n",
    "\n"
   ]
  },
  {
   "cell_type": "code",
   "execution_count": 13,
   "metadata": {},
   "outputs": [],
   "source": [
    "config = {  \n",
    "    \"data_dir\": \"/home/mei/nas/docker/thesis/data/hdf\",\n",
    "    \"graph_dir\": \"/home/mei/nas/docker/thesis/data/graphs\",\n",
    "    \"mode\": \"k_closest\",\n",
    "    \"k\": 3\n",
    "          \n",
    "}"
   ]
  },
  {
   "cell_type": "code",
   "execution_count": 4,
   "metadata": {},
   "outputs": [],
   "source": [
    "# ===generate DataLoader ===\n",
    "def get_graph_dataloader(config, batch_size=32, shuffle=True):\n",
    "    \"\"\"\n",
    "    Create PyG dataloader for training.\n",
    "    \"\"\"\n",
    "    dataset = GraphDataset(config)\n",
    "    return DataLoader(dataset, batch_size=batch_size, shuffle=shuffle)"
   ]
  },
  {
   "cell_type": "code",
   "execution_count": 33,
   "metadata": {},
   "outputs": [
    {
     "name": "stdout",
     "output_type": "stream",
     "text": [
      "==> Loading precomputed graph from /home/mei/nas/docker/thesis/data/graphs/diagnosis_graph_k_closest_k3.pt\n",
      "==> Loading flat features from /home/mei/nas/docker/thesis/data/hdf/final_flat.h5\n",
      "x_flat shape: torch.Size([11698, 104]), num_nodes: 11698\n",
      "DataBatch(x=[11698, 104], edge_index=[2, 35094], edge_attr=[35094], batch=[11698], ptr=[2])\n"
     ]
    },
    {
     "name": "stderr",
     "output_type": "stream",
     "text": [
      "/home/mei/anaconda3/envs/eicu/lib/python3.10/site-packages/torch_geometric/data/in_memory_dataset.py:300: UserWarning: It is not recommended to directly access the internal storage format `data` of an 'InMemoryDataset'. If you are absolutely certain what you are doing, access the internal storage via `InMemoryDataset._data` instead to suppress this warning. Alternatively, you can access stacked individual attributes of every graph via `dataset.{attr_name}`.\n",
      "  warnings.warn(msg)\n"
     ]
    }
   ],
   "source": [
    "graph_loader = get_graph_dataloader(config,batch_size=32)\n",
    "for batch in graph_loader:\n",
    "    print(batch)\n",
    "    break"
   ]
  },
  {
   "cell_type": "code",
   "execution_count": 37,
   "metadata": {},
   "outputs": [
    {
     "name": "stdout",
     "output_type": "stream",
     "text": [
      "==> Loading precomputed graph from /home/mei/nas/docker/thesis/data/graphs/diagnosis_graph_k_closest_k3.pt\n",
      "==> Loading flat features from /home/mei/nas/docker/thesis/data/hdf/final_flat.h5\n",
      "x_flat shape: torch.Size([11698, 104]), num_nodes: 11698\n",
      "Graph data attributes: Data(edge_index=[2, 35094], edge_attr=[35094], num_nodes=11698, patient_ids=[11698], x=[11698, 104])\n"
     ]
    }
   ],
   "source": [
    "from torch_geometric.loader import NeighborLoader\n",
    "\n",
    "graph_dataset = GraphDataset(config)\n",
    "graph_data = graph_dataset.graph_data  \n",
    "graph_data.edge_index = graph_data.edge_index.contiguous()\n",
    "\n",
    "\n",
    "# 设定 `NeighborLoader` 进行采样\n",
    "graph_loader = NeighborLoader(\n",
    "    graph_data,\n",
    "    num_neighbors=[10, 10],  # 2-hop 采样，每层 10 个邻居\n",
    "    batch_size=32,\n",
    "    shuffle=True\n",
    ")\n",
    "\n",
    "print(\"Graph data attributes:\", graph_data)"
   ]
  },
  {
   "cell_type": "code",
   "execution_count": null,
   "metadata": {},
   "outputs": [],
   "source": []
  }
 ],
 "metadata": {
  "kernelspec": {
   "display_name": "eicu",
   "language": "python",
   "name": "python3"
  },
  "language_info": {
   "codemirror_mode": {
    "name": "ipython",
    "version": 3
   },
   "file_extension": ".py",
   "mimetype": "text/x-python",
   "name": "python",
   "nbconvert_exporter": "python",
   "pygments_lexer": "ipython3",
   "version": "3.10.14"
  }
 },
 "nbformat": 4,
 "nbformat_minor": 2
}
