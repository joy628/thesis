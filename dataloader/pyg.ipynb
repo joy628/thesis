{
 "cells": [
  {
   "cell_type": "code",
   "execution_count": 9,
   "metadata": {},
   "outputs": [],
   "source": [
    "import torch\n",
    "import os\n",
    "from torch_geometric.data import Data, InMemoryDataset\n",
    "from torch_geometric.loader import DataLoader \n",
    "from pathlib import Path\n",
    "import pandas as pd\n",
    "from torch_geometric.data import Batch\n",
    "from torch_geometric.loader import NeighborLoader"
   ]
  },
  {
   "cell_type": "code",
   "execution_count": 42,
   "metadata": {},
   "outputs": [],
   "source": [
    "class GraphDataset(InMemoryDataset):\n",
    "    \"\"\"\n",
    "    PyG dataset for patient graphs\n",
    "    \"\"\"\n",
    "    def __init__(self, config,transform=None, pre_transform=None):\n",
    "        super(GraphDataset, self).__init__(root=config[\"data_dir\"], transform=transform, pre_transform=pre_transform)\n",
    "\n",
    "        # === 1. Graph ===\n",
    "        graph_path = Path(config[\"graph_dir\"]) / f\"diagnosis_graph_{config['mode']}_k{config['k']}.pt\"\n",
    "        print(f\"==> Loading precomputed graph from {graph_path}\")\n",
    "        self.graph_data = torch.load(graph_path,weights_only=False)\n",
    "\n",
    "        # === 2. Extract edge_index and edge_attr ===\n",
    "        self.edge_index = self.graph_data.edge_index\n",
    "        self.edge_attr = self.graph_data.edge_attr\n",
    "        if isinstance(self.graph_data.patient_ids, torch.Tensor):\n",
    "            self.patient_ids = self.graph_data.patient_ids.numpy()\n",
    "        else:\n",
    "            self.patient_ids = self.graph_data.patient_ids\n",
    "        \n",
    "         # === 3️. Get Flat Features from LSTMDataset ===\n",
    "        \n",
    "        flat_path = Path(config[\"data_dir\"]) / \"final_flat.h5\"  \n",
    "        print(f\"==> Loading flat features from {flat_path}\")\n",
    "        flat_df = pd.read_hdf(flat_path)  # load flat 特征\n",
    "        flat_df = flat_df.set_index(\"patient\") \n",
    "        \n",
    "        \n",
    "         # === 4. Align Flat Features with Graph Patient IDs ===\n",
    "        self.patient_ids = [int(pid) for pid in self.patient_ids]\n",
    "        flat_df.index = flat_df.index.astype(int) \n",
    "        flat_df_aligned = flat_df.loc[self.patient_ids]\n",
    "        x_flat = torch.tensor(flat_df_aligned.values, dtype=torch.float)\n",
    "        \n",
    "        self.graph_data.x = x_flat\n",
    "        self.graph_data.num_nodes = x_flat.shape[0]\n",
    "        \n",
    "        # === 5. PyG `Data`  ===\n",
    "        self.graph_data.x = x_flat\n",
    "        self.graph_data.edge_index = self.graph_data.edge_index.contiguous()  # 确保连续\n",
    "        self.graph_data.num_nodes = x_flat.shape[0]\n",
    "        self.graph_data.patient_ids = torch.tensor(self.patient_ids, dtype=torch.long)\n",
    "\n",
    "    def __len__(self):\n",
    "        return 1  \n",
    "\n",
    "    def __getitem__(self, idx):\n",
    "        return self.graph_data\n",
    "\n"
   ]
  },
  {
   "cell_type": "code",
   "execution_count": 43,
   "metadata": {},
   "outputs": [],
   "source": [
    "config = {  \n",
    "    \"data_dir\": \"/home/mei/nas/docker/thesis/data/hdf\",\n",
    "    \"graph_dir\": \"/home/mei/nas/docker/thesis/data/graphs\",\n",
    "    \"mode\": \"k_closest\",\n",
    "    \"k\": 3\n",
    "          \n",
    "}"
   ]
  },
  {
   "cell_type": "code",
   "execution_count": 45,
   "metadata": {},
   "outputs": [
    {
     "name": "stdout",
     "output_type": "stream",
     "text": [
      "==> Loading precomputed graph from /home/mei/nas/docker/thesis/data/graphs/diagnosis_graph_k_closest_k3.pt\n",
      "==> Loading flat features from /home/mei/nas/docker/thesis/data/hdf/final_flat.h5\n",
      "Graph data: Data(edge_index=[2, 35094], edge_attr=[35094], num_nodes=11698, patient_ids=[11698], x=[11698, 104])\n",
      "Number of nodes in graph: 11698\n",
      "Number of edges in graph: 35094\n",
      "Batch x shape: torch.Size([11698, 104])\n",
      "Batch edge_index shape: torch.Size([2, 35094])\n",
      "Batch batch shape: torch.Size([11698])\n"
     ]
    }
   ],
   "source": [
    "graph_dataset = GraphDataset(config)\n",
    "\n",
    "# 检查图数据\n",
    "print(\"Graph data:\", graph_dataset.graph_data)\n",
    "print(f\"Number of nodes in graph: {graph_dataset.graph_data.num_nodes}\")\n",
    "print(f\"Number of edges in graph: {graph_dataset.graph_data.edge_index.size(1)}\")\n",
    "\n",
    "# 使用 DataLoader 将整张图输入模型\n",
    "loader = DataLoader(graph_dataset, batch_size=1, shuffle=False)\n",
    "\n",
    "# 遍历一个 batch\n",
    "for batch in loader:\n",
    "    print(\"Batch x shape:\", batch.x.shape)             # 节点特征形状\n",
    "    print(\"Batch edge_index shape:\", batch.edge_index.shape)\n",
    "    # 如果 batch 对象中有 batch 属性\n",
    "    if hasattr(batch, 'batch') and batch.batch is not None:\n",
    "        print(\"Batch batch shape:\", batch.batch.shape)\n",
    "    break"
   ]
  }
 ],
 "metadata": {
  "kernelspec": {
   "display_name": "eicu",
   "language": "python",
   "name": "python3"
  },
  "language_info": {
   "codemirror_mode": {
    "name": "ipython",
    "version": 3
   },
   "file_extension": ".py",
   "mimetype": "text/x-python",
   "name": "python",
   "nbconvert_exporter": "python",
   "pygments_lexer": "ipython3",
   "version": "3.10.14"
  }
 },
 "nbformat": 4,
 "nbformat_minor": 2
}
