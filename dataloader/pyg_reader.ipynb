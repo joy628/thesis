{
 "cells": [
  {
   "cell_type": "code",
   "execution_count": 20,
   "metadata": {},
   "outputs": [],
   "source": [
    "import os\n",
    "import numpy as np\n",
    "import torch\n",
    "from torch_geometric.loader import DataLoader\n",
    "from torch_geometric.data import Data, InMemoryDataset\n",
    "from pathlib import Path\n",
    "from ts_reader import collect_ts_flat_labels, get_class_weights"
   ]
  },
  {
   "cell_type": "code",
   "execution_count": 17,
   "metadata": {},
   "outputs": [],
   "source": [
    "class GraphDataset(InMemoryDataset):\n",
    "    \"\"\"\n",
    "    PyG dataset for patient graphs (Load precomputed graphs from .pt files).\n",
    "    \"\"\"\n",
    "    def __init__(self, config, transform=None, pre_transform=None):\n",
    "        super(GraphDataset, self).__init__(root=config[\"data_dir\"], transform=transform, pre_transform=pre_transform)\n",
    "\n",
    "        # === 1.load the saved graph ===\n",
    "        graph_path = Path(config[\"graph_dir\"]) / f\"diagnosis_graph_{config['mode']}_k{config['k']}.pt\"\n",
    "        print(f\"==> Loading precomputed graph from {graph_path}\")\n",
    "        self.graph_data = torch.load(graph_path,weights_only=False)\n",
    "\n",
    "        # === 2. read the seq, falt, label ===\n",
    "        seq, flat, labels, info, N, _, _ = collect_ts_flat_labels(\n",
    "            config[\"data_dir\"], config[\"ts_mask\"], config[\"task\"], config[\"add_diag\"], debug=config[\"debug\"]\n",
    "        )\n",
    "        self.info = info\n",
    "\n",
    "        # === 3. process edge attr ===\n",
    "        x = torch.tensor(seq, dtype=torch.float)  # 时间序列数据\n",
    "        flat = torch.tensor(flat, dtype=torch.float)  # 静态特征\n",
    "        y = torch.tensor(labels, dtype=torch.long if config[\"task\"] == \"ihm\" else torch.float)  # 目标标签\n",
    "\n",
    "        # === load `edge_index` and `edge_attr` ===\n",
    "        edge_index = self.graph_data.edge_index\n",
    "        edge_attr = self.graph_data.edge_attr\n",
    "\n",
    "        # === generate PyG `Data` 对象 ===\n",
    "        data = Data(x=x, edge_index=edge_index, y=y, flat=flat, edge_attr=edge_attr, **define_masks(N))\n",
    "\n",
    "        self.data = data\n",
    "        \n",
    "        self.class_weights = get_class_weights(labels) if config[\"task\"] == \"ihm\" else None\n",
    "\n",
    "    def __repr__(self):\n",
    "        return f\"GraphDataset(num_nodes={self.data.num_nodes}, num_edges={self.data.num_edges})\"\n",
    "\n",
    "\n",
    "# === output train/val/test masks ===\n",
    "def define_masks(N, train_ratio=0.7, val_ratio=0.15):\n",
    "    \"\"\"\n",
    "    Create PyG node masks for train/val/test split.\n",
    "    \"\"\"\n",
    "    train_n = int(N * train_ratio)\n",
    "    val_n = int(N * val_ratio)\n",
    "    idx_train = range(train_n)\n",
    "    idx_val = range(train_n, train_n + val_n)\n",
    "    idx_test = range(train_n + val_n, N)\n",
    "\n",
    "    masks = {\n",
    "        \"train_mask\": torch.zeros(N, dtype=torch.bool),\n",
    "        \"val_mask\": torch.zeros(N, dtype=torch.bool),\n",
    "        \"test_mask\": torch.zeros(N, dtype=torch.bool),\n",
    "    }\n",
    "    masks[\"train_mask\"][list(idx_train)] = True\n",
    "    masks[\"val_mask\"][list(idx_val)] = True\n",
    "    masks[\"test_mask\"][list(idx_test)] = True\n",
    "\n",
    "    return masks\n",
    "\n",
    "# ===generate DataLoader ===\n",
    "def get_dataloader(config, batch_size=32, shuffle=True):\n",
    "    \"\"\"\n",
    "    Create PyG dataloader for training.\n",
    "    \"\"\"\n",
    "    dataset = GraphDataset(config)\n",
    "    return DataLoader(dataset, batch_size=batch_size, shuffle=shuffle)\n"
   ]
  },
  {
   "cell_type": "code",
   "execution_count": null,
   "metadata": {},
   "outputs": [],
   "source": [
    "config = {\n",
    "    \"data_dir\": \"/home/mei/nas/docker/thesis/data/mmap\",  # mmap 存储路径\n",
    "    \"graph_dir\": \"/home/mei/nas/docker/thesis/data/graphs\",  # 你的 `.pt` 图存储路径\n",
    "    \"mode\": \"k_closest\",\n",
    "    \"k\": 3,\n",
    "    \"ts_mask\": True,\n",
    "    \"task\": \"ihm\",\n",
    "    \"add_diag\": False,\n",
    "    \"debug\": False\n",
    "}\n",
    "\n"
   ]
  },
  {
   "cell_type": "code",
   "execution_count": 63,
   "metadata": {},
   "outputs": [
    {
     "name": "stdout",
     "output_type": "stream",
     "text": [
      "==> Loading precomputed graph from /home/mei/nas/docker/thesis/data/graphs/diagnosis_graph_k_closest_k3.pt\n",
      "DataBatch(x=[9451, 290, 115], edge_index=[2, 28353], edge_attr=[28353], y=[9451], flat=[9451, 104], train_mask=[9451], val_mask=[9451], test_mask=[9451], batch=[9451], ptr=[2])\n"
     ]
    }
   ],
   "source": [
    "train_loader = get_dataloader(config, batch_size=64)\n",
    "\n",
    "for batch in train_loader:\n",
    "    print(batch)"
   ]
  },
  {
   "cell_type": "code",
   "execution_count": 27,
   "metadata": {},
   "outputs": [
    {
     "name": "stdout",
     "output_type": "stream",
     "text": [
      "==> Loading precomputed graph from /home/mei/nas/docker/thesis/data/graphs/diagnosis_graph_k_closest_k3.pt\n",
      "GraphDataset(num_nodes=9451, num_edges=28353)\n"
     ]
    }
   ],
   "source": [
    "dataset = GraphDataset(config)\n",
    "print(dataset)"
   ]
  },
  {
   "cell_type": "code",
   "execution_count": 62,
   "metadata": {},
   "outputs": [],
   "source": [
    "from torch_geometric.loader import NeighborLoader"
   ]
  },
  {
   "cell_type": "code",
   "execution_count": null,
   "metadata": {},
   "outputs": [],
   "source": [
    "\n",
    "train_loader = NeighborLoader(\n",
    "    dataset.data,  # 这里的 dataset.data 是完整的 PyG Data\n",
    "    num_neighbors=[10, 10],  # 每层邻居采样数\n",
    "    batch_size=64,  # mini-batch 大小\n",
    "    input_nodes=dataset.data.train_mask,  # 仅从 train_mask 选取数据\n",
    "    shuffle=True,\n",
    ")\n",
    "\n",
    "for batch in train_loader:\n",
    "    print(batch)\n",
    "    break "
   ]
  },
  {
   "cell_type": "code",
   "execution_count": null,
   "metadata": {},
   "outputs": [],
   "source": []
  }
 ],
 "metadata": {
  "kernelspec": {
   "display_name": "eicu",
   "language": "python",
   "name": "python3"
  },
  "language_info": {
   "codemirror_mode": {
    "name": "ipython",
    "version": 3
   },
   "file_extension": ".py",
   "mimetype": "text/x-python",
   "name": "python",
   "nbconvert_exporter": "python",
   "pygments_lexer": "ipython3",
   "version": "3.10.14"
  }
 },
 "nbformat": 4,
 "nbformat_minor": 2
}
