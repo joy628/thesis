{
 "cells": [
  {
   "cell_type": "code",
   "execution_count": 2,
   "metadata": {},
   "outputs": [],
   "source": [
    "\"\"\"\n",
    "Dataloaders for lstm_only model\n",
    "\"\"\"\n",
    "import os\n",
    "import numpy as np\n",
    "import torch\n",
    "import pandas as pd\n",
    "from torch.utils.data import Dataset, DataLoader\n",
    "from torch.nn.utils.rnn import pad_sequence \n"
   ]
  },
  {
   "cell_type": "code",
   "execution_count": 20,
   "metadata": {},
   "outputs": [],
   "source": [
    "class LSTMDataset(Dataset):\n",
    "    \"\"\"\n",
    "    PyTorch Dataset for loading time series, labels, and flat features from HDF5 files.\n",
    "    \"\"\"\n",
    "    def __init__(self, data_dir):\n",
    "        \"\"\"\n",
    "        Args:\n",
    "        - data_dir (str): Path to the dataset directory (e.g., 'train', 'val', 'test')\n",
    "        \"\"\"\n",
    "        self.data_dir = data_dir\n",
    "        stays_path = os.path.join(data_dir, \"stays.txt\")\n",
    "        self.patients = pd.read_csv(stays_path, header=None)[0].tolist()   \n",
    "        \n",
    "\n",
    "    def __len__(self):\n",
    "        return len(self.patients)\n",
    "\n",
    "    def __getitem__(self,idx):\n",
    "        \n",
    "        patient_id = self.patients[idx]\n",
    " \n",
    "        # **load time series**\n",
    "        with pd.HDFStore(os.path.join(self.data_dir, \"timeseries.h5\")) as store:\n",
    "            timeseries = store.get(\"/table\").loc[patient_id] \n",
    "            ts_len = len(timeseries) \n",
    "            timeseries = torch.tensor(timeseries.values, dtype=torch.float)\n",
    "\n",
    "        # ** flat features**\n",
    "        with pd.HDFStore(os.path.join(self.data_dir, \"flat.h5\")) as store:\n",
    "            flat = store.get(\"/table\").loc[patient_id].values \n",
    "            flat = torch.tensor(flat, dtype=torch.float)\n",
    "\n",
    "        # ** labels**\n",
    "        with pd.HDFStore(os.path.join(self.data_dir, \"labels.h5\")) as store:\n",
    "            label = store.get(\"/table\").loc[patient_id, \"unitdischargestatus\"] \n",
    "            label = torch.tensor(label, dtype=torch.long)\n",
    "\n",
    "        return timeseries, flat, label, ts_len, patient_id\n",
    "\n",
    "\n",
    "def collate_fn(batch):\n",
    "    \"\"\"Dynamic padding for batch processing.\"\"\"\n",
    "    seqs, flats, labels, ts_lens,ids = zip(*batch)\n",
    "\n",
    "    seq_lengths = torch.tensor(ts_lens, dtype=torch.long)\n",
    "\n",
    "    seqs_padded = pad_sequence(seqs, batch_first=True, padding_value=-9999)   # pad with -1\n",
    "\n",
    "    flats = torch.stack(flats).float()\n",
    "    labels = torch.tensor(labels).long()\n",
    "    ids = torch.tensor(ids).long()\n",
    "\n",
    "    return (seqs_padded, flats), labels, ids \n"
   ]
  },
  {
   "cell_type": "code",
   "execution_count": 19,
   "metadata": {},
   "outputs": [
    {
     "name": "stdout",
     "output_type": "stream",
     "text": [
      "torch.Size([32, 3914, 163]) tensor([ 898, 1420, 1521,  490,  412,  436,  739, 2511, 2051,  890,  933, 3914,\n",
      "         720,  287,  751, 1066, 1229, 1380, 1277,  501,  515,  924, 1081,  839,\n",
      "        1235, 3448, 2960,  602, 1207, 2377, 3017, 2165]) torch.Size([32, 104]) torch.Size([32]) torch.Size([32])\n"
     ]
    }
   ],
   "source": [
    "from torch.utils.data import DataLoader\n",
    "\n",
    "data_dir = \"/home/mei/nas/docker/thesis/data/hdf/train\"\n",
    "dataset = LSTMDataset(data_dir)\n",
    "\n",
    "train_loader = DataLoader(dataset, batch_size=32, shuffle=False, collate_fn=collate_fn)\n",
    "\n",
    "for batch in train_loader:\n",
    "    (seqs_padded, seq_lengths, flats), labels, ids = batch\n",
    "    print(seqs_padded.shape, seq_lengths, flats.shape, labels.shape, ids.shape)\n",
    "    break"
   ]
  }
 ],
 "metadata": {
  "kernelspec": {
   "display_name": "eicu",
   "language": "python",
   "name": "python3"
  },
  "language_info": {
   "codemirror_mode": {
    "name": "ipython",
    "version": 3
   },
   "file_extension": ".py",
   "mimetype": "text/x-python",
   "name": "python",
   "nbconvert_exporter": "python",
   "pygments_lexer": "ipython3",
   "version": "3.10.14"
  }
 },
 "nbformat": 4,
 "nbformat_minor": 2
}
