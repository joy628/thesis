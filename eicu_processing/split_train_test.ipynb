{
 "cells": [
  {
   "cell_type": "code",
   "execution_count": 1,
   "metadata": {},
   "outputs": [],
   "source": [
    "from sklearn.model_selection import train_test_split\n",
    "from sklearn.utils import shuffle\n",
    "import pandas as pd\n",
    "import os\n",
    "import argparse"
   ]
  },
  {
   "cell_type": "code",
   "execution_count": 2,
   "metadata": {},
   "outputs": [],
   "source": [
    "csv= '/home/mei/nas/docker/thesis/data/csv/'"
   ]
  },
  {
   "cell_type": "code",
   "execution_count": 3,
   "metadata": {},
   "outputs": [],
   "source": [
    "def create_folder(parent_path, folder): # create folder if not exist\n",
    "    folder_path = os.path.join(parent_path, folder)\n",
    "    os.makedirs(folder_path, exist_ok=True)\n",
    "    return folder_path"
   ]
  },
  {
   "cell_type": "code",
   "execution_count": 4,
   "metadata": {},
   "outputs": [],
   "source": [
    "def shuffle_stays(stays, seed=9): # shuffle stays\n",
    "    return shuffle(stays, random_state=seed)"
   ]
  },
  {
   "cell_type": "code",
   "execution_count": 5,
   "metadata": {},
   "outputs": [],
   "source": [
    "def process_table(table_name, table, stays, folder_path):\n",
    "    table = table.loc[stays].copy()\n",
    "    file_path = os.path.join(folder_path, f'{table_name}.csv')\n",
    "    table.to_csv(file_path)\n",
    "    return table"
   ]
  },
  {
   "cell_type": "code",
   "execution_count": 6,
   "metadata": {},
   "outputs": [],
   "source": [
    "def split_train_test(eICU_path, is_test=True, seed=9):\n",
    "    \n",
    "    labels = pd.read_csv(os.path.join(eICU_path, 'final_labels.csv')).set_index('patient')\n",
    "\n",
    "    # Split data into train, validation, and test sets\n",
    "    train, test = train_test_split(labels.index, test_size=0.15, random_state=seed)\n",
    "    train, val = train_test_split(train, test_size=0.15/0.85, random_state=seed)\n",
    "\n",
    "    print('==> Loading data for splitting...')\n",
    "    # Load datasets\n",
    "    timeseries = pd.read_csv(os.path.join(eICU_path, 'final_timeseries.csv'), nrows=999999 if is_test else None).set_index('patient')\n",
    "    diagnoses = pd.read_csv(os.path.join(eICU_path, 'final_diagnoses.csv')).set_index('patient')\n",
    "    flat_features = pd.read_csv(os.path.join(eICU_path, 'final_flat_drug.csv')).set_index('patient')\n",
    "\n",
    "    \n",
    "    # timeseries = timeseries.loc[timeseries.index.isin(flat_features.index)]\n",
    "    # diagnoses = diagnoses.loc[diagnoses.index.isin(flat_features.index)]\n",
    "\n",
    "    # Process and save partitions\n",
    "    for partition_name, partition in zip(['train', 'val', 'test'], [train, val, test]):\n",
    "        print(f'==> Preparing {partition_name} data...')\n",
    "        folder_path = create_folder(eICU_path, partition_name)\n",
    "        stays = shuffle_stays(partition, seed=seed)\n",
    "        stays_path = os.path.join(folder_path, 'stays.txt')\n",
    "\n",
    "        with open(stays_path, 'w') as f:\n",
    "            for stay in stays:\n",
    "                f.write(f\"{stay}\\n\")\n",
    "\n",
    "        for table_name, table in zip(['labels', 'flat', 'diagnoses', 'timeseries'], [labels, flat_features, diagnoses, timeseries]):\n",
    "            process_table(table_name, table, stays, folder_path)\n",
    " \n",
    "    print(\"\\n==== Dataset Sizes ====\")\n",
    "    for partition_name, partition in zip(['train', 'val', 'test'], [train, val, test]):\n",
    "        print(f\"**{partition_name} set:**\")\n",
    "        print(f\"- Labels: {labels.loc[labels.index.isin(partition)].shape[0]}\")\n",
    "        print(f\"- Flat Features: {flat_features.loc[flat_features.index.isin(partition)].shape[0]}\")\n",
    "        print(f\"- Diagnoses: {diagnoses.loc[diagnoses.index.isin(partition)].shape[0]}\")\n",
    "        print(f\"- Time Series: {timeseries.loc[timeseries.index.isin(partition)].shape[0]}\\n\")\n",
    "  \n",
    "    print('==> Splitting complete!')\n",
    "    return"
   ]
  },
  {
   "cell_type": "code",
   "execution_count": 7,
   "metadata": {},
   "outputs": [
    {
     "name": "stdout",
     "output_type": "stream",
     "text": [
      "==> Loading data for splitting...\n",
      "==> Preparing train data...\n",
      "==> Preparing val data...\n",
      "==> Preparing test data...\n",
      "\n",
      "==== Dataset Sizes ====\n",
      "**train set:**\n",
      "- Labels: 7015\n",
      "- Flat Features: 7015\n",
      "- Diagnoses: 7015\n",
      "- Time Series: 168360\n",
      "\n",
      "**val set:**\n",
      "- Labels: 1504\n",
      "- Flat Features: 1504\n",
      "- Diagnoses: 1504\n",
      "- Time Series: 36096\n",
      "\n",
      "**test set:**\n",
      "- Labels: 1504\n",
      "- Flat Features: 1504\n",
      "- Diagnoses: 1504\n",
      "- Time Series: 36096\n",
      "\n",
      "==> Splitting complete!\n"
     ]
    }
   ],
   "source": [
    "split_train_test(csv, is_test=False)"
   ]
  }
 ],
 "metadata": {
  "kernelspec": {
   "display_name": "eicu",
   "language": "python",
   "name": "python3"
  },
  "language_info": {
   "codemirror_mode": {
    "name": "ipython",
    "version": 3
   },
   "file_extension": ".py",
   "mimetype": "text/x-python",
   "name": "python",
   "nbconvert_exporter": "python",
   "pygments_lexer": "ipython3",
   "version": "3.10.14"
  }
 },
 "nbformat": 4,
 "nbformat_minor": 2
}
