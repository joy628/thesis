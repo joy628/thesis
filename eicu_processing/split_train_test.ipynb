{
 "cells": [
  {
   "cell_type": "code",
   "execution_count": 1,
   "metadata": {},
   "outputs": [],
   "source": [
    "from sklearn.model_selection import train_test_split\n",
    "from sklearn.utils import shuffle\n",
    "import pandas as pd\n",
    "import os"
   ]
  },
  {
   "cell_type": "code",
   "execution_count": 2,
   "metadata": {},
   "outputs": [],
   "source": [
    "hdf= '/home/mei/nas/docker/thesis/data/hdf/'"
   ]
  },
  {
   "cell_type": "code",
   "execution_count": 3,
   "metadata": {},
   "outputs": [],
   "source": [
    "def create_folder(base_path, partition_name):\n",
    "    folder_path = os.path.join(base_path, partition_name)\n",
    "    if not os.path.exists(folder_path):\n",
    "        os.makedirs(folder_path)\n",
    "    return folder_path"
   ]
  },
  {
   "cell_type": "code",
   "execution_count": 9,
   "metadata": {},
   "outputs": [],
   "source": [
    "def shuffle_stays(stays, seed=9): # shuffle stays\n",
    "    return shuffle(stays, random_state=seed)"
   ]
  },
  {
   "cell_type": "code",
   "execution_count": 5,
   "metadata": {},
   "outputs": [],
   "source": [
    "def process_table(table_name, table, stays, folder_path):\n",
    "    partition_table = table.loc[table.index.isin(stays)]\n",
    "    partition_table.to_hdf(os.path.join(folder_path, f'{table_name}.h5'), key='df', mode='w')"
   ]
  },
  {
   "cell_type": "code",
   "execution_count": 6,
   "metadata": {},
   "outputs": [],
   "source": [
    "risks = pd.read_hdf(os.path.join(hdf, 'final_risk_scores.h5')).set_index('patient')\n",
    "timeseries = pd.read_hdf(os.path.join(hdf, 'final_timeseries.h5')).reset_index().set_index('patient')\n",
    "diagnoses = pd.read_hdf(os.path.join(hdf, 'final_diagnoses.h5')).set_index('patient')\n",
    "flat_features = pd.read_hdf(os.path.join(hdf, 'final_flat.h5')).set_index('patient')"
   ]
  },
  {
   "cell_type": "code",
   "execution_count": 12,
   "metadata": {},
   "outputs": [],
   "source": [
    "def split_train_test(eICU_path, risks,timeseries,diagnoses,flat_features, seed=9):\n",
    "\n",
    "    # Split data into train, validation, and test sets\n",
    "    train, test = train_test_split(flat_features.index, test_size=0.15, random_state=seed)\n",
    "    train, val = train_test_split(train, test_size=0.15/0.85, random_state=seed)\n",
    "\n",
    "    print('==> Loading data for splitting...')\n",
    "    # Load datasets\n",
    "\n",
    "\n",
    "    # Process and save partitions\n",
    "    for partition_name, partition in zip(['train', 'val', 'test'], [train, val, test]):\n",
    "        print(f'==> Preparing {partition_name} data...')\n",
    "        folder_path = create_folder(eICU_path, partition_name)\n",
    "        stays = shuffle_stays(partition, seed=seed)\n",
    "        stays_path = os.path.join(folder_path, 'stays.txt')\n",
    "         \n",
    "        with open(stays_path, 'w') as f:\n",
    "            for stay in stays:\n",
    "                f.write(f\"{stay}\\n\")\n",
    "        for table_name, table in zip(['risks', 'flat', 'diagnoses', 'timeseries'], [risks, flat_features, diagnoses, timeseries]):\n",
    "            process_table(table_name, table, stays, folder_path)\n",
    "        print(f'==> {partition_name} data saved!\\n')\n",
    "        \n",
    "    print(\"\\n==== Dataset Sizes ====\")\n",
    "    for partition_name, partition in zip(['train', 'val', 'test'], [train, val, test]):\n",
    "        print(f\"**{partition_name} set:**\")\n",
    "        print(f\"- Labels: {risks.loc[risks.index.isin(partition)].shape}\")\n",
    "        print(f\"- Flat Features: {flat_features.loc[flat_features.index.isin(partition)].shape}\")\n",
    "        print(f\"- Diagnoses: {diagnoses.loc[diagnoses.index.isin(partition)].shape}\")\n",
    "        print(f\"- Time Series: {timeseries.loc[timeseries.index.isin(partition)].shape}\\n\")\n",
    "  \n",
    "    print('==> Splitting complete!')\n",
    "    return"
   ]
  },
  {
   "cell_type": "code",
   "execution_count": 13,
   "metadata": {},
   "outputs": [
    {
     "name": "stdout",
     "output_type": "stream",
     "text": [
      "==> Loading data for splitting...\n",
      "==> Preparing train data...\n",
      "==> train data saved!\n",
      "\n",
      "==> Preparing val data...\n",
      "==> val data saved!\n",
      "\n",
      "==> Preparing test data...\n",
      "==> test data saved!\n",
      "\n",
      "\n",
      "==== Dataset Sizes ====\n",
      "**train set:**\n",
      "- Labels: (12649957, 3)\n",
      "- Flat Features: (8188, 104)\n",
      "- Diagnoses: (8188, 124)\n",
      "- Time Series: (12649957, 163)\n",
      "\n",
      "**val set:**\n",
      "- Labels: (2724855, 3)\n",
      "- Flat Features: (1755, 104)\n",
      "- Diagnoses: (1755, 124)\n",
      "- Time Series: (2724855, 163)\n",
      "\n",
      "**test set:**\n",
      "- Labels: (2719329, 3)\n",
      "- Flat Features: (1755, 104)\n",
      "- Diagnoses: (1755, 124)\n",
      "- Time Series: (2719329, 163)\n",
      "\n",
      "==> Splitting complete!\n"
     ]
    }
   ],
   "source": [
    "split_train_test(hdf, risks, timeseries, diagnoses, flat_features)"
   ]
  },
  {
   "cell_type": "code",
   "execution_count": null,
   "metadata": {},
   "outputs": [],
   "source": []
  }
 ],
 "metadata": {
  "kernelspec": {
   "display_name": "eicu",
   "language": "python",
   "name": "python3"
  },
  "language_info": {
   "codemirror_mode": {
    "name": "ipython",
    "version": 3
   },
   "file_extension": ".py",
   "mimetype": "text/x-python",
   "name": "python",
   "nbconvert_exporter": "python",
   "pygments_lexer": "ipython3",
   "version": "3.10.14"
  }
 },
 "nbformat": 4,
 "nbformat_minor": 2
}
