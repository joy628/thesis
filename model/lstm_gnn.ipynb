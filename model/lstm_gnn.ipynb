{
 "cells": [
  {
   "cell_type": "code",
   "execution_count": 30,
   "metadata": {},
   "outputs": [],
   "source": [
    "import torch\n",
    "import torch.nn as nn\n",
    "import torch.nn.functional as F\n",
    "from torch.utils.data import DataLoader\n",
    "from torch_geometric.data import Data\n",
    "from torch_geometric.nn import GCNConv\n",
    "import pandas as pd\n",
    "from torch_geometric.nn import BatchNorm\n",
    "import matplotlib.pyplot as plt\n"
   ]
  },
  {
   "cell_type": "code",
   "execution_count": 2,
   "metadata": {},
   "outputs": [],
   "source": [
    "import os\n",
    "os.environ['CUDA_LAUNCH_BLOCKING'] = \"1\""
   ]
  },
  {
   "cell_type": "code",
   "execution_count": 3,
   "metadata": {},
   "outputs": [],
   "source": [
    "import sys\n",
    "sys.path.append('/home/mei/nas/docker/thesis')\n",
    "from dataloader.ts_reader import MultiModalDataset, collate_fn\n",
    "from dataloader.pyg_reader import GraphDataset,graph_loader"
   ]
  },
  {
   "cell_type": "code",
   "execution_count": 4,
   "metadata": {},
   "outputs": [],
   "source": [
    "class FlatFeatureEncoder(nn.Module):\n",
    "    def __init__(self, input_dim, hidden_dim):\n",
    "        super(FlatFeatureEncoder, self).__init__()\n",
    "        self.fc = nn.Linear(input_dim, hidden_dim)\n",
    "\n",
    "    def forward(self, x):\n",
    "        return F.relu(self.fc(x))"
   ]
  },
  {
   "cell_type": "code",
   "execution_count": 23,
   "metadata": {},
   "outputs": [],
   "source": [
    "class GraphEncoder(nn.Module):\n",
    "    def __init__(self, input_dim, hidden_dim):\n",
    "        super(GraphEncoder, self).__init__()\n",
    "        self.gcn1 = GCNConv(input_dim, hidden_dim)\n",
    "        self.gcn2 = GCNConv(hidden_dim, hidden_dim)\n",
    "        self.bn1 = BatchNorm(hidden_dim)\n",
    "        self.dropout = nn.Dropout(0.5)\n",
    "\n",
    "    def forward(self, x, edge_index):\n",
    "        x = F.relu(self.bn1(self.gcn1(x, edge_index)))\n",
    "        x = self.dropout(x)\n",
    "        x = self.gcn2(x, edge_index)\n",
    "        return x    # shape = (num_nodes, hidden_dim)"
   ]
  },
  {
   "cell_type": "code",
   "execution_count": 6,
   "metadata": {},
   "outputs": [],
   "source": [
    "class TimeSeriesEncoder(nn.Module):\n",
    "    def __init__(self, input_dim, hidden_dim):\n",
    "        super(TimeSeriesEncoder, self).__init__()\n",
    "        self.lstm = nn.LSTM(input_dim, hidden_dim, batch_first=True, bidirectional=True)\n",
    "\n",
    "    def forward(self, x):\n",
    "        out, _ = self.lstm(x)\n",
    "        return out  "
   ]
  },
  {
   "cell_type": "code",
   "execution_count": 16,
   "metadata": {},
   "outputs": [],
   "source": [
    "class RiskPredictor(nn.Module):\n",
    "    def __init__(self, flat_dim, graph_dim, ts_dim, hidden_dim):\n",
    "        super(RiskPredictor, self).__init__()\n",
    "        self.fc1 = nn.Linear(flat_dim + graph_dim + ts_dim, hidden_dim)\n",
    "        self.fc2 = nn.Linear(hidden_dim, 1)\n",
    "\n",
    "    def forward(self, flat_emb, graph_emb, ts_emb):\n",
    "        # Expand flat and graph embeddings to match time steps\n",
    "        flat_emb_expanded = flat_emb.unsqueeze(1).expand(-1, ts_emb.size(1), -1)\n",
    "        graph_emb_expanded = graph_emb.unsqueeze(1).expand(-1, ts_emb.size(1), -1)\n",
    "        \n",
    "        combined = torch.cat((flat_emb_expanded, graph_emb_expanded, ts_emb), dim=2)\n",
    "        x = F.relu(self.fc1(combined))\n",
    "        risk_score = torch.sigmoid(self.fc2(x)).squeeze(-1)  # Output shape: (batch_size, time_steps)\n",
    "        return risk_score"
   ]
  },
  {
   "cell_type": "code",
   "execution_count": 28,
   "metadata": {},
   "outputs": [],
   "source": [
    "class PatientOutcomeModel(nn.Module):\n",
    "    def __init__(self, flat_input_dim, graph_input_dim, ts_input_dim, hidden_dim):\n",
    "        super(PatientOutcomeModel, self).__init__()\n",
    "        self.flat_encoder = nn.Linear(flat_input_dim, hidden_dim)  # Flat features encoder\n",
    "        self.graph_encoder = GraphEncoder(graph_input_dim, hidden_dim)  # Graph GCN Encoder\n",
    "        self.ts_encoder = TimeSeriesEncoder(ts_input_dim, hidden_dim)  # LSTM for Time-Series\n",
    "        self.risk_predictor = RiskPredictor(hidden_dim, hidden_dim, hidden_dim * 2, hidden_dim)\n",
    "\n",
    "    def forward(self, flat_data, graph_data, patient_ids, ts_data):\n",
    "        \"\"\"\n",
    "        - flat_data:     (batch_size, D_flat)\n",
    "        - graph_data:    (N_nodes, D_graph), edge_index\n",
    "        - patient_ids:   (batch_size,)  -> 用于从 graph_data 里提取对应的节点\n",
    "        - ts_data:       (batch_size, T, D_ts)\n",
    "        \"\"\"\n",
    "        device = flat_data.device  # 统一所有 tensor 到这个 device\n",
    "        edge_index = graph_data.edge_index.to(device)\n",
    "        graph_x = graph_data.x.to(device)\n",
    "        patient_ids = patient_ids.to(device)\n",
    "\n",
    "        # === 计算整个图的 Graph Embeddings ===\n",
    "        node_embeddings = self.graph_encoder(graph_x, edge_index)  # (N_nodes, D_graph)\n",
    "\n",
    "        # === 确保 `graph_data.patient_ids` 也在相同设备上 ===\n",
    "        graph_patient_ids = graph_data.patient_ids.to(device)  # ✅ 将 patient_ids 转移到 GPU\n",
    "\n",
    "        # === 提取当前 batch 对应的 Graph Embeddings ===\n",
    "        batch_indices = torch.tensor([torch.where(graph_patient_ids == pid)[0][0] for pid in patient_ids], dtype=torch.long, device=device)\n",
    "        batch_graph_embeddings = node_embeddings[batch_indices]  # (batch_size, D_graph)\n",
    "\n",
    "        # === 计算 Flat Embeddings ===\n",
    "        flat_emb = self.flat_encoder(flat_data)  # (batch_size, D_flat)\n",
    "\n",
    "        # === 计算 Time-Series Embeddings ===\n",
    "        ts_emb = self.ts_encoder(ts_data)  # (batch_size, T, D_ts)\n",
    "\n",
    "        # === 计算 Risk Scores ===\n",
    "        risk_scores = self.risk_predictor(flat_emb, batch_graph_embeddings, ts_emb)\n",
    "\n",
    "        return risk_scores\n",
    "\n"
   ]
  },
  {
   "cell_type": "code",
   "execution_count": 9,
   "metadata": {},
   "outputs": [],
   "source": [
    "flat_input_dim = 104\n",
    "graph_input_dim = 104\n",
    "ts_input_dim = 162\n",
    "hidden_dim = 128"
   ]
  },
  {
   "cell_type": "code",
   "execution_count": 10,
   "metadata": {},
   "outputs": [],
   "source": [
    "train_data_dir = \"/home/mei/nas/docker/thesis/data/hdf/train\"\n",
    "val_data_dir = \"/home/mei/nas/docker/thesis/data/hdf/val\"\n",
    "test_data_dir = \"/home/mei/nas/docker/thesis/data/hdf/test\"\n",
    "\n",
    "config = {  \n",
    "    \"data_dir\": \"/home/mei/nas/docker/thesis/data/hdf\",\n",
    "    \"graph_dir\": \"/home/mei/nas/docker/thesis/data/graphs\",\n",
    "    \"mode\": \"k_closest\",\n",
    "    \"k\": 3         \n",
    "}"
   ]
  },
  {
   "cell_type": "code",
   "execution_count": 11,
   "metadata": {},
   "outputs": [
    {
     "name": "stdout",
     "output_type": "stream",
     "text": [
      "==> Loading precomputed graph from /home/mei/nas/docker/thesis/data/graphs/diagnosis_graph_k_closest_k3.pt\n",
      "==> Loading flat features from /home/mei/nas/docker/thesis/data/hdf/final_flat.h5\n"
     ]
    }
   ],
   "source": [
    "# === LSTM + Flat Dataset ===\n",
    "lstm_dataset_train = MultiModalDataset(train_data_dir)\n",
    "lstm_dataset_val = MultiModalDataset(val_data_dir)\n",
    "lstm_dataset_test = MultiModalDataset(test_data_dir)\n",
    "\n",
    "lstm_loader_train = DataLoader(lstm_dataset_train , batch_size=32, shuffle=True, collate_fn=collate_fn)\n",
    "lstm_loader_val = DataLoader(lstm_dataset_val , batch_size=32, shuffle=False, collate_fn=collate_fn)\n",
    "lstm_loader_test = DataLoader(lstm_dataset_test , batch_size=32, shuffle=False, collate_fn=collate_fn)\n",
    "\n",
    "# === Graph Dataset ===\n",
    "\n",
    "graph_dataset = GraphDataset(config)\n"
   ]
  },
  {
   "cell_type": "code",
   "execution_count": 25,
   "metadata": {},
   "outputs": [],
   "source": [
    "def evaluate_model(model, lstm_loader, graph_dataset, criterion, device):\n",
    "    model.eval()\n",
    "    val_loss = 0.0\n",
    "\n",
    "    with torch.no_grad():\n",
    "        for patient_ids, ts_data, flat_data, risk_data in lstm_loader:\n",
    "            ts_data, flat_data, risk_data = ts_data.to(device), flat_data.to(device), risk_data.to(device)\n",
    "\n",
    "            # **获取 Graph Embeddings**\n",
    "            patient_ids_tensor = torch.tensor([int(pid) for pid in patient_ids], dtype=torch.long, device=device)\n",
    "            outputs = model(flat_data, graph_dataset.graph_data, patient_ids_tensor, ts_data)\n",
    "\n",
    "            ts_mask = ts_data != -99\n",
    "            ts_mask = ts_mask.any(dim=2)\n",
    "            risk_mask = risk_data != -99\n",
    "            combined_mask = ts_mask & risk_mask\n",
    "\n",
    "            masked_outputs = outputs[combined_mask]\n",
    "            masked_risk_data = risk_data[combined_mask]\n",
    "\n",
    "            loss = criterion(masked_outputs, masked_risk_data)\n",
    "            val_loss += loss.item()\n",
    "\n",
    "    return val_loss / len(lstm_loader)\n"
   ]
  },
  {
   "cell_type": "code",
   "execution_count": null,
   "metadata": {},
   "outputs": [],
   "source": [
    "device = torch.device(\"cuda\" if torch.cuda.is_available() else \"cpu\")\n",
    "model = PatientOutcomeModel(flat_input_dim, graph_input_dim, ts_input_dim, hidden_dim).to(device)\n",
    "optimizer = torch.optim.Adam(model.parameters(), lr=1e-3)\n",
    "criterion = nn.MSELoss() "
   ]
  },
  {
   "cell_type": "code",
   "execution_count": 32,
   "metadata": {},
   "outputs": [
    {
     "name": "stdout",
     "output_type": "stream",
     "text": [
      "Epoch 1/10, Train Loss: 0.0160, Val Loss: 0.0179\n",
      "Epoch 2/10, Train Loss: 0.0157, Val Loss: 0.0180\n",
      "Epoch 3/10, Train Loss: 0.0153, Val Loss: 0.0179\n",
      "Epoch 4/10, Train Loss: 0.0146, Val Loss: 0.0177\n",
      "Epoch 5/10, Train Loss: 0.0143, Val Loss: 0.0178\n",
      "Epoch 6/10, Train Loss: 0.0137, Val Loss: 0.0178\n",
      "Epoch 7/10, Train Loss: 0.0136, Val Loss: 0.0191\n",
      "Epoch 8/10, Train Loss: 0.0130, Val Loss: 0.0184\n",
      "Epoch 9/10, Train Loss: 0.0126, Val Loss: 0.0182\n",
      "Epoch 10/10, Train Loss: 0.0121, Val Loss: 0.0179\n"
     ]
    }
   ],
   "source": [
    "num_epochs=10\n",
    "\n",
    "train_losses = []\n",
    "val_losses = []\n",
    "\n",
    "best_val_loss = float('inf')\n",
    "\n",
    "for epoch in range(num_epochs):\n",
    "    model.train()\n",
    "    train_loss = 0.0\n",
    "\n",
    "    for patient_ids, ts_data, flat_data, risk_data in lstm_loader_train:\n",
    "        ts_data, flat_data, risk_data = ts_data.to(device), flat_data.to(device), risk_data.to(device)\n",
    "\n",
    "        # **转换 patient_ids**\n",
    "        patient_ids_tensor = torch.tensor([int(pid) for pid in patient_ids], dtype=torch.long, device=device)\n",
    "\n",
    "        # === **前向传播** ===\n",
    "        optimizer.zero_grad()\n",
    "        outputs = model(flat_data, graph_dataset.graph_data, patient_ids_tensor, ts_data)\n",
    "\n",
    "        # **应用 Mask 计算损失**\n",
    "        ts_mask = ts_data != -99\n",
    "        ts_mask = ts_mask.any(dim=2)\n",
    "        risk_mask = risk_data != -99\n",
    "        combined_mask = ts_mask & risk_mask\n",
    "\n",
    "        masked_outputs = outputs[combined_mask]\n",
    "        masked_risk_data = risk_data[combined_mask]\n",
    "\n",
    "        loss = criterion(masked_outputs, masked_risk_data)\n",
    "        loss.backward()\n",
    "        optimizer.step()\n",
    "\n",
    "        train_loss += loss.item()\n",
    "        torch.cuda.empty_cache()\n",
    "\n",
    "    train_loss /= len(lstm_loader_train)\n",
    "    train_losses.append(train_loss)\n",
    "\n",
    "    # === 计算 Val Loss ===\n",
    "    val_loss = evaluate_model(model, lstm_loader_val, graph_dataset, criterion, device)\n",
    "    val_losses.append(val_loss)\n",
    "\n",
    "    print(f\"Epoch {epoch+1}/{num_epochs}, Train Loss: {train_loss:.4f}, Val Loss: {val_loss:.4f}\")\n",
    "\n",
    "\n",
    "    # # 保存最佳模型\n",
    "    # if val_loss < best_val_loss:\n",
    "    #     best_val_loss = val_loss\n",
    "    #     torch.save(model.state_dict(), 'best_model.pth')\n"
   ]
  },
  {
   "cell_type": "code",
   "execution_count": 33,
   "metadata": {},
   "outputs": [
    {
     "data": {
      "image/png": "[encoded data removed]",
      "text/plain": [
       "<Figure size 1000x500 with 1 Axes>"
      ]
     },
     "metadata": {},
     "output_type": "display_data"
    }
   ],
   "source": [
    "\n",
    "plt.figure(figsize=(10, 5))\n",
    "plt.plot(range(1, num_epochs + 1), train_losses, label=\"Train Loss\", marker='o')\n",
    "plt.plot(range(1, num_epochs + 1), val_losses, label=\"Validation Loss\", marker='s')\n",
    "plt.xlabel(\"Epochs\")\n",
    "plt.ylabel(\"Loss\")\n",
    "plt.title(\"Training & Validation Loss over Epochs\")\n",
    "plt.legend()\n",
    "plt.grid()\n",
    "plt.show()"
   ]
  }
 ],
 "metadata": {
  "kernelspec": {
   "display_name": "eicu",
   "language": "python",
   "name": "python3"
  },
  "language_info": {
   "codemirror_mode": {
    "name": "ipython",
    "version": 3
   },
   "file_extension": ".py",
   "mimetype": "text/x-python",
   "name": "python",
   "nbconvert_exporter": "python",
   "pygments_lexer": "ipython3",
   "version": "3.10.14"
  }
 },
 "nbformat": 4,
 "nbformat_minor": 2
}
