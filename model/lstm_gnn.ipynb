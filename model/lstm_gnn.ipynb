{
 "cells": [
  {
   "cell_type": "code",
   "execution_count": null,
   "metadata": {},
   "outputs": [],
   "source": []
  },
  {
   "cell_type": "code",
   "execution_count": null,
   "metadata": {},
   "outputs": [],
   "source": [
    "class BiLSTMEmbedding(nn.Module):\n",
    "    def __init__(self, input_dim, hidden_dim):\n",
    "        super(BiLSTMEmbedding, self).__init__()\n",
    "        self.bilstm = nn.LSTM(input_size=input_dim, hidden_size=hidden_dim, batch_first=True, bidirectional=True)\n",
    "\n",
    "    def forward(self, x):\n",
    "        # BiLSTM 前向传播\n",
    "        _, (h_n, _) = self.bilstm(x)  # h_n: [2, B, hidden_dim]\n",
    "        # 拼接前向和后向的隐藏状态\n",
    "        h_L = torch.cat((h_n[0], h_n[1]), dim=-1)  # h_L: [B, 2 * hidden_dim]\n",
    "        return h_L"
   ]
  },
  {
   "cell_type": "code",
   "execution_count": 1,
   "metadata": {},
   "outputs": [
    {
     "ename": "ModuleNotFoundError",
     "evalue": "No module named 'torch_geometric'",
     "output_type": "error",
     "traceback": [
      "\u001b[0;31m---------------------------------------------------------------------------\u001b[0m",
      "\u001b[0;31mModuleNotFoundError\u001b[0m                       Traceback (most recent call last)",
      "Cell \u001b[0;32mIn[1], line 1\u001b[0m\n\u001b[0;32m----> 1\u001b[0m \u001b[38;5;28;01mfrom\u001b[39;00m \u001b[38;5;21;01mtorch_geometric\u001b[39;00m\u001b[38;5;21;01m.\u001b[39;00m\u001b[38;5;21;01mnn\u001b[39;00m \u001b[38;5;28;01mimport\u001b[39;00m SAGEConv\n\u001b[1;32m      3\u001b[0m \u001b[38;5;28;01mclass\u001b[39;00m \u001b[38;5;21;01mGNNEmbedding\u001b[39;00m(nn\u001b[38;5;241m.\u001b[39mModule):\n\u001b[1;32m      4\u001b[0m     \u001b[38;5;28;01mdef\u001b[39;00m \u001b[38;5;21m__init__\u001b[39m(\u001b[38;5;28mself\u001b[39m, input_dim, hidden_dim):\n",
      "\u001b[0;31mModuleNotFoundError\u001b[0m: No module named 'torch_geometric'"
     ]
    }
   ],
   "source": [
    "from torch_geometric.nn import SAGEConv\n",
    "\n",
    "class GNNEmbedding(nn.Module):\n",
    "    def __init__(self, input_dim, hidden_dim):\n",
    "        super(GNNEmbedding, self).__init__()\n",
    "        # GraphSAGE 两层卷积\n",
    "        self.conv1 = SAGEConv(input_dim, hidden_dim)\n",
    "        self.conv2 = SAGEConv(hidden_dim, hidden_dim)\n",
    "\n",
    "    def forward(self, x, edge_index):\n",
    "        # 图嵌入传播\n",
    "        h = self.conv1(x, edge_index)  # 第一层传播\n",
    "        h = torch.relu(h)\n",
    "        h = self.conv2(h, edge_index)  # 第二层传播\n",
    "        return h  # 返回图节点嵌入"
   ]
  },
  {
   "cell_type": "code",
   "execution_count": null,
   "metadata": {},
   "outputs": [],
   "source": [
    "class StaticEmbedding(nn.Module):\n",
    "    def __init__(self, input_dim, hidden_dim):\n",
    "        super(StaticEmbedding, self).__init__()\n",
    "        self.fc = nn.Linear(input_dim, hidden_dim)\n",
    "\n",
    "    def forward(self, s):\n",
    "        return torch.relu(self.fc(s))  # 静态嵌入"
   ]
  },
  {
   "cell_type": "code",
   "execution_count": null,
   "metadata": {},
   "outputs": [],
   "source": [
    "class CombinedPrediction(nn.Module):\n",
    "    def __init__(self, input_dim, hidden_dim, output_dim):\n",
    "        super(CombinedPrediction, self).__init__()\n",
    "        self.fc1 = nn.Linear(input_dim, hidden_dim)\n",
    "        self.fc2 = nn.Linear(hidden_dim, output_dim)\n",
    "\n",
    "    def forward(self, h_L, h_N, h_S):\n",
    "        h_C = torch.cat((h_L, h_N, h_S), dim=-1)  # 拼接\n",
    "        h = torch.relu(self.fc1(h_C))\n",
    "        y_hat = self.fc2(h)\n",
    "        return y_hat"
   ]
  },
  {
   "cell_type": "code",
   "execution_count": null,
   "metadata": {},
   "outputs": [],
   "source": [
    "class LSTMGNNModel(nn.Module):\n",
    "    def __init__(self, time_input_dim, static_input_dim, lstm_hidden_dim, gnn_hidden_dim, fc_hidden_dim, output_dim):\n",
    "        super(LSTMGNNModel, self).__init__()\n",
    "        self.lstm_embedding = BiLSTMEmbedding(time_input_dim, lstm_hidden_dim)\n",
    "        self.gnn_embedding = GNNEmbedding(2 * lstm_hidden_dim, gnn_hidden_dim)\n",
    "        self.static_embedding = StaticEmbedding(static_input_dim, lstm_hidden_dim)\n",
    "        self.prediction = CombinedPrediction(2 * lstm_hidden_dim + gnn_hidden_dim + lstm_hidden_dim, fc_hidden_dim, output_dim)\n",
    "\n",
    "    def forward(self, time_series, static_input, edge_index):\n",
    "        h_L = self.lstm_embedding(time_series)  # 时间序列嵌入\n",
    "        h_N = self.gnn_embedding(h_L, edge_index)  # 图嵌入\n",
    "        h_S = self.static_embedding(static_input)  # 静态嵌入\n",
    "        y_hat = self.prediction(h_L, h_N, h_S)  # 预测\n",
    "        return y_hat"
   ]
  },
  {
   "cell_type": "code",
   "execution_count": null,
   "metadata": {},
   "outputs": [],
   "source": [
    "criterion = nn.MSELoss()\n",
    "\n",
    "# 损失权重\n",
    "alpha = 0.5\n",
    "def combined_loss(y_hat_gnn, y_hat_lstm, y_true):\n",
    "    loss_lstm_gnn = criterion(y_hat_gnn, y_true)\n",
    "    loss_lstm = criterion(y_hat_lstm, y_true)\n",
    "    return loss_lstm_gnn + alpha * loss_lstm"
   ]
  },
  {
   "cell_type": "code",
   "execution_count": null,
   "metadata": {},
   "outputs": [],
   "source": [
    "model = LSTMGNNModel(\n",
    "    time_input_dim=34,\n",
    "    static_input_dim=92,\n",
    "    lstm_hidden_dim=64,\n",
    "    gnn_hidden_dim=32,\n",
    "    fc_hidden_dim=128,\n",
    "    output_dim=1\n",
    ")\n",
    "\n",
    "optimizer = torch.optim.Adam(model.parameters(), lr=1e-3)"
   ]
  }
 ],
 "metadata": {
  "kernelspec": {
   "display_name": "eicu",
   "language": "python",
   "name": "python3"
  },
  "language_info": {
   "codemirror_mode": {
    "name": "ipython",
    "version": 3
   },
   "file_extension": ".py",
   "mimetype": "text/x-python",
   "name": "python",
   "nbconvert_exporter": "python",
   "pygments_lexer": "ipython3",
   "version": "3.10.14"
  }
 },
 "nbformat": 4,
 "nbformat_minor": 2
}
