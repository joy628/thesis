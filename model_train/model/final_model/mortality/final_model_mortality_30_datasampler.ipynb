{
 "cells": [
  {
   "cell_type": "code",
   "execution_count": 1,
   "metadata": {},
   "outputs": [],
   "source": [
    "import os\n",
    "os.environ['CUDA_VISIBLE_DEVICES'] = '7'\n",
    "import torch\n",
    "import pandas as pd\n",
    "import numpy as np \n",
    "import matplotlib.pyplot as plt\n",
    "import sys\n",
    "sys.path.append('/home/mei/nas/docker/thesis/model_train')\n",
    "from torch.utils.data import DataLoader\n",
    "from torchsampler import ImbalancedDatasetSampler\n",
    "\n",
    "from dataloader.graph_ts_reader_30 import  MultiModalDataset, collate_fn\n",
    "from dataloader.pyg_reader import global_node2idx_mapping\n",
    "from model.final_model.mortality.final_model_loss_train_mortality import *\n",
    "from model.final_model.mortality.final_model_mortality import PatientOutcomeModel\n",
    "from model.retnet.autoencoder_v5_retnet import  TSAutoencoder\n",
    "from model.final_model.mortality.plot import *\n",
    "\n",
    "\n",
    "import gc\n",
    "gc.collect()\n",
    "torch.cuda.empty_cache()\n",
    "torch.cuda.synchronize()\n",
    "\n"
   ]
  },
  {
   "cell_type": "code",
   "execution_count": 2,
   "metadata": {},
   "outputs": [
    {
     "name": "stdout",
     "output_type": "stream",
     "text": [
      "Built 2150 patient-tree graphs\n",
      "Built 461 patient-tree graphs\n",
      "Built 461 patient-tree graphs\n"
     ]
    }
   ],
   "source": [
    "# ===  get global node2index for graph data === \n",
    "hdf = '/home/mei/nas/docker/thesis/data/hdf/'\n",
    "train_diagnoses = pd.read_hdf(f'{hdf}train/diagnoses.h5',key='df')\n",
    "global_node2idx = global_node2idx_mapping(train_diagnoses)\n",
    "\n",
    "# === load Dataset  ===\n",
    "train_data_dir = \"/home/mei/nas/docker/thesis/data/hdf/train\"\n",
    "val_data_dir = \"/home/mei/nas/docker/thesis/data/hdf/val\"\n",
    "test_data_dir = \"/home/mei/nas/docker/thesis/data/hdf/test\"\n",
    "\n",
    "dataset_train = MultiModalDataset(train_data_dir,global_node2idx)\n",
    "dataset_val = MultiModalDataset(val_data_dir,global_node2idx)\n",
    "dataset_test = MultiModalDataset(test_data_dir,global_node2idx)\n",
    "\n",
    "## load the inbalanced dataset sampler\n",
    "labels_train = [int(dataset_train[i][5]) for i in range(len(dataset_train))]\n",
    "\n",
    "train_sampler = ImbalancedDatasetSampler(dataset_train, labels=labels_train)\n",
    "\n",
    "# build the dataloader\n",
    "train_loader = DataLoader( dataset_train,batch_size=128,sampler=train_sampler,collate_fn=collate_fn )\n",
    "\n",
    "val_loader = DataLoader( dataset_val,batch_size=32,shuffle=False,collate_fn=collate_fn)\n",
    "test_loader = DataLoader( dataset_test,batch_size=32,shuffle=False,collate_fn=collate_fn )\n",
    "train_loader_p = DataLoader(dataset_train, batch_size=128, shuffle=False, collate_fn=collate_fn)\n"
   ]
  },
  {
   "cell_type": "code",
   "execution_count": 3,
   "metadata": {},
   "outputs": [],
   "source": [
    "flat_input_dim = 104\n",
    "hidden_dim = 128\n",
    "graph_input_dim = 62\n",
    "\n",
    "device = torch.device(\"cuda\" if torch.cuda.is_available() else \"cpu\")\n",
    "\n",
    "# === load pretrained model ===\n",
    "pretrained =  TSAutoencoder( input_channels=154, latent_dim=128, som_dim=(10,10), lstm_dim=200,  alpha_som_q=5).to(device)\n",
    "\n",
    "pretrained.load_state_dict(torch.load(\n",
    "\"/home/mei/nas/docker/thesis/data/model_results/retnet/resampled_30/stage3/best_joint.pth\", map_location=device,weights_only=True ))\n",
    "pretrained_encoder = pretrained.encoder\n",
    "som = pretrained.som_layer\n",
    "\n",
    "# === load final model ===\n",
    "model = PatientOutcomeModel(flat_input_dim,graph_input_dim, hidden_dim,som=som,pretrained_encoder=pretrained_encoder).to(device) \n",
    "optimizer = torch.optim.Adam(model.parameters(), lr=5e-4)"
   ]
  },
  {
   "cell_type": "code",
   "execution_count": 4,
   "metadata": {},
   "outputs": [
    {
     "name": "stdout",
     "output_type": "stream",
     "text": [
      "[Joint] Building patient_start_offset_global as dict...\n",
      "[Joint] Offset dict built for 2150 patients. Total length: 524096\n"
     ]
    },
    {
     "name": "stderr",
     "output_type": "stream",
     "text": [
      "[Joint E1] Calc Global P:   0%|          | 0/17 [00:00<?, ?it/s]"
     ]
    },
    {
     "name": "stdout",
     "output_type": "stream",
     "text": [
      "241 --- torch.Size([2, 1792])\n",
      "99 --- torch.Size([2, 1792])\n",
      "696 torch.Size([2, 1792])\n",
      "EDGE_INDEX: torch.Size([2, 1792])\t\tLOOP_INDEX: torch.Size([2, 696])\n",
      "241 --- torch.Size([2, 1792])\n",
      "99 --- torch.Size([2, 1792])\n",
      "696 torch.Size([2, 1792])\n",
      "EDGE_INDEX: torch.Size([2, 1792])\t\tLOOP_INDEX: torch.Size([2, 696])\n"
     ]
    },
    {
     "name": "stderr",
     "output_type": "stream",
     "text": [
      "[Joint E1] Calc Global P:  12%|█▏        | 2/17 [00:00<00:05,  2.54it/s]"
     ]
    },
    {
     "name": "stdout",
     "output_type": "stream",
     "text": [
      "241 --- torch.Size([2, 1818])\n",
      "99 --- torch.Size([2, 1818])\n",
      "704 torch.Size([2, 1818])\n",
      "EDGE_INDEX: torch.Size([2, 1818])\t\tLOOP_INDEX: torch.Size([2, 704])\n",
      "241 --- torch.Size([2, 1818])\n",
      "99 --- torch.Size([2, 1818])\n",
      "704 torch.Size([2, 1818])\n",
      "EDGE_INDEX: torch.Size([2, 1818])\t\tLOOP_INDEX: torch.Size([2, 704])\n"
     ]
    },
    {
     "name": "stderr",
     "output_type": "stream",
     "text": [
      "[Joint E1] Calc Global P:  18%|█▊        | 3/17 [00:01<00:04,  3.03it/s]"
     ]
    },
    {
     "name": "stdout",
     "output_type": "stream",
     "text": [
      "241 --- torch.Size([2, 1634])\n",
      "99 --- torch.Size([2, 1634])\n",
      "689 torch.Size([2, 1634])\n",
      "EDGE_INDEX: torch.Size([2, 1634])\t\tLOOP_INDEX: torch.Size([2, 689])\n",
      "241 --- torch.Size([2, 1634])\n",
      "99 --- torch.Size([2, 1634])\n",
      "689 torch.Size([2, 1634])\n",
      "EDGE_INDEX: torch.Size([2, 1634])\t\tLOOP_INDEX: torch.Size([2, 689])\n"
     ]
    },
    {
     "name": "stderr",
     "output_type": "stream",
     "text": [
      "[Joint E1] Calc Global P:  24%|██▎       | 4/17 [00:01<00:04,  3.03it/s]"
     ]
    },
    {
     "name": "stdout",
     "output_type": "stream",
     "text": [
      "241 --- torch.Size([2, 1808])\n",
      "99 --- torch.Size([2, 1808])\n",
      "716 torch.Size([2, 1808])\n",
      "EDGE_INDEX: torch.Size([2, 1808])\t\tLOOP_INDEX: torch.Size([2, 716])\n",
      "241 --- torch.Size([2, 1808])\n",
      "99 --- torch.Size([2, 1808])\n",
      "716 torch.Size([2, 1808])\n",
      "EDGE_INDEX: torch.Size([2, 1808])\t\tLOOP_INDEX: torch.Size([2, 716])\n"
     ]
    },
    {
     "name": "stderr",
     "output_type": "stream",
     "text": [
      "[Joint E1] Calc Global P:  29%|██▉       | 5/17 [00:01<00:03,  3.32it/s]"
     ]
    },
    {
     "name": "stdout",
     "output_type": "stream",
     "text": [
      "241 --- torch.Size([2, 1886])\n",
      "99 --- torch.Size([2, 1886])\n",
      "723 torch.Size([2, 1886])\n",
      "EDGE_INDEX: torch.Size([2, 1886])\t\tLOOP_INDEX: torch.Size([2, 723])\n",
      "241 --- torch.Size([2, 1886])\n",
      "99 --- torch.Size([2, 1886])\n",
      "723 torch.Size([2, 1886])\n",
      "EDGE_INDEX: torch.Size([2, 1886])\t\tLOOP_INDEX: torch.Size([2, 723])\n"
     ]
    },
    {
     "name": "stderr",
     "output_type": "stream",
     "text": [
      "[Joint E1] Calc Global P:  35%|███▌      | 6/17 [00:03<00:08,  1.25it/s]"
     ]
    },
    {
     "name": "stdout",
     "output_type": "stream",
     "text": [
      "241 --- torch.Size([2, 1472])\n",
      "99 --- torch.Size([2, 1472])\n",
      "626 torch.Size([2, 1472])\n",
      "EDGE_INDEX: torch.Size([2, 1472])\t\tLOOP_INDEX: torch.Size([2, 626])\n",
      "241 --- torch.Size([2, 1472])\n",
      "99 --- torch.Size([2, 1472])\n",
      "626 torch.Size([2, 1472])\n",
      "EDGE_INDEX: torch.Size([2, 1472])\t\tLOOP_INDEX: torch.Size([2, 626])\n"
     ]
    },
    {
     "name": "stderr",
     "output_type": "stream",
     "text": [
      "[Joint E1] Calc Global P:  41%|████      | 7/17 [00:03<00:06,  1.61it/s]"
     ]
    },
    {
     "name": "stdout",
     "output_type": "stream",
     "text": [
      "241 --- torch.Size([2, 1624])\n",
      "99 --- torch.Size([2, 1624])\n",
      "657 torch.Size([2, 1624])\n",
      "EDGE_INDEX: torch.Size([2, 1624])\t\tLOOP_INDEX: torch.Size([2, 657])\n",
      "241 --- torch.Size([2, 1624])\n",
      "99 --- torch.Size([2, 1624])\n",
      "657 torch.Size([2, 1624])\n",
      "EDGE_INDEX: torch.Size([2, 1624])\t\tLOOP_INDEX: torch.Size([2, 657])\n"
     ]
    },
    {
     "name": "stderr",
     "output_type": "stream",
     "text": [
      "[Joint E1] Calc Global P:  47%|████▋     | 8/17 [00:03<00:04,  1.97it/s]"
     ]
    },
    {
     "name": "stdout",
     "output_type": "stream",
     "text": [
      "241 --- torch.Size([2, 2122])\n",
      "99 --- torch.Size([2, 2122])\n",
      "792 torch.Size([2, 2122])\n",
      "EDGE_INDEX: torch.Size([2, 2122])\t\tLOOP_INDEX: torch.Size([2, 792])\n",
      "241 --- torch.Size([2, 2122])\n",
      "99 --- torch.Size([2, 2122])\n",
      "792 torch.Size([2, 2122])\n",
      "EDGE_INDEX: torch.Size([2, 2122])\t\tLOOP_INDEX: torch.Size([2, 792])\n"
     ]
    },
    {
     "name": "stderr",
     "output_type": "stream",
     "text": [
      "[Joint E1] Calc Global P:  53%|█████▎    | 9/17 [00:04<00:03,  2.32it/s]"
     ]
    },
    {
     "name": "stdout",
     "output_type": "stream",
     "text": [
      "241 --- torch.Size([2, 1822])\n",
      "99 --- torch.Size([2, 1822])\n",
      "721 torch.Size([2, 1822])\n",
      "EDGE_INDEX: torch.Size([2, 1822])\t\tLOOP_INDEX: torch.Size([2, 721])\n",
      "241 --- torch.Size([2, 1822])\n",
      "99 --- torch.Size([2, 1822])\n",
      "721 torch.Size([2, 1822])\n",
      "EDGE_INDEX: torch.Size([2, 1822])\t\tLOOP_INDEX: torch.Size([2, 721])\n"
     ]
    },
    {
     "name": "stderr",
     "output_type": "stream",
     "text": [
      "[Joint E1] Calc Global P:  59%|█████▉    | 10/17 [00:04<00:02,  2.61it/s]"
     ]
    },
    {
     "name": "stdout",
     "output_type": "stream",
     "text": [
      "241 --- torch.Size([2, 1654])\n",
      "99 --- torch.Size([2, 1654])\n",
      "671 torch.Size([2, 1654])\n",
      "EDGE_INDEX: torch.Size([2, 1654])\t\tLOOP_INDEX: torch.Size([2, 671])\n",
      "241 --- torch.Size([2, 1654])\n",
      "99 --- torch.Size([2, 1654])\n",
      "671 torch.Size([2, 1654])\n",
      "EDGE_INDEX: torch.Size([2, 1654])\t\tLOOP_INDEX: torch.Size([2, 671])\n",
      "241 --- torch.Size([2, 2052])\n",
      "99 --- torch.Size([2, 2052])\n",
      "737 torch.Size([2, 2052])\n",
      "EDGE_INDEX: torch.Size([2, 2052])\t\tLOOP_INDEX: torch.Size([2, 737])\n",
      "241 --- torch.Size([2, 2052])\n",
      "99 --- torch.Size([2, 2052])\n",
      "737 torch.Size([2, 2052])\n",
      "EDGE_INDEX: torch.Size([2, 2052])\t\tLOOP_INDEX: torch.Size([2, 737])\n"
     ]
    },
    {
     "name": "stderr",
     "output_type": "stream",
     "text": [
      "[Joint E1] Calc Global P:  65%|██████▍   | 11/17 [00:09<00:10,  1.73s/it]"
     ]
    },
    {
     "name": "stdout",
     "output_type": "stream",
     "text": [
      "241 --- torch.Size([2, 2270])\n",
      "99 --- torch.Size([2, 2270])\n",
      "800 torch.Size([2, 2270])\n",
      "EDGE_INDEX: torch.Size([2, 2270])\t\tLOOP_INDEX: torch.Size([2, 800])\n",
      "241 --- torch.Size([2, 2270])\n",
      "99 --- torch.Size([2, 2270])\n",
      "800 torch.Size([2, 2270])\n",
      "EDGE_INDEX: torch.Size([2, 2270])\t\tLOOP_INDEX: torch.Size([2, 800])\n"
     ]
    },
    {
     "name": "stderr",
     "output_type": "stream",
     "text": [
      "[Joint E1] Calc Global P:  71%|███████   | 12/17 [00:13<00:12,  2.60s/it]"
     ]
    },
    {
     "name": "stdout",
     "output_type": "stream",
     "text": [
      "241 --- torch.Size([2, 1560])\n",
      "99 --- torch.Size([2, 1560])\n",
      "677 torch.Size([2, 1560])\n",
      "EDGE_INDEX: torch.Size([2, 1560])\t\tLOOP_INDEX: torch.Size([2, 677])\n",
      "241 --- torch.Size([2, 1560])\n",
      "99 --- torch.Size([2, 1560])\n",
      "677 torch.Size([2, 1560])\n",
      "EDGE_INDEX: torch.Size([2, 1560])\t\tLOOP_INDEX: torch.Size([2, 677])\n"
     ]
    },
    {
     "name": "stderr",
     "output_type": "stream",
     "text": [
      "[Joint E1] Calc Global P:  76%|███████▋  | 13/17 [00:18<00:12,  3.14s/it]"
     ]
    },
    {
     "name": "stdout",
     "output_type": "stream",
     "text": [
      "241 --- torch.Size([2, 1450])\n",
      "99 --- torch.Size([2, 1450])\n",
      "642 torch.Size([2, 1450])\n",
      "EDGE_INDEX: torch.Size([2, 1450])\t\tLOOP_INDEX: torch.Size([2, 642])\n",
      "241 --- torch.Size([2, 1450])\n",
      "99 --- torch.Size([2, 1450])\n",
      "642 torch.Size([2, 1450])\n",
      "EDGE_INDEX: torch.Size([2, 1450])\t\tLOOP_INDEX: torch.Size([2, 642])\n"
     ]
    },
    {
     "name": "stderr",
     "output_type": "stream",
     "text": [
      "[Joint E1] Calc Global P:  82%|████████▏ | 14/17 [00:23<00:10,  3.65s/it]"
     ]
    },
    {
     "name": "stdout",
     "output_type": "stream",
     "text": [
      "241 --- torch.Size([2, 1412])\n",
      "99 --- torch.Size([2, 1412])\n",
      "628 torch.Size([2, 1412])\n",
      "EDGE_INDEX: torch.Size([2, 1412])\t\tLOOP_INDEX: torch.Size([2, 628])\n",
      "241 --- torch.Size([2, 1412])\n",
      "99 --- torch.Size([2, 1412])\n",
      "628 torch.Size([2, 1412])\n",
      "EDGE_INDEX: torch.Size([2, 1412])\t\tLOOP_INDEX: torch.Size([2, 628])\n"
     ]
    },
    {
     "name": "stderr",
     "output_type": "stream",
     "text": [
      "[Joint E1] Calc Global P:  88%|████████▊ | 15/17 [00:27<00:07,  3.89s/it]"
     ]
    },
    {
     "name": "stdout",
     "output_type": "stream",
     "text": [
      "241 --- torch.Size([2, 1662])\n",
      "99 --- torch.Size([2, 1662])\n",
      "666 torch.Size([2, 1662])\n",
      "EDGE_INDEX: torch.Size([2, 1662])\t\tLOOP_INDEX: torch.Size([2, 666])\n",
      "241 --- torch.Size([2, 1662])\n",
      "99 --- torch.Size([2, 1662])\n",
      "666 torch.Size([2, 1662])\n",
      "EDGE_INDEX: torch.Size([2, 1662])\t\tLOOP_INDEX: torch.Size([2, 666])\n"
     ]
    },
    {
     "name": "stderr",
     "output_type": "stream",
     "text": [
      "[Joint E1] Calc Global P:  94%|█████████▍| 16/17 [00:31<00:03,  3.80s/it]"
     ]
    },
    {
     "name": "stdout",
     "output_type": "stream",
     "text": [
      "241 --- torch.Size([2, 1332])\n",
      "99 --- torch.Size([2, 1332])\n",
      "530 torch.Size([2, 1332])\n",
      "EDGE_INDEX: torch.Size([2, 1332])\t\tLOOP_INDEX: torch.Size([2, 530])\n",
      "241 --- torch.Size([2, 1332])\n",
      "99 --- torch.Size([2, 1332])\n",
      "530 torch.Size([2, 1332])\n",
      "EDGE_INDEX: torch.Size([2, 1332])\t\tLOOP_INDEX: torch.Size([2, 530])\n"
     ]
    },
    {
     "name": "stderr",
     "output_type": "stream",
     "text": [
      "                                                                         \r"
     ]
    },
    {
     "name": "stdout",
     "output_type": "stream",
     "text": [
      "241 --- torch.Size([2, 1664])\n",
      "99 --- torch.Size([2, 1664])\n",
      "675 torch.Size([2, 1664])\n",
      "EDGE_INDEX: torch.Size([2, 1664])\t\tLOOP_INDEX: torch.Size([2, 675])\n",
      "241 --- torch.Size([2, 1664])\n",
      "99 --- torch.Size([2, 1664])\n",
      "675 torch.Size([2, 1664])\n",
      "EDGE_INDEX: torch.Size([2, 1664])\t\tLOOP_INDEX: torch.Size([2, 675])\n",
      "241 --- torch.Size([2, 1792])\n",
      "99 --- torch.Size([2, 1792])\n",
      "730 torch.Size([2, 1792])\n",
      "EDGE_INDEX: torch.Size([2, 1792])\t\tLOOP_INDEX: torch.Size([2, 730])\n",
      "241 --- torch.Size([2, 1792])\n",
      "99 --- torch.Size([2, 1792])\n",
      "730 torch.Size([2, 1792])\n",
      "EDGE_INDEX: torch.Size([2, 1792])\t\tLOOP_INDEX: torch.Size([2, 730])\n",
      "241 --- torch.Size([2, 1802])\n",
      "99 --- torch.Size([2, 1802])\n",
      "676 torch.Size([2, 1802])\n",
      "EDGE_INDEX: torch.Size([2, 1802])\t\tLOOP_INDEX: torch.Size([2, 676])\n",
      "241 --- torch.Size([2, 1802])\n",
      "99 --- torch.Size([2, 1802])\n",
      "676 torch.Size([2, 1802])\n",
      "EDGE_INDEX: torch.Size([2, 1802])\t\tLOOP_INDEX: torch.Size([2, 676])\n",
      "241 --- torch.Size([2, 1834])\n",
      "99 --- torch.Size([2, 1834])\n",
      "715 torch.Size([2, 1834])\n",
      "EDGE_INDEX: torch.Size([2, 1834])\t\tLOOP_INDEX: torch.Size([2, 715])\n",
      "241 --- torch.Size([2, 1834])\n",
      "99 --- torch.Size([2, 1834])\n",
      "715 torch.Size([2, 1834])\n",
      "EDGE_INDEX: torch.Size([2, 1834])\t\tLOOP_INDEX: torch.Size([2, 715])\n",
      "241 --- torch.Size([2, 1676])\n",
      "99 --- torch.Size([2, 1676])\n",
      "662 torch.Size([2, 1676])\n",
      "EDGE_INDEX: torch.Size([2, 1676])\t\tLOOP_INDEX: torch.Size([2, 662])\n",
      "241 --- torch.Size([2, 1676])\n",
      "99 --- torch.Size([2, 1676])\n",
      "662 torch.Size([2, 1676])\n",
      "EDGE_INDEX: torch.Size([2, 1676])\t\tLOOP_INDEX: torch.Size([2, 662])\n",
      "241 --- torch.Size([2, 1982])\n",
      "99 --- torch.Size([2, 1982])\n",
      "742 torch.Size([2, 1982])\n",
      "EDGE_INDEX: torch.Size([2, 1982])\t\tLOOP_INDEX: torch.Size([2, 742])\n",
      "241 --- torch.Size([2, 1982])\n",
      "99 --- torch.Size([2, 1982])\n",
      "742 torch.Size([2, 1982])\n",
      "EDGE_INDEX: torch.Size([2, 1982])\t\tLOOP_INDEX: torch.Size([2, 742])\n",
      "241 --- torch.Size([2, 1900])\n",
      "99 --- torch.Size([2, 1900])\n",
      "726 torch.Size([2, 1900])\n",
      "EDGE_INDEX: torch.Size([2, 1900])\t\tLOOP_INDEX: torch.Size([2, 726])\n",
      "241 --- torch.Size([2, 1900])\n",
      "99 --- torch.Size([2, 1900])\n",
      "726 torch.Size([2, 1900])\n",
      "EDGE_INDEX: torch.Size([2, 1900])\t\tLOOP_INDEX: torch.Size([2, 726])\n",
      "241 --- torch.Size([2, 1880])\n",
      "99 --- torch.Size([2, 1880])\n",
      "726 torch.Size([2, 1880])\n",
      "EDGE_INDEX: torch.Size([2, 1880])\t\tLOOP_INDEX: torch.Size([2, 726])\n",
      "241 --- torch.Size([2, 1880])\n",
      "99 --- torch.Size([2, 1880])\n",
      "726 torch.Size([2, 1880])\n",
      "EDGE_INDEX: torch.Size([2, 1880])\t\tLOOP_INDEX: torch.Size([2, 726])\n",
      "241 --- torch.Size([2, 1724])\n",
      "99 --- torch.Size([2, 1724])\n",
      "702 torch.Size([2, 1724])\n",
      "EDGE_INDEX: torch.Size([2, 1724])\t\tLOOP_INDEX: torch.Size([2, 702])\n",
      "241 --- torch.Size([2, 1724])\n",
      "99 --- torch.Size([2, 1724])\n",
      "702 torch.Size([2, 1724])\n",
      "EDGE_INDEX: torch.Size([2, 1724])\t\tLOOP_INDEX: torch.Size([2, 702])\n",
      "241 --- torch.Size([2, 1490])\n",
      "99 --- torch.Size([2, 1490])\n",
      "634 torch.Size([2, 1490])\n",
      "EDGE_INDEX: torch.Size([2, 1490])\t\tLOOP_INDEX: torch.Size([2, 634])\n",
      "241 --- torch.Size([2, 1490])\n",
      "99 --- torch.Size([2, 1490])\n",
      "634 torch.Size([2, 1490])\n",
      "EDGE_INDEX: torch.Size([2, 1490])\t\tLOOP_INDEX: torch.Size([2, 634])\n",
      "241 --- torch.Size([2, 1752])\n",
      "99 --- torch.Size([2, 1752])\n",
      "692 torch.Size([2, 1752])\n",
      "EDGE_INDEX: torch.Size([2, 1752])\t\tLOOP_INDEX: torch.Size([2, 692])\n",
      "241 --- torch.Size([2, 1752])\n",
      "99 --- torch.Size([2, 1752])\n",
      "692 torch.Size([2, 1752])\n",
      "EDGE_INDEX: torch.Size([2, 1752])\t\tLOOP_INDEX: torch.Size([2, 692])\n",
      "241 --- torch.Size([2, 2010])\n",
      "99 --- torch.Size([2, 2010])\n",
      "735 torch.Size([2, 2010])\n",
      "EDGE_INDEX: torch.Size([2, 2010])\t\tLOOP_INDEX: torch.Size([2, 735])\n",
      "241 --- torch.Size([2, 2010])\n",
      "99 --- torch.Size([2, 2010])\n",
      "735 torch.Size([2, 2010])\n",
      "EDGE_INDEX: torch.Size([2, 2010])\t\tLOOP_INDEX: torch.Size([2, 735])\n",
      "241 --- torch.Size([2, 1652])\n",
      "99 --- torch.Size([2, 1652])\n",
      "700 torch.Size([2, 1652])\n",
      "EDGE_INDEX: torch.Size([2, 1652])\t\tLOOP_INDEX: torch.Size([2, 700])\n",
      "241 --- torch.Size([2, 1652])\n",
      "99 --- torch.Size([2, 1652])\n",
      "700 torch.Size([2, 1652])\n",
      "EDGE_INDEX: torch.Size([2, 1652])\t\tLOOP_INDEX: torch.Size([2, 700])\n",
      "241 --- torch.Size([2, 1886])\n",
      "99 --- torch.Size([2, 1886])\n",
      "734 torch.Size([2, 1886])\n",
      "EDGE_INDEX: torch.Size([2, 1886])\t\tLOOP_INDEX: torch.Size([2, 734])\n",
      "241 --- torch.Size([2, 1886])\n",
      "99 --- torch.Size([2, 1886])\n",
      "734 torch.Size([2, 1886])\n",
      "EDGE_INDEX: torch.Size([2, 1886])\t\tLOOP_INDEX: torch.Size([2, 734])\n",
      "241 --- torch.Size([2, 1710])\n",
      "99 --- torch.Size([2, 1710])\n",
      "692 torch.Size([2, 1710])\n",
      "EDGE_INDEX: torch.Size([2, 1710])\t\tLOOP_INDEX: torch.Size([2, 692])\n",
      "241 --- torch.Size([2, 1710])\n",
      "99 --- torch.Size([2, 1710])\n",
      "692 torch.Size([2, 1710])\n",
      "EDGE_INDEX: torch.Size([2, 1710])\t\tLOOP_INDEX: torch.Size([2, 692])\n",
      "241 --- torch.Size([2, 1574])\n",
      "99 --- torch.Size([2, 1574])\n",
      "656 torch.Size([2, 1574])\n",
      "EDGE_INDEX: torch.Size([2, 1574])\t\tLOOP_INDEX: torch.Size([2, 656])\n",
      "241 --- torch.Size([2, 1574])\n",
      "99 --- torch.Size([2, 1574])\n",
      "656 torch.Size([2, 1574])\n",
      "EDGE_INDEX: torch.Size([2, 1574])\t\tLOOP_INDEX: torch.Size([2, 656])\n",
      "241 --- torch.Size([2, 1440])\n",
      "99 --- torch.Size([2, 1440])\n",
      "576 torch.Size([2, 1440])\n",
      "EDGE_INDEX: torch.Size([2, 1440])\t\tLOOP_INDEX: torch.Size([2, 576])\n",
      "241 --- torch.Size([2, 1440])\n",
      "99 --- torch.Size([2, 1440])\n",
      "576 torch.Size([2, 1440])\n",
      "EDGE_INDEX: torch.Size([2, 1440])\t\tLOOP_INDEX: torch.Size([2, 576])\n",
      "241 --- torch.Size([2, 466])\n",
      "99 --- torch.Size([2, 466])\n",
      "171 torch.Size([2, 466])\n",
      "EDGE_INDEX: torch.Size([2, 466])\t\tLOOP_INDEX: torch.Size([2, 171])\n",
      "241 --- torch.Size([2, 466])\n",
      "99 --- torch.Size([2, 466])\n",
      "171 torch.Size([2, 466])\n",
      "EDGE_INDEX: torch.Size([2, 466])\t\tLOOP_INDEX: torch.Size([2, 171])\n",
      "241 --- torch.Size([2, 414])\n",
      "99 --- torch.Size([2, 414])\n",
      "166 torch.Size([2, 414])\n",
      "EDGE_INDEX: torch.Size([2, 414])\t\tLOOP_INDEX: torch.Size([2, 166])\n",
      "241 --- torch.Size([2, 414])\n",
      "99 --- torch.Size([2, 414])\n",
      "166 torch.Size([2, 414])\n",
      "EDGE_INDEX: torch.Size([2, 414])\t\tLOOP_INDEX: torch.Size([2, 166])\n",
      "241 --- torch.Size([2, 572])\n",
      "99 --- torch.Size([2, 572])\n",
      "208 torch.Size([2, 572])\n",
      "EDGE_INDEX: torch.Size([2, 572])\t\tLOOP_INDEX: torch.Size([2, 208])\n",
      "241 --- torch.Size([2, 572])\n",
      "99 --- torch.Size([2, 572])\n",
      "208 torch.Size([2, 572])\n",
      "EDGE_INDEX: torch.Size([2, 572])\t\tLOOP_INDEX: torch.Size([2, 208])\n",
      "241 --- torch.Size([2, 522])\n",
      "99 --- torch.Size([2, 522])\n",
      "182 torch.Size([2, 522])\n",
      "EDGE_INDEX: torch.Size([2, 522])\t\tLOOP_INDEX: torch.Size([2, 182])\n",
      "241 --- torch.Size([2, 522])\n",
      "99 --- torch.Size([2, 522])\n",
      "182 torch.Size([2, 522])\n",
      "EDGE_INDEX: torch.Size([2, 522])\t\tLOOP_INDEX: torch.Size([2, 182])\n",
      "241 --- torch.Size([2, 454])\n",
      "99 --- torch.Size([2, 454])\n",
      "173 torch.Size([2, 454])\n",
      "EDGE_INDEX: torch.Size([2, 454])\t\tLOOP_INDEX: torch.Size([2, 173])\n",
      "241 --- torch.Size([2, 454])\n",
      "99 --- torch.Size([2, 454])\n",
      "173 torch.Size([2, 454])\n",
      "EDGE_INDEX: torch.Size([2, 454])\t\tLOOP_INDEX: torch.Size([2, 173])\n",
      "241 --- torch.Size([2, 286])\n",
      "99 --- torch.Size([2, 286])\n",
      "134 torch.Size([2, 286])\n",
      "EDGE_INDEX: torch.Size([2, 286])\t\tLOOP_INDEX: torch.Size([2, 134])\n",
      "241 --- torch.Size([2, 286])\n",
      "99 --- torch.Size([2, 286])\n",
      "134 torch.Size([2, 286])\n",
      "EDGE_INDEX: torch.Size([2, 286])\t\tLOOP_INDEX: torch.Size([2, 134])\n",
      "241 --- torch.Size([2, 462])\n",
      "99 --- torch.Size([2, 462])\n",
      "182 torch.Size([2, 462])\n",
      "EDGE_INDEX: torch.Size([2, 462])\t\tLOOP_INDEX: torch.Size([2, 182])\n",
      "241 --- torch.Size([2, 462])\n",
      "99 --- torch.Size([2, 462])\n",
      "182 torch.Size([2, 462])\n",
      "EDGE_INDEX: torch.Size([2, 462])\t\tLOOP_INDEX: torch.Size([2, 182])\n",
      "241 --- torch.Size([2, 700])\n",
      "99 --- torch.Size([2, 700])\n",
      "238 torch.Size([2, 700])\n",
      "EDGE_INDEX: torch.Size([2, 700])\t\tLOOP_INDEX: torch.Size([2, 238])\n",
      "241 --- torch.Size([2, 700])\n",
      "99 --- torch.Size([2, 700])\n",
      "238 torch.Size([2, 700])\n",
      "EDGE_INDEX: torch.Size([2, 700])\t\tLOOP_INDEX: torch.Size([2, 238])\n",
      "241 --- torch.Size([2, 452])\n",
      "99 --- torch.Size([2, 452])\n",
      "182 torch.Size([2, 452])\n",
      "EDGE_INDEX: torch.Size([2, 452])\t\tLOOP_INDEX: torch.Size([2, 182])\n",
      "241 --- torch.Size([2, 452])\n",
      "99 --- torch.Size([2, 452])\n",
      "182 torch.Size([2, 452])\n",
      "EDGE_INDEX: torch.Size([2, 452])\t\tLOOP_INDEX: torch.Size([2, 182])\n",
      "241 --- torch.Size([2, 576])\n",
      "99 --- torch.Size([2, 576])\n",
      "197 torch.Size([2, 576])\n",
      "EDGE_INDEX: torch.Size([2, 576])\t\tLOOP_INDEX: torch.Size([2, 197])\n",
      "241 --- torch.Size([2, 576])\n",
      "99 --- torch.Size([2, 576])\n",
      "197 torch.Size([2, 576])\n",
      "EDGE_INDEX: torch.Size([2, 576])\t\tLOOP_INDEX: torch.Size([2, 197])\n",
      "241 --- torch.Size([2, 538])\n",
      "99 --- torch.Size([2, 538])\n",
      "210 torch.Size([2, 538])\n",
      "EDGE_INDEX: torch.Size([2, 538])\t\tLOOP_INDEX: torch.Size([2, 210])\n",
      "241 --- torch.Size([2, 538])\n",
      "99 --- torch.Size([2, 538])\n",
      "210 torch.Size([2, 538])\n",
      "EDGE_INDEX: torch.Size([2, 538])\t\tLOOP_INDEX: torch.Size([2, 210])\n",
      "241 --- torch.Size([2, 358])\n",
      "99 --- torch.Size([2, 358])\n",
      "155 torch.Size([2, 358])\n",
      "EDGE_INDEX: torch.Size([2, 358])\t\tLOOP_INDEX: torch.Size([2, 155])\n",
      "241 --- torch.Size([2, 358])\n",
      "99 --- torch.Size([2, 358])\n",
      "155 torch.Size([2, 358])\n",
      "EDGE_INDEX: torch.Size([2, 358])\t\tLOOP_INDEX: torch.Size([2, 155])\n",
      "241 --- torch.Size([2, 368])\n",
      "99 --- torch.Size([2, 368])\n",
      "168 torch.Size([2, 368])\n",
      "EDGE_INDEX: torch.Size([2, 368])\t\tLOOP_INDEX: torch.Size([2, 168])\n",
      "241 --- torch.Size([2, 368])\n",
      "99 --- torch.Size([2, 368])\n",
      "168 torch.Size([2, 368])\n",
      "EDGE_INDEX: torch.Size([2, 368])\t\tLOOP_INDEX: torch.Size([2, 168])\n",
      "241 --- torch.Size([2, 368])\n",
      "99 --- torch.Size([2, 368])\n",
      "155 torch.Size([2, 368])\n",
      "EDGE_INDEX: torch.Size([2, 368])\t\tLOOP_INDEX: torch.Size([2, 155])\n",
      "241 --- torch.Size([2, 368])\n",
      "99 --- torch.Size([2, 368])\n",
      "155 torch.Size([2, 368])\n",
      "EDGE_INDEX: torch.Size([2, 368])\t\tLOOP_INDEX: torch.Size([2, 155])\n",
      "241 --- torch.Size([2, 206])\n",
      "99 --- torch.Size([2, 206])\n",
      "68 torch.Size([2, 206])\n",
      "EDGE_INDEX: torch.Size([2, 206])\t\tLOOP_INDEX: torch.Size([2, 68])\n",
      "241 --- torch.Size([2, 206])\n",
      "99 --- torch.Size([2, 206])\n",
      "68 torch.Size([2, 206])\n",
      "EDGE_INDEX: torch.Size([2, 206])\t\tLOOP_INDEX: torch.Size([2, 68])\n"
     ]
    },
    {
     "name": "stderr",
     "output_type": "stream",
     "text": [
      "[Joint E2] Calc Global P:   0%|          | 0/17 [00:00<?, ?it/s]"
     ]
    },
    {
     "name": "stdout",
     "output_type": "stream",
     "text": [
      "241 --- torch.Size([2, 1792])\n",
      "99 --- torch.Size([2, 1792])\n",
      "696 torch.Size([2, 1792])\n",
      "EDGE_INDEX: torch.Size([2, 1792])\t\tLOOP_INDEX: torch.Size([2, 696])\n",
      "241 --- torch.Size([2, 1792])\n",
      "99 --- torch.Size([2, 1792])\n",
      "696 torch.Size([2, 1792])\n",
      "EDGE_INDEX: torch.Size([2, 1792])\t\tLOOP_INDEX: torch.Size([2, 696])\n"
     ]
    },
    {
     "name": "stderr",
     "output_type": "stream",
     "text": [
      "[Joint E2] Calc Global P:   6%|▌         | 1/17 [00:05<01:21,  5.09s/it]"
     ]
    },
    {
     "name": "stdout",
     "output_type": "stream",
     "text": [
      "241 --- torch.Size([2, 1818])\n",
      "99 --- torch.Size([2, 1818])\n",
      "704 torch.Size([2, 1818])\n",
      "EDGE_INDEX: torch.Size([2, 1818])\t\tLOOP_INDEX: torch.Size([2, 704])\n",
      "241 --- torch.Size([2, 1818])\n",
      "99 --- torch.Size([2, 1818])\n",
      "704 torch.Size([2, 1818])\n",
      "EDGE_INDEX: torch.Size([2, 1818])\t\tLOOP_INDEX: torch.Size([2, 704])\n"
     ]
    },
    {
     "name": "stderr",
     "output_type": "stream",
     "text": [
      "[Joint E2] Calc Global P:  12%|█▏        | 2/17 [00:09<01:13,  4.91s/it]"
     ]
    },
    {
     "name": "stdout",
     "output_type": "stream",
     "text": [
      "241 --- torch.Size([2, 1634])\n",
      "99 --- torch.Size([2, 1634])\n",
      "689 torch.Size([2, 1634])\n",
      "EDGE_INDEX: torch.Size([2, 1634])\t\tLOOP_INDEX: torch.Size([2, 689])\n",
      "241 --- torch.Size([2, 1634])\n",
      "99 --- torch.Size([2, 1634])\n",
      "689 torch.Size([2, 1634])\n",
      "EDGE_INDEX: torch.Size([2, 1634])\t\tLOOP_INDEX: torch.Size([2, 689])\n"
     ]
    },
    {
     "name": "stderr",
     "output_type": "stream",
     "text": [
      "[Joint E2] Calc Global P:  18%|█▊        | 3/17 [00:14<01:07,  4.81s/it]"
     ]
    },
    {
     "name": "stdout",
     "output_type": "stream",
     "text": [
      "241 --- torch.Size([2, 1808])\n",
      "99 --- torch.Size([2, 1808])\n",
      "716 torch.Size([2, 1808])\n",
      "EDGE_INDEX: torch.Size([2, 1808])\t\tLOOP_INDEX: torch.Size([2, 716])\n",
      "241 --- torch.Size([2, 1808])\n",
      "99 --- torch.Size([2, 1808])\n",
      "716 torch.Size([2, 1808])\n",
      "EDGE_INDEX: torch.Size([2, 1808])\t\tLOOP_INDEX: torch.Size([2, 716])\n"
     ]
    },
    {
     "name": "stderr",
     "output_type": "stream",
     "text": [
      "[Joint E2] Calc Global P:  24%|██▎       | 4/17 [00:18<00:58,  4.53s/it]"
     ]
    },
    {
     "name": "stdout",
     "output_type": "stream",
     "text": [
      "241 --- torch.Size([2, 1886])\n",
      "99 --- torch.Size([2, 1886])\n",
      "723 torch.Size([2, 1886])\n",
      "EDGE_INDEX: torch.Size([2, 1886])\t\tLOOP_INDEX: torch.Size([2, 723])\n",
      "241 --- torch.Size([2, 1886])\n",
      "99 --- torch.Size([2, 1886])\n",
      "723 torch.Size([2, 1886])\n",
      "EDGE_INDEX: torch.Size([2, 1886])\t\tLOOP_INDEX: torch.Size([2, 723])\n"
     ]
    },
    {
     "name": "stderr",
     "output_type": "stream",
     "text": [
      "[Joint E2] Calc Global P:  29%|██▉       | 5/17 [00:23<00:53,  4.49s/it]"
     ]
    },
    {
     "name": "stdout",
     "output_type": "stream",
     "text": [
      "241 --- torch.Size([2, 1472])\n",
      "99 --- torch.Size([2, 1472])\n",
      "626 torch.Size([2, 1472])\n",
      "EDGE_INDEX: torch.Size([2, 1472])\t\tLOOP_INDEX: torch.Size([2, 626])\n",
      "241 --- torch.Size([2, 1472])\n",
      "99 --- torch.Size([2, 1472])\n",
      "626 torch.Size([2, 1472])\n",
      "EDGE_INDEX: torch.Size([2, 1472])\t\tLOOP_INDEX: torch.Size([2, 626])\n"
     ]
    },
    {
     "name": "stderr",
     "output_type": "stream",
     "text": [
      "[Joint E2] Calc Global P:  35%|███▌      | 6/17 [00:26<00:45,  4.16s/it]"
     ]
    },
    {
     "name": "stdout",
     "output_type": "stream",
     "text": [
      "241 --- torch.Size([2, 1624])\n",
      "99 --- torch.Size([2, 1624])\n",
      "657 torch.Size([2, 1624])\n",
      "EDGE_INDEX: torch.Size([2, 1624])\t\tLOOP_INDEX: torch.Size([2, 657])\n",
      "241 --- torch.Size([2, 1624])\n",
      "99 --- torch.Size([2, 1624])\n",
      "657 torch.Size([2, 1624])\n",
      "EDGE_INDEX: torch.Size([2, 1624])\t\tLOOP_INDEX: torch.Size([2, 657])\n"
     ]
    },
    {
     "name": "stderr",
     "output_type": "stream",
     "text": [
      "[Joint E2] Calc Global P:  41%|████      | 7/17 [00:31<00:42,  4.29s/it]"
     ]
    },
    {
     "name": "stdout",
     "output_type": "stream",
     "text": [
      "241 --- torch.Size([2, 2122])\n",
      "99 --- torch.Size([2, 2122])\n",
      "792 torch.Size([2, 2122])\n",
      "EDGE_INDEX: torch.Size([2, 2122])\t\tLOOP_INDEX: torch.Size([2, 792])\n",
      "241 --- torch.Size([2, 2122])\n",
      "99 --- torch.Size([2, 2122])\n",
      "792 torch.Size([2, 2122])\n",
      "EDGE_INDEX: torch.Size([2, 2122])\t\tLOOP_INDEX: torch.Size([2, 792])\n"
     ]
    },
    {
     "name": "stderr",
     "output_type": "stream",
     "text": [
      "[Joint E2] Calc Global P:  47%|████▋     | 8/17 [00:35<00:38,  4.32s/it]"
     ]
    },
    {
     "name": "stdout",
     "output_type": "stream",
     "text": [
      "241 --- torch.Size([2, 1822])\n",
      "99 --- torch.Size([2, 1822])\n",
      "721 torch.Size([2, 1822])\n",
      "EDGE_INDEX: torch.Size([2, 1822])\t\tLOOP_INDEX: torch.Size([2, 721])\n",
      "241 --- torch.Size([2, 1822])\n",
      "99 --- torch.Size([2, 1822])\n",
      "721 torch.Size([2, 1822])\n",
      "EDGE_INDEX: torch.Size([2, 1822])\t\tLOOP_INDEX: torch.Size([2, 721])\n"
     ]
    },
    {
     "name": "stderr",
     "output_type": "stream",
     "text": [
      "[Joint E2] Calc Global P:  53%|█████▎    | 9/17 [00:40<00:35,  4.40s/it]"
     ]
    },
    {
     "name": "stdout",
     "output_type": "stream",
     "text": [
      "241 --- torch.Size([2, 1654])\n",
      "99 --- torch.Size([2, 1654])\n",
      "671 torch.Size([2, 1654])\n",
      "EDGE_INDEX: torch.Size([2, 1654])\t\tLOOP_INDEX: torch.Size([2, 671])\n",
      "241 --- torch.Size([2, 1654])\n",
      "99 --- torch.Size([2, 1654])\n",
      "671 torch.Size([2, 1654])\n",
      "EDGE_INDEX: torch.Size([2, 1654])\t\tLOOP_INDEX: torch.Size([2, 671])\n"
     ]
    },
    {
     "name": "stderr",
     "output_type": "stream",
     "text": [
      "[Joint E2] Calc Global P:  59%|█████▉    | 10/17 [00:45<00:31,  4.57s/it]"
     ]
    },
    {
     "name": "stdout",
     "output_type": "stream",
     "text": [
      "241 --- torch.Size([2, 2052])\n",
      "99 --- torch.Size([2, 2052])\n",
      "737 torch.Size([2, 2052])\n",
      "EDGE_INDEX: torch.Size([2, 2052])\t\tLOOP_INDEX: torch.Size([2, 737])\n",
      "241 --- torch.Size([2, 2052])\n",
      "99 --- torch.Size([2, 2052])\n",
      "737 torch.Size([2, 2052])\n",
      "EDGE_INDEX: torch.Size([2, 2052])\t\tLOOP_INDEX: torch.Size([2, 737])\n"
     ]
    },
    {
     "name": "stderr",
     "output_type": "stream",
     "text": [
      "[Joint E2] Calc Global P:  65%|██████▍   | 11/17 [00:49<00:27,  4.60s/it]"
     ]
    },
    {
     "name": "stdout",
     "output_type": "stream",
     "text": [
      "241 --- torch.Size([2, 2270])\n",
      "99 --- torch.Size([2, 2270])\n",
      "800 torch.Size([2, 2270])\n",
      "EDGE_INDEX: torch.Size([2, 2270])\t\tLOOP_INDEX: torch.Size([2, 800])\n",
      "241 --- torch.Size([2, 2270])\n",
      "99 --- torch.Size([2, 2270])\n",
      "800 torch.Size([2, 2270])\n",
      "EDGE_INDEX: torch.Size([2, 2270])\t\tLOOP_INDEX: torch.Size([2, 800])\n"
     ]
    },
    {
     "name": "stderr",
     "output_type": "stream",
     "text": [
      "[Joint E2] Calc Global P:  71%|███████   | 12/17 [00:53<00:22,  4.45s/it]"
     ]
    },
    {
     "name": "stdout",
     "output_type": "stream",
     "text": [
      "241 --- torch.Size([2, 1560])\n",
      "99 --- torch.Size([2, 1560])\n",
      "677 torch.Size([2, 1560])\n",
      "EDGE_INDEX: torch.Size([2, 1560])\t\tLOOP_INDEX: torch.Size([2, 677])\n",
      "241 --- torch.Size([2, 1560])\n",
      "99 --- torch.Size([2, 1560])\n",
      "677 torch.Size([2, 1560])\n",
      "EDGE_INDEX: torch.Size([2, 1560])\t\tLOOP_INDEX: torch.Size([2, 677])\n"
     ]
    },
    {
     "name": "stderr",
     "output_type": "stream",
     "text": [
      "[Joint E2] Calc Global P:  76%|███████▋  | 13/17 [00:57<00:17,  4.26s/it]"
     ]
    },
    {
     "name": "stdout",
     "output_type": "stream",
     "text": [
      "241 --- torch.Size([2, 1450])\n",
      "99 --- torch.Size([2, 1450])\n",
      "642 torch.Size([2, 1450])\n",
      "EDGE_INDEX: torch.Size([2, 1450])\t\tLOOP_INDEX: torch.Size([2, 642])\n",
      "241 --- torch.Size([2, 1450])\n",
      "99 --- torch.Size([2, 1450])\n",
      "642 torch.Size([2, 1450])\n",
      "EDGE_INDEX: torch.Size([2, 1450])\t\tLOOP_INDEX: torch.Size([2, 642])\n"
     ]
    },
    {
     "name": "stderr",
     "output_type": "stream",
     "text": [
      "[Joint E2] Calc Global P:  82%|████████▏ | 14/17 [01:02<00:13,  4.40s/it]"
     ]
    },
    {
     "name": "stdout",
     "output_type": "stream",
     "text": [
      "241 --- torch.Size([2, 1412])\n",
      "99 --- torch.Size([2, 1412])\n",
      "628 torch.Size([2, 1412])\n",
      "EDGE_INDEX: torch.Size([2, 1412])\t\tLOOP_INDEX: torch.Size([2, 628])\n",
      "241 --- torch.Size([2, 1412])\n",
      "99 --- torch.Size([2, 1412])\n",
      "628 torch.Size([2, 1412])\n",
      "EDGE_INDEX: torch.Size([2, 1412])\t\tLOOP_INDEX: torch.Size([2, 628])\n"
     ]
    },
    {
     "name": "stderr",
     "output_type": "stream",
     "text": [
      "[Joint E2] Calc Global P:  88%|████████▊ | 15/17 [01:06<00:08,  4.32s/it]"
     ]
    },
    {
     "name": "stdout",
     "output_type": "stream",
     "text": [
      "241 --- torch.Size([2, 1662])\n",
      "99 --- torch.Size([2, 1662])\n",
      "666 torch.Size([2, 1662])\n",
      "EDGE_INDEX: torch.Size([2, 1662])\t\tLOOP_INDEX: torch.Size([2, 666])\n",
      "241 --- torch.Size([2, 1662])\n",
      "99 --- torch.Size([2, 1662])\n",
      "666 torch.Size([2, 1662])\n",
      "EDGE_INDEX: torch.Size([2, 1662])\t\tLOOP_INDEX: torch.Size([2, 666])\n"
     ]
    },
    {
     "name": "stderr",
     "output_type": "stream",
     "text": [
      "[Joint E2] Calc Global P:  94%|█████████▍| 16/17 [01:09<00:04,  4.05s/it]"
     ]
    },
    {
     "name": "stdout",
     "output_type": "stream",
     "text": [
      "241 --- torch.Size([2, 1332])\n",
      "99 --- torch.Size([2, 1332])\n",
      "530 torch.Size([2, 1332])\n",
      "EDGE_INDEX: torch.Size([2, 1332])\t\tLOOP_INDEX: torch.Size([2, 530])\n",
      "241 --- torch.Size([2, 1332])\n",
      "99 --- torch.Size([2, 1332])\n",
      "530 torch.Size([2, 1332])\n",
      "EDGE_INDEX: torch.Size([2, 1332])\t\tLOOP_INDEX: torch.Size([2, 530])\n"
     ]
    },
    {
     "name": "stderr",
     "output_type": "stream",
     "text": [
      "                                                                         \r"
     ]
    },
    {
     "name": "stdout",
     "output_type": "stream",
     "text": [
      "241 --- torch.Size([2, 1626])\n",
      "99 --- torch.Size([2, 1626])\n",
      "663 torch.Size([2, 1626])\n",
      "EDGE_INDEX: torch.Size([2, 1626])\t\tLOOP_INDEX: torch.Size([2, 663])\n",
      "241 --- torch.Size([2, 1626])\n",
      "99 --- torch.Size([2, 1626])\n",
      "663 torch.Size([2, 1626])\n",
      "EDGE_INDEX: torch.Size([2, 1626])\t\tLOOP_INDEX: torch.Size([2, 663])\n",
      "241 --- torch.Size([2, 1628])\n",
      "99 --- torch.Size([2, 1628])\n",
      "666 torch.Size([2, 1628])\n",
      "EDGE_INDEX: torch.Size([2, 1628])\t\tLOOP_INDEX: torch.Size([2, 666])\n",
      "241 --- torch.Size([2, 1628])\n",
      "99 --- torch.Size([2, 1628])\n",
      "666 torch.Size([2, 1628])\n",
      "EDGE_INDEX: torch.Size([2, 1628])\t\tLOOP_INDEX: torch.Size([2, 666])\n",
      "241 --- torch.Size([2, 1612])\n",
      "99 --- torch.Size([2, 1612])\n",
      "666 torch.Size([2, 1612])\n",
      "EDGE_INDEX: torch.Size([2, 1612])\t\tLOOP_INDEX: torch.Size([2, 666])\n",
      "241 --- torch.Size([2, 1612])\n",
      "99 --- torch.Size([2, 1612])\n",
      "666 torch.Size([2, 1612])\n",
      "EDGE_INDEX: torch.Size([2, 1612])\t\tLOOP_INDEX: torch.Size([2, 666])\n",
      "241 --- torch.Size([2, 1598])\n",
      "99 --- torch.Size([2, 1598])\n",
      "658 torch.Size([2, 1598])\n",
      "EDGE_INDEX: torch.Size([2, 1598])\t\tLOOP_INDEX: torch.Size([2, 658])\n",
      "241 --- torch.Size([2, 1598])\n",
      "99 --- torch.Size([2, 1598])\n",
      "658 torch.Size([2, 1598])\n",
      "EDGE_INDEX: torch.Size([2, 1598])\t\tLOOP_INDEX: torch.Size([2, 658])\n",
      "241 --- torch.Size([2, 1692])\n",
      "99 --- torch.Size([2, 1692])\n",
      "692 torch.Size([2, 1692])\n",
      "EDGE_INDEX: torch.Size([2, 1692])\t\tLOOP_INDEX: torch.Size([2, 692])\n",
      "241 --- torch.Size([2, 1692])\n",
      "99 --- torch.Size([2, 1692])\n",
      "692 torch.Size([2, 1692])\n",
      "EDGE_INDEX: torch.Size([2, 1692])\t\tLOOP_INDEX: torch.Size([2, 692])\n",
      "241 --- torch.Size([2, 1618])\n",
      "99 --- torch.Size([2, 1618])\n",
      "686 torch.Size([2, 1618])\n",
      "EDGE_INDEX: torch.Size([2, 1618])\t\tLOOP_INDEX: torch.Size([2, 686])\n",
      "241 --- torch.Size([2, 1618])\n",
      "99 --- torch.Size([2, 1618])\n",
      "686 torch.Size([2, 1618])\n",
      "EDGE_INDEX: torch.Size([2, 1618])\t\tLOOP_INDEX: torch.Size([2, 686])\n",
      "241 --- torch.Size([2, 1906])\n",
      "99 --- torch.Size([2, 1906])\n",
      "707 torch.Size([2, 1906])\n",
      "EDGE_INDEX: torch.Size([2, 1906])\t\tLOOP_INDEX: torch.Size([2, 707])\n",
      "241 --- torch.Size([2, 1906])\n",
      "99 --- torch.Size([2, 1906])\n",
      "707 torch.Size([2, 1906])\n",
      "EDGE_INDEX: torch.Size([2, 1906])\t\tLOOP_INDEX: torch.Size([2, 707])\n",
      "241 --- torch.Size([2, 1774])\n",
      "99 --- torch.Size([2, 1774])\n",
      "721 torch.Size([2, 1774])\n",
      "EDGE_INDEX: torch.Size([2, 1774])\t\tLOOP_INDEX: torch.Size([2, 721])\n",
      "241 --- torch.Size([2, 1774])\n",
      "99 --- torch.Size([2, 1774])\n",
      "721 torch.Size([2, 1774])\n",
      "EDGE_INDEX: torch.Size([2, 1774])\t\tLOOP_INDEX: torch.Size([2, 721])\n",
      "241 --- torch.Size([2, 1836])\n",
      "99 --- torch.Size([2, 1836])\n",
      "725 torch.Size([2, 1836])\n",
      "EDGE_INDEX: torch.Size([2, 1836])\t\tLOOP_INDEX: torch.Size([2, 725])\n",
      "241 --- torch.Size([2, 1836])\n",
      "99 --- torch.Size([2, 1836])\n",
      "725 torch.Size([2, 1836])\n",
      "EDGE_INDEX: torch.Size([2, 1836])\t\tLOOP_INDEX: torch.Size([2, 725])\n",
      "241 --- torch.Size([2, 1552])\n",
      "99 --- torch.Size([2, 1552])\n",
      "648 torch.Size([2, 1552])\n",
      "EDGE_INDEX: torch.Size([2, 1552])\t\tLOOP_INDEX: torch.Size([2, 648])\n",
      "241 --- torch.Size([2, 1552])\n",
      "99 --- torch.Size([2, 1552])\n",
      "648 torch.Size([2, 1552])\n",
      "EDGE_INDEX: torch.Size([2, 1552])\t\tLOOP_INDEX: torch.Size([2, 648])\n",
      "241 --- torch.Size([2, 1702])\n",
      "99 --- torch.Size([2, 1702])\n",
      "702 torch.Size([2, 1702])\n",
      "EDGE_INDEX: torch.Size([2, 1702])\t\tLOOP_INDEX: torch.Size([2, 702])\n",
      "241 --- torch.Size([2, 1702])\n",
      "99 --- torch.Size([2, 1702])\n",
      "702 torch.Size([2, 1702])\n",
      "EDGE_INDEX: torch.Size([2, 1702])\t\tLOOP_INDEX: torch.Size([2, 702])\n",
      "241 --- torch.Size([2, 1706])\n",
      "99 --- torch.Size([2, 1706])\n",
      "699 torch.Size([2, 1706])\n",
      "EDGE_INDEX: torch.Size([2, 1706])\t\tLOOP_INDEX: torch.Size([2, 699])\n",
      "241 --- torch.Size([2, 1706])\n",
      "99 --- torch.Size([2, 1706])\n",
      "699 torch.Size([2, 1706])\n",
      "EDGE_INDEX: torch.Size([2, 1706])\t\tLOOP_INDEX: torch.Size([2, 699])\n",
      "241 --- torch.Size([2, 1442])\n",
      "99 --- torch.Size([2, 1442])\n",
      "626 torch.Size([2, 1442])\n",
      "EDGE_INDEX: torch.Size([2, 1442])\t\tLOOP_INDEX: torch.Size([2, 626])\n",
      "241 --- torch.Size([2, 1442])\n",
      "99 --- torch.Size([2, 1442])\n",
      "626 torch.Size([2, 1442])\n",
      "EDGE_INDEX: torch.Size([2, 1442])\t\tLOOP_INDEX: torch.Size([2, 626])\n",
      "241 --- torch.Size([2, 1726])\n",
      "99 --- torch.Size([2, 1726])\n",
      "671 torch.Size([2, 1726])\n",
      "EDGE_INDEX: torch.Size([2, 1726])\t\tLOOP_INDEX: torch.Size([2, 671])\n",
      "241 --- torch.Size([2, 1726])\n",
      "99 --- torch.Size([2, 1726])\n",
      "671 torch.Size([2, 1726])\n",
      "EDGE_INDEX: torch.Size([2, 1726])\t\tLOOP_INDEX: torch.Size([2, 671])\n",
      "241 --- torch.Size([2, 1830])\n",
      "99 --- torch.Size([2, 1830])\n",
      "717 torch.Size([2, 1830])\n",
      "EDGE_INDEX: torch.Size([2, 1830])\t\tLOOP_INDEX: torch.Size([2, 717])\n",
      "241 --- torch.Size([2, 1830])\n",
      "99 --- torch.Size([2, 1830])\n",
      "717 torch.Size([2, 1830])\n",
      "EDGE_INDEX: torch.Size([2, 1830])\t\tLOOP_INDEX: torch.Size([2, 717])\n",
      "241 --- torch.Size([2, 1708])\n",
      "99 --- torch.Size([2, 1708])\n",
      "687 torch.Size([2, 1708])\n",
      "EDGE_INDEX: torch.Size([2, 1708])\t\tLOOP_INDEX: torch.Size([2, 687])\n",
      "241 --- torch.Size([2, 1708])\n",
      "99 --- torch.Size([2, 1708])\n",
      "687 torch.Size([2, 1708])\n",
      "EDGE_INDEX: torch.Size([2, 1708])\t\tLOOP_INDEX: torch.Size([2, 687])\n",
      "241 --- torch.Size([2, 1266])\n",
      "99 --- torch.Size([2, 1266])\n",
      "511 torch.Size([2, 1266])\n",
      "EDGE_INDEX: torch.Size([2, 1266])\t\tLOOP_INDEX: torch.Size([2, 511])\n",
      "241 --- torch.Size([2, 1266])\n",
      "99 --- torch.Size([2, 1266])\n",
      "511 torch.Size([2, 1266])\n",
      "EDGE_INDEX: torch.Size([2, 1266])\t\tLOOP_INDEX: torch.Size([2, 511])\n",
      "241 --- torch.Size([2, 466])\n",
      "99 --- torch.Size([2, 466])\n",
      "171 torch.Size([2, 466])\n",
      "EDGE_INDEX: torch.Size([2, 466])\t\tLOOP_INDEX: torch.Size([2, 171])\n",
      "241 --- torch.Size([2, 466])\n",
      "99 --- torch.Size([2, 466])\n",
      "171 torch.Size([2, 466])\n",
      "EDGE_INDEX: torch.Size([2, 466])\t\tLOOP_INDEX: torch.Size([2, 171])\n",
      "241 --- torch.Size([2, 414])\n",
      "99 --- torch.Size([2, 414])\n",
      "166 torch.Size([2, 414])\n",
      "EDGE_INDEX: torch.Size([2, 414])\t\tLOOP_INDEX: torch.Size([2, 166])\n",
      "241 --- torch.Size([2, 414])\n",
      "99 --- torch.Size([2, 414])\n",
      "166 torch.Size([2, 414])\n",
      "EDGE_INDEX: torch.Size([2, 414])\t\tLOOP_INDEX: torch.Size([2, 166])\n",
      "241 --- torch.Size([2, 572])\n",
      "99 --- torch.Size([2, 572])\n",
      "208 torch.Size([2, 572])\n",
      "EDGE_INDEX: torch.Size([2, 572])\t\tLOOP_INDEX: torch.Size([2, 208])\n",
      "241 --- torch.Size([2, 572])\n",
      "99 --- torch.Size([2, 572])\n",
      "208 torch.Size([2, 572])\n",
      "EDGE_INDEX: torch.Size([2, 572])\t\tLOOP_INDEX: torch.Size([2, 208])\n",
      "241 --- torch.Size([2, 522])\n",
      "99 --- torch.Size([2, 522])\n",
      "182 torch.Size([2, 522])\n",
      "EDGE_INDEX: torch.Size([2, 522])\t\tLOOP_INDEX: torch.Size([2, 182])\n",
      "241 --- torch.Size([2, 522])\n",
      "99 --- torch.Size([2, 522])\n",
      "182 torch.Size([2, 522])\n",
      "EDGE_INDEX: torch.Size([2, 522])\t\tLOOP_INDEX: torch.Size([2, 182])\n",
      "241 --- torch.Size([2, 454])\n",
      "99 --- torch.Size([2, 454])\n",
      "173 torch.Size([2, 454])\n",
      "EDGE_INDEX: torch.Size([2, 454])\t\tLOOP_INDEX: torch.Size([2, 173])\n",
      "241 --- torch.Size([2, 454])\n",
      "99 --- torch.Size([2, 454])\n",
      "173 torch.Size([2, 454])\n",
      "EDGE_INDEX: torch.Size([2, 454])\t\tLOOP_INDEX: torch.Size([2, 173])\n",
      "241 --- torch.Size([2, 286])\n",
      "99 --- torch.Size([2, 286])\n",
      "134 torch.Size([2, 286])\n",
      "EDGE_INDEX: torch.Size([2, 286])\t\tLOOP_INDEX: torch.Size([2, 134])\n",
      "241 --- torch.Size([2, 286])\n",
      "99 --- torch.Size([2, 286])\n",
      "134 torch.Size([2, 286])\n",
      "EDGE_INDEX: torch.Size([2, 286])\t\tLOOP_INDEX: torch.Size([2, 134])\n",
      "241 --- torch.Size([2, 462])\n",
      "99 --- torch.Size([2, 462])\n",
      "182 torch.Size([2, 462])\n",
      "EDGE_INDEX: torch.Size([2, 462])\t\tLOOP_INDEX: torch.Size([2, 182])\n",
      "241 --- torch.Size([2, 462])\n",
      "99 --- torch.Size([2, 462])\n",
      "182 torch.Size([2, 462])\n",
      "EDGE_INDEX: torch.Size([2, 462])\t\tLOOP_INDEX: torch.Size([2, 182])\n",
      "241 --- torch.Size([2, 700])\n",
      "99 --- torch.Size([2, 700])\n",
      "238 torch.Size([2, 700])\n",
      "EDGE_INDEX: torch.Size([2, 700])\t\tLOOP_INDEX: torch.Size([2, 238])\n",
      "241 --- torch.Size([2, 700])\n",
      "99 --- torch.Size([2, 700])\n",
      "238 torch.Size([2, 700])\n",
      "EDGE_INDEX: torch.Size([2, 700])\t\tLOOP_INDEX: torch.Size([2, 238])\n",
      "241 --- torch.Size([2, 452])\n",
      "99 --- torch.Size([2, 452])\n",
      "182 torch.Size([2, 452])\n",
      "EDGE_INDEX: torch.Size([2, 452])\t\tLOOP_INDEX: torch.Size([2, 182])\n",
      "241 --- torch.Size([2, 452])\n",
      "99 --- torch.Size([2, 452])\n",
      "182 torch.Size([2, 452])\n",
      "EDGE_INDEX: torch.Size([2, 452])\t\tLOOP_INDEX: torch.Size([2, 182])\n",
      "241 --- torch.Size([2, 576])\n",
      "99 --- torch.Size([2, 576])\n",
      "197 torch.Size([2, 576])\n",
      "EDGE_INDEX: torch.Size([2, 576])\t\tLOOP_INDEX: torch.Size([2, 197])\n",
      "241 --- torch.Size([2, 576])\n",
      "99 --- torch.Size([2, 576])\n",
      "197 torch.Size([2, 576])\n",
      "EDGE_INDEX: torch.Size([2, 576])\t\tLOOP_INDEX: torch.Size([2, 197])\n",
      "241 --- torch.Size([2, 538])\n",
      "99 --- torch.Size([2, 538])\n",
      "210 torch.Size([2, 538])\n",
      "EDGE_INDEX: torch.Size([2, 538])\t\tLOOP_INDEX: torch.Size([2, 210])\n",
      "241 --- torch.Size([2, 538])\n",
      "99 --- torch.Size([2, 538])\n",
      "210 torch.Size([2, 538])\n",
      "EDGE_INDEX: torch.Size([2, 538])\t\tLOOP_INDEX: torch.Size([2, 210])\n",
      "241 --- torch.Size([2, 358])\n",
      "99 --- torch.Size([2, 358])\n",
      "155 torch.Size([2, 358])\n",
      "EDGE_INDEX: torch.Size([2, 358])\t\tLOOP_INDEX: torch.Size([2, 155])\n",
      "241 --- torch.Size([2, 358])\n",
      "99 --- torch.Size([2, 358])\n",
      "155 torch.Size([2, 358])\n",
      "EDGE_INDEX: torch.Size([2, 358])\t\tLOOP_INDEX: torch.Size([2, 155])\n",
      "241 --- torch.Size([2, 368])\n",
      "99 --- torch.Size([2, 368])\n",
      "168 torch.Size([2, 368])\n",
      "EDGE_INDEX: torch.Size([2, 368])\t\tLOOP_INDEX: torch.Size([2, 168])\n",
      "241 --- torch.Size([2, 368])\n",
      "99 --- torch.Size([2, 368])\n",
      "168 torch.Size([2, 368])\n",
      "EDGE_INDEX: torch.Size([2, 368])\t\tLOOP_INDEX: torch.Size([2, 168])\n",
      "241 --- torch.Size([2, 368])\n",
      "99 --- torch.Size([2, 368])\n",
      "155 torch.Size([2, 368])\n",
      "EDGE_INDEX: torch.Size([2, 368])\t\tLOOP_INDEX: torch.Size([2, 155])\n",
      "241 --- torch.Size([2, 368])\n",
      "99 --- torch.Size([2, 368])\n",
      "155 torch.Size([2, 368])\n",
      "EDGE_INDEX: torch.Size([2, 368])\t\tLOOP_INDEX: torch.Size([2, 155])\n",
      "241 --- torch.Size([2, 206])\n",
      "99 --- torch.Size([2, 206])\n",
      "68 torch.Size([2, 206])\n",
      "EDGE_INDEX: torch.Size([2, 206])\t\tLOOP_INDEX: torch.Size([2, 68])\n",
      "241 --- torch.Size([2, 206])\n",
      "99 --- torch.Size([2, 206])\n",
      "68 torch.Size([2, 206])\n",
      "EDGE_INDEX: torch.Size([2, 206])\t\tLOOP_INDEX: torch.Size([2, 68])\n"
     ]
    },
    {
     "name": "stderr",
     "output_type": "stream",
     "text": [
      "[Joint E3] Calc Global P:   0%|          | 0/17 [00:00<?, ?it/s]"
     ]
    },
    {
     "name": "stdout",
     "output_type": "stream",
     "text": [
      "241 --- torch.Size([2, 1792])\n",
      "99 --- torch.Size([2, 1792])\n",
      "696 torch.Size([2, 1792])\n",
      "EDGE_INDEX: torch.Size([2, 1792])\t\tLOOP_INDEX: torch.Size([2, 696])\n",
      "241 --- torch.Size([2, 1792])\n",
      "99 --- torch.Size([2, 1792])\n",
      "696 torch.Size([2, 1792])\n",
      "EDGE_INDEX: torch.Size([2, 1792])\t\tLOOP_INDEX: torch.Size([2, 696])\n"
     ]
    },
    {
     "name": "stderr",
     "output_type": "stream",
     "text": [
      "[Joint E3] Calc Global P:   6%|▌         | 1/17 [00:05<01:21,  5.12s/it]"
     ]
    },
    {
     "name": "stdout",
     "output_type": "stream",
     "text": [
      "241 --- torch.Size([2, 1818])\n",
      "99 --- torch.Size([2, 1818])\n",
      "704 torch.Size([2, 1818])\n",
      "EDGE_INDEX: torch.Size([2, 1818])\t\tLOOP_INDEX: torch.Size([2, 704])\n",
      "241 --- torch.Size([2, 1818])\n",
      "99 --- torch.Size([2, 1818])\n",
      "704 torch.Size([2, 1818])\n",
      "EDGE_INDEX: torch.Size([2, 1818])\t\tLOOP_INDEX: torch.Size([2, 704])\n"
     ]
    },
    {
     "name": "stderr",
     "output_type": "stream",
     "text": [
      "[Joint E3] Calc Global P:  12%|█▏        | 2/17 [00:09<01:14,  4.95s/it]"
     ]
    },
    {
     "name": "stdout",
     "output_type": "stream",
     "text": [
      "241 --- torch.Size([2, 1634])\n",
      "99 --- torch.Size([2, 1634])\n",
      "689 torch.Size([2, 1634])\n",
      "EDGE_INDEX: torch.Size([2, 1634])\t\tLOOP_INDEX: torch.Size([2, 689])\n",
      "241 --- torch.Size([2, 1634])\n",
      "99 --- torch.Size([2, 1634])\n",
      "689 torch.Size([2, 1634])\n",
      "EDGE_INDEX: torch.Size([2, 1634])\t\tLOOP_INDEX: torch.Size([2, 689])\n"
     ]
    },
    {
     "name": "stderr",
     "output_type": "stream",
     "text": [
      "[Joint E3] Calc Global P:  18%|█▊        | 3/17 [00:14<01:06,  4.72s/it]"
     ]
    },
    {
     "name": "stdout",
     "output_type": "stream",
     "text": [
      "241 --- torch.Size([2, 1808])\n",
      "99 --- torch.Size([2, 1808])\n",
      "716 torch.Size([2, 1808])\n",
      "EDGE_INDEX: torch.Size([2, 1808])\t\tLOOP_INDEX: torch.Size([2, 716])\n",
      "241 --- torch.Size([2, 1808])\n",
      "99 --- torch.Size([2, 1808])\n",
      "716 torch.Size([2, 1808])\n",
      "EDGE_INDEX: torch.Size([2, 1808])\t\tLOOP_INDEX: torch.Size([2, 716])\n"
     ]
    },
    {
     "name": "stderr",
     "output_type": "stream",
     "text": [
      "[Joint E3] Calc Global P:  24%|██▎       | 4/17 [00:18<00:56,  4.38s/it]"
     ]
    },
    {
     "name": "stdout",
     "output_type": "stream",
     "text": [
      "241 --- torch.Size([2, 1886])\n",
      "99 --- torch.Size([2, 1886])\n",
      "723 torch.Size([2, 1886])\n",
      "EDGE_INDEX: torch.Size([2, 1886])\t\tLOOP_INDEX: torch.Size([2, 723])\n",
      "241 --- torch.Size([2, 1886])\n",
      "99 --- torch.Size([2, 1886])\n",
      "723 torch.Size([2, 1886])\n",
      "EDGE_INDEX: torch.Size([2, 1886])\t\tLOOP_INDEX: torch.Size([2, 723])\n"
     ]
    },
    {
     "name": "stderr",
     "output_type": "stream",
     "text": [
      "[Joint E3] Calc Global P:  29%|██▉       | 5/17 [00:22<00:52,  4.42s/it]"
     ]
    },
    {
     "name": "stdout",
     "output_type": "stream",
     "text": [
      "241 --- torch.Size([2, 1472])\n",
      "99 --- torch.Size([2, 1472])\n",
      "626 torch.Size([2, 1472])\n",
      "EDGE_INDEX: torch.Size([2, 1472])\t\tLOOP_INDEX: torch.Size([2, 626])\n",
      "241 --- torch.Size([2, 1472])\n",
      "99 --- torch.Size([2, 1472])\n",
      "626 torch.Size([2, 1472])\n",
      "EDGE_INDEX: torch.Size([2, 1472])\t\tLOOP_INDEX: torch.Size([2, 626])\n"
     ]
    },
    {
     "name": "stderr",
     "output_type": "stream",
     "text": [
      "[Joint E3] Calc Global P:  35%|███▌      | 6/17 [00:25<00:41,  3.76s/it]"
     ]
    },
    {
     "name": "stdout",
     "output_type": "stream",
     "text": [
      "241 --- torch.Size([2, 1624])\n",
      "99 --- torch.Size([2, 1624])\n",
      "657 torch.Size([2, 1624])\n",
      "EDGE_INDEX: torch.Size([2, 1624])\t\tLOOP_INDEX: torch.Size([2, 657])\n",
      "241 --- torch.Size([2, 1624])\n",
      "99 --- torch.Size([2, 1624])\n",
      "657 torch.Size([2, 1624])\n",
      "EDGE_INDEX: torch.Size([2, 1624])\t\tLOOP_INDEX: torch.Size([2, 657])\n"
     ]
    },
    {
     "name": "stderr",
     "output_type": "stream",
     "text": [
      "[Joint E3] Calc Global P:  41%|████      | 7/17 [00:30<00:41,  4.17s/it]"
     ]
    },
    {
     "name": "stdout",
     "output_type": "stream",
     "text": [
      "241 --- torch.Size([2, 2122])\n",
      "99 --- torch.Size([2, 2122])\n",
      "792 torch.Size([2, 2122])\n",
      "EDGE_INDEX: torch.Size([2, 2122])\t\tLOOP_INDEX: torch.Size([2, 792])\n",
      "241 --- torch.Size([2, 2122])\n",
      "99 --- torch.Size([2, 2122])\n",
      "792 torch.Size([2, 2122])\n",
      "EDGE_INDEX: torch.Size([2, 2122])\t\tLOOP_INDEX: torch.Size([2, 792])\n"
     ]
    },
    {
     "name": "stderr",
     "output_type": "stream",
     "text": [
      "[Joint E3] Calc Global P:  47%|████▋     | 8/17 [00:34<00:37,  4.20s/it]"
     ]
    },
    {
     "name": "stdout",
     "output_type": "stream",
     "text": [
      "241 --- torch.Size([2, 1822])\n",
      "99 --- torch.Size([2, 1822])\n",
      "721 torch.Size([2, 1822])\n",
      "EDGE_INDEX: torch.Size([2, 1822])\t\tLOOP_INDEX: torch.Size([2, 721])\n",
      "241 --- torch.Size([2, 1822])\n",
      "99 --- torch.Size([2, 1822])\n",
      "721 torch.Size([2, 1822])\n",
      "EDGE_INDEX: torch.Size([2, 1822])\t\tLOOP_INDEX: torch.Size([2, 721])\n"
     ]
    },
    {
     "name": "stderr",
     "output_type": "stream",
     "text": [
      "[Joint E3] Calc Global P:  53%|█████▎    | 9/17 [00:39<00:34,  4.31s/it]"
     ]
    },
    {
     "name": "stdout",
     "output_type": "stream",
     "text": [
      "241 --- torch.Size([2, 1654])\n",
      "99 --- torch.Size([2, 1654])\n",
      "671 torch.Size([2, 1654])\n",
      "EDGE_INDEX: torch.Size([2, 1654])\t\tLOOP_INDEX: torch.Size([2, 671])\n",
      "241 --- torch.Size([2, 1654])\n",
      "99 --- torch.Size([2, 1654])\n",
      "671 torch.Size([2, 1654])\n",
      "EDGE_INDEX: torch.Size([2, 1654])\t\tLOOP_INDEX: torch.Size([2, 671])\n"
     ]
    },
    {
     "name": "stderr",
     "output_type": "stream",
     "text": [
      "[Joint E3] Calc Global P:  59%|█████▉    | 10/17 [00:43<00:30,  4.36s/it]"
     ]
    },
    {
     "name": "stdout",
     "output_type": "stream",
     "text": [
      "241 --- torch.Size([2, 2052])\n",
      "99 --- torch.Size([2, 2052])\n",
      "737 torch.Size([2, 2052])\n",
      "EDGE_INDEX: torch.Size([2, 2052])\t\tLOOP_INDEX: torch.Size([2, 737])\n",
      "241 --- torch.Size([2, 2052])\n",
      "99 --- torch.Size([2, 2052])\n",
      "737 torch.Size([2, 2052])\n",
      "EDGE_INDEX: torch.Size([2, 2052])\t\tLOOP_INDEX: torch.Size([2, 737])\n"
     ]
    },
    {
     "name": "stderr",
     "output_type": "stream",
     "text": [
      "[Joint E3] Calc Global P:  65%|██████▍   | 11/17 [00:48<00:26,  4.48s/it]"
     ]
    },
    {
     "name": "stdout",
     "output_type": "stream",
     "text": [
      "241 --- torch.Size([2, 2270])\n",
      "99 --- torch.Size([2, 2270])\n",
      "800 torch.Size([2, 2270])\n",
      "EDGE_INDEX: torch.Size([2, 2270])\t\tLOOP_INDEX: torch.Size([2, 800])\n",
      "241 --- torch.Size([2, 2270])\n",
      "99 --- torch.Size([2, 2270])\n",
      "800 torch.Size([2, 2270])\n",
      "EDGE_INDEX: torch.Size([2, 2270])\t\tLOOP_INDEX: torch.Size([2, 800])\n"
     ]
    },
    {
     "name": "stderr",
     "output_type": "stream",
     "text": [
      "[Joint E3] Calc Global P:  71%|███████   | 12/17 [00:52<00:22,  4.43s/it]"
     ]
    },
    {
     "name": "stdout",
     "output_type": "stream",
     "text": [
      "241 --- torch.Size([2, 1560])\n",
      "99 --- torch.Size([2, 1560])\n",
      "677 torch.Size([2, 1560])\n",
      "EDGE_INDEX: torch.Size([2, 1560])\t\tLOOP_INDEX: torch.Size([2, 677])\n",
      "241 --- torch.Size([2, 1560])\n",
      "99 --- torch.Size([2, 1560])\n",
      "677 torch.Size([2, 1560])\n",
      "EDGE_INDEX: torch.Size([2, 1560])\t\tLOOP_INDEX: torch.Size([2, 677])\n"
     ]
    },
    {
     "name": "stderr",
     "output_type": "stream",
     "text": [
      "[Joint E3] Calc Global P:  76%|███████▋  | 13/17 [00:56<00:17,  4.30s/it]"
     ]
    },
    {
     "name": "stdout",
     "output_type": "stream",
     "text": [
      "241 --- torch.Size([2, 1450])\n",
      "99 --- torch.Size([2, 1450])\n",
      "642 torch.Size([2, 1450])\n",
      "EDGE_INDEX: torch.Size([2, 1450])\t\tLOOP_INDEX: torch.Size([2, 642])\n",
      "241 --- torch.Size([2, 1450])\n",
      "99 --- torch.Size([2, 1450])\n",
      "642 torch.Size([2, 1450])\n",
      "EDGE_INDEX: torch.Size([2, 1450])\t\tLOOP_INDEX: torch.Size([2, 642])\n"
     ]
    },
    {
     "name": "stderr",
     "output_type": "stream",
     "text": [
      "[Joint E3] Calc Global P:  82%|████████▏ | 14/17 [01:01<00:13,  4.51s/it]"
     ]
    },
    {
     "name": "stdout",
     "output_type": "stream",
     "text": [
      "241 --- torch.Size([2, 1412])\n",
      "99 --- torch.Size([2, 1412])\n",
      "628 torch.Size([2, 1412])\n",
      "EDGE_INDEX: torch.Size([2, 1412])\t\tLOOP_INDEX: torch.Size([2, 628])\n",
      "241 --- torch.Size([2, 1412])\n",
      "99 --- torch.Size([2, 1412])\n",
      "628 torch.Size([2, 1412])\n",
      "EDGE_INDEX: torch.Size([2, 1412])\t\tLOOP_INDEX: torch.Size([2, 628])\n"
     ]
    },
    {
     "name": "stderr",
     "output_type": "stream",
     "text": [
      "[Joint E3] Calc Global P:  88%|████████▊ | 15/17 [01:05<00:08,  4.37s/it]"
     ]
    },
    {
     "name": "stdout",
     "output_type": "stream",
     "text": [
      "241 --- torch.Size([2, 1662])\n",
      "99 --- torch.Size([2, 1662])\n",
      "666 torch.Size([2, 1662])\n",
      "EDGE_INDEX: torch.Size([2, 1662])\t\tLOOP_INDEX: torch.Size([2, 666])\n",
      "241 --- torch.Size([2, 1662])\n",
      "99 --- torch.Size([2, 1662])\n",
      "666 torch.Size([2, 1662])\n",
      "EDGE_INDEX: torch.Size([2, 1662])\t\tLOOP_INDEX: torch.Size([2, 666])\n"
     ]
    },
    {
     "name": "stderr",
     "output_type": "stream",
     "text": [
      "[Joint E3] Calc Global P:  94%|█████████▍| 16/17 [01:09<00:04,  4.13s/it]"
     ]
    },
    {
     "name": "stdout",
     "output_type": "stream",
     "text": [
      "241 --- torch.Size([2, 1332])\n",
      "99 --- torch.Size([2, 1332])\n",
      "530 torch.Size([2, 1332])\n",
      "EDGE_INDEX: torch.Size([2, 1332])\t\tLOOP_INDEX: torch.Size([2, 530])\n",
      "241 --- torch.Size([2, 1332])\n",
      "99 --- torch.Size([2, 1332])\n",
      "530 torch.Size([2, 1332])\n",
      "EDGE_INDEX: torch.Size([2, 1332])\t\tLOOP_INDEX: torch.Size([2, 530])\n"
     ]
    },
    {
     "name": "stderr",
     "output_type": "stream",
     "text": [
      "                                                                         \r"
     ]
    },
    {
     "name": "stdout",
     "output_type": "stream",
     "text": [
      "241 --- torch.Size([2, 1778])\n",
      "99 --- torch.Size([2, 1778])\n",
      "697 torch.Size([2, 1778])\n",
      "EDGE_INDEX: torch.Size([2, 1778])\t\tLOOP_INDEX: torch.Size([2, 697])\n",
      "241 --- torch.Size([2, 1778])\n",
      "99 --- torch.Size([2, 1778])\n",
      "697 torch.Size([2, 1778])\n",
      "EDGE_INDEX: torch.Size([2, 1778])\t\tLOOP_INDEX: torch.Size([2, 697])\n",
      "241 --- torch.Size([2, 1584])\n",
      "99 --- torch.Size([2, 1584])\n",
      "666 torch.Size([2, 1584])\n",
      "EDGE_INDEX: torch.Size([2, 1584])\t\tLOOP_INDEX: torch.Size([2, 666])\n",
      "241 --- torch.Size([2, 1584])\n",
      "99 --- torch.Size([2, 1584])\n",
      "666 torch.Size([2, 1584])\n",
      "EDGE_INDEX: torch.Size([2, 1584])\t\tLOOP_INDEX: torch.Size([2, 666])\n",
      "241 --- torch.Size([2, 1906])\n",
      "99 --- torch.Size([2, 1906])\n",
      "719 torch.Size([2, 1906])\n",
      "EDGE_INDEX: torch.Size([2, 1906])\t\tLOOP_INDEX: torch.Size([2, 719])\n",
      "241 --- torch.Size([2, 1906])\n",
      "99 --- torch.Size([2, 1906])\n",
      "719 torch.Size([2, 1906])\n",
      "EDGE_INDEX: torch.Size([2, 1906])\t\tLOOP_INDEX: torch.Size([2, 719])\n",
      "241 --- torch.Size([2, 1646])\n",
      "99 --- torch.Size([2, 1646])\n",
      "680 torch.Size([2, 1646])\n",
      "EDGE_INDEX: torch.Size([2, 1646])\t\tLOOP_INDEX: torch.Size([2, 680])\n",
      "241 --- torch.Size([2, 1646])\n",
      "99 --- torch.Size([2, 1646])\n",
      "680 torch.Size([2, 1646])\n",
      "EDGE_INDEX: torch.Size([2, 1646])\t\tLOOP_INDEX: torch.Size([2, 680])\n",
      "241 --- torch.Size([2, 1710])\n",
      "99 --- torch.Size([2, 1710])\n",
      "700 torch.Size([2, 1710])\n",
      "EDGE_INDEX: torch.Size([2, 1710])\t\tLOOP_INDEX: torch.Size([2, 700])\n",
      "241 --- torch.Size([2, 1710])\n",
      "99 --- torch.Size([2, 1710])\n",
      "700 torch.Size([2, 1710])\n",
      "EDGE_INDEX: torch.Size([2, 1710])\t\tLOOP_INDEX: torch.Size([2, 700])\n",
      "241 --- torch.Size([2, 1612])\n",
      "99 --- torch.Size([2, 1612])\n",
      "664 torch.Size([2, 1612])\n",
      "EDGE_INDEX: torch.Size([2, 1612])\t\tLOOP_INDEX: torch.Size([2, 664])\n",
      "241 --- torch.Size([2, 1612])\n",
      "99 --- torch.Size([2, 1612])\n",
      "664 torch.Size([2, 1612])\n",
      "EDGE_INDEX: torch.Size([2, 1612])\t\tLOOP_INDEX: torch.Size([2, 664])\n",
      "241 --- torch.Size([2, 1596])\n",
      "99 --- torch.Size([2, 1596])\n",
      "661 torch.Size([2, 1596])\n",
      "EDGE_INDEX: torch.Size([2, 1596])\t\tLOOP_INDEX: torch.Size([2, 661])\n",
      "241 --- torch.Size([2, 1596])\n",
      "99 --- torch.Size([2, 1596])\n",
      "661 torch.Size([2, 1596])\n",
      "EDGE_INDEX: torch.Size([2, 1596])\t\tLOOP_INDEX: torch.Size([2, 661])\n",
      "241 --- torch.Size([2, 1850])\n",
      "99 --- torch.Size([2, 1850])\n",
      "729 torch.Size([2, 1850])\n",
      "EDGE_INDEX: torch.Size([2, 1850])\t\tLOOP_INDEX: torch.Size([2, 729])\n",
      "241 --- torch.Size([2, 1850])\n",
      "99 --- torch.Size([2, 1850])\n",
      "729 torch.Size([2, 1850])\n",
      "EDGE_INDEX: torch.Size([2, 1850])\t\tLOOP_INDEX: torch.Size([2, 729])\n",
      "241 --- torch.Size([2, 1856])\n",
      "99 --- torch.Size([2, 1856])\n",
      "703 torch.Size([2, 1856])\n",
      "EDGE_INDEX: torch.Size([2, 1856])\t\tLOOP_INDEX: torch.Size([2, 703])\n",
      "241 --- torch.Size([2, 1856])\n",
      "99 --- torch.Size([2, 1856])\n",
      "703 torch.Size([2, 1856])\n",
      "EDGE_INDEX: torch.Size([2, 1856])\t\tLOOP_INDEX: torch.Size([2, 703])\n",
      "241 --- torch.Size([2, 1632])\n",
      "99 --- torch.Size([2, 1632])\n",
      "693 torch.Size([2, 1632])\n",
      "EDGE_INDEX: torch.Size([2, 1632])\t\tLOOP_INDEX: torch.Size([2, 693])\n",
      "241 --- torch.Size([2, 1632])\n",
      "99 --- torch.Size([2, 1632])\n",
      "693 torch.Size([2, 1632])\n",
      "EDGE_INDEX: torch.Size([2, 1632])\t\tLOOP_INDEX: torch.Size([2, 693])\n",
      "241 --- torch.Size([2, 1662])\n",
      "99 --- torch.Size([2, 1662])\n",
      "683 torch.Size([2, 1662])\n",
      "EDGE_INDEX: torch.Size([2, 1662])\t\tLOOP_INDEX: torch.Size([2, 683])\n",
      "241 --- torch.Size([2, 1662])\n",
      "99 --- torch.Size([2, 1662])\n",
      "683 torch.Size([2, 1662])\n",
      "EDGE_INDEX: torch.Size([2, 1662])\t\tLOOP_INDEX: torch.Size([2, 683])\n",
      "241 --- torch.Size([2, 1450])\n",
      "99 --- torch.Size([2, 1450])\n",
      "629 torch.Size([2, 1450])\n",
      "EDGE_INDEX: torch.Size([2, 1450])\t\tLOOP_INDEX: torch.Size([2, 629])\n",
      "241 --- torch.Size([2, 1450])\n",
      "99 --- torch.Size([2, 1450])\n",
      "629 torch.Size([2, 1450])\n",
      "EDGE_INDEX: torch.Size([2, 1450])\t\tLOOP_INDEX: torch.Size([2, 629])\n",
      "241 --- torch.Size([2, 1776])\n",
      "99 --- torch.Size([2, 1776])\n",
      "693 torch.Size([2, 1776])\n",
      "EDGE_INDEX: torch.Size([2, 1776])\t\tLOOP_INDEX: torch.Size([2, 693])\n",
      "241 --- torch.Size([2, 1776])\n",
      "99 --- torch.Size([2, 1776])\n",
      "693 torch.Size([2, 1776])\n",
      "EDGE_INDEX: torch.Size([2, 1776])\t\tLOOP_INDEX: torch.Size([2, 693])\n",
      "241 --- torch.Size([2, 1554])\n",
      "99 --- torch.Size([2, 1554])\n",
      "660 torch.Size([2, 1554])\n",
      "EDGE_INDEX: torch.Size([2, 1554])\t\tLOOP_INDEX: torch.Size([2, 660])\n",
      "241 --- torch.Size([2, 1554])\n",
      "99 --- torch.Size([2, 1554])\n",
      "660 torch.Size([2, 1554])\n",
      "EDGE_INDEX: torch.Size([2, 1554])\t\tLOOP_INDEX: torch.Size([2, 660])\n",
      "241 --- torch.Size([2, 1820])\n",
      "99 --- torch.Size([2, 1820])\n",
      "715 torch.Size([2, 1820])\n",
      "EDGE_INDEX: torch.Size([2, 1820])\t\tLOOP_INDEX: torch.Size([2, 715])\n",
      "241 --- torch.Size([2, 1820])\n",
      "99 --- torch.Size([2, 1820])\n",
      "715 torch.Size([2, 1820])\n",
      "EDGE_INDEX: torch.Size([2, 1820])\t\tLOOP_INDEX: torch.Size([2, 715])\n",
      "241 --- torch.Size([2, 1512])\n",
      "99 --- torch.Size([2, 1512])\n",
      "661 torch.Size([2, 1512])\n",
      "EDGE_INDEX: torch.Size([2, 1512])\t\tLOOP_INDEX: torch.Size([2, 661])\n",
      "241 --- torch.Size([2, 1512])\n",
      "99 --- torch.Size([2, 1512])\n",
      "661 torch.Size([2, 1512])\n",
      "EDGE_INDEX: torch.Size([2, 1512])\t\tLOOP_INDEX: torch.Size([2, 661])\n",
      "241 --- torch.Size([2, 1568])\n",
      "99 --- torch.Size([2, 1568])\n",
      "574 torch.Size([2, 1568])\n",
      "EDGE_INDEX: torch.Size([2, 1568])\t\tLOOP_INDEX: torch.Size([2, 574])\n",
      "241 --- torch.Size([2, 1568])\n",
      "99 --- torch.Size([2, 1568])\n",
      "574 torch.Size([2, 1568])\n",
      "EDGE_INDEX: torch.Size([2, 1568])\t\tLOOP_INDEX: torch.Size([2, 574])\n",
      "241 --- torch.Size([2, 466])\n",
      "99 --- torch.Size([2, 466])\n",
      "171 torch.Size([2, 466])\n",
      "EDGE_INDEX: torch.Size([2, 466])\t\tLOOP_INDEX: torch.Size([2, 171])\n",
      "241 --- torch.Size([2, 466])\n",
      "99 --- torch.Size([2, 466])\n",
      "171 torch.Size([2, 466])\n",
      "EDGE_INDEX: torch.Size([2, 466])\t\tLOOP_INDEX: torch.Size([2, 171])\n",
      "241 --- torch.Size([2, 414])\n",
      "99 --- torch.Size([2, 414])\n",
      "166 torch.Size([2, 414])\n",
      "EDGE_INDEX: torch.Size([2, 414])\t\tLOOP_INDEX: torch.Size([2, 166])\n",
      "241 --- torch.Size([2, 414])\n",
      "99 --- torch.Size([2, 414])\n",
      "166 torch.Size([2, 414])\n",
      "EDGE_INDEX: torch.Size([2, 414])\t\tLOOP_INDEX: torch.Size([2, 166])\n",
      "241 --- torch.Size([2, 572])\n",
      "99 --- torch.Size([2, 572])\n",
      "208 torch.Size([2, 572])\n",
      "EDGE_INDEX: torch.Size([2, 572])\t\tLOOP_INDEX: torch.Size([2, 208])\n",
      "241 --- torch.Size([2, 572])\n",
      "99 --- torch.Size([2, 572])\n",
      "208 torch.Size([2, 572])\n",
      "EDGE_INDEX: torch.Size([2, 572])\t\tLOOP_INDEX: torch.Size([2, 208])\n",
      "241 --- torch.Size([2, 522])\n",
      "99 --- torch.Size([2, 522])\n",
      "182 torch.Size([2, 522])\n",
      "EDGE_INDEX: torch.Size([2, 522])\t\tLOOP_INDEX: torch.Size([2, 182])\n",
      "241 --- torch.Size([2, 522])\n",
      "99 --- torch.Size([2, 522])\n",
      "182 torch.Size([2, 522])\n",
      "EDGE_INDEX: torch.Size([2, 522])\t\tLOOP_INDEX: torch.Size([2, 182])\n",
      "241 --- torch.Size([2, 454])\n",
      "99 --- torch.Size([2, 454])\n",
      "173 torch.Size([2, 454])\n",
      "EDGE_INDEX: torch.Size([2, 454])\t\tLOOP_INDEX: torch.Size([2, 173])\n",
      "241 --- torch.Size([2, 454])\n",
      "99 --- torch.Size([2, 454])\n",
      "173 torch.Size([2, 454])\n",
      "EDGE_INDEX: torch.Size([2, 454])\t\tLOOP_INDEX: torch.Size([2, 173])\n",
      "241 --- torch.Size([2, 286])\n",
      "99 --- torch.Size([2, 286])\n",
      "134 torch.Size([2, 286])\n",
      "EDGE_INDEX: torch.Size([2, 286])\t\tLOOP_INDEX: torch.Size([2, 134])\n",
      "241 --- torch.Size([2, 286])\n",
      "99 --- torch.Size([2, 286])\n",
      "134 torch.Size([2, 286])\n",
      "EDGE_INDEX: torch.Size([2, 286])\t\tLOOP_INDEX: torch.Size([2, 134])\n",
      "241 --- torch.Size([2, 462])\n",
      "99 --- torch.Size([2, 462])\n",
      "182 torch.Size([2, 462])\n",
      "EDGE_INDEX: torch.Size([2, 462])\t\tLOOP_INDEX: torch.Size([2, 182])\n",
      "241 --- torch.Size([2, 462])\n",
      "99 --- torch.Size([2, 462])\n",
      "182 torch.Size([2, 462])\n",
      "EDGE_INDEX: torch.Size([2, 462])\t\tLOOP_INDEX: torch.Size([2, 182])\n",
      "241 --- torch.Size([2, 700])\n",
      "99 --- torch.Size([2, 700])\n",
      "238 torch.Size([2, 700])\n",
      "EDGE_INDEX: torch.Size([2, 700])\t\tLOOP_INDEX: torch.Size([2, 238])\n",
      "241 --- torch.Size([2, 700])\n",
      "99 --- torch.Size([2, 700])\n",
      "238 torch.Size([2, 700])\n",
      "EDGE_INDEX: torch.Size([2, 700])\t\tLOOP_INDEX: torch.Size([2, 238])\n",
      "241 --- torch.Size([2, 452])\n",
      "99 --- torch.Size([2, 452])\n",
      "182 torch.Size([2, 452])\n",
      "EDGE_INDEX: torch.Size([2, 452])\t\tLOOP_INDEX: torch.Size([2, 182])\n",
      "241 --- torch.Size([2, 452])\n",
      "99 --- torch.Size([2, 452])\n",
      "182 torch.Size([2, 452])\n",
      "EDGE_INDEX: torch.Size([2, 452])\t\tLOOP_INDEX: torch.Size([2, 182])\n",
      "241 --- torch.Size([2, 576])\n",
      "99 --- torch.Size([2, 576])\n",
      "197 torch.Size([2, 576])\n",
      "EDGE_INDEX: torch.Size([2, 576])\t\tLOOP_INDEX: torch.Size([2, 197])\n",
      "241 --- torch.Size([2, 576])\n",
      "99 --- torch.Size([2, 576])\n",
      "197 torch.Size([2, 576])\n",
      "EDGE_INDEX: torch.Size([2, 576])\t\tLOOP_INDEX: torch.Size([2, 197])\n",
      "241 --- torch.Size([2, 538])\n",
      "99 --- torch.Size([2, 538])\n",
      "210 torch.Size([2, 538])\n",
      "EDGE_INDEX: torch.Size([2, 538])\t\tLOOP_INDEX: torch.Size([2, 210])\n",
      "241 --- torch.Size([2, 538])\n",
      "99 --- torch.Size([2, 538])\n",
      "210 torch.Size([2, 538])\n",
      "EDGE_INDEX: torch.Size([2, 538])\t\tLOOP_INDEX: torch.Size([2, 210])\n",
      "241 --- torch.Size([2, 358])\n",
      "99 --- torch.Size([2, 358])\n",
      "155 torch.Size([2, 358])\n",
      "EDGE_INDEX: torch.Size([2, 358])\t\tLOOP_INDEX: torch.Size([2, 155])\n",
      "241 --- torch.Size([2, 358])\n",
      "99 --- torch.Size([2, 358])\n",
      "155 torch.Size([2, 358])\n",
      "EDGE_INDEX: torch.Size([2, 358])\t\tLOOP_INDEX: torch.Size([2, 155])\n",
      "241 --- torch.Size([2, 368])\n",
      "99 --- torch.Size([2, 368])\n",
      "168 torch.Size([2, 368])\n",
      "EDGE_INDEX: torch.Size([2, 368])\t\tLOOP_INDEX: torch.Size([2, 168])\n",
      "241 --- torch.Size([2, 368])\n",
      "99 --- torch.Size([2, 368])\n",
      "168 torch.Size([2, 368])\n",
      "EDGE_INDEX: torch.Size([2, 368])\t\tLOOP_INDEX: torch.Size([2, 168])\n",
      "241 --- torch.Size([2, 368])\n",
      "99 --- torch.Size([2, 368])\n",
      "155 torch.Size([2, 368])\n",
      "EDGE_INDEX: torch.Size([2, 368])\t\tLOOP_INDEX: torch.Size([2, 155])\n",
      "241 --- torch.Size([2, 368])\n",
      "99 --- torch.Size([2, 368])\n",
      "155 torch.Size([2, 368])\n",
      "EDGE_INDEX: torch.Size([2, 368])\t\tLOOP_INDEX: torch.Size([2, 155])\n",
      "241 --- torch.Size([2, 206])\n",
      "99 --- torch.Size([2, 206])\n",
      "68 torch.Size([2, 206])\n",
      "EDGE_INDEX: torch.Size([2, 206])\t\tLOOP_INDEX: torch.Size([2, 68])\n",
      "241 --- torch.Size([2, 206])\n",
      "99 --- torch.Size([2, 206])\n",
      "68 torch.Size([2, 206])\n",
      "EDGE_INDEX: torch.Size([2, 206])\t\tLOOP_INDEX: torch.Size([2, 68])\n"
     ]
    },
    {
     "name": "stderr",
     "output_type": "stream",
     "text": [
      "[Joint E4] Calc Global P:   0%|          | 0/17 [00:00<?, ?it/s]"
     ]
    },
    {
     "name": "stdout",
     "output_type": "stream",
     "text": [
      "241 --- torch.Size([2, 1792])\n",
      "99 --- torch.Size([2, 1792])\n",
      "696 torch.Size([2, 1792])\n",
      "EDGE_INDEX: torch.Size([2, 1792])\t\tLOOP_INDEX: torch.Size([2, 696])\n",
      "241 --- torch.Size([2, 1792])\n",
      "99 --- torch.Size([2, 1792])\n",
      "696 torch.Size([2, 1792])\n",
      "EDGE_INDEX: torch.Size([2, 1792])\t\tLOOP_INDEX: torch.Size([2, 696])\n"
     ]
    },
    {
     "name": "stderr",
     "output_type": "stream",
     "text": [
      "[Joint E4] Calc Global P:   6%|▌         | 1/17 [00:04<01:09,  4.37s/it]"
     ]
    },
    {
     "name": "stdout",
     "output_type": "stream",
     "text": [
      "241 --- torch.Size([2, 1818])\n",
      "99 --- torch.Size([2, 1818])\n",
      "704 torch.Size([2, 1818])\n",
      "EDGE_INDEX: torch.Size([2, 1818])\t\tLOOP_INDEX: torch.Size([2, 704])\n",
      "241 --- torch.Size([2, 1818])\n",
      "99 --- torch.Size([2, 1818])\n",
      "704 torch.Size([2, 1818])\n",
      "EDGE_INDEX: torch.Size([2, 1818])\t\tLOOP_INDEX: torch.Size([2, 704])\n"
     ]
    },
    {
     "name": "stderr",
     "output_type": "stream",
     "text": [
      "[Joint E4] Calc Global P:  12%|█▏        | 2/17 [00:08<01:05,  4.37s/it]"
     ]
    },
    {
     "name": "stdout",
     "output_type": "stream",
     "text": [
      "241 --- torch.Size([2, 1634])\n",
      "99 --- torch.Size([2, 1634])\n",
      "689 torch.Size([2, 1634])\n",
      "EDGE_INDEX: torch.Size([2, 1634])\t\tLOOP_INDEX: torch.Size([2, 689])\n",
      "241 --- torch.Size([2, 1634])\n",
      "99 --- torch.Size([2, 1634])\n",
      "689 torch.Size([2, 1634])\n",
      "EDGE_INDEX: torch.Size([2, 1634])\t\tLOOP_INDEX: torch.Size([2, 689])\n"
     ]
    },
    {
     "name": "stderr",
     "output_type": "stream",
     "text": [
      "[Joint E4] Calc Global P:  18%|█▊        | 3/17 [00:13<01:01,  4.41s/it]"
     ]
    },
    {
     "name": "stdout",
     "output_type": "stream",
     "text": [
      "241 --- torch.Size([2, 1808])\n",
      "99 --- torch.Size([2, 1808])\n",
      "716 torch.Size([2, 1808])\n",
      "EDGE_INDEX: torch.Size([2, 1808])\t\tLOOP_INDEX: torch.Size([2, 716])\n",
      "241 --- torch.Size([2, 1808])\n",
      "99 --- torch.Size([2, 1808])\n",
      "716 torch.Size([2, 1808])\n",
      "EDGE_INDEX: torch.Size([2, 1808])\t\tLOOP_INDEX: torch.Size([2, 716])\n"
     ]
    },
    {
     "name": "stderr",
     "output_type": "stream",
     "text": [
      "[Joint E4] Calc Global P:  24%|██▎       | 4/17 [00:16<00:53,  4.13s/it]"
     ]
    },
    {
     "name": "stdout",
     "output_type": "stream",
     "text": [
      "241 --- torch.Size([2, 1886])\n",
      "99 --- torch.Size([2, 1886])\n",
      "723 torch.Size([2, 1886])\n",
      "EDGE_INDEX: torch.Size([2, 1886])\t\tLOOP_INDEX: torch.Size([2, 723])\n",
      "241 --- torch.Size([2, 1886])\n",
      "99 --- torch.Size([2, 1886])\n",
      "723 torch.Size([2, 1886])\n",
      "EDGE_INDEX: torch.Size([2, 1886])\t\tLOOP_INDEX: torch.Size([2, 723])\n"
     ]
    },
    {
     "name": "stderr",
     "output_type": "stream",
     "text": [
      "[Joint E4] Calc Global P:  29%|██▉       | 5/17 [00:21<00:50,  4.25s/it]"
     ]
    },
    {
     "name": "stdout",
     "output_type": "stream",
     "text": [
      "241 --- torch.Size([2, 1472])\n",
      "99 --- torch.Size([2, 1472])\n",
      "626 torch.Size([2, 1472])\n",
      "EDGE_INDEX: torch.Size([2, 1472])\t\tLOOP_INDEX: torch.Size([2, 626])\n",
      "241 --- torch.Size([2, 1472])\n",
      "99 --- torch.Size([2, 1472])\n",
      "626 torch.Size([2, 1472])\n",
      "EDGE_INDEX: torch.Size([2, 1472])\t\tLOOP_INDEX: torch.Size([2, 626])\n"
     ]
    },
    {
     "name": "stderr",
     "output_type": "stream",
     "text": [
      "[Joint E4] Calc Global P:  35%|███▌      | 6/17 [00:24<00:43,  3.91s/it]"
     ]
    },
    {
     "name": "stdout",
     "output_type": "stream",
     "text": [
      "241 --- torch.Size([2, 1624])\n",
      "99 --- torch.Size([2, 1624])\n",
      "657 torch.Size([2, 1624])\n",
      "EDGE_INDEX: torch.Size([2, 1624])\t\tLOOP_INDEX: torch.Size([2, 657])\n",
      "241 --- torch.Size([2, 1624])\n",
      "99 --- torch.Size([2, 1624])\n",
      "657 torch.Size([2, 1624])\n",
      "EDGE_INDEX: torch.Size([2, 1624])\t\tLOOP_INDEX: torch.Size([2, 657])\n"
     ]
    },
    {
     "name": "stderr",
     "output_type": "stream",
     "text": [
      "[Joint E4] Calc Global P:  41%|████      | 7/17 [00:29<00:41,  4.13s/it]"
     ]
    },
    {
     "name": "stdout",
     "output_type": "stream",
     "text": [
      "241 --- torch.Size([2, 2122])\n",
      "99 --- torch.Size([2, 2122])\n",
      "792 torch.Size([2, 2122])\n",
      "EDGE_INDEX: torch.Size([2, 2122])\t\tLOOP_INDEX: torch.Size([2, 792])\n",
      "241 --- torch.Size([2, 2122])\n",
      "99 --- torch.Size([2, 2122])\n",
      "792 torch.Size([2, 2122])\n",
      "EDGE_INDEX: torch.Size([2, 2122])\t\tLOOP_INDEX: torch.Size([2, 792])\n"
     ]
    },
    {
     "name": "stderr",
     "output_type": "stream",
     "text": [
      "[Joint E4] Calc Global P:  47%|████▋     | 8/17 [00:33<00:38,  4.27s/it]"
     ]
    },
    {
     "name": "stdout",
     "output_type": "stream",
     "text": [
      "241 --- torch.Size([2, 1822])\n",
      "99 --- torch.Size([2, 1822])\n",
      "721 torch.Size([2, 1822])\n",
      "EDGE_INDEX: torch.Size([2, 1822])\t\tLOOP_INDEX: torch.Size([2, 721])\n",
      "241 --- torch.Size([2, 1822])\n",
      "99 --- torch.Size([2, 1822])\n",
      "721 torch.Size([2, 1822])\n",
      "EDGE_INDEX: torch.Size([2, 1822])\t\tLOOP_INDEX: torch.Size([2, 721])\n"
     ]
    },
    {
     "name": "stderr",
     "output_type": "stream",
     "text": [
      "[Joint E4] Calc Global P:  53%|█████▎    | 9/17 [00:38<00:34,  4.32s/it]"
     ]
    },
    {
     "name": "stdout",
     "output_type": "stream",
     "text": [
      "241 --- torch.Size([2, 1654])\n",
      "99 --- torch.Size([2, 1654])\n",
      "671 torch.Size([2, 1654])\n",
      "EDGE_INDEX: torch.Size([2, 1654])\t\tLOOP_INDEX: torch.Size([2, 671])\n",
      "241 --- torch.Size([2, 1654])\n",
      "99 --- torch.Size([2, 1654])\n",
      "671 torch.Size([2, 1654])\n",
      "EDGE_INDEX: torch.Size([2, 1654])\t\tLOOP_INDEX: torch.Size([2, 671])\n"
     ]
    },
    {
     "name": "stderr",
     "output_type": "stream",
     "text": [
      "[Joint E4] Calc Global P:  59%|█████▉    | 10/17 [00:42<00:30,  4.40s/it]"
     ]
    },
    {
     "name": "stdout",
     "output_type": "stream",
     "text": [
      "241 --- torch.Size([2, 2052])\n",
      "99 --- torch.Size([2, 2052])\n",
      "737 torch.Size([2, 2052])\n",
      "EDGE_INDEX: torch.Size([2, 2052])\t\tLOOP_INDEX: torch.Size([2, 737])\n",
      "241 --- torch.Size([2, 2052])\n",
      "99 --- torch.Size([2, 2052])\n",
      "737 torch.Size([2, 2052])\n",
      "EDGE_INDEX: torch.Size([2, 2052])\t\tLOOP_INDEX: torch.Size([2, 737])\n"
     ]
    },
    {
     "name": "stderr",
     "output_type": "stream",
     "text": [
      "[Joint E4] Calc Global P:  65%|██████▍   | 11/17 [00:47<00:27,  4.54s/it]"
     ]
    },
    {
     "name": "stdout",
     "output_type": "stream",
     "text": [
      "241 --- torch.Size([2, 2270])\n",
      "99 --- torch.Size([2, 2270])\n",
      "800 torch.Size([2, 2270])\n",
      "EDGE_INDEX: torch.Size([2, 2270])\t\tLOOP_INDEX: torch.Size([2, 800])\n",
      "241 --- torch.Size([2, 2270])\n",
      "99 --- torch.Size([2, 2270])\n",
      "800 torch.Size([2, 2270])\n",
      "EDGE_INDEX: torch.Size([2, 2270])\t\tLOOP_INDEX: torch.Size([2, 800])\n"
     ]
    },
    {
     "name": "stderr",
     "output_type": "stream",
     "text": [
      "[Joint E4] Calc Global P:  71%|███████   | 12/17 [00:51<00:22,  4.44s/it]"
     ]
    },
    {
     "name": "stdout",
     "output_type": "stream",
     "text": [
      "241 --- torch.Size([2, 1560])\n",
      "99 --- torch.Size([2, 1560])\n",
      "677 torch.Size([2, 1560])\n",
      "EDGE_INDEX: torch.Size([2, 1560])\t\tLOOP_INDEX: torch.Size([2, 677])\n",
      "241 --- torch.Size([2, 1560])\n",
      "99 --- torch.Size([2, 1560])\n",
      "677 torch.Size([2, 1560])\n",
      "EDGE_INDEX: torch.Size([2, 1560])\t\tLOOP_INDEX: torch.Size([2, 677])\n"
     ]
    },
    {
     "name": "stderr",
     "output_type": "stream",
     "text": [
      "[Joint E4] Calc Global P:  76%|███████▋  | 13/17 [00:55<00:17,  4.29s/it]"
     ]
    },
    {
     "name": "stdout",
     "output_type": "stream",
     "text": [
      "241 --- torch.Size([2, 1450])\n",
      "99 --- torch.Size([2, 1450])\n",
      "642 torch.Size([2, 1450])\n",
      "EDGE_INDEX: torch.Size([2, 1450])\t\tLOOP_INDEX: torch.Size([2, 642])\n",
      "241 --- torch.Size([2, 1450])\n",
      "99 --- torch.Size([2, 1450])\n",
      "642 torch.Size([2, 1450])\n",
      "EDGE_INDEX: torch.Size([2, 1450])\t\tLOOP_INDEX: torch.Size([2, 642])\n"
     ]
    },
    {
     "name": "stderr",
     "output_type": "stream",
     "text": [
      "[Joint E4] Calc Global P:  82%|████████▏ | 14/17 [01:00<00:13,  4.57s/it]"
     ]
    },
    {
     "name": "stdout",
     "output_type": "stream",
     "text": [
      "241 --- torch.Size([2, 1412])\n",
      "99 --- torch.Size([2, 1412])\n",
      "628 torch.Size([2, 1412])\n",
      "EDGE_INDEX: torch.Size([2, 1412])\t\tLOOP_INDEX: torch.Size([2, 628])\n",
      "241 --- torch.Size([2, 1412])\n",
      "99 --- torch.Size([2, 1412])\n",
      "628 torch.Size([2, 1412])\n",
      "EDGE_INDEX: torch.Size([2, 1412])\t\tLOOP_INDEX: torch.Size([2, 628])\n"
     ]
    },
    {
     "name": "stderr",
     "output_type": "stream",
     "text": [
      "[Joint E4] Calc Global P:  88%|████████▊ | 15/17 [01:05<00:09,  4.59s/it]"
     ]
    },
    {
     "name": "stdout",
     "output_type": "stream",
     "text": [
      "241 --- torch.Size([2, 1662])\n",
      "99 --- torch.Size([2, 1662])\n",
      "666 torch.Size([2, 1662])\n",
      "EDGE_INDEX: torch.Size([2, 1662])\t\tLOOP_INDEX: torch.Size([2, 666])\n",
      "241 --- torch.Size([2, 1662])\n",
      "99 --- torch.Size([2, 1662])\n",
      "666 torch.Size([2, 1662])\n",
      "EDGE_INDEX: torch.Size([2, 1662])\t\tLOOP_INDEX: torch.Size([2, 666])\n"
     ]
    },
    {
     "name": "stderr",
     "output_type": "stream",
     "text": [
      "[Joint E4] Calc Global P:  94%|█████████▍| 16/17 [01:09<00:04,  4.37s/it]"
     ]
    },
    {
     "name": "stdout",
     "output_type": "stream",
     "text": [
      "241 --- torch.Size([2, 1332])\n",
      "99 --- torch.Size([2, 1332])\n",
      "530 torch.Size([2, 1332])\n",
      "EDGE_INDEX: torch.Size([2, 1332])\t\tLOOP_INDEX: torch.Size([2, 530])\n",
      "241 --- torch.Size([2, 1332])\n",
      "99 --- torch.Size([2, 1332])\n",
      "530 torch.Size([2, 1332])\n",
      "EDGE_INDEX: torch.Size([2, 1332])\t\tLOOP_INDEX: torch.Size([2, 530])\n"
     ]
    },
    {
     "name": "stderr",
     "output_type": "stream",
     "text": [
      "                                                                         \r"
     ]
    },
    {
     "name": "stdout",
     "output_type": "stream",
     "text": [
      "241 --- torch.Size([2, 1500])\n",
      "99 --- torch.Size([2, 1500])\n",
      "625 torch.Size([2, 1500])\n",
      "EDGE_INDEX: torch.Size([2, 1500])\t\tLOOP_INDEX: torch.Size([2, 625])\n",
      "241 --- torch.Size([2, 1500])\n",
      "99 --- torch.Size([2, 1500])\n",
      "625 torch.Size([2, 1500])\n",
      "EDGE_INDEX: torch.Size([2, 1500])\t\tLOOP_INDEX: torch.Size([2, 625])\n",
      "241 --- torch.Size([2, 1666])\n",
      "99 --- torch.Size([2, 1666])\n",
      "686 torch.Size([2, 1666])\n",
      "EDGE_INDEX: torch.Size([2, 1666])\t\tLOOP_INDEX: torch.Size([2, 686])\n",
      "241 --- torch.Size([2, 1666])\n",
      "99 --- torch.Size([2, 1666])\n",
      "686 torch.Size([2, 1666])\n",
      "EDGE_INDEX: torch.Size([2, 1666])\t\tLOOP_INDEX: torch.Size([2, 686])\n",
      "241 --- torch.Size([2, 1586])\n",
      "99 --- torch.Size([2, 1586])\n",
      "665 torch.Size([2, 1586])\n",
      "EDGE_INDEX: torch.Size([2, 1586])\t\tLOOP_INDEX: torch.Size([2, 665])\n",
      "241 --- torch.Size([2, 1586])\n",
      "99 --- torch.Size([2, 1586])\n",
      "665 torch.Size([2, 1586])\n",
      "EDGE_INDEX: torch.Size([2, 1586])\t\tLOOP_INDEX: torch.Size([2, 665])\n",
      "241 --- torch.Size([2, 1368])\n",
      "99 --- torch.Size([2, 1368])\n",
      "591 torch.Size([2, 1368])\n",
      "EDGE_INDEX: torch.Size([2, 1368])\t\tLOOP_INDEX: torch.Size([2, 591])\n",
      "241 --- torch.Size([2, 1368])\n",
      "99 --- torch.Size([2, 1368])\n",
      "591 torch.Size([2, 1368])\n",
      "EDGE_INDEX: torch.Size([2, 1368])\t\tLOOP_INDEX: torch.Size([2, 591])\n",
      "241 --- torch.Size([2, 1976])\n",
      "99 --- torch.Size([2, 1976])\n",
      "736 torch.Size([2, 1976])\n",
      "EDGE_INDEX: torch.Size([2, 1976])\t\tLOOP_INDEX: torch.Size([2, 736])\n",
      "241 --- torch.Size([2, 1976])\n",
      "99 --- torch.Size([2, 1976])\n",
      "736 torch.Size([2, 1976])\n",
      "EDGE_INDEX: torch.Size([2, 1976])\t\tLOOP_INDEX: torch.Size([2, 736])\n",
      "241 --- torch.Size([2, 1696])\n",
      "99 --- torch.Size([2, 1696])\n",
      "677 torch.Size([2, 1696])\n",
      "EDGE_INDEX: torch.Size([2, 1696])\t\tLOOP_INDEX: torch.Size([2, 677])\n",
      "241 --- torch.Size([2, 1696])\n",
      "99 --- torch.Size([2, 1696])\n",
      "677 torch.Size([2, 1696])\n",
      "EDGE_INDEX: torch.Size([2, 1696])\t\tLOOP_INDEX: torch.Size([2, 677])\n",
      "241 --- torch.Size([2, 1680])\n",
      "99 --- torch.Size([2, 1680])\n",
      "677 torch.Size([2, 1680])\n",
      "EDGE_INDEX: torch.Size([2, 1680])\t\tLOOP_INDEX: torch.Size([2, 677])\n",
      "241 --- torch.Size([2, 1680])\n",
      "99 --- torch.Size([2, 1680])\n",
      "677 torch.Size([2, 1680])\n",
      "EDGE_INDEX: torch.Size([2, 1680])\t\tLOOP_INDEX: torch.Size([2, 677])\n",
      "241 --- torch.Size([2, 1756])\n",
      "99 --- torch.Size([2, 1756])\n",
      "710 torch.Size([2, 1756])\n",
      "EDGE_INDEX: torch.Size([2, 1756])\t\tLOOP_INDEX: torch.Size([2, 710])\n",
      "241 --- torch.Size([2, 1756])\n",
      "99 --- torch.Size([2, 1756])\n",
      "710 torch.Size([2, 1756])\n",
      "EDGE_INDEX: torch.Size([2, 1756])\t\tLOOP_INDEX: torch.Size([2, 710])\n",
      "241 --- torch.Size([2, 1520])\n",
      "99 --- torch.Size([2, 1520])\n",
      "645 torch.Size([2, 1520])\n",
      "EDGE_INDEX: torch.Size([2, 1520])\t\tLOOP_INDEX: torch.Size([2, 645])\n",
      "241 --- torch.Size([2, 1520])\n",
      "99 --- torch.Size([2, 1520])\n",
      "645 torch.Size([2, 1520])\n",
      "EDGE_INDEX: torch.Size([2, 1520])\t\tLOOP_INDEX: torch.Size([2, 645])\n",
      "241 --- torch.Size([2, 1784])\n",
      "99 --- torch.Size([2, 1784])\n",
      "701 torch.Size([2, 1784])\n",
      "EDGE_INDEX: torch.Size([2, 1784])\t\tLOOP_INDEX: torch.Size([2, 701])\n",
      "241 --- torch.Size([2, 1784])\n",
      "99 --- torch.Size([2, 1784])\n",
      "701 torch.Size([2, 1784])\n",
      "EDGE_INDEX: torch.Size([2, 1784])\t\tLOOP_INDEX: torch.Size([2, 701])\n",
      "241 --- torch.Size([2, 1616])\n",
      "99 --- torch.Size([2, 1616])\n",
      "673 torch.Size([2, 1616])\n",
      "EDGE_INDEX: torch.Size([2, 1616])\t\tLOOP_INDEX: torch.Size([2, 673])\n",
      "241 --- torch.Size([2, 1616])\n",
      "99 --- torch.Size([2, 1616])\n",
      "673 torch.Size([2, 1616])\n",
      "EDGE_INDEX: torch.Size([2, 1616])\t\tLOOP_INDEX: torch.Size([2, 673])\n",
      "241 --- torch.Size([2, 1542])\n",
      "99 --- torch.Size([2, 1542])\n",
      "655 torch.Size([2, 1542])\n",
      "EDGE_INDEX: torch.Size([2, 1542])\t\tLOOP_INDEX: torch.Size([2, 655])\n",
      "241 --- torch.Size([2, 1542])\n",
      "99 --- torch.Size([2, 1542])\n",
      "655 torch.Size([2, 1542])\n",
      "EDGE_INDEX: torch.Size([2, 1542])\t\tLOOP_INDEX: torch.Size([2, 655])\n",
      "241 --- torch.Size([2, 1806])\n",
      "99 --- torch.Size([2, 1806])\n",
      "705 torch.Size([2, 1806])\n",
      "EDGE_INDEX: torch.Size([2, 1806])\t\tLOOP_INDEX: torch.Size([2, 705])\n",
      "241 --- torch.Size([2, 1806])\n",
      "99 --- torch.Size([2, 1806])\n",
      "705 torch.Size([2, 1806])\n",
      "EDGE_INDEX: torch.Size([2, 1806])\t\tLOOP_INDEX: torch.Size([2, 705])\n",
      "241 --- torch.Size([2, 1890])\n",
      "99 --- torch.Size([2, 1890])\n",
      "729 torch.Size([2, 1890])\n",
      "EDGE_INDEX: torch.Size([2, 1890])\t\tLOOP_INDEX: torch.Size([2, 729])\n",
      "241 --- torch.Size([2, 1890])\n",
      "99 --- torch.Size([2, 1890])\n",
      "729 torch.Size([2, 1890])\n",
      "EDGE_INDEX: torch.Size([2, 1890])\t\tLOOP_INDEX: torch.Size([2, 729])\n",
      "241 --- torch.Size([2, 1580])\n",
      "99 --- torch.Size([2, 1580])\n",
      "650 torch.Size([2, 1580])\n",
      "EDGE_INDEX: torch.Size([2, 1580])\t\tLOOP_INDEX: torch.Size([2, 650])\n",
      "241 --- torch.Size([2, 1580])\n",
      "99 --- torch.Size([2, 1580])\n",
      "650 torch.Size([2, 1580])\n",
      "EDGE_INDEX: torch.Size([2, 1580])\t\tLOOP_INDEX: torch.Size([2, 650])\n",
      "241 --- torch.Size([2, 1650])\n",
      "99 --- torch.Size([2, 1650])\n",
      "675 torch.Size([2, 1650])\n",
      "EDGE_INDEX: torch.Size([2, 1650])\t\tLOOP_INDEX: torch.Size([2, 675])\n",
      "241 --- torch.Size([2, 1650])\n",
      "99 --- torch.Size([2, 1650])\n",
      "675 torch.Size([2, 1650])\n",
      "EDGE_INDEX: torch.Size([2, 1650])\t\tLOOP_INDEX: torch.Size([2, 675])\n",
      "241 --- torch.Size([2, 1498])\n",
      "99 --- torch.Size([2, 1498])\n",
      "571 torch.Size([2, 1498])\n",
      "EDGE_INDEX: torch.Size([2, 1498])\t\tLOOP_INDEX: torch.Size([2, 571])\n",
      "241 --- torch.Size([2, 1498])\n",
      "99 --- torch.Size([2, 1498])\n",
      "571 torch.Size([2, 1498])\n",
      "EDGE_INDEX: torch.Size([2, 1498])\t\tLOOP_INDEX: torch.Size([2, 571])\n",
      "241 --- torch.Size([2, 466])\n",
      "99 --- torch.Size([2, 466])\n",
      "171 torch.Size([2, 466])\n",
      "EDGE_INDEX: torch.Size([2, 466])\t\tLOOP_INDEX: torch.Size([2, 171])\n",
      "241 --- torch.Size([2, 466])\n",
      "99 --- torch.Size([2, 466])\n",
      "171 torch.Size([2, 466])\n",
      "EDGE_INDEX: torch.Size([2, 466])\t\tLOOP_INDEX: torch.Size([2, 171])\n",
      "241 --- torch.Size([2, 414])\n",
      "99 --- torch.Size([2, 414])\n",
      "166 torch.Size([2, 414])\n",
      "EDGE_INDEX: torch.Size([2, 414])\t\tLOOP_INDEX: torch.Size([2, 166])\n",
      "241 --- torch.Size([2, 414])\n",
      "99 --- torch.Size([2, 414])\n",
      "166 torch.Size([2, 414])\n",
      "EDGE_INDEX: torch.Size([2, 414])\t\tLOOP_INDEX: torch.Size([2, 166])\n",
      "241 --- torch.Size([2, 572])\n",
      "99 --- torch.Size([2, 572])\n",
      "208 torch.Size([2, 572])\n",
      "EDGE_INDEX: torch.Size([2, 572])\t\tLOOP_INDEX: torch.Size([2, 208])\n",
      "241 --- torch.Size([2, 572])\n",
      "99 --- torch.Size([2, 572])\n",
      "208 torch.Size([2, 572])\n",
      "EDGE_INDEX: torch.Size([2, 572])\t\tLOOP_INDEX: torch.Size([2, 208])\n",
      "241 --- torch.Size([2, 522])\n",
      "99 --- torch.Size([2, 522])\n",
      "182 torch.Size([2, 522])\n",
      "EDGE_INDEX: torch.Size([2, 522])\t\tLOOP_INDEX: torch.Size([2, 182])\n",
      "241 --- torch.Size([2, 522])\n",
      "99 --- torch.Size([2, 522])\n",
      "182 torch.Size([2, 522])\n",
      "EDGE_INDEX: torch.Size([2, 522])\t\tLOOP_INDEX: torch.Size([2, 182])\n",
      "241 --- torch.Size([2, 454])\n",
      "99 --- torch.Size([2, 454])\n",
      "173 torch.Size([2, 454])\n",
      "EDGE_INDEX: torch.Size([2, 454])\t\tLOOP_INDEX: torch.Size([2, 173])\n",
      "241 --- torch.Size([2, 454])\n",
      "99 --- torch.Size([2, 454])\n",
      "173 torch.Size([2, 454])\n",
      "EDGE_INDEX: torch.Size([2, 454])\t\tLOOP_INDEX: torch.Size([2, 173])\n",
      "241 --- torch.Size([2, 286])\n",
      "99 --- torch.Size([2, 286])\n",
      "134 torch.Size([2, 286])\n",
      "EDGE_INDEX: torch.Size([2, 286])\t\tLOOP_INDEX: torch.Size([2, 134])\n",
      "241 --- torch.Size([2, 286])\n",
      "99 --- torch.Size([2, 286])\n",
      "134 torch.Size([2, 286])\n",
      "EDGE_INDEX: torch.Size([2, 286])\t\tLOOP_INDEX: torch.Size([2, 134])\n",
      "241 --- torch.Size([2, 462])\n",
      "99 --- torch.Size([2, 462])\n",
      "182 torch.Size([2, 462])\n",
      "EDGE_INDEX: torch.Size([2, 462])\t\tLOOP_INDEX: torch.Size([2, 182])\n",
      "241 --- torch.Size([2, 462])\n",
      "99 --- torch.Size([2, 462])\n",
      "182 torch.Size([2, 462])\n",
      "EDGE_INDEX: torch.Size([2, 462])\t\tLOOP_INDEX: torch.Size([2, 182])\n",
      "241 --- torch.Size([2, 700])\n",
      "99 --- torch.Size([2, 700])\n",
      "238 torch.Size([2, 700])\n",
      "EDGE_INDEX: torch.Size([2, 700])\t\tLOOP_INDEX: torch.Size([2, 238])\n",
      "241 --- torch.Size([2, 700])\n",
      "99 --- torch.Size([2, 700])\n",
      "238 torch.Size([2, 700])\n",
      "EDGE_INDEX: torch.Size([2, 700])\t\tLOOP_INDEX: torch.Size([2, 238])\n",
      "241 --- torch.Size([2, 452])\n",
      "99 --- torch.Size([2, 452])\n",
      "182 torch.Size([2, 452])\n",
      "EDGE_INDEX: torch.Size([2, 452])\t\tLOOP_INDEX: torch.Size([2, 182])\n",
      "241 --- torch.Size([2, 452])\n",
      "99 --- torch.Size([2, 452])\n",
      "182 torch.Size([2, 452])\n",
      "EDGE_INDEX: torch.Size([2, 452])\t\tLOOP_INDEX: torch.Size([2, 182])\n",
      "241 --- torch.Size([2, 576])\n",
      "99 --- torch.Size([2, 576])\n",
      "197 torch.Size([2, 576])\n",
      "EDGE_INDEX: torch.Size([2, 576])\t\tLOOP_INDEX: torch.Size([2, 197])\n",
      "241 --- torch.Size([2, 576])\n",
      "99 --- torch.Size([2, 576])\n",
      "197 torch.Size([2, 576])\n",
      "EDGE_INDEX: torch.Size([2, 576])\t\tLOOP_INDEX: torch.Size([2, 197])\n",
      "241 --- torch.Size([2, 538])\n",
      "99 --- torch.Size([2, 538])\n",
      "210 torch.Size([2, 538])\n",
      "EDGE_INDEX: torch.Size([2, 538])\t\tLOOP_INDEX: torch.Size([2, 210])\n",
      "241 --- torch.Size([2, 538])\n",
      "99 --- torch.Size([2, 538])\n",
      "210 torch.Size([2, 538])\n",
      "EDGE_INDEX: torch.Size([2, 538])\t\tLOOP_INDEX: torch.Size([2, 210])\n",
      "241 --- torch.Size([2, 358])\n",
      "99 --- torch.Size([2, 358])\n",
      "155 torch.Size([2, 358])\n",
      "EDGE_INDEX: torch.Size([2, 358])\t\tLOOP_INDEX: torch.Size([2, 155])\n",
      "241 --- torch.Size([2, 358])\n",
      "99 --- torch.Size([2, 358])\n",
      "155 torch.Size([2, 358])\n",
      "EDGE_INDEX: torch.Size([2, 358])\t\tLOOP_INDEX: torch.Size([2, 155])\n",
      "241 --- torch.Size([2, 368])\n",
      "99 --- torch.Size([2, 368])\n",
      "168 torch.Size([2, 368])\n",
      "EDGE_INDEX: torch.Size([2, 368])\t\tLOOP_INDEX: torch.Size([2, 168])\n",
      "241 --- torch.Size([2, 368])\n",
      "99 --- torch.Size([2, 368])\n",
      "168 torch.Size([2, 368])\n",
      "EDGE_INDEX: torch.Size([2, 368])\t\tLOOP_INDEX: torch.Size([2, 168])\n",
      "241 --- torch.Size([2, 368])\n",
      "99 --- torch.Size([2, 368])\n",
      "155 torch.Size([2, 368])\n",
      "EDGE_INDEX: torch.Size([2, 368])\t\tLOOP_INDEX: torch.Size([2, 155])\n",
      "241 --- torch.Size([2, 368])\n",
      "99 --- torch.Size([2, 368])\n",
      "155 torch.Size([2, 368])\n",
      "EDGE_INDEX: torch.Size([2, 368])\t\tLOOP_INDEX: torch.Size([2, 155])\n",
      "241 --- torch.Size([2, 206])\n",
      "99 --- torch.Size([2, 206])\n",
      "68 torch.Size([2, 206])\n",
      "EDGE_INDEX: torch.Size([2, 206])\t\tLOOP_INDEX: torch.Size([2, 68])\n",
      "241 --- torch.Size([2, 206])\n",
      "99 --- torch.Size([2, 206])\n",
      "68 torch.Size([2, 206])\n",
      "EDGE_INDEX: torch.Size([2, 206])\t\tLOOP_INDEX: torch.Size([2, 68])\n"
     ]
    },
    {
     "name": "stderr",
     "output_type": "stream",
     "text": [
      "[Joint E5] Calc Global P:   0%|          | 0/17 [00:00<?, ?it/s]"
     ]
    },
    {
     "name": "stdout",
     "output_type": "stream",
     "text": [
      "241 --- torch.Size([2, 1792])\n",
      "99 --- torch.Size([2, 1792])\n",
      "696 torch.Size([2, 1792])\n",
      "EDGE_INDEX: torch.Size([2, 1792])\t\tLOOP_INDEX: torch.Size([2, 696])\n",
      "241 --- torch.Size([2, 1792])\n",
      "99 --- torch.Size([2, 1792])\n",
      "696 torch.Size([2, 1792])\n",
      "EDGE_INDEX: torch.Size([2, 1792])\t\tLOOP_INDEX: torch.Size([2, 696])\n"
     ]
    },
    {
     "name": "stderr",
     "output_type": "stream",
     "text": [
      "[Joint E5] Calc Global P:   6%|▌         | 1/17 [00:04<01:07,  4.25s/it]"
     ]
    },
    {
     "name": "stdout",
     "output_type": "stream",
     "text": [
      "241 --- torch.Size([2, 1818])\n",
      "99 --- torch.Size([2, 1818])\n",
      "704 torch.Size([2, 1818])\n",
      "EDGE_INDEX: torch.Size([2, 1818])\t\tLOOP_INDEX: torch.Size([2, 704])\n",
      "241 --- torch.Size([2, 1818])\n",
      "99 --- torch.Size([2, 1818])\n",
      "704 torch.Size([2, 1818])\n",
      "EDGE_INDEX: torch.Size([2, 1818])\t\tLOOP_INDEX: torch.Size([2, 704])\n"
     ]
    },
    {
     "name": "stderr",
     "output_type": "stream",
     "text": [
      "[Joint E5] Calc Global P:  12%|█▏        | 2/17 [00:08<01:05,  4.37s/it]"
     ]
    },
    {
     "name": "stdout",
     "output_type": "stream",
     "text": [
      "241 --- torch.Size([2, 1634])\n",
      "99 --- torch.Size([2, 1634])\n",
      "689 torch.Size([2, 1634])\n",
      "EDGE_INDEX: torch.Size([2, 1634])\t\tLOOP_INDEX: torch.Size([2, 689])\n",
      "241 --- torch.Size([2, 1634])\n",
      "99 --- torch.Size([2, 1634])\n",
      "689 torch.Size([2, 1634])\n",
      "EDGE_INDEX: torch.Size([2, 1634])\t\tLOOP_INDEX: torch.Size([2, 689])\n"
     ]
    },
    {
     "name": "stderr",
     "output_type": "stream",
     "text": [
      "[Joint E5] Calc Global P:  18%|█▊        | 3/17 [00:12<00:59,  4.25s/it]"
     ]
    },
    {
     "name": "stdout",
     "output_type": "stream",
     "text": [
      "241 --- torch.Size([2, 1808])\n",
      "99 --- torch.Size([2, 1808])\n",
      "716 torch.Size([2, 1808])\n",
      "EDGE_INDEX: torch.Size([2, 1808])\t\tLOOP_INDEX: torch.Size([2, 716])\n",
      "241 --- torch.Size([2, 1808])\n",
      "99 --- torch.Size([2, 1808])\n",
      "716 torch.Size([2, 1808])\n",
      "EDGE_INDEX: torch.Size([2, 1808])\t\tLOOP_INDEX: torch.Size([2, 716])\n"
     ]
    },
    {
     "name": "stderr",
     "output_type": "stream",
     "text": [
      "[Joint E5] Calc Global P:  24%|██▎       | 4/17 [00:16<00:51,  3.99s/it]"
     ]
    },
    {
     "name": "stdout",
     "output_type": "stream",
     "text": [
      "241 --- torch.Size([2, 1886])\n",
      "99 --- torch.Size([2, 1886])\n",
      "723 torch.Size([2, 1886])\n",
      "EDGE_INDEX: torch.Size([2, 1886])\t\tLOOP_INDEX: torch.Size([2, 723])\n",
      "241 --- torch.Size([2, 1886])\n",
      "99 --- torch.Size([2, 1886])\n",
      "723 torch.Size([2, 1886])\n",
      "EDGE_INDEX: torch.Size([2, 1886])\t\tLOOP_INDEX: torch.Size([2, 723])\n"
     ]
    },
    {
     "name": "stderr",
     "output_type": "stream",
     "text": [
      "[Joint E5] Calc Global P:  29%|██▉       | 5/17 [00:20<00:49,  4.14s/it]"
     ]
    },
    {
     "name": "stdout",
     "output_type": "stream",
     "text": [
      "241 --- torch.Size([2, 1472])\n",
      "99 --- torch.Size([2, 1472])\n",
      "626 torch.Size([2, 1472])\n",
      "EDGE_INDEX: torch.Size([2, 1472])\t\tLOOP_INDEX: torch.Size([2, 626])\n",
      "241 --- torch.Size([2, 1472])\n",
      "99 --- torch.Size([2, 1472])\n",
      "626 torch.Size([2, 1472])\n",
      "EDGE_INDEX: torch.Size([2, 1472])\t\tLOOP_INDEX: torch.Size([2, 626])\n"
     ]
    },
    {
     "name": "stderr",
     "output_type": "stream",
     "text": [
      "[Joint E5] Calc Global P:  35%|███▌      | 6/17 [00:24<00:43,  3.92s/it]"
     ]
    },
    {
     "name": "stdout",
     "output_type": "stream",
     "text": [
      "241 --- torch.Size([2, 1624])\n",
      "99 --- torch.Size([2, 1624])\n",
      "657 torch.Size([2, 1624])\n",
      "EDGE_INDEX: torch.Size([2, 1624])\t\tLOOP_INDEX: torch.Size([2, 657])\n",
      "241 --- torch.Size([2, 1624])\n",
      "99 --- torch.Size([2, 1624])\n",
      "657 torch.Size([2, 1624])\n",
      "EDGE_INDEX: torch.Size([2, 1624])\t\tLOOP_INDEX: torch.Size([2, 657])\n"
     ]
    },
    {
     "name": "stderr",
     "output_type": "stream",
     "text": [
      "[Joint E5] Calc Global P:  41%|████      | 7/17 [00:29<00:42,  4.24s/it]"
     ]
    },
    {
     "name": "stdout",
     "output_type": "stream",
     "text": [
      "241 --- torch.Size([2, 2122])\n",
      "99 --- torch.Size([2, 2122])\n",
      "792 torch.Size([2, 2122])\n",
      "EDGE_INDEX: torch.Size([2, 2122])\t\tLOOP_INDEX: torch.Size([2, 792])\n",
      "241 --- torch.Size([2, 2122])\n",
      "99 --- torch.Size([2, 2122])\n",
      "792 torch.Size([2, 2122])\n",
      "EDGE_INDEX: torch.Size([2, 2122])\t\tLOOP_INDEX: torch.Size([2, 792])\n"
     ]
    },
    {
     "name": "stderr",
     "output_type": "stream",
     "text": [
      "[Joint E5] Calc Global P:  47%|████▋     | 8/17 [00:33<00:36,  4.10s/it]"
     ]
    },
    {
     "name": "stdout",
     "output_type": "stream",
     "text": [
      "241 --- torch.Size([2, 1822])\n",
      "99 --- torch.Size([2, 1822])\n",
      "721 torch.Size([2, 1822])\n",
      "EDGE_INDEX: torch.Size([2, 1822])\t\tLOOP_INDEX: torch.Size([2, 721])\n",
      "241 --- torch.Size([2, 1822])\n",
      "99 --- torch.Size([2, 1822])\n",
      "721 torch.Size([2, 1822])\n",
      "EDGE_INDEX: torch.Size([2, 1822])\t\tLOOP_INDEX: torch.Size([2, 721])\n"
     ]
    },
    {
     "name": "stderr",
     "output_type": "stream",
     "text": [
      "[Joint E5] Calc Global P:  53%|█████▎    | 9/17 [00:37<00:33,  4.15s/it]"
     ]
    },
    {
     "name": "stdout",
     "output_type": "stream",
     "text": [
      "241 --- torch.Size([2, 1654])\n",
      "99 --- torch.Size([2, 1654])\n",
      "671 torch.Size([2, 1654])\n",
      "EDGE_INDEX: torch.Size([2, 1654])\t\tLOOP_INDEX: torch.Size([2, 671])\n",
      "241 --- torch.Size([2, 1654])\n",
      "99 --- torch.Size([2, 1654])\n",
      "671 torch.Size([2, 1654])\n",
      "EDGE_INDEX: torch.Size([2, 1654])\t\tLOOP_INDEX: torch.Size([2, 671])\n"
     ]
    },
    {
     "name": "stderr",
     "output_type": "stream",
     "text": [
      "[Joint E5] Calc Global P:  59%|█████▉    | 10/17 [00:42<00:30,  4.40s/it]"
     ]
    },
    {
     "name": "stdout",
     "output_type": "stream",
     "text": [
      "241 --- torch.Size([2, 2052])\n",
      "99 --- torch.Size([2, 2052])\n",
      "737 torch.Size([2, 2052])\n",
      "EDGE_INDEX: torch.Size([2, 2052])\t\tLOOP_INDEX: torch.Size([2, 737])\n",
      "241 --- torch.Size([2, 2052])\n",
      "99 --- torch.Size([2, 2052])\n",
      "737 torch.Size([2, 2052])\n",
      "EDGE_INDEX: torch.Size([2, 2052])\t\tLOOP_INDEX: torch.Size([2, 737])\n"
     ]
    },
    {
     "name": "stderr",
     "output_type": "stream",
     "text": [
      "[Joint E5] Calc Global P:  65%|██████▍   | 11/17 [00:46<00:26,  4.39s/it]"
     ]
    },
    {
     "name": "stdout",
     "output_type": "stream",
     "text": [
      "241 --- torch.Size([2, 2270])\n",
      "99 --- torch.Size([2, 2270])\n",
      "800 torch.Size([2, 2270])\n",
      "EDGE_INDEX: torch.Size([2, 2270])\t\tLOOP_INDEX: torch.Size([2, 800])\n",
      "241 --- torch.Size([2, 2270])\n",
      "99 --- torch.Size([2, 2270])\n",
      "800 torch.Size([2, 2270])\n",
      "EDGE_INDEX: torch.Size([2, 2270])\t\tLOOP_INDEX: torch.Size([2, 800])\n"
     ]
    },
    {
     "name": "stderr",
     "output_type": "stream",
     "text": [
      "[Joint E5] Calc Global P:  71%|███████   | 12/17 [00:51<00:22,  4.44s/it]"
     ]
    },
    {
     "name": "stdout",
     "output_type": "stream",
     "text": [
      "241 --- torch.Size([2, 1560])\n",
      "99 --- torch.Size([2, 1560])\n",
      "677 torch.Size([2, 1560])\n",
      "EDGE_INDEX: torch.Size([2, 1560])\t\tLOOP_INDEX: torch.Size([2, 677])\n",
      "241 --- torch.Size([2, 1560])\n",
      "99 --- torch.Size([2, 1560])\n",
      "677 torch.Size([2, 1560])\n",
      "EDGE_INDEX: torch.Size([2, 1560])\t\tLOOP_INDEX: torch.Size([2, 677])\n"
     ]
    },
    {
     "name": "stderr",
     "output_type": "stream",
     "text": [
      "[Joint E5] Calc Global P:  76%|███████▋  | 13/17 [00:55<00:17,  4.28s/it]"
     ]
    },
    {
     "name": "stdout",
     "output_type": "stream",
     "text": [
      "241 --- torch.Size([2, 1450])\n",
      "99 --- torch.Size([2, 1450])\n",
      "642 torch.Size([2, 1450])\n",
      "EDGE_INDEX: torch.Size([2, 1450])\t\tLOOP_INDEX: torch.Size([2, 642])\n",
      "241 --- torch.Size([2, 1450])\n",
      "99 --- torch.Size([2, 1450])\n",
      "642 torch.Size([2, 1450])\n",
      "EDGE_INDEX: torch.Size([2, 1450])\t\tLOOP_INDEX: torch.Size([2, 642])\n"
     ]
    },
    {
     "name": "stderr",
     "output_type": "stream",
     "text": [
      "[Joint E5] Calc Global P:  82%|████████▏ | 14/17 [00:59<00:13,  4.41s/it]"
     ]
    },
    {
     "name": "stdout",
     "output_type": "stream",
     "text": [
      "241 --- torch.Size([2, 1412])\n",
      "99 --- torch.Size([2, 1412])\n",
      "628 torch.Size([2, 1412])\n",
      "EDGE_INDEX: torch.Size([2, 1412])\t\tLOOP_INDEX: torch.Size([2, 628])\n",
      "241 --- torch.Size([2, 1412])\n",
      "99 --- torch.Size([2, 1412])\n",
      "628 torch.Size([2, 1412])\n",
      "EDGE_INDEX: torch.Size([2, 1412])\t\tLOOP_INDEX: torch.Size([2, 628])\n"
     ]
    },
    {
     "name": "stderr",
     "output_type": "stream",
     "text": [
      "[Joint E5] Calc Global P:  88%|████████▊ | 15/17 [01:04<00:09,  4.51s/it]"
     ]
    },
    {
     "name": "stdout",
     "output_type": "stream",
     "text": [
      "241 --- torch.Size([2, 1662])\n",
      "99 --- torch.Size([2, 1662])\n",
      "666 torch.Size([2, 1662])\n",
      "EDGE_INDEX: torch.Size([2, 1662])\t\tLOOP_INDEX: torch.Size([2, 666])\n",
      "241 --- torch.Size([2, 1662])\n",
      "99 --- torch.Size([2, 1662])\n",
      "666 torch.Size([2, 1662])\n",
      "EDGE_INDEX: torch.Size([2, 1662])\t\tLOOP_INDEX: torch.Size([2, 666])\n"
     ]
    },
    {
     "name": "stderr",
     "output_type": "stream",
     "text": [
      "[Joint E5] Calc Global P:  94%|█████████▍| 16/17 [01:08<00:04,  4.24s/it]"
     ]
    },
    {
     "name": "stdout",
     "output_type": "stream",
     "text": [
      "241 --- torch.Size([2, 1332])\n",
      "99 --- torch.Size([2, 1332])\n",
      "530 torch.Size([2, 1332])\n",
      "EDGE_INDEX: torch.Size([2, 1332])\t\tLOOP_INDEX: torch.Size([2, 530])\n",
      "241 --- torch.Size([2, 1332])\n",
      "99 --- torch.Size([2, 1332])\n",
      "530 torch.Size([2, 1332])\n",
      "EDGE_INDEX: torch.Size([2, 1332])\t\tLOOP_INDEX: torch.Size([2, 530])\n"
     ]
    },
    {
     "name": "stderr",
     "output_type": "stream",
     "text": [
      "                                                                         \r"
     ]
    },
    {
     "name": "stdout",
     "output_type": "stream",
     "text": [
      "241 --- torch.Size([2, 1774])\n",
      "99 --- torch.Size([2, 1774])\n",
      "709 torch.Size([2, 1774])\n",
      "EDGE_INDEX: torch.Size([2, 1774])\t\tLOOP_INDEX: torch.Size([2, 709])\n",
      "241 --- torch.Size([2, 1774])\n",
      "99 --- torch.Size([2, 1774])\n",
      "709 torch.Size([2, 1774])\n",
      "EDGE_INDEX: torch.Size([2, 1774])\t\tLOOP_INDEX: torch.Size([2, 709])\n",
      "241 --- torch.Size([2, 1812])\n",
      "99 --- torch.Size([2, 1812])\n",
      "697 torch.Size([2, 1812])\n",
      "EDGE_INDEX: torch.Size([2, 1812])\t\tLOOP_INDEX: torch.Size([2, 697])\n",
      "241 --- torch.Size([2, 1812])\n",
      "99 --- torch.Size([2, 1812])\n",
      "697 torch.Size([2, 1812])\n",
      "EDGE_INDEX: torch.Size([2, 1812])\t\tLOOP_INDEX: torch.Size([2, 697])\n",
      "241 --- torch.Size([2, 1562])\n",
      "99 --- torch.Size([2, 1562])\n",
      "669 torch.Size([2, 1562])\n",
      "EDGE_INDEX: torch.Size([2, 1562])\t\tLOOP_INDEX: torch.Size([2, 669])\n",
      "241 --- torch.Size([2, 1562])\n",
      "99 --- torch.Size([2, 1562])\n",
      "669 torch.Size([2, 1562])\n",
      "EDGE_INDEX: torch.Size([2, 1562])\t\tLOOP_INDEX: torch.Size([2, 669])\n",
      "241 --- torch.Size([2, 1488])\n",
      "99 --- torch.Size([2, 1488])\n",
      "639 torch.Size([2, 1488])\n",
      "EDGE_INDEX: torch.Size([2, 1488])\t\tLOOP_INDEX: torch.Size([2, 639])\n",
      "241 --- torch.Size([2, 1488])\n",
      "99 --- torch.Size([2, 1488])\n",
      "639 torch.Size([2, 1488])\n",
      "EDGE_INDEX: torch.Size([2, 1488])\t\tLOOP_INDEX: torch.Size([2, 639])\n",
      "241 --- torch.Size([2, 1566])\n",
      "99 --- torch.Size([2, 1566])\n",
      "648 torch.Size([2, 1566])\n",
      "EDGE_INDEX: torch.Size([2, 1566])\t\tLOOP_INDEX: torch.Size([2, 648])\n",
      "241 --- torch.Size([2, 1566])\n",
      "99 --- torch.Size([2, 1566])\n",
      "648 torch.Size([2, 1566])\n",
      "EDGE_INDEX: torch.Size([2, 1566])\t\tLOOP_INDEX: torch.Size([2, 648])\n",
      "241 --- torch.Size([2, 1742])\n",
      "99 --- torch.Size([2, 1742])\n",
      "690 torch.Size([2, 1742])\n",
      "EDGE_INDEX: torch.Size([2, 1742])\t\tLOOP_INDEX: torch.Size([2, 690])\n",
      "241 --- torch.Size([2, 1742])\n",
      "99 --- torch.Size([2, 1742])\n",
      "690 torch.Size([2, 1742])\n",
      "EDGE_INDEX: torch.Size([2, 1742])\t\tLOOP_INDEX: torch.Size([2, 690])\n",
      "241 --- torch.Size([2, 1670])\n",
      "99 --- torch.Size([2, 1670])\n",
      "687 torch.Size([2, 1670])\n",
      "EDGE_INDEX: torch.Size([2, 1670])\t\tLOOP_INDEX: torch.Size([2, 687])\n",
      "241 --- torch.Size([2, 1670])\n",
      "99 --- torch.Size([2, 1670])\n",
      "687 torch.Size([2, 1670])\n",
      "EDGE_INDEX: torch.Size([2, 1670])\t\tLOOP_INDEX: torch.Size([2, 687])\n",
      "241 --- torch.Size([2, 1546])\n",
      "99 --- torch.Size([2, 1546])\n",
      "652 torch.Size([2, 1546])\n",
      "EDGE_INDEX: torch.Size([2, 1546])\t\tLOOP_INDEX: torch.Size([2, 652])\n",
      "241 --- torch.Size([2, 1546])\n",
      "99 --- torch.Size([2, 1546])\n",
      "652 torch.Size([2, 1546])\n",
      "EDGE_INDEX: torch.Size([2, 1546])\t\tLOOP_INDEX: torch.Size([2, 652])\n",
      "241 --- torch.Size([2, 1416])\n",
      "99 --- torch.Size([2, 1416])\n",
      "625 torch.Size([2, 1416])\n",
      "EDGE_INDEX: torch.Size([2, 1416])\t\tLOOP_INDEX: torch.Size([2, 625])\n",
      "241 --- torch.Size([2, 1416])\n",
      "99 --- torch.Size([2, 1416])\n",
      "625 torch.Size([2, 1416])\n",
      "EDGE_INDEX: torch.Size([2, 1416])\t\tLOOP_INDEX: torch.Size([2, 625])\n",
      "241 --- torch.Size([2, 1648])\n",
      "99 --- torch.Size([2, 1648])\n",
      "684 torch.Size([2, 1648])\n",
      "EDGE_INDEX: torch.Size([2, 1648])\t\tLOOP_INDEX: torch.Size([2, 684])\n",
      "241 --- torch.Size([2, 1648])\n",
      "99 --- torch.Size([2, 1648])\n",
      "684 torch.Size([2, 1648])\n",
      "EDGE_INDEX: torch.Size([2, 1648])\t\tLOOP_INDEX: torch.Size([2, 684])\n",
      "241 --- torch.Size([2, 1930])\n",
      "99 --- torch.Size([2, 1930])\n",
      "747 torch.Size([2, 1930])\n",
      "EDGE_INDEX: torch.Size([2, 1930])\t\tLOOP_INDEX: torch.Size([2, 747])\n",
      "241 --- torch.Size([2, 1930])\n",
      "99 --- torch.Size([2, 1930])\n",
      "747 torch.Size([2, 1930])\n",
      "EDGE_INDEX: torch.Size([2, 1930])\t\tLOOP_INDEX: torch.Size([2, 747])\n",
      "241 --- torch.Size([2, 1798])\n",
      "99 --- torch.Size([2, 1798])\n",
      "688 torch.Size([2, 1798])\n",
      "EDGE_INDEX: torch.Size([2, 1798])\t\tLOOP_INDEX: torch.Size([2, 688])\n",
      "241 --- torch.Size([2, 1798])\n",
      "99 --- torch.Size([2, 1798])\n",
      "688 torch.Size([2, 1798])\n",
      "EDGE_INDEX: torch.Size([2, 1798])\t\tLOOP_INDEX: torch.Size([2, 688])\n",
      "241 --- torch.Size([2, 1796])\n",
      "99 --- torch.Size([2, 1796])\n",
      "717 torch.Size([2, 1796])\n",
      "EDGE_INDEX: torch.Size([2, 1796])\t\tLOOP_INDEX: torch.Size([2, 717])\n",
      "241 --- torch.Size([2, 1796])\n",
      "99 --- torch.Size([2, 1796])\n",
      "717 torch.Size([2, 1796])\n",
      "EDGE_INDEX: torch.Size([2, 1796])\t\tLOOP_INDEX: torch.Size([2, 717])\n",
      "241 --- torch.Size([2, 1758])\n",
      "99 --- torch.Size([2, 1758])\n",
      "698 torch.Size([2, 1758])\n",
      "EDGE_INDEX: torch.Size([2, 1758])\t\tLOOP_INDEX: torch.Size([2, 698])\n",
      "241 --- torch.Size([2, 1758])\n",
      "99 --- torch.Size([2, 1758])\n",
      "698 torch.Size([2, 1758])\n",
      "EDGE_INDEX: torch.Size([2, 1758])\t\tLOOP_INDEX: torch.Size([2, 698])\n",
      "241 --- torch.Size([2, 1438])\n",
      "99 --- torch.Size([2, 1438])\n",
      "633 torch.Size([2, 1438])\n",
      "EDGE_INDEX: torch.Size([2, 1438])\t\tLOOP_INDEX: torch.Size([2, 633])\n",
      "241 --- torch.Size([2, 1438])\n",
      "99 --- torch.Size([2, 1438])\n",
      "633 torch.Size([2, 1438])\n",
      "EDGE_INDEX: torch.Size([2, 1438])\t\tLOOP_INDEX: torch.Size([2, 633])\n",
      "241 --- torch.Size([2, 1658])\n",
      "99 --- torch.Size([2, 1658])\n",
      "668 torch.Size([2, 1658])\n",
      "EDGE_INDEX: torch.Size([2, 1658])\t\tLOOP_INDEX: torch.Size([2, 668])\n",
      "241 --- torch.Size([2, 1658])\n",
      "99 --- torch.Size([2, 1658])\n",
      "668 torch.Size([2, 1658])\n",
      "EDGE_INDEX: torch.Size([2, 1658])\t\tLOOP_INDEX: torch.Size([2, 668])\n",
      "241 --- torch.Size([2, 1292])\n",
      "99 --- torch.Size([2, 1292])\n",
      "536 torch.Size([2, 1292])\n",
      "EDGE_INDEX: torch.Size([2, 1292])\t\tLOOP_INDEX: torch.Size([2, 536])\n",
      "241 --- torch.Size([2, 1292])\n",
      "99 --- torch.Size([2, 1292])\n",
      "536 torch.Size([2, 1292])\n",
      "EDGE_INDEX: torch.Size([2, 1292])\t\tLOOP_INDEX: torch.Size([2, 536])\n",
      "241 --- torch.Size([2, 466])\n",
      "99 --- torch.Size([2, 466])\n",
      "171 torch.Size([2, 466])\n",
      "EDGE_INDEX: torch.Size([2, 466])\t\tLOOP_INDEX: torch.Size([2, 171])\n",
      "241 --- torch.Size([2, 466])\n",
      "99 --- torch.Size([2, 466])\n",
      "171 torch.Size([2, 466])\n",
      "EDGE_INDEX: torch.Size([2, 466])\t\tLOOP_INDEX: torch.Size([2, 171])\n",
      "241 --- torch.Size([2, 414])\n",
      "99 --- torch.Size([2, 414])\n",
      "166 torch.Size([2, 414])\n",
      "EDGE_INDEX: torch.Size([2, 414])\t\tLOOP_INDEX: torch.Size([2, 166])\n",
      "241 --- torch.Size([2, 414])\n",
      "99 --- torch.Size([2, 414])\n",
      "166 torch.Size([2, 414])\n",
      "EDGE_INDEX: torch.Size([2, 414])\t\tLOOP_INDEX: torch.Size([2, 166])\n",
      "241 --- torch.Size([2, 572])\n",
      "99 --- torch.Size([2, 572])\n",
      "208 torch.Size([2, 572])\n",
      "EDGE_INDEX: torch.Size([2, 572])\t\tLOOP_INDEX: torch.Size([2, 208])\n",
      "241 --- torch.Size([2, 572])\n",
      "99 --- torch.Size([2, 572])\n",
      "208 torch.Size([2, 572])\n",
      "EDGE_INDEX: torch.Size([2, 572])\t\tLOOP_INDEX: torch.Size([2, 208])\n",
      "241 --- torch.Size([2, 522])\n",
      "99 --- torch.Size([2, 522])\n",
      "182 torch.Size([2, 522])\n",
      "EDGE_INDEX: torch.Size([2, 522])\t\tLOOP_INDEX: torch.Size([2, 182])\n",
      "241 --- torch.Size([2, 522])\n",
      "99 --- torch.Size([2, 522])\n",
      "182 torch.Size([2, 522])\n",
      "EDGE_INDEX: torch.Size([2, 522])\t\tLOOP_INDEX: torch.Size([2, 182])\n",
      "241 --- torch.Size([2, 454])\n",
      "99 --- torch.Size([2, 454])\n",
      "173 torch.Size([2, 454])\n",
      "EDGE_INDEX: torch.Size([2, 454])\t\tLOOP_INDEX: torch.Size([2, 173])\n",
      "241 --- torch.Size([2, 454])\n",
      "99 --- torch.Size([2, 454])\n",
      "173 torch.Size([2, 454])\n",
      "EDGE_INDEX: torch.Size([2, 454])\t\tLOOP_INDEX: torch.Size([2, 173])\n",
      "241 --- torch.Size([2, 286])\n",
      "99 --- torch.Size([2, 286])\n",
      "134 torch.Size([2, 286])\n",
      "EDGE_INDEX: torch.Size([2, 286])\t\tLOOP_INDEX: torch.Size([2, 134])\n",
      "241 --- torch.Size([2, 286])\n",
      "99 --- torch.Size([2, 286])\n",
      "134 torch.Size([2, 286])\n",
      "EDGE_INDEX: torch.Size([2, 286])\t\tLOOP_INDEX: torch.Size([2, 134])\n",
      "241 --- torch.Size([2, 462])\n",
      "99 --- torch.Size([2, 462])\n",
      "182 torch.Size([2, 462])\n",
      "EDGE_INDEX: torch.Size([2, 462])\t\tLOOP_INDEX: torch.Size([2, 182])\n",
      "241 --- torch.Size([2, 462])\n",
      "99 --- torch.Size([2, 462])\n",
      "182 torch.Size([2, 462])\n",
      "EDGE_INDEX: torch.Size([2, 462])\t\tLOOP_INDEX: torch.Size([2, 182])\n",
      "241 --- torch.Size([2, 700])\n",
      "99 --- torch.Size([2, 700])\n",
      "238 torch.Size([2, 700])\n",
      "EDGE_INDEX: torch.Size([2, 700])\t\tLOOP_INDEX: torch.Size([2, 238])\n",
      "241 --- torch.Size([2, 700])\n",
      "99 --- torch.Size([2, 700])\n",
      "238 torch.Size([2, 700])\n",
      "EDGE_INDEX: torch.Size([2, 700])\t\tLOOP_INDEX: torch.Size([2, 238])\n",
      "241 --- torch.Size([2, 452])\n",
      "99 --- torch.Size([2, 452])\n",
      "182 torch.Size([2, 452])\n",
      "EDGE_INDEX: torch.Size([2, 452])\t\tLOOP_INDEX: torch.Size([2, 182])\n",
      "241 --- torch.Size([2, 452])\n",
      "99 --- torch.Size([2, 452])\n",
      "182 torch.Size([2, 452])\n",
      "EDGE_INDEX: torch.Size([2, 452])\t\tLOOP_INDEX: torch.Size([2, 182])\n",
      "241 --- torch.Size([2, 576])\n",
      "99 --- torch.Size([2, 576])\n",
      "197 torch.Size([2, 576])\n",
      "EDGE_INDEX: torch.Size([2, 576])\t\tLOOP_INDEX: torch.Size([2, 197])\n",
      "241 --- torch.Size([2, 576])\n",
      "99 --- torch.Size([2, 576])\n",
      "197 torch.Size([2, 576])\n",
      "EDGE_INDEX: torch.Size([2, 576])\t\tLOOP_INDEX: torch.Size([2, 197])\n",
      "241 --- torch.Size([2, 538])\n",
      "99 --- torch.Size([2, 538])\n",
      "210 torch.Size([2, 538])\n",
      "EDGE_INDEX: torch.Size([2, 538])\t\tLOOP_INDEX: torch.Size([2, 210])\n",
      "241 --- torch.Size([2, 538])\n",
      "99 --- torch.Size([2, 538])\n",
      "210 torch.Size([2, 538])\n",
      "EDGE_INDEX: torch.Size([2, 538])\t\tLOOP_INDEX: torch.Size([2, 210])\n",
      "241 --- torch.Size([2, 358])\n",
      "99 --- torch.Size([2, 358])\n",
      "155 torch.Size([2, 358])\n",
      "EDGE_INDEX: torch.Size([2, 358])\t\tLOOP_INDEX: torch.Size([2, 155])\n",
      "241 --- torch.Size([2, 358])\n",
      "99 --- torch.Size([2, 358])\n",
      "155 torch.Size([2, 358])\n",
      "EDGE_INDEX: torch.Size([2, 358])\t\tLOOP_INDEX: torch.Size([2, 155])\n",
      "241 --- torch.Size([2, 368])\n",
      "99 --- torch.Size([2, 368])\n",
      "168 torch.Size([2, 368])\n",
      "EDGE_INDEX: torch.Size([2, 368])\t\tLOOP_INDEX: torch.Size([2, 168])\n",
      "241 --- torch.Size([2, 368])\n",
      "99 --- torch.Size([2, 368])\n",
      "168 torch.Size([2, 368])\n",
      "EDGE_INDEX: torch.Size([2, 368])\t\tLOOP_INDEX: torch.Size([2, 168])\n",
      "241 --- torch.Size([2, 368])\n",
      "99 --- torch.Size([2, 368])\n",
      "155 torch.Size([2, 368])\n",
      "EDGE_INDEX: torch.Size([2, 368])\t\tLOOP_INDEX: torch.Size([2, 155])\n",
      "241 --- torch.Size([2, 368])\n",
      "99 --- torch.Size([2, 368])\n",
      "155 torch.Size([2, 368])\n",
      "EDGE_INDEX: torch.Size([2, 368])\t\tLOOP_INDEX: torch.Size([2, 155])\n",
      "241 --- torch.Size([2, 206])\n",
      "99 --- torch.Size([2, 206])\n",
      "68 torch.Size([2, 206])\n",
      "EDGE_INDEX: torch.Size([2, 206])\t\tLOOP_INDEX: torch.Size([2, 68])\n",
      "241 --- torch.Size([2, 206])\n",
      "99 --- torch.Size([2, 206])\n",
      "68 torch.Size([2, 206])\n",
      "EDGE_INDEX: torch.Size([2, 206])\t\tLOOP_INDEX: torch.Size([2, 68])\n"
     ]
    },
    {
     "name": "stderr",
     "output_type": "stream",
     "text": [
      "[Joint E6] Calc Global P:   0%|          | 0/17 [00:00<?, ?it/s]"
     ]
    },
    {
     "name": "stdout",
     "output_type": "stream",
     "text": [
      "241 --- torch.Size([2, 1792])\n",
      "99 --- torch.Size([2, 1792])\n",
      "696 torch.Size([2, 1792])\n",
      "EDGE_INDEX: torch.Size([2, 1792])\t\tLOOP_INDEX: torch.Size([2, 696])\n",
      "241 --- torch.Size([2, 1792])\n",
      "99 --- torch.Size([2, 1792])\n",
      "696 torch.Size([2, 1792])\n",
      "EDGE_INDEX: torch.Size([2, 1792])\t\tLOOP_INDEX: torch.Size([2, 696])\n"
     ]
    },
    {
     "name": "stderr",
     "output_type": "stream",
     "text": [
      "[Joint E6] Calc Global P:   6%|▌         | 1/17 [00:04<01:07,  4.24s/it]"
     ]
    },
    {
     "name": "stdout",
     "output_type": "stream",
     "text": [
      "241 --- torch.Size([2, 1818])\n",
      "99 --- torch.Size([2, 1818])\n",
      "704 torch.Size([2, 1818])\n",
      "EDGE_INDEX: torch.Size([2, 1818])\t\tLOOP_INDEX: torch.Size([2, 704])\n",
      "241 --- torch.Size([2, 1818])\n",
      "99 --- torch.Size([2, 1818])\n",
      "704 torch.Size([2, 1818])\n",
      "EDGE_INDEX: torch.Size([2, 1818])\t\tLOOP_INDEX: torch.Size([2, 704])\n"
     ]
    },
    {
     "name": "stderr",
     "output_type": "stream",
     "text": [
      "[Joint E6] Calc Global P:  12%|█▏        | 2/17 [00:08<01:06,  4.43s/it]"
     ]
    },
    {
     "name": "stdout",
     "output_type": "stream",
     "text": [
      "241 --- torch.Size([2, 1634])\n",
      "99 --- torch.Size([2, 1634])\n",
      "689 torch.Size([2, 1634])\n",
      "EDGE_INDEX: torch.Size([2, 1634])\t\tLOOP_INDEX: torch.Size([2, 689])\n",
      "241 --- torch.Size([2, 1634])\n",
      "99 --- torch.Size([2, 1634])\n",
      "689 torch.Size([2, 1634])\n",
      "EDGE_INDEX: torch.Size([2, 1634])\t\tLOOP_INDEX: torch.Size([2, 689])\n"
     ]
    },
    {
     "name": "stderr",
     "output_type": "stream",
     "text": [
      "[Joint E6] Calc Global P:  18%|█▊        | 3/17 [00:13<01:02,  4.44s/it]"
     ]
    },
    {
     "name": "stdout",
     "output_type": "stream",
     "text": [
      "241 --- torch.Size([2, 1808])\n",
      "99 --- torch.Size([2, 1808])\n",
      "716 torch.Size([2, 1808])\n",
      "EDGE_INDEX: torch.Size([2, 1808])\t\tLOOP_INDEX: torch.Size([2, 716])\n",
      "241 --- torch.Size([2, 1808])\n",
      "99 --- torch.Size([2, 1808])\n",
      "716 torch.Size([2, 1808])\n",
      "EDGE_INDEX: torch.Size([2, 1808])\t\tLOOP_INDEX: torch.Size([2, 716])\n"
     ]
    },
    {
     "name": "stderr",
     "output_type": "stream",
     "text": [
      "[Joint E6] Calc Global P:  24%|██▎       | 4/17 [00:17<00:55,  4.27s/it]"
     ]
    },
    {
     "name": "stdout",
     "output_type": "stream",
     "text": [
      "241 --- torch.Size([2, 1886])\n",
      "99 --- torch.Size([2, 1886])\n",
      "723 torch.Size([2, 1886])\n",
      "EDGE_INDEX: torch.Size([2, 1886])\t\tLOOP_INDEX: torch.Size([2, 723])\n",
      "241 --- torch.Size([2, 1886])\n",
      "99 --- torch.Size([2, 1886])\n",
      "723 torch.Size([2, 1886])\n",
      "EDGE_INDEX: torch.Size([2, 1886])\t\tLOOP_INDEX: torch.Size([2, 723])\n"
     ]
    },
    {
     "name": "stderr",
     "output_type": "stream",
     "text": [
      "[Joint E6] Calc Global P:  29%|██▉       | 5/17 [00:21<00:52,  4.34s/it]"
     ]
    },
    {
     "name": "stdout",
     "output_type": "stream",
     "text": [
      "241 --- torch.Size([2, 1472])\n",
      "99 --- torch.Size([2, 1472])\n",
      "626 torch.Size([2, 1472])\n",
      "EDGE_INDEX: torch.Size([2, 1472])\t\tLOOP_INDEX: torch.Size([2, 626])\n",
      "241 --- torch.Size([2, 1472])\n",
      "99 --- torch.Size([2, 1472])\n",
      "626 torch.Size([2, 1472])\n",
      "EDGE_INDEX: torch.Size([2, 1472])\t\tLOOP_INDEX: torch.Size([2, 626])\n"
     ]
    },
    {
     "name": "stderr",
     "output_type": "stream",
     "text": [
      "[Joint E6] Calc Global P:  35%|███▌      | 6/17 [00:24<00:42,  3.83s/it]"
     ]
    },
    {
     "name": "stdout",
     "output_type": "stream",
     "text": [
      "241 --- torch.Size([2, 1624])\n",
      "99 --- torch.Size([2, 1624])\n",
      "657 torch.Size([2, 1624])\n",
      "EDGE_INDEX: torch.Size([2, 1624])\t\tLOOP_INDEX: torch.Size([2, 657])\n",
      "241 --- torch.Size([2, 1624])\n",
      "99 --- torch.Size([2, 1624])\n",
      "657 torch.Size([2, 1624])\n",
      "EDGE_INDEX: torch.Size([2, 1624])\t\tLOOP_INDEX: torch.Size([2, 657])\n"
     ]
    },
    {
     "name": "stderr",
     "output_type": "stream",
     "text": [
      "[Joint E6] Calc Global P:  41%|████      | 7/17 [00:29<00:41,  4.11s/it]"
     ]
    },
    {
     "name": "stdout",
     "output_type": "stream",
     "text": [
      "241 --- torch.Size([2, 2122])\n",
      "99 --- torch.Size([2, 2122])\n",
      "792 torch.Size([2, 2122])\n",
      "EDGE_INDEX: torch.Size([2, 2122])\t\tLOOP_INDEX: torch.Size([2, 792])\n",
      "241 --- torch.Size([2, 2122])\n",
      "99 --- torch.Size([2, 2122])\n",
      "792 torch.Size([2, 2122])\n",
      "EDGE_INDEX: torch.Size([2, 2122])\t\tLOOP_INDEX: torch.Size([2, 792])\n"
     ]
    },
    {
     "name": "stderr",
     "output_type": "stream",
     "text": [
      "[Joint E6] Calc Global P:  47%|████▋     | 8/17 [00:33<00:37,  4.20s/it]"
     ]
    },
    {
     "name": "stdout",
     "output_type": "stream",
     "text": [
      "241 --- torch.Size([2, 1822])\n",
      "99 --- torch.Size([2, 1822])\n",
      "721 torch.Size([2, 1822])\n",
      "EDGE_INDEX: torch.Size([2, 1822])\t\tLOOP_INDEX: torch.Size([2, 721])\n",
      "241 --- torch.Size([2, 1822])\n",
      "99 --- torch.Size([2, 1822])\n",
      "721 torch.Size([2, 1822])\n",
      "EDGE_INDEX: torch.Size([2, 1822])\t\tLOOP_INDEX: torch.Size([2, 721])\n"
     ]
    },
    {
     "name": "stderr",
     "output_type": "stream",
     "text": [
      "[Joint E6] Calc Global P:  53%|█████▎    | 9/17 [00:38<00:34,  4.35s/it]"
     ]
    },
    {
     "name": "stdout",
     "output_type": "stream",
     "text": [
      "241 --- torch.Size([2, 1654])\n",
      "99 --- torch.Size([2, 1654])\n",
      "671 torch.Size([2, 1654])\n",
      "EDGE_INDEX: torch.Size([2, 1654])\t\tLOOP_INDEX: torch.Size([2, 671])\n",
      "241 --- torch.Size([2, 1654])\n",
      "99 --- torch.Size([2, 1654])\n",
      "671 torch.Size([2, 1654])\n",
      "EDGE_INDEX: torch.Size([2, 1654])\t\tLOOP_INDEX: torch.Size([2, 671])\n"
     ]
    },
    {
     "name": "stderr",
     "output_type": "stream",
     "text": [
      "[Joint E6] Calc Global P:  59%|█████▉    | 10/17 [00:43<00:31,  4.50s/it]"
     ]
    },
    {
     "name": "stdout",
     "output_type": "stream",
     "text": [
      "241 --- torch.Size([2, 2052])\n",
      "99 --- torch.Size([2, 2052])\n",
      "737 torch.Size([2, 2052])\n",
      "EDGE_INDEX: torch.Size([2, 2052])\t\tLOOP_INDEX: torch.Size([2, 737])\n",
      "241 --- torch.Size([2, 2052])\n",
      "99 --- torch.Size([2, 2052])\n",
      "737 torch.Size([2, 2052])\n",
      "EDGE_INDEX: torch.Size([2, 2052])\t\tLOOP_INDEX: torch.Size([2, 737])\n"
     ]
    },
    {
     "name": "stderr",
     "output_type": "stream",
     "text": [
      "[Joint E6] Calc Global P:  65%|██████▍   | 11/17 [00:47<00:27,  4.53s/it]"
     ]
    },
    {
     "name": "stdout",
     "output_type": "stream",
     "text": [
      "241 --- torch.Size([2, 2270])\n",
      "99 --- torch.Size([2, 2270])\n",
      "800 torch.Size([2, 2270])\n",
      "EDGE_INDEX: torch.Size([2, 2270])\t\tLOOP_INDEX: torch.Size([2, 800])\n",
      "241 --- torch.Size([2, 2270])\n",
      "99 --- torch.Size([2, 2270])\n",
      "800 torch.Size([2, 2270])\n",
      "EDGE_INDEX: torch.Size([2, 2270])\t\tLOOP_INDEX: torch.Size([2, 800])\n"
     ]
    },
    {
     "name": "stderr",
     "output_type": "stream",
     "text": [
      "[Joint E6] Calc Global P:  71%|███████   | 12/17 [00:52<00:22,  4.54s/it]"
     ]
    },
    {
     "name": "stdout",
     "output_type": "stream",
     "text": [
      "241 --- torch.Size([2, 1560])\n",
      "99 --- torch.Size([2, 1560])\n",
      "677 torch.Size([2, 1560])\n",
      "EDGE_INDEX: torch.Size([2, 1560])\t\tLOOP_INDEX: torch.Size([2, 677])\n",
      "241 --- torch.Size([2, 1560])\n",
      "99 --- torch.Size([2, 1560])\n",
      "677 torch.Size([2, 1560])\n",
      "EDGE_INDEX: torch.Size([2, 1560])\t\tLOOP_INDEX: torch.Size([2, 677])\n"
     ]
    },
    {
     "name": "stderr",
     "output_type": "stream",
     "text": [
      "[Joint E6] Calc Global P:  76%|███████▋  | 13/17 [00:56<00:17,  4.42s/it]"
     ]
    },
    {
     "name": "stdout",
     "output_type": "stream",
     "text": [
      "241 --- torch.Size([2, 1450])\n",
      "99 --- torch.Size([2, 1450])\n",
      "642 torch.Size([2, 1450])\n",
      "EDGE_INDEX: torch.Size([2, 1450])\t\tLOOP_INDEX: torch.Size([2, 642])\n",
      "241 --- torch.Size([2, 1450])\n",
      "99 --- torch.Size([2, 1450])\n",
      "642 torch.Size([2, 1450])\n",
      "EDGE_INDEX: torch.Size([2, 1450])\t\tLOOP_INDEX: torch.Size([2, 642])\n"
     ]
    },
    {
     "name": "stderr",
     "output_type": "stream",
     "text": [
      "[Joint E6] Calc Global P:  82%|████████▏ | 14/17 [01:00<00:13,  4.42s/it]"
     ]
    },
    {
     "name": "stdout",
     "output_type": "stream",
     "text": [
      "241 --- torch.Size([2, 1412])\n",
      "99 --- torch.Size([2, 1412])\n",
      "628 torch.Size([2, 1412])\n",
      "EDGE_INDEX: torch.Size([2, 1412])\t\tLOOP_INDEX: torch.Size([2, 628])\n",
      "241 --- torch.Size([2, 1412])\n",
      "99 --- torch.Size([2, 1412])\n",
      "628 torch.Size([2, 1412])\n",
      "EDGE_INDEX: torch.Size([2, 1412])\t\tLOOP_INDEX: torch.Size([2, 628])\n"
     ]
    },
    {
     "name": "stderr",
     "output_type": "stream",
     "text": [
      "[Joint E6] Calc Global P:  88%|████████▊ | 15/17 [01:05<00:08,  4.33s/it]"
     ]
    },
    {
     "name": "stdout",
     "output_type": "stream",
     "text": [
      "241 --- torch.Size([2, 1662])\n",
      "99 --- torch.Size([2, 1662])\n",
      "666 torch.Size([2, 1662])\n",
      "EDGE_INDEX: torch.Size([2, 1662])\t\tLOOP_INDEX: torch.Size([2, 666])\n",
      "241 --- torch.Size([2, 1662])\n",
      "99 --- torch.Size([2, 1662])\n",
      "666 torch.Size([2, 1662])\n",
      "EDGE_INDEX: torch.Size([2, 1662])\t\tLOOP_INDEX: torch.Size([2, 666])\n"
     ]
    },
    {
     "name": "stderr",
     "output_type": "stream",
     "text": [
      "[Joint E6] Calc Global P:  94%|█████████▍| 16/17 [01:08<00:04,  4.16s/it]"
     ]
    },
    {
     "name": "stdout",
     "output_type": "stream",
     "text": [
      "241 --- torch.Size([2, 1332])\n",
      "99 --- torch.Size([2, 1332])\n",
      "530 torch.Size([2, 1332])\n",
      "EDGE_INDEX: torch.Size([2, 1332])\t\tLOOP_INDEX: torch.Size([2, 530])\n",
      "241 --- torch.Size([2, 1332])\n",
      "99 --- torch.Size([2, 1332])\n",
      "530 torch.Size([2, 1332])\n",
      "EDGE_INDEX: torch.Size([2, 1332])\t\tLOOP_INDEX: torch.Size([2, 530])\n"
     ]
    },
    {
     "name": "stderr",
     "output_type": "stream",
     "text": [
      "                                                                         \r"
     ]
    },
    {
     "name": "stdout",
     "output_type": "stream",
     "text": [
      "241 --- torch.Size([2, 1496])\n",
      "99 --- torch.Size([2, 1496])\n",
      "642 torch.Size([2, 1496])\n",
      "EDGE_INDEX: torch.Size([2, 1496])\t\tLOOP_INDEX: torch.Size([2, 642])\n",
      "241 --- torch.Size([2, 1496])\n",
      "99 --- torch.Size([2, 1496])\n",
      "642 torch.Size([2, 1496])\n",
      "EDGE_INDEX: torch.Size([2, 1496])\t\tLOOP_INDEX: torch.Size([2, 642])\n",
      "241 --- torch.Size([2, 1702])\n",
      "99 --- torch.Size([2, 1702])\n",
      "684 torch.Size([2, 1702])\n",
      "EDGE_INDEX: torch.Size([2, 1702])\t\tLOOP_INDEX: torch.Size([2, 684])\n",
      "241 --- torch.Size([2, 1702])\n",
      "99 --- torch.Size([2, 1702])\n",
      "684 torch.Size([2, 1702])\n",
      "EDGE_INDEX: torch.Size([2, 1702])\t\tLOOP_INDEX: torch.Size([2, 684])\n",
      "241 --- torch.Size([2, 1692])\n",
      "99 --- torch.Size([2, 1692])\n",
      "684 torch.Size([2, 1692])\n",
      "EDGE_INDEX: torch.Size([2, 1692])\t\tLOOP_INDEX: torch.Size([2, 684])\n",
      "241 --- torch.Size([2, 1692])\n",
      "99 --- torch.Size([2, 1692])\n",
      "684 torch.Size([2, 1692])\n",
      "EDGE_INDEX: torch.Size([2, 1692])\t\tLOOP_INDEX: torch.Size([2, 684])\n",
      "241 --- torch.Size([2, 1710])\n",
      "99 --- torch.Size([2, 1710])\n",
      "678 torch.Size([2, 1710])\n",
      "EDGE_INDEX: torch.Size([2, 1710])\t\tLOOP_INDEX: torch.Size([2, 678])\n",
      "241 --- torch.Size([2, 1710])\n",
      "99 --- torch.Size([2, 1710])\n",
      "678 torch.Size([2, 1710])\n",
      "EDGE_INDEX: torch.Size([2, 1710])\t\tLOOP_INDEX: torch.Size([2, 678])\n",
      "241 --- torch.Size([2, 1652])\n",
      "99 --- torch.Size([2, 1652])\n",
      "669 torch.Size([2, 1652])\n",
      "EDGE_INDEX: torch.Size([2, 1652])\t\tLOOP_INDEX: torch.Size([2, 669])\n",
      "241 --- torch.Size([2, 1652])\n",
      "99 --- torch.Size([2, 1652])\n",
      "669 torch.Size([2, 1652])\n",
      "EDGE_INDEX: torch.Size([2, 1652])\t\tLOOP_INDEX: torch.Size([2, 669])\n",
      "241 --- torch.Size([2, 1690])\n",
      "99 --- torch.Size([2, 1690])\n",
      "684 torch.Size([2, 1690])\n",
      "EDGE_INDEX: torch.Size([2, 1690])\t\tLOOP_INDEX: torch.Size([2, 684])\n",
      "241 --- torch.Size([2, 1690])\n",
      "99 --- torch.Size([2, 1690])\n",
      "684 torch.Size([2, 1690])\n",
      "EDGE_INDEX: torch.Size([2, 1690])\t\tLOOP_INDEX: torch.Size([2, 684])\n",
      "241 --- torch.Size([2, 1742])\n",
      "99 --- torch.Size([2, 1742])\n",
      "690 torch.Size([2, 1742])\n",
      "EDGE_INDEX: torch.Size([2, 1742])\t\tLOOP_INDEX: torch.Size([2, 690])\n",
      "241 --- torch.Size([2, 1742])\n",
      "99 --- torch.Size([2, 1742])\n",
      "690 torch.Size([2, 1742])\n",
      "EDGE_INDEX: torch.Size([2, 1742])\t\tLOOP_INDEX: torch.Size([2, 690])\n",
      "241 --- torch.Size([2, 1522])\n",
      "99 --- torch.Size([2, 1522])\n",
      "652 torch.Size([2, 1522])\n",
      "EDGE_INDEX: torch.Size([2, 1522])\t\tLOOP_INDEX: torch.Size([2, 652])\n",
      "241 --- torch.Size([2, 1522])\n",
      "99 --- torch.Size([2, 1522])\n",
      "652 torch.Size([2, 1522])\n",
      "EDGE_INDEX: torch.Size([2, 1522])\t\tLOOP_INDEX: torch.Size([2, 652])\n",
      "241 --- torch.Size([2, 1450])\n",
      "99 --- torch.Size([2, 1450])\n",
      "622 torch.Size([2, 1450])\n",
      "EDGE_INDEX: torch.Size([2, 1450])\t\tLOOP_INDEX: torch.Size([2, 622])\n",
      "241 --- torch.Size([2, 1450])\n",
      "99 --- torch.Size([2, 1450])\n",
      "622 torch.Size([2, 1450])\n",
      "EDGE_INDEX: torch.Size([2, 1450])\t\tLOOP_INDEX: torch.Size([2, 622])\n",
      "241 --- torch.Size([2, 1532])\n",
      "99 --- torch.Size([2, 1532])\n",
      "647 torch.Size([2, 1532])\n",
      "EDGE_INDEX: torch.Size([2, 1532])\t\tLOOP_INDEX: torch.Size([2, 647])\n",
      "241 --- torch.Size([2, 1532])\n",
      "99 --- torch.Size([2, 1532])\n",
      "647 torch.Size([2, 1532])\n",
      "EDGE_INDEX: torch.Size([2, 1532])\t\tLOOP_INDEX: torch.Size([2, 647])\n",
      "241 --- torch.Size([2, 1632])\n",
      "99 --- torch.Size([2, 1632])\n",
      "662 torch.Size([2, 1632])\n",
      "EDGE_INDEX: torch.Size([2, 1632])\t\tLOOP_INDEX: torch.Size([2, 662])\n",
      "241 --- torch.Size([2, 1632])\n",
      "99 --- torch.Size([2, 1632])\n",
      "662 torch.Size([2, 1632])\n",
      "EDGE_INDEX: torch.Size([2, 1632])\t\tLOOP_INDEX: torch.Size([2, 662])\n",
      "241 --- torch.Size([2, 1652])\n",
      "99 --- torch.Size([2, 1652])\n",
      "678 torch.Size([2, 1652])\n",
      "EDGE_INDEX: torch.Size([2, 1652])\t\tLOOP_INDEX: torch.Size([2, 678])\n",
      "241 --- torch.Size([2, 1652])\n",
      "99 --- torch.Size([2, 1652])\n",
      "678 torch.Size([2, 1652])\n",
      "EDGE_INDEX: torch.Size([2, 1652])\t\tLOOP_INDEX: torch.Size([2, 678])\n",
      "241 --- torch.Size([2, 1704])\n",
      "99 --- torch.Size([2, 1704])\n",
      "685 torch.Size([2, 1704])\n",
      "EDGE_INDEX: torch.Size([2, 1704])\t\tLOOP_INDEX: torch.Size([2, 685])\n",
      "241 --- torch.Size([2, 1704])\n",
      "99 --- torch.Size([2, 1704])\n",
      "685 torch.Size([2, 1704])\n",
      "EDGE_INDEX: torch.Size([2, 1704])\t\tLOOP_INDEX: torch.Size([2, 685])\n",
      "241 --- torch.Size([2, 1628])\n",
      "99 --- torch.Size([2, 1628])\n",
      "658 torch.Size([2, 1628])\n",
      "EDGE_INDEX: torch.Size([2, 1628])\t\tLOOP_INDEX: torch.Size([2, 658])\n",
      "241 --- torch.Size([2, 1628])\n",
      "99 --- torch.Size([2, 1628])\n",
      "658 torch.Size([2, 1628])\n",
      "EDGE_INDEX: torch.Size([2, 1628])\t\tLOOP_INDEX: torch.Size([2, 658])\n",
      "241 --- torch.Size([2, 1794])\n",
      "99 --- torch.Size([2, 1794])\n",
      "712 torch.Size([2, 1794])\n",
      "EDGE_INDEX: torch.Size([2, 1794])\t\tLOOP_INDEX: torch.Size([2, 712])\n",
      "241 --- torch.Size([2, 1794])\n",
      "99 --- torch.Size([2, 1794])\n",
      "712 torch.Size([2, 1794])\n",
      "EDGE_INDEX: torch.Size([2, 1794])\t\tLOOP_INDEX: torch.Size([2, 712])\n",
      "241 --- torch.Size([2, 1942])\n",
      "99 --- torch.Size([2, 1942])\n",
      "713 torch.Size([2, 1942])\n",
      "EDGE_INDEX: torch.Size([2, 1942])\t\tLOOP_INDEX: torch.Size([2, 713])\n",
      "241 --- torch.Size([2, 1942])\n",
      "99 --- torch.Size([2, 1942])\n",
      "713 torch.Size([2, 1942])\n",
      "EDGE_INDEX: torch.Size([2, 1942])\t\tLOOP_INDEX: torch.Size([2, 713])\n",
      "241 --- torch.Size([2, 1380])\n",
      "99 --- torch.Size([2, 1380])\n",
      "564 torch.Size([2, 1380])\n",
      "EDGE_INDEX: torch.Size([2, 1380])\t\tLOOP_INDEX: torch.Size([2, 564])\n",
      "241 --- torch.Size([2, 1380])\n",
      "99 --- torch.Size([2, 1380])\n",
      "564 torch.Size([2, 1380])\n",
      "EDGE_INDEX: torch.Size([2, 1380])\t\tLOOP_INDEX: torch.Size([2, 564])\n",
      "241 --- torch.Size([2, 466])\n",
      "99 --- torch.Size([2, 466])\n",
      "171 torch.Size([2, 466])\n",
      "EDGE_INDEX: torch.Size([2, 466])\t\tLOOP_INDEX: torch.Size([2, 171])\n",
      "241 --- torch.Size([2, 466])\n",
      "99 --- torch.Size([2, 466])\n",
      "171 torch.Size([2, 466])\n",
      "EDGE_INDEX: torch.Size([2, 466])\t\tLOOP_INDEX: torch.Size([2, 171])\n",
      "241 --- torch.Size([2, 414])\n",
      "99 --- torch.Size([2, 414])\n",
      "166 torch.Size([2, 414])\n",
      "EDGE_INDEX: torch.Size([2, 414])\t\tLOOP_INDEX: torch.Size([2, 166])\n",
      "241 --- torch.Size([2, 414])\n",
      "99 --- torch.Size([2, 414])\n",
      "166 torch.Size([2, 414])\n",
      "EDGE_INDEX: torch.Size([2, 414])\t\tLOOP_INDEX: torch.Size([2, 166])\n",
      "241 --- torch.Size([2, 572])\n",
      "99 --- torch.Size([2, 572])\n",
      "208 torch.Size([2, 572])\n",
      "EDGE_INDEX: torch.Size([2, 572])\t\tLOOP_INDEX: torch.Size([2, 208])\n",
      "241 --- torch.Size([2, 572])\n",
      "99 --- torch.Size([2, 572])\n",
      "208 torch.Size([2, 572])\n",
      "EDGE_INDEX: torch.Size([2, 572])\t\tLOOP_INDEX: torch.Size([2, 208])\n",
      "241 --- torch.Size([2, 522])\n",
      "99 --- torch.Size([2, 522])\n",
      "182 torch.Size([2, 522])\n",
      "EDGE_INDEX: torch.Size([2, 522])\t\tLOOP_INDEX: torch.Size([2, 182])\n",
      "241 --- torch.Size([2, 522])\n",
      "99 --- torch.Size([2, 522])\n",
      "182 torch.Size([2, 522])\n",
      "EDGE_INDEX: torch.Size([2, 522])\t\tLOOP_INDEX: torch.Size([2, 182])\n",
      "241 --- torch.Size([2, 454])\n",
      "99 --- torch.Size([2, 454])\n",
      "173 torch.Size([2, 454])\n",
      "EDGE_INDEX: torch.Size([2, 454])\t\tLOOP_INDEX: torch.Size([2, 173])\n",
      "241 --- torch.Size([2, 454])\n",
      "99 --- torch.Size([2, 454])\n",
      "173 torch.Size([2, 454])\n",
      "EDGE_INDEX: torch.Size([2, 454])\t\tLOOP_INDEX: torch.Size([2, 173])\n",
      "241 --- torch.Size([2, 286])\n",
      "99 --- torch.Size([2, 286])\n",
      "134 torch.Size([2, 286])\n",
      "EDGE_INDEX: torch.Size([2, 286])\t\tLOOP_INDEX: torch.Size([2, 134])\n",
      "241 --- torch.Size([2, 286])\n",
      "99 --- torch.Size([2, 286])\n",
      "134 torch.Size([2, 286])\n",
      "EDGE_INDEX: torch.Size([2, 286])\t\tLOOP_INDEX: torch.Size([2, 134])\n",
      "241 --- torch.Size([2, 462])\n",
      "99 --- torch.Size([2, 462])\n",
      "182 torch.Size([2, 462])\n",
      "EDGE_INDEX: torch.Size([2, 462])\t\tLOOP_INDEX: torch.Size([2, 182])\n",
      "241 --- torch.Size([2, 462])\n",
      "99 --- torch.Size([2, 462])\n",
      "182 torch.Size([2, 462])\n",
      "EDGE_INDEX: torch.Size([2, 462])\t\tLOOP_INDEX: torch.Size([2, 182])\n",
      "241 --- torch.Size([2, 700])\n",
      "99 --- torch.Size([2, 700])\n",
      "238 torch.Size([2, 700])\n",
      "EDGE_INDEX: torch.Size([2, 700])\t\tLOOP_INDEX: torch.Size([2, 238])\n",
      "241 --- torch.Size([2, 700])\n",
      "99 --- torch.Size([2, 700])\n",
      "238 torch.Size([2, 700])\n",
      "EDGE_INDEX: torch.Size([2, 700])\t\tLOOP_INDEX: torch.Size([2, 238])\n",
      "241 --- torch.Size([2, 452])\n",
      "99 --- torch.Size([2, 452])\n",
      "182 torch.Size([2, 452])\n",
      "EDGE_INDEX: torch.Size([2, 452])\t\tLOOP_INDEX: torch.Size([2, 182])\n",
      "241 --- torch.Size([2, 452])\n",
      "99 --- torch.Size([2, 452])\n",
      "182 torch.Size([2, 452])\n",
      "EDGE_INDEX: torch.Size([2, 452])\t\tLOOP_INDEX: torch.Size([2, 182])\n",
      "241 --- torch.Size([2, 576])\n",
      "99 --- torch.Size([2, 576])\n",
      "197 torch.Size([2, 576])\n",
      "EDGE_INDEX: torch.Size([2, 576])\t\tLOOP_INDEX: torch.Size([2, 197])\n",
      "241 --- torch.Size([2, 576])\n",
      "99 --- torch.Size([2, 576])\n",
      "197 torch.Size([2, 576])\n",
      "EDGE_INDEX: torch.Size([2, 576])\t\tLOOP_INDEX: torch.Size([2, 197])\n",
      "241 --- torch.Size([2, 538])\n",
      "99 --- torch.Size([2, 538])\n",
      "210 torch.Size([2, 538])\n",
      "EDGE_INDEX: torch.Size([2, 538])\t\tLOOP_INDEX: torch.Size([2, 210])\n",
      "241 --- torch.Size([2, 538])\n",
      "99 --- torch.Size([2, 538])\n",
      "210 torch.Size([2, 538])\n",
      "EDGE_INDEX: torch.Size([2, 538])\t\tLOOP_INDEX: torch.Size([2, 210])\n",
      "241 --- torch.Size([2, 358])\n",
      "99 --- torch.Size([2, 358])\n",
      "155 torch.Size([2, 358])\n",
      "EDGE_INDEX: torch.Size([2, 358])\t\tLOOP_INDEX: torch.Size([2, 155])\n",
      "241 --- torch.Size([2, 358])\n",
      "99 --- torch.Size([2, 358])\n",
      "155 torch.Size([2, 358])\n",
      "EDGE_INDEX: torch.Size([2, 358])\t\tLOOP_INDEX: torch.Size([2, 155])\n",
      "241 --- torch.Size([2, 368])\n",
      "99 --- torch.Size([2, 368])\n",
      "168 torch.Size([2, 368])\n",
      "EDGE_INDEX: torch.Size([2, 368])\t\tLOOP_INDEX: torch.Size([2, 168])\n",
      "241 --- torch.Size([2, 368])\n",
      "99 --- torch.Size([2, 368])\n",
      "168 torch.Size([2, 368])\n",
      "EDGE_INDEX: torch.Size([2, 368])\t\tLOOP_INDEX: torch.Size([2, 168])\n",
      "241 --- torch.Size([2, 368])\n",
      "99 --- torch.Size([2, 368])\n",
      "155 torch.Size([2, 368])\n",
      "EDGE_INDEX: torch.Size([2, 368])\t\tLOOP_INDEX: torch.Size([2, 155])\n",
      "241 --- torch.Size([2, 368])\n",
      "99 --- torch.Size([2, 368])\n",
      "155 torch.Size([2, 368])\n",
      "EDGE_INDEX: torch.Size([2, 368])\t\tLOOP_INDEX: torch.Size([2, 155])\n",
      "241 --- torch.Size([2, 206])\n",
      "99 --- torch.Size([2, 206])\n",
      "68 torch.Size([2, 206])\n",
      "EDGE_INDEX: torch.Size([2, 206])\t\tLOOP_INDEX: torch.Size([2, 68])\n",
      "241 --- torch.Size([2, 206])\n",
      "99 --- torch.Size([2, 206])\n",
      "68 torch.Size([2, 206])\n",
      "EDGE_INDEX: torch.Size([2, 206])\t\tLOOP_INDEX: torch.Size([2, 68])\n"
     ]
    },
    {
     "name": "stderr",
     "output_type": "stream",
     "text": [
      "[Joint E7] Calc Global P:   0%|          | 0/17 [00:00<?, ?it/s]"
     ]
    },
    {
     "name": "stdout",
     "output_type": "stream",
     "text": [
      "241 --- torch.Size([2, 1792])\n",
      "99 --- torch.Size([2, 1792])\n",
      "696 torch.Size([2, 1792])\n",
      "EDGE_INDEX: torch.Size([2, 1792])\t\tLOOP_INDEX: torch.Size([2, 696])\n",
      "241 --- torch.Size([2, 1792])\n",
      "99 --- torch.Size([2, 1792])\n",
      "696 torch.Size([2, 1792])\n",
      "EDGE_INDEX: torch.Size([2, 1792])\t\tLOOP_INDEX: torch.Size([2, 696])\n"
     ]
    },
    {
     "name": "stderr",
     "output_type": "stream",
     "text": [
      "[Joint E7] Calc Global P:   6%|▌         | 1/17 [00:04<01:09,  4.37s/it]"
     ]
    },
    {
     "name": "stdout",
     "output_type": "stream",
     "text": [
      "241 --- torch.Size([2, 1818])\n",
      "99 --- torch.Size([2, 1818])\n",
      "704 torch.Size([2, 1818])\n",
      "EDGE_INDEX: torch.Size([2, 1818])\t\tLOOP_INDEX: torch.Size([2, 704])\n",
      "241 --- torch.Size([2, 1818])\n",
      "99 --- torch.Size([2, 1818])\n",
      "704 torch.Size([2, 1818])\n",
      "EDGE_INDEX: torch.Size([2, 1818])\t\tLOOP_INDEX: torch.Size([2, 704])\n"
     ]
    },
    {
     "name": "stderr",
     "output_type": "stream",
     "text": [
      "[Joint E7] Calc Global P:  12%|█▏        | 2/17 [00:08<01:05,  4.35s/it]"
     ]
    },
    {
     "name": "stdout",
     "output_type": "stream",
     "text": [
      "241 --- torch.Size([2, 1634])\n",
      "99 --- torch.Size([2, 1634])\n",
      "689 torch.Size([2, 1634])\n",
      "EDGE_INDEX: torch.Size([2, 1634])\t\tLOOP_INDEX: torch.Size([2, 689])\n",
      "241 --- torch.Size([2, 1634])\n",
      "99 --- torch.Size([2, 1634])\n",
      "689 torch.Size([2, 1634])\n",
      "EDGE_INDEX: torch.Size([2, 1634])\t\tLOOP_INDEX: torch.Size([2, 689])\n"
     ]
    },
    {
     "name": "stderr",
     "output_type": "stream",
     "text": [
      "[Joint E7] Calc Global P:  18%|█▊        | 3/17 [00:13<01:00,  4.33s/it]"
     ]
    },
    {
     "name": "stdout",
     "output_type": "stream",
     "text": [
      "241 --- torch.Size([2, 1808])\n",
      "99 --- torch.Size([2, 1808])\n",
      "716 torch.Size([2, 1808])\n",
      "EDGE_INDEX: torch.Size([2, 1808])\t\tLOOP_INDEX: torch.Size([2, 716])\n",
      "241 --- torch.Size([2, 1808])\n",
      "99 --- torch.Size([2, 1808])\n",
      "716 torch.Size([2, 1808])\n",
      "EDGE_INDEX: torch.Size([2, 1808])\t\tLOOP_INDEX: torch.Size([2, 716])\n"
     ]
    },
    {
     "name": "stderr",
     "output_type": "stream",
     "text": [
      "[Joint E7] Calc Global P:  24%|██▎       | 4/17 [00:16<00:54,  4.19s/it]"
     ]
    },
    {
     "name": "stdout",
     "output_type": "stream",
     "text": [
      "241 --- torch.Size([2, 1886])\n",
      "99 --- torch.Size([2, 1886])\n",
      "723 torch.Size([2, 1886])\n",
      "EDGE_INDEX: torch.Size([2, 1886])\t\tLOOP_INDEX: torch.Size([2, 723])\n",
      "241 --- torch.Size([2, 1886])\n",
      "99 --- torch.Size([2, 1886])\n",
      "723 torch.Size([2, 1886])\n",
      "EDGE_INDEX: torch.Size([2, 1886])\t\tLOOP_INDEX: torch.Size([2, 723])\n"
     ]
    },
    {
     "name": "stderr",
     "output_type": "stream",
     "text": [
      "[Joint E7] Calc Global P:  29%|██▉       | 5/17 [00:21<00:52,  4.35s/it]"
     ]
    },
    {
     "name": "stdout",
     "output_type": "stream",
     "text": [
      "241 --- torch.Size([2, 1472])\n",
      "99 --- torch.Size([2, 1472])\n",
      "626 torch.Size([2, 1472])\n",
      "EDGE_INDEX: torch.Size([2, 1472])\t\tLOOP_INDEX: torch.Size([2, 626])\n",
      "241 --- torch.Size([2, 1472])\n",
      "99 --- torch.Size([2, 1472])\n",
      "626 torch.Size([2, 1472])\n",
      "EDGE_INDEX: torch.Size([2, 1472])\t\tLOOP_INDEX: torch.Size([2, 626])\n"
     ]
    },
    {
     "name": "stderr",
     "output_type": "stream",
     "text": [
      "[Joint E7] Calc Global P:  35%|███▌      | 6/17 [00:25<00:44,  4.08s/it]"
     ]
    },
    {
     "name": "stdout",
     "output_type": "stream",
     "text": [
      "241 --- torch.Size([2, 1624])\n",
      "99 --- torch.Size([2, 1624])\n",
      "657 torch.Size([2, 1624])\n",
      "EDGE_INDEX: torch.Size([2, 1624])\t\tLOOP_INDEX: torch.Size([2, 657])\n",
      "241 --- torch.Size([2, 1624])\n",
      "99 --- torch.Size([2, 1624])\n",
      "657 torch.Size([2, 1624])\n",
      "EDGE_INDEX: torch.Size([2, 1624])\t\tLOOP_INDEX: torch.Size([2, 657])\n"
     ]
    },
    {
     "name": "stderr",
     "output_type": "stream",
     "text": [
      "[Joint E7] Calc Global P:  41%|████      | 7/17 [00:30<00:43,  4.39s/it]"
     ]
    },
    {
     "name": "stdout",
     "output_type": "stream",
     "text": [
      "241 --- torch.Size([2, 2122])\n",
      "99 --- torch.Size([2, 2122])\n",
      "792 torch.Size([2, 2122])\n",
      "EDGE_INDEX: torch.Size([2, 2122])\t\tLOOP_INDEX: torch.Size([2, 792])\n",
      "241 --- torch.Size([2, 2122])\n",
      "99 --- torch.Size([2, 2122])\n",
      "792 torch.Size([2, 2122])\n",
      "EDGE_INDEX: torch.Size([2, 2122])\t\tLOOP_INDEX: torch.Size([2, 792])\n"
     ]
    },
    {
     "name": "stderr",
     "output_type": "stream",
     "text": [
      "[Joint E7] Calc Global P:  47%|████▋     | 8/17 [00:34<00:40,  4.48s/it]"
     ]
    },
    {
     "name": "stdout",
     "output_type": "stream",
     "text": [
      "241 --- torch.Size([2, 1822])\n",
      "99 --- torch.Size([2, 1822])\n",
      "721 torch.Size([2, 1822])\n",
      "EDGE_INDEX: torch.Size([2, 1822])\t\tLOOP_INDEX: torch.Size([2, 721])\n",
      "241 --- torch.Size([2, 1822])\n",
      "99 --- torch.Size([2, 1822])\n",
      "721 torch.Size([2, 1822])\n",
      "EDGE_INDEX: torch.Size([2, 1822])\t\tLOOP_INDEX: torch.Size([2, 721])\n"
     ]
    },
    {
     "name": "stderr",
     "output_type": "stream",
     "text": [
      "[Joint E7] Calc Global P:  53%|█████▎    | 9/17 [00:39<00:36,  4.57s/it]"
     ]
    },
    {
     "name": "stdout",
     "output_type": "stream",
     "text": [
      "241 --- torch.Size([2, 1654])\n",
      "99 --- torch.Size([2, 1654])\n",
      "671 torch.Size([2, 1654])\n",
      "EDGE_INDEX: torch.Size([2, 1654])\t\tLOOP_INDEX: torch.Size([2, 671])\n",
      "241 --- torch.Size([2, 1654])\n",
      "99 --- torch.Size([2, 1654])\n",
      "671 torch.Size([2, 1654])\n",
      "EDGE_INDEX: torch.Size([2, 1654])\t\tLOOP_INDEX: torch.Size([2, 671])\n"
     ]
    },
    {
     "name": "stderr",
     "output_type": "stream",
     "text": [
      "[Joint E7] Calc Global P:  59%|█████▉    | 10/17 [00:45<00:34,  4.86s/it]"
     ]
    },
    {
     "name": "stdout",
     "output_type": "stream",
     "text": [
      "241 --- torch.Size([2, 2052])\n",
      "99 --- torch.Size([2, 2052])\n",
      "737 torch.Size([2, 2052])\n",
      "EDGE_INDEX: torch.Size([2, 2052])\t\tLOOP_INDEX: torch.Size([2, 737])\n",
      "241 --- torch.Size([2, 2052])\n",
      "99 --- torch.Size([2, 2052])\n",
      "737 torch.Size([2, 2052])\n",
      "EDGE_INDEX: torch.Size([2, 2052])\t\tLOOP_INDEX: torch.Size([2, 737])\n"
     ]
    },
    {
     "name": "stderr",
     "output_type": "stream",
     "text": [
      "[Joint E7] Calc Global P:  65%|██████▍   | 11/17 [00:50<00:30,  5.04s/it]"
     ]
    },
    {
     "name": "stdout",
     "output_type": "stream",
     "text": [
      "241 --- torch.Size([2, 2270])\n",
      "99 --- torch.Size([2, 2270])\n",
      "800 torch.Size([2, 2270])\n",
      "EDGE_INDEX: torch.Size([2, 2270])\t\tLOOP_INDEX: torch.Size([2, 800])\n",
      "241 --- torch.Size([2, 2270])\n",
      "99 --- torch.Size([2, 2270])\n",
      "800 torch.Size([2, 2270])\n",
      "EDGE_INDEX: torch.Size([2, 2270])\t\tLOOP_INDEX: torch.Size([2, 800])\n"
     ]
    },
    {
     "name": "stderr",
     "output_type": "stream",
     "text": [
      "[Joint E7] Calc Global P:  71%|███████   | 12/17 [00:54<00:23,  4.79s/it]"
     ]
    },
    {
     "name": "stdout",
     "output_type": "stream",
     "text": [
      "241 --- torch.Size([2, 1560])\n",
      "99 --- torch.Size([2, 1560])\n",
      "677 torch.Size([2, 1560])\n",
      "EDGE_INDEX: torch.Size([2, 1560])\t\tLOOP_INDEX: torch.Size([2, 677])\n",
      "241 --- torch.Size([2, 1560])\n",
      "99 --- torch.Size([2, 1560])\n",
      "677 torch.Size([2, 1560])\n",
      "EDGE_INDEX: torch.Size([2, 1560])\t\tLOOP_INDEX: torch.Size([2, 677])\n"
     ]
    },
    {
     "name": "stderr",
     "output_type": "stream",
     "text": [
      "[Joint E7] Calc Global P:  76%|███████▋  | 13/17 [00:58<00:18,  4.55s/it]"
     ]
    },
    {
     "name": "stdout",
     "output_type": "stream",
     "text": [
      "241 --- torch.Size([2, 1450])\n",
      "99 --- torch.Size([2, 1450])\n",
      "642 torch.Size([2, 1450])\n",
      "EDGE_INDEX: torch.Size([2, 1450])\t\tLOOP_INDEX: torch.Size([2, 642])\n",
      "241 --- torch.Size([2, 1450])\n",
      "99 --- torch.Size([2, 1450])\n",
      "642 torch.Size([2, 1450])\n",
      "EDGE_INDEX: torch.Size([2, 1450])\t\tLOOP_INDEX: torch.Size([2, 642])\n"
     ]
    },
    {
     "name": "stderr",
     "output_type": "stream",
     "text": [
      "[Joint E7] Calc Global P:  82%|████████▏ | 14/17 [01:03<00:14,  4.69s/it]"
     ]
    },
    {
     "name": "stdout",
     "output_type": "stream",
     "text": [
      "241 --- torch.Size([2, 1412])\n",
      "99 --- torch.Size([2, 1412])\n",
      "628 torch.Size([2, 1412])\n",
      "EDGE_INDEX: torch.Size([2, 1412])\t\tLOOP_INDEX: torch.Size([2, 628])\n",
      "241 --- torch.Size([2, 1412])\n",
      "99 --- torch.Size([2, 1412])\n",
      "628 torch.Size([2, 1412])\n",
      "EDGE_INDEX: torch.Size([2, 1412])\t\tLOOP_INDEX: torch.Size([2, 628])\n"
     ]
    },
    {
     "name": "stderr",
     "output_type": "stream",
     "text": [
      "[Joint E7] Calc Global P:  88%|████████▊ | 15/17 [01:07<00:08,  4.45s/it]"
     ]
    },
    {
     "name": "stdout",
     "output_type": "stream",
     "text": [
      "241 --- torch.Size([2, 1662])\n",
      "99 --- torch.Size([2, 1662])\n",
      "666 torch.Size([2, 1662])\n",
      "EDGE_INDEX: torch.Size([2, 1662])\t\tLOOP_INDEX: torch.Size([2, 666])\n",
      "241 --- torch.Size([2, 1662])\n",
      "99 --- torch.Size([2, 1662])\n",
      "666 torch.Size([2, 1662])\n",
      "EDGE_INDEX: torch.Size([2, 1662])\t\tLOOP_INDEX: torch.Size([2, 666])\n"
     ]
    },
    {
     "name": "stderr",
     "output_type": "stream",
     "text": [
      "[Joint E7] Calc Global P:  94%|█████████▍| 16/17 [01:11<00:04,  4.24s/it]"
     ]
    },
    {
     "name": "stdout",
     "output_type": "stream",
     "text": [
      "241 --- torch.Size([2, 1332])\n",
      "99 --- torch.Size([2, 1332])\n",
      "530 torch.Size([2, 1332])\n",
      "EDGE_INDEX: torch.Size([2, 1332])\t\tLOOP_INDEX: torch.Size([2, 530])\n",
      "241 --- torch.Size([2, 1332])\n",
      "99 --- torch.Size([2, 1332])\n",
      "530 torch.Size([2, 1332])\n",
      "EDGE_INDEX: torch.Size([2, 1332])\t\tLOOP_INDEX: torch.Size([2, 530])\n"
     ]
    },
    {
     "name": "stderr",
     "output_type": "stream",
     "text": [
      "                                                                         \r"
     ]
    },
    {
     "name": "stdout",
     "output_type": "stream",
     "text": [
      "241 --- torch.Size([2, 1532])\n",
      "99 --- torch.Size([2, 1532])\n",
      "656 torch.Size([2, 1532])\n",
      "EDGE_INDEX: torch.Size([2, 1532])\t\tLOOP_INDEX: torch.Size([2, 656])\n",
      "241 --- torch.Size([2, 1532])\n",
      "99 --- torch.Size([2, 1532])\n",
      "656 torch.Size([2, 1532])\n",
      "EDGE_INDEX: torch.Size([2, 1532])\t\tLOOP_INDEX: torch.Size([2, 656])\n",
      "241 --- torch.Size([2, 1648])\n",
      "99 --- torch.Size([2, 1648])\n",
      "692 torch.Size([2, 1648])\n",
      "EDGE_INDEX: torch.Size([2, 1648])\t\tLOOP_INDEX: torch.Size([2, 692])\n",
      "241 --- torch.Size([2, 1648])\n",
      "99 --- torch.Size([2, 1648])\n",
      "692 torch.Size([2, 1648])\n",
      "EDGE_INDEX: torch.Size([2, 1648])\t\tLOOP_INDEX: torch.Size([2, 692])\n",
      "241 --- torch.Size([2, 1738])\n",
      "99 --- torch.Size([2, 1738])\n",
      "696 torch.Size([2, 1738])\n",
      "EDGE_INDEX: torch.Size([2, 1738])\t\tLOOP_INDEX: torch.Size([2, 696])\n",
      "241 --- torch.Size([2, 1738])\n",
      "99 --- torch.Size([2, 1738])\n",
      "696 torch.Size([2, 1738])\n",
      "EDGE_INDEX: torch.Size([2, 1738])\t\tLOOP_INDEX: torch.Size([2, 696])\n",
      "241 --- torch.Size([2, 1736])\n",
      "99 --- torch.Size([2, 1736])\n",
      "687 torch.Size([2, 1736])\n",
      "EDGE_INDEX: torch.Size([2, 1736])\t\tLOOP_INDEX: torch.Size([2, 687])\n",
      "241 --- torch.Size([2, 1736])\n",
      "99 --- torch.Size([2, 1736])\n",
      "687 torch.Size([2, 1736])\n",
      "EDGE_INDEX: torch.Size([2, 1736])\t\tLOOP_INDEX: torch.Size([2, 687])\n",
      "241 --- torch.Size([2, 1524])\n",
      "99 --- torch.Size([2, 1524])\n",
      "634 torch.Size([2, 1524])\n",
      "EDGE_INDEX: torch.Size([2, 1524])\t\tLOOP_INDEX: torch.Size([2, 634])\n",
      "241 --- torch.Size([2, 1524])\n",
      "99 --- torch.Size([2, 1524])\n",
      "634 torch.Size([2, 1524])\n",
      "EDGE_INDEX: torch.Size([2, 1524])\t\tLOOP_INDEX: torch.Size([2, 634])\n",
      "241 --- torch.Size([2, 1854])\n",
      "99 --- torch.Size([2, 1854])\n",
      "713 torch.Size([2, 1854])\n",
      "EDGE_INDEX: torch.Size([2, 1854])\t\tLOOP_INDEX: torch.Size([2, 713])\n",
      "241 --- torch.Size([2, 1854])\n",
      "99 --- torch.Size([2, 1854])\n",
      "713 torch.Size([2, 1854])\n",
      "EDGE_INDEX: torch.Size([2, 1854])\t\tLOOP_INDEX: torch.Size([2, 713])\n",
      "241 --- torch.Size([2, 1718])\n",
      "99 --- torch.Size([2, 1718])\n",
      "684 torch.Size([2, 1718])\n",
      "EDGE_INDEX: torch.Size([2, 1718])\t\tLOOP_INDEX: torch.Size([2, 684])\n",
      "241 --- torch.Size([2, 1718])\n",
      "99 --- torch.Size([2, 1718])\n",
      "684 torch.Size([2, 1718])\n",
      "EDGE_INDEX: torch.Size([2, 1718])\t\tLOOP_INDEX: torch.Size([2, 684])\n",
      "241 --- torch.Size([2, 1756])\n",
      "99 --- torch.Size([2, 1756])\n",
      "714 torch.Size([2, 1756])\n",
      "EDGE_INDEX: torch.Size([2, 1756])\t\tLOOP_INDEX: torch.Size([2, 714])\n",
      "241 --- torch.Size([2, 1756])\n",
      "99 --- torch.Size([2, 1756])\n",
      "714 torch.Size([2, 1756])\n",
      "EDGE_INDEX: torch.Size([2, 1756])\t\tLOOP_INDEX: torch.Size([2, 714])\n",
      "241 --- torch.Size([2, 1654])\n",
      "99 --- torch.Size([2, 1654])\n",
      "659 torch.Size([2, 1654])\n",
      "EDGE_INDEX: torch.Size([2, 1654])\t\tLOOP_INDEX: torch.Size([2, 659])\n",
      "241 --- torch.Size([2, 1654])\n",
      "99 --- torch.Size([2, 1654])\n",
      "659 torch.Size([2, 1654])\n",
      "EDGE_INDEX: torch.Size([2, 1654])\t\tLOOP_INDEX: torch.Size([2, 659])\n",
      "241 --- torch.Size([2, 1798])\n",
      "99 --- torch.Size([2, 1798])\n",
      "694 torch.Size([2, 1798])\n",
      "EDGE_INDEX: torch.Size([2, 1798])\t\tLOOP_INDEX: torch.Size([2, 694])\n",
      "241 --- torch.Size([2, 1798])\n",
      "99 --- torch.Size([2, 1798])\n",
      "694 torch.Size([2, 1798])\n",
      "EDGE_INDEX: torch.Size([2, 1798])\t\tLOOP_INDEX: torch.Size([2, 694])\n",
      "241 --- torch.Size([2, 1582])\n",
      "99 --- torch.Size([2, 1582])\n",
      "648 torch.Size([2, 1582])\n",
      "EDGE_INDEX: torch.Size([2, 1582])\t\tLOOP_INDEX: torch.Size([2, 648])\n",
      "241 --- torch.Size([2, 1582])\n",
      "99 --- torch.Size([2, 1582])\n",
      "648 torch.Size([2, 1582])\n",
      "EDGE_INDEX: torch.Size([2, 1582])\t\tLOOP_INDEX: torch.Size([2, 648])\n",
      "241 --- torch.Size([2, 1686])\n",
      "99 --- torch.Size([2, 1686])\n",
      "696 torch.Size([2, 1686])\n",
      "EDGE_INDEX: torch.Size([2, 1686])\t\tLOOP_INDEX: torch.Size([2, 696])\n",
      "241 --- torch.Size([2, 1686])\n",
      "99 --- torch.Size([2, 1686])\n",
      "696 torch.Size([2, 1686])\n",
      "EDGE_INDEX: torch.Size([2, 1686])\t\tLOOP_INDEX: torch.Size([2, 696])\n",
      "241 --- torch.Size([2, 1548])\n",
      "99 --- torch.Size([2, 1548])\n",
      "666 torch.Size([2, 1548])\n",
      "EDGE_INDEX: torch.Size([2, 1548])\t\tLOOP_INDEX: torch.Size([2, 666])\n",
      "241 --- torch.Size([2, 1548])\n",
      "99 --- torch.Size([2, 1548])\n",
      "666 torch.Size([2, 1548])\n",
      "EDGE_INDEX: torch.Size([2, 1548])\t\tLOOP_INDEX: torch.Size([2, 666])\n",
      "241 --- torch.Size([2, 1816])\n",
      "99 --- torch.Size([2, 1816])\n",
      "705 torch.Size([2, 1816])\n",
      "EDGE_INDEX: torch.Size([2, 1816])\t\tLOOP_INDEX: torch.Size([2, 705])\n",
      "241 --- torch.Size([2, 1816])\n",
      "99 --- torch.Size([2, 1816])\n",
      "705 torch.Size([2, 1816])\n",
      "EDGE_INDEX: torch.Size([2, 1816])\t\tLOOP_INDEX: torch.Size([2, 705])\n",
      "241 --- torch.Size([2, 1562])\n",
      "99 --- torch.Size([2, 1562])\n",
      "643 torch.Size([2, 1562])\n",
      "EDGE_INDEX: torch.Size([2, 1562])\t\tLOOP_INDEX: torch.Size([2, 643])\n",
      "241 --- torch.Size([2, 1562])\n",
      "99 --- torch.Size([2, 1562])\n",
      "643 torch.Size([2, 1562])\n",
      "EDGE_INDEX: torch.Size([2, 1562])\t\tLOOP_INDEX: torch.Size([2, 643])\n",
      "241 --- torch.Size([2, 1794])\n",
      "99 --- torch.Size([2, 1794])\n",
      "705 torch.Size([2, 1794])\n",
      "EDGE_INDEX: torch.Size([2, 1794])\t\tLOOP_INDEX: torch.Size([2, 705])\n",
      "241 --- torch.Size([2, 1794])\n",
      "99 --- torch.Size([2, 1794])\n",
      "705 torch.Size([2, 1794])\n",
      "EDGE_INDEX: torch.Size([2, 1794])\t\tLOOP_INDEX: torch.Size([2, 705])\n",
      "241 --- torch.Size([2, 1542])\n",
      "99 --- torch.Size([2, 1542])\n",
      "574 torch.Size([2, 1542])\n",
      "EDGE_INDEX: torch.Size([2, 1542])\t\tLOOP_INDEX: torch.Size([2, 574])\n",
      "241 --- torch.Size([2, 1542])\n",
      "99 --- torch.Size([2, 1542])\n",
      "574 torch.Size([2, 1542])\n",
      "EDGE_INDEX: torch.Size([2, 1542])\t\tLOOP_INDEX: torch.Size([2, 574])\n",
      "241 --- torch.Size([2, 466])\n",
      "99 --- torch.Size([2, 466])\n",
      "171 torch.Size([2, 466])\n",
      "EDGE_INDEX: torch.Size([2, 466])\t\tLOOP_INDEX: torch.Size([2, 171])\n",
      "241 --- torch.Size([2, 466])\n",
      "99 --- torch.Size([2, 466])\n",
      "171 torch.Size([2, 466])\n",
      "EDGE_INDEX: torch.Size([2, 466])\t\tLOOP_INDEX: torch.Size([2, 171])\n",
      "241 --- torch.Size([2, 414])\n",
      "99 --- torch.Size([2, 414])\n",
      "166 torch.Size([2, 414])\n",
      "EDGE_INDEX: torch.Size([2, 414])\t\tLOOP_INDEX: torch.Size([2, 166])\n",
      "241 --- torch.Size([2, 414])\n",
      "99 --- torch.Size([2, 414])\n",
      "166 torch.Size([2, 414])\n",
      "EDGE_INDEX: torch.Size([2, 414])\t\tLOOP_INDEX: torch.Size([2, 166])\n",
      "241 --- torch.Size([2, 572])\n",
      "99 --- torch.Size([2, 572])\n",
      "208 torch.Size([2, 572])\n",
      "EDGE_INDEX: torch.Size([2, 572])\t\tLOOP_INDEX: torch.Size([2, 208])\n",
      "241 --- torch.Size([2, 572])\n",
      "99 --- torch.Size([2, 572])\n",
      "208 torch.Size([2, 572])\n",
      "EDGE_INDEX: torch.Size([2, 572])\t\tLOOP_INDEX: torch.Size([2, 208])\n",
      "241 --- torch.Size([2, 522])\n",
      "99 --- torch.Size([2, 522])\n",
      "182 torch.Size([2, 522])\n",
      "EDGE_INDEX: torch.Size([2, 522])\t\tLOOP_INDEX: torch.Size([2, 182])\n",
      "241 --- torch.Size([2, 522])\n",
      "99 --- torch.Size([2, 522])\n",
      "182 torch.Size([2, 522])\n",
      "EDGE_INDEX: torch.Size([2, 522])\t\tLOOP_INDEX: torch.Size([2, 182])\n",
      "241 --- torch.Size([2, 454])\n",
      "99 --- torch.Size([2, 454])\n",
      "173 torch.Size([2, 454])\n",
      "EDGE_INDEX: torch.Size([2, 454])\t\tLOOP_INDEX: torch.Size([2, 173])\n",
      "241 --- torch.Size([2, 454])\n",
      "99 --- torch.Size([2, 454])\n",
      "173 torch.Size([2, 454])\n",
      "EDGE_INDEX: torch.Size([2, 454])\t\tLOOP_INDEX: torch.Size([2, 173])\n",
      "241 --- torch.Size([2, 286])\n",
      "99 --- torch.Size([2, 286])\n",
      "134 torch.Size([2, 286])\n",
      "EDGE_INDEX: torch.Size([2, 286])\t\tLOOP_INDEX: torch.Size([2, 134])\n",
      "241 --- torch.Size([2, 286])\n",
      "99 --- torch.Size([2, 286])\n",
      "134 torch.Size([2, 286])\n",
      "EDGE_INDEX: torch.Size([2, 286])\t\tLOOP_INDEX: torch.Size([2, 134])\n",
      "241 --- torch.Size([2, 462])\n",
      "99 --- torch.Size([2, 462])\n",
      "182 torch.Size([2, 462])\n",
      "EDGE_INDEX: torch.Size([2, 462])\t\tLOOP_INDEX: torch.Size([2, 182])\n",
      "241 --- torch.Size([2, 462])\n",
      "99 --- torch.Size([2, 462])\n",
      "182 torch.Size([2, 462])\n",
      "EDGE_INDEX: torch.Size([2, 462])\t\tLOOP_INDEX: torch.Size([2, 182])\n",
      "241 --- torch.Size([2, 700])\n",
      "99 --- torch.Size([2, 700])\n",
      "238 torch.Size([2, 700])\n",
      "EDGE_INDEX: torch.Size([2, 700])\t\tLOOP_INDEX: torch.Size([2, 238])\n",
      "241 --- torch.Size([2, 700])\n",
      "99 --- torch.Size([2, 700])\n",
      "238 torch.Size([2, 700])\n",
      "EDGE_INDEX: torch.Size([2, 700])\t\tLOOP_INDEX: torch.Size([2, 238])\n",
      "241 --- torch.Size([2, 452])\n",
      "99 --- torch.Size([2, 452])\n",
      "182 torch.Size([2, 452])\n",
      "EDGE_INDEX: torch.Size([2, 452])\t\tLOOP_INDEX: torch.Size([2, 182])\n",
      "241 --- torch.Size([2, 452])\n",
      "99 --- torch.Size([2, 452])\n",
      "182 torch.Size([2, 452])\n",
      "EDGE_INDEX: torch.Size([2, 452])\t\tLOOP_INDEX: torch.Size([2, 182])\n",
      "241 --- torch.Size([2, 576])\n",
      "99 --- torch.Size([2, 576])\n",
      "197 torch.Size([2, 576])\n",
      "EDGE_INDEX: torch.Size([2, 576])\t\tLOOP_INDEX: torch.Size([2, 197])\n",
      "241 --- torch.Size([2, 576])\n",
      "99 --- torch.Size([2, 576])\n",
      "197 torch.Size([2, 576])\n",
      "EDGE_INDEX: torch.Size([2, 576])\t\tLOOP_INDEX: torch.Size([2, 197])\n",
      "241 --- torch.Size([2, 538])\n",
      "99 --- torch.Size([2, 538])\n",
      "210 torch.Size([2, 538])\n",
      "EDGE_INDEX: torch.Size([2, 538])\t\tLOOP_INDEX: torch.Size([2, 210])\n",
      "241 --- torch.Size([2, 538])\n",
      "99 --- torch.Size([2, 538])\n",
      "210 torch.Size([2, 538])\n",
      "EDGE_INDEX: torch.Size([2, 538])\t\tLOOP_INDEX: torch.Size([2, 210])\n",
      "241 --- torch.Size([2, 358])\n",
      "99 --- torch.Size([2, 358])\n",
      "155 torch.Size([2, 358])\n",
      "EDGE_INDEX: torch.Size([2, 358])\t\tLOOP_INDEX: torch.Size([2, 155])\n",
      "241 --- torch.Size([2, 358])\n",
      "99 --- torch.Size([2, 358])\n",
      "155 torch.Size([2, 358])\n",
      "EDGE_INDEX: torch.Size([2, 358])\t\tLOOP_INDEX: torch.Size([2, 155])\n",
      "241 --- torch.Size([2, 368])\n",
      "99 --- torch.Size([2, 368])\n",
      "168 torch.Size([2, 368])\n",
      "EDGE_INDEX: torch.Size([2, 368])\t\tLOOP_INDEX: torch.Size([2, 168])\n",
      "241 --- torch.Size([2, 368])\n",
      "99 --- torch.Size([2, 368])\n",
      "168 torch.Size([2, 368])\n",
      "EDGE_INDEX: torch.Size([2, 368])\t\tLOOP_INDEX: torch.Size([2, 168])\n",
      "241 --- torch.Size([2, 368])\n",
      "99 --- torch.Size([2, 368])\n",
      "155 torch.Size([2, 368])\n",
      "EDGE_INDEX: torch.Size([2, 368])\t\tLOOP_INDEX: torch.Size([2, 155])\n",
      "241 --- torch.Size([2, 368])\n",
      "99 --- torch.Size([2, 368])\n",
      "155 torch.Size([2, 368])\n",
      "EDGE_INDEX: torch.Size([2, 368])\t\tLOOP_INDEX: torch.Size([2, 155])\n",
      "241 --- torch.Size([2, 206])\n",
      "99 --- torch.Size([2, 206])\n",
      "68 torch.Size([2, 206])\n",
      "EDGE_INDEX: torch.Size([2, 206])\t\tLOOP_INDEX: torch.Size([2, 68])\n",
      "241 --- torch.Size([2, 206])\n",
      "99 --- torch.Size([2, 206])\n",
      "68 torch.Size([2, 206])\n",
      "EDGE_INDEX: torch.Size([2, 206])\t\tLOOP_INDEX: torch.Size([2, 68])\n"
     ]
    },
    {
     "name": "stderr",
     "output_type": "stream",
     "text": [
      "[Joint E8] Calc Global P:   0%|          | 0/17 [00:00<?, ?it/s]"
     ]
    },
    {
     "name": "stdout",
     "output_type": "stream",
     "text": [
      "241 --- torch.Size([2, 1792])\n",
      "99 --- torch.Size([2, 1792])\n",
      "696 torch.Size([2, 1792])\n",
      "EDGE_INDEX: torch.Size([2, 1792])\t\tLOOP_INDEX: torch.Size([2, 696])\n",
      "241 --- torch.Size([2, 1792])\n",
      "99 --- torch.Size([2, 1792])\n",
      "696 torch.Size([2, 1792])\n",
      "EDGE_INDEX: torch.Size([2, 1792])\t\tLOOP_INDEX: torch.Size([2, 696])\n"
     ]
    },
    {
     "name": "stderr",
     "output_type": "stream",
     "text": [
      "[Joint E8] Calc Global P:   6%|▌         | 1/17 [00:04<01:15,  4.74s/it]"
     ]
    },
    {
     "name": "stdout",
     "output_type": "stream",
     "text": [
      "241 --- torch.Size([2, 1818])\n",
      "99 --- torch.Size([2, 1818])\n",
      "704 torch.Size([2, 1818])\n",
      "EDGE_INDEX: torch.Size([2, 1818])\t\tLOOP_INDEX: torch.Size([2, 704])\n",
      "241 --- torch.Size([2, 1818])\n",
      "99 --- torch.Size([2, 1818])\n",
      "704 torch.Size([2, 1818])\n",
      "EDGE_INDEX: torch.Size([2, 1818])\t\tLOOP_INDEX: torch.Size([2, 704])\n"
     ]
    },
    {
     "name": "stderr",
     "output_type": "stream",
     "text": [
      "[Joint E8] Calc Global P:  12%|█▏        | 2/17 [00:09<01:08,  4.56s/it]"
     ]
    },
    {
     "name": "stdout",
     "output_type": "stream",
     "text": [
      "241 --- torch.Size([2, 1634])\n",
      "99 --- torch.Size([2, 1634])\n",
      "689 torch.Size([2, 1634])\n",
      "EDGE_INDEX: torch.Size([2, 1634])\t\tLOOP_INDEX: torch.Size([2, 689])\n",
      "241 --- torch.Size([2, 1634])\n",
      "99 --- torch.Size([2, 1634])\n",
      "689 torch.Size([2, 1634])\n",
      "EDGE_INDEX: torch.Size([2, 1634])\t\tLOOP_INDEX: torch.Size([2, 689])\n"
     ]
    },
    {
     "name": "stderr",
     "output_type": "stream",
     "text": [
      "[Joint E8] Calc Global P:  18%|█▊        | 3/17 [00:13<01:03,  4.56s/it]"
     ]
    },
    {
     "name": "stdout",
     "output_type": "stream",
     "text": [
      "241 --- torch.Size([2, 1808])\n",
      "99 --- torch.Size([2, 1808])\n",
      "716 torch.Size([2, 1808])\n",
      "EDGE_INDEX: torch.Size([2, 1808])\t\tLOOP_INDEX: torch.Size([2, 716])\n",
      "241 --- torch.Size([2, 1808])\n",
      "99 --- torch.Size([2, 1808])\n",
      "716 torch.Size([2, 1808])\n",
      "EDGE_INDEX: torch.Size([2, 1808])\t\tLOOP_INDEX: torch.Size([2, 716])\n"
     ]
    },
    {
     "name": "stderr",
     "output_type": "stream",
     "text": [
      "[Joint E8] Calc Global P:  24%|██▎       | 4/17 [00:18<00:57,  4.46s/it]"
     ]
    },
    {
     "name": "stdout",
     "output_type": "stream",
     "text": [
      "241 --- torch.Size([2, 1886])\n",
      "99 --- torch.Size([2, 1886])\n",
      "723 torch.Size([2, 1886])\n",
      "EDGE_INDEX: torch.Size([2, 1886])\t\tLOOP_INDEX: torch.Size([2, 723])\n",
      "241 --- torch.Size([2, 1886])\n",
      "99 --- torch.Size([2, 1886])\n",
      "723 torch.Size([2, 1886])\n",
      "EDGE_INDEX: torch.Size([2, 1886])\t\tLOOP_INDEX: torch.Size([2, 723])\n"
     ]
    },
    {
     "name": "stderr",
     "output_type": "stream",
     "text": [
      "[Joint E8] Calc Global P:  29%|██▉       | 5/17 [00:22<00:55,  4.62s/it]"
     ]
    },
    {
     "name": "stdout",
     "output_type": "stream",
     "text": [
      "241 --- torch.Size([2, 1472])\n",
      "99 --- torch.Size([2, 1472])\n",
      "626 torch.Size([2, 1472])\n",
      "EDGE_INDEX: torch.Size([2, 1472])\t\tLOOP_INDEX: torch.Size([2, 626])\n",
      "241 --- torch.Size([2, 1472])\n",
      "99 --- torch.Size([2, 1472])\n",
      "626 torch.Size([2, 1472])\n",
      "EDGE_INDEX: torch.Size([2, 1472])\t\tLOOP_INDEX: torch.Size([2, 626])\n"
     ]
    },
    {
     "name": "stderr",
     "output_type": "stream",
     "text": [
      "[Joint E8] Calc Global P:  35%|███▌      | 6/17 [00:26<00:47,  4.29s/it]"
     ]
    },
    {
     "name": "stdout",
     "output_type": "stream",
     "text": [
      "241 --- torch.Size([2, 1624])\n",
      "99 --- torch.Size([2, 1624])\n",
      "657 torch.Size([2, 1624])\n",
      "EDGE_INDEX: torch.Size([2, 1624])\t\tLOOP_INDEX: torch.Size([2, 657])\n",
      "241 --- torch.Size([2, 1624])\n",
      "99 --- torch.Size([2, 1624])\n",
      "657 torch.Size([2, 1624])\n",
      "EDGE_INDEX: torch.Size([2, 1624])\t\tLOOP_INDEX: torch.Size([2, 657])\n"
     ]
    },
    {
     "name": "stderr",
     "output_type": "stream",
     "text": [
      "[Joint E8] Calc Global P:  41%|████      | 7/17 [00:31<00:44,  4.45s/it]"
     ]
    },
    {
     "name": "stdout",
     "output_type": "stream",
     "text": [
      "241 --- torch.Size([2, 2122])\n",
      "99 --- torch.Size([2, 2122])\n",
      "792 torch.Size([2, 2122])\n",
      "EDGE_INDEX: torch.Size([2, 2122])\t\tLOOP_INDEX: torch.Size([2, 792])\n",
      "241 --- torch.Size([2, 2122])\n",
      "99 --- torch.Size([2, 2122])\n",
      "792 torch.Size([2, 2122])\n",
      "EDGE_INDEX: torch.Size([2, 2122])\t\tLOOP_INDEX: torch.Size([2, 792])\n"
     ]
    },
    {
     "name": "stderr",
     "output_type": "stream",
     "text": [
      "[Joint E8] Calc Global P:  47%|████▋     | 8/17 [00:35<00:40,  4.49s/it]"
     ]
    },
    {
     "name": "stdout",
     "output_type": "stream",
     "text": [
      "241 --- torch.Size([2, 1822])\n",
      "99 --- torch.Size([2, 1822])\n",
      "721 torch.Size([2, 1822])\n",
      "EDGE_INDEX: torch.Size([2, 1822])\t\tLOOP_INDEX: torch.Size([2, 721])\n",
      "241 --- torch.Size([2, 1822])\n",
      "99 --- torch.Size([2, 1822])\n",
      "721 torch.Size([2, 1822])\n",
      "EDGE_INDEX: torch.Size([2, 1822])\t\tLOOP_INDEX: torch.Size([2, 721])\n"
     ]
    },
    {
     "name": "stderr",
     "output_type": "stream",
     "text": [
      "[Joint E8] Calc Global P:  53%|█████▎    | 9/17 [00:40<00:36,  4.54s/it]"
     ]
    },
    {
     "name": "stdout",
     "output_type": "stream",
     "text": [
      "241 --- torch.Size([2, 1654])\n",
      "99 --- torch.Size([2, 1654])\n",
      "671 torch.Size([2, 1654])\n",
      "EDGE_INDEX: torch.Size([2, 1654])\t\tLOOP_INDEX: torch.Size([2, 671])\n",
      "241 --- torch.Size([2, 1654])\n",
      "99 --- torch.Size([2, 1654])\n",
      "671 torch.Size([2, 1654])\n",
      "EDGE_INDEX: torch.Size([2, 1654])\t\tLOOP_INDEX: torch.Size([2, 671])\n"
     ]
    },
    {
     "name": "stderr",
     "output_type": "stream",
     "text": [
      "[Joint E8] Calc Global P:  59%|█████▉    | 10/17 [00:45<00:32,  4.70s/it]"
     ]
    },
    {
     "name": "stdout",
     "output_type": "stream",
     "text": [
      "241 --- torch.Size([2, 2052])\n",
      "99 --- torch.Size([2, 2052])\n",
      "737 torch.Size([2, 2052])\n",
      "EDGE_INDEX: torch.Size([2, 2052])\t\tLOOP_INDEX: torch.Size([2, 737])\n",
      "241 --- torch.Size([2, 2052])\n",
      "99 --- torch.Size([2, 2052])\n",
      "737 torch.Size([2, 2052])\n",
      "EDGE_INDEX: torch.Size([2, 2052])\t\tLOOP_INDEX: torch.Size([2, 737])\n"
     ]
    },
    {
     "name": "stderr",
     "output_type": "stream",
     "text": [
      "[Joint E8] Calc Global P:  65%|██████▍   | 11/17 [00:50<00:27,  4.62s/it]"
     ]
    },
    {
     "name": "stdout",
     "output_type": "stream",
     "text": [
      "241 --- torch.Size([2, 2270])\n",
      "99 --- torch.Size([2, 2270])\n",
      "800 torch.Size([2, 2270])\n",
      "EDGE_INDEX: torch.Size([2, 2270])\t\tLOOP_INDEX: torch.Size([2, 800])\n",
      "241 --- torch.Size([2, 2270])\n",
      "99 --- torch.Size([2, 2270])\n",
      "800 torch.Size([2, 2270])\n",
      "EDGE_INDEX: torch.Size([2, 2270])\t\tLOOP_INDEX: torch.Size([2, 800])\n"
     ]
    },
    {
     "name": "stderr",
     "output_type": "stream",
     "text": [
      "[Joint E8] Calc Global P:  71%|███████   | 12/17 [00:54<00:22,  4.55s/it]"
     ]
    },
    {
     "name": "stdout",
     "output_type": "stream",
     "text": [
      "241 --- torch.Size([2, 1560])\n",
      "99 --- torch.Size([2, 1560])\n",
      "677 torch.Size([2, 1560])\n",
      "EDGE_INDEX: torch.Size([2, 1560])\t\tLOOP_INDEX: torch.Size([2, 677])\n",
      "241 --- torch.Size([2, 1560])\n",
      "99 --- torch.Size([2, 1560])\n",
      "677 torch.Size([2, 1560])\n",
      "EDGE_INDEX: torch.Size([2, 1560])\t\tLOOP_INDEX: torch.Size([2, 677])\n"
     ]
    },
    {
     "name": "stderr",
     "output_type": "stream",
     "text": [
      "[Joint E8] Calc Global P:  76%|███████▋  | 13/17 [00:58<00:17,  4.38s/it]"
     ]
    },
    {
     "name": "stdout",
     "output_type": "stream",
     "text": [
      "241 --- torch.Size([2, 1450])\n",
      "99 --- torch.Size([2, 1450])\n",
      "642 torch.Size([2, 1450])\n",
      "EDGE_INDEX: torch.Size([2, 1450])\t\tLOOP_INDEX: torch.Size([2, 642])\n",
      "241 --- torch.Size([2, 1450])\n",
      "99 --- torch.Size([2, 1450])\n",
      "642 torch.Size([2, 1450])\n",
      "EDGE_INDEX: torch.Size([2, 1450])\t\tLOOP_INDEX: torch.Size([2, 642])\n"
     ]
    },
    {
     "name": "stderr",
     "output_type": "stream",
     "text": [
      "[Joint E8] Calc Global P:  82%|████████▏ | 14/17 [01:03<00:13,  4.55s/it]"
     ]
    },
    {
     "name": "stdout",
     "output_type": "stream",
     "text": [
      "241 --- torch.Size([2, 1412])\n",
      "99 --- torch.Size([2, 1412])\n",
      "628 torch.Size([2, 1412])\n",
      "EDGE_INDEX: torch.Size([2, 1412])\t\tLOOP_INDEX: torch.Size([2, 628])\n",
      "241 --- torch.Size([2, 1412])\n",
      "99 --- torch.Size([2, 1412])\n",
      "628 torch.Size([2, 1412])\n",
      "EDGE_INDEX: torch.Size([2, 1412])\t\tLOOP_INDEX: torch.Size([2, 628])\n"
     ]
    },
    {
     "name": "stderr",
     "output_type": "stream",
     "text": [
      "[Joint E8] Calc Global P:  88%|████████▊ | 15/17 [01:07<00:08,  4.46s/it]"
     ]
    },
    {
     "name": "stdout",
     "output_type": "stream",
     "text": [
      "241 --- torch.Size([2, 1662])\n",
      "99 --- torch.Size([2, 1662])\n",
      "666 torch.Size([2, 1662])\n",
      "EDGE_INDEX: torch.Size([2, 1662])\t\tLOOP_INDEX: torch.Size([2, 666])\n",
      "241 --- torch.Size([2, 1662])\n",
      "99 --- torch.Size([2, 1662])\n",
      "666 torch.Size([2, 1662])\n",
      "EDGE_INDEX: torch.Size([2, 1662])\t\tLOOP_INDEX: torch.Size([2, 666])\n"
     ]
    },
    {
     "name": "stderr",
     "output_type": "stream",
     "text": [
      "[Joint E8] Calc Global P:  94%|█████████▍| 16/17 [01:11<00:04,  4.20s/it]"
     ]
    },
    {
     "name": "stdout",
     "output_type": "stream",
     "text": [
      "241 --- torch.Size([2, 1332])\n",
      "99 --- torch.Size([2, 1332])\n",
      "530 torch.Size([2, 1332])\n",
      "EDGE_INDEX: torch.Size([2, 1332])\t\tLOOP_INDEX: torch.Size([2, 530])\n",
      "241 --- torch.Size([2, 1332])\n",
      "99 --- torch.Size([2, 1332])\n",
      "530 torch.Size([2, 1332])\n",
      "EDGE_INDEX: torch.Size([2, 1332])\t\tLOOP_INDEX: torch.Size([2, 530])\n"
     ]
    },
    {
     "name": "stderr",
     "output_type": "stream",
     "text": [
      "                                                                         \r"
     ]
    },
    {
     "name": "stdout",
     "output_type": "stream",
     "text": [
      "241 --- torch.Size([2, 2006])\n",
      "99 --- torch.Size([2, 2006])\n",
      "721 torch.Size([2, 2006])\n",
      "EDGE_INDEX: torch.Size([2, 2006])\t\tLOOP_INDEX: torch.Size([2, 721])\n",
      "241 --- torch.Size([2, 2006])\n",
      "99 --- torch.Size([2, 2006])\n",
      "721 torch.Size([2, 2006])\n",
      "EDGE_INDEX: torch.Size([2, 2006])\t\tLOOP_INDEX: torch.Size([2, 721])\n",
      "241 --- torch.Size([2, 1706])\n",
      "99 --- torch.Size([2, 1706])\n",
      "698 torch.Size([2, 1706])\n",
      "EDGE_INDEX: torch.Size([2, 1706])\t\tLOOP_INDEX: torch.Size([2, 698])\n",
      "241 --- torch.Size([2, 1706])\n",
      "99 --- torch.Size([2, 1706])\n",
      "698 torch.Size([2, 1706])\n",
      "EDGE_INDEX: torch.Size([2, 1706])\t\tLOOP_INDEX: torch.Size([2, 698])\n",
      "241 --- torch.Size([2, 1704])\n",
      "99 --- torch.Size([2, 1704])\n",
      "669 torch.Size([2, 1704])\n",
      "EDGE_INDEX: torch.Size([2, 1704])\t\tLOOP_INDEX: torch.Size([2, 669])\n",
      "241 --- torch.Size([2, 1704])\n",
      "99 --- torch.Size([2, 1704])\n",
      "669 torch.Size([2, 1704])\n",
      "EDGE_INDEX: torch.Size([2, 1704])\t\tLOOP_INDEX: torch.Size([2, 669])\n",
      "241 --- torch.Size([2, 1714])\n",
      "99 --- torch.Size([2, 1714])\n",
      "693 torch.Size([2, 1714])\n",
      "EDGE_INDEX: torch.Size([2, 1714])\t\tLOOP_INDEX: torch.Size([2, 693])\n",
      "241 --- torch.Size([2, 1714])\n",
      "99 --- torch.Size([2, 1714])\n",
      "693 torch.Size([2, 1714])\n",
      "EDGE_INDEX: torch.Size([2, 1714])\t\tLOOP_INDEX: torch.Size([2, 693])\n",
      "241 --- torch.Size([2, 1782])\n",
      "99 --- torch.Size([2, 1782])\n",
      "716 torch.Size([2, 1782])\n",
      "EDGE_INDEX: torch.Size([2, 1782])\t\tLOOP_INDEX: torch.Size([2, 716])\n",
      "241 --- torch.Size([2, 1782])\n",
      "99 --- torch.Size([2, 1782])\n",
      "716 torch.Size([2, 1782])\n",
      "EDGE_INDEX: torch.Size([2, 1782])\t\tLOOP_INDEX: torch.Size([2, 716])\n",
      "241 --- torch.Size([2, 1610])\n",
      "99 --- torch.Size([2, 1610])\n",
      "666 torch.Size([2, 1610])\n",
      "EDGE_INDEX: torch.Size([2, 1610])\t\tLOOP_INDEX: torch.Size([2, 666])\n",
      "241 --- torch.Size([2, 1610])\n",
      "99 --- torch.Size([2, 1610])\n",
      "666 torch.Size([2, 1610])\n",
      "EDGE_INDEX: torch.Size([2, 1610])\t\tLOOP_INDEX: torch.Size([2, 666])\n",
      "241 --- torch.Size([2, 1692])\n",
      "99 --- torch.Size([2, 1692])\n",
      "670 torch.Size([2, 1692])\n",
      "EDGE_INDEX: torch.Size([2, 1692])\t\tLOOP_INDEX: torch.Size([2, 670])\n",
      "241 --- torch.Size([2, 1692])\n",
      "99 --- torch.Size([2, 1692])\n",
      "670 torch.Size([2, 1692])\n",
      "EDGE_INDEX: torch.Size([2, 1692])\t\tLOOP_INDEX: torch.Size([2, 670])\n",
      "241 --- torch.Size([2, 1444])\n",
      "99 --- torch.Size([2, 1444])\n",
      "621 torch.Size([2, 1444])\n",
      "EDGE_INDEX: torch.Size([2, 1444])\t\tLOOP_INDEX: torch.Size([2, 621])\n",
      "241 --- torch.Size([2, 1444])\n",
      "99 --- torch.Size([2, 1444])\n",
      "621 torch.Size([2, 1444])\n",
      "EDGE_INDEX: torch.Size([2, 1444])\t\tLOOP_INDEX: torch.Size([2, 621])\n",
      "241 --- torch.Size([2, 1620])\n",
      "99 --- torch.Size([2, 1620])\n",
      "685 torch.Size([2, 1620])\n",
      "EDGE_INDEX: torch.Size([2, 1620])\t\tLOOP_INDEX: torch.Size([2, 685])\n",
      "241 --- torch.Size([2, 1620])\n",
      "99 --- torch.Size([2, 1620])\n",
      "685 torch.Size([2, 1620])\n",
      "EDGE_INDEX: torch.Size([2, 1620])\t\tLOOP_INDEX: torch.Size([2, 685])\n",
      "241 --- torch.Size([2, 1736])\n",
      "99 --- torch.Size([2, 1736])\n",
      "697 torch.Size([2, 1736])\n",
      "EDGE_INDEX: torch.Size([2, 1736])\t\tLOOP_INDEX: torch.Size([2, 697])\n",
      "241 --- torch.Size([2, 1736])\n",
      "99 --- torch.Size([2, 1736])\n",
      "697 torch.Size([2, 1736])\n",
      "EDGE_INDEX: torch.Size([2, 1736])\t\tLOOP_INDEX: torch.Size([2, 697])\n",
      "241 --- torch.Size([2, 1588])\n",
      "99 --- torch.Size([2, 1588])\n",
      "663 torch.Size([2, 1588])\n",
      "EDGE_INDEX: torch.Size([2, 1588])\t\tLOOP_INDEX: torch.Size([2, 663])\n",
      "241 --- torch.Size([2, 1588])\n",
      "99 --- torch.Size([2, 1588])\n",
      "663 torch.Size([2, 1588])\n",
      "EDGE_INDEX: torch.Size([2, 1588])\t\tLOOP_INDEX: torch.Size([2, 663])\n",
      "241 --- torch.Size([2, 1858])\n",
      "99 --- torch.Size([2, 1858])\n",
      "711 torch.Size([2, 1858])\n",
      "EDGE_INDEX: torch.Size([2, 1858])\t\tLOOP_INDEX: torch.Size([2, 711])\n",
      "241 --- torch.Size([2, 1858])\n",
      "99 --- torch.Size([2, 1858])\n",
      "711 torch.Size([2, 1858])\n",
      "EDGE_INDEX: torch.Size([2, 1858])\t\tLOOP_INDEX: torch.Size([2, 711])\n",
      "241 --- torch.Size([2, 1590])\n",
      "99 --- torch.Size([2, 1590])\n",
      "661 torch.Size([2, 1590])\n",
      "EDGE_INDEX: torch.Size([2, 1590])\t\tLOOP_INDEX: torch.Size([2, 661])\n",
      "241 --- torch.Size([2, 1590])\n",
      "99 --- torch.Size([2, 1590])\n",
      "661 torch.Size([2, 1590])\n",
      "EDGE_INDEX: torch.Size([2, 1590])\t\tLOOP_INDEX: torch.Size([2, 661])\n",
      "241 --- torch.Size([2, 1672])\n",
      "99 --- torch.Size([2, 1672])\n",
      "676 torch.Size([2, 1672])\n",
      "EDGE_INDEX: torch.Size([2, 1672])\t\tLOOP_INDEX: torch.Size([2, 676])\n",
      "241 --- torch.Size([2, 1672])\n",
      "99 --- torch.Size([2, 1672])\n",
      "676 torch.Size([2, 1672])\n",
      "EDGE_INDEX: torch.Size([2, 1672])\t\tLOOP_INDEX: torch.Size([2, 676])\n",
      "241 --- torch.Size([2, 1628])\n",
      "99 --- torch.Size([2, 1628])\n",
      "665 torch.Size([2, 1628])\n",
      "EDGE_INDEX: torch.Size([2, 1628])\t\tLOOP_INDEX: torch.Size([2, 665])\n",
      "241 --- torch.Size([2, 1628])\n",
      "99 --- torch.Size([2, 1628])\n",
      "665 torch.Size([2, 1628])\n",
      "EDGE_INDEX: torch.Size([2, 1628])\t\tLOOP_INDEX: torch.Size([2, 665])\n",
      "241 --- torch.Size([2, 1698])\n",
      "99 --- torch.Size([2, 1698])\n",
      "688 torch.Size([2, 1698])\n",
      "EDGE_INDEX: torch.Size([2, 1698])\t\tLOOP_INDEX: torch.Size([2, 688])\n",
      "241 --- torch.Size([2, 1698])\n",
      "99 --- torch.Size([2, 1698])\n",
      "688 torch.Size([2, 1698])\n",
      "EDGE_INDEX: torch.Size([2, 1698])\t\tLOOP_INDEX: torch.Size([2, 688])\n",
      "241 --- torch.Size([2, 1204])\n",
      "99 --- torch.Size([2, 1204])\n",
      "498 torch.Size([2, 1204])\n",
      "EDGE_INDEX: torch.Size([2, 1204])\t\tLOOP_INDEX: torch.Size([2, 498])\n",
      "241 --- torch.Size([2, 1204])\n",
      "99 --- torch.Size([2, 1204])\n",
      "498 torch.Size([2, 1204])\n",
      "EDGE_INDEX: torch.Size([2, 1204])\t\tLOOP_INDEX: torch.Size([2, 498])\n",
      "241 --- torch.Size([2, 466])\n",
      "99 --- torch.Size([2, 466])\n",
      "171 torch.Size([2, 466])\n",
      "EDGE_INDEX: torch.Size([2, 466])\t\tLOOP_INDEX: torch.Size([2, 171])\n",
      "241 --- torch.Size([2, 466])\n",
      "99 --- torch.Size([2, 466])\n",
      "171 torch.Size([2, 466])\n",
      "EDGE_INDEX: torch.Size([2, 466])\t\tLOOP_INDEX: torch.Size([2, 171])\n",
      "241 --- torch.Size([2, 414])\n",
      "99 --- torch.Size([2, 414])\n",
      "166 torch.Size([2, 414])\n",
      "EDGE_INDEX: torch.Size([2, 414])\t\tLOOP_INDEX: torch.Size([2, 166])\n",
      "241 --- torch.Size([2, 414])\n",
      "99 --- torch.Size([2, 414])\n",
      "166 torch.Size([2, 414])\n",
      "EDGE_INDEX: torch.Size([2, 414])\t\tLOOP_INDEX: torch.Size([2, 166])\n",
      "241 --- torch.Size([2, 572])\n",
      "99 --- torch.Size([2, 572])\n",
      "208 torch.Size([2, 572])\n",
      "EDGE_INDEX: torch.Size([2, 572])\t\tLOOP_INDEX: torch.Size([2, 208])\n",
      "241 --- torch.Size([2, 572])\n",
      "99 --- torch.Size([2, 572])\n",
      "208 torch.Size([2, 572])\n",
      "EDGE_INDEX: torch.Size([2, 572])\t\tLOOP_INDEX: torch.Size([2, 208])\n",
      "241 --- torch.Size([2, 522])\n",
      "99 --- torch.Size([2, 522])\n",
      "182 torch.Size([2, 522])\n",
      "EDGE_INDEX: torch.Size([2, 522])\t\tLOOP_INDEX: torch.Size([2, 182])\n",
      "241 --- torch.Size([2, 522])\n",
      "99 --- torch.Size([2, 522])\n",
      "182 torch.Size([2, 522])\n",
      "EDGE_INDEX: torch.Size([2, 522])\t\tLOOP_INDEX: torch.Size([2, 182])\n",
      "241 --- torch.Size([2, 454])\n",
      "99 --- torch.Size([2, 454])\n",
      "173 torch.Size([2, 454])\n",
      "EDGE_INDEX: torch.Size([2, 454])\t\tLOOP_INDEX: torch.Size([2, 173])\n",
      "241 --- torch.Size([2, 454])\n",
      "99 --- torch.Size([2, 454])\n",
      "173 torch.Size([2, 454])\n",
      "EDGE_INDEX: torch.Size([2, 454])\t\tLOOP_INDEX: torch.Size([2, 173])\n",
      "241 --- torch.Size([2, 286])\n",
      "99 --- torch.Size([2, 286])\n",
      "134 torch.Size([2, 286])\n",
      "EDGE_INDEX: torch.Size([2, 286])\t\tLOOP_INDEX: torch.Size([2, 134])\n",
      "241 --- torch.Size([2, 286])\n",
      "99 --- torch.Size([2, 286])\n",
      "134 torch.Size([2, 286])\n",
      "EDGE_INDEX: torch.Size([2, 286])\t\tLOOP_INDEX: torch.Size([2, 134])\n",
      "241 --- torch.Size([2, 462])\n",
      "99 --- torch.Size([2, 462])\n",
      "182 torch.Size([2, 462])\n",
      "EDGE_INDEX: torch.Size([2, 462])\t\tLOOP_INDEX: torch.Size([2, 182])\n",
      "241 --- torch.Size([2, 462])\n",
      "99 --- torch.Size([2, 462])\n",
      "182 torch.Size([2, 462])\n",
      "EDGE_INDEX: torch.Size([2, 462])\t\tLOOP_INDEX: torch.Size([2, 182])\n",
      "241 --- torch.Size([2, 700])\n",
      "99 --- torch.Size([2, 700])\n",
      "238 torch.Size([2, 700])\n",
      "EDGE_INDEX: torch.Size([2, 700])\t\tLOOP_INDEX: torch.Size([2, 238])\n",
      "241 --- torch.Size([2, 700])\n",
      "99 --- torch.Size([2, 700])\n",
      "238 torch.Size([2, 700])\n",
      "EDGE_INDEX: torch.Size([2, 700])\t\tLOOP_INDEX: torch.Size([2, 238])\n",
      "241 --- torch.Size([2, 452])\n",
      "99 --- torch.Size([2, 452])\n",
      "182 torch.Size([2, 452])\n",
      "EDGE_INDEX: torch.Size([2, 452])\t\tLOOP_INDEX: torch.Size([2, 182])\n",
      "241 --- torch.Size([2, 452])\n",
      "99 --- torch.Size([2, 452])\n",
      "182 torch.Size([2, 452])\n",
      "EDGE_INDEX: torch.Size([2, 452])\t\tLOOP_INDEX: torch.Size([2, 182])\n",
      "241 --- torch.Size([2, 576])\n",
      "99 --- torch.Size([2, 576])\n",
      "197 torch.Size([2, 576])\n",
      "EDGE_INDEX: torch.Size([2, 576])\t\tLOOP_INDEX: torch.Size([2, 197])\n",
      "241 --- torch.Size([2, 576])\n",
      "99 --- torch.Size([2, 576])\n",
      "197 torch.Size([2, 576])\n",
      "EDGE_INDEX: torch.Size([2, 576])\t\tLOOP_INDEX: torch.Size([2, 197])\n",
      "241 --- torch.Size([2, 538])\n",
      "99 --- torch.Size([2, 538])\n",
      "210 torch.Size([2, 538])\n",
      "EDGE_INDEX: torch.Size([2, 538])\t\tLOOP_INDEX: torch.Size([2, 210])\n",
      "241 --- torch.Size([2, 538])\n",
      "99 --- torch.Size([2, 538])\n",
      "210 torch.Size([2, 538])\n",
      "EDGE_INDEX: torch.Size([2, 538])\t\tLOOP_INDEX: torch.Size([2, 210])\n",
      "241 --- torch.Size([2, 358])\n",
      "99 --- torch.Size([2, 358])\n",
      "155 torch.Size([2, 358])\n",
      "EDGE_INDEX: torch.Size([2, 358])\t\tLOOP_INDEX: torch.Size([2, 155])\n",
      "241 --- torch.Size([2, 358])\n",
      "99 --- torch.Size([2, 358])\n",
      "155 torch.Size([2, 358])\n",
      "EDGE_INDEX: torch.Size([2, 358])\t\tLOOP_INDEX: torch.Size([2, 155])\n",
      "241 --- torch.Size([2, 368])\n",
      "99 --- torch.Size([2, 368])\n",
      "168 torch.Size([2, 368])\n",
      "EDGE_INDEX: torch.Size([2, 368])\t\tLOOP_INDEX: torch.Size([2, 168])\n",
      "241 --- torch.Size([2, 368])\n",
      "99 --- torch.Size([2, 368])\n",
      "168 torch.Size([2, 368])\n",
      "EDGE_INDEX: torch.Size([2, 368])\t\tLOOP_INDEX: torch.Size([2, 168])\n",
      "241 --- torch.Size([2, 368])\n",
      "99 --- torch.Size([2, 368])\n",
      "155 torch.Size([2, 368])\n",
      "EDGE_INDEX: torch.Size([2, 368])\t\tLOOP_INDEX: torch.Size([2, 155])\n",
      "241 --- torch.Size([2, 368])\n",
      "99 --- torch.Size([2, 368])\n",
      "155 torch.Size([2, 368])\n",
      "EDGE_INDEX: torch.Size([2, 368])\t\tLOOP_INDEX: torch.Size([2, 155])\n",
      "241 --- torch.Size([2, 206])\n",
      "99 --- torch.Size([2, 206])\n",
      "68 torch.Size([2, 206])\n",
      "EDGE_INDEX: torch.Size([2, 206])\t\tLOOP_INDEX: torch.Size([2, 68])\n",
      "241 --- torch.Size([2, 206])\n",
      "99 --- torch.Size([2, 206])\n",
      "68 torch.Size([2, 206])\n",
      "EDGE_INDEX: torch.Size([2, 206])\t\tLOOP_INDEX: torch.Size([2, 68])\n"
     ]
    },
    {
     "name": "stderr",
     "output_type": "stream",
     "text": [
      "[Joint E9] Calc Global P:   0%|          | 0/17 [00:00<?, ?it/s]"
     ]
    },
    {
     "name": "stdout",
     "output_type": "stream",
     "text": [
      "241 --- torch.Size([2, 1792])\n",
      "99 --- torch.Size([2, 1792])\n",
      "696 torch.Size([2, 1792])\n",
      "EDGE_INDEX: torch.Size([2, 1792])\t\tLOOP_INDEX: torch.Size([2, 696])\n",
      "241 --- torch.Size([2, 1792])\n",
      "99 --- torch.Size([2, 1792])\n",
      "696 torch.Size([2, 1792])\n",
      "EDGE_INDEX: torch.Size([2, 1792])\t\tLOOP_INDEX: torch.Size([2, 696])\n"
     ]
    },
    {
     "name": "stderr",
     "output_type": "stream",
     "text": [
      "[Joint E9] Calc Global P:   6%|▌         | 1/17 [00:04<01:19,  4.95s/it]"
     ]
    },
    {
     "name": "stdout",
     "output_type": "stream",
     "text": [
      "241 --- torch.Size([2, 1818])\n",
      "99 --- torch.Size([2, 1818])\n",
      "704 torch.Size([2, 1818])\n",
      "EDGE_INDEX: torch.Size([2, 1818])\t\tLOOP_INDEX: torch.Size([2, 704])\n",
      "241 --- torch.Size([2, 1818])\n",
      "99 --- torch.Size([2, 1818])\n",
      "704 torch.Size([2, 1818])\n",
      "EDGE_INDEX: torch.Size([2, 1818])\t\tLOOP_INDEX: torch.Size([2, 704])\n"
     ]
    },
    {
     "name": "stderr",
     "output_type": "stream",
     "text": [
      "[Joint E9] Calc Global P:  12%|█▏        | 2/17 [00:09<01:10,  4.73s/it]"
     ]
    },
    {
     "name": "stdout",
     "output_type": "stream",
     "text": [
      "241 --- torch.Size([2, 1634])\n",
      "99 --- torch.Size([2, 1634])\n",
      "689 torch.Size([2, 1634])\n",
      "EDGE_INDEX: torch.Size([2, 1634])\t\tLOOP_INDEX: torch.Size([2, 689])\n",
      "241 --- torch.Size([2, 1634])\n",
      "99 --- torch.Size([2, 1634])\n",
      "689 torch.Size([2, 1634])\n",
      "EDGE_INDEX: torch.Size([2, 1634])\t\tLOOP_INDEX: torch.Size([2, 689])\n"
     ]
    },
    {
     "name": "stderr",
     "output_type": "stream",
     "text": [
      "[Joint E9] Calc Global P:  18%|█▊        | 3/17 [00:14<01:04,  4.64s/it]"
     ]
    },
    {
     "name": "stdout",
     "output_type": "stream",
     "text": [
      "241 --- torch.Size([2, 1808])\n",
      "99 --- torch.Size([2, 1808])\n",
      "716 torch.Size([2, 1808])\n",
      "EDGE_INDEX: torch.Size([2, 1808])\t\tLOOP_INDEX: torch.Size([2, 716])\n",
      "241 --- torch.Size([2, 1808])\n",
      "99 --- torch.Size([2, 1808])\n",
      "716 torch.Size([2, 1808])\n",
      "EDGE_INDEX: torch.Size([2, 1808])\t\tLOOP_INDEX: torch.Size([2, 716])\n"
     ]
    },
    {
     "name": "stderr",
     "output_type": "stream",
     "text": [
      "[Joint E9] Calc Global P:  24%|██▎       | 4/17 [00:17<00:56,  4.32s/it]"
     ]
    },
    {
     "name": "stdout",
     "output_type": "stream",
     "text": [
      "241 --- torch.Size([2, 1886])\n",
      "99 --- torch.Size([2, 1886])\n",
      "723 torch.Size([2, 1886])\n",
      "EDGE_INDEX: torch.Size([2, 1886])\t\tLOOP_INDEX: torch.Size([2, 723])\n",
      "241 --- torch.Size([2, 1886])\n",
      "99 --- torch.Size([2, 1886])\n",
      "723 torch.Size([2, 1886])\n",
      "EDGE_INDEX: torch.Size([2, 1886])\t\tLOOP_INDEX: torch.Size([2, 723])\n"
     ]
    },
    {
     "name": "stderr",
     "output_type": "stream",
     "text": [
      "[Joint E9] Calc Global P:  29%|██▉       | 5/17 [00:22<00:53,  4.45s/it]"
     ]
    },
    {
     "name": "stdout",
     "output_type": "stream",
     "text": [
      "241 --- torch.Size([2, 1472])\n",
      "99 --- torch.Size([2, 1472])\n",
      "626 torch.Size([2, 1472])\n",
      "EDGE_INDEX: torch.Size([2, 1472])\t\tLOOP_INDEX: torch.Size([2, 626])\n",
      "241 --- torch.Size([2, 1472])\n",
      "99 --- torch.Size([2, 1472])\n",
      "626 torch.Size([2, 1472])\n",
      "EDGE_INDEX: torch.Size([2, 1472])\t\tLOOP_INDEX: torch.Size([2, 626])\n"
     ]
    },
    {
     "name": "stderr",
     "output_type": "stream",
     "text": [
      "[Joint E9] Calc Global P:  35%|███▌      | 6/17 [00:26<00:45,  4.16s/it]"
     ]
    },
    {
     "name": "stdout",
     "output_type": "stream",
     "text": [
      "241 --- torch.Size([2, 1624])\n",
      "99 --- torch.Size([2, 1624])\n",
      "657 torch.Size([2, 1624])\n",
      "EDGE_INDEX: torch.Size([2, 1624])\t\tLOOP_INDEX: torch.Size([2, 657])\n",
      "241 --- torch.Size([2, 1624])\n",
      "99 --- torch.Size([2, 1624])\n",
      "657 torch.Size([2, 1624])\n",
      "EDGE_INDEX: torch.Size([2, 1624])\t\tLOOP_INDEX: torch.Size([2, 657])\n"
     ]
    },
    {
     "name": "stderr",
     "output_type": "stream",
     "text": [
      "[Joint E9] Calc Global P:  41%|████      | 7/17 [00:30<00:43,  4.34s/it]"
     ]
    },
    {
     "name": "stdout",
     "output_type": "stream",
     "text": [
      "241 --- torch.Size([2, 2122])\n",
      "99 --- torch.Size([2, 2122])\n",
      "792 torch.Size([2, 2122])\n",
      "EDGE_INDEX: torch.Size([2, 2122])\t\tLOOP_INDEX: torch.Size([2, 792])\n",
      "241 --- torch.Size([2, 2122])\n",
      "99 --- torch.Size([2, 2122])\n",
      "792 torch.Size([2, 2122])\n",
      "EDGE_INDEX: torch.Size([2, 2122])\t\tLOOP_INDEX: torch.Size([2, 792])\n"
     ]
    },
    {
     "name": "stderr",
     "output_type": "stream",
     "text": [
      "[Joint E9] Calc Global P:  47%|████▋     | 8/17 [00:35<00:39,  4.34s/it]"
     ]
    },
    {
     "name": "stdout",
     "output_type": "stream",
     "text": [
      "241 --- torch.Size([2, 1822])\n",
      "99 --- torch.Size([2, 1822])\n",
      "721 torch.Size([2, 1822])\n",
      "EDGE_INDEX: torch.Size([2, 1822])\t\tLOOP_INDEX: torch.Size([2, 721])\n",
      "241 --- torch.Size([2, 1822])\n",
      "99 --- torch.Size([2, 1822])\n",
      "721 torch.Size([2, 1822])\n",
      "EDGE_INDEX: torch.Size([2, 1822])\t\tLOOP_INDEX: torch.Size([2, 721])\n"
     ]
    },
    {
     "name": "stderr",
     "output_type": "stream",
     "text": [
      "[Joint E9] Calc Global P:  53%|█████▎    | 9/17 [00:39<00:34,  4.32s/it]"
     ]
    },
    {
     "name": "stdout",
     "output_type": "stream",
     "text": [
      "241 --- torch.Size([2, 1654])\n",
      "99 --- torch.Size([2, 1654])\n",
      "671 torch.Size([2, 1654])\n",
      "EDGE_INDEX: torch.Size([2, 1654])\t\tLOOP_INDEX: torch.Size([2, 671])\n",
      "241 --- torch.Size([2, 1654])\n",
      "99 --- torch.Size([2, 1654])\n",
      "671 torch.Size([2, 1654])\n",
      "EDGE_INDEX: torch.Size([2, 1654])\t\tLOOP_INDEX: torch.Size([2, 671])\n"
     ]
    },
    {
     "name": "stderr",
     "output_type": "stream",
     "text": [
      "[Joint E9] Calc Global P:  59%|█████▉    | 10/17 [00:44<00:30,  4.42s/it]"
     ]
    },
    {
     "name": "stdout",
     "output_type": "stream",
     "text": [
      "241 --- torch.Size([2, 2052])\n",
      "99 --- torch.Size([2, 2052])\n",
      "737 torch.Size([2, 2052])\n",
      "EDGE_INDEX: torch.Size([2, 2052])\t\tLOOP_INDEX: torch.Size([2, 737])\n",
      "241 --- torch.Size([2, 2052])\n",
      "99 --- torch.Size([2, 2052])\n",
      "737 torch.Size([2, 2052])\n",
      "EDGE_INDEX: torch.Size([2, 2052])\t\tLOOP_INDEX: torch.Size([2, 737])\n"
     ]
    },
    {
     "name": "stderr",
     "output_type": "stream",
     "text": [
      "[Joint E9] Calc Global P:  65%|██████▍   | 11/17 [00:48<00:26,  4.48s/it]"
     ]
    },
    {
     "name": "stdout",
     "output_type": "stream",
     "text": [
      "241 --- torch.Size([2, 2270])\n",
      "99 --- torch.Size([2, 2270])\n",
      "800 torch.Size([2, 2270])\n",
      "EDGE_INDEX: torch.Size([2, 2270])\t\tLOOP_INDEX: torch.Size([2, 800])\n",
      "241 --- torch.Size([2, 2270])\n",
      "99 --- torch.Size([2, 2270])\n",
      "800 torch.Size([2, 2270])\n",
      "EDGE_INDEX: torch.Size([2, 2270])\t\tLOOP_INDEX: torch.Size([2, 800])\n"
     ]
    },
    {
     "name": "stderr",
     "output_type": "stream",
     "text": [
      "[Joint E9] Calc Global P:  71%|███████   | 12/17 [00:53<00:22,  4.45s/it]"
     ]
    },
    {
     "name": "stdout",
     "output_type": "stream",
     "text": [
      "241 --- torch.Size([2, 1560])\n",
      "99 --- torch.Size([2, 1560])\n",
      "677 torch.Size([2, 1560])\n",
      "EDGE_INDEX: torch.Size([2, 1560])\t\tLOOP_INDEX: torch.Size([2, 677])\n",
      "241 --- torch.Size([2, 1560])\n",
      "99 --- torch.Size([2, 1560])\n",
      "677 torch.Size([2, 1560])\n",
      "EDGE_INDEX: torch.Size([2, 1560])\t\tLOOP_INDEX: torch.Size([2, 677])\n"
     ]
    },
    {
     "name": "stderr",
     "output_type": "stream",
     "text": [
      "[Joint E9] Calc Global P:  76%|███████▋  | 13/17 [00:56<00:16,  4.20s/it]"
     ]
    },
    {
     "name": "stdout",
     "output_type": "stream",
     "text": [
      "241 --- torch.Size([2, 1450])\n",
      "99 --- torch.Size([2, 1450])\n",
      "642 torch.Size([2, 1450])\n",
      "EDGE_INDEX: torch.Size([2, 1450])\t\tLOOP_INDEX: torch.Size([2, 642])\n",
      "241 --- torch.Size([2, 1450])\n",
      "99 --- torch.Size([2, 1450])\n",
      "642 torch.Size([2, 1450])\n",
      "EDGE_INDEX: torch.Size([2, 1450])\t\tLOOP_INDEX: torch.Size([2, 642])\n"
     ]
    },
    {
     "name": "stderr",
     "output_type": "stream",
     "text": [
      "[Joint E9] Calc Global P:  82%|████████▏ | 14/17 [01:01<00:13,  4.40s/it]"
     ]
    },
    {
     "name": "stdout",
     "output_type": "stream",
     "text": [
      "241 --- torch.Size([2, 1412])\n",
      "99 --- torch.Size([2, 1412])\n",
      "628 torch.Size([2, 1412])\n",
      "EDGE_INDEX: torch.Size([2, 1412])\t\tLOOP_INDEX: torch.Size([2, 628])\n",
      "241 --- torch.Size([2, 1412])\n",
      "99 --- torch.Size([2, 1412])\n",
      "628 torch.Size([2, 1412])\n",
      "EDGE_INDEX: torch.Size([2, 1412])\t\tLOOP_INDEX: torch.Size([2, 628])\n"
     ]
    },
    {
     "name": "stderr",
     "output_type": "stream",
     "text": [
      "[Joint E9] Calc Global P:  88%|████████▊ | 15/17 [01:05<00:08,  4.37s/it]"
     ]
    },
    {
     "name": "stdout",
     "output_type": "stream",
     "text": [
      "241 --- torch.Size([2, 1662])\n",
      "99 --- torch.Size([2, 1662])\n",
      "666 torch.Size([2, 1662])\n",
      "EDGE_INDEX: torch.Size([2, 1662])\t\tLOOP_INDEX: torch.Size([2, 666])\n",
      "241 --- torch.Size([2, 1662])\n",
      "99 --- torch.Size([2, 1662])\n",
      "666 torch.Size([2, 1662])\n",
      "EDGE_INDEX: torch.Size([2, 1662])\t\tLOOP_INDEX: torch.Size([2, 666])\n"
     ]
    },
    {
     "name": "stderr",
     "output_type": "stream",
     "text": [
      "[Joint E9] Calc Global P:  94%|█████████▍| 16/17 [01:09<00:04,  4.13s/it]"
     ]
    },
    {
     "name": "stdout",
     "output_type": "stream",
     "text": [
      "241 --- torch.Size([2, 1332])\n",
      "99 --- torch.Size([2, 1332])\n",
      "530 torch.Size([2, 1332])\n",
      "EDGE_INDEX: torch.Size([2, 1332])\t\tLOOP_INDEX: torch.Size([2, 530])\n",
      "241 --- torch.Size([2, 1332])\n",
      "99 --- torch.Size([2, 1332])\n",
      "530 torch.Size([2, 1332])\n",
      "EDGE_INDEX: torch.Size([2, 1332])\t\tLOOP_INDEX: torch.Size([2, 530])\n"
     ]
    },
    {
     "name": "stderr",
     "output_type": "stream",
     "text": [
      "                                                                         \r"
     ]
    },
    {
     "name": "stdout",
     "output_type": "stream",
     "text": [
      "241 --- torch.Size([2, 1724])\n",
      "99 --- torch.Size([2, 1724])\n",
      "693 torch.Size([2, 1724])\n",
      "EDGE_INDEX: torch.Size([2, 1724])\t\tLOOP_INDEX: torch.Size([2, 693])\n",
      "241 --- torch.Size([2, 1724])\n",
      "99 --- torch.Size([2, 1724])\n",
      "693 torch.Size([2, 1724])\n",
      "EDGE_INDEX: torch.Size([2, 1724])\t\tLOOP_INDEX: torch.Size([2, 693])\n",
      "241 --- torch.Size([2, 1762])\n",
      "99 --- torch.Size([2, 1762])\n",
      "687 torch.Size([2, 1762])\n",
      "EDGE_INDEX: torch.Size([2, 1762])\t\tLOOP_INDEX: torch.Size([2, 687])\n",
      "241 --- torch.Size([2, 1762])\n",
      "99 --- torch.Size([2, 1762])\n",
      "687 torch.Size([2, 1762])\n",
      "EDGE_INDEX: torch.Size([2, 1762])\t\tLOOP_INDEX: torch.Size([2, 687])\n",
      "241 --- torch.Size([2, 1576])\n",
      "99 --- torch.Size([2, 1576])\n",
      "669 torch.Size([2, 1576])\n",
      "EDGE_INDEX: torch.Size([2, 1576])\t\tLOOP_INDEX: torch.Size([2, 669])\n",
      "241 --- torch.Size([2, 1576])\n",
      "99 --- torch.Size([2, 1576])\n",
      "669 torch.Size([2, 1576])\n",
      "EDGE_INDEX: torch.Size([2, 1576])\t\tLOOP_INDEX: torch.Size([2, 669])\n",
      "241 --- torch.Size([2, 1680])\n",
      "99 --- torch.Size([2, 1680])\n",
      "643 torch.Size([2, 1680])\n",
      "EDGE_INDEX: torch.Size([2, 1680])\t\tLOOP_INDEX: torch.Size([2, 643])\n",
      "241 --- torch.Size([2, 1680])\n",
      "99 --- torch.Size([2, 1680])\n",
      "643 torch.Size([2, 1680])\n",
      "EDGE_INDEX: torch.Size([2, 1680])\t\tLOOP_INDEX: torch.Size([2, 643])\n",
      "241 --- torch.Size([2, 1610])\n",
      "99 --- torch.Size([2, 1610])\n",
      "652 torch.Size([2, 1610])\n",
      "EDGE_INDEX: torch.Size([2, 1610])\t\tLOOP_INDEX: torch.Size([2, 652])\n",
      "241 --- torch.Size([2, 1610])\n",
      "99 --- torch.Size([2, 1610])\n",
      "652 torch.Size([2, 1610])\n",
      "EDGE_INDEX: torch.Size([2, 1610])\t\tLOOP_INDEX: torch.Size([2, 652])\n",
      "241 --- torch.Size([2, 1752])\n",
      "99 --- torch.Size([2, 1752])\n",
      "695 torch.Size([2, 1752])\n",
      "EDGE_INDEX: torch.Size([2, 1752])\t\tLOOP_INDEX: torch.Size([2, 695])\n",
      "241 --- torch.Size([2, 1752])\n",
      "99 --- torch.Size([2, 1752])\n",
      "695 torch.Size([2, 1752])\n",
      "EDGE_INDEX: torch.Size([2, 1752])\t\tLOOP_INDEX: torch.Size([2, 695])\n",
      "241 --- torch.Size([2, 1630])\n",
      "99 --- torch.Size([2, 1630])\n",
      "676 torch.Size([2, 1630])\n",
      "EDGE_INDEX: torch.Size([2, 1630])\t\tLOOP_INDEX: torch.Size([2, 676])\n",
      "241 --- torch.Size([2, 1630])\n",
      "99 --- torch.Size([2, 1630])\n",
      "676 torch.Size([2, 1630])\n",
      "EDGE_INDEX: torch.Size([2, 1630])\t\tLOOP_INDEX: torch.Size([2, 676])\n",
      "241 --- torch.Size([2, 1484])\n",
      "99 --- torch.Size([2, 1484])\n",
      "621 torch.Size([2, 1484])\n",
      "EDGE_INDEX: torch.Size([2, 1484])\t\tLOOP_INDEX: torch.Size([2, 621])\n",
      "241 --- torch.Size([2, 1484])\n",
      "99 --- torch.Size([2, 1484])\n",
      "621 torch.Size([2, 1484])\n",
      "EDGE_INDEX: torch.Size([2, 1484])\t\tLOOP_INDEX: torch.Size([2, 621])\n",
      "241 --- torch.Size([2, 1618])\n",
      "99 --- torch.Size([2, 1618])\n",
      "687 torch.Size([2, 1618])\n",
      "EDGE_INDEX: torch.Size([2, 1618])\t\tLOOP_INDEX: torch.Size([2, 687])\n",
      "241 --- torch.Size([2, 1618])\n",
      "99 --- torch.Size([2, 1618])\n",
      "687 torch.Size([2, 1618])\n",
      "EDGE_INDEX: torch.Size([2, 1618])\t\tLOOP_INDEX: torch.Size([2, 687])\n",
      "241 --- torch.Size([2, 1484])\n",
      "99 --- torch.Size([2, 1484])\n",
      "645 torch.Size([2, 1484])\n",
      "EDGE_INDEX: torch.Size([2, 1484])\t\tLOOP_INDEX: torch.Size([2, 645])\n",
      "241 --- torch.Size([2, 1484])\n",
      "99 --- torch.Size([2, 1484])\n",
      "645 torch.Size([2, 1484])\n",
      "EDGE_INDEX: torch.Size([2, 1484])\t\tLOOP_INDEX: torch.Size([2, 645])\n",
      "241 --- torch.Size([2, 1682])\n",
      "99 --- torch.Size([2, 1682])\n",
      "682 torch.Size([2, 1682])\n",
      "EDGE_INDEX: torch.Size([2, 1682])\t\tLOOP_INDEX: torch.Size([2, 682])\n",
      "241 --- torch.Size([2, 1682])\n",
      "99 --- torch.Size([2, 1682])\n",
      "682 torch.Size([2, 1682])\n",
      "EDGE_INDEX: torch.Size([2, 1682])\t\tLOOP_INDEX: torch.Size([2, 682])\n",
      "241 --- torch.Size([2, 1544])\n",
      "99 --- torch.Size([2, 1544])\n",
      "655 torch.Size([2, 1544])\n",
      "EDGE_INDEX: torch.Size([2, 1544])\t\tLOOP_INDEX: torch.Size([2, 655])\n",
      "241 --- torch.Size([2, 1544])\n",
      "99 --- torch.Size([2, 1544])\n",
      "655 torch.Size([2, 1544])\n",
      "EDGE_INDEX: torch.Size([2, 1544])\t\tLOOP_INDEX: torch.Size([2, 655])\n",
      "241 --- torch.Size([2, 1874])\n",
      "99 --- torch.Size([2, 1874])\n",
      "721 torch.Size([2, 1874])\n",
      "EDGE_INDEX: torch.Size([2, 1874])\t\tLOOP_INDEX: torch.Size([2, 721])\n",
      "241 --- torch.Size([2, 1874])\n",
      "99 --- torch.Size([2, 1874])\n",
      "721 torch.Size([2, 1874])\n",
      "EDGE_INDEX: torch.Size([2, 1874])\t\tLOOP_INDEX: torch.Size([2, 721])\n",
      "241 --- torch.Size([2, 1536])\n",
      "99 --- torch.Size([2, 1536])\n",
      "624 torch.Size([2, 1536])\n",
      "EDGE_INDEX: torch.Size([2, 1536])\t\tLOOP_INDEX: torch.Size([2, 624])\n",
      "241 --- torch.Size([2, 1536])\n",
      "99 --- torch.Size([2, 1536])\n",
      "624 torch.Size([2, 1536])\n",
      "EDGE_INDEX: torch.Size([2, 1536])\t\tLOOP_INDEX: torch.Size([2, 624])\n",
      "241 --- torch.Size([2, 1820])\n",
      "99 --- torch.Size([2, 1820])\n",
      "712 torch.Size([2, 1820])\n",
      "EDGE_INDEX: torch.Size([2, 1820])\t\tLOOP_INDEX: torch.Size([2, 712])\n",
      "241 --- torch.Size([2, 1820])\n",
      "99 --- torch.Size([2, 1820])\n",
      "712 torch.Size([2, 1820])\n",
      "EDGE_INDEX: torch.Size([2, 1820])\t\tLOOP_INDEX: torch.Size([2, 712])\n",
      "241 --- torch.Size([2, 1310])\n",
      "99 --- torch.Size([2, 1310])\n",
      "593 torch.Size([2, 1310])\n",
      "EDGE_INDEX: torch.Size([2, 1310])\t\tLOOP_INDEX: torch.Size([2, 593])\n",
      "241 --- torch.Size([2, 1310])\n",
      "99 --- torch.Size([2, 1310])\n",
      "593 torch.Size([2, 1310])\n",
      "EDGE_INDEX: torch.Size([2, 1310])\t\tLOOP_INDEX: torch.Size([2, 593])\n",
      "241 --- torch.Size([2, 1332])\n",
      "99 --- torch.Size([2, 1332])\n",
      "550 torch.Size([2, 1332])\n",
      "EDGE_INDEX: torch.Size([2, 1332])\t\tLOOP_INDEX: torch.Size([2, 550])\n",
      "241 --- torch.Size([2, 1332])\n",
      "99 --- torch.Size([2, 1332])\n",
      "550 torch.Size([2, 1332])\n",
      "EDGE_INDEX: torch.Size([2, 1332])\t\tLOOP_INDEX: torch.Size([2, 550])\n",
      "241 --- torch.Size([2, 466])\n",
      "99 --- torch.Size([2, 466])\n",
      "171 torch.Size([2, 466])\n",
      "EDGE_INDEX: torch.Size([2, 466])\t\tLOOP_INDEX: torch.Size([2, 171])\n",
      "241 --- torch.Size([2, 466])\n",
      "99 --- torch.Size([2, 466])\n",
      "171 torch.Size([2, 466])\n",
      "EDGE_INDEX: torch.Size([2, 466])\t\tLOOP_INDEX: torch.Size([2, 171])\n",
      "241 --- torch.Size([2, 414])\n",
      "99 --- torch.Size([2, 414])\n",
      "166 torch.Size([2, 414])\n",
      "EDGE_INDEX: torch.Size([2, 414])\t\tLOOP_INDEX: torch.Size([2, 166])\n",
      "241 --- torch.Size([2, 414])\n",
      "99 --- torch.Size([2, 414])\n",
      "166 torch.Size([2, 414])\n",
      "EDGE_INDEX: torch.Size([2, 414])\t\tLOOP_INDEX: torch.Size([2, 166])\n",
      "241 --- torch.Size([2, 572])\n",
      "99 --- torch.Size([2, 572])\n",
      "208 torch.Size([2, 572])\n",
      "EDGE_INDEX: torch.Size([2, 572])\t\tLOOP_INDEX: torch.Size([2, 208])\n",
      "241 --- torch.Size([2, 572])\n",
      "99 --- torch.Size([2, 572])\n",
      "208 torch.Size([2, 572])\n",
      "EDGE_INDEX: torch.Size([2, 572])\t\tLOOP_INDEX: torch.Size([2, 208])\n",
      "241 --- torch.Size([2, 522])\n",
      "99 --- torch.Size([2, 522])\n",
      "182 torch.Size([2, 522])\n",
      "EDGE_INDEX: torch.Size([2, 522])\t\tLOOP_INDEX: torch.Size([2, 182])\n",
      "241 --- torch.Size([2, 522])\n",
      "99 --- torch.Size([2, 522])\n",
      "182 torch.Size([2, 522])\n",
      "EDGE_INDEX: torch.Size([2, 522])\t\tLOOP_INDEX: torch.Size([2, 182])\n",
      "241 --- torch.Size([2, 454])\n",
      "99 --- torch.Size([2, 454])\n",
      "173 torch.Size([2, 454])\n",
      "EDGE_INDEX: torch.Size([2, 454])\t\tLOOP_INDEX: torch.Size([2, 173])\n",
      "241 --- torch.Size([2, 454])\n",
      "99 --- torch.Size([2, 454])\n",
      "173 torch.Size([2, 454])\n",
      "EDGE_INDEX: torch.Size([2, 454])\t\tLOOP_INDEX: torch.Size([2, 173])\n",
      "241 --- torch.Size([2, 286])\n",
      "99 --- torch.Size([2, 286])\n",
      "134 torch.Size([2, 286])\n",
      "EDGE_INDEX: torch.Size([2, 286])\t\tLOOP_INDEX: torch.Size([2, 134])\n",
      "241 --- torch.Size([2, 286])\n",
      "99 --- torch.Size([2, 286])\n",
      "134 torch.Size([2, 286])\n",
      "EDGE_INDEX: torch.Size([2, 286])\t\tLOOP_INDEX: torch.Size([2, 134])\n",
      "241 --- torch.Size([2, 462])\n",
      "99 --- torch.Size([2, 462])\n",
      "182 torch.Size([2, 462])\n",
      "EDGE_INDEX: torch.Size([2, 462])\t\tLOOP_INDEX: torch.Size([2, 182])\n",
      "241 --- torch.Size([2, 462])\n",
      "99 --- torch.Size([2, 462])\n",
      "182 torch.Size([2, 462])\n",
      "EDGE_INDEX: torch.Size([2, 462])\t\tLOOP_INDEX: torch.Size([2, 182])\n",
      "241 --- torch.Size([2, 700])\n",
      "99 --- torch.Size([2, 700])\n",
      "238 torch.Size([2, 700])\n",
      "EDGE_INDEX: torch.Size([2, 700])\t\tLOOP_INDEX: torch.Size([2, 238])\n",
      "241 --- torch.Size([2, 700])\n",
      "99 --- torch.Size([2, 700])\n",
      "238 torch.Size([2, 700])\n",
      "EDGE_INDEX: torch.Size([2, 700])\t\tLOOP_INDEX: torch.Size([2, 238])\n",
      "241 --- torch.Size([2, 452])\n",
      "99 --- torch.Size([2, 452])\n",
      "182 torch.Size([2, 452])\n",
      "EDGE_INDEX: torch.Size([2, 452])\t\tLOOP_INDEX: torch.Size([2, 182])\n",
      "241 --- torch.Size([2, 452])\n",
      "99 --- torch.Size([2, 452])\n",
      "182 torch.Size([2, 452])\n",
      "EDGE_INDEX: torch.Size([2, 452])\t\tLOOP_INDEX: torch.Size([2, 182])\n",
      "241 --- torch.Size([2, 576])\n",
      "99 --- torch.Size([2, 576])\n",
      "197 torch.Size([2, 576])\n",
      "EDGE_INDEX: torch.Size([2, 576])\t\tLOOP_INDEX: torch.Size([2, 197])\n",
      "241 --- torch.Size([2, 576])\n",
      "99 --- torch.Size([2, 576])\n",
      "197 torch.Size([2, 576])\n",
      "EDGE_INDEX: torch.Size([2, 576])\t\tLOOP_INDEX: torch.Size([2, 197])\n",
      "241 --- torch.Size([2, 538])\n",
      "99 --- torch.Size([2, 538])\n",
      "210 torch.Size([2, 538])\n",
      "EDGE_INDEX: torch.Size([2, 538])\t\tLOOP_INDEX: torch.Size([2, 210])\n",
      "241 --- torch.Size([2, 538])\n",
      "99 --- torch.Size([2, 538])\n",
      "210 torch.Size([2, 538])\n",
      "EDGE_INDEX: torch.Size([2, 538])\t\tLOOP_INDEX: torch.Size([2, 210])\n",
      "241 --- torch.Size([2, 358])\n",
      "99 --- torch.Size([2, 358])\n",
      "155 torch.Size([2, 358])\n",
      "EDGE_INDEX: torch.Size([2, 358])\t\tLOOP_INDEX: torch.Size([2, 155])\n",
      "241 --- torch.Size([2, 358])\n",
      "99 --- torch.Size([2, 358])\n",
      "155 torch.Size([2, 358])\n",
      "EDGE_INDEX: torch.Size([2, 358])\t\tLOOP_INDEX: torch.Size([2, 155])\n",
      "241 --- torch.Size([2, 368])\n",
      "99 --- torch.Size([2, 368])\n",
      "168 torch.Size([2, 368])\n",
      "EDGE_INDEX: torch.Size([2, 368])\t\tLOOP_INDEX: torch.Size([2, 168])\n",
      "241 --- torch.Size([2, 368])\n",
      "99 --- torch.Size([2, 368])\n",
      "168 torch.Size([2, 368])\n",
      "EDGE_INDEX: torch.Size([2, 368])\t\tLOOP_INDEX: torch.Size([2, 168])\n",
      "241 --- torch.Size([2, 368])\n",
      "99 --- torch.Size([2, 368])\n",
      "155 torch.Size([2, 368])\n",
      "EDGE_INDEX: torch.Size([2, 368])\t\tLOOP_INDEX: torch.Size([2, 155])\n",
      "241 --- torch.Size([2, 368])\n",
      "99 --- torch.Size([2, 368])\n",
      "155 torch.Size([2, 368])\n",
      "EDGE_INDEX: torch.Size([2, 368])\t\tLOOP_INDEX: torch.Size([2, 155])\n",
      "241 --- torch.Size([2, 206])\n",
      "99 --- torch.Size([2, 206])\n",
      "68 torch.Size([2, 206])\n",
      "EDGE_INDEX: torch.Size([2, 206])\t\tLOOP_INDEX: torch.Size([2, 68])\n",
      "241 --- torch.Size([2, 206])\n",
      "99 --- torch.Size([2, 206])\n",
      "68 torch.Size([2, 206])\n",
      "EDGE_INDEX: torch.Size([2, 206])\t\tLOOP_INDEX: torch.Size([2, 68])\n",
      "[Joint] Ep10: Calculating global target P...\n"
     ]
    },
    {
     "name": "stderr",
     "output_type": "stream",
     "text": [
      "[Joint E10] Calc Global P:   0%|          | 0/17 [00:00<?, ?it/s]"
     ]
    },
    {
     "name": "stdout",
     "output_type": "stream",
     "text": [
      "241 --- torch.Size([2, 1792])\n",
      "99 --- torch.Size([2, 1792])\n",
      "696 torch.Size([2, 1792])\n",
      "EDGE_INDEX: torch.Size([2, 1792])\t\tLOOP_INDEX: torch.Size([2, 696])\n",
      "241 --- torch.Size([2, 1792])\n",
      "99 --- torch.Size([2, 1792])\n",
      "696 torch.Size([2, 1792])\n",
      "EDGE_INDEX: torch.Size([2, 1792])\t\tLOOP_INDEX: torch.Size([2, 696])\n"
     ]
    },
    {
     "name": "stderr",
     "output_type": "stream",
     "text": [
      "[Joint E10] Calc Global P:   6%|▌         | 1/17 [00:04<01:12,  4.55s/it]"
     ]
    },
    {
     "name": "stdout",
     "output_type": "stream",
     "text": [
      "241 --- torch.Size([2, 1818])\n",
      "99 --- torch.Size([2, 1818])\n",
      "704 torch.Size([2, 1818])\n",
      "EDGE_INDEX: torch.Size([2, 1818])\t\tLOOP_INDEX: torch.Size([2, 704])\n",
      "241 --- torch.Size([2, 1818])\n",
      "99 --- torch.Size([2, 1818])\n",
      "704 torch.Size([2, 1818])\n",
      "EDGE_INDEX: torch.Size([2, 1818])\t\tLOOP_INDEX: torch.Size([2, 704])\n"
     ]
    },
    {
     "name": "stderr",
     "output_type": "stream",
     "text": [
      "[Joint E10] Calc Global P:  12%|█▏        | 2/17 [00:09<01:08,  4.56s/it]"
     ]
    },
    {
     "name": "stdout",
     "output_type": "stream",
     "text": [
      "241 --- torch.Size([2, 1634])\n",
      "99 --- torch.Size([2, 1634])\n",
      "689 torch.Size([2, 1634])\n",
      "EDGE_INDEX: torch.Size([2, 1634])\t\tLOOP_INDEX: torch.Size([2, 689])\n",
      "241 --- torch.Size([2, 1634])\n",
      "99 --- torch.Size([2, 1634])\n",
      "689 torch.Size([2, 1634])\n",
      "EDGE_INDEX: torch.Size([2, 1634])\t\tLOOP_INDEX: torch.Size([2, 689])\n"
     ]
    },
    {
     "name": "stderr",
     "output_type": "stream",
     "text": [
      "[Joint E10] Calc Global P:  18%|█▊        | 3/17 [00:13<01:00,  4.36s/it]"
     ]
    },
    {
     "name": "stdout",
     "output_type": "stream",
     "text": [
      "241 --- torch.Size([2, 1808])\n",
      "99 --- torch.Size([2, 1808])\n",
      "716 torch.Size([2, 1808])\n",
      "EDGE_INDEX: torch.Size([2, 1808])\t\tLOOP_INDEX: torch.Size([2, 716])\n",
      "241 --- torch.Size([2, 1808])\n",
      "99 --- torch.Size([2, 1808])\n",
      "716 torch.Size([2, 1808])\n",
      "EDGE_INDEX: torch.Size([2, 1808])\t\tLOOP_INDEX: torch.Size([2, 716])\n"
     ]
    },
    {
     "name": "stderr",
     "output_type": "stream",
     "text": [
      "[Joint E10] Calc Global P:  24%|██▎       | 4/17 [00:17<00:55,  4.25s/it]"
     ]
    },
    {
     "name": "stdout",
     "output_type": "stream",
     "text": [
      "241 --- torch.Size([2, 1886])\n",
      "99 --- torch.Size([2, 1886])\n",
      "723 torch.Size([2, 1886])\n",
      "EDGE_INDEX: torch.Size([2, 1886])\t\tLOOP_INDEX: torch.Size([2, 723])\n",
      "241 --- torch.Size([2, 1886])\n",
      "99 --- torch.Size([2, 1886])\n",
      "723 torch.Size([2, 1886])\n",
      "EDGE_INDEX: torch.Size([2, 1886])\t\tLOOP_INDEX: torch.Size([2, 723])\n"
     ]
    },
    {
     "name": "stderr",
     "output_type": "stream",
     "text": [
      "[Joint E10] Calc Global P:  29%|██▉       | 5/17 [00:22<00:53,  4.46s/it]"
     ]
    },
    {
     "name": "stdout",
     "output_type": "stream",
     "text": [
      "241 --- torch.Size([2, 1472])\n",
      "99 --- torch.Size([2, 1472])\n",
      "626 torch.Size([2, 1472])\n",
      "EDGE_INDEX: torch.Size([2, 1472])\t\tLOOP_INDEX: torch.Size([2, 626])\n",
      "241 --- torch.Size([2, 1472])\n",
      "99 --- torch.Size([2, 1472])\n",
      "626 torch.Size([2, 1472])\n",
      "EDGE_INDEX: torch.Size([2, 1472])\t\tLOOP_INDEX: torch.Size([2, 626])\n"
     ]
    },
    {
     "name": "stderr",
     "output_type": "stream",
     "text": [
      "[Joint E10] Calc Global P:  35%|███▌      | 6/17 [00:25<00:44,  4.03s/it]"
     ]
    },
    {
     "name": "stdout",
     "output_type": "stream",
     "text": [
      "241 --- torch.Size([2, 1624])\n",
      "99 --- torch.Size([2, 1624])\n",
      "657 torch.Size([2, 1624])\n",
      "EDGE_INDEX: torch.Size([2, 1624])\t\tLOOP_INDEX: torch.Size([2, 657])\n",
      "241 --- torch.Size([2, 1624])\n",
      "99 --- torch.Size([2, 1624])\n",
      "657 torch.Size([2, 1624])\n",
      "EDGE_INDEX: torch.Size([2, 1624])\t\tLOOP_INDEX: torch.Size([2, 657])\n"
     ]
    },
    {
     "name": "stderr",
     "output_type": "stream",
     "text": [
      "[Joint E10] Calc Global P:  41%|████      | 7/17 [00:29<00:41,  4.14s/it]"
     ]
    },
    {
     "name": "stdout",
     "output_type": "stream",
     "text": [
      "241 --- torch.Size([2, 2122])\n",
      "99 --- torch.Size([2, 2122])\n",
      "792 torch.Size([2, 2122])\n",
      "EDGE_INDEX: torch.Size([2, 2122])\t\tLOOP_INDEX: torch.Size([2, 792])\n",
      "241 --- torch.Size([2, 2122])\n",
      "99 --- torch.Size([2, 2122])\n",
      "792 torch.Size([2, 2122])\n",
      "EDGE_INDEX: torch.Size([2, 2122])\t\tLOOP_INDEX: torch.Size([2, 792])\n"
     ]
    },
    {
     "name": "stderr",
     "output_type": "stream",
     "text": [
      "[Joint E10] Calc Global P:  47%|████▋     | 8/17 [00:34<00:37,  4.21s/it]"
     ]
    },
    {
     "name": "stdout",
     "output_type": "stream",
     "text": [
      "241 --- torch.Size([2, 1822])\n",
      "99 --- torch.Size([2, 1822])\n",
      "721 torch.Size([2, 1822])\n",
      "EDGE_INDEX: torch.Size([2, 1822])\t\tLOOP_INDEX: torch.Size([2, 721])\n",
      "241 --- torch.Size([2, 1822])\n",
      "99 --- torch.Size([2, 1822])\n",
      "721 torch.Size([2, 1822])\n",
      "EDGE_INDEX: torch.Size([2, 1822])\t\tLOOP_INDEX: torch.Size([2, 721])\n"
     ]
    },
    {
     "name": "stderr",
     "output_type": "stream",
     "text": [
      "[Joint E10] Calc Global P:  59%|█████▉    | 10/17 [00:42<00:30,  4.29s/it]"
     ]
    },
    {
     "name": "stdout",
     "output_type": "stream",
     "text": [
      "241 --- torch.Size([2, 1654])\n",
      "99 --- torch.Size([2, 1654])\n",
      "671 torch.Size([2, 1654])\n",
      "EDGE_INDEX: torch.Size([2, 1654])\t\tLOOP_INDEX: torch.Size([2, 671])\n",
      "241 --- torch.Size([2, 1654])\n",
      "99 --- torch.Size([2, 1654])\n",
      "671 torch.Size([2, 1654])\n",
      "EDGE_INDEX: torch.Size([2, 1654])\t\tLOOP_INDEX: torch.Size([2, 671])\n",
      "241 --- torch.Size([2, 2052])\n",
      "99 --- torch.Size([2, 2052])\n",
      "737 torch.Size([2, 2052])\n",
      "EDGE_INDEX: torch.Size([2, 2052])\t\tLOOP_INDEX: torch.Size([2, 737])\n",
      "241 --- torch.Size([2, 2052])\n",
      "99 --- torch.Size([2, 2052])\n",
      "737 torch.Size([2, 2052])\n",
      "EDGE_INDEX: torch.Size([2, 2052])\t\tLOOP_INDEX: torch.Size([2, 737])\n"
     ]
    },
    {
     "name": "stderr",
     "output_type": "stream",
     "text": [
      "[Joint E10] Calc Global P:  65%|██████▍   | 11/17 [00:47<00:26,  4.39s/it]"
     ]
    },
    {
     "name": "stdout",
     "output_type": "stream",
     "text": [
      "241 --- torch.Size([2, 2270])\n",
      "99 --- torch.Size([2, 2270])\n",
      "800 torch.Size([2, 2270])\n",
      "EDGE_INDEX: torch.Size([2, 2270])\t\tLOOP_INDEX: torch.Size([2, 800])\n",
      "241 --- torch.Size([2, 2270])\n",
      "99 --- torch.Size([2, 2270])\n",
      "800 torch.Size([2, 2270])\n",
      "EDGE_INDEX: torch.Size([2, 2270])\t\tLOOP_INDEX: torch.Size([2, 800])\n"
     ]
    },
    {
     "name": "stderr",
     "output_type": "stream",
     "text": [
      "[Joint E10] Calc Global P:  71%|███████   | 12/17 [00:51<00:21,  4.37s/it]"
     ]
    },
    {
     "name": "stdout",
     "output_type": "stream",
     "text": [
      "241 --- torch.Size([2, 1560])\n",
      "99 --- torch.Size([2, 1560])\n",
      "677 torch.Size([2, 1560])\n",
      "EDGE_INDEX: torch.Size([2, 1560])\t\tLOOP_INDEX: torch.Size([2, 677])\n",
      "241 --- torch.Size([2, 1560])\n",
      "99 --- torch.Size([2, 1560])\n",
      "677 torch.Size([2, 1560])\n",
      "EDGE_INDEX: torch.Size([2, 1560])\t\tLOOP_INDEX: torch.Size([2, 677])\n"
     ]
    },
    {
     "name": "stderr",
     "output_type": "stream",
     "text": [
      "[Joint E10] Calc Global P:  76%|███████▋  | 13/17 [00:55<00:16,  4.21s/it]"
     ]
    },
    {
     "name": "stdout",
     "output_type": "stream",
     "text": [
      "241 --- torch.Size([2, 1450])\n",
      "99 --- torch.Size([2, 1450])\n",
      "642 torch.Size([2, 1450])\n",
      "EDGE_INDEX: torch.Size([2, 1450])\t\tLOOP_INDEX: torch.Size([2, 642])\n",
      "241 --- torch.Size([2, 1450])\n",
      "99 --- torch.Size([2, 1450])\n",
      "642 torch.Size([2, 1450])\n",
      "EDGE_INDEX: torch.Size([2, 1450])\t\tLOOP_INDEX: torch.Size([2, 642])\n"
     ]
    },
    {
     "name": "stderr",
     "output_type": "stream",
     "text": [
      "[Joint E10] Calc Global P:  82%|████████▏ | 14/17 [01:00<00:12,  4.32s/it]"
     ]
    },
    {
     "name": "stdout",
     "output_type": "stream",
     "text": [
      "241 --- torch.Size([2, 1412])\n",
      "99 --- torch.Size([2, 1412])\n",
      "628 torch.Size([2, 1412])\n",
      "EDGE_INDEX: torch.Size([2, 1412])\t\tLOOP_INDEX: torch.Size([2, 628])\n",
      "241 --- torch.Size([2, 1412])\n",
      "99 --- torch.Size([2, 1412])\n",
      "628 torch.Size([2, 1412])\n",
      "EDGE_INDEX: torch.Size([2, 1412])\t\tLOOP_INDEX: torch.Size([2, 628])\n"
     ]
    },
    {
     "name": "stderr",
     "output_type": "stream",
     "text": [
      "[Joint E10] Calc Global P:  88%|████████▊ | 15/17 [01:04<00:08,  4.31s/it]"
     ]
    },
    {
     "name": "stdout",
     "output_type": "stream",
     "text": [
      "241 --- torch.Size([2, 1662])\n",
      "99 --- torch.Size([2, 1662])\n",
      "666 torch.Size([2, 1662])\n",
      "EDGE_INDEX: torch.Size([2, 1662])\t\tLOOP_INDEX: torch.Size([2, 666])\n",
      "241 --- torch.Size([2, 1662])\n",
      "99 --- torch.Size([2, 1662])\n",
      "666 torch.Size([2, 1662])\n",
      "EDGE_INDEX: torch.Size([2, 1662])\t\tLOOP_INDEX: torch.Size([2, 666])\n"
     ]
    },
    {
     "name": "stderr",
     "output_type": "stream",
     "text": [
      "[Joint E10] Calc Global P:  94%|█████████▍| 16/17 [01:08<00:04,  4.12s/it]"
     ]
    },
    {
     "name": "stdout",
     "output_type": "stream",
     "text": [
      "241 --- torch.Size([2, 1332])\n",
      "99 --- torch.Size([2, 1332])\n",
      "530 torch.Size([2, 1332])\n",
      "EDGE_INDEX: torch.Size([2, 1332])\t\tLOOP_INDEX: torch.Size([2, 530])\n",
      "241 --- torch.Size([2, 1332])\n",
      "99 --- torch.Size([2, 1332])\n",
      "530 torch.Size([2, 1332])\n",
      "EDGE_INDEX: torch.Size([2, 1332])\t\tLOOP_INDEX: torch.Size([2, 530])\n"
     ]
    },
    {
     "name": "stderr",
     "output_type": "stream",
     "text": [
      "                                                                          \r"
     ]
    },
    {
     "name": "stdout",
     "output_type": "stream",
     "text": [
      "241 --- torch.Size([2, 1780])\n",
      "99 --- torch.Size([2, 1780])\n",
      "698 torch.Size([2, 1780])\n",
      "EDGE_INDEX: torch.Size([2, 1780])\t\tLOOP_INDEX: torch.Size([2, 698])\n",
      "241 --- torch.Size([2, 1780])\n",
      "99 --- torch.Size([2, 1780])\n",
      "698 torch.Size([2, 1780])\n",
      "EDGE_INDEX: torch.Size([2, 1780])\t\tLOOP_INDEX: torch.Size([2, 698])\n",
      "241 --- torch.Size([2, 1630])\n",
      "99 --- torch.Size([2, 1630])\n",
      "669 torch.Size([2, 1630])\n",
      "EDGE_INDEX: torch.Size([2, 1630])\t\tLOOP_INDEX: torch.Size([2, 669])\n",
      "241 --- torch.Size([2, 1630])\n",
      "99 --- torch.Size([2, 1630])\n",
      "669 torch.Size([2, 1630])\n",
      "EDGE_INDEX: torch.Size([2, 1630])\t\tLOOP_INDEX: torch.Size([2, 669])\n",
      "241 --- torch.Size([2, 1510])\n",
      "99 --- torch.Size([2, 1510])\n",
      "650 torch.Size([2, 1510])\n",
      "EDGE_INDEX: torch.Size([2, 1510])\t\tLOOP_INDEX: torch.Size([2, 650])\n",
      "241 --- torch.Size([2, 1510])\n",
      "99 --- torch.Size([2, 1510])\n",
      "650 torch.Size([2, 1510])\n",
      "EDGE_INDEX: torch.Size([2, 1510])\t\tLOOP_INDEX: torch.Size([2, 650])\n",
      "241 --- torch.Size([2, 1672])\n",
      "99 --- torch.Size([2, 1672])\n",
      "689 torch.Size([2, 1672])\n",
      "EDGE_INDEX: torch.Size([2, 1672])\t\tLOOP_INDEX: torch.Size([2, 689])\n",
      "241 --- torch.Size([2, 1672])\n",
      "99 --- torch.Size([2, 1672])\n",
      "689 torch.Size([2, 1672])\n",
      "EDGE_INDEX: torch.Size([2, 1672])\t\tLOOP_INDEX: torch.Size([2, 689])\n",
      "241 --- torch.Size([2, 1862])\n",
      "99 --- torch.Size([2, 1862])\n",
      "724 torch.Size([2, 1862])\n",
      "EDGE_INDEX: torch.Size([2, 1862])\t\tLOOP_INDEX: torch.Size([2, 724])\n",
      "241 --- torch.Size([2, 1862])\n",
      "99 --- torch.Size([2, 1862])\n",
      "724 torch.Size([2, 1862])\n",
      "EDGE_INDEX: torch.Size([2, 1862])\t\tLOOP_INDEX: torch.Size([2, 724])\n",
      "241 --- torch.Size([2, 1716])\n",
      "99 --- torch.Size([2, 1716])\n",
      "676 torch.Size([2, 1716])\n",
      "EDGE_INDEX: torch.Size([2, 1716])\t\tLOOP_INDEX: torch.Size([2, 676])\n",
      "241 --- torch.Size([2, 1716])\n",
      "99 --- torch.Size([2, 1716])\n",
      "676 torch.Size([2, 1716])\n",
      "EDGE_INDEX: torch.Size([2, 1716])\t\tLOOP_INDEX: torch.Size([2, 676])\n",
      "241 --- torch.Size([2, 1614])\n",
      "99 --- torch.Size([2, 1614])\n",
      "672 torch.Size([2, 1614])\n",
      "EDGE_INDEX: torch.Size([2, 1614])\t\tLOOP_INDEX: torch.Size([2, 672])\n",
      "241 --- torch.Size([2, 1614])\n",
      "99 --- torch.Size([2, 1614])\n",
      "672 torch.Size([2, 1614])\n",
      "EDGE_INDEX: torch.Size([2, 1614])\t\tLOOP_INDEX: torch.Size([2, 672])\n",
      "241 --- torch.Size([2, 1592])\n",
      "99 --- torch.Size([2, 1592])\n",
      "656 torch.Size([2, 1592])\n",
      "EDGE_INDEX: torch.Size([2, 1592])\t\tLOOP_INDEX: torch.Size([2, 656])\n",
      "241 --- torch.Size([2, 1592])\n",
      "99 --- torch.Size([2, 1592])\n",
      "656 torch.Size([2, 1592])\n",
      "EDGE_INDEX: torch.Size([2, 1592])\t\tLOOP_INDEX: torch.Size([2, 656])\n",
      "241 --- torch.Size([2, 1960])\n",
      "99 --- torch.Size([2, 1960])\n",
      "738 torch.Size([2, 1960])\n",
      "EDGE_INDEX: torch.Size([2, 1960])\t\tLOOP_INDEX: torch.Size([2, 738])\n",
      "241 --- torch.Size([2, 1960])\n",
      "99 --- torch.Size([2, 1960])\n",
      "738 torch.Size([2, 1960])\n",
      "EDGE_INDEX: torch.Size([2, 1960])\t\tLOOP_INDEX: torch.Size([2, 738])\n",
      "241 --- torch.Size([2, 1426])\n",
      "99 --- torch.Size([2, 1426])\n",
      "622 torch.Size([2, 1426])\n",
      "EDGE_INDEX: torch.Size([2, 1426])\t\tLOOP_INDEX: torch.Size([2, 622])\n",
      "241 --- torch.Size([2, 1426])\n",
      "99 --- torch.Size([2, 1426])\n",
      "622 torch.Size([2, 1426])\n",
      "EDGE_INDEX: torch.Size([2, 1426])\t\tLOOP_INDEX: torch.Size([2, 622])\n",
      "241 --- torch.Size([2, 2030])\n",
      "99 --- torch.Size([2, 2030])\n",
      "766 torch.Size([2, 2030])\n",
      "EDGE_INDEX: torch.Size([2, 2030])\t\tLOOP_INDEX: torch.Size([2, 766])\n",
      "241 --- torch.Size([2, 2030])\n",
      "99 --- torch.Size([2, 2030])\n",
      "766 torch.Size([2, 2030])\n",
      "EDGE_INDEX: torch.Size([2, 2030])\t\tLOOP_INDEX: torch.Size([2, 766])\n",
      "241 --- torch.Size([2, 1822])\n",
      "99 --- torch.Size([2, 1822])\n",
      "726 torch.Size([2, 1822])\n",
      "EDGE_INDEX: torch.Size([2, 1822])\t\tLOOP_INDEX: torch.Size([2, 726])\n",
      "241 --- torch.Size([2, 1822])\n",
      "99 --- torch.Size([2, 1822])\n",
      "726 torch.Size([2, 1822])\n",
      "EDGE_INDEX: torch.Size([2, 1822])\t\tLOOP_INDEX: torch.Size([2, 726])\n",
      "241 --- torch.Size([2, 1714])\n",
      "99 --- torch.Size([2, 1714])\n",
      "670 torch.Size([2, 1714])\n",
      "EDGE_INDEX: torch.Size([2, 1714])\t\tLOOP_INDEX: torch.Size([2, 670])\n",
      "241 --- torch.Size([2, 1714])\n",
      "99 --- torch.Size([2, 1714])\n",
      "670 torch.Size([2, 1714])\n",
      "EDGE_INDEX: torch.Size([2, 1714])\t\tLOOP_INDEX: torch.Size([2, 670])\n",
      "241 --- torch.Size([2, 1808])\n",
      "99 --- torch.Size([2, 1808])\n",
      "704 torch.Size([2, 1808])\n",
      "EDGE_INDEX: torch.Size([2, 1808])\t\tLOOP_INDEX: torch.Size([2, 704])\n",
      "241 --- torch.Size([2, 1808])\n",
      "99 --- torch.Size([2, 1808])\n",
      "704 torch.Size([2, 1808])\n",
      "EDGE_INDEX: torch.Size([2, 1808])\t\tLOOP_INDEX: torch.Size([2, 704])\n",
      "241 --- torch.Size([2, 1646])\n",
      "99 --- torch.Size([2, 1646])\n",
      "689 torch.Size([2, 1646])\n",
      "EDGE_INDEX: torch.Size([2, 1646])\t\tLOOP_INDEX: torch.Size([2, 689])\n",
      "241 --- torch.Size([2, 1646])\n",
      "99 --- torch.Size([2, 1646])\n",
      "689 torch.Size([2, 1646])\n",
      "EDGE_INDEX: torch.Size([2, 1646])\t\tLOOP_INDEX: torch.Size([2, 689])\n",
      "241 --- torch.Size([2, 1650])\n",
      "99 --- torch.Size([2, 1650])\n",
      "659 torch.Size([2, 1650])\n",
      "EDGE_INDEX: torch.Size([2, 1650])\t\tLOOP_INDEX: torch.Size([2, 659])\n",
      "241 --- torch.Size([2, 1650])\n",
      "99 --- torch.Size([2, 1650])\n",
      "659 torch.Size([2, 1650])\n",
      "EDGE_INDEX: torch.Size([2, 1650])\t\tLOOP_INDEX: torch.Size([2, 659])\n",
      "241 --- torch.Size([2, 1528])\n",
      "99 --- torch.Size([2, 1528])\n",
      "574 torch.Size([2, 1528])\n",
      "EDGE_INDEX: torch.Size([2, 1528])\t\tLOOP_INDEX: torch.Size([2, 574])\n",
      "241 --- torch.Size([2, 1528])\n",
      "99 --- torch.Size([2, 1528])\n",
      "574 torch.Size([2, 1528])\n",
      "EDGE_INDEX: torch.Size([2, 1528])\t\tLOOP_INDEX: torch.Size([2, 574])\n",
      "241 --- torch.Size([2, 466])\n",
      "99 --- torch.Size([2, 466])\n",
      "171 torch.Size([2, 466])\n",
      "EDGE_INDEX: torch.Size([2, 466])\t\tLOOP_INDEX: torch.Size([2, 171])\n",
      "241 --- torch.Size([2, 466])\n",
      "99 --- torch.Size([2, 466])\n",
      "171 torch.Size([2, 466])\n",
      "EDGE_INDEX: torch.Size([2, 466])\t\tLOOP_INDEX: torch.Size([2, 171])\n",
      "241 --- torch.Size([2, 414])\n",
      "99 --- torch.Size([2, 414])\n",
      "166 torch.Size([2, 414])\n",
      "EDGE_INDEX: torch.Size([2, 414])\t\tLOOP_INDEX: torch.Size([2, 166])\n",
      "241 --- torch.Size([2, 414])\n",
      "99 --- torch.Size([2, 414])\n",
      "166 torch.Size([2, 414])\n",
      "EDGE_INDEX: torch.Size([2, 414])\t\tLOOP_INDEX: torch.Size([2, 166])\n",
      "241 --- torch.Size([2, 572])\n",
      "99 --- torch.Size([2, 572])\n",
      "208 torch.Size([2, 572])\n",
      "EDGE_INDEX: torch.Size([2, 572])\t\tLOOP_INDEX: torch.Size([2, 208])\n",
      "241 --- torch.Size([2, 572])\n",
      "99 --- torch.Size([2, 572])\n",
      "208 torch.Size([2, 572])\n",
      "EDGE_INDEX: torch.Size([2, 572])\t\tLOOP_INDEX: torch.Size([2, 208])\n",
      "241 --- torch.Size([2, 522])\n",
      "99 --- torch.Size([2, 522])\n",
      "182 torch.Size([2, 522])\n",
      "EDGE_INDEX: torch.Size([2, 522])\t\tLOOP_INDEX: torch.Size([2, 182])\n",
      "241 --- torch.Size([2, 522])\n",
      "99 --- torch.Size([2, 522])\n",
      "182 torch.Size([2, 522])\n",
      "EDGE_INDEX: torch.Size([2, 522])\t\tLOOP_INDEX: torch.Size([2, 182])\n",
      "241 --- torch.Size([2, 454])\n",
      "99 --- torch.Size([2, 454])\n",
      "173 torch.Size([2, 454])\n",
      "EDGE_INDEX: torch.Size([2, 454])\t\tLOOP_INDEX: torch.Size([2, 173])\n",
      "241 --- torch.Size([2, 454])\n",
      "99 --- torch.Size([2, 454])\n",
      "173 torch.Size([2, 454])\n",
      "EDGE_INDEX: torch.Size([2, 454])\t\tLOOP_INDEX: torch.Size([2, 173])\n",
      "241 --- torch.Size([2, 286])\n",
      "99 --- torch.Size([2, 286])\n",
      "134 torch.Size([2, 286])\n",
      "EDGE_INDEX: torch.Size([2, 286])\t\tLOOP_INDEX: torch.Size([2, 134])\n",
      "241 --- torch.Size([2, 286])\n",
      "99 --- torch.Size([2, 286])\n",
      "134 torch.Size([2, 286])\n",
      "EDGE_INDEX: torch.Size([2, 286])\t\tLOOP_INDEX: torch.Size([2, 134])\n",
      "241 --- torch.Size([2, 462])\n",
      "99 --- torch.Size([2, 462])\n",
      "182 torch.Size([2, 462])\n",
      "EDGE_INDEX: torch.Size([2, 462])\t\tLOOP_INDEX: torch.Size([2, 182])\n",
      "241 --- torch.Size([2, 462])\n",
      "99 --- torch.Size([2, 462])\n",
      "182 torch.Size([2, 462])\n",
      "EDGE_INDEX: torch.Size([2, 462])\t\tLOOP_INDEX: torch.Size([2, 182])\n",
      "241 --- torch.Size([2, 700])\n",
      "99 --- torch.Size([2, 700])\n",
      "238 torch.Size([2, 700])\n",
      "EDGE_INDEX: torch.Size([2, 700])\t\tLOOP_INDEX: torch.Size([2, 238])\n",
      "241 --- torch.Size([2, 700])\n",
      "99 --- torch.Size([2, 700])\n",
      "238 torch.Size([2, 700])\n",
      "EDGE_INDEX: torch.Size([2, 700])\t\tLOOP_INDEX: torch.Size([2, 238])\n",
      "241 --- torch.Size([2, 452])\n",
      "99 --- torch.Size([2, 452])\n",
      "182 torch.Size([2, 452])\n",
      "EDGE_INDEX: torch.Size([2, 452])\t\tLOOP_INDEX: torch.Size([2, 182])\n",
      "241 --- torch.Size([2, 452])\n",
      "99 --- torch.Size([2, 452])\n",
      "182 torch.Size([2, 452])\n",
      "EDGE_INDEX: torch.Size([2, 452])\t\tLOOP_INDEX: torch.Size([2, 182])\n",
      "241 --- torch.Size([2, 576])\n",
      "99 --- torch.Size([2, 576])\n",
      "197 torch.Size([2, 576])\n",
      "EDGE_INDEX: torch.Size([2, 576])\t\tLOOP_INDEX: torch.Size([2, 197])\n",
      "241 --- torch.Size([2, 576])\n",
      "99 --- torch.Size([2, 576])\n",
      "197 torch.Size([2, 576])\n",
      "EDGE_INDEX: torch.Size([2, 576])\t\tLOOP_INDEX: torch.Size([2, 197])\n",
      "241 --- torch.Size([2, 538])\n",
      "99 --- torch.Size([2, 538])\n",
      "210 torch.Size([2, 538])\n",
      "EDGE_INDEX: torch.Size([2, 538])\t\tLOOP_INDEX: torch.Size([2, 210])\n",
      "241 --- torch.Size([2, 538])\n",
      "99 --- torch.Size([2, 538])\n",
      "210 torch.Size([2, 538])\n",
      "EDGE_INDEX: torch.Size([2, 538])\t\tLOOP_INDEX: torch.Size([2, 210])\n",
      "241 --- torch.Size([2, 358])\n",
      "99 --- torch.Size([2, 358])\n",
      "155 torch.Size([2, 358])\n",
      "EDGE_INDEX: torch.Size([2, 358])\t\tLOOP_INDEX: torch.Size([2, 155])\n",
      "241 --- torch.Size([2, 358])\n",
      "99 --- torch.Size([2, 358])\n",
      "155 torch.Size([2, 358])\n",
      "EDGE_INDEX: torch.Size([2, 358])\t\tLOOP_INDEX: torch.Size([2, 155])\n",
      "241 --- torch.Size([2, 368])\n",
      "99 --- torch.Size([2, 368])\n",
      "168 torch.Size([2, 368])\n",
      "EDGE_INDEX: torch.Size([2, 368])\t\tLOOP_INDEX: torch.Size([2, 168])\n",
      "241 --- torch.Size([2, 368])\n",
      "99 --- torch.Size([2, 368])\n",
      "168 torch.Size([2, 368])\n",
      "EDGE_INDEX: torch.Size([2, 368])\t\tLOOP_INDEX: torch.Size([2, 168])\n",
      "241 --- torch.Size([2, 368])\n",
      "99 --- torch.Size([2, 368])\n",
      "155 torch.Size([2, 368])\n",
      "EDGE_INDEX: torch.Size([2, 368])\t\tLOOP_INDEX: torch.Size([2, 155])\n",
      "241 --- torch.Size([2, 368])\n",
      "99 --- torch.Size([2, 368])\n",
      "155 torch.Size([2, 368])\n",
      "EDGE_INDEX: torch.Size([2, 368])\t\tLOOP_INDEX: torch.Size([2, 155])\n",
      "241 --- torch.Size([2, 206])\n",
      "99 --- torch.Size([2, 206])\n",
      "68 torch.Size([2, 206])\n",
      "EDGE_INDEX: torch.Size([2, 206])\t\tLOOP_INDEX: torch.Size([2, 68])\n",
      "241 --- torch.Size([2, 206])\n",
      "99 --- torch.Size([2, 206])\n",
      "68 torch.Size([2, 206])\n",
      "EDGE_INDEX: torch.Size([2, 206])\t\tLOOP_INDEX: torch.Size([2, 68])\n"
     ]
    },
    {
     "name": "stderr",
     "output_type": "stream",
     "text": [
      "[Joint E11] Calc Global P:   6%|▌         | 1/17 [00:01<00:30,  1.92s/it]"
     ]
    },
    {
     "name": "stdout",
     "output_type": "stream",
     "text": [
      "241 --- torch.Size([2, 1792])\n",
      "99 --- torch.Size([2, 1792])\n",
      "696 torch.Size([2, 1792])\n",
      "EDGE_INDEX: torch.Size([2, 1792])\t\tLOOP_INDEX: torch.Size([2, 696])\n",
      "241 --- torch.Size([2, 1792])\n",
      "99 --- torch.Size([2, 1792])\n",
      "696 torch.Size([2, 1792])\n",
      "EDGE_INDEX: torch.Size([2, 1792])\t\tLOOP_INDEX: torch.Size([2, 696])\n"
     ]
    },
    {
     "name": "stderr",
     "output_type": "stream",
     "text": [
      "[Joint E11] Calc Global P:  12%|█▏        | 2/17 [00:02<00:14,  1.07it/s]"
     ]
    },
    {
     "name": "stdout",
     "output_type": "stream",
     "text": [
      "241 --- torch.Size([2, 1818])\n",
      "99 --- torch.Size([2, 1818])\n",
      "704 torch.Size([2, 1818])\n",
      "EDGE_INDEX: torch.Size([2, 1818])\t\tLOOP_INDEX: torch.Size([2, 704])\n",
      "241 --- torch.Size([2, 1818])\n",
      "99 --- torch.Size([2, 1818])\n",
      "704 torch.Size([2, 1818])\n",
      "EDGE_INDEX: torch.Size([2, 1818])\t\tLOOP_INDEX: torch.Size([2, 704])\n"
     ]
    },
    {
     "name": "stderr",
     "output_type": "stream",
     "text": [
      "[Joint E11] Calc Global P:  18%|█▊        | 3/17 [00:02<00:08,  1.60it/s]"
     ]
    },
    {
     "name": "stdout",
     "output_type": "stream",
     "text": [
      "241 --- torch.Size([2, 1634])\n",
      "99 --- torch.Size([2, 1634])\n",
      "689 torch.Size([2, 1634])\n",
      "EDGE_INDEX: torch.Size([2, 1634])\t\tLOOP_INDEX: torch.Size([2, 689])\n",
      "241 --- torch.Size([2, 1634])\n",
      "99 --- torch.Size([2, 1634])\n",
      "689 torch.Size([2, 1634])\n",
      "EDGE_INDEX: torch.Size([2, 1634])\t\tLOOP_INDEX: torch.Size([2, 689])\n"
     ]
    },
    {
     "name": "stderr",
     "output_type": "stream",
     "text": [
      "[Joint E11] Calc Global P:  24%|██▎       | 4/17 [00:02<00:06,  2.10it/s]"
     ]
    },
    {
     "name": "stdout",
     "output_type": "stream",
     "text": [
      "241 --- torch.Size([2, 1808])\n",
      "99 --- torch.Size([2, 1808])\n",
      "716 torch.Size([2, 1808])\n",
      "EDGE_INDEX: torch.Size([2, 1808])\t\tLOOP_INDEX: torch.Size([2, 716])\n",
      "241 --- torch.Size([2, 1808])\n",
      "99 --- torch.Size([2, 1808])\n",
      "716 torch.Size([2, 1808])\n",
      "EDGE_INDEX: torch.Size([2, 1808])\t\tLOOP_INDEX: torch.Size([2, 716])\n"
     ]
    },
    {
     "name": "stderr",
     "output_type": "stream",
     "text": [
      "[Joint E11] Calc Global P:  29%|██▉       | 5/17 [00:02<00:04,  2.50it/s]"
     ]
    },
    {
     "name": "stdout",
     "output_type": "stream",
     "text": [
      "241 --- torch.Size([2, 1886])\n",
      "99 --- torch.Size([2, 1886])\n",
      "723 torch.Size([2, 1886])\n",
      "EDGE_INDEX: torch.Size([2, 1886])\t\tLOOP_INDEX: torch.Size([2, 723])\n",
      "241 --- torch.Size([2, 1886])\n",
      "99 --- torch.Size([2, 1886])\n",
      "723 torch.Size([2, 1886])\n",
      "EDGE_INDEX: torch.Size([2, 1886])\t\tLOOP_INDEX: torch.Size([2, 723])\n"
     ]
    },
    {
     "name": "stderr",
     "output_type": "stream",
     "text": [
      "[Joint E11] Calc Global P:  35%|███▌      | 6/17 [00:03<00:03,  2.88it/s]"
     ]
    },
    {
     "name": "stdout",
     "output_type": "stream",
     "text": [
      "241 --- torch.Size([2, 1472])\n",
      "99 --- torch.Size([2, 1472])\n",
      "626 torch.Size([2, 1472])\n",
      "EDGE_INDEX: torch.Size([2, 1472])\t\tLOOP_INDEX: torch.Size([2, 626])\n",
      "241 --- torch.Size([2, 1472])\n",
      "99 --- torch.Size([2, 1472])\n",
      "626 torch.Size([2, 1472])\n",
      "EDGE_INDEX: torch.Size([2, 1472])\t\tLOOP_INDEX: torch.Size([2, 626])\n"
     ]
    },
    {
     "name": "stderr",
     "output_type": "stream",
     "text": [
      "[Joint E11] Calc Global P:  41%|████      | 7/17 [00:03<00:03,  3.17it/s]"
     ]
    },
    {
     "name": "stdout",
     "output_type": "stream",
     "text": [
      "241 --- torch.Size([2, 1624])\n",
      "99 --- torch.Size([2, 1624])\n",
      "657 torch.Size([2, 1624])\n",
      "EDGE_INDEX: torch.Size([2, 1624])\t\tLOOP_INDEX: torch.Size([2, 657])\n",
      "241 --- torch.Size([2, 1624])\n",
      "99 --- torch.Size([2, 1624])\n",
      "657 torch.Size([2, 1624])\n",
      "EDGE_INDEX: torch.Size([2, 1624])\t\tLOOP_INDEX: torch.Size([2, 657])\n"
     ]
    },
    {
     "name": "stderr",
     "output_type": "stream",
     "text": [
      "[Joint E11] Calc Global P:  47%|████▋     | 8/17 [00:03<00:02,  3.37it/s]"
     ]
    },
    {
     "name": "stdout",
     "output_type": "stream",
     "text": [
      "241 --- torch.Size([2, 2122])\n",
      "99 --- torch.Size([2, 2122])\n",
      "792 torch.Size([2, 2122])\n",
      "EDGE_INDEX: torch.Size([2, 2122])\t\tLOOP_INDEX: torch.Size([2, 792])\n",
      "241 --- torch.Size([2, 2122])\n",
      "99 --- torch.Size([2, 2122])\n",
      "792 torch.Size([2, 2122])\n",
      "EDGE_INDEX: torch.Size([2, 2122])\t\tLOOP_INDEX: torch.Size([2, 792])\n"
     ]
    },
    {
     "name": "stderr",
     "output_type": "stream",
     "text": [
      "[Joint E11] Calc Global P:  53%|█████▎    | 9/17 [00:04<00:02,  3.21it/s]"
     ]
    },
    {
     "name": "stdout",
     "output_type": "stream",
     "text": [
      "241 --- torch.Size([2, 1822])\n",
      "99 --- torch.Size([2, 1822])\n",
      "721 torch.Size([2, 1822])\n",
      "EDGE_INDEX: torch.Size([2, 1822])\t\tLOOP_INDEX: torch.Size([2, 721])\n",
      "241 --- torch.Size([2, 1822])\n",
      "99 --- torch.Size([2, 1822])\n",
      "721 torch.Size([2, 1822])\n",
      "EDGE_INDEX: torch.Size([2, 1822])\t\tLOOP_INDEX: torch.Size([2, 721])\n"
     ]
    },
    {
     "name": "stderr",
     "output_type": "stream",
     "text": [
      "[Joint E11] Calc Global P:  59%|█████▉    | 10/17 [00:04<00:02,  3.38it/s]"
     ]
    },
    {
     "name": "stdout",
     "output_type": "stream",
     "text": [
      "241 --- torch.Size([2, 1654])\n",
      "99 --- torch.Size([2, 1654])\n",
      "671 torch.Size([2, 1654])\n",
      "EDGE_INDEX: torch.Size([2, 1654])\t\tLOOP_INDEX: torch.Size([2, 671])\n",
      "241 --- torch.Size([2, 1654])\n",
      "99 --- torch.Size([2, 1654])\n",
      "671 torch.Size([2, 1654])\n",
      "EDGE_INDEX: torch.Size([2, 1654])\t\tLOOP_INDEX: torch.Size([2, 671])\n"
     ]
    },
    {
     "name": "stderr",
     "output_type": "stream",
     "text": [
      "[Joint E11] Calc Global P:  65%|██████▍   | 11/17 [00:04<00:01,  3.52it/s]"
     ]
    },
    {
     "name": "stdout",
     "output_type": "stream",
     "text": [
      "241 --- torch.Size([2, 2052])\n",
      "99 --- torch.Size([2, 2052])\n",
      "737 torch.Size([2, 2052])\n",
      "EDGE_INDEX: torch.Size([2, 2052])\t\tLOOP_INDEX: torch.Size([2, 737])\n",
      "241 --- torch.Size([2, 2052])\n",
      "99 --- torch.Size([2, 2052])\n",
      "737 torch.Size([2, 2052])\n",
      "EDGE_INDEX: torch.Size([2, 2052])\t\tLOOP_INDEX: torch.Size([2, 737])\n"
     ]
    },
    {
     "name": "stderr",
     "output_type": "stream",
     "text": [
      "[Joint E11] Calc Global P:  71%|███████   | 12/17 [00:04<00:01,  3.60it/s]"
     ]
    },
    {
     "name": "stdout",
     "output_type": "stream",
     "text": [
      "241 --- torch.Size([2, 2270])\n",
      "99 --- torch.Size([2, 2270])\n",
      "800 torch.Size([2, 2270])\n",
      "EDGE_INDEX: torch.Size([2, 2270])\t\tLOOP_INDEX: torch.Size([2, 800])\n",
      "241 --- torch.Size([2, 2270])\n",
      "99 --- torch.Size([2, 2270])\n",
      "800 torch.Size([2, 2270])\n",
      "EDGE_INDEX: torch.Size([2, 2270])\t\tLOOP_INDEX: torch.Size([2, 800])\n"
     ]
    },
    {
     "name": "stderr",
     "output_type": "stream",
     "text": [
      "[Joint E11] Calc Global P:  76%|███████▋  | 13/17 [00:05<00:01,  3.68it/s]"
     ]
    },
    {
     "name": "stdout",
     "output_type": "stream",
     "text": [
      "241 --- torch.Size([2, 1560])\n",
      "99 --- torch.Size([2, 1560])\n",
      "677 torch.Size([2, 1560])\n",
      "EDGE_INDEX: torch.Size([2, 1560])\t\tLOOP_INDEX: torch.Size([2, 677])\n",
      "241 --- torch.Size([2, 1560])\n",
      "99 --- torch.Size([2, 1560])\n",
      "677 torch.Size([2, 1560])\n",
      "EDGE_INDEX: torch.Size([2, 1560])\t\tLOOP_INDEX: torch.Size([2, 677])\n"
     ]
    },
    {
     "name": "stderr",
     "output_type": "stream",
     "text": [
      "[Joint E11] Calc Global P:  82%|████████▏ | 14/17 [00:05<00:00,  3.71it/s]"
     ]
    },
    {
     "name": "stdout",
     "output_type": "stream",
     "text": [
      "241 --- torch.Size([2, 1450])\n",
      "99 --- torch.Size([2, 1450])\n",
      "642 torch.Size([2, 1450])\n",
      "EDGE_INDEX: torch.Size([2, 1450])\t\tLOOP_INDEX: torch.Size([2, 642])\n",
      "241 --- torch.Size([2, 1450])\n",
      "99 --- torch.Size([2, 1450])\n",
      "642 torch.Size([2, 1450])\n",
      "EDGE_INDEX: torch.Size([2, 1450])\t\tLOOP_INDEX: torch.Size([2, 642])\n"
     ]
    },
    {
     "name": "stderr",
     "output_type": "stream",
     "text": [
      "[Joint E11] Calc Global P:  88%|████████▊ | 15/17 [00:05<00:00,  3.78it/s]"
     ]
    },
    {
     "name": "stdout",
     "output_type": "stream",
     "text": [
      "241 --- torch.Size([2, 1412])\n",
      "99 --- torch.Size([2, 1412])\n",
      "628 torch.Size([2, 1412])\n",
      "EDGE_INDEX: torch.Size([2, 1412])\t\tLOOP_INDEX: torch.Size([2, 628])\n",
      "241 --- torch.Size([2, 1412])\n",
      "99 --- torch.Size([2, 1412])\n",
      "628 torch.Size([2, 1412])\n",
      "EDGE_INDEX: torch.Size([2, 1412])\t\tLOOP_INDEX: torch.Size([2, 628])\n"
     ]
    },
    {
     "name": "stderr",
     "output_type": "stream",
     "text": [
      "[Joint E11] Calc Global P:  94%|█████████▍| 16/17 [00:05<00:00,  3.87it/s]"
     ]
    },
    {
     "name": "stdout",
     "output_type": "stream",
     "text": [
      "241 --- torch.Size([2, 1662])\n",
      "99 --- torch.Size([2, 1662])\n",
      "666 torch.Size([2, 1662])\n",
      "EDGE_INDEX: torch.Size([2, 1662])\t\tLOOP_INDEX: torch.Size([2, 666])\n",
      "241 --- torch.Size([2, 1662])\n",
      "99 --- torch.Size([2, 1662])\n",
      "666 torch.Size([2, 1662])\n",
      "EDGE_INDEX: torch.Size([2, 1662])\t\tLOOP_INDEX: torch.Size([2, 666])\n"
     ]
    },
    {
     "name": "stderr",
     "output_type": "stream",
     "text": [
      "                                                                          "
     ]
    },
    {
     "name": "stdout",
     "output_type": "stream",
     "text": [
      "241 --- torch.Size([2, 1332])\n",
      "99 --- torch.Size([2, 1332])\n",
      "530 torch.Size([2, 1332])\n",
      "EDGE_INDEX: torch.Size([2, 1332])\t\tLOOP_INDEX: torch.Size([2, 530])\n",
      "241 --- torch.Size([2, 1332])\n",
      "99 --- torch.Size([2, 1332])\n",
      "530 torch.Size([2, 1332])\n",
      "EDGE_INDEX: torch.Size([2, 1332])\t\tLOOP_INDEX: torch.Size([2, 530])\n"
     ]
    },
    {
     "name": "stderr",
     "output_type": "stream",
     "text": [
      "\r"
     ]
    },
    {
     "name": "stdout",
     "output_type": "stream",
     "text": [
      "241 --- torch.Size([2, 1906])\n",
      "99 --- torch.Size([2, 1906])\n",
      "737 torch.Size([2, 1906])\n",
      "EDGE_INDEX: torch.Size([2, 1906])\t\tLOOP_INDEX: torch.Size([2, 737])\n",
      "241 --- torch.Size([2, 1906])\n",
      "99 --- torch.Size([2, 1906])\n",
      "737 torch.Size([2, 1906])\n",
      "EDGE_INDEX: torch.Size([2, 1906])\t\tLOOP_INDEX: torch.Size([2, 737])\n",
      "241 --- torch.Size([2, 1736])\n",
      "99 --- torch.Size([2, 1736])\n",
      "705 torch.Size([2, 1736])\n",
      "EDGE_INDEX: torch.Size([2, 1736])\t\tLOOP_INDEX: torch.Size([2, 705])\n",
      "241 --- torch.Size([2, 1736])\n",
      "99 --- torch.Size([2, 1736])\n",
      "705 torch.Size([2, 1736])\n",
      "EDGE_INDEX: torch.Size([2, 1736])\t\tLOOP_INDEX: torch.Size([2, 705])\n",
      "241 --- torch.Size([2, 1520])\n",
      "99 --- torch.Size([2, 1520])\n",
      "644 torch.Size([2, 1520])\n",
      "EDGE_INDEX: torch.Size([2, 1520])\t\tLOOP_INDEX: torch.Size([2, 644])\n",
      "241 --- torch.Size([2, 1520])\n",
      "99 --- torch.Size([2, 1520])\n",
      "644 torch.Size([2, 1520])\n",
      "EDGE_INDEX: torch.Size([2, 1520])\t\tLOOP_INDEX: torch.Size([2, 644])\n",
      "241 --- torch.Size([2, 1756])\n",
      "99 --- torch.Size([2, 1756])\n",
      "718 torch.Size([2, 1756])\n",
      "EDGE_INDEX: torch.Size([2, 1756])\t\tLOOP_INDEX: torch.Size([2, 718])\n",
      "241 --- torch.Size([2, 1756])\n",
      "99 --- torch.Size([2, 1756])\n",
      "718 torch.Size([2, 1756])\n",
      "EDGE_INDEX: torch.Size([2, 1756])\t\tLOOP_INDEX: torch.Size([2, 718])\n",
      "241 --- torch.Size([2, 1696])\n",
      "99 --- torch.Size([2, 1696])\n",
      "666 torch.Size([2, 1696])\n",
      "EDGE_INDEX: torch.Size([2, 1696])\t\tLOOP_INDEX: torch.Size([2, 666])\n",
      "241 --- torch.Size([2, 1696])\n",
      "99 --- torch.Size([2, 1696])\n",
      "666 torch.Size([2, 1696])\n",
      "EDGE_INDEX: torch.Size([2, 1696])\t\tLOOP_INDEX: torch.Size([2, 666])\n",
      "241 --- torch.Size([2, 1720])\n",
      "99 --- torch.Size([2, 1720])\n",
      "695 torch.Size([2, 1720])\n",
      "EDGE_INDEX: torch.Size([2, 1720])\t\tLOOP_INDEX: torch.Size([2, 695])\n",
      "241 --- torch.Size([2, 1720])\n",
      "99 --- torch.Size([2, 1720])\n",
      "695 torch.Size([2, 1720])\n",
      "EDGE_INDEX: torch.Size([2, 1720])\t\tLOOP_INDEX: torch.Size([2, 695])\n",
      "241 --- torch.Size([2, 1852])\n",
      "99 --- torch.Size([2, 1852])\n",
      "704 torch.Size([2, 1852])\n",
      "EDGE_INDEX: torch.Size([2, 1852])\t\tLOOP_INDEX: torch.Size([2, 704])\n",
      "241 --- torch.Size([2, 1852])\n",
      "99 --- torch.Size([2, 1852])\n",
      "704 torch.Size([2, 1852])\n",
      "EDGE_INDEX: torch.Size([2, 1852])\t\tLOOP_INDEX: torch.Size([2, 704])\n",
      "241 --- torch.Size([2, 1400])\n",
      "99 --- torch.Size([2, 1400])\n",
      "620 torch.Size([2, 1400])\n",
      "EDGE_INDEX: torch.Size([2, 1400])\t\tLOOP_INDEX: torch.Size([2, 620])\n",
      "241 --- torch.Size([2, 1400])\n",
      "99 --- torch.Size([2, 1400])\n",
      "620 torch.Size([2, 1400])\n",
      "EDGE_INDEX: torch.Size([2, 1400])\t\tLOOP_INDEX: torch.Size([2, 620])\n",
      "241 --- torch.Size([2, 1704])\n",
      "99 --- torch.Size([2, 1704])\n",
      "684 torch.Size([2, 1704])\n",
      "EDGE_INDEX: torch.Size([2, 1704])\t\tLOOP_INDEX: torch.Size([2, 684])\n",
      "241 --- torch.Size([2, 1704])\n",
      "99 --- torch.Size([2, 1704])\n",
      "684 torch.Size([2, 1704])\n",
      "EDGE_INDEX: torch.Size([2, 1704])\t\tLOOP_INDEX: torch.Size([2, 684])\n",
      "241 --- torch.Size([2, 1360])\n",
      "99 --- torch.Size([2, 1360])\n",
      "608 torch.Size([2, 1360])\n",
      "EDGE_INDEX: torch.Size([2, 1360])\t\tLOOP_INDEX: torch.Size([2, 608])\n",
      "241 --- torch.Size([2, 1360])\n",
      "99 --- torch.Size([2, 1360])\n",
      "608 torch.Size([2, 1360])\n",
      "EDGE_INDEX: torch.Size([2, 1360])\t\tLOOP_INDEX: torch.Size([2, 608])\n",
      "241 --- torch.Size([2, 1322])\n",
      "99 --- torch.Size([2, 1322])\n",
      "612 torch.Size([2, 1322])\n",
      "EDGE_INDEX: torch.Size([2, 1322])\t\tLOOP_INDEX: torch.Size([2, 612])\n",
      "241 --- torch.Size([2, 1322])\n",
      "99 --- torch.Size([2, 1322])\n",
      "612 torch.Size([2, 1322])\n",
      "EDGE_INDEX: torch.Size([2, 1322])\t\tLOOP_INDEX: torch.Size([2, 612])\n",
      "241 --- torch.Size([2, 1646])\n",
      "99 --- torch.Size([2, 1646])\n",
      "670 torch.Size([2, 1646])\n",
      "EDGE_INDEX: torch.Size([2, 1646])\t\tLOOP_INDEX: torch.Size([2, 670])\n",
      "241 --- torch.Size([2, 1646])\n",
      "99 --- torch.Size([2, 1646])\n",
      "670 torch.Size([2, 1646])\n",
      "EDGE_INDEX: torch.Size([2, 1646])\t\tLOOP_INDEX: torch.Size([2, 670])\n",
      "241 --- torch.Size([2, 1456])\n",
      "99 --- torch.Size([2, 1456])\n",
      "628 torch.Size([2, 1456])\n",
      "EDGE_INDEX: torch.Size([2, 1456])\t\tLOOP_INDEX: torch.Size([2, 628])\n",
      "241 --- torch.Size([2, 1456])\n",
      "99 --- torch.Size([2, 1456])\n",
      "628 torch.Size([2, 1456])\n",
      "EDGE_INDEX: torch.Size([2, 1456])\t\tLOOP_INDEX: torch.Size([2, 628])\n",
      "241 --- torch.Size([2, 1648])\n",
      "99 --- torch.Size([2, 1648])\n",
      "652 torch.Size([2, 1648])\n",
      "EDGE_INDEX: torch.Size([2, 1648])\t\tLOOP_INDEX: torch.Size([2, 652])\n",
      "241 --- torch.Size([2, 1648])\n",
      "99 --- torch.Size([2, 1648])\n",
      "652 torch.Size([2, 1648])\n",
      "EDGE_INDEX: torch.Size([2, 1648])\t\tLOOP_INDEX: torch.Size([2, 652])\n",
      "241 --- torch.Size([2, 1784])\n",
      "99 --- torch.Size([2, 1784])\n",
      "703 torch.Size([2, 1784])\n",
      "EDGE_INDEX: torch.Size([2, 1784])\t\tLOOP_INDEX: torch.Size([2, 703])\n",
      "241 --- torch.Size([2, 1784])\n",
      "99 --- torch.Size([2, 1784])\n",
      "703 torch.Size([2, 1784])\n",
      "EDGE_INDEX: torch.Size([2, 1784])\t\tLOOP_INDEX: torch.Size([2, 703])\n",
      "241 --- torch.Size([2, 1618])\n",
      "99 --- torch.Size([2, 1618])\n",
      "674 torch.Size([2, 1618])\n",
      "EDGE_INDEX: torch.Size([2, 1618])\t\tLOOP_INDEX: torch.Size([2, 674])\n",
      "241 --- torch.Size([2, 1618])\n",
      "99 --- torch.Size([2, 1618])\n",
      "674 torch.Size([2, 1618])\n",
      "EDGE_INDEX: torch.Size([2, 1618])\t\tLOOP_INDEX: torch.Size([2, 674])\n",
      "241 --- torch.Size([2, 1276])\n",
      "99 --- torch.Size([2, 1276])\n",
      "527 torch.Size([2, 1276])\n",
      "EDGE_INDEX: torch.Size([2, 1276])\t\tLOOP_INDEX: torch.Size([2, 527])\n",
      "241 --- torch.Size([2, 1276])\n",
      "99 --- torch.Size([2, 1276])\n",
      "527 torch.Size([2, 1276])\n",
      "EDGE_INDEX: torch.Size([2, 1276])\t\tLOOP_INDEX: torch.Size([2, 527])\n",
      "241 --- torch.Size([2, 466])\n",
      "99 --- torch.Size([2, 466])\n",
      "171 torch.Size([2, 466])\n",
      "EDGE_INDEX: torch.Size([2, 466])\t\tLOOP_INDEX: torch.Size([2, 171])\n",
      "241 --- torch.Size([2, 466])\n",
      "99 --- torch.Size([2, 466])\n",
      "171 torch.Size([2, 466])\n",
      "EDGE_INDEX: torch.Size([2, 466])\t\tLOOP_INDEX: torch.Size([2, 171])\n",
      "241 --- torch.Size([2, 414])\n",
      "99 --- torch.Size([2, 414])\n",
      "166 torch.Size([2, 414])\n",
      "EDGE_INDEX: torch.Size([2, 414])\t\tLOOP_INDEX: torch.Size([2, 166])\n",
      "241 --- torch.Size([2, 414])\n",
      "99 --- torch.Size([2, 414])\n",
      "166 torch.Size([2, 414])\n",
      "EDGE_INDEX: torch.Size([2, 414])\t\tLOOP_INDEX: torch.Size([2, 166])\n",
      "241 --- torch.Size([2, 572])\n",
      "99 --- torch.Size([2, 572])\n",
      "208 torch.Size([2, 572])\n",
      "EDGE_INDEX: torch.Size([2, 572])\t\tLOOP_INDEX: torch.Size([2, 208])\n",
      "241 --- torch.Size([2, 572])\n",
      "99 --- torch.Size([2, 572])\n",
      "208 torch.Size([2, 572])\n",
      "EDGE_INDEX: torch.Size([2, 572])\t\tLOOP_INDEX: torch.Size([2, 208])\n",
      "241 --- torch.Size([2, 522])\n",
      "99 --- torch.Size([2, 522])\n",
      "182 torch.Size([2, 522])\n",
      "EDGE_INDEX: torch.Size([2, 522])\t\tLOOP_INDEX: torch.Size([2, 182])\n",
      "241 --- torch.Size([2, 522])\n",
      "99 --- torch.Size([2, 522])\n",
      "182 torch.Size([2, 522])\n",
      "EDGE_INDEX: torch.Size([2, 522])\t\tLOOP_INDEX: torch.Size([2, 182])\n",
      "241 --- torch.Size([2, 454])\n",
      "99 --- torch.Size([2, 454])\n",
      "173 torch.Size([2, 454])\n",
      "EDGE_INDEX: torch.Size([2, 454])\t\tLOOP_INDEX: torch.Size([2, 173])\n",
      "241 --- torch.Size([2, 454])\n",
      "99 --- torch.Size([2, 454])\n",
      "173 torch.Size([2, 454])\n",
      "EDGE_INDEX: torch.Size([2, 454])\t\tLOOP_INDEX: torch.Size([2, 173])\n",
      "241 --- torch.Size([2, 286])\n",
      "99 --- torch.Size([2, 286])\n",
      "134 torch.Size([2, 286])\n",
      "EDGE_INDEX: torch.Size([2, 286])\t\tLOOP_INDEX: torch.Size([2, 134])\n",
      "241 --- torch.Size([2, 286])\n",
      "99 --- torch.Size([2, 286])\n",
      "134 torch.Size([2, 286])\n",
      "EDGE_INDEX: torch.Size([2, 286])\t\tLOOP_INDEX: torch.Size([2, 134])\n",
      "241 --- torch.Size([2, 462])\n",
      "99 --- torch.Size([2, 462])\n",
      "182 torch.Size([2, 462])\n",
      "EDGE_INDEX: torch.Size([2, 462])\t\tLOOP_INDEX: torch.Size([2, 182])\n",
      "241 --- torch.Size([2, 462])\n",
      "99 --- torch.Size([2, 462])\n",
      "182 torch.Size([2, 462])\n",
      "EDGE_INDEX: torch.Size([2, 462])\t\tLOOP_INDEX: torch.Size([2, 182])\n",
      "241 --- torch.Size([2, 700])\n",
      "99 --- torch.Size([2, 700])\n",
      "238 torch.Size([2, 700])\n",
      "EDGE_INDEX: torch.Size([2, 700])\t\tLOOP_INDEX: torch.Size([2, 238])\n",
      "241 --- torch.Size([2, 700])\n",
      "99 --- torch.Size([2, 700])\n",
      "238 torch.Size([2, 700])\n",
      "EDGE_INDEX: torch.Size([2, 700])\t\tLOOP_INDEX: torch.Size([2, 238])\n",
      "241 --- torch.Size([2, 452])\n",
      "99 --- torch.Size([2, 452])\n",
      "182 torch.Size([2, 452])\n",
      "EDGE_INDEX: torch.Size([2, 452])\t\tLOOP_INDEX: torch.Size([2, 182])\n",
      "241 --- torch.Size([2, 452])\n",
      "99 --- torch.Size([2, 452])\n",
      "182 torch.Size([2, 452])\n",
      "EDGE_INDEX: torch.Size([2, 452])\t\tLOOP_INDEX: torch.Size([2, 182])\n",
      "241 --- torch.Size([2, 576])\n",
      "99 --- torch.Size([2, 576])\n",
      "197 torch.Size([2, 576])\n",
      "EDGE_INDEX: torch.Size([2, 576])\t\tLOOP_INDEX: torch.Size([2, 197])\n",
      "241 --- torch.Size([2, 576])\n",
      "99 --- torch.Size([2, 576])\n",
      "197 torch.Size([2, 576])\n",
      "EDGE_INDEX: torch.Size([2, 576])\t\tLOOP_INDEX: torch.Size([2, 197])\n",
      "241 --- torch.Size([2, 538])\n",
      "99 --- torch.Size([2, 538])\n",
      "210 torch.Size([2, 538])\n",
      "EDGE_INDEX: torch.Size([2, 538])\t\tLOOP_INDEX: torch.Size([2, 210])\n",
      "241 --- torch.Size([2, 538])\n",
      "99 --- torch.Size([2, 538])\n",
      "210 torch.Size([2, 538])\n",
      "EDGE_INDEX: torch.Size([2, 538])\t\tLOOP_INDEX: torch.Size([2, 210])\n",
      "241 --- torch.Size([2, 358])\n",
      "99 --- torch.Size([2, 358])\n",
      "155 torch.Size([2, 358])\n",
      "EDGE_INDEX: torch.Size([2, 358])\t\tLOOP_INDEX: torch.Size([2, 155])\n",
      "241 --- torch.Size([2, 358])\n",
      "99 --- torch.Size([2, 358])\n",
      "155 torch.Size([2, 358])\n",
      "EDGE_INDEX: torch.Size([2, 358])\t\tLOOP_INDEX: torch.Size([2, 155])\n",
      "241 --- torch.Size([2, 368])\n",
      "99 --- torch.Size([2, 368])\n",
      "168 torch.Size([2, 368])\n",
      "EDGE_INDEX: torch.Size([2, 368])\t\tLOOP_INDEX: torch.Size([2, 168])\n",
      "241 --- torch.Size([2, 368])\n",
      "99 --- torch.Size([2, 368])\n",
      "168 torch.Size([2, 368])\n",
      "EDGE_INDEX: torch.Size([2, 368])\t\tLOOP_INDEX: torch.Size([2, 168])\n",
      "241 --- torch.Size([2, 368])\n",
      "99 --- torch.Size([2, 368])\n",
      "155 torch.Size([2, 368])\n",
      "EDGE_INDEX: torch.Size([2, 368])\t\tLOOP_INDEX: torch.Size([2, 155])\n",
      "241 --- torch.Size([2, 368])\n",
      "99 --- torch.Size([2, 368])\n",
      "155 torch.Size([2, 368])\n",
      "EDGE_INDEX: torch.Size([2, 368])\t\tLOOP_INDEX: torch.Size([2, 155])\n",
      "241 --- torch.Size([2, 206])\n",
      "99 --- torch.Size([2, 206])\n",
      "68 torch.Size([2, 206])\n",
      "EDGE_INDEX: torch.Size([2, 206])\t\tLOOP_INDEX: torch.Size([2, 68])\n",
      "241 --- torch.Size([2, 206])\n",
      "99 --- torch.Size([2, 206])\n",
      "68 torch.Size([2, 206])\n",
      "EDGE_INDEX: torch.Size([2, 206])\t\tLOOP_INDEX: torch.Size([2, 68])\n"
     ]
    },
    {
     "name": "stderr",
     "output_type": "stream",
     "text": [
      "[Joint E12] Calc Global P:   6%|▌         | 1/17 [00:00<00:04,  3.90it/s]"
     ]
    },
    {
     "name": "stdout",
     "output_type": "stream",
     "text": [
      "241 --- torch.Size([2, 1792])\n",
      "99 --- torch.Size([2, 1792])\n",
      "696 torch.Size([2, 1792])\n",
      "EDGE_INDEX: torch.Size([2, 1792])\t\tLOOP_INDEX: torch.Size([2, 696])\n",
      "241 --- torch.Size([2, 1792])\n",
      "99 --- torch.Size([2, 1792])\n",
      "696 torch.Size([2, 1792])\n",
      "EDGE_INDEX: torch.Size([2, 1792])\t\tLOOP_INDEX: torch.Size([2, 696])\n"
     ]
    },
    {
     "name": "stderr",
     "output_type": "stream",
     "text": [
      "[Joint E12] Calc Global P:  12%|█▏        | 2/17 [00:00<00:03,  3.93it/s]"
     ]
    },
    {
     "name": "stdout",
     "output_type": "stream",
     "text": [
      "241 --- torch.Size([2, 1818])\n",
      "99 --- torch.Size([2, 1818])\n",
      "704 torch.Size([2, 1818])\n",
      "EDGE_INDEX: torch.Size([2, 1818])\t\tLOOP_INDEX: torch.Size([2, 704])\n",
      "241 --- torch.Size([2, 1818])\n",
      "99 --- torch.Size([2, 1818])\n",
      "704 torch.Size([2, 1818])\n",
      "EDGE_INDEX: torch.Size([2, 1818])\t\tLOOP_INDEX: torch.Size([2, 704])\n"
     ]
    },
    {
     "name": "stderr",
     "output_type": "stream",
     "text": [
      "[Joint E12] Calc Global P:  18%|█▊        | 3/17 [00:00<00:03,  3.90it/s]"
     ]
    },
    {
     "name": "stdout",
     "output_type": "stream",
     "text": [
      "241 --- torch.Size([2, 1634])\n",
      "99 --- torch.Size([2, 1634])\n",
      "689 torch.Size([2, 1634])\n",
      "EDGE_INDEX: torch.Size([2, 1634])\t\tLOOP_INDEX: torch.Size([2, 689])\n",
      "241 --- torch.Size([2, 1634])\n",
      "99 --- torch.Size([2, 1634])\n",
      "689 torch.Size([2, 1634])\n",
      "EDGE_INDEX: torch.Size([2, 1634])\t\tLOOP_INDEX: torch.Size([2, 689])\n"
     ]
    },
    {
     "name": "stderr",
     "output_type": "stream",
     "text": [
      "[Joint E12] Calc Global P:  24%|██▎       | 4/17 [00:01<00:03,  3.86it/s]"
     ]
    },
    {
     "name": "stdout",
     "output_type": "stream",
     "text": [
      "241 --- torch.Size([2, 1808])\n",
      "99 --- torch.Size([2, 1808])\n",
      "716 torch.Size([2, 1808])\n",
      "EDGE_INDEX: torch.Size([2, 1808])\t\tLOOP_INDEX: torch.Size([2, 716])\n",
      "241 --- torch.Size([2, 1808])\n",
      "99 --- torch.Size([2, 1808])\n",
      "716 torch.Size([2, 1808])\n",
      "EDGE_INDEX: torch.Size([2, 1808])\t\tLOOP_INDEX: torch.Size([2, 716])\n"
     ]
    },
    {
     "name": "stderr",
     "output_type": "stream",
     "text": [
      "[Joint E12] Calc Global P:  29%|██▉       | 5/17 [00:01<00:03,  3.87it/s]"
     ]
    },
    {
     "name": "stdout",
     "output_type": "stream",
     "text": [
      "241 --- torch.Size([2, 1886])\n",
      "99 --- torch.Size([2, 1886])\n",
      "723 torch.Size([2, 1886])\n",
      "EDGE_INDEX: torch.Size([2, 1886])\t\tLOOP_INDEX: torch.Size([2, 723])\n",
      "241 --- torch.Size([2, 1886])\n",
      "99 --- torch.Size([2, 1886])\n",
      "723 torch.Size([2, 1886])\n",
      "EDGE_INDEX: torch.Size([2, 1886])\t\tLOOP_INDEX: torch.Size([2, 723])\n"
     ]
    },
    {
     "name": "stderr",
     "output_type": "stream",
     "text": [
      "[Joint E12] Calc Global P:  35%|███▌      | 6/17 [00:01<00:02,  3.95it/s]"
     ]
    },
    {
     "name": "stdout",
     "output_type": "stream",
     "text": [
      "241 --- torch.Size([2, 1472])\n",
      "99 --- torch.Size([2, 1472])\n",
      "626 torch.Size([2, 1472])\n",
      "EDGE_INDEX: torch.Size([2, 1472])\t\tLOOP_INDEX: torch.Size([2, 626])\n",
      "241 --- torch.Size([2, 1472])\n",
      "99 --- torch.Size([2, 1472])\n",
      "626 torch.Size([2, 1472])\n",
      "EDGE_INDEX: torch.Size([2, 1472])\t\tLOOP_INDEX: torch.Size([2, 626])\n"
     ]
    },
    {
     "name": "stderr",
     "output_type": "stream",
     "text": [
      "[Joint E12] Calc Global P:  41%|████      | 7/17 [00:01<00:02,  3.88it/s]"
     ]
    },
    {
     "name": "stdout",
     "output_type": "stream",
     "text": [
      "241 --- torch.Size([2, 1624])\n",
      "99 --- torch.Size([2, 1624])\n",
      "657 torch.Size([2, 1624])\n",
      "EDGE_INDEX: torch.Size([2, 1624])\t\tLOOP_INDEX: torch.Size([2, 657])\n",
      "241 --- torch.Size([2, 1624])\n",
      "99 --- torch.Size([2, 1624])\n",
      "657 torch.Size([2, 1624])\n",
      "EDGE_INDEX: torch.Size([2, 1624])\t\tLOOP_INDEX: torch.Size([2, 657])\n"
     ]
    },
    {
     "name": "stderr",
     "output_type": "stream",
     "text": [
      "[Joint E12] Calc Global P:  47%|████▋     | 8/17 [00:02<00:02,  3.85it/s]"
     ]
    },
    {
     "name": "stdout",
     "output_type": "stream",
     "text": [
      "241 --- torch.Size([2, 2122])\n",
      "99 --- torch.Size([2, 2122])\n",
      "792 torch.Size([2, 2122])\n",
      "EDGE_INDEX: torch.Size([2, 2122])\t\tLOOP_INDEX: torch.Size([2, 792])\n",
      "241 --- torch.Size([2, 2122])\n",
      "99 --- torch.Size([2, 2122])\n",
      "792 torch.Size([2, 2122])\n",
      "EDGE_INDEX: torch.Size([2, 2122])\t\tLOOP_INDEX: torch.Size([2, 792])\n"
     ]
    },
    {
     "name": "stderr",
     "output_type": "stream",
     "text": [
      "[Joint E12] Calc Global P:  53%|█████▎    | 9/17 [00:02<00:02,  3.86it/s]"
     ]
    },
    {
     "name": "stdout",
     "output_type": "stream",
     "text": [
      "241 --- torch.Size([2, 1822])\n",
      "99 --- torch.Size([2, 1822])\n",
      "721 torch.Size([2, 1822])\n",
      "EDGE_INDEX: torch.Size([2, 1822])\t\tLOOP_INDEX: torch.Size([2, 721])\n",
      "241 --- torch.Size([2, 1822])\n",
      "99 --- torch.Size([2, 1822])\n",
      "721 torch.Size([2, 1822])\n",
      "EDGE_INDEX: torch.Size([2, 1822])\t\tLOOP_INDEX: torch.Size([2, 721])\n"
     ]
    },
    {
     "name": "stderr",
     "output_type": "stream",
     "text": [
      "[Joint E12] Calc Global P:  59%|█████▉    | 10/17 [00:02<00:01,  3.87it/s]"
     ]
    },
    {
     "name": "stdout",
     "output_type": "stream",
     "text": [
      "241 --- torch.Size([2, 1654])\n",
      "99 --- torch.Size([2, 1654])\n",
      "671 torch.Size([2, 1654])\n",
      "EDGE_INDEX: torch.Size([2, 1654])\t\tLOOP_INDEX: torch.Size([2, 671])\n",
      "241 --- torch.Size([2, 1654])\n",
      "99 --- torch.Size([2, 1654])\n",
      "671 torch.Size([2, 1654])\n",
      "EDGE_INDEX: torch.Size([2, 1654])\t\tLOOP_INDEX: torch.Size([2, 671])\n"
     ]
    },
    {
     "name": "stderr",
     "output_type": "stream",
     "text": [
      "[Joint E12] Calc Global P:  65%|██████▍   | 11/17 [00:02<00:01,  3.88it/s]"
     ]
    },
    {
     "name": "stdout",
     "output_type": "stream",
     "text": [
      "241 --- torch.Size([2, 2052])\n",
      "99 --- torch.Size([2, 2052])\n",
      "737 torch.Size([2, 2052])\n",
      "EDGE_INDEX: torch.Size([2, 2052])\t\tLOOP_INDEX: torch.Size([2, 737])\n",
      "241 --- torch.Size([2, 2052])\n",
      "99 --- torch.Size([2, 2052])\n",
      "737 torch.Size([2, 2052])\n",
      "EDGE_INDEX: torch.Size([2, 2052])\t\tLOOP_INDEX: torch.Size([2, 737])\n"
     ]
    },
    {
     "name": "stderr",
     "output_type": "stream",
     "text": [
      "[Joint E12] Calc Global P:  71%|███████   | 12/17 [00:03<00:01,  3.88it/s]"
     ]
    },
    {
     "name": "stdout",
     "output_type": "stream",
     "text": [
      "241 --- torch.Size([2, 2270])\n",
      "99 --- torch.Size([2, 2270])\n",
      "800 torch.Size([2, 2270])\n",
      "EDGE_INDEX: torch.Size([2, 2270])\t\tLOOP_INDEX: torch.Size([2, 800])\n",
      "241 --- torch.Size([2, 2270])\n",
      "99 --- torch.Size([2, 2270])\n",
      "800 torch.Size([2, 2270])\n",
      "EDGE_INDEX: torch.Size([2, 2270])\t\tLOOP_INDEX: torch.Size([2, 800])\n"
     ]
    },
    {
     "name": "stderr",
     "output_type": "stream",
     "text": [
      "[Joint E12] Calc Global P:  76%|███████▋  | 13/17 [00:03<00:01,  3.90it/s]"
     ]
    },
    {
     "name": "stdout",
     "output_type": "stream",
     "text": [
      "241 --- torch.Size([2, 1560])\n",
      "99 --- torch.Size([2, 1560])\n",
      "677 torch.Size([2, 1560])\n",
      "EDGE_INDEX: torch.Size([2, 1560])\t\tLOOP_INDEX: torch.Size([2, 677])\n",
      "241 --- torch.Size([2, 1560])\n",
      "99 --- torch.Size([2, 1560])\n",
      "677 torch.Size([2, 1560])\n",
      "EDGE_INDEX: torch.Size([2, 1560])\t\tLOOP_INDEX: torch.Size([2, 677])\n"
     ]
    },
    {
     "name": "stderr",
     "output_type": "stream",
     "text": [
      "[Joint E12] Calc Global P:  82%|████████▏ | 14/17 [00:03<00:00,  3.87it/s]"
     ]
    },
    {
     "name": "stdout",
     "output_type": "stream",
     "text": [
      "241 --- torch.Size([2, 1450])\n",
      "99 --- torch.Size([2, 1450])\n",
      "642 torch.Size([2, 1450])\n",
      "EDGE_INDEX: torch.Size([2, 1450])\t\tLOOP_INDEX: torch.Size([2, 642])\n",
      "241 --- torch.Size([2, 1450])\n",
      "99 --- torch.Size([2, 1450])\n",
      "642 torch.Size([2, 1450])\n",
      "EDGE_INDEX: torch.Size([2, 1450])\t\tLOOP_INDEX: torch.Size([2, 642])\n"
     ]
    },
    {
     "name": "stderr",
     "output_type": "stream",
     "text": [
      "[Joint E12] Calc Global P:  88%|████████▊ | 15/17 [00:03<00:00,  3.90it/s]"
     ]
    },
    {
     "name": "stdout",
     "output_type": "stream",
     "text": [
      "241 --- torch.Size([2, 1412])\n",
      "99 --- torch.Size([2, 1412])\n",
      "628 torch.Size([2, 1412])\n",
      "EDGE_INDEX: torch.Size([2, 1412])\t\tLOOP_INDEX: torch.Size([2, 628])\n",
      "241 --- torch.Size([2, 1412])\n",
      "99 --- torch.Size([2, 1412])\n",
      "628 torch.Size([2, 1412])\n",
      "EDGE_INDEX: torch.Size([2, 1412])\t\tLOOP_INDEX: torch.Size([2, 628])\n"
     ]
    },
    {
     "name": "stderr",
     "output_type": "stream",
     "text": [
      "[Joint E12] Calc Global P:  94%|█████████▍| 16/17 [00:04<00:00,  3.81it/s]"
     ]
    },
    {
     "name": "stdout",
     "output_type": "stream",
     "text": [
      "241 --- torch.Size([2, 1662])\n",
      "99 --- torch.Size([2, 1662])\n",
      "666 torch.Size([2, 1662])\n",
      "EDGE_INDEX: torch.Size([2, 1662])\t\tLOOP_INDEX: torch.Size([2, 666])\n",
      "241 --- torch.Size([2, 1662])\n",
      "99 --- torch.Size([2, 1662])\n",
      "666 torch.Size([2, 1662])\n",
      "EDGE_INDEX: torch.Size([2, 1662])\t\tLOOP_INDEX: torch.Size([2, 666])\n"
     ]
    },
    {
     "name": "stderr",
     "output_type": "stream",
     "text": [
      "                                                                          "
     ]
    },
    {
     "name": "stdout",
     "output_type": "stream",
     "text": [
      "241 --- torch.Size([2, 1332])\n",
      "99 --- torch.Size([2, 1332])\n",
      "530 torch.Size([2, 1332])\n",
      "EDGE_INDEX: torch.Size([2, 1332])\t\tLOOP_INDEX: torch.Size([2, 530])\n",
      "241 --- torch.Size([2, 1332])\n",
      "99 --- torch.Size([2, 1332])\n",
      "530 torch.Size([2, 1332])\n",
      "EDGE_INDEX: torch.Size([2, 1332])\t\tLOOP_INDEX: torch.Size([2, 530])\n"
     ]
    },
    {
     "name": "stderr",
     "output_type": "stream",
     "text": [
      "\r"
     ]
    },
    {
     "name": "stdout",
     "output_type": "stream",
     "text": [
      "241 --- torch.Size([2, 1640])\n",
      "99 --- torch.Size([2, 1640])\n",
      "681 torch.Size([2, 1640])\n",
      "EDGE_INDEX: torch.Size([2, 1640])\t\tLOOP_INDEX: torch.Size([2, 681])\n",
      "241 --- torch.Size([2, 1640])\n",
      "99 --- torch.Size([2, 1640])\n",
      "681 torch.Size([2, 1640])\n",
      "EDGE_INDEX: torch.Size([2, 1640])\t\tLOOP_INDEX: torch.Size([2, 681])\n",
      "241 --- torch.Size([2, 1618])\n",
      "99 --- torch.Size([2, 1618])\n",
      "679 torch.Size([2, 1618])\n",
      "EDGE_INDEX: torch.Size([2, 1618])\t\tLOOP_INDEX: torch.Size([2, 679])\n",
      "241 --- torch.Size([2, 1618])\n",
      "99 --- torch.Size([2, 1618])\n",
      "679 torch.Size([2, 1618])\n",
      "EDGE_INDEX: torch.Size([2, 1618])\t\tLOOP_INDEX: torch.Size([2, 679])\n",
      "241 --- torch.Size([2, 1632])\n",
      "99 --- torch.Size([2, 1632])\n",
      "661 torch.Size([2, 1632])\n",
      "EDGE_INDEX: torch.Size([2, 1632])\t\tLOOP_INDEX: torch.Size([2, 661])\n",
      "241 --- torch.Size([2, 1632])\n",
      "99 --- torch.Size([2, 1632])\n",
      "661 torch.Size([2, 1632])\n",
      "EDGE_INDEX: torch.Size([2, 1632])\t\tLOOP_INDEX: torch.Size([2, 661])\n",
      "241 --- torch.Size([2, 1564])\n",
      "99 --- torch.Size([2, 1564])\n",
      "669 torch.Size([2, 1564])\n",
      "EDGE_INDEX: torch.Size([2, 1564])\t\tLOOP_INDEX: torch.Size([2, 669])\n",
      "241 --- torch.Size([2, 1564])\n",
      "99 --- torch.Size([2, 1564])\n",
      "669 torch.Size([2, 1564])\n",
      "EDGE_INDEX: torch.Size([2, 1564])\t\tLOOP_INDEX: torch.Size([2, 669])\n",
      "241 --- torch.Size([2, 1514])\n",
      "99 --- torch.Size([2, 1514])\n",
      "640 torch.Size([2, 1514])\n",
      "EDGE_INDEX: torch.Size([2, 1514])\t\tLOOP_INDEX: torch.Size([2, 640])\n",
      "241 --- torch.Size([2, 1514])\n",
      "99 --- torch.Size([2, 1514])\n",
      "640 torch.Size([2, 1514])\n",
      "EDGE_INDEX: torch.Size([2, 1514])\t\tLOOP_INDEX: torch.Size([2, 640])\n",
      "241 --- torch.Size([2, 1622])\n",
      "99 --- torch.Size([2, 1622])\n",
      "673 torch.Size([2, 1622])\n",
      "EDGE_INDEX: torch.Size([2, 1622])\t\tLOOP_INDEX: torch.Size([2, 673])\n",
      "241 --- torch.Size([2, 1622])\n",
      "99 --- torch.Size([2, 1622])\n",
      "673 torch.Size([2, 1622])\n",
      "EDGE_INDEX: torch.Size([2, 1622])\t\tLOOP_INDEX: torch.Size([2, 673])\n",
      "241 --- torch.Size([2, 1626])\n",
      "99 --- torch.Size([2, 1626])\n",
      "672 torch.Size([2, 1626])\n",
      "EDGE_INDEX: torch.Size([2, 1626])\t\tLOOP_INDEX: torch.Size([2, 672])\n",
      "241 --- torch.Size([2, 1626])\n",
      "99 --- torch.Size([2, 1626])\n",
      "672 torch.Size([2, 1626])\n",
      "EDGE_INDEX: torch.Size([2, 1626])\t\tLOOP_INDEX: torch.Size([2, 672])\n",
      "241 --- torch.Size([2, 1730])\n",
      "99 --- torch.Size([2, 1730])\n",
      "694 torch.Size([2, 1730])\n",
      "EDGE_INDEX: torch.Size([2, 1730])\t\tLOOP_INDEX: torch.Size([2, 694])\n",
      "241 --- torch.Size([2, 1730])\n",
      "99 --- torch.Size([2, 1730])\n",
      "694 torch.Size([2, 1730])\n",
      "EDGE_INDEX: torch.Size([2, 1730])\t\tLOOP_INDEX: torch.Size([2, 694])\n",
      "241 --- torch.Size([2, 1772])\n",
      "99 --- torch.Size([2, 1772])\n",
      "695 torch.Size([2, 1772])\n",
      "EDGE_INDEX: torch.Size([2, 1772])\t\tLOOP_INDEX: torch.Size([2, 695])\n",
      "241 --- torch.Size([2, 1772])\n",
      "99 --- torch.Size([2, 1772])\n",
      "695 torch.Size([2, 1772])\n",
      "EDGE_INDEX: torch.Size([2, 1772])\t\tLOOP_INDEX: torch.Size([2, 695])\n",
      "241 --- torch.Size([2, 1936])\n",
      "99 --- torch.Size([2, 1936])\n",
      "721 torch.Size([2, 1936])\n",
      "EDGE_INDEX: torch.Size([2, 1936])\t\tLOOP_INDEX: torch.Size([2, 721])\n",
      "241 --- torch.Size([2, 1936])\n",
      "99 --- torch.Size([2, 1936])\n",
      "721 torch.Size([2, 1936])\n",
      "EDGE_INDEX: torch.Size([2, 1936])\t\tLOOP_INDEX: torch.Size([2, 721])\n",
      "241 --- torch.Size([2, 1908])\n",
      "99 --- torch.Size([2, 1908])\n",
      "740 torch.Size([2, 1908])\n",
      "EDGE_INDEX: torch.Size([2, 1908])\t\tLOOP_INDEX: torch.Size([2, 740])\n",
      "241 --- torch.Size([2, 1908])\n",
      "99 --- torch.Size([2, 1908])\n",
      "740 torch.Size([2, 1908])\n",
      "EDGE_INDEX: torch.Size([2, 1908])\t\tLOOP_INDEX: torch.Size([2, 740])\n",
      "241 --- torch.Size([2, 1732])\n",
      "99 --- torch.Size([2, 1732])\n",
      "667 torch.Size([2, 1732])\n",
      "EDGE_INDEX: torch.Size([2, 1732])\t\tLOOP_INDEX: torch.Size([2, 667])\n",
      "241 --- torch.Size([2, 1732])\n",
      "99 --- torch.Size([2, 1732])\n",
      "667 torch.Size([2, 1732])\n",
      "EDGE_INDEX: torch.Size([2, 1732])\t\tLOOP_INDEX: torch.Size([2, 667])\n",
      "241 --- torch.Size([2, 1610])\n",
      "99 --- torch.Size([2, 1610])\n",
      "657 torch.Size([2, 1610])\n",
      "EDGE_INDEX: torch.Size([2, 1610])\t\tLOOP_INDEX: torch.Size([2, 657])\n",
      "241 --- torch.Size([2, 1610])\n",
      "99 --- torch.Size([2, 1610])\n",
      "657 torch.Size([2, 1610])\n",
      "EDGE_INDEX: torch.Size([2, 1610])\t\tLOOP_INDEX: torch.Size([2, 657])\n",
      "241 --- torch.Size([2, 1748])\n",
      "99 --- torch.Size([2, 1748])\n",
      "698 torch.Size([2, 1748])\n",
      "EDGE_INDEX: torch.Size([2, 1748])\t\tLOOP_INDEX: torch.Size([2, 698])\n",
      "241 --- torch.Size([2, 1748])\n",
      "99 --- torch.Size([2, 1748])\n",
      "698 torch.Size([2, 1748])\n",
      "EDGE_INDEX: torch.Size([2, 1748])\t\tLOOP_INDEX: torch.Size([2, 698])\n",
      "241 --- torch.Size([2, 1758])\n",
      "99 --- torch.Size([2, 1758])\n",
      "694 torch.Size([2, 1758])\n",
      "EDGE_INDEX: torch.Size([2, 1758])\t\tLOOP_INDEX: torch.Size([2, 694])\n",
      "241 --- torch.Size([2, 1758])\n",
      "99 --- torch.Size([2, 1758])\n",
      "694 torch.Size([2, 1758])\n",
      "EDGE_INDEX: torch.Size([2, 1758])\t\tLOOP_INDEX: torch.Size([2, 694])\n",
      "241 --- torch.Size([2, 1900])\n",
      "99 --- torch.Size([2, 1900])\n",
      "712 torch.Size([2, 1900])\n",
      "EDGE_INDEX: torch.Size([2, 1900])\t\tLOOP_INDEX: torch.Size([2, 712])\n",
      "241 --- torch.Size([2, 1900])\n",
      "99 --- torch.Size([2, 1900])\n",
      "712 torch.Size([2, 1900])\n",
      "EDGE_INDEX: torch.Size([2, 1900])\t\tLOOP_INDEX: torch.Size([2, 712])\n",
      "241 --- torch.Size([2, 1144])\n",
      "99 --- torch.Size([2, 1144])\n",
      "489 torch.Size([2, 1144])\n",
      "EDGE_INDEX: torch.Size([2, 1144])\t\tLOOP_INDEX: torch.Size([2, 489])\n",
      "241 --- torch.Size([2, 1144])\n",
      "99 --- torch.Size([2, 1144])\n",
      "489 torch.Size([2, 1144])\n",
      "EDGE_INDEX: torch.Size([2, 1144])\t\tLOOP_INDEX: torch.Size([2, 489])\n",
      "241 --- torch.Size([2, 466])\n",
      "99 --- torch.Size([2, 466])\n",
      "171 torch.Size([2, 466])\n",
      "EDGE_INDEX: torch.Size([2, 466])\t\tLOOP_INDEX: torch.Size([2, 171])\n",
      "241 --- torch.Size([2, 466])\n",
      "99 --- torch.Size([2, 466])\n",
      "171 torch.Size([2, 466])\n",
      "EDGE_INDEX: torch.Size([2, 466])\t\tLOOP_INDEX: torch.Size([2, 171])\n",
      "241 --- torch.Size([2, 414])\n",
      "99 --- torch.Size([2, 414])\n",
      "166 torch.Size([2, 414])\n",
      "EDGE_INDEX: torch.Size([2, 414])\t\tLOOP_INDEX: torch.Size([2, 166])\n",
      "241 --- torch.Size([2, 414])\n",
      "99 --- torch.Size([2, 414])\n",
      "166 torch.Size([2, 414])\n",
      "EDGE_INDEX: torch.Size([2, 414])\t\tLOOP_INDEX: torch.Size([2, 166])\n",
      "241 --- torch.Size([2, 572])\n",
      "99 --- torch.Size([2, 572])\n",
      "208 torch.Size([2, 572])\n",
      "EDGE_INDEX: torch.Size([2, 572])\t\tLOOP_INDEX: torch.Size([2, 208])\n",
      "241 --- torch.Size([2, 572])\n",
      "99 --- torch.Size([2, 572])\n",
      "208 torch.Size([2, 572])\n",
      "EDGE_INDEX: torch.Size([2, 572])\t\tLOOP_INDEX: torch.Size([2, 208])\n",
      "241 --- torch.Size([2, 522])\n",
      "99 --- torch.Size([2, 522])\n",
      "182 torch.Size([2, 522])\n",
      "EDGE_INDEX: torch.Size([2, 522])\t\tLOOP_INDEX: torch.Size([2, 182])\n",
      "241 --- torch.Size([2, 522])\n",
      "99 --- torch.Size([2, 522])\n",
      "182 torch.Size([2, 522])\n",
      "EDGE_INDEX: torch.Size([2, 522])\t\tLOOP_INDEX: torch.Size([2, 182])\n",
      "241 --- torch.Size([2, 454])\n",
      "99 --- torch.Size([2, 454])\n",
      "173 torch.Size([2, 454])\n",
      "EDGE_INDEX: torch.Size([2, 454])\t\tLOOP_INDEX: torch.Size([2, 173])\n",
      "241 --- torch.Size([2, 454])\n",
      "99 --- torch.Size([2, 454])\n",
      "173 torch.Size([2, 454])\n",
      "EDGE_INDEX: torch.Size([2, 454])\t\tLOOP_INDEX: torch.Size([2, 173])\n",
      "241 --- torch.Size([2, 286])\n",
      "99 --- torch.Size([2, 286])\n",
      "134 torch.Size([2, 286])\n",
      "EDGE_INDEX: torch.Size([2, 286])\t\tLOOP_INDEX: torch.Size([2, 134])\n",
      "241 --- torch.Size([2, 286])\n",
      "99 --- torch.Size([2, 286])\n",
      "134 torch.Size([2, 286])\n",
      "EDGE_INDEX: torch.Size([2, 286])\t\tLOOP_INDEX: torch.Size([2, 134])\n",
      "241 --- torch.Size([2, 462])\n",
      "99 --- torch.Size([2, 462])\n",
      "182 torch.Size([2, 462])\n",
      "EDGE_INDEX: torch.Size([2, 462])\t\tLOOP_INDEX: torch.Size([2, 182])\n",
      "241 --- torch.Size([2, 462])\n",
      "99 --- torch.Size([2, 462])\n",
      "182 torch.Size([2, 462])\n",
      "EDGE_INDEX: torch.Size([2, 462])\t\tLOOP_INDEX: torch.Size([2, 182])\n",
      "241 --- torch.Size([2, 700])\n",
      "99 --- torch.Size([2, 700])\n",
      "238 torch.Size([2, 700])\n",
      "EDGE_INDEX: torch.Size([2, 700])\t\tLOOP_INDEX: torch.Size([2, 238])\n",
      "241 --- torch.Size([2, 700])\n",
      "99 --- torch.Size([2, 700])\n",
      "238 torch.Size([2, 700])\n",
      "EDGE_INDEX: torch.Size([2, 700])\t\tLOOP_INDEX: torch.Size([2, 238])\n",
      "241 --- torch.Size([2, 452])\n",
      "99 --- torch.Size([2, 452])\n",
      "182 torch.Size([2, 452])\n",
      "EDGE_INDEX: torch.Size([2, 452])\t\tLOOP_INDEX: torch.Size([2, 182])\n",
      "241 --- torch.Size([2, 452])\n",
      "99 --- torch.Size([2, 452])\n",
      "182 torch.Size([2, 452])\n",
      "EDGE_INDEX: torch.Size([2, 452])\t\tLOOP_INDEX: torch.Size([2, 182])\n",
      "241 --- torch.Size([2, 576])\n",
      "99 --- torch.Size([2, 576])\n",
      "197 torch.Size([2, 576])\n",
      "EDGE_INDEX: torch.Size([2, 576])\t\tLOOP_INDEX: torch.Size([2, 197])\n",
      "241 --- torch.Size([2, 576])\n",
      "99 --- torch.Size([2, 576])\n",
      "197 torch.Size([2, 576])\n",
      "EDGE_INDEX: torch.Size([2, 576])\t\tLOOP_INDEX: torch.Size([2, 197])\n",
      "241 --- torch.Size([2, 538])\n",
      "99 --- torch.Size([2, 538])\n",
      "210 torch.Size([2, 538])\n",
      "EDGE_INDEX: torch.Size([2, 538])\t\tLOOP_INDEX: torch.Size([2, 210])\n",
      "241 --- torch.Size([2, 538])\n",
      "99 --- torch.Size([2, 538])\n",
      "210 torch.Size([2, 538])\n",
      "EDGE_INDEX: torch.Size([2, 538])\t\tLOOP_INDEX: torch.Size([2, 210])\n",
      "241 --- torch.Size([2, 358])\n",
      "99 --- torch.Size([2, 358])\n",
      "155 torch.Size([2, 358])\n",
      "EDGE_INDEX: torch.Size([2, 358])\t\tLOOP_INDEX: torch.Size([2, 155])\n",
      "241 --- torch.Size([2, 358])\n",
      "99 --- torch.Size([2, 358])\n",
      "155 torch.Size([2, 358])\n",
      "EDGE_INDEX: torch.Size([2, 358])\t\tLOOP_INDEX: torch.Size([2, 155])\n",
      "241 --- torch.Size([2, 368])\n",
      "99 --- torch.Size([2, 368])\n",
      "168 torch.Size([2, 368])\n",
      "EDGE_INDEX: torch.Size([2, 368])\t\tLOOP_INDEX: torch.Size([2, 168])\n",
      "241 --- torch.Size([2, 368])\n",
      "99 --- torch.Size([2, 368])\n",
      "168 torch.Size([2, 368])\n",
      "EDGE_INDEX: torch.Size([2, 368])\t\tLOOP_INDEX: torch.Size([2, 168])\n",
      "241 --- torch.Size([2, 368])\n",
      "99 --- torch.Size([2, 368])\n",
      "155 torch.Size([2, 368])\n",
      "EDGE_INDEX: torch.Size([2, 368])\t\tLOOP_INDEX: torch.Size([2, 155])\n",
      "241 --- torch.Size([2, 368])\n",
      "99 --- torch.Size([2, 368])\n",
      "155 torch.Size([2, 368])\n",
      "EDGE_INDEX: torch.Size([2, 368])\t\tLOOP_INDEX: torch.Size([2, 155])\n",
      "241 --- torch.Size([2, 206])\n",
      "99 --- torch.Size([2, 206])\n",
      "68 torch.Size([2, 206])\n",
      "EDGE_INDEX: torch.Size([2, 206])\t\tLOOP_INDEX: torch.Size([2, 68])\n",
      "241 --- torch.Size([2, 206])\n",
      "99 --- torch.Size([2, 206])\n",
      "68 torch.Size([2, 206])\n",
      "EDGE_INDEX: torch.Size([2, 206])\t\tLOOP_INDEX: torch.Size([2, 68])\n"
     ]
    },
    {
     "name": "stderr",
     "output_type": "stream",
     "text": [
      "[Joint E13] Calc Global P:   6%|▌         | 1/17 [00:00<00:04,  3.88it/s]"
     ]
    },
    {
     "name": "stdout",
     "output_type": "stream",
     "text": [
      "241 --- torch.Size([2, 1792])\n",
      "99 --- torch.Size([2, 1792])\n",
      "696 torch.Size([2, 1792])\n",
      "EDGE_INDEX: torch.Size([2, 1792])\t\tLOOP_INDEX: torch.Size([2, 696])\n",
      "241 --- torch.Size([2, 1792])\n",
      "99 --- torch.Size([2, 1792])\n",
      "696 torch.Size([2, 1792])\n",
      "EDGE_INDEX: torch.Size([2, 1792])\t\tLOOP_INDEX: torch.Size([2, 696])\n"
     ]
    },
    {
     "name": "stderr",
     "output_type": "stream",
     "text": [
      "[Joint E13] Calc Global P:  12%|█▏        | 2/17 [00:00<00:03,  3.94it/s]"
     ]
    },
    {
     "name": "stdout",
     "output_type": "stream",
     "text": [
      "241 --- torch.Size([2, 1818])\n",
      "99 --- torch.Size([2, 1818])\n",
      "704 torch.Size([2, 1818])\n",
      "EDGE_INDEX: torch.Size([2, 1818])\t\tLOOP_INDEX: torch.Size([2, 704])\n",
      "241 --- torch.Size([2, 1818])\n",
      "99 --- torch.Size([2, 1818])\n",
      "704 torch.Size([2, 1818])\n",
      "EDGE_INDEX: torch.Size([2, 1818])\t\tLOOP_INDEX: torch.Size([2, 704])\n"
     ]
    },
    {
     "name": "stderr",
     "output_type": "stream",
     "text": [
      "[Joint E13] Calc Global P:  18%|█▊        | 3/17 [00:00<00:03,  3.65it/s]"
     ]
    },
    {
     "name": "stdout",
     "output_type": "stream",
     "text": [
      "241 --- torch.Size([2, 1634])\n",
      "99 --- torch.Size([2, 1634])\n",
      "689 torch.Size([2, 1634])\n",
      "EDGE_INDEX: torch.Size([2, 1634])\t\tLOOP_INDEX: torch.Size([2, 689])\n",
      "241 --- torch.Size([2, 1634])\n",
      "99 --- torch.Size([2, 1634])\n",
      "689 torch.Size([2, 1634])\n",
      "EDGE_INDEX: torch.Size([2, 1634])\t\tLOOP_INDEX: torch.Size([2, 689])\n"
     ]
    },
    {
     "name": "stderr",
     "output_type": "stream",
     "text": [
      "[Joint E13] Calc Global P:  24%|██▎       | 4/17 [00:01<00:03,  3.80it/s]"
     ]
    },
    {
     "name": "stdout",
     "output_type": "stream",
     "text": [
      "241 --- torch.Size([2, 1808])\n",
      "99 --- torch.Size([2, 1808])\n",
      "716 torch.Size([2, 1808])\n",
      "EDGE_INDEX: torch.Size([2, 1808])\t\tLOOP_INDEX: torch.Size([2, 716])\n",
      "241 --- torch.Size([2, 1808])\n",
      "99 --- torch.Size([2, 1808])\n",
      "716 torch.Size([2, 1808])\n",
      "EDGE_INDEX: torch.Size([2, 1808])\t\tLOOP_INDEX: torch.Size([2, 716])\n"
     ]
    },
    {
     "name": "stderr",
     "output_type": "stream",
     "text": [
      "[Joint E13] Calc Global P:  29%|██▉       | 5/17 [00:01<00:03,  3.78it/s]"
     ]
    },
    {
     "name": "stdout",
     "output_type": "stream",
     "text": [
      "241 --- torch.Size([2, 1886])\n",
      "99 --- torch.Size([2, 1886])\n",
      "723 torch.Size([2, 1886])\n",
      "EDGE_INDEX: torch.Size([2, 1886])\t\tLOOP_INDEX: torch.Size([2, 723])\n",
      "241 --- torch.Size([2, 1886])\n",
      "99 --- torch.Size([2, 1886])\n",
      "723 torch.Size([2, 1886])\n",
      "EDGE_INDEX: torch.Size([2, 1886])\t\tLOOP_INDEX: torch.Size([2, 723])\n"
     ]
    },
    {
     "name": "stderr",
     "output_type": "stream",
     "text": [
      "[Joint E13] Calc Global P:  35%|███▌      | 6/17 [00:01<00:02,  3.86it/s]"
     ]
    },
    {
     "name": "stdout",
     "output_type": "stream",
     "text": [
      "241 --- torch.Size([2, 1472])\n",
      "99 --- torch.Size([2, 1472])\n",
      "626 torch.Size([2, 1472])\n",
      "EDGE_INDEX: torch.Size([2, 1472])\t\tLOOP_INDEX: torch.Size([2, 626])\n",
      "241 --- torch.Size([2, 1472])\n",
      "99 --- torch.Size([2, 1472])\n",
      "626 torch.Size([2, 1472])\n",
      "EDGE_INDEX: torch.Size([2, 1472])\t\tLOOP_INDEX: torch.Size([2, 626])\n"
     ]
    },
    {
     "name": "stderr",
     "output_type": "stream",
     "text": [
      "[Joint E13] Calc Global P:  41%|████      | 7/17 [00:01<00:02,  3.88it/s]"
     ]
    },
    {
     "name": "stdout",
     "output_type": "stream",
     "text": [
      "241 --- torch.Size([2, 1624])\n",
      "99 --- torch.Size([2, 1624])\n",
      "657 torch.Size([2, 1624])\n",
      "EDGE_INDEX: torch.Size([2, 1624])\t\tLOOP_INDEX: torch.Size([2, 657])\n",
      "241 --- torch.Size([2, 1624])\n",
      "99 --- torch.Size([2, 1624])\n",
      "657 torch.Size([2, 1624])\n",
      "EDGE_INDEX: torch.Size([2, 1624])\t\tLOOP_INDEX: torch.Size([2, 657])\n"
     ]
    },
    {
     "name": "stderr",
     "output_type": "stream",
     "text": [
      "[Joint E13] Calc Global P:  47%|████▋     | 8/17 [00:02<00:02,  3.89it/s]"
     ]
    },
    {
     "name": "stdout",
     "output_type": "stream",
     "text": [
      "241 --- torch.Size([2, 2122])\n",
      "99 --- torch.Size([2, 2122])\n",
      "792 torch.Size([2, 2122])\n",
      "EDGE_INDEX: torch.Size([2, 2122])\t\tLOOP_INDEX: torch.Size([2, 792])\n",
      "241 --- torch.Size([2, 2122])\n",
      "99 --- torch.Size([2, 2122])\n",
      "792 torch.Size([2, 2122])\n",
      "EDGE_INDEX: torch.Size([2, 2122])\t\tLOOP_INDEX: torch.Size([2, 792])\n"
     ]
    },
    {
     "name": "stderr",
     "output_type": "stream",
     "text": [
      "[Joint E13] Calc Global P:  53%|█████▎    | 9/17 [00:02<00:02,  3.89it/s]"
     ]
    },
    {
     "name": "stdout",
     "output_type": "stream",
     "text": [
      "241 --- torch.Size([2, 1822])\n",
      "99 --- torch.Size([2, 1822])\n",
      "721 torch.Size([2, 1822])\n",
      "EDGE_INDEX: torch.Size([2, 1822])\t\tLOOP_INDEX: torch.Size([2, 721])\n",
      "241 --- torch.Size([2, 1822])\n",
      "99 --- torch.Size([2, 1822])\n",
      "721 torch.Size([2, 1822])\n",
      "EDGE_INDEX: torch.Size([2, 1822])\t\tLOOP_INDEX: torch.Size([2, 721])\n"
     ]
    },
    {
     "name": "stderr",
     "output_type": "stream",
     "text": [
      "[Joint E13] Calc Global P:  59%|█████▉    | 10/17 [00:02<00:01,  3.92it/s]"
     ]
    },
    {
     "name": "stdout",
     "output_type": "stream",
     "text": [
      "241 --- torch.Size([2, 1654])\n",
      "99 --- torch.Size([2, 1654])\n",
      "671 torch.Size([2, 1654])\n",
      "EDGE_INDEX: torch.Size([2, 1654])\t\tLOOP_INDEX: torch.Size([2, 671])\n",
      "241 --- torch.Size([2, 1654])\n",
      "99 --- torch.Size([2, 1654])\n",
      "671 torch.Size([2, 1654])\n",
      "EDGE_INDEX: torch.Size([2, 1654])\t\tLOOP_INDEX: torch.Size([2, 671])\n"
     ]
    },
    {
     "name": "stderr",
     "output_type": "stream",
     "text": [
      "[Joint E13] Calc Global P:  65%|██████▍   | 11/17 [00:02<00:01,  3.92it/s]"
     ]
    },
    {
     "name": "stdout",
     "output_type": "stream",
     "text": [
      "241 --- torch.Size([2, 2052])\n",
      "99 --- torch.Size([2, 2052])\n",
      "737 torch.Size([2, 2052])\n",
      "EDGE_INDEX: torch.Size([2, 2052])\t\tLOOP_INDEX: torch.Size([2, 737])\n",
      "241 --- torch.Size([2, 2052])\n",
      "99 --- torch.Size([2, 2052])\n",
      "737 torch.Size([2, 2052])\n",
      "EDGE_INDEX: torch.Size([2, 2052])\t\tLOOP_INDEX: torch.Size([2, 737])\n"
     ]
    },
    {
     "name": "stderr",
     "output_type": "stream",
     "text": [
      "[Joint E13] Calc Global P:  71%|███████   | 12/17 [00:03<00:01,  3.93it/s]"
     ]
    },
    {
     "name": "stdout",
     "output_type": "stream",
     "text": [
      "241 --- torch.Size([2, 2270])\n",
      "99 --- torch.Size([2, 2270])\n",
      "800 torch.Size([2, 2270])\n",
      "EDGE_INDEX: torch.Size([2, 2270])\t\tLOOP_INDEX: torch.Size([2, 800])\n",
      "241 --- torch.Size([2, 2270])\n",
      "99 --- torch.Size([2, 2270])\n",
      "800 torch.Size([2, 2270])\n",
      "EDGE_INDEX: torch.Size([2, 2270])\t\tLOOP_INDEX: torch.Size([2, 800])\n"
     ]
    },
    {
     "name": "stderr",
     "output_type": "stream",
     "text": [
      "[Joint E13] Calc Global P:  76%|███████▋  | 13/17 [00:03<00:01,  3.94it/s]"
     ]
    },
    {
     "name": "stdout",
     "output_type": "stream",
     "text": [
      "241 --- torch.Size([2, 1560])\n",
      "99 --- torch.Size([2, 1560])\n",
      "677 torch.Size([2, 1560])\n",
      "EDGE_INDEX: torch.Size([2, 1560])\t\tLOOP_INDEX: torch.Size([2, 677])\n",
      "241 --- torch.Size([2, 1560])\n",
      "99 --- torch.Size([2, 1560])\n",
      "677 torch.Size([2, 1560])\n",
      "EDGE_INDEX: torch.Size([2, 1560])\t\tLOOP_INDEX: torch.Size([2, 677])\n"
     ]
    },
    {
     "name": "stderr",
     "output_type": "stream",
     "text": [
      "[Joint E13] Calc Global P:  82%|████████▏ | 14/17 [00:03<00:00,  3.90it/s]"
     ]
    },
    {
     "name": "stdout",
     "output_type": "stream",
     "text": [
      "241 --- torch.Size([2, 1450])\n",
      "99 --- torch.Size([2, 1450])\n",
      "642 torch.Size([2, 1450])\n",
      "EDGE_INDEX: torch.Size([2, 1450])\t\tLOOP_INDEX: torch.Size([2, 642])\n",
      "241 --- torch.Size([2, 1450])\n",
      "99 --- torch.Size([2, 1450])\n",
      "642 torch.Size([2, 1450])\n",
      "EDGE_INDEX: torch.Size([2, 1450])\t\tLOOP_INDEX: torch.Size([2, 642])\n"
     ]
    },
    {
     "name": "stderr",
     "output_type": "stream",
     "text": [
      "[Joint E13] Calc Global P:  88%|████████▊ | 15/17 [00:03<00:00,  3.89it/s]"
     ]
    },
    {
     "name": "stdout",
     "output_type": "stream",
     "text": [
      "241 --- torch.Size([2, 1412])\n",
      "99 --- torch.Size([2, 1412])\n",
      "628 torch.Size([2, 1412])\n",
      "EDGE_INDEX: torch.Size([2, 1412])\t\tLOOP_INDEX: torch.Size([2, 628])\n",
      "241 --- torch.Size([2, 1412])\n",
      "99 --- torch.Size([2, 1412])\n",
      "628 torch.Size([2, 1412])\n",
      "EDGE_INDEX: torch.Size([2, 1412])\t\tLOOP_INDEX: torch.Size([2, 628])\n"
     ]
    },
    {
     "name": "stderr",
     "output_type": "stream",
     "text": [
      "[Joint E13] Calc Global P:  94%|█████████▍| 16/17 [00:04<00:00,  3.93it/s]"
     ]
    },
    {
     "name": "stdout",
     "output_type": "stream",
     "text": [
      "241 --- torch.Size([2, 1662])\n",
      "99 --- torch.Size([2, 1662])\n",
      "666 torch.Size([2, 1662])\n",
      "EDGE_INDEX: torch.Size([2, 1662])\t\tLOOP_INDEX: torch.Size([2, 666])\n",
      "241 --- torch.Size([2, 1662])\n",
      "99 --- torch.Size([2, 1662])\n",
      "666 torch.Size([2, 1662])\n",
      "EDGE_INDEX: torch.Size([2, 1662])\t\tLOOP_INDEX: torch.Size([2, 666])\n"
     ]
    },
    {
     "name": "stderr",
     "output_type": "stream",
     "text": [
      "                                                                          "
     ]
    },
    {
     "name": "stdout",
     "output_type": "stream",
     "text": [
      "241 --- torch.Size([2, 1332])\n",
      "99 --- torch.Size([2, 1332])\n",
      "530 torch.Size([2, 1332])\n",
      "EDGE_INDEX: torch.Size([2, 1332])\t\tLOOP_INDEX: torch.Size([2, 530])\n",
      "241 --- torch.Size([2, 1332])\n",
      "99 --- torch.Size([2, 1332])\n",
      "530 torch.Size([2, 1332])\n",
      "EDGE_INDEX: torch.Size([2, 1332])\t\tLOOP_INDEX: torch.Size([2, 530])\n"
     ]
    },
    {
     "name": "stderr",
     "output_type": "stream",
     "text": [
      "\r"
     ]
    },
    {
     "name": "stdout",
     "output_type": "stream",
     "text": [
      "241 --- torch.Size([2, 1786])\n",
      "99 --- torch.Size([2, 1786])\n",
      "717 torch.Size([2, 1786])\n",
      "EDGE_INDEX: torch.Size([2, 1786])\t\tLOOP_INDEX: torch.Size([2, 717])\n",
      "241 --- torch.Size([2, 1786])\n",
      "99 --- torch.Size([2, 1786])\n",
      "717 torch.Size([2, 1786])\n",
      "EDGE_INDEX: torch.Size([2, 1786])\t\tLOOP_INDEX: torch.Size([2, 717])\n",
      "241 --- torch.Size([2, 1636])\n",
      "99 --- torch.Size([2, 1636])\n",
      "669 torch.Size([2, 1636])\n",
      "EDGE_INDEX: torch.Size([2, 1636])\t\tLOOP_INDEX: torch.Size([2, 669])\n",
      "241 --- torch.Size([2, 1636])\n",
      "99 --- torch.Size([2, 1636])\n",
      "669 torch.Size([2, 1636])\n",
      "EDGE_INDEX: torch.Size([2, 1636])\t\tLOOP_INDEX: torch.Size([2, 669])\n",
      "241 --- torch.Size([2, 1636])\n",
      "99 --- torch.Size([2, 1636])\n",
      "667 torch.Size([2, 1636])\n",
      "EDGE_INDEX: torch.Size([2, 1636])\t\tLOOP_INDEX: torch.Size([2, 667])\n",
      "241 --- torch.Size([2, 1636])\n",
      "99 --- torch.Size([2, 1636])\n",
      "667 torch.Size([2, 1636])\n",
      "EDGE_INDEX: torch.Size([2, 1636])\t\tLOOP_INDEX: torch.Size([2, 667])\n",
      "241 --- torch.Size([2, 1828])\n",
      "99 --- torch.Size([2, 1828])\n",
      "711 torch.Size([2, 1828])\n",
      "EDGE_INDEX: torch.Size([2, 1828])\t\tLOOP_INDEX: torch.Size([2, 711])\n",
      "241 --- torch.Size([2, 1828])\n",
      "99 --- torch.Size([2, 1828])\n",
      "711 torch.Size([2, 1828])\n",
      "EDGE_INDEX: torch.Size([2, 1828])\t\tLOOP_INDEX: torch.Size([2, 711])\n",
      "241 --- torch.Size([2, 1384])\n",
      "99 --- torch.Size([2, 1384])\n",
      "627 torch.Size([2, 1384])\n",
      "EDGE_INDEX: torch.Size([2, 1384])\t\tLOOP_INDEX: torch.Size([2, 627])\n",
      "241 --- torch.Size([2, 1384])\n",
      "99 --- torch.Size([2, 1384])\n",
      "627 torch.Size([2, 1384])\n",
      "EDGE_INDEX: torch.Size([2, 1384])\t\tLOOP_INDEX: torch.Size([2, 627])\n",
      "241 --- torch.Size([2, 1778])\n",
      "99 --- torch.Size([2, 1778])\n",
      "704 torch.Size([2, 1778])\n",
      "EDGE_INDEX: torch.Size([2, 1778])\t\tLOOP_INDEX: torch.Size([2, 704])\n",
      "241 --- torch.Size([2, 1778])\n",
      "99 --- torch.Size([2, 1778])\n",
      "704 torch.Size([2, 1778])\n",
      "EDGE_INDEX: torch.Size([2, 1778])\t\tLOOP_INDEX: torch.Size([2, 704])\n",
      "241 --- torch.Size([2, 1674])\n",
      "99 --- torch.Size([2, 1674])\n",
      "677 torch.Size([2, 1674])\n",
      "EDGE_INDEX: torch.Size([2, 1674])\t\tLOOP_INDEX: torch.Size([2, 677])\n",
      "241 --- torch.Size([2, 1674])\n",
      "99 --- torch.Size([2, 1674])\n",
      "677 torch.Size([2, 1674])\n",
      "EDGE_INDEX: torch.Size([2, 1674])\t\tLOOP_INDEX: torch.Size([2, 677])\n",
      "241 --- torch.Size([2, 1622])\n",
      "99 --- torch.Size([2, 1622])\n",
      "668 torch.Size([2, 1622])\n",
      "EDGE_INDEX: torch.Size([2, 1622])\t\tLOOP_INDEX: torch.Size([2, 668])\n",
      "241 --- torch.Size([2, 1622])\n",
      "99 --- torch.Size([2, 1622])\n",
      "668 torch.Size([2, 1622])\n",
      "EDGE_INDEX: torch.Size([2, 1622])\t\tLOOP_INDEX: torch.Size([2, 668])\n",
      "241 --- torch.Size([2, 1510])\n",
      "99 --- torch.Size([2, 1510])\n",
      "627 torch.Size([2, 1510])\n",
      "EDGE_INDEX: torch.Size([2, 1510])\t\tLOOP_INDEX: torch.Size([2, 627])\n",
      "241 --- torch.Size([2, 1510])\n",
      "99 --- torch.Size([2, 1510])\n",
      "627 torch.Size([2, 1510])\n",
      "EDGE_INDEX: torch.Size([2, 1510])\t\tLOOP_INDEX: torch.Size([2, 627])\n",
      "241 --- torch.Size([2, 1650])\n",
      "99 --- torch.Size([2, 1650])\n",
      "661 torch.Size([2, 1650])\n",
      "EDGE_INDEX: torch.Size([2, 1650])\t\tLOOP_INDEX: torch.Size([2, 661])\n",
      "241 --- torch.Size([2, 1650])\n",
      "99 --- torch.Size([2, 1650])\n",
      "661 torch.Size([2, 1650])\n",
      "EDGE_INDEX: torch.Size([2, 1650])\t\tLOOP_INDEX: torch.Size([2, 661])\n",
      "241 --- torch.Size([2, 1724])\n",
      "99 --- torch.Size([2, 1724])\n",
      "691 torch.Size([2, 1724])\n",
      "EDGE_INDEX: torch.Size([2, 1724])\t\tLOOP_INDEX: torch.Size([2, 691])\n",
      "241 --- torch.Size([2, 1724])\n",
      "99 --- torch.Size([2, 1724])\n",
      "691 torch.Size([2, 1724])\n",
      "EDGE_INDEX: torch.Size([2, 1724])\t\tLOOP_INDEX: torch.Size([2, 691])\n",
      "241 --- torch.Size([2, 1630])\n",
      "99 --- torch.Size([2, 1630])\n",
      "680 torch.Size([2, 1630])\n",
      "EDGE_INDEX: torch.Size([2, 1630])\t\tLOOP_INDEX: torch.Size([2, 680])\n",
      "241 --- torch.Size([2, 1630])\n",
      "99 --- torch.Size([2, 1630])\n",
      "680 torch.Size([2, 1630])\n",
      "EDGE_INDEX: torch.Size([2, 1630])\t\tLOOP_INDEX: torch.Size([2, 680])\n",
      "241 --- torch.Size([2, 1868])\n",
      "99 --- torch.Size([2, 1868])\n",
      "724 torch.Size([2, 1868])\n",
      "EDGE_INDEX: torch.Size([2, 1868])\t\tLOOP_INDEX: torch.Size([2, 724])\n",
      "241 --- torch.Size([2, 1868])\n",
      "99 --- torch.Size([2, 1868])\n",
      "724 torch.Size([2, 1868])\n",
      "EDGE_INDEX: torch.Size([2, 1868])\t\tLOOP_INDEX: torch.Size([2, 724])\n",
      "241 --- torch.Size([2, 1614])\n",
      "99 --- torch.Size([2, 1614])\n",
      "667 torch.Size([2, 1614])\n",
      "EDGE_INDEX: torch.Size([2, 1614])\t\tLOOP_INDEX: torch.Size([2, 667])\n",
      "241 --- torch.Size([2, 1614])\n",
      "99 --- torch.Size([2, 1614])\n",
      "667 torch.Size([2, 1614])\n",
      "EDGE_INDEX: torch.Size([2, 1614])\t\tLOOP_INDEX: torch.Size([2, 667])\n",
      "241 --- torch.Size([2, 2108])\n",
      "99 --- torch.Size([2, 2108])\n",
      "755 torch.Size([2, 2108])\n",
      "EDGE_INDEX: torch.Size([2, 2108])\t\tLOOP_INDEX: torch.Size([2, 755])\n",
      "241 --- torch.Size([2, 2108])\n",
      "99 --- torch.Size([2, 2108])\n",
      "755 torch.Size([2, 2108])\n",
      "EDGE_INDEX: torch.Size([2, 2108])\t\tLOOP_INDEX: torch.Size([2, 755])\n",
      "241 --- torch.Size([2, 1608])\n",
      "99 --- torch.Size([2, 1608])\n",
      "683 torch.Size([2, 1608])\n",
      "EDGE_INDEX: torch.Size([2, 1608])\t\tLOOP_INDEX: torch.Size([2, 683])\n",
      "241 --- torch.Size([2, 1608])\n",
      "99 --- torch.Size([2, 1608])\n",
      "683 torch.Size([2, 1608])\n",
      "EDGE_INDEX: torch.Size([2, 1608])\t\tLOOP_INDEX: torch.Size([2, 683])\n",
      "241 --- torch.Size([2, 1202])\n",
      "99 --- torch.Size([2, 1202])\n",
      "512 torch.Size([2, 1202])\n",
      "EDGE_INDEX: torch.Size([2, 1202])\t\tLOOP_INDEX: torch.Size([2, 512])\n",
      "241 --- torch.Size([2, 1202])\n",
      "99 --- torch.Size([2, 1202])\n",
      "512 torch.Size([2, 1202])\n",
      "EDGE_INDEX: torch.Size([2, 1202])\t\tLOOP_INDEX: torch.Size([2, 512])\n",
      "241 --- torch.Size([2, 466])\n",
      "99 --- torch.Size([2, 466])\n",
      "171 torch.Size([2, 466])\n",
      "EDGE_INDEX: torch.Size([2, 466])\t\tLOOP_INDEX: torch.Size([2, 171])\n",
      "241 --- torch.Size([2, 466])\n",
      "99 --- torch.Size([2, 466])\n",
      "171 torch.Size([2, 466])\n",
      "EDGE_INDEX: torch.Size([2, 466])\t\tLOOP_INDEX: torch.Size([2, 171])\n",
      "241 --- torch.Size([2, 414])\n",
      "99 --- torch.Size([2, 414])\n",
      "166 torch.Size([2, 414])\n",
      "EDGE_INDEX: torch.Size([2, 414])\t\tLOOP_INDEX: torch.Size([2, 166])\n",
      "241 --- torch.Size([2, 414])\n",
      "99 --- torch.Size([2, 414])\n",
      "166 torch.Size([2, 414])\n",
      "EDGE_INDEX: torch.Size([2, 414])\t\tLOOP_INDEX: torch.Size([2, 166])\n",
      "241 --- torch.Size([2, 572])\n",
      "99 --- torch.Size([2, 572])\n",
      "208 torch.Size([2, 572])\n",
      "EDGE_INDEX: torch.Size([2, 572])\t\tLOOP_INDEX: torch.Size([2, 208])\n",
      "241 --- torch.Size([2, 572])\n",
      "99 --- torch.Size([2, 572])\n",
      "208 torch.Size([2, 572])\n",
      "EDGE_INDEX: torch.Size([2, 572])\t\tLOOP_INDEX: torch.Size([2, 208])\n",
      "241 --- torch.Size([2, 522])\n",
      "99 --- torch.Size([2, 522])\n",
      "182 torch.Size([2, 522])\n",
      "EDGE_INDEX: torch.Size([2, 522])\t\tLOOP_INDEX: torch.Size([2, 182])\n",
      "241 --- torch.Size([2, 522])\n",
      "99 --- torch.Size([2, 522])\n",
      "182 torch.Size([2, 522])\n",
      "EDGE_INDEX: torch.Size([2, 522])\t\tLOOP_INDEX: torch.Size([2, 182])\n",
      "241 --- torch.Size([2, 454])\n",
      "99 --- torch.Size([2, 454])\n",
      "173 torch.Size([2, 454])\n",
      "EDGE_INDEX: torch.Size([2, 454])\t\tLOOP_INDEX: torch.Size([2, 173])\n",
      "241 --- torch.Size([2, 454])\n",
      "99 --- torch.Size([2, 454])\n",
      "173 torch.Size([2, 454])\n",
      "EDGE_INDEX: torch.Size([2, 454])\t\tLOOP_INDEX: torch.Size([2, 173])\n",
      "241 --- torch.Size([2, 286])\n",
      "99 --- torch.Size([2, 286])\n",
      "134 torch.Size([2, 286])\n",
      "EDGE_INDEX: torch.Size([2, 286])\t\tLOOP_INDEX: torch.Size([2, 134])\n",
      "241 --- torch.Size([2, 286])\n",
      "99 --- torch.Size([2, 286])\n",
      "134 torch.Size([2, 286])\n",
      "EDGE_INDEX: torch.Size([2, 286])\t\tLOOP_INDEX: torch.Size([2, 134])\n",
      "241 --- torch.Size([2, 462])\n",
      "99 --- torch.Size([2, 462])\n",
      "182 torch.Size([2, 462])\n",
      "EDGE_INDEX: torch.Size([2, 462])\t\tLOOP_INDEX: torch.Size([2, 182])\n",
      "241 --- torch.Size([2, 462])\n",
      "99 --- torch.Size([2, 462])\n",
      "182 torch.Size([2, 462])\n",
      "EDGE_INDEX: torch.Size([2, 462])\t\tLOOP_INDEX: torch.Size([2, 182])\n",
      "241 --- torch.Size([2, 700])\n",
      "99 --- torch.Size([2, 700])\n",
      "238 torch.Size([2, 700])\n",
      "EDGE_INDEX: torch.Size([2, 700])\t\tLOOP_INDEX: torch.Size([2, 238])\n",
      "241 --- torch.Size([2, 700])\n",
      "99 --- torch.Size([2, 700])\n",
      "238 torch.Size([2, 700])\n",
      "EDGE_INDEX: torch.Size([2, 700])\t\tLOOP_INDEX: torch.Size([2, 238])\n",
      "241 --- torch.Size([2, 452])\n",
      "99 --- torch.Size([2, 452])\n",
      "182 torch.Size([2, 452])\n",
      "EDGE_INDEX: torch.Size([2, 452])\t\tLOOP_INDEX: torch.Size([2, 182])\n",
      "241 --- torch.Size([2, 452])\n",
      "99 --- torch.Size([2, 452])\n",
      "182 torch.Size([2, 452])\n",
      "EDGE_INDEX: torch.Size([2, 452])\t\tLOOP_INDEX: torch.Size([2, 182])\n",
      "241 --- torch.Size([2, 576])\n",
      "99 --- torch.Size([2, 576])\n",
      "197 torch.Size([2, 576])\n",
      "EDGE_INDEX: torch.Size([2, 576])\t\tLOOP_INDEX: torch.Size([2, 197])\n",
      "241 --- torch.Size([2, 576])\n",
      "99 --- torch.Size([2, 576])\n",
      "197 torch.Size([2, 576])\n",
      "EDGE_INDEX: torch.Size([2, 576])\t\tLOOP_INDEX: torch.Size([2, 197])\n",
      "241 --- torch.Size([2, 538])\n",
      "99 --- torch.Size([2, 538])\n",
      "210 torch.Size([2, 538])\n",
      "EDGE_INDEX: torch.Size([2, 538])\t\tLOOP_INDEX: torch.Size([2, 210])\n",
      "241 --- torch.Size([2, 538])\n",
      "99 --- torch.Size([2, 538])\n",
      "210 torch.Size([2, 538])\n",
      "EDGE_INDEX: torch.Size([2, 538])\t\tLOOP_INDEX: torch.Size([2, 210])\n",
      "241 --- torch.Size([2, 358])\n",
      "99 --- torch.Size([2, 358])\n",
      "155 torch.Size([2, 358])\n",
      "EDGE_INDEX: torch.Size([2, 358])\t\tLOOP_INDEX: torch.Size([2, 155])\n",
      "241 --- torch.Size([2, 358])\n",
      "99 --- torch.Size([2, 358])\n",
      "155 torch.Size([2, 358])\n",
      "EDGE_INDEX: torch.Size([2, 358])\t\tLOOP_INDEX: torch.Size([2, 155])\n",
      "241 --- torch.Size([2, 368])\n",
      "99 --- torch.Size([2, 368])\n",
      "168 torch.Size([2, 368])\n",
      "EDGE_INDEX: torch.Size([2, 368])\t\tLOOP_INDEX: torch.Size([2, 168])\n",
      "241 --- torch.Size([2, 368])\n",
      "99 --- torch.Size([2, 368])\n",
      "168 torch.Size([2, 368])\n",
      "EDGE_INDEX: torch.Size([2, 368])\t\tLOOP_INDEX: torch.Size([2, 168])\n",
      "241 --- torch.Size([2, 368])\n",
      "99 --- torch.Size([2, 368])\n",
      "155 torch.Size([2, 368])\n",
      "EDGE_INDEX: torch.Size([2, 368])\t\tLOOP_INDEX: torch.Size([2, 155])\n",
      "241 --- torch.Size([2, 368])\n",
      "99 --- torch.Size([2, 368])\n",
      "155 torch.Size([2, 368])\n",
      "EDGE_INDEX: torch.Size([2, 368])\t\tLOOP_INDEX: torch.Size([2, 155])\n",
      "241 --- torch.Size([2, 206])\n",
      "99 --- torch.Size([2, 206])\n",
      "68 torch.Size([2, 206])\n",
      "EDGE_INDEX: torch.Size([2, 206])\t\tLOOP_INDEX: torch.Size([2, 68])\n",
      "241 --- torch.Size([2, 206])\n",
      "99 --- torch.Size([2, 206])\n",
      "68 torch.Size([2, 206])\n",
      "EDGE_INDEX: torch.Size([2, 206])\t\tLOOP_INDEX: torch.Size([2, 68])\n",
      "[Joint] Early stopping at epoch 13 due to no improvement for 5 epochs.\n",
      "[Joint] Loading best model weights.\n"
     ]
    }
   ],
   "source": [
    "save_path= \"/home/mei/nas/docker/thesis/data/model_results/final_model_retnet/mortality/resampled_30_datasampler\"\n",
    "# save_path= \"/home/mei/nas/docker/thesis/data/model_results/final_model_retnet/combine/resampled_30_debug\"\n",
    "model, history = train_patient_outcome_model(model, \n",
    "            train_loader, val_loader, train_loader_p, device, optimizer,  epochs=20, save_dir=save_path, \n",
    "            gamma=100, beta=150, kappa=200,  eta=1, \n",
    "            patience = 5 )"
   ]
  },
  {
   "cell_type": "code",
   "execution_count": 5,
   "metadata": {},
   "outputs": [
    {
     "data": {
      "image/png": "[encoded data removed]",
      "text/plain": [
       "<Figure size 1000x500 with 1 Axes>"
      ]
     },
     "metadata": {},
     "output_type": "display_data"
    }
   ],
   "source": [
    "plot_training_history(history)"
   ]
  },
  {
   "cell_type": "code",
   "execution_count": 5,
   "metadata": {},
   "outputs": [
    {
     "data": {
      "text/plain": [
       "<All keys matched successfully>"
      ]
     },
     "execution_count": 5,
     "metadata": {},
     "output_type": "execute_result"
    }
   ],
   "source": [
    "best_model = '/home/mei/nas/docker/thesis/data/model_results/final_model_retnet/mortality/resampled_30_datasampler/best_joint.pth'\n",
    "model.load_state_dict(torch.load(best_model,weights_only=True))"
   ]
  },
  {
   "cell_type": "code",
   "execution_count": 6,
   "metadata": {},
   "outputs": [
    {
     "name": "stdout",
     "output_type": "stream",
     "text": [
      "241 --- torch.Size([2, 410])\n",
      "99 --- torch.Size([2, 410])\n",
      "165 torch.Size([2, 410])\n",
      "EDGE_INDEX: torch.Size([2, 410])\t\tLOOP_INDEX: torch.Size([2, 165])\n",
      "241 --- torch.Size([2, 410])\n",
      "99 --- torch.Size([2, 410])\n",
      "165 torch.Size([2, 410])\n",
      "EDGE_INDEX: torch.Size([2, 410])\t\tLOOP_INDEX: torch.Size([2, 165])\n",
      "241 --- torch.Size([2, 510])\n",
      "99 --- torch.Size([2, 510])\n",
      "190 torch.Size([2, 510])\n",
      "EDGE_INDEX: torch.Size([2, 510])\t\tLOOP_INDEX: torch.Size([2, 190])\n",
      "241 --- torch.Size([2, 510])\n",
      "99 --- torch.Size([2, 510])\n",
      "190 torch.Size([2, 510])\n",
      "EDGE_INDEX: torch.Size([2, 510])\t\tLOOP_INDEX: torch.Size([2, 190])\n",
      "241 --- torch.Size([2, 452])\n",
      "99 --- torch.Size([2, 452])\n",
      "179 torch.Size([2, 452])\n",
      "EDGE_INDEX: torch.Size([2, 452])\t\tLOOP_INDEX: torch.Size([2, 179])\n",
      "241 --- torch.Size([2, 452])\n",
      "99 --- torch.Size([2, 452])\n",
      "179 torch.Size([2, 452])\n",
      "EDGE_INDEX: torch.Size([2, 452])\t\tLOOP_INDEX: torch.Size([2, 179])\n",
      "241 --- torch.Size([2, 444])\n",
      "99 --- torch.Size([2, 444])\n",
      "178 torch.Size([2, 444])\n",
      "EDGE_INDEX: torch.Size([2, 444])\t\tLOOP_INDEX: torch.Size([2, 178])\n",
      "241 --- torch.Size([2, 444])\n",
      "99 --- torch.Size([2, 444])\n",
      "178 torch.Size([2, 444])\n",
      "EDGE_INDEX: torch.Size([2, 444])\t\tLOOP_INDEX: torch.Size([2, 178])\n",
      "241 --- torch.Size([2, 454])\n",
      "99 --- torch.Size([2, 454])\n",
      "178 torch.Size([2, 454])\n",
      "EDGE_INDEX: torch.Size([2, 454])\t\tLOOP_INDEX: torch.Size([2, 178])\n",
      "241 --- torch.Size([2, 454])\n",
      "99 --- torch.Size([2, 454])\n",
      "178 torch.Size([2, 454])\n",
      "EDGE_INDEX: torch.Size([2, 454])\t\tLOOP_INDEX: torch.Size([2, 178])\n",
      "241 --- torch.Size([2, 430])\n",
      "99 --- torch.Size([2, 430])\n",
      "170 torch.Size([2, 430])\n",
      "EDGE_INDEX: torch.Size([2, 430])\t\tLOOP_INDEX: torch.Size([2, 170])\n",
      "241 --- torch.Size([2, 430])\n",
      "99 --- torch.Size([2, 430])\n",
      "170 torch.Size([2, 430])\n",
      "EDGE_INDEX: torch.Size([2, 430])\t\tLOOP_INDEX: torch.Size([2, 170])\n",
      "241 --- torch.Size([2, 670])\n",
      "99 --- torch.Size([2, 670])\n",
      "221 torch.Size([2, 670])\n",
      "EDGE_INDEX: torch.Size([2, 670])\t\tLOOP_INDEX: torch.Size([2, 221])\n",
      "241 --- torch.Size([2, 670])\n",
      "99 --- torch.Size([2, 670])\n",
      "221 torch.Size([2, 670])\n",
      "EDGE_INDEX: torch.Size([2, 670])\t\tLOOP_INDEX: torch.Size([2, 221])\n",
      "241 --- torch.Size([2, 532])\n",
      "99 --- torch.Size([2, 532])\n",
      "184 torch.Size([2, 532])\n",
      "EDGE_INDEX: torch.Size([2, 532])\t\tLOOP_INDEX: torch.Size([2, 184])\n",
      "241 --- torch.Size([2, 532])\n",
      "99 --- torch.Size([2, 532])\n",
      "184 torch.Size([2, 532])\n",
      "EDGE_INDEX: torch.Size([2, 532])\t\tLOOP_INDEX: torch.Size([2, 184])\n",
      "241 --- torch.Size([2, 464])\n",
      "99 --- torch.Size([2, 464])\n",
      "176 torch.Size([2, 464])\n",
      "EDGE_INDEX: torch.Size([2, 464])\t\tLOOP_INDEX: torch.Size([2, 176])\n",
      "241 --- torch.Size([2, 464])\n",
      "99 --- torch.Size([2, 464])\n",
      "176 torch.Size([2, 464])\n",
      "EDGE_INDEX: torch.Size([2, 464])\t\tLOOP_INDEX: torch.Size([2, 176])\n",
      "241 --- torch.Size([2, 660])\n",
      "99 --- torch.Size([2, 660])\n",
      "202 torch.Size([2, 660])\n",
      "EDGE_INDEX: torch.Size([2, 660])\t\tLOOP_INDEX: torch.Size([2, 202])\n",
      "241 --- torch.Size([2, 660])\n",
      "99 --- torch.Size([2, 660])\n",
      "202 torch.Size([2, 660])\n",
      "EDGE_INDEX: torch.Size([2, 660])\t\tLOOP_INDEX: torch.Size([2, 202])\n",
      "241 --- torch.Size([2, 412])\n",
      "99 --- torch.Size([2, 412])\n",
      "160 torch.Size([2, 412])\n",
      "EDGE_INDEX: torch.Size([2, 412])\t\tLOOP_INDEX: torch.Size([2, 160])\n",
      "241 --- torch.Size([2, 412])\n",
      "99 --- torch.Size([2, 412])\n",
      "160 torch.Size([2, 412])\n",
      "EDGE_INDEX: torch.Size([2, 412])\t\tLOOP_INDEX: torch.Size([2, 160])\n",
      "241 --- torch.Size([2, 336])\n",
      "99 --- torch.Size([2, 336])\n",
      "150 torch.Size([2, 336])\n",
      "EDGE_INDEX: torch.Size([2, 336])\t\tLOOP_INDEX: torch.Size([2, 150])\n",
      "241 --- torch.Size([2, 336])\n",
      "99 --- torch.Size([2, 336])\n",
      "150 torch.Size([2, 336])\n",
      "EDGE_INDEX: torch.Size([2, 336])\t\tLOOP_INDEX: torch.Size([2, 150])\n",
      "241 --- torch.Size([2, 480])\n",
      "99 --- torch.Size([2, 480])\n",
      "176 torch.Size([2, 480])\n",
      "EDGE_INDEX: torch.Size([2, 480])\t\tLOOP_INDEX: torch.Size([2, 176])\n",
      "241 --- torch.Size([2, 480])\n",
      "99 --- torch.Size([2, 480])\n",
      "176 torch.Size([2, 480])\n",
      "EDGE_INDEX: torch.Size([2, 480])\t\tLOOP_INDEX: torch.Size([2, 176])\n",
      "241 --- torch.Size([2, 392])\n",
      "99 --- torch.Size([2, 392])\n",
      "153 torch.Size([2, 392])\n",
      "EDGE_INDEX: torch.Size([2, 392])\t\tLOOP_INDEX: torch.Size([2, 153])\n",
      "241 --- torch.Size([2, 392])\n",
      "99 --- torch.Size([2, 392])\n",
      "153 torch.Size([2, 392])\n",
      "EDGE_INDEX: torch.Size([2, 392])\t\tLOOP_INDEX: torch.Size([2, 153])\n",
      "241 --- torch.Size([2, 246])\n",
      "99 --- torch.Size([2, 246])\n",
      "87 torch.Size([2, 246])\n",
      "EDGE_INDEX: torch.Size([2, 246])\t\tLOOP_INDEX: torch.Size([2, 87])\n",
      "241 --- torch.Size([2, 246])\n",
      "99 --- torch.Size([2, 246])\n",
      "87 torch.Size([2, 246])\n",
      "EDGE_INDEX: torch.Size([2, 246])\t\tLOOP_INDEX: torch.Size([2, 87])\n",
      "Best threshold: 0.122875154 → F1: 0.6857142807183674\n",
      "Total test samples: 461\n",
      "Number of actual deaths: 51\n",
      "Predictions range: min= 1.4787711e-05  max= 0.9289564\n",
      "Mean predicted death probability: 0.06780032\n",
      "Test Mortality - AUROC: 0.9346, AUPRC: 0.7138, Precision: 0.6667, Recall: 0.7059,pecificity: 0.9561, F1: 0.6857\n"
     ]
    }
   ],
   "source": [
    "output= test_patient_outcome_model(model, test_loader, device)"
   ]
  },
  {
   "cell_type": "markdown",
   "metadata": {},
   "source": [
    "- Best threshold: 0.122875154 → F1: 0.6857142807183674\n",
    "- Total test samples: 461\n",
    "- Number of actual deaths: 51\n",
    "- Predictions range: min= 1.4787711e-05  max= 0.9289564\n",
    "- Mean predicted death probability: 0.06780032\n",
    "- Test Mortality - AUROC: 0.9346, AUPRC: 0.7138, Precision: 0.6667, Recall: 0.7059,pecificity: 0.9561, F1: 0.6857"
   ]
  },
  {
   "cell_type": "code",
   "execution_count": 7,
   "metadata": {},
   "outputs": [
    {
     "name": "stdout",
     "output_type": "stream",
     "text": [
      "241 --- torch.Size([2, 10])\n",
      "99 --- torch.Size([2, 10])\n",
      "5 torch.Size([2, 10])\n",
      "EDGE_INDEX: torch.Size([2, 10])\t\tLOOP_INDEX: torch.Size([2, 5])\n",
      "241 --- torch.Size([2, 10])\n",
      "99 --- torch.Size([2, 10])\n",
      "5 torch.Size([2, 10])\n",
      "EDGE_INDEX: torch.Size([2, 10])\t\tLOOP_INDEX: torch.Size([2, 5])\n"
     ]
    },
    {
     "data": {
      "image/png": "[encoded data removed]",
      "text/plain": [
       "<Figure size 1000x400 with 1 Axes>"
      ]
     },
     "metadata": {},
     "output_type": "display_data"
    }
   ],
   "source": [
    "plot_patient_mortality_probability(model, test_loader, patient_index=317, device=device)"
   ]
  },
  {
   "cell_type": "code",
   "execution_count": 8,
   "metadata": {},
   "outputs": [
    {
     "name": "stdout",
     "output_type": "stream",
     "text": [
      "241 --- torch.Size([2, 12])\n",
      "99 --- torch.Size([2, 12])\n",
      "4 torch.Size([2, 12])\n",
      "EDGE_INDEX: torch.Size([2, 12])\t\tLOOP_INDEX: torch.Size([2, 4])\n",
      "241 --- torch.Size([2, 12])\n",
      "99 --- torch.Size([2, 12])\n",
      "4 torch.Size([2, 12])\n",
      "EDGE_INDEX: torch.Size([2, 12])\t\tLOOP_INDEX: torch.Size([2, 4])\n"
     ]
    },
    {
     "data": {
      "image/png": "[encoded data removed]",
      "text/plain": [
       "<Figure size 1000x400 with 1 Axes>"
      ]
     },
     "metadata": {},
     "output_type": "display_data"
    }
   ],
   "source": [
    "plot_patient_mortality_probability(model, test_loader, patient_index=398, device=device)"
   ]
  },
  {
   "cell_type": "code",
   "execution_count": 9,
   "metadata": {},
   "outputs": [],
   "source": [
    "from matplotlib.colors import LogNorm\n",
    "def plot_som_activation_heatmap(heatmap, som_dim, cmap=\"YlGnBu\"):\n",
    "    H, W = som_dim\n",
    "    plt.figure(figsize=(W*0.6, H*0.6))\n",
    "    sns.heatmap(\n",
    "        heatmap,\n",
    "        cmap=cmap,\n",
    "        norm=LogNorm(vmin=max(heatmap.min(), 1e-3), vmax=heatmap.max()),\n",
    "        annot=False,\n",
    "        fmt=\"d\",\n",
    "        square=True,\n",
    "        cbar_kws={\"label\": \"Activation Count\"}\n",
    "    )\n",
    "    plt.title(\"Overall SOM Activation\")\n",
    "    plt.xlabel(\"SOM Width\")\n",
    "    plt.ylabel(\"SOM Height\")\n",
    "    plt.gca().invert_yaxis()\n",
    "    plt.tight_layout()\n",
    "    plt.show()"
   ]
  },
  {
   "cell_type": "code",
   "execution_count": 10,
   "metadata": {},
   "outputs": [
    {
     "name": "stdout",
     "output_type": "stream",
     "text": [
      "241 --- torch.Size([2, 410])\n",
      "99 --- torch.Size([2, 410])\n",
      "165 torch.Size([2, 410])\n",
      "EDGE_INDEX: torch.Size([2, 410])\t\tLOOP_INDEX: torch.Size([2, 165])\n",
      "241 --- torch.Size([2, 410])\n",
      "99 --- torch.Size([2, 410])\n",
      "165 torch.Size([2, 410])\n",
      "EDGE_INDEX: torch.Size([2, 410])\t\tLOOP_INDEX: torch.Size([2, 165])\n",
      "241 --- torch.Size([2, 510])\n",
      "99 --- torch.Size([2, 510])\n",
      "190 torch.Size([2, 510])\n",
      "EDGE_INDEX: torch.Size([2, 510])\t\tLOOP_INDEX: torch.Size([2, 190])\n",
      "241 --- torch.Size([2, 510])\n",
      "99 --- torch.Size([2, 510])\n",
      "190 torch.Size([2, 510])\n",
      "EDGE_INDEX: torch.Size([2, 510])\t\tLOOP_INDEX: torch.Size([2, 190])\n",
      "241 --- torch.Size([2, 452])\n",
      "99 --- torch.Size([2, 452])\n",
      "179 torch.Size([2, 452])\n",
      "EDGE_INDEX: torch.Size([2, 452])\t\tLOOP_INDEX: torch.Size([2, 179])\n",
      "241 --- torch.Size([2, 452])\n",
      "99 --- torch.Size([2, 452])\n",
      "179 torch.Size([2, 452])\n",
      "EDGE_INDEX: torch.Size([2, 452])\t\tLOOP_INDEX: torch.Size([2, 179])\n",
      "241 --- torch.Size([2, 444])\n",
      "99 --- torch.Size([2, 444])\n",
      "178 torch.Size([2, 444])\n",
      "EDGE_INDEX: torch.Size([2, 444])\t\tLOOP_INDEX: torch.Size([2, 178])\n",
      "241 --- torch.Size([2, 444])\n",
      "99 --- torch.Size([2, 444])\n",
      "178 torch.Size([2, 444])\n",
      "EDGE_INDEX: torch.Size([2, 444])\t\tLOOP_INDEX: torch.Size([2, 178])\n",
      "241 --- torch.Size([2, 454])\n",
      "99 --- torch.Size([2, 454])\n",
      "178 torch.Size([2, 454])\n",
      "EDGE_INDEX: torch.Size([2, 454])\t\tLOOP_INDEX: torch.Size([2, 178])\n",
      "241 --- torch.Size([2, 454])\n",
      "99 --- torch.Size([2, 454])\n",
      "178 torch.Size([2, 454])\n",
      "EDGE_INDEX: torch.Size([2, 454])\t\tLOOP_INDEX: torch.Size([2, 178])\n",
      "241 --- torch.Size([2, 430])\n",
      "99 --- torch.Size([2, 430])\n",
      "170 torch.Size([2, 430])\n",
      "EDGE_INDEX: torch.Size([2, 430])\t\tLOOP_INDEX: torch.Size([2, 170])\n",
      "241 --- torch.Size([2, 430])\n",
      "99 --- torch.Size([2, 430])\n",
      "170 torch.Size([2, 430])\n",
      "EDGE_INDEX: torch.Size([2, 430])\t\tLOOP_INDEX: torch.Size([2, 170])\n",
      "241 --- torch.Size([2, 670])\n",
      "99 --- torch.Size([2, 670])\n",
      "221 torch.Size([2, 670])\n",
      "EDGE_INDEX: torch.Size([2, 670])\t\tLOOP_INDEX: torch.Size([2, 221])\n",
      "241 --- torch.Size([2, 670])\n",
      "99 --- torch.Size([2, 670])\n",
      "221 torch.Size([2, 670])\n",
      "EDGE_INDEX: torch.Size([2, 670])\t\tLOOP_INDEX: torch.Size([2, 221])\n",
      "241 --- torch.Size([2, 532])\n",
      "99 --- torch.Size([2, 532])\n",
      "184 torch.Size([2, 532])\n",
      "EDGE_INDEX: torch.Size([2, 532])\t\tLOOP_INDEX: torch.Size([2, 184])\n",
      "241 --- torch.Size([2, 532])\n",
      "99 --- torch.Size([2, 532])\n",
      "184 torch.Size([2, 532])\n",
      "EDGE_INDEX: torch.Size([2, 532])\t\tLOOP_INDEX: torch.Size([2, 184])\n",
      "241 --- torch.Size([2, 464])\n",
      "99 --- torch.Size([2, 464])\n",
      "176 torch.Size([2, 464])\n",
      "EDGE_INDEX: torch.Size([2, 464])\t\tLOOP_INDEX: torch.Size([2, 176])\n",
      "241 --- torch.Size([2, 464])\n",
      "99 --- torch.Size([2, 464])\n",
      "176 torch.Size([2, 464])\n",
      "EDGE_INDEX: torch.Size([2, 464])\t\tLOOP_INDEX: torch.Size([2, 176])\n",
      "241 --- torch.Size([2, 660])\n",
      "99 --- torch.Size([2, 660])\n",
      "202 torch.Size([2, 660])\n",
      "EDGE_INDEX: torch.Size([2, 660])\t\tLOOP_INDEX: torch.Size([2, 202])\n",
      "241 --- torch.Size([2, 660])\n",
      "99 --- torch.Size([2, 660])\n",
      "202 torch.Size([2, 660])\n",
      "EDGE_INDEX: torch.Size([2, 660])\t\tLOOP_INDEX: torch.Size([2, 202])\n",
      "241 --- torch.Size([2, 412])\n",
      "99 --- torch.Size([2, 412])\n",
      "160 torch.Size([2, 412])\n",
      "EDGE_INDEX: torch.Size([2, 412])\t\tLOOP_INDEX: torch.Size([2, 160])\n",
      "241 --- torch.Size([2, 412])\n",
      "99 --- torch.Size([2, 412])\n",
      "160 torch.Size([2, 412])\n",
      "EDGE_INDEX: torch.Size([2, 412])\t\tLOOP_INDEX: torch.Size([2, 160])\n",
      "241 --- torch.Size([2, 336])\n",
      "99 --- torch.Size([2, 336])\n",
      "150 torch.Size([2, 336])\n",
      "EDGE_INDEX: torch.Size([2, 336])\t\tLOOP_INDEX: torch.Size([2, 150])\n",
      "241 --- torch.Size([2, 336])\n",
      "99 --- torch.Size([2, 336])\n",
      "150 torch.Size([2, 336])\n",
      "EDGE_INDEX: torch.Size([2, 336])\t\tLOOP_INDEX: torch.Size([2, 150])\n",
      "241 --- torch.Size([2, 480])\n",
      "99 --- torch.Size([2, 480])\n",
      "176 torch.Size([2, 480])\n",
      "EDGE_INDEX: torch.Size([2, 480])\t\tLOOP_INDEX: torch.Size([2, 176])\n",
      "241 --- torch.Size([2, 480])\n",
      "99 --- torch.Size([2, 480])\n",
      "176 torch.Size([2, 480])\n",
      "EDGE_INDEX: torch.Size([2, 480])\t\tLOOP_INDEX: torch.Size([2, 176])\n",
      "241 --- torch.Size([2, 392])\n",
      "99 --- torch.Size([2, 392])\n",
      "153 torch.Size([2, 392])\n",
      "EDGE_INDEX: torch.Size([2, 392])\t\tLOOP_INDEX: torch.Size([2, 153])\n",
      "241 --- torch.Size([2, 392])\n",
      "99 --- torch.Size([2, 392])\n",
      "153 torch.Size([2, 392])\n",
      "EDGE_INDEX: torch.Size([2, 392])\t\tLOOP_INDEX: torch.Size([2, 153])\n",
      "241 --- torch.Size([2, 246])\n",
      "99 --- torch.Size([2, 246])\n",
      "87 torch.Size([2, 246])\n",
      "EDGE_INDEX: torch.Size([2, 246])\t\tLOOP_INDEX: torch.Size([2, 87])\n",
      "241 --- torch.Size([2, 246])\n",
      "99 --- torch.Size([2, 246])\n",
      "87 torch.Size([2, 246])\n",
      "EDGE_INDEX: torch.Size([2, 246])\t\tLOOP_INDEX: torch.Size([2, 87])\n"
     ]
    },
    {
     "data": {
      "image/png": "[encoded data removed]",
      "text/plain": [
       "<Figure size 600x600 with 2 Axes>"
      ]
     },
     "metadata": {},
     "output_type": "display_data"
    }
   ],
   "source": [
    "som_dim = (10,10)\n",
    "activation_grid = compute_som_activation_heatmap(model, test_loader, device, som_dim)\n",
    "plot_som_activation_heatmap(activation_grid, som_dim)"
   ]
  },
  {
   "cell_type": "code",
   "execution_count": 11,
   "metadata": {},
   "outputs": [
    {
     "name": "stdout",
     "output_type": "stream",
     "text": [
      "241 --- torch.Size([2, 410])\n",
      "99 --- torch.Size([2, 410])\n",
      "165 torch.Size([2, 410])\n",
      "EDGE_INDEX: torch.Size([2, 410])\t\tLOOP_INDEX: torch.Size([2, 165])\n",
      "241 --- torch.Size([2, 410])\n",
      "99 --- torch.Size([2, 410])\n",
      "165 torch.Size([2, 410])\n",
      "EDGE_INDEX: torch.Size([2, 410])\t\tLOOP_INDEX: torch.Size([2, 165])\n",
      "241 --- torch.Size([2, 510])\n",
      "99 --- torch.Size([2, 510])\n",
      "190 torch.Size([2, 510])\n",
      "EDGE_INDEX: torch.Size([2, 510])\t\tLOOP_INDEX: torch.Size([2, 190])\n",
      "241 --- torch.Size([2, 510])\n",
      "99 --- torch.Size([2, 510])\n",
      "190 torch.Size([2, 510])\n",
      "EDGE_INDEX: torch.Size([2, 510])\t\tLOOP_INDEX: torch.Size([2, 190])\n",
      "241 --- torch.Size([2, 452])\n",
      "99 --- torch.Size([2, 452])\n",
      "179 torch.Size([2, 452])\n",
      "EDGE_INDEX: torch.Size([2, 452])\t\tLOOP_INDEX: torch.Size([2, 179])\n",
      "241 --- torch.Size([2, 452])\n",
      "99 --- torch.Size([2, 452])\n",
      "179 torch.Size([2, 452])\n",
      "EDGE_INDEX: torch.Size([2, 452])\t\tLOOP_INDEX: torch.Size([2, 179])\n",
      "241 --- torch.Size([2, 444])\n",
      "99 --- torch.Size([2, 444])\n",
      "178 torch.Size([2, 444])\n",
      "EDGE_INDEX: torch.Size([2, 444])\t\tLOOP_INDEX: torch.Size([2, 178])\n",
      "241 --- torch.Size([2, 444])\n",
      "99 --- torch.Size([2, 444])\n",
      "178 torch.Size([2, 444])\n",
      "EDGE_INDEX: torch.Size([2, 444])\t\tLOOP_INDEX: torch.Size([2, 178])\n",
      "241 --- torch.Size([2, 454])\n",
      "99 --- torch.Size([2, 454])\n",
      "178 torch.Size([2, 454])\n",
      "EDGE_INDEX: torch.Size([2, 454])\t\tLOOP_INDEX: torch.Size([2, 178])\n",
      "241 --- torch.Size([2, 454])\n",
      "99 --- torch.Size([2, 454])\n",
      "178 torch.Size([2, 454])\n",
      "EDGE_INDEX: torch.Size([2, 454])\t\tLOOP_INDEX: torch.Size([2, 178])\n",
      "241 --- torch.Size([2, 430])\n",
      "99 --- torch.Size([2, 430])\n",
      "170 torch.Size([2, 430])\n",
      "EDGE_INDEX: torch.Size([2, 430])\t\tLOOP_INDEX: torch.Size([2, 170])\n",
      "241 --- torch.Size([2, 430])\n",
      "99 --- torch.Size([2, 430])\n",
      "170 torch.Size([2, 430])\n",
      "EDGE_INDEX: torch.Size([2, 430])\t\tLOOP_INDEX: torch.Size([2, 170])\n",
      "241 --- torch.Size([2, 670])\n",
      "99 --- torch.Size([2, 670])\n",
      "221 torch.Size([2, 670])\n",
      "EDGE_INDEX: torch.Size([2, 670])\t\tLOOP_INDEX: torch.Size([2, 221])\n",
      "241 --- torch.Size([2, 670])\n",
      "99 --- torch.Size([2, 670])\n",
      "221 torch.Size([2, 670])\n",
      "EDGE_INDEX: torch.Size([2, 670])\t\tLOOP_INDEX: torch.Size([2, 221])\n",
      "241 --- torch.Size([2, 532])\n",
      "99 --- torch.Size([2, 532])\n",
      "184 torch.Size([2, 532])\n",
      "EDGE_INDEX: torch.Size([2, 532])\t\tLOOP_INDEX: torch.Size([2, 184])\n",
      "241 --- torch.Size([2, 532])\n",
      "99 --- torch.Size([2, 532])\n",
      "184 torch.Size([2, 532])\n",
      "EDGE_INDEX: torch.Size([2, 532])\t\tLOOP_INDEX: torch.Size([2, 184])\n",
      "241 --- torch.Size([2, 464])\n",
      "99 --- torch.Size([2, 464])\n",
      "176 torch.Size([2, 464])\n",
      "EDGE_INDEX: torch.Size([2, 464])\t\tLOOP_INDEX: torch.Size([2, 176])\n",
      "241 --- torch.Size([2, 464])\n",
      "99 --- torch.Size([2, 464])\n",
      "176 torch.Size([2, 464])\n",
      "EDGE_INDEX: torch.Size([2, 464])\t\tLOOP_INDEX: torch.Size([2, 176])\n",
      "241 --- torch.Size([2, 660])\n",
      "99 --- torch.Size([2, 660])\n",
      "202 torch.Size([2, 660])\n",
      "EDGE_INDEX: torch.Size([2, 660])\t\tLOOP_INDEX: torch.Size([2, 202])\n",
      "241 --- torch.Size([2, 660])\n",
      "99 --- torch.Size([2, 660])\n",
      "202 torch.Size([2, 660])\n",
      "EDGE_INDEX: torch.Size([2, 660])\t\tLOOP_INDEX: torch.Size([2, 202])\n",
      "241 --- torch.Size([2, 412])\n",
      "99 --- torch.Size([2, 412])\n",
      "160 torch.Size([2, 412])\n",
      "EDGE_INDEX: torch.Size([2, 412])\t\tLOOP_INDEX: torch.Size([2, 160])\n",
      "241 --- torch.Size([2, 412])\n",
      "99 --- torch.Size([2, 412])\n",
      "160 torch.Size([2, 412])\n",
      "EDGE_INDEX: torch.Size([2, 412])\t\tLOOP_INDEX: torch.Size([2, 160])\n",
      "241 --- torch.Size([2, 336])\n",
      "99 --- torch.Size([2, 336])\n",
      "150 torch.Size([2, 336])\n",
      "EDGE_INDEX: torch.Size([2, 336])\t\tLOOP_INDEX: torch.Size([2, 150])\n",
      "241 --- torch.Size([2, 336])\n",
      "99 --- torch.Size([2, 336])\n",
      "150 torch.Size([2, 336])\n",
      "EDGE_INDEX: torch.Size([2, 336])\t\tLOOP_INDEX: torch.Size([2, 150])\n",
      "241 --- torch.Size([2, 480])\n",
      "99 --- torch.Size([2, 480])\n",
      "176 torch.Size([2, 480])\n",
      "EDGE_INDEX: torch.Size([2, 480])\t\tLOOP_INDEX: torch.Size([2, 176])\n",
      "241 --- torch.Size([2, 480])\n",
      "99 --- torch.Size([2, 480])\n",
      "176 torch.Size([2, 480])\n",
      "EDGE_INDEX: torch.Size([2, 480])\t\tLOOP_INDEX: torch.Size([2, 176])\n",
      "241 --- torch.Size([2, 392])\n",
      "99 --- torch.Size([2, 392])\n",
      "153 torch.Size([2, 392])\n",
      "EDGE_INDEX: torch.Size([2, 392])\t\tLOOP_INDEX: torch.Size([2, 153])\n",
      "241 --- torch.Size([2, 392])\n",
      "99 --- torch.Size([2, 392])\n",
      "153 torch.Size([2, 392])\n",
      "EDGE_INDEX: torch.Size([2, 392])\t\tLOOP_INDEX: torch.Size([2, 153])\n",
      "241 --- torch.Size([2, 246])\n",
      "99 --- torch.Size([2, 246])\n",
      "87 torch.Size([2, 246])\n",
      "EDGE_INDEX: torch.Size([2, 246])\t\tLOOP_INDEX: torch.Size([2, 87])\n",
      "241 --- torch.Size([2, 246])\n",
      "99 --- torch.Size([2, 246])\n",
      "87 torch.Size([2, 246])\n",
      "EDGE_INDEX: torch.Size([2, 246])\t\tLOOP_INDEX: torch.Size([2, 87])\n"
     ]
    },
    {
     "data": {
      "image/png": "[encoded data removed]",
      "text/plain": [
       "<Figure size 600x600 with 2 Axes>"
      ]
     },
     "metadata": {},
     "output_type": "display_data"
    }
   ],
   "source": [
    "som_dim = (10,10)\n",
    "mort_heatmap = compute_som_avg_mortality_prob(model, test_loader, device, som_dim)\n",
    "plot_som_avg_mortality_prob(mort_heatmap, som_dim)"
   ]
  },
  {
   "cell_type": "code",
   "execution_count": null,
   "metadata": {},
   "outputs": [
    {
     "data": {
      "text/plain": [
       "<All keys matched successfully>"
      ]
     },
     "execution_count": 5,
     "metadata": {},
     "output_type": "execute_result"
    }
   ],
   "source": [
    "# best_model = '/home/mei/nas/docker/thesis/data/model_results/final_model_retnet/risk/resampled_30_smooth/best_joint.pth'\n",
    "# model2 = PatientOutcomeModel(flat_input_dim,graph_input_dim, hidden_dim,som=som,pretrained_encoder=pretrained_encoder).to(device) \n",
    "# model2.load_state_dict(torch.load(best_model,weights_only=True))"
   ]
  },
  {
   "cell_type": "code",
   "execution_count": 12,
   "metadata": {},
   "outputs": [
    {
     "name": "stdout",
     "output_type": "stream",
     "text": [
      "test_loader 中 cat=0 的样本索引： [327, 194, 122, 161, 303, 123, 127, 51, 117, 109, 241, 279, 48, 61, 53, 302, 18, 114, 131, 77, 75, 88, 46, 43, 418, 71, 330]\n",
      "cat=0 的患者 ID: [3118263, 2441148, 1848702, 2235716, 3064491, 1849239, 1854497, 1721495, 1842081, 1822777, 2642496, 2851573, 1718669, 1730209, 1722941, 3063135, 1334230, 1833798, 1857925, 1764355, 1762378, 1788553, 1364166, 1358338, 3232813, 1754475, 3123772]\n",
      "cat=0 的样本长度: [475, 246, 152, 145, 80, 79, 58, 57, 55, 49, 49, 49, 48, 48, 47, 47, 44, 44, 44, 43, 42, 41, 39, 36, 36, 35, 32]\n",
      "test_loader 中 cat=1 的样本索引： [15, 235, 28, 286, 267, 326, 98, 188, 334, 380, 52, 331, 240, 273, 352, 423, 56, 70, 42, 391, 179, 377, 217, 103, 140, 269, 356, 40, 76, 236, 408, 97, 130, 416, 315, 99, 208, 0, 372, 407, 319, 102, 126, 378, 347, 409, 219, 313, 368, 92, 72, 417, 111, 403, 447, 289, 31, 178, 81, 390, 229, 67, 115, 184, 3, 263, 419, 277, 439, 294, 274, 437, 268, 54, 264, 354, 259, 388, 191, 124, 311, 340, 233, 255, 105, 299, 246, 73, 5, 26, 35, 116, 1, 60, 223, 405, 387, 38, 175, 37, 120, 30, 238, 13, 275, 22, 386, 256, 258, 213, 305, 450, 351, 254, 290, 64, 151, 34, 89, 74, 214, 10, 23, 119, 312, 24, 128, 349, 79, 93, 424, 237, 7, 20, 25, 345, 399, 90, 343, 404, 142, 344, 9, 136, 36, 32, 83, 172, 287, 296, 285, 41, 4, 58, 367, 33, 181, 297, 27, 11, 190, 68, 295, 226, 346, 66, 360, 436, 62, 95, 169, 337, 16, 252, 266, 376, 444, 357, 125, 366, 260, 63, 304, 39, 460, 250, 369, 401, 94, 17, 339, 442, 87, 203, 362, 205, 361, 448, 215, 2, 247, 350, 110, 144, 300, 65, 143, 324, 383, 381, 227, 85, 335, 370, 239, 106, 457, 19, 155, 12, 428, 262, 231, 425, 201, 200, 55, 291, 374, 411, 454, 382, 392, 29, 431, 57, 322, 281, 8, 148, 91, 292, 80, 309, 301, 432, 455, 180, 84, 284, 318, 421, 50, 230, 202, 14, 363, 298, 342, 355, 112, 412, 78, 121, 353, 320, 438, 21, 118, 96, 107, 134, 49, 160, 157, 338, 138, 458, 139, 189, 248, 397, 135, 449, 113, 86, 435, 446, 101, 242, 222, 420, 156, 415]\n",
      "cat=1 的患者 ID: [1327763, 2631475, 1341878, 2879353, 2775718, 3117939, 1800101, 2417929, 3131042, 3188703, 1722323, 3125728, 2641900, 2828013, 3169712, 3240660, 1726618, 1753227, 1357048, 3197047, 2357460, 3186997, 2592611, 1809668, 2034700, 2795828, 3171259, 1355793, 1764028, 2632026, 3219697, 1796288, 1857279, 3231667, 3096179, 1804298, 2579292, 1315985, 3182316, 3218750, 3103631, 1806836, 1854393, 3187149, 3165745, 3221091, 2600093, 3093581, 3180196, 1790095, 1757237, 3232789, 1823703, 3211830, 492652, 2887030, 1345506, 2357250, 1775230, 3196719, 2621071, 1743869, 1836434, 2383552, 1316527, 2769144, 3232944, 2849319, 469511, 3035861, 2829231, 467519, 2794286, 1724041, 2773574, 3170435, 2744549, 3194471, 2432656, 1850408, 3090755, 3152166, 2629821, 2735640, 1817416, 3049703, 2675530, 1758849, 1318693, 1339969, 1352445, 1837508, 1316285, 1729565, 2606546, 3217926, 3194362, 1355623, 2351456, 1355460, 1847284, 1344504, 2635607, 1325246, 2836223, 1336870, 3194103, 2739701, 2744534, 2583536, 3067627, 510771, 3169593, 2730041, 2889884, 1737172, 2148925, 1350443, 1788790, 1760548, 2585209, 1322933, 1337350, 1844832, 3091920, 1339239, 1856099, 3167984, 1766757, 1793310, 3240896, 2633208, 1319181, 1334991, 1339415, 3164453, 3206903, 1788983, 3161902, 3215201, 2047648, 3162056, 1322130, 1990950, 1355427, 1345624, 1780787, 2327125, 2880968, 3043702, 2872418, 1356192, 1316648, 1727400, 3179716, 1348115, 2368493, 3044263, 1340714, 1323061, 2423428, 1751546, 3036838, 2615670, 3165010, 1742439, 3174336, 466355, 1730423, 1794391, 2300782, 3139986, 1329902, 2718314, 2775463, 3186104, 483452, 3173647, 1853600, 3179248, 2754168, 1733084, 3066964, 1355721, 534516, 2697949, 3182007, 3211259, 1794021, 1330827, 3143785, 478163, 1785576, 2514122, 3176220, 2575612, 3174880, 496831, 2585973, 1316503, 2683005, 3169493, 1823438, 2059738, 3053175, 1740963, 2048864, 3115052, 3190318, 3188763, 2620259, 1782858, 3134046, 3182256, 2638240, 1821022, 525969, 1334945, 2191139, 1324386, 445889, 2766314, 2623395, 3244909, 2503291, 2499606, 1724508, 2895124, 3183390, 3224540, 520340, 3189842, 3197559, 1343731, 447820, 1727155, 3109987, 2857347, 1321327, 2107573, 1790006, 2901654, 1768659, 3085874, 3053881, 449566, 522242, 2360691, 1781158, 2870751, 3102728, 3237396, 1721128, 2622682, 2503806, 1326309, 3176708, 3048635, 3161209, 3171179, 1827480, 3225401, 1766053, 1848207, 3170409, 3106105, 468588, 1335985, 1843609, 1794799, 1822166, 1967104, 1720111, 2223135, 2208877, 3142805, 2001519, 534135, 2014714, 2422619, 2686416, 3204327, 1977018, 507834, 1833483, 1783140, 464766, 488961, 1806590, 2644002, 2603980, 3236580, 2204077, 3229076]\n",
      "cat=1 的样本长度: [530, 530, 529, 529, 529, 528, 527, 527, 527, 527, 526, 526, 525, 525, 525, 525, 524, 524, 523, 523, 522, 522, 521, 520, 520, 520, 520, 519, 519, 519, 518, 517, 517, 515, 514, 510, 508, 504, 499, 499, 496, 495, 491, 486, 484, 482, 478, 478, 474, 473, 473, 466, 463, 460, 453, 435, 434, 431, 430, 425, 423, 420, 418, 418, 409, 405, 405, 404, 404, 400, 388, 386, 379, 378, 376, 375, 373, 373, 372, 368, 368, 365, 361, 359, 358, 358, 357, 356, 337, 335, 333, 331, 330, 328, 328, 327, 327, 326, 324, 323, 323, 321, 321, 319, 319, 316, 316, 315, 315, 313, 313, 313, 311, 307, 306, 305, 295, 292, 289, 287, 287, 286, 285, 282, 279, 278, 278, 278, 277, 276, 276, 275, 273, 272, 271, 267, 264, 263, 262, 262, 261, 260, 259, 254, 249, 247, 247, 246, 246, 245, 243, 242, 240, 239, 239, 238, 237, 237, 236, 235, 235, 234, 233, 232, 231, 230, 230, 229, 228, 228, 227, 227, 226, 226, 220, 218, 216, 211, 208, 205, 203, 202, 202, 198, 194, 189, 189, 189, 188, 187, 187, 186, 185, 184, 183, 182, 182, 181, 180, 179, 178, 178, 177, 177, 177, 174, 171, 168, 167, 167, 165, 163, 161, 161, 157, 152, 151, 150, 146, 145, 145, 144, 141, 140, 138, 138, 136, 136, 136, 135, 134, 133, 133, 131, 131, 130, 128, 127, 126, 126, 125, 125, 124, 124, 124, 115, 113, 112, 105, 101, 101, 99, 98, 98, 96, 94, 94, 93, 92, 88, 86, 86, 84, 83, 82, 81, 81, 80, 77, 76, 75, 74, 73, 70, 68, 68, 67, 64, 63, 63, 56, 56, 55, 55, 53, 50, 47, 47, 46, 46, 43, 41, 36, 30]\n",
      "test_loader 中 cat=2 的样本索引： [220, 278, 406, 210, 280, 243, 218, 234, 270, 152, 221, 211, 192, 389, 410, 207, 261, 177, 364, 232, 373, 402, 249, 167, 197, 164, 224, 199, 257, 228, 394, 306, 193, 198, 379, 245, 459, 276, 429, 393, 398, 174, 209, 385, 165, 359, 196, 251, 170, 265, 348, 365, 308, 396, 171, 141, 426, 456, 154, 283, 453, 186, 384, 314, 185, 216, 272, 375, 427, 137, 341, 440, 445, 166, 395, 336, 434, 451, 149, 183, 443, 441, 430, 433, 168, 145, 212, 323, 452]\n",
      "cat=2 的患者 ID: [2600823, 2850001, 3218348, 2582452, 2855985, 2645879, 2599591, 2630393, 2800726, 2160015, 2602560, 2582752, 2434875, 3196635, 3222548, 2576974, 2765737, 2356658, 3178481, 2625447, 3182583, 3211380, 2689908, 2297802, 2471210, 2279968, 2609644, 2478577, 2742516, 2620494, 3198700, 3070103, 2439799, 2471723, 3187444, 2675266, 534484, 2849152, 446339, 3198263, 320647, 2346951, 2579429, 3192911, 2287523, 3174108, 2467277, 2705854, 2300909, 2773822, 3166502, 3178757, 3079727, 3202493, 2300975, 2037672, 426638, 525819, 2182746, 2862670, 519439, 2410431, 3190740, 3094911, 2397214, 2586578, 2814981, 3184344, 430027, 1999416, 3160857, 473412, 485423, 2295318, 3200069, 3136577, 451315, 513778, 2132727, 2383292, 481087, 476771, 446352, 450681, 2298806, 2065254, 2583013, 3113576, 514249]\n",
      "cat=2 的样本长度: [527, 527, 525, 523, 523, 521, 520, 520, 519, 513, 513, 511, 482, 470, 468, 467, 455, 440, 438, 428, 424, 421, 385, 374, 374, 371, 346, 339, 336, 335, 328, 327, 320, 319, 312, 310, 298, 291, 273, 267, 246, 241, 223, 222, 219, 216, 202, 200, 196, 184, 179, 174, 173, 171, 166, 152, 150, 150, 149, 144, 141, 136, 136, 127, 125, 125, 125, 121, 104, 97, 93, 91, 91, 84, 73, 61, 57, 56, 55, 54, 50, 48, 48, 47, 45, 38, 31, 30, 28]\n",
      "test_loader 中 cat=3 的样本索引： [317, 195, 282, 329, 325, 147, 6, 163, 414, 204, 129, 69, 288, 328, 173, 316, 100, 108, 271, 133, 413, 45, 253, 310, 400, 187, 422, 225, 206, 132, 153, 182, 321, 59, 358, 307, 44, 47, 146, 244, 104, 82, 150, 333, 159, 162, 293, 158, 176, 332, 371]\n",
      "cat=3 的患者 ID: [3101154, 2452034, 2861911, 3120701, 3115071, 2088104, 1319019, 2271516, 3226955, 2524513, 1856525, 1752421, 2881351, 3119467, 2328170, 3098663, 1805575, 1822518, 2810322, 1858789, 3226041, 1359029, 2729701, 3090538, 3207324, 2412042, 3239059, 2612422, 2575939, 1858745, 2181888, 2374973, 3106746, 1729481, 3173986, 3070134, 1359017, 1365697, 2084654, 2669599, 1815503, 1779894, 2135888, 3127466, 2216616, 2242932, 3033909, 2215557, 2354138, 3126880, 3182291]\n",
      "cat=3 的样本长度: [445, 357, 337, 331, 319, 296, 292, 269, 267, 265, 237, 232, 220, 214, 208, 192, 172, 163, 161, 153, 145, 130, 129, 125, 118, 117, 108, 100, 83, 80, 76, 75, 75, 70, 65, 56, 54, 44, 44, 41, 36, 34, 34, 34, 22, 17, 16, 15, 15, 10, 8]\n"
     ]
    }
   ],
   "source": [
    "print_statistics_of_dataloaer(test_loader)"
   ]
  },
  {
   "cell_type": "code",
   "execution_count": 13,
   "metadata": {},
   "outputs": [
    {
     "name": "stdout",
     "output_type": "stream",
     "text": [
      "241 --- torch.Size([2, 410])\n",
      "99 --- torch.Size([2, 410])\n",
      "165 torch.Size([2, 410])\n",
      "EDGE_INDEX: torch.Size([2, 410])\t\tLOOP_INDEX: torch.Size([2, 165])\n",
      "241 --- torch.Size([2, 410])\n",
      "99 --- torch.Size([2, 410])\n",
      "165 torch.Size([2, 410])\n",
      "EDGE_INDEX: torch.Size([2, 410])\t\tLOOP_INDEX: torch.Size([2, 165])\n",
      "241 --- torch.Size([2, 510])\n",
      "99 --- torch.Size([2, 510])\n",
      "190 torch.Size([2, 510])\n",
      "EDGE_INDEX: torch.Size([2, 510])\t\tLOOP_INDEX: torch.Size([2, 190])\n",
      "241 --- torch.Size([2, 510])\n",
      "99 --- torch.Size([2, 510])\n",
      "190 torch.Size([2, 510])\n",
      "EDGE_INDEX: torch.Size([2, 510])\t\tLOOP_INDEX: torch.Size([2, 190])\n",
      "241 --- torch.Size([2, 452])\n",
      "99 --- torch.Size([2, 452])\n",
      "179 torch.Size([2, 452])\n",
      "EDGE_INDEX: torch.Size([2, 452])\t\tLOOP_INDEX: torch.Size([2, 179])\n",
      "241 --- torch.Size([2, 452])\n",
      "99 --- torch.Size([2, 452])\n",
      "179 torch.Size([2, 452])\n",
      "EDGE_INDEX: torch.Size([2, 452])\t\tLOOP_INDEX: torch.Size([2, 179])\n",
      "241 --- torch.Size([2, 444])\n",
      "99 --- torch.Size([2, 444])\n",
      "178 torch.Size([2, 444])\n",
      "EDGE_INDEX: torch.Size([2, 444])\t\tLOOP_INDEX: torch.Size([2, 178])\n",
      "241 --- torch.Size([2, 444])\n",
      "99 --- torch.Size([2, 444])\n",
      "178 torch.Size([2, 444])\n",
      "EDGE_INDEX: torch.Size([2, 444])\t\tLOOP_INDEX: torch.Size([2, 178])\n",
      "241 --- torch.Size([2, 454])\n",
      "99 --- torch.Size([2, 454])\n",
      "178 torch.Size([2, 454])\n",
      "EDGE_INDEX: torch.Size([2, 454])\t\tLOOP_INDEX: torch.Size([2, 178])\n",
      "241 --- torch.Size([2, 454])\n",
      "99 --- torch.Size([2, 454])\n",
      "178 torch.Size([2, 454])\n",
      "EDGE_INDEX: torch.Size([2, 454])\t\tLOOP_INDEX: torch.Size([2, 178])\n",
      "241 --- torch.Size([2, 430])\n",
      "99 --- torch.Size([2, 430])\n",
      "170 torch.Size([2, 430])\n",
      "EDGE_INDEX: torch.Size([2, 430])\t\tLOOP_INDEX: torch.Size([2, 170])\n",
      "241 --- torch.Size([2, 430])\n",
      "99 --- torch.Size([2, 430])\n",
      "170 torch.Size([2, 430])\n",
      "EDGE_INDEX: torch.Size([2, 430])\t\tLOOP_INDEX: torch.Size([2, 170])\n",
      "241 --- torch.Size([2, 670])\n",
      "99 --- torch.Size([2, 670])\n",
      "221 torch.Size([2, 670])\n",
      "EDGE_INDEX: torch.Size([2, 670])\t\tLOOP_INDEX: torch.Size([2, 221])\n",
      "241 --- torch.Size([2, 670])\n",
      "99 --- torch.Size([2, 670])\n",
      "221 torch.Size([2, 670])\n",
      "EDGE_INDEX: torch.Size([2, 670])\t\tLOOP_INDEX: torch.Size([2, 221])\n",
      "241 --- torch.Size([2, 532])\n",
      "99 --- torch.Size([2, 532])\n",
      "184 torch.Size([2, 532])\n",
      "EDGE_INDEX: torch.Size([2, 532])\t\tLOOP_INDEX: torch.Size([2, 184])\n",
      "241 --- torch.Size([2, 532])\n",
      "99 --- torch.Size([2, 532])\n",
      "184 torch.Size([2, 532])\n",
      "EDGE_INDEX: torch.Size([2, 532])\t\tLOOP_INDEX: torch.Size([2, 184])\n",
      "241 --- torch.Size([2, 464])\n",
      "99 --- torch.Size([2, 464])\n",
      "176 torch.Size([2, 464])\n",
      "EDGE_INDEX: torch.Size([2, 464])\t\tLOOP_INDEX: torch.Size([2, 176])\n",
      "241 --- torch.Size([2, 464])\n",
      "99 --- torch.Size([2, 464])\n",
      "176 torch.Size([2, 464])\n",
      "EDGE_INDEX: torch.Size([2, 464])\t\tLOOP_INDEX: torch.Size([2, 176])\n",
      "241 --- torch.Size([2, 660])\n",
      "99 --- torch.Size([2, 660])\n",
      "202 torch.Size([2, 660])\n",
      "EDGE_INDEX: torch.Size([2, 660])\t\tLOOP_INDEX: torch.Size([2, 202])\n",
      "241 --- torch.Size([2, 660])\n",
      "99 --- torch.Size([2, 660])\n",
      "202 torch.Size([2, 660])\n",
      "EDGE_INDEX: torch.Size([2, 660])\t\tLOOP_INDEX: torch.Size([2, 202])\n",
      "241 --- torch.Size([2, 412])\n",
      "99 --- torch.Size([2, 412])\n",
      "160 torch.Size([2, 412])\n",
      "EDGE_INDEX: torch.Size([2, 412])\t\tLOOP_INDEX: torch.Size([2, 160])\n",
      "241 --- torch.Size([2, 412])\n",
      "99 --- torch.Size([2, 412])\n",
      "160 torch.Size([2, 412])\n",
      "EDGE_INDEX: torch.Size([2, 412])\t\tLOOP_INDEX: torch.Size([2, 160])\n",
      "241 --- torch.Size([2, 336])\n",
      "99 --- torch.Size([2, 336])\n",
      "150 torch.Size([2, 336])\n",
      "EDGE_INDEX: torch.Size([2, 336])\t\tLOOP_INDEX: torch.Size([2, 150])\n",
      "241 --- torch.Size([2, 336])\n",
      "99 --- torch.Size([2, 336])\n",
      "150 torch.Size([2, 336])\n",
      "EDGE_INDEX: torch.Size([2, 336])\t\tLOOP_INDEX: torch.Size([2, 150])\n",
      "241 --- torch.Size([2, 480])\n",
      "99 --- torch.Size([2, 480])\n",
      "176 torch.Size([2, 480])\n",
      "EDGE_INDEX: torch.Size([2, 480])\t\tLOOP_INDEX: torch.Size([2, 176])\n",
      "241 --- torch.Size([2, 480])\n",
      "99 --- torch.Size([2, 480])\n",
      "176 torch.Size([2, 480])\n",
      "EDGE_INDEX: torch.Size([2, 480])\t\tLOOP_INDEX: torch.Size([2, 176])\n",
      "241 --- torch.Size([2, 392])\n",
      "99 --- torch.Size([2, 392])\n",
      "153 torch.Size([2, 392])\n",
      "EDGE_INDEX: torch.Size([2, 392])\t\tLOOP_INDEX: torch.Size([2, 153])\n",
      "241 --- torch.Size([2, 392])\n",
      "99 --- torch.Size([2, 392])\n",
      "153 torch.Size([2, 392])\n",
      "EDGE_INDEX: torch.Size([2, 392])\t\tLOOP_INDEX: torch.Size([2, 153])\n",
      "241 --- torch.Size([2, 246])\n",
      "99 --- torch.Size([2, 246])\n",
      "87 torch.Size([2, 246])\n",
      "EDGE_INDEX: torch.Size([2, 246])\t\tLOOP_INDEX: torch.Size([2, 87])\n",
      "241 --- torch.Size([2, 246])\n",
      "99 --- torch.Size([2, 246])\n",
      "87 torch.Size([2, 246])\n",
      "EDGE_INDEX: torch.Size([2, 246])\t\tLOOP_INDEX: torch.Size([2, 87])\n"
     ]
    }
   ],
   "source": [
    "# --- 1. 计算热力图 ---\n",
    "som_dim = (10,10)\n",
    "mort_heatmap = compute_som_avg_mortality_prob(model, test_loader, device, som_dim)"
   ]
  },
  {
   "cell_type": "code",
   "execution_count": 14,
   "metadata": {},
   "outputs": [
    {
     "name": "stdout",
     "output_type": "stream",
     "text": [
      "--- Searching for specified patient IDs: ['2441148'] ---\n"
     ]
    },
    {
     "name": "stderr",
     "output_type": "stream",
     "text": [
      "Searching for patients:  27%|██▋       | 4/15 [00:00<00:00, 36.37it/s]"
     ]
    },
    {
     "name": "stdout",
     "output_type": "stream",
     "text": [
      "  -> Found 1 target(s) in batch. Forward pass...\n",
      "241 --- torch.Size([2, 670])\n",
      "99 --- torch.Size([2, 670])\n",
      "221 torch.Size([2, 670])\n",
      "EDGE_INDEX: torch.Size([2, 670])\t\tLOOP_INDEX: torch.Size([2, 221])\n",
      "241 --- torch.Size([2, 670])\n",
      "99 --- torch.Size([2, 670])\n"
     ]
    },
    {
     "name": "stderr",
     "output_type": "stream",
     "text": [
      "Searching for patients:  40%|████      | 6/15 [00:00<00:00, 21.66it/s]\n"
     ]
    },
    {
     "name": "stdout",
     "output_type": "stream",
     "text": [
      "221 torch.Size([2, 670])\n",
      "EDGE_INDEX: torch.Size([2, 670])\t\tLOOP_INDEX: torch.Size([2, 221])\n",
      "    -> Trajectory for ID=2441148, category=0, mortality=0\n",
      "--- All targets found. ---\n",
      "\n",
      "Plotting trajectory snapshots at timesteps: [245]\n"
     ]
    },
    {
     "name": "stderr",
     "output_type": "stream",
     "text": [
      "/home/mei/nas/docker/thesis/model_train/model/final_model/mortality/plot.py:458: UserWarning: This figure includes Axes that are not compatible with tight_layout, so results might be incorrect.\n",
      "  plt.tight_layout(rect=[0, 0, 0.7, 0.96])\n"
     ]
    },
    {
     "data": {
      "image/png": "[encoded data removed]",
      "text/plain": [
       "<Figure size 350x400 with 2 Axes>"
      ]
     },
     "metadata": {},
     "output_type": "display_data"
    }
   ],
   "source": [
    "patient_ids = ['2441148'] \n",
    "# 2441148, 1848702, 1848702, 1848702, 1848702, 2235716,\n",
    "targeted_trajectories =  compute_trajectories_by_id_or_category(\n",
    "    model, \n",
    "    test_loader, \n",
    "    device, \n",
    "    som_dim=(10,10),\n",
    "    target_patient_ids=patient_ids \n",
    ")\n",
    "    \n",
    "\n",
    "# --- 3. 绘图 ---\n",
    "max_len = max(len(d[\"coords\"]) for d in targeted_trajectories.values())\n",
    "\n",
    "# 开始，1/4处，1/2处，3/4处，和结束前一个点\n",
    "snapshot_timesteps = [\n",
    "    max_len - 1 \n",
    "]\n",
    "\n",
    "snapshot_timesteps = sorted(list(set(snapshot_timesteps))) \n",
    "\n",
    "print(f\"\\nPlotting trajectory snapshots at timesteps: {snapshot_timesteps}\")\n",
    "\n",
    "plot_trajectory_snapshots_custom_color(\n",
    "    heatmap=mort_heatmap, \n",
    "    trajectories=targeted_trajectories, \n",
    "    som_dim=(10, 10),\n",
    "    snapshot_times=snapshot_timesteps\n",
    ")"
   ]
  },
  {
   "cell_type": "code",
   "execution_count": 15,
   "metadata": {},
   "outputs": [
    {
     "name": "stdout",
     "output_type": "stream",
     "text": [
      "--- Searching for specified patient IDs: ['3120701'] ---\n"
     ]
    },
    {
     "name": "stderr",
     "output_type": "stream",
     "text": [
      "Searching for patients:  53%|█████▎    | 8/15 [00:00<00:00, 35.51it/s]"
     ]
    },
    {
     "name": "stdout",
     "output_type": "stream",
     "text": [
      "  -> Found 1 target(s) in batch. Forward pass...\n",
      "241 --- torch.Size([2, 412])\n",
      "99 --- torch.Size([2, 412])\n",
      "160 torch.Size([2, 412])\n",
      "EDGE_INDEX: torch.Size([2, 412])\t\tLOOP_INDEX: torch.Size([2, 160])\n",
      "241 --- torch.Size([2, 412])\n",
      "99 --- torch.Size([2, 412])\n",
      "160 torch.Size([2, 412])\n",
      "EDGE_INDEX: torch.Size([2, 412])\t\tLOOP_INDEX: torch.Size([2, 160])\n",
      "    -> Trajectory for ID=3120701, category=3, mortality=1\n",
      "--- All targets found. ---\n"
     ]
    },
    {
     "name": "stderr",
     "output_type": "stream",
     "text": [
      "Searching for patients:  67%|██████▋   | 10/15 [00:00<00:00, 19.51it/s]\n",
      "/home/mei/nas/docker/thesis/model_train/model/final_model/mortality/plot.py:458: UserWarning: This figure includes Axes that are not compatible with tight_layout, so results might be incorrect.\n",
      "  plt.tight_layout(rect=[0, 0, 0.7, 0.96])\n"
     ]
    },
    {
     "name": "stdout",
     "output_type": "stream",
     "text": [
      "\n",
      "Plotting trajectory snapshots at timesteps: [330]\n"
     ]
    },
    {
     "data": {
      "image/png": "[encoded data removed]",
      "text/plain": [
       "<Figure size 350x400 with 2 Axes>"
      ]
     },
     "metadata": {},
     "output_type": "display_data"
    }
   ],
   "source": [
    "patient_ids = ['3120701'] \n",
    "targeted_trajectories =  compute_trajectories_by_id_or_category(\n",
    "    model, \n",
    "    test_loader, \n",
    "    device, \n",
    "    som_dim=(10,10),\n",
    "    target_patient_ids=patient_ids \n",
    ")\n",
    "    \n",
    "\n",
    "# --- 3. 绘图 ---\n",
    "max_len = max(len(d[\"coords\"]) for d in targeted_trajectories.values())\n",
    "\n",
    "# 开始，1/4处，1/2处，3/4处，和结束前一个点\n",
    "snapshot_timesteps = [\n",
    "    max_len - 1 \n",
    "]\n",
    "\n",
    "snapshot_timesteps = sorted(list(set(snapshot_timesteps))) \n",
    "\n",
    "print(f\"\\nPlotting trajectory snapshots at timesteps: {snapshot_timesteps}\")\n",
    "\n",
    "plot_trajectory_snapshots_custom_color(\n",
    "    heatmap=mort_heatmap, \n",
    "    trajectories=targeted_trajectories, \n",
    "    som_dim=(10, 10),\n",
    "    snapshot_times=snapshot_timesteps\n",
    ")"
   ]
  }
 ],
 "metadata": {
  "kernelspec": {
   "display_name": "eicu",
   "language": "python",
   "name": "python3"
  },
  "language_info": {
   "codemirror_mode": {
    "name": "ipython",
    "version": 3
   },
   "file_extension": ".py",
   "mimetype": "text/x-python",
   "name": "python",
   "nbconvert_exporter": "python",
   "pygments_lexer": "ipython3",
   "version": "3.10.14"
  }
 },
 "nbformat": 4,
 "nbformat_minor": 4
}
