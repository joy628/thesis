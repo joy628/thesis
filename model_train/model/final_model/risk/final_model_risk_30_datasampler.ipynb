{
 "cells": [
  {
   "cell_type": "code",
   "execution_count": 3,
   "metadata": {},
   "outputs": [],
   "source": [
    "import os\n",
    "os.environ['CUDA_VISIBLE_DEVICES'] = '7'\n",
    "import torch\n",
    "import pandas as pd\n",
    "import numpy as np \n",
    "import matplotlib.pyplot as plt\n",
    "import sys\n",
    "sys.path.append('/home/mei/nas/docker/thesis/model_train')\n",
    "from torch.utils.data import DataLoader\n",
    "from torchsampler import ImbalancedDatasetSampler\n",
    "\n",
    "from dataloader.graph_ts_reader_30 import  MultiModalDataset, collate_fn\n",
    "from dataloader.pyg_reader import global_node2idx_mapping\n",
    "from model.final_model.risk.final_model_loss_train_risk import *\n",
    "from model.final_model.risk.final_model_risk import PatientOutcomeModel\n",
    "from model.retnet.autoencoder_v5_retnet import  TSAutoencoder\n",
    "from model.final_model.risk.plot import *\n",
    "\n",
    "\n",
    "\n",
    "import gc\n",
    "gc.collect()\n",
    "torch.cuda.empty_cache()\n",
    "torch.cuda.synchronize()\n",
    "\n"
   ]
  },
  {
   "cell_type": "code",
   "execution_count": 2,
   "metadata": {},
   "outputs": [
    {
     "name": "stdout",
     "output_type": "stream",
     "text": [
      "Built 2150 patient-tree graphs\n",
      "Built 461 patient-tree graphs\n",
      "Built 461 patient-tree graphs\n"
     ]
    }
   ],
   "source": [
    "# ===  get global node2index for graph data === \n",
    "hdf = '/home/mei/nas/docker/thesis/data/hdf/'\n",
    "train_diagnoses = pd.read_hdf(f'{hdf}train/diagnoses.h5',key='df')\n",
    "global_node2idx = global_node2idx_mapping(train_diagnoses)\n",
    "\n",
    "# === load Dataset  ===\n",
    "train_data_dir = \"/home/mei/nas/docker/thesis/data/hdf/train\"\n",
    "val_data_dir = \"/home/mei/nas/docker/thesis/data/hdf/val\"\n",
    "test_data_dir = \"/home/mei/nas/docker/thesis/data/hdf/test\"\n",
    "\n",
    "dataset_train = MultiModalDataset(train_data_dir,global_node2idx)\n",
    "dataset_val = MultiModalDataset(val_data_dir,global_node2idx)\n",
    "dataset_test = MultiModalDataset(test_data_dir,global_node2idx)\n",
    "\n",
    "## load the inbalanced dataset sampler\n",
    "labels_train = [int(dataset_train[i][5]) for i in range(len(dataset_train))]\n",
    "\n",
    "\n",
    "train_sampler = ImbalancedDatasetSampler(dataset_train, labels=labels_train)\n",
    "\n",
    "\n",
    "# build the dataloader\n",
    "train_loader = DataLoader( dataset_train,batch_size=128,sampler=train_sampler,collate_fn=collate_fn )\n",
    "val_loader = DataLoader( dataset_val,batch_size=128,shuffle=False,collate_fn=collate_fn)\n",
    "test_loader = DataLoader( dataset_test,batch_size=128,shuffle=False,collate_fn=collate_fn)\n",
    "\n",
    "train_loader_p = DataLoader(dataset_train, batch_size=128, shuffle=False, collate_fn=collate_fn)\n"
   ]
  },
  {
   "cell_type": "code",
   "execution_count": 4,
   "metadata": {},
   "outputs": [],
   "source": [
    "\n",
    "flat_input_dim = 104\n",
    "hidden_dim = 128\n",
    "graph_input_dim = 62\n",
    "\n",
    "device = torch.device(\"cuda\" if torch.cuda.is_available() else \"cpu\")\n",
    "\n",
    "# === load pretrained model ===\n",
    "pretrained =  TSAutoencoder( input_channels=154, latent_dim=128, som_dim=(10,10), lstm_dim=200,  alpha_som_q=5).to(device)\n",
    "\n",
    "pretrained.load_state_dict(torch.load(\n",
    "\"/home/mei/nas/docker/thesis/data/model_results/retnet/resampled_30_datasampler/stage3/best_joint.pth\", map_location=device,weights_only=True ))\n",
    "pretrained_encoder = pretrained.encoder\n",
    "som = pretrained.som_layer\n",
    "\n",
    "# === load final model ===\n",
    "model = PatientOutcomeModel(flat_input_dim,graph_input_dim, hidden_dim,som=som,pretrained_encoder=pretrained_encoder).to(device) \n",
    "optimizer = torch.optim.Adam(model.parameters(), lr=5e-4)"
   ]
  },
  {
   "cell_type": "code",
   "execution_count": 5,
   "metadata": {},
   "outputs": [
    {
     "name": "stdout",
     "output_type": "stream",
     "text": [
      "[Joint] Building patient_start_offset_global as dict...\n",
      "[Joint] Offset dict built for 2150 patients. Total length: 524096\n"
     ]
    },
    {
     "name": "stderr",
     "output_type": "stream",
     "text": [
      "[Joint E1] Calc Global P:   0%|          | 0/17 [00:00<?, ?it/s]"
     ]
    },
    {
     "name": "stdout",
     "output_type": "stream",
     "text": [
      "241 --- torch.Size([2, 1792])\n",
      "99 --- torch.Size([2, 1792])\n",
      "696 torch.Size([2, 1792])\n",
      "EDGE_INDEX: torch.Size([2, 1792])\t\tLOOP_INDEX: torch.Size([2, 696])\n",
      "241 --- torch.Size([2, 1792])\n",
      "99 --- torch.Size([2, 1792])\n",
      "696 torch.Size([2, 1792])\n",
      "EDGE_INDEX: torch.Size([2, 1792])\t\tLOOP_INDEX: torch.Size([2, 696])\n"
     ]
    },
    {
     "name": "stderr",
     "output_type": "stream",
     "text": [
      "[Joint E1] Calc Global P:   6%|▌         | 1/17 [00:05<01:22,  5.16s/it]"
     ]
    },
    {
     "name": "stdout",
     "output_type": "stream",
     "text": [
      "241 --- torch.Size([2, 1818])\n",
      "99 --- torch.Size([2, 1818])\n",
      "704 torch.Size([2, 1818])\n",
      "EDGE_INDEX: torch.Size([2, 1818])\t\tLOOP_INDEX: torch.Size([2, 704])\n",
      "241 --- torch.Size([2, 1818])\n",
      "99 --- torch.Size([2, 1818])\n",
      "704 torch.Size([2, 1818])\n",
      "EDGE_INDEX: torch.Size([2, 1818])\t\tLOOP_INDEX: torch.Size([2, 704])\n"
     ]
    },
    {
     "name": "stderr",
     "output_type": "stream",
     "text": [
      "[Joint E1] Calc Global P:  18%|█▊        | 3/17 [00:13<00:59,  4.24s/it]"
     ]
    },
    {
     "name": "stdout",
     "output_type": "stream",
     "text": [
      "241 --- torch.Size([2, 1634])\n",
      "99 --- torch.Size([2, 1634])\n",
      "689 torch.Size([2, 1634])\n",
      "EDGE_INDEX: torch.Size([2, 1634])\t\tLOOP_INDEX: torch.Size([2, 689])\n",
      "241 --- torch.Size([2, 1634])\n",
      "99 --- torch.Size([2, 1634])\n",
      "689 torch.Size([2, 1634])\n",
      "EDGE_INDEX: torch.Size([2, 1634])\t\tLOOP_INDEX: torch.Size([2, 689])\n",
      "241 --- torch.Size([2, 1808])\n",
      "99 --- torch.Size([2, 1808])\n",
      "716 torch.Size([2, 1808])\n",
      "EDGE_INDEX: torch.Size([2, 1808])\t\tLOOP_INDEX: torch.Size([2, 716])\n",
      "241 --- torch.Size([2, 1808])\n",
      "99 --- torch.Size([2, 1808])\n",
      "716 torch.Size([2, 1808])\n",
      "EDGE_INDEX: torch.Size([2, 1808])\t\tLOOP_INDEX: torch.Size([2, 716])\n"
     ]
    },
    {
     "name": "stderr",
     "output_type": "stream",
     "text": [
      "[Joint E1] Calc Global P:  24%|██▎       | 4/17 [00:17<00:54,  4.18s/it]"
     ]
    },
    {
     "name": "stdout",
     "output_type": "stream",
     "text": [
      "241 --- torch.Size([2, 1886])\n",
      "99 --- torch.Size([2, 1886])\n",
      "723 torch.Size([2, 1886])\n",
      "EDGE_INDEX: torch.Size([2, 1886])\t\tLOOP_INDEX: torch.Size([2, 723])\n",
      "241 --- torch.Size([2, 1886])\n",
      "99 --- torch.Size([2, 1886])\n",
      "723 torch.Size([2, 1886])\n",
      "EDGE_INDEX: torch.Size([2, 1886])\t\tLOOP_INDEX: torch.Size([2, 723])\n"
     ]
    },
    {
     "name": "stderr",
     "output_type": "stream",
     "text": [
      "[Joint E1] Calc Global P:  29%|██▉       | 5/17 [00:21<00:51,  4.30s/it]"
     ]
    },
    {
     "name": "stdout",
     "output_type": "stream",
     "text": [
      "241 --- torch.Size([2, 1472])\n",
      "99 --- torch.Size([2, 1472])\n",
      "626 torch.Size([2, 1472])\n",
      "EDGE_INDEX: torch.Size([2, 1472])\t\tLOOP_INDEX: torch.Size([2, 626])\n",
      "241 --- torch.Size([2, 1472])\n",
      "99 --- torch.Size([2, 1472])\n",
      "626 torch.Size([2, 1472])\n",
      "EDGE_INDEX: torch.Size([2, 1472])\t\tLOOP_INDEX: torch.Size([2, 626])\n"
     ]
    },
    {
     "name": "stderr",
     "output_type": "stream",
     "text": [
      "[Joint E1] Calc Global P:  35%|███▌      | 6/17 [00:25<00:44,  4.01s/it]"
     ]
    },
    {
     "name": "stdout",
     "output_type": "stream",
     "text": [
      "241 --- torch.Size([2, 1624])\n",
      "99 --- torch.Size([2, 1624])\n",
      "657 torch.Size([2, 1624])\n",
      "EDGE_INDEX: torch.Size([2, 1624])\t\tLOOP_INDEX: torch.Size([2, 657])\n",
      "241 --- torch.Size([2, 1624])\n",
      "99 --- torch.Size([2, 1624])\n",
      "657 torch.Size([2, 1624])\n",
      "EDGE_INDEX: torch.Size([2, 1624])\t\tLOOP_INDEX: torch.Size([2, 657])\n"
     ]
    },
    {
     "name": "stderr",
     "output_type": "stream",
     "text": [
      "[Joint E1] Calc Global P:  41%|████      | 7/17 [00:28<00:37,  3.79s/it]"
     ]
    },
    {
     "name": "stdout",
     "output_type": "stream",
     "text": [
      "241 --- torch.Size([2, 2122])\n",
      "99 --- torch.Size([2, 2122])\n",
      "792 torch.Size([2, 2122])\n",
      "EDGE_INDEX: torch.Size([2, 2122])\t\tLOOP_INDEX: torch.Size([2, 792])\n",
      "241 --- torch.Size([2, 2122])\n",
      "99 --- torch.Size([2, 2122])\n",
      "792 torch.Size([2, 2122])\n",
      "EDGE_INDEX: torch.Size([2, 2122])\t\tLOOP_INDEX: torch.Size([2, 792])\n"
     ]
    },
    {
     "name": "stderr",
     "output_type": "stream",
     "text": [
      "[Joint E1] Calc Global P:  47%|████▋     | 8/17 [00:33<00:36,  4.06s/it]"
     ]
    },
    {
     "name": "stdout",
     "output_type": "stream",
     "text": [
      "241 --- torch.Size([2, 1822])\n",
      "99 --- torch.Size([2, 1822])\n",
      "721 torch.Size([2, 1822])\n",
      "EDGE_INDEX: torch.Size([2, 1822])\t\tLOOP_INDEX: torch.Size([2, 721])\n",
      "241 --- torch.Size([2, 1822])\n",
      "99 --- torch.Size([2, 1822])\n",
      "721 torch.Size([2, 1822])\n",
      "EDGE_INDEX: torch.Size([2, 1822])\t\tLOOP_INDEX: torch.Size([2, 721])\n"
     ]
    },
    {
     "name": "stderr",
     "output_type": "stream",
     "text": [
      "[Joint E1] Calc Global P:  53%|█████▎    | 9/17 [00:37<00:33,  4.25s/it]"
     ]
    },
    {
     "name": "stdout",
     "output_type": "stream",
     "text": [
      "241 --- torch.Size([2, 1654])\n",
      "99 --- torch.Size([2, 1654])\n",
      "671 torch.Size([2, 1654])\n",
      "EDGE_INDEX: torch.Size([2, 1654])\t\tLOOP_INDEX: torch.Size([2, 671])\n",
      "241 --- torch.Size([2, 1654])\n",
      "99 --- torch.Size([2, 1654])\n",
      "671 torch.Size([2, 1654])\n",
      "EDGE_INDEX: torch.Size([2, 1654])\t\tLOOP_INDEX: torch.Size([2, 671])\n"
     ]
    },
    {
     "name": "stderr",
     "output_type": "stream",
     "text": [
      "[Joint E1] Calc Global P:  59%|█████▉    | 10/17 [00:43<00:31,  4.54s/it]"
     ]
    },
    {
     "name": "stdout",
     "output_type": "stream",
     "text": [
      "241 --- torch.Size([2, 2052])\n",
      "99 --- torch.Size([2, 2052])\n",
      "737 torch.Size([2, 2052])\n",
      "EDGE_INDEX: torch.Size([2, 2052])\t\tLOOP_INDEX: torch.Size([2, 737])\n",
      "241 --- torch.Size([2, 2052])\n",
      "99 --- torch.Size([2, 2052])\n",
      "737 torch.Size([2, 2052])\n",
      "EDGE_INDEX: torch.Size([2, 2052])\t\tLOOP_INDEX: torch.Size([2, 737])\n"
     ]
    },
    {
     "name": "stderr",
     "output_type": "stream",
     "text": [
      "[Joint E1] Calc Global P:  65%|██████▍   | 11/17 [00:48<00:27,  4.65s/it]"
     ]
    },
    {
     "name": "stdout",
     "output_type": "stream",
     "text": [
      "241 --- torch.Size([2, 2270])\n",
      "99 --- torch.Size([2, 2270])\n",
      "800 torch.Size([2, 2270])\n",
      "EDGE_INDEX: torch.Size([2, 2270])\t\tLOOP_INDEX: torch.Size([2, 800])\n",
      "241 --- torch.Size([2, 2270])\n",
      "99 --- torch.Size([2, 2270])\n",
      "800 torch.Size([2, 2270])\n",
      "EDGE_INDEX: torch.Size([2, 2270])\t\tLOOP_INDEX: torch.Size([2, 800])\n"
     ]
    },
    {
     "name": "stderr",
     "output_type": "stream",
     "text": [
      "[Joint E1] Calc Global P:  71%|███████   | 12/17 [00:52<00:22,  4.57s/it]"
     ]
    },
    {
     "name": "stdout",
     "output_type": "stream",
     "text": [
      "241 --- torch.Size([2, 1560])\n",
      "99 --- torch.Size([2, 1560])\n",
      "677 torch.Size([2, 1560])\n",
      "EDGE_INDEX: torch.Size([2, 1560])\t\tLOOP_INDEX: torch.Size([2, 677])\n",
      "241 --- torch.Size([2, 1560])\n",
      "99 --- torch.Size([2, 1560])\n",
      "677 torch.Size([2, 1560])\n",
      "EDGE_INDEX: torch.Size([2, 1560])\t\tLOOP_INDEX: torch.Size([2, 677])\n"
     ]
    },
    {
     "name": "stderr",
     "output_type": "stream",
     "text": [
      "[Joint E1] Calc Global P:  76%|███████▋  | 13/17 [00:56<00:17,  4.36s/it]"
     ]
    },
    {
     "name": "stdout",
     "output_type": "stream",
     "text": [
      "241 --- torch.Size([2, 1450])\n",
      "99 --- torch.Size([2, 1450])\n",
      "642 torch.Size([2, 1450])\n",
      "EDGE_INDEX: torch.Size([2, 1450])\t\tLOOP_INDEX: torch.Size([2, 642])\n",
      "241 --- torch.Size([2, 1450])\n",
      "99 --- torch.Size([2, 1450])\n",
      "642 torch.Size([2, 1450])\n",
      "EDGE_INDEX: torch.Size([2, 1450])\t\tLOOP_INDEX: torch.Size([2, 642])\n"
     ]
    },
    {
     "name": "stderr",
     "output_type": "stream",
     "text": [
      "[Joint E1] Calc Global P:  82%|████████▏ | 14/17 [01:01<00:13,  4.59s/it]"
     ]
    },
    {
     "name": "stdout",
     "output_type": "stream",
     "text": [
      "241 --- torch.Size([2, 1412])\n",
      "99 --- torch.Size([2, 1412])\n",
      "628 torch.Size([2, 1412])\n",
      "EDGE_INDEX: torch.Size([2, 1412])\t\tLOOP_INDEX: torch.Size([2, 628])\n",
      "241 --- torch.Size([2, 1412])\n",
      "99 --- torch.Size([2, 1412])\n",
      "628 torch.Size([2, 1412])\n",
      "EDGE_INDEX: torch.Size([2, 1412])\t\tLOOP_INDEX: torch.Size([2, 628])\n"
     ]
    },
    {
     "name": "stderr",
     "output_type": "stream",
     "text": [
      "[Joint E1] Calc Global P:  88%|████████▊ | 15/17 [01:06<00:09,  4.60s/it]"
     ]
    },
    {
     "name": "stdout",
     "output_type": "stream",
     "text": [
      "241 --- torch.Size([2, 1662])\n",
      "99 --- torch.Size([2, 1662])\n",
      "666 torch.Size([2, 1662])\n",
      "EDGE_INDEX: torch.Size([2, 1662])\t\tLOOP_INDEX: torch.Size([2, 666])\n",
      "241 --- torch.Size([2, 1662])\n",
      "99 --- torch.Size([2, 1662])\n",
      "666 torch.Size([2, 1662])\n",
      "EDGE_INDEX: torch.Size([2, 1662])\t\tLOOP_INDEX: torch.Size([2, 666])\n"
     ]
    },
    {
     "name": "stderr",
     "output_type": "stream",
     "text": [
      "[Joint E1] Calc Global P:  94%|█████████▍| 16/17 [01:09<00:04,  4.33s/it]"
     ]
    },
    {
     "name": "stdout",
     "output_type": "stream",
     "text": [
      "241 --- torch.Size([2, 1332])\n",
      "99 --- torch.Size([2, 1332])\n",
      "530 torch.Size([2, 1332])\n",
      "EDGE_INDEX: torch.Size([2, 1332])\t\tLOOP_INDEX: torch.Size([2, 530])\n",
      "241 --- torch.Size([2, 1332])\n",
      "99 --- torch.Size([2, 1332])\n",
      "530 torch.Size([2, 1332])\n",
      "EDGE_INDEX: torch.Size([2, 1332])\t\tLOOP_INDEX: torch.Size([2, 530])\n"
     ]
    },
    {
     "name": "stderr",
     "output_type": "stream",
     "text": [
      "                                                                         \r"
     ]
    },
    {
     "name": "stdout",
     "output_type": "stream",
     "text": [
      "241 --- torch.Size([2, 1776])\n",
      "99 --- torch.Size([2, 1776])\n",
      "711 torch.Size([2, 1776])\n",
      "EDGE_INDEX: torch.Size([2, 1776])\t\tLOOP_INDEX: torch.Size([2, 711])\n",
      "241 --- torch.Size([2, 1776])\n",
      "99 --- torch.Size([2, 1776])\n",
      "711 torch.Size([2, 1776])\n",
      "EDGE_INDEX: torch.Size([2, 1776])\t\tLOOP_INDEX: torch.Size([2, 711])\n",
      "241 --- torch.Size([2, 1542])\n",
      "99 --- torch.Size([2, 1542])\n",
      "658 torch.Size([2, 1542])\n",
      "EDGE_INDEX: torch.Size([2, 1542])\t\tLOOP_INDEX: torch.Size([2, 658])\n",
      "241 --- torch.Size([2, 1542])\n",
      "99 --- torch.Size([2, 1542])\n",
      "658 torch.Size([2, 1542])\n",
      "EDGE_INDEX: torch.Size([2, 1542])\t\tLOOP_INDEX: torch.Size([2, 658])\n",
      "241 --- torch.Size([2, 1648])\n",
      "99 --- torch.Size([2, 1648])\n",
      "654 torch.Size([2, 1648])\n",
      "EDGE_INDEX: torch.Size([2, 1648])\t\tLOOP_INDEX: torch.Size([2, 654])\n",
      "241 --- torch.Size([2, 1648])\n",
      "99 --- torch.Size([2, 1648])\n",
      "654 torch.Size([2, 1648])\n",
      "EDGE_INDEX: torch.Size([2, 1648])\t\tLOOP_INDEX: torch.Size([2, 654])\n",
      "241 --- torch.Size([2, 1334])\n",
      "99 --- torch.Size([2, 1334])\n",
      "582 torch.Size([2, 1334])\n",
      "EDGE_INDEX: torch.Size([2, 1334])\t\tLOOP_INDEX: torch.Size([2, 582])\n",
      "241 --- torch.Size([2, 1334])\n",
      "99 --- torch.Size([2, 1334])\n",
      "582 torch.Size([2, 1334])\n",
      "EDGE_INDEX: torch.Size([2, 1334])\t\tLOOP_INDEX: torch.Size([2, 582])\n",
      "241 --- torch.Size([2, 1748])\n",
      "99 --- torch.Size([2, 1748])\n",
      "718 torch.Size([2, 1748])\n",
      "EDGE_INDEX: torch.Size([2, 1748])\t\tLOOP_INDEX: torch.Size([2, 718])\n",
      "241 --- torch.Size([2, 1748])\n",
      "99 --- torch.Size([2, 1748])\n",
      "718 torch.Size([2, 1748])\n",
      "EDGE_INDEX: torch.Size([2, 1748])\t\tLOOP_INDEX: torch.Size([2, 718])\n",
      "241 --- torch.Size([2, 1474])\n",
      "99 --- torch.Size([2, 1474])\n",
      "632 torch.Size([2, 1474])\n",
      "EDGE_INDEX: torch.Size([2, 1474])\t\tLOOP_INDEX: torch.Size([2, 632])\n",
      "241 --- torch.Size([2, 1474])\n",
      "99 --- torch.Size([2, 1474])\n",
      "632 torch.Size([2, 1474])\n",
      "EDGE_INDEX: torch.Size([2, 1474])\t\tLOOP_INDEX: torch.Size([2, 632])\n",
      "241 --- torch.Size([2, 2022])\n",
      "99 --- torch.Size([2, 2022])\n",
      "727 torch.Size([2, 2022])\n",
      "EDGE_INDEX: torch.Size([2, 2022])\t\tLOOP_INDEX: torch.Size([2, 727])\n",
      "241 --- torch.Size([2, 2022])\n",
      "99 --- torch.Size([2, 2022])\n",
      "727 torch.Size([2, 2022])\n",
      "EDGE_INDEX: torch.Size([2, 2022])\t\tLOOP_INDEX: torch.Size([2, 727])\n",
      "241 --- torch.Size([2, 1628])\n",
      "99 --- torch.Size([2, 1628])\n",
      "686 torch.Size([2, 1628])\n",
      "EDGE_INDEX: torch.Size([2, 1628])\t\tLOOP_INDEX: torch.Size([2, 686])\n",
      "241 --- torch.Size([2, 1628])\n",
      "99 --- torch.Size([2, 1628])\n",
      "686 torch.Size([2, 1628])\n",
      "EDGE_INDEX: torch.Size([2, 1628])\t\tLOOP_INDEX: torch.Size([2, 686])\n",
      "241 --- torch.Size([2, 1928])\n",
      "99 --- torch.Size([2, 1928])\n",
      "740 torch.Size([2, 1928])\n",
      "EDGE_INDEX: torch.Size([2, 1928])\t\tLOOP_INDEX: torch.Size([2, 740])\n",
      "241 --- torch.Size([2, 1928])\n",
      "99 --- torch.Size([2, 1928])\n",
      "740 torch.Size([2, 1928])\n",
      "EDGE_INDEX: torch.Size([2, 1928])\t\tLOOP_INDEX: torch.Size([2, 740])\n",
      "241 --- torch.Size([2, 1526])\n",
      "99 --- torch.Size([2, 1526])\n",
      "641 torch.Size([2, 1526])\n",
      "EDGE_INDEX: torch.Size([2, 1526])\t\tLOOP_INDEX: torch.Size([2, 641])\n",
      "241 --- torch.Size([2, 1526])\n",
      "99 --- torch.Size([2, 1526])\n",
      "641 torch.Size([2, 1526])\n",
      "EDGE_INDEX: torch.Size([2, 1526])\t\tLOOP_INDEX: torch.Size([2, 641])\n",
      "241 --- torch.Size([2, 1728])\n",
      "99 --- torch.Size([2, 1728])\n",
      "679 torch.Size([2, 1728])\n",
      "EDGE_INDEX: torch.Size([2, 1728])\t\tLOOP_INDEX: torch.Size([2, 679])\n",
      "241 --- torch.Size([2, 1728])\n",
      "99 --- torch.Size([2, 1728])\n",
      "679 torch.Size([2, 1728])\n",
      "EDGE_INDEX: torch.Size([2, 1728])\t\tLOOP_INDEX: torch.Size([2, 679])\n",
      "241 --- torch.Size([2, 1804])\n",
      "99 --- torch.Size([2, 1804])\n",
      "718 torch.Size([2, 1804])\n",
      "EDGE_INDEX: torch.Size([2, 1804])\t\tLOOP_INDEX: torch.Size([2, 718])\n",
      "241 --- torch.Size([2, 1804])\n",
      "99 --- torch.Size([2, 1804])\n",
      "718 torch.Size([2, 1804])\n",
      "EDGE_INDEX: torch.Size([2, 1804])\t\tLOOP_INDEX: torch.Size([2, 718])\n",
      "241 --- torch.Size([2, 1520])\n",
      "99 --- torch.Size([2, 1520])\n",
      "633 torch.Size([2, 1520])\n",
      "EDGE_INDEX: torch.Size([2, 1520])\t\tLOOP_INDEX: torch.Size([2, 633])\n",
      "241 --- torch.Size([2, 1520])\n",
      "99 --- torch.Size([2, 1520])\n",
      "633 torch.Size([2, 1520])\n",
      "EDGE_INDEX: torch.Size([2, 1520])\t\tLOOP_INDEX: torch.Size([2, 633])\n",
      "241 --- torch.Size([2, 1844])\n",
      "99 --- torch.Size([2, 1844])\n",
      "715 torch.Size([2, 1844])\n",
      "EDGE_INDEX: torch.Size([2, 1844])\t\tLOOP_INDEX: torch.Size([2, 715])\n",
      "241 --- torch.Size([2, 1844])\n",
      "99 --- torch.Size([2, 1844])\n",
      "715 torch.Size([2, 1844])\n",
      "EDGE_INDEX: torch.Size([2, 1844])\t\tLOOP_INDEX: torch.Size([2, 715])\n",
      "241 --- torch.Size([2, 1702])\n",
      "99 --- torch.Size([2, 1702])\n",
      "694 torch.Size([2, 1702])\n",
      "EDGE_INDEX: torch.Size([2, 1702])\t\tLOOP_INDEX: torch.Size([2, 694])\n",
      "241 --- torch.Size([2, 1702])\n",
      "99 --- torch.Size([2, 1702])\n",
      "694 torch.Size([2, 1702])\n",
      "EDGE_INDEX: torch.Size([2, 1702])\t\tLOOP_INDEX: torch.Size([2, 694])\n",
      "241 --- torch.Size([2, 1988])\n",
      "99 --- torch.Size([2, 1988])\n",
      "729 torch.Size([2, 1988])\n",
      "EDGE_INDEX: torch.Size([2, 1988])\t\tLOOP_INDEX: torch.Size([2, 729])\n",
      "241 --- torch.Size([2, 1988])\n",
      "99 --- torch.Size([2, 1988])\n",
      "729 torch.Size([2, 1988])\n",
      "EDGE_INDEX: torch.Size([2, 1988])\t\tLOOP_INDEX: torch.Size([2, 729])\n",
      "241 --- torch.Size([2, 1378])\n",
      "99 --- torch.Size([2, 1378])\n",
      "550 torch.Size([2, 1378])\n",
      "EDGE_INDEX: torch.Size([2, 1378])\t\tLOOP_INDEX: torch.Size([2, 550])\n",
      "241 --- torch.Size([2, 1378])\n",
      "99 --- torch.Size([2, 1378])\n",
      "550 torch.Size([2, 1378])\n",
      "EDGE_INDEX: torch.Size([2, 1378])\t\tLOOP_INDEX: torch.Size([2, 550])\n",
      "241 --- torch.Size([2, 1974])\n",
      "99 --- torch.Size([2, 1974])\n",
      "727 torch.Size([2, 1974])\n",
      "EDGE_INDEX: torch.Size([2, 1974])\t\tLOOP_INDEX: torch.Size([2, 727])\n",
      "241 --- torch.Size([2, 1974])\n",
      "99 --- torch.Size([2, 1974])\n",
      "727 torch.Size([2, 1974])\n",
      "EDGE_INDEX: torch.Size([2, 1974])\t\tLOOP_INDEX: torch.Size([2, 727])\n",
      "241 --- torch.Size([2, 1902])\n",
      "99 --- torch.Size([2, 1902])\n",
      "727 torch.Size([2, 1902])\n",
      "EDGE_INDEX: torch.Size([2, 1902])\t\tLOOP_INDEX: torch.Size([2, 727])\n",
      "241 --- torch.Size([2, 1902])\n",
      "99 --- torch.Size([2, 1902])\n",
      "727 torch.Size([2, 1902])\n",
      "EDGE_INDEX: torch.Size([2, 1902])\t\tLOOP_INDEX: torch.Size([2, 727])\n",
      "241 --- torch.Size([2, 1924])\n",
      "99 --- torch.Size([2, 1924])\n",
      "744 torch.Size([2, 1924])\n",
      "EDGE_INDEX: torch.Size([2, 1924])\t\tLOOP_INDEX: torch.Size([2, 744])\n",
      "241 --- torch.Size([2, 1924])\n",
      "99 --- torch.Size([2, 1924])\n",
      "744 torch.Size([2, 1924])\n",
      "EDGE_INDEX: torch.Size([2, 1924])\t\tLOOP_INDEX: torch.Size([2, 744])\n",
      "241 --- torch.Size([2, 942])\n",
      "99 --- torch.Size([2, 942])\n",
      "391 torch.Size([2, 942])\n",
      "EDGE_INDEX: torch.Size([2, 942])\t\tLOOP_INDEX: torch.Size([2, 391])\n",
      "241 --- torch.Size([2, 942])\n",
      "99 --- torch.Size([2, 942])\n",
      "391 torch.Size([2, 942])\n",
      "EDGE_INDEX: torch.Size([2, 942])\t\tLOOP_INDEX: torch.Size([2, 391])\n"
     ]
    },
    {
     "name": "stderr",
     "output_type": "stream",
     "text": [
      "[Joint E2] Calc Global P:   0%|          | 0/17 [00:00<?, ?it/s]"
     ]
    },
    {
     "name": "stdout",
     "output_type": "stream",
     "text": [
      "241 --- torch.Size([2, 1792])\n",
      "99 --- torch.Size([2, 1792])\n",
      "696 torch.Size([2, 1792])\n",
      "EDGE_INDEX: torch.Size([2, 1792])\t\tLOOP_INDEX: torch.Size([2, 696])\n",
      "241 --- torch.Size([2, 1792])\n",
      "99 --- torch.Size([2, 1792])\n",
      "696 torch.Size([2, 1792])\n",
      "EDGE_INDEX: torch.Size([2, 1792])\t\tLOOP_INDEX: torch.Size([2, 696])\n"
     ]
    },
    {
     "name": "stderr",
     "output_type": "stream",
     "text": [
      "[Joint E2] Calc Global P:   6%|▌         | 1/17 [00:04<01:15,  4.69s/it]"
     ]
    },
    {
     "name": "stdout",
     "output_type": "stream",
     "text": [
      "241 --- torch.Size([2, 1818])\n",
      "99 --- torch.Size([2, 1818])\n",
      "704 torch.Size([2, 1818])\n",
      "EDGE_INDEX: torch.Size([2, 1818])\t\tLOOP_INDEX: torch.Size([2, 704])\n",
      "241 --- torch.Size([2, 1818])\n",
      "99 --- torch.Size([2, 1818])\n",
      "704 torch.Size([2, 1818])\n",
      "EDGE_INDEX: torch.Size([2, 1818])\t\tLOOP_INDEX: torch.Size([2, 704])\n"
     ]
    },
    {
     "name": "stderr",
     "output_type": "stream",
     "text": [
      "[Joint E2] Calc Global P:  12%|█▏        | 2/17 [00:08<01:06,  4.43s/it]"
     ]
    },
    {
     "name": "stdout",
     "output_type": "stream",
     "text": [
      "241 --- torch.Size([2, 1634])\n",
      "99 --- torch.Size([2, 1634])\n",
      "689 torch.Size([2, 1634])\n",
      "EDGE_INDEX: torch.Size([2, 1634])\t\tLOOP_INDEX: torch.Size([2, 689])\n",
      "241 --- torch.Size([2, 1634])\n",
      "99 --- torch.Size([2, 1634])\n",
      "689 torch.Size([2, 1634])\n",
      "EDGE_INDEX: torch.Size([2, 1634])\t\tLOOP_INDEX: torch.Size([2, 689])\n"
     ]
    },
    {
     "name": "stderr",
     "output_type": "stream",
     "text": [
      "[Joint E2] Calc Global P:  18%|█▊        | 3/17 [00:13<01:02,  4.48s/it]"
     ]
    },
    {
     "name": "stdout",
     "output_type": "stream",
     "text": [
      "241 --- torch.Size([2, 1808])\n",
      "99 --- torch.Size([2, 1808])\n",
      "716 torch.Size([2, 1808])\n",
      "EDGE_INDEX: torch.Size([2, 1808])\t\tLOOP_INDEX: torch.Size([2, 716])\n",
      "241 --- torch.Size([2, 1808])\n",
      "99 --- torch.Size([2, 1808])\n",
      "716 torch.Size([2, 1808])\n",
      "EDGE_INDEX: torch.Size([2, 1808])\t\tLOOP_INDEX: torch.Size([2, 716])\n"
     ]
    },
    {
     "name": "stderr",
     "output_type": "stream",
     "text": [
      "[Joint E2] Calc Global P:  24%|██▎       | 4/17 [00:17<00:54,  4.19s/it]"
     ]
    },
    {
     "name": "stdout",
     "output_type": "stream",
     "text": [
      "241 --- torch.Size([2, 1886])\n",
      "99 --- torch.Size([2, 1886])\n",
      "723 torch.Size([2, 1886])\n",
      "EDGE_INDEX: torch.Size([2, 1886])\t\tLOOP_INDEX: torch.Size([2, 723])\n",
      "241 --- torch.Size([2, 1886])\n",
      "99 --- torch.Size([2, 1886])\n",
      "723 torch.Size([2, 1886])\n",
      "EDGE_INDEX: torch.Size([2, 1886])\t\tLOOP_INDEX: torch.Size([2, 723])\n"
     ]
    },
    {
     "name": "stderr",
     "output_type": "stream",
     "text": [
      "[Joint E2] Calc Global P:  29%|██▉       | 5/17 [00:21<00:50,  4.18s/it]"
     ]
    },
    {
     "name": "stdout",
     "output_type": "stream",
     "text": [
      "241 --- torch.Size([2, 1472])\n",
      "99 --- torch.Size([2, 1472])\n",
      "626 torch.Size([2, 1472])\n",
      "EDGE_INDEX: torch.Size([2, 1472])\t\tLOOP_INDEX: torch.Size([2, 626])\n",
      "241 --- torch.Size([2, 1472])\n",
      "99 --- torch.Size([2, 1472])\n",
      "626 torch.Size([2, 1472])\n",
      "EDGE_INDEX: torch.Size([2, 1472])\t\tLOOP_INDEX: torch.Size([2, 626])\n"
     ]
    },
    {
     "name": "stderr",
     "output_type": "stream",
     "text": [
      "[Joint E2] Calc Global P:  35%|███▌      | 6/17 [00:24<00:43,  3.91s/it]"
     ]
    },
    {
     "name": "stdout",
     "output_type": "stream",
     "text": [
      "241 --- torch.Size([2, 1624])\n",
      "99 --- torch.Size([2, 1624])\n",
      "657 torch.Size([2, 1624])\n",
      "EDGE_INDEX: torch.Size([2, 1624])\t\tLOOP_INDEX: torch.Size([2, 657])\n",
      "241 --- torch.Size([2, 1624])\n",
      "99 --- torch.Size([2, 1624])\n",
      "657 torch.Size([2, 1624])\n",
      "EDGE_INDEX: torch.Size([2, 1624])\t\tLOOP_INDEX: torch.Size([2, 657])\n"
     ]
    },
    {
     "name": "stderr",
     "output_type": "stream",
     "text": [
      "[Joint E2] Calc Global P:  41%|████      | 7/17 [00:29<00:41,  4.14s/it]"
     ]
    },
    {
     "name": "stdout",
     "output_type": "stream",
     "text": [
      "241 --- torch.Size([2, 2122])\n",
      "99 --- torch.Size([2, 2122])\n",
      "792 torch.Size([2, 2122])\n",
      "EDGE_INDEX: torch.Size([2, 2122])\t\tLOOP_INDEX: torch.Size([2, 792])\n",
      "241 --- torch.Size([2, 2122])\n",
      "99 --- torch.Size([2, 2122])\n",
      "792 torch.Size([2, 2122])\n",
      "EDGE_INDEX: torch.Size([2, 2122])\t\tLOOP_INDEX: torch.Size([2, 792])\n"
     ]
    },
    {
     "name": "stderr",
     "output_type": "stream",
     "text": [
      "[Joint E2] Calc Global P:  47%|████▋     | 8/17 [00:33<00:38,  4.25s/it]"
     ]
    },
    {
     "name": "stdout",
     "output_type": "stream",
     "text": [
      "241 --- torch.Size([2, 1822])\n",
      "99 --- torch.Size([2, 1822])\n",
      "721 torch.Size([2, 1822])\n",
      "EDGE_INDEX: torch.Size([2, 1822])\t\tLOOP_INDEX: torch.Size([2, 721])\n",
      "241 --- torch.Size([2, 1822])\n",
      "99 --- torch.Size([2, 1822])\n",
      "721 torch.Size([2, 1822])\n",
      "EDGE_INDEX: torch.Size([2, 1822])\t\tLOOP_INDEX: torch.Size([2, 721])\n"
     ]
    },
    {
     "name": "stderr",
     "output_type": "stream",
     "text": [
      "[Joint E2] Calc Global P:  53%|█████▎    | 9/17 [00:38<00:34,  4.37s/it]"
     ]
    },
    {
     "name": "stdout",
     "output_type": "stream",
     "text": [
      "241 --- torch.Size([2, 1654])\n",
      "99 --- torch.Size([2, 1654])\n",
      "671 torch.Size([2, 1654])\n",
      "EDGE_INDEX: torch.Size([2, 1654])\t\tLOOP_INDEX: torch.Size([2, 671])\n",
      "241 --- torch.Size([2, 1654])\n",
      "99 --- torch.Size([2, 1654])\n",
      "671 torch.Size([2, 1654])\n",
      "EDGE_INDEX: torch.Size([2, 1654])\t\tLOOP_INDEX: torch.Size([2, 671])\n"
     ]
    },
    {
     "name": "stderr",
     "output_type": "stream",
     "text": [
      "[Joint E2] Calc Global P:  59%|█████▉    | 10/17 [00:43<00:31,  4.44s/it]"
     ]
    },
    {
     "name": "stdout",
     "output_type": "stream",
     "text": [
      "241 --- torch.Size([2, 2052])\n",
      "99 --- torch.Size([2, 2052])\n",
      "737 torch.Size([2, 2052])\n",
      "EDGE_INDEX: torch.Size([2, 2052])\t\tLOOP_INDEX: torch.Size([2, 737])\n",
      "241 --- torch.Size([2, 2052])\n",
      "99 --- torch.Size([2, 2052])\n",
      "737 torch.Size([2, 2052])\n",
      "EDGE_INDEX: torch.Size([2, 2052])\t\tLOOP_INDEX: torch.Size([2, 737])\n"
     ]
    },
    {
     "name": "stderr",
     "output_type": "stream",
     "text": [
      "[Joint E2] Calc Global P:  65%|██████▍   | 11/17 [00:47<00:27,  4.52s/it]"
     ]
    },
    {
     "name": "stdout",
     "output_type": "stream",
     "text": [
      "241 --- torch.Size([2, 2270])\n",
      "99 --- torch.Size([2, 2270])\n",
      "800 torch.Size([2, 2270])\n",
      "EDGE_INDEX: torch.Size([2, 2270])\t\tLOOP_INDEX: torch.Size([2, 800])\n",
      "241 --- torch.Size([2, 2270])\n",
      "99 --- torch.Size([2, 2270])\n",
      "800 torch.Size([2, 2270])\n",
      "EDGE_INDEX: torch.Size([2, 2270])\t\tLOOP_INDEX: torch.Size([2, 800])\n"
     ]
    },
    {
     "name": "stderr",
     "output_type": "stream",
     "text": [
      "[Joint E2] Calc Global P:  71%|███████   | 12/17 [00:52<00:22,  4.52s/it]"
     ]
    },
    {
     "name": "stdout",
     "output_type": "stream",
     "text": [
      "241 --- torch.Size([2, 1560])\n",
      "99 --- torch.Size([2, 1560])\n",
      "677 torch.Size([2, 1560])\n",
      "EDGE_INDEX: torch.Size([2, 1560])\t\tLOOP_INDEX: torch.Size([2, 677])\n",
      "241 --- torch.Size([2, 1560])\n",
      "99 --- torch.Size([2, 1560])\n",
      "677 torch.Size([2, 1560])\n",
      "EDGE_INDEX: torch.Size([2, 1560])\t\tLOOP_INDEX: torch.Size([2, 677])\n"
     ]
    },
    {
     "name": "stderr",
     "output_type": "stream",
     "text": [
      "[Joint E2] Calc Global P:  76%|███████▋  | 13/17 [00:56<00:17,  4.42s/it]"
     ]
    },
    {
     "name": "stdout",
     "output_type": "stream",
     "text": [
      "241 --- torch.Size([2, 1450])\n",
      "99 --- torch.Size([2, 1450])\n",
      "642 torch.Size([2, 1450])\n",
      "EDGE_INDEX: torch.Size([2, 1450])\t\tLOOP_INDEX: torch.Size([2, 642])\n",
      "241 --- torch.Size([2, 1450])\n",
      "99 --- torch.Size([2, 1450])\n",
      "642 torch.Size([2, 1450])\n",
      "EDGE_INDEX: torch.Size([2, 1450])\t\tLOOP_INDEX: torch.Size([2, 642])\n"
     ]
    },
    {
     "name": "stderr",
     "output_type": "stream",
     "text": [
      "[Joint E2] Calc Global P:  82%|████████▏ | 14/17 [01:01<00:13,  4.58s/it]"
     ]
    },
    {
     "name": "stdout",
     "output_type": "stream",
     "text": [
      "241 --- torch.Size([2, 1412])\n",
      "99 --- torch.Size([2, 1412])\n",
      "628 torch.Size([2, 1412])\n",
      "EDGE_INDEX: torch.Size([2, 1412])\t\tLOOP_INDEX: torch.Size([2, 628])\n",
      "241 --- torch.Size([2, 1412])\n",
      "99 --- torch.Size([2, 1412])\n",
      "628 torch.Size([2, 1412])\n",
      "EDGE_INDEX: torch.Size([2, 1412])\t\tLOOP_INDEX: torch.Size([2, 628])\n"
     ]
    },
    {
     "name": "stderr",
     "output_type": "stream",
     "text": [
      "[Joint E2] Calc Global P:  88%|████████▊ | 15/17 [01:05<00:09,  4.55s/it]"
     ]
    },
    {
     "name": "stdout",
     "output_type": "stream",
     "text": [
      "241 --- torch.Size([2, 1662])\n",
      "99 --- torch.Size([2, 1662])\n",
      "666 torch.Size([2, 1662])\n",
      "EDGE_INDEX: torch.Size([2, 1662])\t\tLOOP_INDEX: torch.Size([2, 666])\n",
      "241 --- torch.Size([2, 1662])\n",
      "99 --- torch.Size([2, 1662])\n",
      "666 torch.Size([2, 1662])\n",
      "EDGE_INDEX: torch.Size([2, 1662])\t\tLOOP_INDEX: torch.Size([2, 666])\n"
     ]
    },
    {
     "name": "stderr",
     "output_type": "stream",
     "text": [
      "[Joint E2] Calc Global P:  94%|█████████▍| 16/17 [01:09<00:04,  4.24s/it]"
     ]
    },
    {
     "name": "stdout",
     "output_type": "stream",
     "text": [
      "241 --- torch.Size([2, 1332])\n",
      "99 --- torch.Size([2, 1332])\n",
      "530 torch.Size([2, 1332])\n",
      "EDGE_INDEX: torch.Size([2, 1332])\t\tLOOP_INDEX: torch.Size([2, 530])\n",
      "241 --- torch.Size([2, 1332])\n",
      "99 --- torch.Size([2, 1332])\n",
      "530 torch.Size([2, 1332])\n",
      "EDGE_INDEX: torch.Size([2, 1332])\t\tLOOP_INDEX: torch.Size([2, 530])\n"
     ]
    },
    {
     "name": "stderr",
     "output_type": "stream",
     "text": [
      "                                                                         \r"
     ]
    },
    {
     "name": "stdout",
     "output_type": "stream",
     "text": [
      "241 --- torch.Size([2, 1682])\n",
      "99 --- torch.Size([2, 1682])\n",
      "654 torch.Size([2, 1682])\n",
      "EDGE_INDEX: torch.Size([2, 1682])\t\tLOOP_INDEX: torch.Size([2, 654])\n",
      "241 --- torch.Size([2, 1682])\n",
      "99 --- torch.Size([2, 1682])\n",
      "654 torch.Size([2, 1682])\n",
      "EDGE_INDEX: torch.Size([2, 1682])\t\tLOOP_INDEX: torch.Size([2, 654])\n",
      "241 --- torch.Size([2, 1500])\n",
      "99 --- torch.Size([2, 1500])\n",
      "633 torch.Size([2, 1500])\n",
      "EDGE_INDEX: torch.Size([2, 1500])\t\tLOOP_INDEX: torch.Size([2, 633])\n",
      "241 --- torch.Size([2, 1500])\n",
      "99 --- torch.Size([2, 1500])\n",
      "633 torch.Size([2, 1500])\n",
      "EDGE_INDEX: torch.Size([2, 1500])\t\tLOOP_INDEX: torch.Size([2, 633])\n",
      "241 --- torch.Size([2, 1964])\n",
      "99 --- torch.Size([2, 1964])\n",
      "709 torch.Size([2, 1964])\n",
      "EDGE_INDEX: torch.Size([2, 1964])\t\tLOOP_INDEX: torch.Size([2, 709])\n",
      "241 --- torch.Size([2, 1964])\n",
      "99 --- torch.Size([2, 1964])\n",
      "709 torch.Size([2, 1964])\n",
      "EDGE_INDEX: torch.Size([2, 1964])\t\tLOOP_INDEX: torch.Size([2, 709])\n",
      "241 --- torch.Size([2, 1810])\n",
      "99 --- torch.Size([2, 1810])\n",
      "710 torch.Size([2, 1810])\n",
      "EDGE_INDEX: torch.Size([2, 1810])\t\tLOOP_INDEX: torch.Size([2, 710])\n",
      "241 --- torch.Size([2, 1810])\n",
      "99 --- torch.Size([2, 1810])\n",
      "710 torch.Size([2, 1810])\n",
      "EDGE_INDEX: torch.Size([2, 1810])\t\tLOOP_INDEX: torch.Size([2, 710])\n",
      "241 --- torch.Size([2, 1692])\n",
      "99 --- torch.Size([2, 1692])\n",
      "677 torch.Size([2, 1692])\n",
      "EDGE_INDEX: torch.Size([2, 1692])\t\tLOOP_INDEX: torch.Size([2, 677])\n",
      "241 --- torch.Size([2, 1692])\n",
      "99 --- torch.Size([2, 1692])\n",
      "677 torch.Size([2, 1692])\n",
      "EDGE_INDEX: torch.Size([2, 1692])\t\tLOOP_INDEX: torch.Size([2, 677])\n",
      "241 --- torch.Size([2, 1486])\n",
      "99 --- torch.Size([2, 1486])\n",
      "628 torch.Size([2, 1486])\n",
      "EDGE_INDEX: torch.Size([2, 1486])\t\tLOOP_INDEX: torch.Size([2, 628])\n",
      "241 --- torch.Size([2, 1486])\n",
      "99 --- torch.Size([2, 1486])\n",
      "628 torch.Size([2, 1486])\n",
      "EDGE_INDEX: torch.Size([2, 1486])\t\tLOOP_INDEX: torch.Size([2, 628])\n",
      "241 --- torch.Size([2, 1372])\n",
      "99 --- torch.Size([2, 1372])\n",
      "617 torch.Size([2, 1372])\n",
      "EDGE_INDEX: torch.Size([2, 1372])\t\tLOOP_INDEX: torch.Size([2, 617])\n",
      "241 --- torch.Size([2, 1372])\n",
      "99 --- torch.Size([2, 1372])\n",
      "617 torch.Size([2, 1372])\n",
      "EDGE_INDEX: torch.Size([2, 1372])\t\tLOOP_INDEX: torch.Size([2, 617])\n",
      "241 --- torch.Size([2, 1750])\n",
      "99 --- torch.Size([2, 1750])\n",
      "673 torch.Size([2, 1750])\n",
      "EDGE_INDEX: torch.Size([2, 1750])\t\tLOOP_INDEX: torch.Size([2, 673])\n",
      "241 --- torch.Size([2, 1750])\n",
      "99 --- torch.Size([2, 1750])\n",
      "673 torch.Size([2, 1750])\n",
      "EDGE_INDEX: torch.Size([2, 1750])\t\tLOOP_INDEX: torch.Size([2, 673])\n",
      "241 --- torch.Size([2, 1644])\n",
      "99 --- torch.Size([2, 1644])\n",
      "673 torch.Size([2, 1644])\n",
      "EDGE_INDEX: torch.Size([2, 1644])\t\tLOOP_INDEX: torch.Size([2, 673])\n",
      "241 --- torch.Size([2, 1644])\n",
      "99 --- torch.Size([2, 1644])\n",
      "673 torch.Size([2, 1644])\n",
      "EDGE_INDEX: torch.Size([2, 1644])\t\tLOOP_INDEX: torch.Size([2, 673])\n",
      "241 --- torch.Size([2, 1608])\n",
      "99 --- torch.Size([2, 1608])\n",
      "653 torch.Size([2, 1608])\n",
      "EDGE_INDEX: torch.Size([2, 1608])\t\tLOOP_INDEX: torch.Size([2, 653])\n",
      "241 --- torch.Size([2, 1608])\n",
      "99 --- torch.Size([2, 1608])\n",
      "653 torch.Size([2, 1608])\n",
      "EDGE_INDEX: torch.Size([2, 1608])\t\tLOOP_INDEX: torch.Size([2, 653])\n",
      "241 --- torch.Size([2, 1602])\n",
      "99 --- torch.Size([2, 1602])\n",
      "674 torch.Size([2, 1602])\n",
      "EDGE_INDEX: torch.Size([2, 1602])\t\tLOOP_INDEX: torch.Size([2, 674])\n",
      "241 --- torch.Size([2, 1602])\n",
      "99 --- torch.Size([2, 1602])\n",
      "674 torch.Size([2, 1602])\n",
      "EDGE_INDEX: torch.Size([2, 1602])\t\tLOOP_INDEX: torch.Size([2, 674])\n",
      "241 --- torch.Size([2, 1780])\n",
      "99 --- torch.Size([2, 1780])\n",
      "685 torch.Size([2, 1780])\n",
      "EDGE_INDEX: torch.Size([2, 1780])\t\tLOOP_INDEX: torch.Size([2, 685])\n",
      "241 --- torch.Size([2, 1780])\n",
      "99 --- torch.Size([2, 1780])\n",
      "685 torch.Size([2, 1780])\n",
      "EDGE_INDEX: torch.Size([2, 1780])\t\tLOOP_INDEX: torch.Size([2, 685])\n",
      "241 --- torch.Size([2, 1676])\n",
      "99 --- torch.Size([2, 1676])\n",
      "668 torch.Size([2, 1676])\n",
      "EDGE_INDEX: torch.Size([2, 1676])\t\tLOOP_INDEX: torch.Size([2, 668])\n",
      "241 --- torch.Size([2, 1676])\n",
      "99 --- torch.Size([2, 1676])\n",
      "668 torch.Size([2, 1676])\n",
      "EDGE_INDEX: torch.Size([2, 1676])\t\tLOOP_INDEX: torch.Size([2, 668])\n",
      "241 --- torch.Size([2, 1660])\n",
      "99 --- torch.Size([2, 1660])\n",
      "679 torch.Size([2, 1660])\n",
      "EDGE_INDEX: torch.Size([2, 1660])\t\tLOOP_INDEX: torch.Size([2, 679])\n",
      "241 --- torch.Size([2, 1660])\n",
      "99 --- torch.Size([2, 1660])\n",
      "679 torch.Size([2, 1660])\n",
      "EDGE_INDEX: torch.Size([2, 1660])\t\tLOOP_INDEX: torch.Size([2, 679])\n",
      "241 --- torch.Size([2, 1902])\n",
      "99 --- torch.Size([2, 1902])\n",
      "729 torch.Size([2, 1902])\n",
      "EDGE_INDEX: torch.Size([2, 1902])\t\tLOOP_INDEX: torch.Size([2, 729])\n",
      "241 --- torch.Size([2, 1902])\n",
      "99 --- torch.Size([2, 1902])\n",
      "729 torch.Size([2, 1902])\n",
      "EDGE_INDEX: torch.Size([2, 1902])\t\tLOOP_INDEX: torch.Size([2, 729])\n",
      "241 --- torch.Size([2, 1786])\n",
      "99 --- torch.Size([2, 1786])\n",
      "723 torch.Size([2, 1786])\n",
      "EDGE_INDEX: torch.Size([2, 1786])\t\tLOOP_INDEX: torch.Size([2, 723])\n",
      "241 --- torch.Size([2, 1786])\n",
      "99 --- torch.Size([2, 1786])\n",
      "723 torch.Size([2, 1786])\n",
      "EDGE_INDEX: torch.Size([2, 1786])\t\tLOOP_INDEX: torch.Size([2, 723])\n",
      "241 --- torch.Size([2, 1534])\n",
      "99 --- torch.Size([2, 1534])\n",
      "579 torch.Size([2, 1534])\n",
      "EDGE_INDEX: torch.Size([2, 1534])\t\tLOOP_INDEX: torch.Size([2, 579])\n",
      "241 --- torch.Size([2, 1534])\n",
      "99 --- torch.Size([2, 1534])\n",
      "579 torch.Size([2, 1534])\n",
      "EDGE_INDEX: torch.Size([2, 1534])\t\tLOOP_INDEX: torch.Size([2, 579])\n",
      "241 --- torch.Size([2, 1974])\n",
      "99 --- torch.Size([2, 1974])\n",
      "727 torch.Size([2, 1974])\n",
      "EDGE_INDEX: torch.Size([2, 1974])\t\tLOOP_INDEX: torch.Size([2, 727])\n",
      "241 --- torch.Size([2, 1974])\n",
      "99 --- torch.Size([2, 1974])\n",
      "727 torch.Size([2, 1974])\n",
      "EDGE_INDEX: torch.Size([2, 1974])\t\tLOOP_INDEX: torch.Size([2, 727])\n",
      "241 --- torch.Size([2, 1902])\n",
      "99 --- torch.Size([2, 1902])\n",
      "727 torch.Size([2, 1902])\n",
      "EDGE_INDEX: torch.Size([2, 1902])\t\tLOOP_INDEX: torch.Size([2, 727])\n",
      "241 --- torch.Size([2, 1902])\n",
      "99 --- torch.Size([2, 1902])\n",
      "727 torch.Size([2, 1902])\n",
      "EDGE_INDEX: torch.Size([2, 1902])\t\tLOOP_INDEX: torch.Size([2, 727])\n",
      "241 --- torch.Size([2, 1924])\n",
      "99 --- torch.Size([2, 1924])\n",
      "744 torch.Size([2, 1924])\n",
      "EDGE_INDEX: torch.Size([2, 1924])\t\tLOOP_INDEX: torch.Size([2, 744])\n",
      "241 --- torch.Size([2, 1924])\n",
      "99 --- torch.Size([2, 1924])\n",
      "744 torch.Size([2, 1924])\n",
      "EDGE_INDEX: torch.Size([2, 1924])\t\tLOOP_INDEX: torch.Size([2, 744])\n",
      "241 --- torch.Size([2, 942])\n",
      "99 --- torch.Size([2, 942])\n",
      "391 torch.Size([2, 942])\n",
      "EDGE_INDEX: torch.Size([2, 942])\t\tLOOP_INDEX: torch.Size([2, 391])\n",
      "241 --- torch.Size([2, 942])\n",
      "99 --- torch.Size([2, 942])\n",
      "391 torch.Size([2, 942])\n",
      "EDGE_INDEX: torch.Size([2, 942])\t\tLOOP_INDEX: torch.Size([2, 391])\n"
     ]
    },
    {
     "name": "stderr",
     "output_type": "stream",
     "text": [
      "[Joint E3] Calc Global P:   0%|          | 0/17 [00:00<?, ?it/s]"
     ]
    },
    {
     "name": "stdout",
     "output_type": "stream",
     "text": [
      "241 --- torch.Size([2, 1792])\n",
      "99 --- torch.Size([2, 1792])\n",
      "696 torch.Size([2, 1792])\n",
      "EDGE_INDEX: torch.Size([2, 1792])\t\tLOOP_INDEX: torch.Size([2, 696])\n",
      "241 --- torch.Size([2, 1792])\n",
      "99 --- torch.Size([2, 1792])\n",
      "696 torch.Size([2, 1792])\n",
      "EDGE_INDEX: torch.Size([2, 1792])\t\tLOOP_INDEX: torch.Size([2, 696])\n"
     ]
    },
    {
     "name": "stderr",
     "output_type": "stream",
     "text": [
      "[Joint E3] Calc Global P:   6%|▌         | 1/17 [00:04<01:12,  4.52s/it]"
     ]
    },
    {
     "name": "stdout",
     "output_type": "stream",
     "text": [
      "241 --- torch.Size([2, 1818])\n",
      "99 --- torch.Size([2, 1818])\n",
      "704 torch.Size([2, 1818])\n",
      "EDGE_INDEX: torch.Size([2, 1818])\t\tLOOP_INDEX: torch.Size([2, 704])\n",
      "241 --- torch.Size([2, 1818])\n",
      "99 --- torch.Size([2, 1818])\n",
      "704 torch.Size([2, 1818])\n",
      "EDGE_INDEX: torch.Size([2, 1818])\t\tLOOP_INDEX: torch.Size([2, 704])\n"
     ]
    },
    {
     "name": "stderr",
     "output_type": "stream",
     "text": [
      "[Joint E3] Calc Global P:  12%|█▏        | 2/17 [00:09<01:09,  4.63s/it]"
     ]
    },
    {
     "name": "stdout",
     "output_type": "stream",
     "text": [
      "241 --- torch.Size([2, 1634])\n",
      "99 --- torch.Size([2, 1634])\n",
      "689 torch.Size([2, 1634])\n",
      "EDGE_INDEX: torch.Size([2, 1634])\t\tLOOP_INDEX: torch.Size([2, 689])\n",
      "241 --- torch.Size([2, 1634])\n",
      "99 --- torch.Size([2, 1634])\n",
      "689 torch.Size([2, 1634])\n",
      "EDGE_INDEX: torch.Size([2, 1634])\t\tLOOP_INDEX: torch.Size([2, 689])\n"
     ]
    },
    {
     "name": "stderr",
     "output_type": "stream",
     "text": [
      "[Joint E3] Calc Global P:  18%|█▊        | 3/17 [00:13<01:04,  4.62s/it]"
     ]
    },
    {
     "name": "stdout",
     "output_type": "stream",
     "text": [
      "241 --- torch.Size([2, 1808])\n",
      "99 --- torch.Size([2, 1808])\n",
      "716 torch.Size([2, 1808])\n",
      "EDGE_INDEX: torch.Size([2, 1808])\t\tLOOP_INDEX: torch.Size([2, 716])\n",
      "241 --- torch.Size([2, 1808])\n",
      "99 --- torch.Size([2, 1808])\n",
      "716 torch.Size([2, 1808])\n",
      "EDGE_INDEX: torch.Size([2, 1808])\t\tLOOP_INDEX: torch.Size([2, 716])\n"
     ]
    },
    {
     "name": "stderr",
     "output_type": "stream",
     "text": [
      "[Joint E3] Calc Global P:  24%|██▎       | 4/17 [00:17<00:56,  4.38s/it]"
     ]
    },
    {
     "name": "stdout",
     "output_type": "stream",
     "text": [
      "241 --- torch.Size([2, 1886])\n",
      "99 --- torch.Size([2, 1886])\n",
      "723 torch.Size([2, 1886])\n",
      "EDGE_INDEX: torch.Size([2, 1886])\t\tLOOP_INDEX: torch.Size([2, 723])\n",
      "241 --- torch.Size([2, 1886])\n",
      "99 --- torch.Size([2, 1886])\n",
      "723 torch.Size([2, 1886])\n",
      "EDGE_INDEX: torch.Size([2, 1886])\t\tLOOP_INDEX: torch.Size([2, 723])\n"
     ]
    },
    {
     "name": "stderr",
     "output_type": "stream",
     "text": [
      "[Joint E3] Calc Global P:  29%|██▉       | 5/17 [00:22<00:52,  4.39s/it]"
     ]
    },
    {
     "name": "stdout",
     "output_type": "stream",
     "text": [
      "241 --- torch.Size([2, 1472])\n",
      "99 --- torch.Size([2, 1472])\n",
      "626 torch.Size([2, 1472])\n",
      "EDGE_INDEX: torch.Size([2, 1472])\t\tLOOP_INDEX: torch.Size([2, 626])\n",
      "241 --- torch.Size([2, 1472])\n",
      "99 --- torch.Size([2, 1472])\n",
      "626 torch.Size([2, 1472])\n",
      "EDGE_INDEX: torch.Size([2, 1472])\t\tLOOP_INDEX: torch.Size([2, 626])\n"
     ]
    },
    {
     "name": "stderr",
     "output_type": "stream",
     "text": [
      "[Joint E3] Calc Global P:  35%|███▌      | 6/17 [00:25<00:45,  4.10s/it]"
     ]
    },
    {
     "name": "stdout",
     "output_type": "stream",
     "text": [
      "241 --- torch.Size([2, 1624])\n",
      "99 --- torch.Size([2, 1624])\n",
      "657 torch.Size([2, 1624])\n",
      "EDGE_INDEX: torch.Size([2, 1624])\t\tLOOP_INDEX: torch.Size([2, 657])\n",
      "241 --- torch.Size([2, 1624])\n",
      "99 --- torch.Size([2, 1624])\n",
      "657 torch.Size([2, 1624])\n",
      "EDGE_INDEX: torch.Size([2, 1624])\t\tLOOP_INDEX: torch.Size([2, 657])\n"
     ]
    },
    {
     "name": "stderr",
     "output_type": "stream",
     "text": [
      "[Joint E3] Calc Global P:  41%|████      | 7/17 [00:30<00:42,  4.23s/it]"
     ]
    },
    {
     "name": "stdout",
     "output_type": "stream",
     "text": [
      "241 --- torch.Size([2, 2122])\n",
      "99 --- torch.Size([2, 2122])\n",
      "792 torch.Size([2, 2122])\n",
      "EDGE_INDEX: torch.Size([2, 2122])\t\tLOOP_INDEX: torch.Size([2, 792])\n",
      "241 --- torch.Size([2, 2122])\n",
      "99 --- torch.Size([2, 2122])\n",
      "792 torch.Size([2, 2122])\n",
      "EDGE_INDEX: torch.Size([2, 2122])\t\tLOOP_INDEX: torch.Size([2, 792])\n"
     ]
    },
    {
     "name": "stderr",
     "output_type": "stream",
     "text": [
      "[Joint E3] Calc Global P:  47%|████▋     | 8/17 [00:34<00:38,  4.29s/it]"
     ]
    },
    {
     "name": "stdout",
     "output_type": "stream",
     "text": [
      "241 --- torch.Size([2, 1822])\n",
      "99 --- torch.Size([2, 1822])\n",
      "721 torch.Size([2, 1822])\n",
      "EDGE_INDEX: torch.Size([2, 1822])\t\tLOOP_INDEX: torch.Size([2, 721])\n",
      "241 --- torch.Size([2, 1822])\n",
      "99 --- torch.Size([2, 1822])\n",
      "721 torch.Size([2, 1822])\n",
      "EDGE_INDEX: torch.Size([2, 1822])\t\tLOOP_INDEX: torch.Size([2, 721])\n"
     ]
    },
    {
     "name": "stderr",
     "output_type": "stream",
     "text": [
      "[Joint E3] Calc Global P:  53%|█████▎    | 9/17 [00:38<00:34,  4.27s/it]"
     ]
    },
    {
     "name": "stdout",
     "output_type": "stream",
     "text": [
      "241 --- torch.Size([2, 1654])\n",
      "99 --- torch.Size([2, 1654])\n",
      "671 torch.Size([2, 1654])\n",
      "EDGE_INDEX: torch.Size([2, 1654])\t\tLOOP_INDEX: torch.Size([2, 671])\n",
      "241 --- torch.Size([2, 1654])\n",
      "99 --- torch.Size([2, 1654])\n",
      "671 torch.Size([2, 1654])\n",
      "EDGE_INDEX: torch.Size([2, 1654])\t\tLOOP_INDEX: torch.Size([2, 671])\n"
     ]
    },
    {
     "name": "stderr",
     "output_type": "stream",
     "text": [
      "[Joint E3] Calc Global P:  59%|█████▉    | 10/17 [00:43<00:31,  4.49s/it]"
     ]
    },
    {
     "name": "stdout",
     "output_type": "stream",
     "text": [
      "241 --- torch.Size([2, 2052])\n",
      "99 --- torch.Size([2, 2052])\n",
      "737 torch.Size([2, 2052])\n",
      "EDGE_INDEX: torch.Size([2, 2052])\t\tLOOP_INDEX: torch.Size([2, 737])\n",
      "241 --- torch.Size([2, 2052])\n",
      "99 --- torch.Size([2, 2052])\n",
      "737 torch.Size([2, 2052])\n",
      "EDGE_INDEX: torch.Size([2, 2052])\t\tLOOP_INDEX: torch.Size([2, 737])\n"
     ]
    },
    {
     "name": "stderr",
     "output_type": "stream",
     "text": [
      "[Joint E3] Calc Global P:  65%|██████▍   | 11/17 [00:48<00:27,  4.57s/it]"
     ]
    },
    {
     "name": "stdout",
     "output_type": "stream",
     "text": [
      "241 --- torch.Size([2, 2270])\n",
      "99 --- torch.Size([2, 2270])\n",
      "800 torch.Size([2, 2270])\n",
      "EDGE_INDEX: torch.Size([2, 2270])\t\tLOOP_INDEX: torch.Size([2, 800])\n",
      "241 --- torch.Size([2, 2270])\n",
      "99 --- torch.Size([2, 2270])\n",
      "800 torch.Size([2, 2270])\n",
      "EDGE_INDEX: torch.Size([2, 2270])\t\tLOOP_INDEX: torch.Size([2, 800])\n"
     ]
    },
    {
     "name": "stderr",
     "output_type": "stream",
     "text": [
      "[Joint E3] Calc Global P:  71%|███████   | 12/17 [00:52<00:22,  4.41s/it]"
     ]
    },
    {
     "name": "stdout",
     "output_type": "stream",
     "text": [
      "241 --- torch.Size([2, 1560])\n",
      "99 --- torch.Size([2, 1560])\n",
      "677 torch.Size([2, 1560])\n",
      "EDGE_INDEX: torch.Size([2, 1560])\t\tLOOP_INDEX: torch.Size([2, 677])\n",
      "241 --- torch.Size([2, 1560])\n",
      "99 --- torch.Size([2, 1560])\n",
      "677 torch.Size([2, 1560])\n",
      "EDGE_INDEX: torch.Size([2, 1560])\t\tLOOP_INDEX: torch.Size([2, 677])\n"
     ]
    },
    {
     "name": "stderr",
     "output_type": "stream",
     "text": [
      "[Joint E3] Calc Global P:  76%|███████▋  | 13/17 [00:56<00:16,  4.20s/it]"
     ]
    },
    {
     "name": "stdout",
     "output_type": "stream",
     "text": [
      "241 --- torch.Size([2, 1450])\n",
      "99 --- torch.Size([2, 1450])\n",
      "642 torch.Size([2, 1450])\n",
      "EDGE_INDEX: torch.Size([2, 1450])\t\tLOOP_INDEX: torch.Size([2, 642])\n",
      "241 --- torch.Size([2, 1450])\n",
      "99 --- torch.Size([2, 1450])\n",
      "642 torch.Size([2, 1450])\n",
      "EDGE_INDEX: torch.Size([2, 1450])\t\tLOOP_INDEX: torch.Size([2, 642])\n"
     ]
    },
    {
     "name": "stderr",
     "output_type": "stream",
     "text": [
      "[Joint E3] Calc Global P:  82%|████████▏ | 14/17 [01:00<00:12,  4.24s/it]"
     ]
    },
    {
     "name": "stdout",
     "output_type": "stream",
     "text": [
      "241 --- torch.Size([2, 1412])\n",
      "99 --- torch.Size([2, 1412])\n",
      "628 torch.Size([2, 1412])\n",
      "EDGE_INDEX: torch.Size([2, 1412])\t\tLOOP_INDEX: torch.Size([2, 628])\n",
      "241 --- torch.Size([2, 1412])\n",
      "99 --- torch.Size([2, 1412])\n",
      "628 torch.Size([2, 1412])\n",
      "EDGE_INDEX: torch.Size([2, 1412])\t\tLOOP_INDEX: torch.Size([2, 628])\n"
     ]
    },
    {
     "name": "stderr",
     "output_type": "stream",
     "text": [
      "[Joint E3] Calc Global P:  88%|████████▊ | 15/17 [01:04<00:08,  4.17s/it]"
     ]
    },
    {
     "name": "stdout",
     "output_type": "stream",
     "text": [
      "241 --- torch.Size([2, 1662])\n",
      "99 --- torch.Size([2, 1662])\n",
      "666 torch.Size([2, 1662])\n",
      "EDGE_INDEX: torch.Size([2, 1662])\t\tLOOP_INDEX: torch.Size([2, 666])\n",
      "241 --- torch.Size([2, 1662])\n",
      "99 --- torch.Size([2, 1662])\n",
      "666 torch.Size([2, 1662])\n",
      "EDGE_INDEX: torch.Size([2, 1662])\t\tLOOP_INDEX: torch.Size([2, 666])\n"
     ]
    },
    {
     "name": "stderr",
     "output_type": "stream",
     "text": [
      "[Joint E3] Calc Global P:  94%|█████████▍| 16/17 [01:08<00:03,  3.94s/it]"
     ]
    },
    {
     "name": "stdout",
     "output_type": "stream",
     "text": [
      "241 --- torch.Size([2, 1332])\n",
      "99 --- torch.Size([2, 1332])\n",
      "530 torch.Size([2, 1332])\n",
      "EDGE_INDEX: torch.Size([2, 1332])\t\tLOOP_INDEX: torch.Size([2, 530])\n",
      "241 --- torch.Size([2, 1332])\n",
      "99 --- torch.Size([2, 1332])\n",
      "530 torch.Size([2, 1332])\n",
      "EDGE_INDEX: torch.Size([2, 1332])\t\tLOOP_INDEX: torch.Size([2, 530])\n"
     ]
    },
    {
     "name": "stderr",
     "output_type": "stream",
     "text": [
      "                                                                         \r"
     ]
    },
    {
     "name": "stdout",
     "output_type": "stream",
     "text": [
      "241 --- torch.Size([2, 1842])\n",
      "99 --- torch.Size([2, 1842])\n",
      "722 torch.Size([2, 1842])\n",
      "EDGE_INDEX: torch.Size([2, 1842])\t\tLOOP_INDEX: torch.Size([2, 722])\n",
      "241 --- torch.Size([2, 1842])\n",
      "99 --- torch.Size([2, 1842])\n",
      "722 torch.Size([2, 1842])\n",
      "EDGE_INDEX: torch.Size([2, 1842])\t\tLOOP_INDEX: torch.Size([2, 722])\n",
      "241 --- torch.Size([2, 1590])\n",
      "99 --- torch.Size([2, 1590])\n",
      "641 torch.Size([2, 1590])\n",
      "EDGE_INDEX: torch.Size([2, 1590])\t\tLOOP_INDEX: torch.Size([2, 641])\n",
      "241 --- torch.Size([2, 1590])\n",
      "99 --- torch.Size([2, 1590])\n",
      "641 torch.Size([2, 1590])\n",
      "EDGE_INDEX: torch.Size([2, 1590])\t\tLOOP_INDEX: torch.Size([2, 641])\n",
      "241 --- torch.Size([2, 1676])\n",
      "99 --- torch.Size([2, 1676])\n",
      "665 torch.Size([2, 1676])\n",
      "EDGE_INDEX: torch.Size([2, 1676])\t\tLOOP_INDEX: torch.Size([2, 665])\n",
      "241 --- torch.Size([2, 1676])\n",
      "99 --- torch.Size([2, 1676])\n",
      "665 torch.Size([2, 1676])\n",
      "EDGE_INDEX: torch.Size([2, 1676])\t\tLOOP_INDEX: torch.Size([2, 665])\n",
      "241 --- torch.Size([2, 1712])\n",
      "99 --- torch.Size([2, 1712])\n",
      "696 torch.Size([2, 1712])\n",
      "EDGE_INDEX: torch.Size([2, 1712])\t\tLOOP_INDEX: torch.Size([2, 696])\n",
      "241 --- torch.Size([2, 1712])\n",
      "99 --- torch.Size([2, 1712])\n",
      "696 torch.Size([2, 1712])\n",
      "EDGE_INDEX: torch.Size([2, 1712])\t\tLOOP_INDEX: torch.Size([2, 696])\n",
      "241 --- torch.Size([2, 1482])\n",
      "99 --- torch.Size([2, 1482])\n",
      "647 torch.Size([2, 1482])\n",
      "EDGE_INDEX: torch.Size([2, 1482])\t\tLOOP_INDEX: torch.Size([2, 647])\n",
      "241 --- torch.Size([2, 1482])\n",
      "99 --- torch.Size([2, 1482])\n",
      "647 torch.Size([2, 1482])\n",
      "EDGE_INDEX: torch.Size([2, 1482])\t\tLOOP_INDEX: torch.Size([2, 647])\n",
      "241 --- torch.Size([2, 1686])\n",
      "99 --- torch.Size([2, 1686])\n",
      "676 torch.Size([2, 1686])\n",
      "EDGE_INDEX: torch.Size([2, 1686])\t\tLOOP_INDEX: torch.Size([2, 676])\n",
      "241 --- torch.Size([2, 1686])\n",
      "99 --- torch.Size([2, 1686])\n",
      "676 torch.Size([2, 1686])\n",
      "EDGE_INDEX: torch.Size([2, 1686])\t\tLOOP_INDEX: torch.Size([2, 676])\n",
      "241 --- torch.Size([2, 1528])\n",
      "99 --- torch.Size([2, 1528])\n",
      "636 torch.Size([2, 1528])\n",
      "EDGE_INDEX: torch.Size([2, 1528])\t\tLOOP_INDEX: torch.Size([2, 636])\n",
      "241 --- torch.Size([2, 1528])\n",
      "99 --- torch.Size([2, 1528])\n",
      "636 torch.Size([2, 1528])\n",
      "EDGE_INDEX: torch.Size([2, 1528])\t\tLOOP_INDEX: torch.Size([2, 636])\n",
      "241 --- torch.Size([2, 1324])\n",
      "99 --- torch.Size([2, 1324])\n",
      "595 torch.Size([2, 1324])\n",
      "EDGE_INDEX: torch.Size([2, 1324])\t\tLOOP_INDEX: torch.Size([2, 595])\n",
      "241 --- torch.Size([2, 1324])\n",
      "99 --- torch.Size([2, 1324])\n",
      "595 torch.Size([2, 1324])\n",
      "EDGE_INDEX: torch.Size([2, 1324])\t\tLOOP_INDEX: torch.Size([2, 595])\n",
      "241 --- torch.Size([2, 1708])\n",
      "99 --- torch.Size([2, 1708])\n",
      "681 torch.Size([2, 1708])\n",
      "EDGE_INDEX: torch.Size([2, 1708])\t\tLOOP_INDEX: torch.Size([2, 681])\n",
      "241 --- torch.Size([2, 1708])\n",
      "99 --- torch.Size([2, 1708])\n",
      "681 torch.Size([2, 1708])\n",
      "EDGE_INDEX: torch.Size([2, 1708])\t\tLOOP_INDEX: torch.Size([2, 681])\n",
      "241 --- torch.Size([2, 1878])\n",
      "99 --- torch.Size([2, 1878])\n",
      "698 torch.Size([2, 1878])\n",
      "EDGE_INDEX: torch.Size([2, 1878])\t\tLOOP_INDEX: torch.Size([2, 698])\n",
      "241 --- torch.Size([2, 1878])\n",
      "99 --- torch.Size([2, 1878])\n",
      "698 torch.Size([2, 1878])\n",
      "EDGE_INDEX: torch.Size([2, 1878])\t\tLOOP_INDEX: torch.Size([2, 698])\n",
      "241 --- torch.Size([2, 1652])\n",
      "99 --- torch.Size([2, 1652])\n",
      "705 torch.Size([2, 1652])\n",
      "EDGE_INDEX: torch.Size([2, 1652])\t\tLOOP_INDEX: torch.Size([2, 705])\n",
      "241 --- torch.Size([2, 1652])\n",
      "99 --- torch.Size([2, 1652])\n",
      "705 torch.Size([2, 1652])\n",
      "EDGE_INDEX: torch.Size([2, 1652])\t\tLOOP_INDEX: torch.Size([2, 705])\n",
      "241 --- torch.Size([2, 1668])\n",
      "99 --- torch.Size([2, 1668])\n",
      "673 torch.Size([2, 1668])\n",
      "EDGE_INDEX: torch.Size([2, 1668])\t\tLOOP_INDEX: torch.Size([2, 673])\n",
      "241 --- torch.Size([2, 1668])\n",
      "99 --- torch.Size([2, 1668])\n",
      "673 torch.Size([2, 1668])\n",
      "EDGE_INDEX: torch.Size([2, 1668])\t\tLOOP_INDEX: torch.Size([2, 673])\n",
      "241 --- torch.Size([2, 1562])\n",
      "99 --- torch.Size([2, 1562])\n",
      "656 torch.Size([2, 1562])\n",
      "EDGE_INDEX: torch.Size([2, 1562])\t\tLOOP_INDEX: torch.Size([2, 656])\n",
      "241 --- torch.Size([2, 1562])\n",
      "99 --- torch.Size([2, 1562])\n",
      "656 torch.Size([2, 1562])\n",
      "EDGE_INDEX: torch.Size([2, 1562])\t\tLOOP_INDEX: torch.Size([2, 656])\n",
      "241 --- torch.Size([2, 1828])\n",
      "99 --- torch.Size([2, 1828])\n",
      "702 torch.Size([2, 1828])\n",
      "EDGE_INDEX: torch.Size([2, 1828])\t\tLOOP_INDEX: torch.Size([2, 702])\n",
      "241 --- torch.Size([2, 1828])\n",
      "99 --- torch.Size([2, 1828])\n",
      "702 torch.Size([2, 1828])\n",
      "EDGE_INDEX: torch.Size([2, 1828])\t\tLOOP_INDEX: torch.Size([2, 702])\n",
      "241 --- torch.Size([2, 1856])\n",
      "99 --- torch.Size([2, 1856])\n",
      "708 torch.Size([2, 1856])\n",
      "EDGE_INDEX: torch.Size([2, 1856])\t\tLOOP_INDEX: torch.Size([2, 708])\n",
      "241 --- torch.Size([2, 1856])\n",
      "99 --- torch.Size([2, 1856])\n",
      "708 torch.Size([2, 1856])\n",
      "EDGE_INDEX: torch.Size([2, 1856])\t\tLOOP_INDEX: torch.Size([2, 708])\n",
      "241 --- torch.Size([2, 1592])\n",
      "99 --- torch.Size([2, 1592])\n",
      "655 torch.Size([2, 1592])\n",
      "EDGE_INDEX: torch.Size([2, 1592])\t\tLOOP_INDEX: torch.Size([2, 655])\n",
      "241 --- torch.Size([2, 1592])\n",
      "99 --- torch.Size([2, 1592])\n",
      "655 torch.Size([2, 1592])\n",
      "EDGE_INDEX: torch.Size([2, 1592])\t\tLOOP_INDEX: torch.Size([2, 655])\n",
      "241 --- torch.Size([2, 1602])\n",
      "99 --- torch.Size([2, 1602])\n",
      "612 torch.Size([2, 1602])\n",
      "EDGE_INDEX: torch.Size([2, 1602])\t\tLOOP_INDEX: torch.Size([2, 612])\n",
      "241 --- torch.Size([2, 1602])\n",
      "99 --- torch.Size([2, 1602])\n",
      "612 torch.Size([2, 1602])\n",
      "EDGE_INDEX: torch.Size([2, 1602])\t\tLOOP_INDEX: torch.Size([2, 612])\n",
      "241 --- torch.Size([2, 1974])\n",
      "99 --- torch.Size([2, 1974])\n",
      "727 torch.Size([2, 1974])\n",
      "EDGE_INDEX: torch.Size([2, 1974])\t\tLOOP_INDEX: torch.Size([2, 727])\n",
      "241 --- torch.Size([2, 1974])\n",
      "99 --- torch.Size([2, 1974])\n",
      "727 torch.Size([2, 1974])\n",
      "EDGE_INDEX: torch.Size([2, 1974])\t\tLOOP_INDEX: torch.Size([2, 727])\n",
      "241 --- torch.Size([2, 1902])\n",
      "99 --- torch.Size([2, 1902])\n",
      "727 torch.Size([2, 1902])\n",
      "EDGE_INDEX: torch.Size([2, 1902])\t\tLOOP_INDEX: torch.Size([2, 727])\n",
      "241 --- torch.Size([2, 1902])\n",
      "99 --- torch.Size([2, 1902])\n",
      "727 torch.Size([2, 1902])\n",
      "EDGE_INDEX: torch.Size([2, 1902])\t\tLOOP_INDEX: torch.Size([2, 727])\n",
      "241 --- torch.Size([2, 1924])\n",
      "99 --- torch.Size([2, 1924])\n",
      "744 torch.Size([2, 1924])\n",
      "EDGE_INDEX: torch.Size([2, 1924])\t\tLOOP_INDEX: torch.Size([2, 744])\n",
      "241 --- torch.Size([2, 1924])\n",
      "99 --- torch.Size([2, 1924])\n",
      "744 torch.Size([2, 1924])\n",
      "EDGE_INDEX: torch.Size([2, 1924])\t\tLOOP_INDEX: torch.Size([2, 744])\n",
      "241 --- torch.Size([2, 942])\n",
      "99 --- torch.Size([2, 942])\n",
      "391 torch.Size([2, 942])\n",
      "EDGE_INDEX: torch.Size([2, 942])\t\tLOOP_INDEX: torch.Size([2, 391])\n",
      "241 --- torch.Size([2, 942])\n",
      "99 --- torch.Size([2, 942])\n",
      "391 torch.Size([2, 942])\n",
      "EDGE_INDEX: torch.Size([2, 942])\t\tLOOP_INDEX: torch.Size([2, 391])\n"
     ]
    },
    {
     "name": "stderr",
     "output_type": "stream",
     "text": [
      "[Joint E4] Calc Global P:   0%|          | 0/17 [00:00<?, ?it/s]"
     ]
    },
    {
     "name": "stdout",
     "output_type": "stream",
     "text": [
      "241 --- torch.Size([2, 1792])\n",
      "99 --- torch.Size([2, 1792])\n",
      "696 torch.Size([2, 1792])\n",
      "EDGE_INDEX: torch.Size([2, 1792])\t\tLOOP_INDEX: torch.Size([2, 696])\n",
      "241 --- torch.Size([2, 1792])\n",
      "99 --- torch.Size([2, 1792])\n",
      "696 torch.Size([2, 1792])\n",
      "EDGE_INDEX: torch.Size([2, 1792])\t\tLOOP_INDEX: torch.Size([2, 696])\n"
     ]
    },
    {
     "name": "stderr",
     "output_type": "stream",
     "text": [
      "[Joint E4] Calc Global P:   6%|▌         | 1/17 [00:04<01:15,  4.69s/it]"
     ]
    },
    {
     "name": "stdout",
     "output_type": "stream",
     "text": [
      "241 --- torch.Size([2, 1818])\n",
      "99 --- torch.Size([2, 1818])\n",
      "704 torch.Size([2, 1818])\n",
      "EDGE_INDEX: torch.Size([2, 1818])\t\tLOOP_INDEX: torch.Size([2, 704])\n",
      "241 --- torch.Size([2, 1818])\n",
      "99 --- torch.Size([2, 1818])\n",
      "704 torch.Size([2, 1818])\n",
      "EDGE_INDEX: torch.Size([2, 1818])\t\tLOOP_INDEX: torch.Size([2, 704])\n"
     ]
    },
    {
     "name": "stderr",
     "output_type": "stream",
     "text": [
      "[Joint E4] Calc Global P:  12%|█▏        | 2/17 [00:09<01:07,  4.48s/it]"
     ]
    },
    {
     "name": "stdout",
     "output_type": "stream",
     "text": [
      "241 --- torch.Size([2, 1634])\n",
      "99 --- torch.Size([2, 1634])\n",
      "689 torch.Size([2, 1634])\n",
      "EDGE_INDEX: torch.Size([2, 1634])\t\tLOOP_INDEX: torch.Size([2, 689])\n",
      "241 --- torch.Size([2, 1634])\n",
      "99 --- torch.Size([2, 1634])\n",
      "689 torch.Size([2, 1634])\n",
      "EDGE_INDEX: torch.Size([2, 1634])\t\tLOOP_INDEX: torch.Size([2, 689])\n"
     ]
    },
    {
     "name": "stderr",
     "output_type": "stream",
     "text": [
      "[Joint E4] Calc Global P:  18%|█▊        | 3/17 [00:13<01:00,  4.31s/it]"
     ]
    },
    {
     "name": "stdout",
     "output_type": "stream",
     "text": [
      "241 --- torch.Size([2, 1808])\n",
      "99 --- torch.Size([2, 1808])\n",
      "716 torch.Size([2, 1808])\n",
      "EDGE_INDEX: torch.Size([2, 1808])\t\tLOOP_INDEX: torch.Size([2, 716])\n",
      "241 --- torch.Size([2, 1808])\n",
      "99 --- torch.Size([2, 1808])\n",
      "716 torch.Size([2, 1808])\n",
      "EDGE_INDEX: torch.Size([2, 1808])\t\tLOOP_INDEX: torch.Size([2, 716])\n"
     ]
    },
    {
     "name": "stderr",
     "output_type": "stream",
     "text": [
      "[Joint E4] Calc Global P:  24%|██▎       | 4/17 [00:16<00:53,  4.11s/it]"
     ]
    },
    {
     "name": "stdout",
     "output_type": "stream",
     "text": [
      "241 --- torch.Size([2, 1886])\n",
      "99 --- torch.Size([2, 1886])\n",
      "723 torch.Size([2, 1886])\n",
      "EDGE_INDEX: torch.Size([2, 1886])\t\tLOOP_INDEX: torch.Size([2, 723])\n",
      "241 --- torch.Size([2, 1886])\n",
      "99 --- torch.Size([2, 1886])\n",
      "723 torch.Size([2, 1886])\n",
      "EDGE_INDEX: torch.Size([2, 1886])\t\tLOOP_INDEX: torch.Size([2, 723])\n"
     ]
    },
    {
     "name": "stderr",
     "output_type": "stream",
     "text": [
      "[Joint E4] Calc Global P:  29%|██▉       | 5/17 [00:21<00:49,  4.15s/it]"
     ]
    },
    {
     "name": "stdout",
     "output_type": "stream",
     "text": [
      "241 --- torch.Size([2, 1472])\n",
      "99 --- torch.Size([2, 1472])\n",
      "626 torch.Size([2, 1472])\n",
      "EDGE_INDEX: torch.Size([2, 1472])\t\tLOOP_INDEX: torch.Size([2, 626])\n",
      "241 --- torch.Size([2, 1472])\n",
      "99 --- torch.Size([2, 1472])\n",
      "626 torch.Size([2, 1472])\n",
      "EDGE_INDEX: torch.Size([2, 1472])\t\tLOOP_INDEX: torch.Size([2, 626])\n"
     ]
    },
    {
     "name": "stderr",
     "output_type": "stream",
     "text": [
      "[Joint E4] Calc Global P:  35%|███▌      | 6/17 [00:24<00:41,  3.76s/it]"
     ]
    },
    {
     "name": "stdout",
     "output_type": "stream",
     "text": [
      "241 --- torch.Size([2, 1624])\n",
      "99 --- torch.Size([2, 1624])\n",
      "657 torch.Size([2, 1624])\n",
      "EDGE_INDEX: torch.Size([2, 1624])\t\tLOOP_INDEX: torch.Size([2, 657])\n",
      "241 --- torch.Size([2, 1624])\n",
      "99 --- torch.Size([2, 1624])\n",
      "657 torch.Size([2, 1624])\n",
      "EDGE_INDEX: torch.Size([2, 1624])\t\tLOOP_INDEX: torch.Size([2, 657])\n"
     ]
    },
    {
     "name": "stderr",
     "output_type": "stream",
     "text": [
      "[Joint E4] Calc Global P:  41%|████      | 7/17 [00:28<00:40,  4.04s/it]"
     ]
    },
    {
     "name": "stdout",
     "output_type": "stream",
     "text": [
      "241 --- torch.Size([2, 2122])\n",
      "99 --- torch.Size([2, 2122])\n",
      "792 torch.Size([2, 2122])\n",
      "EDGE_INDEX: torch.Size([2, 2122])\t\tLOOP_INDEX: torch.Size([2, 792])\n",
      "241 --- torch.Size([2, 2122])\n",
      "99 --- torch.Size([2, 2122])\n",
      "792 torch.Size([2, 2122])\n",
      "EDGE_INDEX: torch.Size([2, 2122])\t\tLOOP_INDEX: torch.Size([2, 792])\n"
     ]
    },
    {
     "name": "stderr",
     "output_type": "stream",
     "text": [
      "[Joint E4] Calc Global P:  47%|████▋     | 8/17 [00:33<00:37,  4.18s/it]"
     ]
    },
    {
     "name": "stdout",
     "output_type": "stream",
     "text": [
      "241 --- torch.Size([2, 1822])\n",
      "99 --- torch.Size([2, 1822])\n",
      "721 torch.Size([2, 1822])\n",
      "EDGE_INDEX: torch.Size([2, 1822])\t\tLOOP_INDEX: torch.Size([2, 721])\n",
      "241 --- torch.Size([2, 1822])\n",
      "99 --- torch.Size([2, 1822])\n",
      "721 torch.Size([2, 1822])\n",
      "EDGE_INDEX: torch.Size([2, 1822])\t\tLOOP_INDEX: torch.Size([2, 721])\n"
     ]
    },
    {
     "name": "stderr",
     "output_type": "stream",
     "text": [
      "[Joint E4] Calc Global P:  53%|█████▎    | 9/17 [00:37<00:33,  4.19s/it]"
     ]
    },
    {
     "name": "stdout",
     "output_type": "stream",
     "text": [
      "241 --- torch.Size([2, 1654])\n",
      "99 --- torch.Size([2, 1654])\n",
      "671 torch.Size([2, 1654])\n",
      "EDGE_INDEX: torch.Size([2, 1654])\t\tLOOP_INDEX: torch.Size([2, 671])\n",
      "241 --- torch.Size([2, 1654])\n",
      "99 --- torch.Size([2, 1654])\n",
      "671 torch.Size([2, 1654])\n",
      "EDGE_INDEX: torch.Size([2, 1654])\t\tLOOP_INDEX: torch.Size([2, 671])\n"
     ]
    },
    {
     "name": "stderr",
     "output_type": "stream",
     "text": [
      "[Joint E4] Calc Global P:  59%|█████▉    | 10/17 [00:42<00:30,  4.33s/it]"
     ]
    },
    {
     "name": "stdout",
     "output_type": "stream",
     "text": [
      "241 --- torch.Size([2, 2052])\n",
      "99 --- torch.Size([2, 2052])\n",
      "737 torch.Size([2, 2052])\n",
      "EDGE_INDEX: torch.Size([2, 2052])\t\tLOOP_INDEX: torch.Size([2, 737])\n",
      "241 --- torch.Size([2, 2052])\n",
      "99 --- torch.Size([2, 2052])\n",
      "737 torch.Size([2, 2052])\n",
      "EDGE_INDEX: torch.Size([2, 2052])\t\tLOOP_INDEX: torch.Size([2, 737])\n"
     ]
    },
    {
     "name": "stderr",
     "output_type": "stream",
     "text": [
      "[Joint E4] Calc Global P:  65%|██████▍   | 11/17 [00:46<00:26,  4.39s/it]"
     ]
    },
    {
     "name": "stdout",
     "output_type": "stream",
     "text": [
      "241 --- torch.Size([2, 2270])\n",
      "99 --- torch.Size([2, 2270])\n",
      "800 torch.Size([2, 2270])\n",
      "EDGE_INDEX: torch.Size([2, 2270])\t\tLOOP_INDEX: torch.Size([2, 800])\n",
      "241 --- torch.Size([2, 2270])\n",
      "99 --- torch.Size([2, 2270])\n",
      "800 torch.Size([2, 2270])\n",
      "EDGE_INDEX: torch.Size([2, 2270])\t\tLOOP_INDEX: torch.Size([2, 800])\n"
     ]
    },
    {
     "name": "stderr",
     "output_type": "stream",
     "text": [
      "[Joint E4] Calc Global P:  71%|███████   | 12/17 [00:50<00:21,  4.21s/it]"
     ]
    },
    {
     "name": "stdout",
     "output_type": "stream",
     "text": [
      "241 --- torch.Size([2, 1560])\n",
      "99 --- torch.Size([2, 1560])\n",
      "677 torch.Size([2, 1560])\n",
      "EDGE_INDEX: torch.Size([2, 1560])\t\tLOOP_INDEX: torch.Size([2, 677])\n",
      "241 --- torch.Size([2, 1560])\n",
      "99 --- torch.Size([2, 1560])\n",
      "677 torch.Size([2, 1560])\n",
      "EDGE_INDEX: torch.Size([2, 1560])\t\tLOOP_INDEX: torch.Size([2, 677])\n"
     ]
    },
    {
     "name": "stderr",
     "output_type": "stream",
     "text": [
      "[Joint E4] Calc Global P:  76%|███████▋  | 13/17 [00:53<00:16,  4.01s/it]"
     ]
    },
    {
     "name": "stdout",
     "output_type": "stream",
     "text": [
      "241 --- torch.Size([2, 1450])\n",
      "99 --- torch.Size([2, 1450])\n",
      "642 torch.Size([2, 1450])\n",
      "EDGE_INDEX: torch.Size([2, 1450])\t\tLOOP_INDEX: torch.Size([2, 642])\n",
      "241 --- torch.Size([2, 1450])\n",
      "99 --- torch.Size([2, 1450])\n",
      "642 torch.Size([2, 1450])\n",
      "EDGE_INDEX: torch.Size([2, 1450])\t\tLOOP_INDEX: torch.Size([2, 642])\n"
     ]
    },
    {
     "name": "stderr",
     "output_type": "stream",
     "text": [
      "[Joint E4] Calc Global P:  82%|████████▏ | 14/17 [00:58<00:12,  4.15s/it]"
     ]
    },
    {
     "name": "stdout",
     "output_type": "stream",
     "text": [
      "241 --- torch.Size([2, 1412])\n",
      "99 --- torch.Size([2, 1412])\n",
      "628 torch.Size([2, 1412])\n",
      "EDGE_INDEX: torch.Size([2, 1412])\t\tLOOP_INDEX: torch.Size([2, 628])\n",
      "241 --- torch.Size([2, 1412])\n",
      "99 --- torch.Size([2, 1412])\n",
      "628 torch.Size([2, 1412])\n",
      "EDGE_INDEX: torch.Size([2, 1412])\t\tLOOP_INDEX: torch.Size([2, 628])\n"
     ]
    },
    {
     "name": "stderr",
     "output_type": "stream",
     "text": [
      "[Joint E4] Calc Global P:  88%|████████▊ | 15/17 [01:02<00:08,  4.12s/it]"
     ]
    },
    {
     "name": "stdout",
     "output_type": "stream",
     "text": [
      "241 --- torch.Size([2, 1662])\n",
      "99 --- torch.Size([2, 1662])\n",
      "666 torch.Size([2, 1662])\n",
      "EDGE_INDEX: torch.Size([2, 1662])\t\tLOOP_INDEX: torch.Size([2, 666])\n",
      "241 --- torch.Size([2, 1662])\n",
      "99 --- torch.Size([2, 1662])\n",
      "666 torch.Size([2, 1662])\n",
      "EDGE_INDEX: torch.Size([2, 1662])\t\tLOOP_INDEX: torch.Size([2, 666])\n"
     ]
    },
    {
     "name": "stderr",
     "output_type": "stream",
     "text": [
      "[Joint E4] Calc Global P:  94%|█████████▍| 16/17 [01:06<00:03,  3.96s/it]"
     ]
    },
    {
     "name": "stdout",
     "output_type": "stream",
     "text": [
      "241 --- torch.Size([2, 1332])\n",
      "99 --- torch.Size([2, 1332])\n",
      "530 torch.Size([2, 1332])\n",
      "EDGE_INDEX: torch.Size([2, 1332])\t\tLOOP_INDEX: torch.Size([2, 530])\n",
      "241 --- torch.Size([2, 1332])\n",
      "99 --- torch.Size([2, 1332])\n",
      "530 torch.Size([2, 1332])\n",
      "EDGE_INDEX: torch.Size([2, 1332])\t\tLOOP_INDEX: torch.Size([2, 530])\n"
     ]
    },
    {
     "name": "stderr",
     "output_type": "stream",
     "text": [
      "                                                                         \r"
     ]
    },
    {
     "name": "stdout",
     "output_type": "stream",
     "text": [
      "241 --- torch.Size([2, 1534])\n",
      "99 --- torch.Size([2, 1534])\n",
      "654 torch.Size([2, 1534])\n",
      "EDGE_INDEX: torch.Size([2, 1534])\t\tLOOP_INDEX: torch.Size([2, 654])\n",
      "241 --- torch.Size([2, 1534])\n",
      "99 --- torch.Size([2, 1534])\n",
      "654 torch.Size([2, 1534])\n",
      "EDGE_INDEX: torch.Size([2, 1534])\t\tLOOP_INDEX: torch.Size([2, 654])\n",
      "241 --- torch.Size([2, 1476])\n",
      "99 --- torch.Size([2, 1476])\n",
      "636 torch.Size([2, 1476])\n",
      "EDGE_INDEX: torch.Size([2, 1476])\t\tLOOP_INDEX: torch.Size([2, 636])\n",
      "241 --- torch.Size([2, 1476])\n",
      "99 --- torch.Size([2, 1476])\n",
      "636 torch.Size([2, 1476])\n",
      "EDGE_INDEX: torch.Size([2, 1476])\t\tLOOP_INDEX: torch.Size([2, 636])\n",
      "241 --- torch.Size([2, 1620])\n",
      "99 --- torch.Size([2, 1620])\n",
      "672 torch.Size([2, 1620])\n",
      "EDGE_INDEX: torch.Size([2, 1620])\t\tLOOP_INDEX: torch.Size([2, 672])\n",
      "241 --- torch.Size([2, 1620])\n",
      "99 --- torch.Size([2, 1620])\n",
      "672 torch.Size([2, 1620])\n",
      "EDGE_INDEX: torch.Size([2, 1620])\t\tLOOP_INDEX: torch.Size([2, 672])\n",
      "241 --- torch.Size([2, 1582])\n",
      "99 --- torch.Size([2, 1582])\n",
      "641 torch.Size([2, 1582])\n",
      "EDGE_INDEX: torch.Size([2, 1582])\t\tLOOP_INDEX: torch.Size([2, 641])\n",
      "241 --- torch.Size([2, 1582])\n",
      "99 --- torch.Size([2, 1582])\n",
      "641 torch.Size([2, 1582])\n",
      "EDGE_INDEX: torch.Size([2, 1582])\t\tLOOP_INDEX: torch.Size([2, 641])\n",
      "241 --- torch.Size([2, 1852])\n",
      "99 --- torch.Size([2, 1852])\n",
      "701 torch.Size([2, 1852])\n",
      "EDGE_INDEX: torch.Size([2, 1852])\t\tLOOP_INDEX: torch.Size([2, 701])\n",
      "241 --- torch.Size([2, 1852])\n",
      "99 --- torch.Size([2, 1852])\n",
      "701 torch.Size([2, 1852])\n",
      "EDGE_INDEX: torch.Size([2, 1852])\t\tLOOP_INDEX: torch.Size([2, 701])\n",
      "241 --- torch.Size([2, 1652])\n",
      "99 --- torch.Size([2, 1652])\n",
      "676 torch.Size([2, 1652])\n",
      "EDGE_INDEX: torch.Size([2, 1652])\t\tLOOP_INDEX: torch.Size([2, 676])\n",
      "241 --- torch.Size([2, 1652])\n",
      "99 --- torch.Size([2, 1652])\n",
      "676 torch.Size([2, 1652])\n",
      "EDGE_INDEX: torch.Size([2, 1652])\t\tLOOP_INDEX: torch.Size([2, 676])\n",
      "241 --- torch.Size([2, 1766])\n",
      "99 --- torch.Size([2, 1766])\n",
      "704 torch.Size([2, 1766])\n",
      "EDGE_INDEX: torch.Size([2, 1766])\t\tLOOP_INDEX: torch.Size([2, 704])\n",
      "241 --- torch.Size([2, 1766])\n",
      "99 --- torch.Size([2, 1766])\n",
      "704 torch.Size([2, 1766])\n",
      "EDGE_INDEX: torch.Size([2, 1766])\t\tLOOP_INDEX: torch.Size([2, 704])\n",
      "241 --- torch.Size([2, 1498])\n",
      "99 --- torch.Size([2, 1498])\n",
      "639 torch.Size([2, 1498])\n",
      "EDGE_INDEX: torch.Size([2, 1498])\t\tLOOP_INDEX: torch.Size([2, 639])\n",
      "241 --- torch.Size([2, 1498])\n",
      "99 --- torch.Size([2, 1498])\n",
      "639 torch.Size([2, 1498])\n",
      "EDGE_INDEX: torch.Size([2, 1498])\t\tLOOP_INDEX: torch.Size([2, 639])\n",
      "241 --- torch.Size([2, 1914])\n",
      "99 --- torch.Size([2, 1914])\n",
      "727 torch.Size([2, 1914])\n",
      "EDGE_INDEX: torch.Size([2, 1914])\t\tLOOP_INDEX: torch.Size([2, 727])\n",
      "241 --- torch.Size([2, 1914])\n",
      "99 --- torch.Size([2, 1914])\n",
      "727 torch.Size([2, 1914])\n",
      "EDGE_INDEX: torch.Size([2, 1914])\t\tLOOP_INDEX: torch.Size([2, 727])\n",
      "241 --- torch.Size([2, 1908])\n",
      "99 --- torch.Size([2, 1908])\n",
      "726 torch.Size([2, 1908])\n",
      "EDGE_INDEX: torch.Size([2, 1908])\t\tLOOP_INDEX: torch.Size([2, 726])\n",
      "241 --- torch.Size([2, 1908])\n",
      "99 --- torch.Size([2, 1908])\n",
      "726 torch.Size([2, 1908])\n",
      "EDGE_INDEX: torch.Size([2, 1908])\t\tLOOP_INDEX: torch.Size([2, 726])\n",
      "241 --- torch.Size([2, 1842])\n",
      "99 --- torch.Size([2, 1842])\n",
      "719 torch.Size([2, 1842])\n",
      "EDGE_INDEX: torch.Size([2, 1842])\t\tLOOP_INDEX: torch.Size([2, 719])\n",
      "241 --- torch.Size([2, 1842])\n",
      "99 --- torch.Size([2, 1842])\n",
      "719 torch.Size([2, 1842])\n",
      "EDGE_INDEX: torch.Size([2, 1842])\t\tLOOP_INDEX: torch.Size([2, 719])\n",
      "241 --- torch.Size([2, 1582])\n",
      "99 --- torch.Size([2, 1582])\n",
      "646 torch.Size([2, 1582])\n",
      "EDGE_INDEX: torch.Size([2, 1582])\t\tLOOP_INDEX: torch.Size([2, 646])\n",
      "241 --- torch.Size([2, 1582])\n",
      "99 --- torch.Size([2, 1582])\n",
      "646 torch.Size([2, 1582])\n",
      "EDGE_INDEX: torch.Size([2, 1582])\t\tLOOP_INDEX: torch.Size([2, 646])\n",
      "241 --- torch.Size([2, 1714])\n",
      "99 --- torch.Size([2, 1714])\n",
      "684 torch.Size([2, 1714])\n",
      "EDGE_INDEX: torch.Size([2, 1714])\t\tLOOP_INDEX: torch.Size([2, 684])\n",
      "241 --- torch.Size([2, 1714])\n",
      "99 --- torch.Size([2, 1714])\n",
      "684 torch.Size([2, 1714])\n",
      "EDGE_INDEX: torch.Size([2, 1714])\t\tLOOP_INDEX: torch.Size([2, 684])\n",
      "241 --- torch.Size([2, 1790])\n",
      "99 --- torch.Size([2, 1790])\n",
      "701 torch.Size([2, 1790])\n",
      "EDGE_INDEX: torch.Size([2, 1790])\t\tLOOP_INDEX: torch.Size([2, 701])\n",
      "241 --- torch.Size([2, 1790])\n",
      "99 --- torch.Size([2, 1790])\n",
      "701 torch.Size([2, 1790])\n",
      "EDGE_INDEX: torch.Size([2, 1790])\t\tLOOP_INDEX: torch.Size([2, 701])\n",
      "241 --- torch.Size([2, 1508])\n",
      "99 --- torch.Size([2, 1508])\n",
      "654 torch.Size([2, 1508])\n",
      "EDGE_INDEX: torch.Size([2, 1508])\t\tLOOP_INDEX: torch.Size([2, 654])\n",
      "241 --- torch.Size([2, 1508])\n",
      "99 --- torch.Size([2, 1508])\n",
      "654 torch.Size([2, 1508])\n",
      "EDGE_INDEX: torch.Size([2, 1508])\t\tLOOP_INDEX: torch.Size([2, 654])\n",
      "241 --- torch.Size([2, 1684])\n",
      "99 --- torch.Size([2, 1684])\n",
      "691 torch.Size([2, 1684])\n",
      "EDGE_INDEX: torch.Size([2, 1684])\t\tLOOP_INDEX: torch.Size([2, 691])\n",
      "241 --- torch.Size([2, 1684])\n",
      "99 --- torch.Size([2, 1684])\n",
      "691 torch.Size([2, 1684])\n",
      "EDGE_INDEX: torch.Size([2, 1684])\t\tLOOP_INDEX: torch.Size([2, 691])\n",
      "241 --- torch.Size([2, 1466])\n",
      "99 --- torch.Size([2, 1466])\n",
      "568 torch.Size([2, 1466])\n",
      "EDGE_INDEX: torch.Size([2, 1466])\t\tLOOP_INDEX: torch.Size([2, 568])\n",
      "241 --- torch.Size([2, 1466])\n",
      "99 --- torch.Size([2, 1466])\n",
      "568 torch.Size([2, 1466])\n",
      "EDGE_INDEX: torch.Size([2, 1466])\t\tLOOP_INDEX: torch.Size([2, 568])\n",
      "241 --- torch.Size([2, 1974])\n",
      "99 --- torch.Size([2, 1974])\n",
      "727 torch.Size([2, 1974])\n",
      "EDGE_INDEX: torch.Size([2, 1974])\t\tLOOP_INDEX: torch.Size([2, 727])\n",
      "241 --- torch.Size([2, 1974])\n",
      "99 --- torch.Size([2, 1974])\n",
      "727 torch.Size([2, 1974])\n",
      "EDGE_INDEX: torch.Size([2, 1974])\t\tLOOP_INDEX: torch.Size([2, 727])\n",
      "241 --- torch.Size([2, 1902])\n",
      "99 --- torch.Size([2, 1902])\n",
      "727 torch.Size([2, 1902])\n",
      "EDGE_INDEX: torch.Size([2, 1902])\t\tLOOP_INDEX: torch.Size([2, 727])\n",
      "241 --- torch.Size([2, 1902])\n",
      "99 --- torch.Size([2, 1902])\n",
      "727 torch.Size([2, 1902])\n",
      "EDGE_INDEX: torch.Size([2, 1902])\t\tLOOP_INDEX: torch.Size([2, 727])\n",
      "241 --- torch.Size([2, 1924])\n",
      "99 --- torch.Size([2, 1924])\n",
      "744 torch.Size([2, 1924])\n",
      "EDGE_INDEX: torch.Size([2, 1924])\t\tLOOP_INDEX: torch.Size([2, 744])\n",
      "241 --- torch.Size([2, 1924])\n",
      "99 --- torch.Size([2, 1924])\n",
      "744 torch.Size([2, 1924])\n",
      "EDGE_INDEX: torch.Size([2, 1924])\t\tLOOP_INDEX: torch.Size([2, 744])\n",
      "241 --- torch.Size([2, 942])\n",
      "99 --- torch.Size([2, 942])\n",
      "391 torch.Size([2, 942])\n",
      "EDGE_INDEX: torch.Size([2, 942])\t\tLOOP_INDEX: torch.Size([2, 391])\n",
      "241 --- torch.Size([2, 942])\n",
      "99 --- torch.Size([2, 942])\n",
      "391 torch.Size([2, 942])\n",
      "EDGE_INDEX: torch.Size([2, 942])\t\tLOOP_INDEX: torch.Size([2, 391])\n"
     ]
    },
    {
     "name": "stderr",
     "output_type": "stream",
     "text": [
      "[Joint E5] Calc Global P:   0%|          | 0/17 [00:00<?, ?it/s]"
     ]
    },
    {
     "name": "stdout",
     "output_type": "stream",
     "text": [
      "241 --- torch.Size([2, 1792])\n",
      "99 --- torch.Size([2, 1792])\n",
      "696 torch.Size([2, 1792])\n",
      "EDGE_INDEX: torch.Size([2, 1792])\t\tLOOP_INDEX: torch.Size([2, 696])\n",
      "241 --- torch.Size([2, 1792])\n",
      "99 --- torch.Size([2, 1792])\n",
      "696 torch.Size([2, 1792])\n",
      "EDGE_INDEX: torch.Size([2, 1792])\t\tLOOP_INDEX: torch.Size([2, 696])\n"
     ]
    },
    {
     "name": "stderr",
     "output_type": "stream",
     "text": [
      "[Joint E5] Calc Global P:   6%|▌         | 1/17 [00:04<01:13,  4.60s/it]"
     ]
    },
    {
     "name": "stdout",
     "output_type": "stream",
     "text": [
      "241 --- torch.Size([2, 1818])\n",
      "99 --- torch.Size([2, 1818])\n",
      "704 torch.Size([2, 1818])\n",
      "EDGE_INDEX: torch.Size([2, 1818])\t\tLOOP_INDEX: torch.Size([2, 704])\n",
      "241 --- torch.Size([2, 1818])\n",
      "99 --- torch.Size([2, 1818])\n",
      "704 torch.Size([2, 1818])\n",
      "EDGE_INDEX: torch.Size([2, 1818])\t\tLOOP_INDEX: torch.Size([2, 704])\n"
     ]
    },
    {
     "name": "stderr",
     "output_type": "stream",
     "text": [
      "[Joint E5] Calc Global P:  12%|█▏        | 2/17 [00:08<01:05,  4.34s/it]"
     ]
    },
    {
     "name": "stdout",
     "output_type": "stream",
     "text": [
      "241 --- torch.Size([2, 1634])\n",
      "99 --- torch.Size([2, 1634])\n",
      "689 torch.Size([2, 1634])\n",
      "EDGE_INDEX: torch.Size([2, 1634])\t\tLOOP_INDEX: torch.Size([2, 689])\n",
      "241 --- torch.Size([2, 1634])\n",
      "99 --- torch.Size([2, 1634])\n",
      "689 torch.Size([2, 1634])\n",
      "EDGE_INDEX: torch.Size([2, 1634])\t\tLOOP_INDEX: torch.Size([2, 689])\n"
     ]
    },
    {
     "name": "stderr",
     "output_type": "stream",
     "text": [
      "[Joint E5] Calc Global P:  18%|█▊        | 3/17 [00:13<01:03,  4.50s/it]"
     ]
    },
    {
     "name": "stdout",
     "output_type": "stream",
     "text": [
      "241 --- torch.Size([2, 1808])\n",
      "99 --- torch.Size([2, 1808])\n",
      "716 torch.Size([2, 1808])\n",
      "EDGE_INDEX: torch.Size([2, 1808])\t\tLOOP_INDEX: torch.Size([2, 716])\n",
      "241 --- torch.Size([2, 1808])\n",
      "99 --- torch.Size([2, 1808])\n",
      "716 torch.Size([2, 1808])\n",
      "EDGE_INDEX: torch.Size([2, 1808])\t\tLOOP_INDEX: torch.Size([2, 716])\n"
     ]
    },
    {
     "name": "stderr",
     "output_type": "stream",
     "text": [
      "[Joint E5] Calc Global P:  24%|██▎       | 4/17 [00:17<00:54,  4.20s/it]"
     ]
    },
    {
     "name": "stdout",
     "output_type": "stream",
     "text": [
      "241 --- torch.Size([2, 1886])\n",
      "99 --- torch.Size([2, 1886])\n",
      "723 torch.Size([2, 1886])\n",
      "EDGE_INDEX: torch.Size([2, 1886])\t\tLOOP_INDEX: torch.Size([2, 723])\n",
      "241 --- torch.Size([2, 1886])\n",
      "99 --- torch.Size([2, 1886])\n",
      "723 torch.Size([2, 1886])\n",
      "EDGE_INDEX: torch.Size([2, 1886])\t\tLOOP_INDEX: torch.Size([2, 723])\n"
     ]
    },
    {
     "name": "stderr",
     "output_type": "stream",
     "text": [
      "[Joint E5] Calc Global P:  29%|██▉       | 5/17 [00:21<00:50,  4.20s/it]"
     ]
    },
    {
     "name": "stdout",
     "output_type": "stream",
     "text": [
      "241 --- torch.Size([2, 1472])\n",
      "99 --- torch.Size([2, 1472])\n",
      "626 torch.Size([2, 1472])\n",
      "EDGE_INDEX: torch.Size([2, 1472])\t\tLOOP_INDEX: torch.Size([2, 626])\n",
      "241 --- torch.Size([2, 1472])\n",
      "99 --- torch.Size([2, 1472])\n",
      "626 torch.Size([2, 1472])\n",
      "EDGE_INDEX: torch.Size([2, 1472])\t\tLOOP_INDEX: torch.Size([2, 626])\n"
     ]
    },
    {
     "name": "stderr",
     "output_type": "stream",
     "text": [
      "[Joint E5] Calc Global P:  35%|███▌      | 6/17 [00:24<00:42,  3.90s/it]"
     ]
    },
    {
     "name": "stdout",
     "output_type": "stream",
     "text": [
      "241 --- torch.Size([2, 1624])\n",
      "99 --- torch.Size([2, 1624])\n",
      "657 torch.Size([2, 1624])\n",
      "EDGE_INDEX: torch.Size([2, 1624])\t\tLOOP_INDEX: torch.Size([2, 657])\n",
      "241 --- torch.Size([2, 1624])\n",
      "99 --- torch.Size([2, 1624])\n",
      "657 torch.Size([2, 1624])\n",
      "EDGE_INDEX: torch.Size([2, 1624])\t\tLOOP_INDEX: torch.Size([2, 657])\n"
     ]
    },
    {
     "name": "stderr",
     "output_type": "stream",
     "text": [
      "[Joint E5] Calc Global P:  41%|████      | 7/17 [00:29<00:40,  4.05s/it]"
     ]
    },
    {
     "name": "stdout",
     "output_type": "stream",
     "text": [
      "241 --- torch.Size([2, 2122])\n",
      "99 --- torch.Size([2, 2122])\n",
      "792 torch.Size([2, 2122])\n",
      "EDGE_INDEX: torch.Size([2, 2122])\t\tLOOP_INDEX: torch.Size([2, 792])\n",
      "241 --- torch.Size([2, 2122])\n",
      "99 --- torch.Size([2, 2122])\n",
      "792 torch.Size([2, 2122])\n",
      "EDGE_INDEX: torch.Size([2, 2122])\t\tLOOP_INDEX: torch.Size([2, 792])\n"
     ]
    },
    {
     "name": "stderr",
     "output_type": "stream",
     "text": [
      "[Joint E5] Calc Global P:  47%|████▋     | 8/17 [00:33<00:37,  4.13s/it]"
     ]
    },
    {
     "name": "stdout",
     "output_type": "stream",
     "text": [
      "241 --- torch.Size([2, 1822])\n",
      "99 --- torch.Size([2, 1822])\n",
      "721 torch.Size([2, 1822])\n",
      "EDGE_INDEX: torch.Size([2, 1822])\t\tLOOP_INDEX: torch.Size([2, 721])\n",
      "241 --- torch.Size([2, 1822])\n",
      "99 --- torch.Size([2, 1822])\n",
      "721 torch.Size([2, 1822])\n",
      "EDGE_INDEX: torch.Size([2, 1822])\t\tLOOP_INDEX: torch.Size([2, 721])\n"
     ]
    },
    {
     "name": "stderr",
     "output_type": "stream",
     "text": [
      "[Joint E5] Calc Global P:  53%|█████▎    | 9/17 [00:37<00:33,  4.18s/it]"
     ]
    },
    {
     "name": "stdout",
     "output_type": "stream",
     "text": [
      "241 --- torch.Size([2, 1654])\n",
      "99 --- torch.Size([2, 1654])\n",
      "671 torch.Size([2, 1654])\n",
      "EDGE_INDEX: torch.Size([2, 1654])\t\tLOOP_INDEX: torch.Size([2, 671])\n",
      "241 --- torch.Size([2, 1654])\n",
      "99 --- torch.Size([2, 1654])\n",
      "671 torch.Size([2, 1654])\n",
      "EDGE_INDEX: torch.Size([2, 1654])\t\tLOOP_INDEX: torch.Size([2, 671])\n"
     ]
    },
    {
     "name": "stderr",
     "output_type": "stream",
     "text": [
      "[Joint E5] Calc Global P:  59%|█████▉    | 10/17 [00:42<00:30,  4.31s/it]"
     ]
    },
    {
     "name": "stdout",
     "output_type": "stream",
     "text": [
      "241 --- torch.Size([2, 2052])\n",
      "99 --- torch.Size([2, 2052])\n",
      "737 torch.Size([2, 2052])\n",
      "EDGE_INDEX: torch.Size([2, 2052])\t\tLOOP_INDEX: torch.Size([2, 737])\n",
      "241 --- torch.Size([2, 2052])\n",
      "99 --- torch.Size([2, 2052])\n",
      "737 torch.Size([2, 2052])\n",
      "EDGE_INDEX: torch.Size([2, 2052])\t\tLOOP_INDEX: torch.Size([2, 737])\n"
     ]
    },
    {
     "name": "stderr",
     "output_type": "stream",
     "text": [
      "[Joint E5] Calc Global P:  65%|██████▍   | 11/17 [00:46<00:25,  4.27s/it]"
     ]
    },
    {
     "name": "stdout",
     "output_type": "stream",
     "text": [
      "241 --- torch.Size([2, 2270])\n",
      "99 --- torch.Size([2, 2270])\n",
      "800 torch.Size([2, 2270])\n",
      "EDGE_INDEX: torch.Size([2, 2270])\t\tLOOP_INDEX: torch.Size([2, 800])\n",
      "241 --- torch.Size([2, 2270])\n",
      "99 --- torch.Size([2, 2270])\n",
      "800 torch.Size([2, 2270])\n",
      "EDGE_INDEX: torch.Size([2, 2270])\t\tLOOP_INDEX: torch.Size([2, 800])\n"
     ]
    },
    {
     "name": "stderr",
     "output_type": "stream",
     "text": [
      "[Joint E5] Calc Global P:  71%|███████   | 12/17 [00:50<00:21,  4.25s/it]"
     ]
    },
    {
     "name": "stdout",
     "output_type": "stream",
     "text": [
      "241 --- torch.Size([2, 1560])\n",
      "99 --- torch.Size([2, 1560])\n",
      "677 torch.Size([2, 1560])\n",
      "EDGE_INDEX: torch.Size([2, 1560])\t\tLOOP_INDEX: torch.Size([2, 677])\n",
      "241 --- torch.Size([2, 1560])\n",
      "99 --- torch.Size([2, 1560])\n",
      "677 torch.Size([2, 1560])\n",
      "EDGE_INDEX: torch.Size([2, 1560])\t\tLOOP_INDEX: torch.Size([2, 677])\n"
     ]
    },
    {
     "name": "stderr",
     "output_type": "stream",
     "text": [
      "[Joint E5] Calc Global P:  76%|███████▋  | 13/17 [00:54<00:16,  4.07s/it]"
     ]
    },
    {
     "name": "stdout",
     "output_type": "stream",
     "text": [
      "241 --- torch.Size([2, 1450])\n",
      "99 --- torch.Size([2, 1450])\n",
      "642 torch.Size([2, 1450])\n",
      "EDGE_INDEX: torch.Size([2, 1450])\t\tLOOP_INDEX: torch.Size([2, 642])\n",
      "241 --- torch.Size([2, 1450])\n",
      "99 --- torch.Size([2, 1450])\n",
      "642 torch.Size([2, 1450])\n",
      "EDGE_INDEX: torch.Size([2, 1450])\t\tLOOP_INDEX: torch.Size([2, 642])\n"
     ]
    },
    {
     "name": "stderr",
     "output_type": "stream",
     "text": [
      "[Joint E5] Calc Global P:  82%|████████▏ | 14/17 [00:58<00:12,  4.24s/it]"
     ]
    },
    {
     "name": "stdout",
     "output_type": "stream",
     "text": [
      "241 --- torch.Size([2, 1412])\n",
      "99 --- torch.Size([2, 1412])\n",
      "628 torch.Size([2, 1412])\n",
      "EDGE_INDEX: torch.Size([2, 1412])\t\tLOOP_INDEX: torch.Size([2, 628])\n",
      "241 --- torch.Size([2, 1412])\n",
      "99 --- torch.Size([2, 1412])\n",
      "628 torch.Size([2, 1412])\n",
      "EDGE_INDEX: torch.Size([2, 1412])\t\tLOOP_INDEX: torch.Size([2, 628])\n"
     ]
    },
    {
     "name": "stderr",
     "output_type": "stream",
     "text": [
      "[Joint E5] Calc Global P:  88%|████████▊ | 15/17 [01:02<00:08,  4.09s/it]"
     ]
    },
    {
     "name": "stdout",
     "output_type": "stream",
     "text": [
      "241 --- torch.Size([2, 1662])\n",
      "99 --- torch.Size([2, 1662])\n",
      "666 torch.Size([2, 1662])\n",
      "EDGE_INDEX: torch.Size([2, 1662])\t\tLOOP_INDEX: torch.Size([2, 666])\n",
      "241 --- torch.Size([2, 1662])\n",
      "99 --- torch.Size([2, 1662])\n",
      "666 torch.Size([2, 1662])\n",
      "EDGE_INDEX: torch.Size([2, 1662])\t\tLOOP_INDEX: torch.Size([2, 666])\n"
     ]
    },
    {
     "name": "stderr",
     "output_type": "stream",
     "text": [
      "[Joint E5] Calc Global P:  94%|█████████▍| 16/17 [01:06<00:03,  3.91s/it]"
     ]
    },
    {
     "name": "stdout",
     "output_type": "stream",
     "text": [
      "241 --- torch.Size([2, 1332])\n",
      "99 --- torch.Size([2, 1332])\n",
      "530 torch.Size([2, 1332])\n",
      "EDGE_INDEX: torch.Size([2, 1332])\t\tLOOP_INDEX: torch.Size([2, 530])\n",
      "241 --- torch.Size([2, 1332])\n",
      "99 --- torch.Size([2, 1332])\n",
      "530 torch.Size([2, 1332])\n",
      "EDGE_INDEX: torch.Size([2, 1332])\t\tLOOP_INDEX: torch.Size([2, 530])\n"
     ]
    },
    {
     "name": "stderr",
     "output_type": "stream",
     "text": [
      "                                                                         \r"
     ]
    },
    {
     "name": "stdout",
     "output_type": "stream",
     "text": [
      "241 --- torch.Size([2, 1774])\n",
      "99 --- torch.Size([2, 1774])\n",
      "706 torch.Size([2, 1774])\n",
      "EDGE_INDEX: torch.Size([2, 1774])\t\tLOOP_INDEX: torch.Size([2, 706])\n",
      "241 --- torch.Size([2, 1774])\n",
      "99 --- torch.Size([2, 1774])\n",
      "706 torch.Size([2, 1774])\n",
      "EDGE_INDEX: torch.Size([2, 1774])\t\tLOOP_INDEX: torch.Size([2, 706])\n",
      "241 --- torch.Size([2, 1476])\n",
      "99 --- torch.Size([2, 1476])\n",
      "638 torch.Size([2, 1476])\n",
      "EDGE_INDEX: torch.Size([2, 1476])\t\tLOOP_INDEX: torch.Size([2, 638])\n",
      "241 --- torch.Size([2, 1476])\n",
      "99 --- torch.Size([2, 1476])\n",
      "638 torch.Size([2, 1476])\n",
      "EDGE_INDEX: torch.Size([2, 1476])\t\tLOOP_INDEX: torch.Size([2, 638])\n",
      "241 --- torch.Size([2, 1610])\n",
      "99 --- torch.Size([2, 1610])\n",
      "673 torch.Size([2, 1610])\n",
      "EDGE_INDEX: torch.Size([2, 1610])\t\tLOOP_INDEX: torch.Size([2, 673])\n",
      "241 --- torch.Size([2, 1610])\n",
      "99 --- torch.Size([2, 1610])\n",
      "673 torch.Size([2, 1610])\n",
      "EDGE_INDEX: torch.Size([2, 1610])\t\tLOOP_INDEX: torch.Size([2, 673])\n",
      "241 --- torch.Size([2, 1430])\n",
      "99 --- torch.Size([2, 1430])\n",
      "620 torch.Size([2, 1430])\n",
      "EDGE_INDEX: torch.Size([2, 1430])\t\tLOOP_INDEX: torch.Size([2, 620])\n",
      "241 --- torch.Size([2, 1430])\n",
      "99 --- torch.Size([2, 1430])\n",
      "620 torch.Size([2, 1430])\n",
      "EDGE_INDEX: torch.Size([2, 1430])\t\tLOOP_INDEX: torch.Size([2, 620])\n",
      "241 --- torch.Size([2, 1798])\n",
      "99 --- torch.Size([2, 1798])\n",
      "707 torch.Size([2, 1798])\n",
      "EDGE_INDEX: torch.Size([2, 1798])\t\tLOOP_INDEX: torch.Size([2, 707])\n",
      "241 --- torch.Size([2, 1798])\n",
      "99 --- torch.Size([2, 1798])\n",
      "707 torch.Size([2, 1798])\n",
      "EDGE_INDEX: torch.Size([2, 1798])\t\tLOOP_INDEX: torch.Size([2, 707])\n",
      "241 --- torch.Size([2, 1898])\n",
      "99 --- torch.Size([2, 1898])\n",
      "719 torch.Size([2, 1898])\n",
      "EDGE_INDEX: torch.Size([2, 1898])\t\tLOOP_INDEX: torch.Size([2, 719])\n",
      "241 --- torch.Size([2, 1898])\n",
      "99 --- torch.Size([2, 1898])\n",
      "719 torch.Size([2, 1898])\n",
      "EDGE_INDEX: torch.Size([2, 1898])\t\tLOOP_INDEX: torch.Size([2, 719])\n",
      "241 --- torch.Size([2, 1656])\n",
      "99 --- torch.Size([2, 1656])\n",
      "664 torch.Size([2, 1656])\n",
      "EDGE_INDEX: torch.Size([2, 1656])\t\tLOOP_INDEX: torch.Size([2, 664])\n",
      "241 --- torch.Size([2, 1656])\n",
      "99 --- torch.Size([2, 1656])\n",
      "664 torch.Size([2, 1656])\n",
      "EDGE_INDEX: torch.Size([2, 1656])\t\tLOOP_INDEX: torch.Size([2, 664])\n",
      "241 --- torch.Size([2, 1762])\n",
      "99 --- torch.Size([2, 1762])\n",
      "681 torch.Size([2, 1762])\n",
      "EDGE_INDEX: torch.Size([2, 1762])\t\tLOOP_INDEX: torch.Size([2, 681])\n",
      "241 --- torch.Size([2, 1762])\n",
      "99 --- torch.Size([2, 1762])\n",
      "681 torch.Size([2, 1762])\n",
      "EDGE_INDEX: torch.Size([2, 1762])\t\tLOOP_INDEX: torch.Size([2, 681])\n",
      "241 --- torch.Size([2, 1840])\n",
      "99 --- torch.Size([2, 1840])\n",
      "708 torch.Size([2, 1840])\n",
      "EDGE_INDEX: torch.Size([2, 1840])\t\tLOOP_INDEX: torch.Size([2, 708])\n",
      "241 --- torch.Size([2, 1840])\n",
      "99 --- torch.Size([2, 1840])\n",
      "708 torch.Size([2, 1840])\n",
      "EDGE_INDEX: torch.Size([2, 1840])\t\tLOOP_INDEX: torch.Size([2, 708])\n",
      "241 --- torch.Size([2, 1730])\n",
      "99 --- torch.Size([2, 1730])\n",
      "707 torch.Size([2, 1730])\n",
      "EDGE_INDEX: torch.Size([2, 1730])\t\tLOOP_INDEX: torch.Size([2, 707])\n",
      "241 --- torch.Size([2, 1730])\n",
      "99 --- torch.Size([2, 1730])\n",
      "707 torch.Size([2, 1730])\n",
      "EDGE_INDEX: torch.Size([2, 1730])\t\tLOOP_INDEX: torch.Size([2, 707])\n",
      "241 --- torch.Size([2, 1968])\n",
      "99 --- torch.Size([2, 1968])\n",
      "735 torch.Size([2, 1968])\n",
      "EDGE_INDEX: torch.Size([2, 1968])\t\tLOOP_INDEX: torch.Size([2, 735])\n",
      "241 --- torch.Size([2, 1968])\n",
      "99 --- torch.Size([2, 1968])\n",
      "735 torch.Size([2, 1968])\n",
      "EDGE_INDEX: torch.Size([2, 1968])\t\tLOOP_INDEX: torch.Size([2, 735])\n",
      "241 --- torch.Size([2, 1442])\n",
      "99 --- torch.Size([2, 1442])\n",
      "610 torch.Size([2, 1442])\n",
      "EDGE_INDEX: torch.Size([2, 1442])\t\tLOOP_INDEX: torch.Size([2, 610])\n",
      "241 --- torch.Size([2, 1442])\n",
      "99 --- torch.Size([2, 1442])\n",
      "610 torch.Size([2, 1442])\n",
      "EDGE_INDEX: torch.Size([2, 1442])\t\tLOOP_INDEX: torch.Size([2, 610])\n",
      "241 --- torch.Size([2, 1514])\n",
      "99 --- torch.Size([2, 1514])\n",
      "648 torch.Size([2, 1514])\n",
      "EDGE_INDEX: torch.Size([2, 1514])\t\tLOOP_INDEX: torch.Size([2, 648])\n",
      "241 --- torch.Size([2, 1514])\n",
      "99 --- torch.Size([2, 1514])\n",
      "648 torch.Size([2, 1514])\n",
      "EDGE_INDEX: torch.Size([2, 1514])\t\tLOOP_INDEX: torch.Size([2, 648])\n",
      "241 --- torch.Size([2, 1786])\n",
      "99 --- torch.Size([2, 1786])\n",
      "693 torch.Size([2, 1786])\n",
      "EDGE_INDEX: torch.Size([2, 1786])\t\tLOOP_INDEX: torch.Size([2, 693])\n",
      "241 --- torch.Size([2, 1786])\n",
      "99 --- torch.Size([2, 1786])\n",
      "693 torch.Size([2, 1786])\n",
      "EDGE_INDEX: torch.Size([2, 1786])\t\tLOOP_INDEX: torch.Size([2, 693])\n",
      "241 --- torch.Size([2, 1836])\n",
      "99 --- torch.Size([2, 1836])\n",
      "708 torch.Size([2, 1836])\n",
      "EDGE_INDEX: torch.Size([2, 1836])\t\tLOOP_INDEX: torch.Size([2, 708])\n",
      "241 --- torch.Size([2, 1836])\n",
      "99 --- torch.Size([2, 1836])\n",
      "708 torch.Size([2, 1836])\n",
      "EDGE_INDEX: torch.Size([2, 1836])\t\tLOOP_INDEX: torch.Size([2, 708])\n",
      "241 --- torch.Size([2, 2038])\n",
      "99 --- torch.Size([2, 2038])\n",
      "738 torch.Size([2, 2038])\n",
      "EDGE_INDEX: torch.Size([2, 2038])\t\tLOOP_INDEX: torch.Size([2, 738])\n",
      "241 --- torch.Size([2, 2038])\n",
      "99 --- torch.Size([2, 2038])\n",
      "738 torch.Size([2, 2038])\n",
      "EDGE_INDEX: torch.Size([2, 2038])\t\tLOOP_INDEX: torch.Size([2, 738])\n",
      "241 --- torch.Size([2, 1252])\n",
      "99 --- torch.Size([2, 1252])\n",
      "525 torch.Size([2, 1252])\n",
      "EDGE_INDEX: torch.Size([2, 1252])\t\tLOOP_INDEX: torch.Size([2, 525])\n",
      "241 --- torch.Size([2, 1252])\n",
      "99 --- torch.Size([2, 1252])\n",
      "525 torch.Size([2, 1252])\n",
      "EDGE_INDEX: torch.Size([2, 1252])\t\tLOOP_INDEX: torch.Size([2, 525])\n",
      "241 --- torch.Size([2, 1974])\n",
      "99 --- torch.Size([2, 1974])\n",
      "727 torch.Size([2, 1974])\n",
      "EDGE_INDEX: torch.Size([2, 1974])\t\tLOOP_INDEX: torch.Size([2, 727])\n",
      "241 --- torch.Size([2, 1974])\n",
      "99 --- torch.Size([2, 1974])\n",
      "727 torch.Size([2, 1974])\n",
      "EDGE_INDEX: torch.Size([2, 1974])\t\tLOOP_INDEX: torch.Size([2, 727])\n",
      "241 --- torch.Size([2, 1902])\n",
      "99 --- torch.Size([2, 1902])\n",
      "727 torch.Size([2, 1902])\n",
      "EDGE_INDEX: torch.Size([2, 1902])\t\tLOOP_INDEX: torch.Size([2, 727])\n",
      "241 --- torch.Size([2, 1902])\n",
      "99 --- torch.Size([2, 1902])\n",
      "727 torch.Size([2, 1902])\n",
      "EDGE_INDEX: torch.Size([2, 1902])\t\tLOOP_INDEX: torch.Size([2, 727])\n",
      "241 --- torch.Size([2, 1924])\n",
      "99 --- torch.Size([2, 1924])\n",
      "744 torch.Size([2, 1924])\n",
      "EDGE_INDEX: torch.Size([2, 1924])\t\tLOOP_INDEX: torch.Size([2, 744])\n",
      "241 --- torch.Size([2, 1924])\n",
      "99 --- torch.Size([2, 1924])\n",
      "744 torch.Size([2, 1924])\n",
      "EDGE_INDEX: torch.Size([2, 1924])\t\tLOOP_INDEX: torch.Size([2, 744])\n",
      "241 --- torch.Size([2, 942])\n",
      "99 --- torch.Size([2, 942])\n",
      "391 torch.Size([2, 942])\n",
      "EDGE_INDEX: torch.Size([2, 942])\t\tLOOP_INDEX: torch.Size([2, 391])\n",
      "241 --- torch.Size([2, 942])\n",
      "99 --- torch.Size([2, 942])\n",
      "391 torch.Size([2, 942])\n",
      "EDGE_INDEX: torch.Size([2, 942])\t\tLOOP_INDEX: torch.Size([2, 391])\n"
     ]
    },
    {
     "name": "stderr",
     "output_type": "stream",
     "text": [
      "[Joint E6] Calc Global P:   0%|          | 0/17 [00:00<?, ?it/s]"
     ]
    },
    {
     "name": "stdout",
     "output_type": "stream",
     "text": [
      "241 --- torch.Size([2, 1792])\n",
      "99 --- torch.Size([2, 1792])\n",
      "696 torch.Size([2, 1792])\n",
      "EDGE_INDEX: torch.Size([2, 1792])\t\tLOOP_INDEX: torch.Size([2, 696])\n",
      "241 --- torch.Size([2, 1792])\n",
      "99 --- torch.Size([2, 1792])\n",
      "696 torch.Size([2, 1792])\n",
      "EDGE_INDEX: torch.Size([2, 1792])\t\tLOOP_INDEX: torch.Size([2, 696])\n"
     ]
    },
    {
     "name": "stderr",
     "output_type": "stream",
     "text": [
      "[Joint E6] Calc Global P:   6%|▌         | 1/17 [00:04<01:12,  4.53s/it]"
     ]
    },
    {
     "name": "stdout",
     "output_type": "stream",
     "text": [
      "241 --- torch.Size([2, 1818])\n",
      "99 --- torch.Size([2, 1818])\n",
      "704 torch.Size([2, 1818])\n",
      "EDGE_INDEX: torch.Size([2, 1818])\t\tLOOP_INDEX: torch.Size([2, 704])\n",
      "241 --- torch.Size([2, 1818])\n",
      "99 --- torch.Size([2, 1818])\n",
      "704 torch.Size([2, 1818])\n",
      "EDGE_INDEX: torch.Size([2, 1818])\t\tLOOP_INDEX: torch.Size([2, 704])\n"
     ]
    },
    {
     "name": "stderr",
     "output_type": "stream",
     "text": [
      "[Joint E6] Calc Global P:  12%|█▏        | 2/17 [00:09<01:09,  4.65s/it]"
     ]
    },
    {
     "name": "stdout",
     "output_type": "stream",
     "text": [
      "241 --- torch.Size([2, 1634])\n",
      "99 --- torch.Size([2, 1634])\n",
      "689 torch.Size([2, 1634])\n",
      "EDGE_INDEX: torch.Size([2, 1634])\t\tLOOP_INDEX: torch.Size([2, 689])\n",
      "241 --- torch.Size([2, 1634])\n",
      "99 --- torch.Size([2, 1634])\n",
      "689 torch.Size([2, 1634])\n",
      "EDGE_INDEX: torch.Size([2, 1634])\t\tLOOP_INDEX: torch.Size([2, 689])\n"
     ]
    },
    {
     "name": "stderr",
     "output_type": "stream",
     "text": [
      "[Joint E6] Calc Global P:  18%|█▊        | 3/17 [00:13<01:04,  4.64s/it]"
     ]
    },
    {
     "name": "stdout",
     "output_type": "stream",
     "text": [
      "241 --- torch.Size([2, 1808])\n",
      "99 --- torch.Size([2, 1808])\n",
      "716 torch.Size([2, 1808])\n",
      "EDGE_INDEX: torch.Size([2, 1808])\t\tLOOP_INDEX: torch.Size([2, 716])\n",
      "241 --- torch.Size([2, 1808])\n",
      "99 --- torch.Size([2, 1808])\n",
      "716 torch.Size([2, 1808])\n",
      "EDGE_INDEX: torch.Size([2, 1808])\t\tLOOP_INDEX: torch.Size([2, 716])\n"
     ]
    },
    {
     "name": "stderr",
     "output_type": "stream",
     "text": [
      "[Joint E6] Calc Global P:  24%|██▎       | 4/17 [00:17<00:56,  4.34s/it]"
     ]
    },
    {
     "name": "stdout",
     "output_type": "stream",
     "text": [
      "241 --- torch.Size([2, 1886])\n",
      "99 --- torch.Size([2, 1886])\n",
      "723 torch.Size([2, 1886])\n",
      "EDGE_INDEX: torch.Size([2, 1886])\t\tLOOP_INDEX: torch.Size([2, 723])\n",
      "241 --- torch.Size([2, 1886])\n",
      "99 --- torch.Size([2, 1886])\n",
      "723 torch.Size([2, 1886])\n",
      "EDGE_INDEX: torch.Size([2, 1886])\t\tLOOP_INDEX: torch.Size([2, 723])\n"
     ]
    },
    {
     "name": "stderr",
     "output_type": "stream",
     "text": [
      "[Joint E6] Calc Global P:  29%|██▉       | 5/17 [00:21<00:51,  4.26s/it]"
     ]
    },
    {
     "name": "stdout",
     "output_type": "stream",
     "text": [
      "241 --- torch.Size([2, 1472])\n",
      "99 --- torch.Size([2, 1472])\n",
      "626 torch.Size([2, 1472])\n",
      "EDGE_INDEX: torch.Size([2, 1472])\t\tLOOP_INDEX: torch.Size([2, 626])\n",
      "241 --- torch.Size([2, 1472])\n",
      "99 --- torch.Size([2, 1472])\n",
      "626 torch.Size([2, 1472])\n",
      "EDGE_INDEX: torch.Size([2, 1472])\t\tLOOP_INDEX: torch.Size([2, 626])\n"
     ]
    },
    {
     "name": "stderr",
     "output_type": "stream",
     "text": [
      "[Joint E6] Calc Global P:  35%|███▌      | 6/17 [00:25<00:45,  4.12s/it]"
     ]
    },
    {
     "name": "stdout",
     "output_type": "stream",
     "text": [
      "241 --- torch.Size([2, 1624])\n",
      "99 --- torch.Size([2, 1624])\n",
      "657 torch.Size([2, 1624])\n",
      "EDGE_INDEX: torch.Size([2, 1624])\t\tLOOP_INDEX: torch.Size([2, 657])\n",
      "241 --- torch.Size([2, 1624])\n",
      "99 --- torch.Size([2, 1624])\n",
      "657 torch.Size([2, 1624])\n",
      "EDGE_INDEX: torch.Size([2, 1624])\t\tLOOP_INDEX: torch.Size([2, 657])\n"
     ]
    },
    {
     "name": "stderr",
     "output_type": "stream",
     "text": [
      "[Joint E6] Calc Global P:  41%|████      | 7/17 [00:30<00:41,  4.19s/it]"
     ]
    },
    {
     "name": "stdout",
     "output_type": "stream",
     "text": [
      "241 --- torch.Size([2, 2122])\n",
      "99 --- torch.Size([2, 2122])\n",
      "792 torch.Size([2, 2122])\n",
      "EDGE_INDEX: torch.Size([2, 2122])\t\tLOOP_INDEX: torch.Size([2, 792])\n",
      "241 --- torch.Size([2, 2122])\n",
      "99 --- torch.Size([2, 2122])\n",
      "792 torch.Size([2, 2122])\n",
      "EDGE_INDEX: torch.Size([2, 2122])\t\tLOOP_INDEX: torch.Size([2, 792])\n"
     ]
    },
    {
     "name": "stderr",
     "output_type": "stream",
     "text": [
      "[Joint E6] Calc Global P:  47%|████▋     | 8/17 [00:34<00:38,  4.28s/it]"
     ]
    },
    {
     "name": "stdout",
     "output_type": "stream",
     "text": [
      "241 --- torch.Size([2, 1822])\n",
      "99 --- torch.Size([2, 1822])\n",
      "721 torch.Size([2, 1822])\n",
      "EDGE_INDEX: torch.Size([2, 1822])\t\tLOOP_INDEX: torch.Size([2, 721])\n",
      "241 --- torch.Size([2, 1822])\n",
      "99 --- torch.Size([2, 1822])\n",
      "721 torch.Size([2, 1822])\n",
      "EDGE_INDEX: torch.Size([2, 1822])\t\tLOOP_INDEX: torch.Size([2, 721])\n"
     ]
    },
    {
     "name": "stderr",
     "output_type": "stream",
     "text": [
      "[Joint E6] Calc Global P:  53%|█████▎    | 9/17 [00:38<00:33,  4.25s/it]"
     ]
    },
    {
     "name": "stdout",
     "output_type": "stream",
     "text": [
      "241 --- torch.Size([2, 1654])\n",
      "99 --- torch.Size([2, 1654])\n",
      "671 torch.Size([2, 1654])\n",
      "EDGE_INDEX: torch.Size([2, 1654])\t\tLOOP_INDEX: torch.Size([2, 671])\n",
      "241 --- torch.Size([2, 1654])\n",
      "99 --- torch.Size([2, 1654])\n",
      "671 torch.Size([2, 1654])\n",
      "EDGE_INDEX: torch.Size([2, 1654])\t\tLOOP_INDEX: torch.Size([2, 671])\n"
     ]
    },
    {
     "name": "stderr",
     "output_type": "stream",
     "text": [
      "[Joint E6] Calc Global P:  59%|█████▉    | 10/17 [00:43<00:30,  4.42s/it]"
     ]
    },
    {
     "name": "stdout",
     "output_type": "stream",
     "text": [
      "241 --- torch.Size([2, 2052])\n",
      "99 --- torch.Size([2, 2052])\n",
      "737 torch.Size([2, 2052])\n",
      "EDGE_INDEX: torch.Size([2, 2052])\t\tLOOP_INDEX: torch.Size([2, 737])\n",
      "241 --- torch.Size([2, 2052])\n",
      "99 --- torch.Size([2, 2052])\n",
      "737 torch.Size([2, 2052])\n",
      "EDGE_INDEX: torch.Size([2, 2052])\t\tLOOP_INDEX: torch.Size([2, 737])\n"
     ]
    },
    {
     "name": "stderr",
     "output_type": "stream",
     "text": [
      "[Joint E6] Calc Global P:  65%|██████▍   | 11/17 [00:47<00:26,  4.41s/it]"
     ]
    },
    {
     "name": "stdout",
     "output_type": "stream",
     "text": [
      "241 --- torch.Size([2, 2270])\n",
      "99 --- torch.Size([2, 2270])\n",
      "800 torch.Size([2, 2270])\n",
      "EDGE_INDEX: torch.Size([2, 2270])\t\tLOOP_INDEX: torch.Size([2, 800])\n",
      "241 --- torch.Size([2, 2270])\n",
      "99 --- torch.Size([2, 2270])\n",
      "800 torch.Size([2, 2270])\n",
      "EDGE_INDEX: torch.Size([2, 2270])\t\tLOOP_INDEX: torch.Size([2, 800])\n"
     ]
    },
    {
     "name": "stderr",
     "output_type": "stream",
     "text": [
      "[Joint E6] Calc Global P:  71%|███████   | 12/17 [00:51<00:21,  4.30s/it]"
     ]
    },
    {
     "name": "stdout",
     "output_type": "stream",
     "text": [
      "241 --- torch.Size([2, 1560])\n",
      "99 --- torch.Size([2, 1560])\n",
      "677 torch.Size([2, 1560])\n",
      "EDGE_INDEX: torch.Size([2, 1560])\t\tLOOP_INDEX: torch.Size([2, 677])\n",
      "241 --- torch.Size([2, 1560])\n",
      "99 --- torch.Size([2, 1560])\n",
      "677 torch.Size([2, 1560])\n",
      "EDGE_INDEX: torch.Size([2, 1560])\t\tLOOP_INDEX: torch.Size([2, 677])\n"
     ]
    },
    {
     "name": "stderr",
     "output_type": "stream",
     "text": [
      "[Joint E6] Calc Global P:  76%|███████▋  | 13/17 [00:55<00:16,  4.18s/it]"
     ]
    },
    {
     "name": "stdout",
     "output_type": "stream",
     "text": [
      "241 --- torch.Size([2, 1450])\n",
      "99 --- torch.Size([2, 1450])\n",
      "642 torch.Size([2, 1450])\n",
      "EDGE_INDEX: torch.Size([2, 1450])\t\tLOOP_INDEX: torch.Size([2, 642])\n",
      "241 --- torch.Size([2, 1450])\n",
      "99 --- torch.Size([2, 1450])\n",
      "642 torch.Size([2, 1450])\n",
      "EDGE_INDEX: torch.Size([2, 1450])\t\tLOOP_INDEX: torch.Size([2, 642])\n"
     ]
    },
    {
     "name": "stderr",
     "output_type": "stream",
     "text": [
      "[Joint E6] Calc Global P:  82%|████████▏ | 14/17 [01:00<00:12,  4.30s/it]"
     ]
    },
    {
     "name": "stdout",
     "output_type": "stream",
     "text": [
      "241 --- torch.Size([2, 1412])\n",
      "99 --- torch.Size([2, 1412])\n",
      "628 torch.Size([2, 1412])\n",
      "EDGE_INDEX: torch.Size([2, 1412])\t\tLOOP_INDEX: torch.Size([2, 628])\n",
      "241 --- torch.Size([2, 1412])\n",
      "99 --- torch.Size([2, 1412])\n",
      "628 torch.Size([2, 1412])\n",
      "EDGE_INDEX: torch.Size([2, 1412])\t\tLOOP_INDEX: torch.Size([2, 628])\n"
     ]
    },
    {
     "name": "stderr",
     "output_type": "stream",
     "text": [
      "[Joint E6] Calc Global P:  88%|████████▊ | 15/17 [01:04<00:08,  4.22s/it]"
     ]
    },
    {
     "name": "stdout",
     "output_type": "stream",
     "text": [
      "241 --- torch.Size([2, 1662])\n",
      "99 --- torch.Size([2, 1662])\n",
      "666 torch.Size([2, 1662])\n",
      "EDGE_INDEX: torch.Size([2, 1662])\t\tLOOP_INDEX: torch.Size([2, 666])\n",
      "241 --- torch.Size([2, 1662])\n",
      "99 --- torch.Size([2, 1662])\n",
      "666 torch.Size([2, 1662])\n",
      "EDGE_INDEX: torch.Size([2, 1662])\t\tLOOP_INDEX: torch.Size([2, 666])\n"
     ]
    },
    {
     "name": "stderr",
     "output_type": "stream",
     "text": [
      "[Joint E6] Calc Global P:  94%|█████████▍| 16/17 [01:08<00:04,  4.02s/it]"
     ]
    },
    {
     "name": "stdout",
     "output_type": "stream",
     "text": [
      "241 --- torch.Size([2, 1332])\n",
      "99 --- torch.Size([2, 1332])\n",
      "530 torch.Size([2, 1332])\n",
      "EDGE_INDEX: torch.Size([2, 1332])\t\tLOOP_INDEX: torch.Size([2, 530])\n",
      "241 --- torch.Size([2, 1332])\n",
      "99 --- torch.Size([2, 1332])\n",
      "530 torch.Size([2, 1332])\n",
      "EDGE_INDEX: torch.Size([2, 1332])\t\tLOOP_INDEX: torch.Size([2, 530])\n"
     ]
    },
    {
     "name": "stderr",
     "output_type": "stream",
     "text": [
      "                                                                         \r"
     ]
    },
    {
     "name": "stdout",
     "output_type": "stream",
     "text": [
      "241 --- torch.Size([2, 1700])\n",
      "99 --- torch.Size([2, 1700])\n",
      "668 torch.Size([2, 1700])\n",
      "EDGE_INDEX: torch.Size([2, 1700])\t\tLOOP_INDEX: torch.Size([2, 668])\n",
      "241 --- torch.Size([2, 1700])\n",
      "99 --- torch.Size([2, 1700])\n",
      "668 torch.Size([2, 1700])\n",
      "EDGE_INDEX: torch.Size([2, 1700])\t\tLOOP_INDEX: torch.Size([2, 668])\n",
      "241 --- torch.Size([2, 1718])\n",
      "99 --- torch.Size([2, 1718])\n",
      "717 torch.Size([2, 1718])\n",
      "EDGE_INDEX: torch.Size([2, 1718])\t\tLOOP_INDEX: torch.Size([2, 717])\n",
      "241 --- torch.Size([2, 1718])\n",
      "99 --- torch.Size([2, 1718])\n",
      "717 torch.Size([2, 1718])\n",
      "EDGE_INDEX: torch.Size([2, 1718])\t\tLOOP_INDEX: torch.Size([2, 717])\n",
      "241 --- torch.Size([2, 1538])\n",
      "99 --- torch.Size([2, 1538])\n",
      "639 torch.Size([2, 1538])\n",
      "EDGE_INDEX: torch.Size([2, 1538])\t\tLOOP_INDEX: torch.Size([2, 639])\n",
      "241 --- torch.Size([2, 1538])\n",
      "99 --- torch.Size([2, 1538])\n",
      "639 torch.Size([2, 1538])\n",
      "EDGE_INDEX: torch.Size([2, 1538])\t\tLOOP_INDEX: torch.Size([2, 639])\n",
      "241 --- torch.Size([2, 1664])\n",
      "99 --- torch.Size([2, 1664])\n",
      "702 torch.Size([2, 1664])\n",
      "EDGE_INDEX: torch.Size([2, 1664])\t\tLOOP_INDEX: torch.Size([2, 702])\n",
      "241 --- torch.Size([2, 1664])\n",
      "99 --- torch.Size([2, 1664])\n",
      "702 torch.Size([2, 1664])\n",
      "EDGE_INDEX: torch.Size([2, 1664])\t\tLOOP_INDEX: torch.Size([2, 702])\n",
      "241 --- torch.Size([2, 1390])\n",
      "99 --- torch.Size([2, 1390])\n",
      "623 torch.Size([2, 1390])\n",
      "EDGE_INDEX: torch.Size([2, 1390])\t\tLOOP_INDEX: torch.Size([2, 623])\n",
      "241 --- torch.Size([2, 1390])\n",
      "99 --- torch.Size([2, 1390])\n",
      "623 torch.Size([2, 1390])\n",
      "EDGE_INDEX: torch.Size([2, 1390])\t\tLOOP_INDEX: torch.Size([2, 623])\n",
      "241 --- torch.Size([2, 1758])\n",
      "99 --- torch.Size([2, 1758])\n",
      "708 torch.Size([2, 1758])\n",
      "EDGE_INDEX: torch.Size([2, 1758])\t\tLOOP_INDEX: torch.Size([2, 708])\n",
      "241 --- torch.Size([2, 1758])\n",
      "99 --- torch.Size([2, 1758])\n",
      "708 torch.Size([2, 1758])\n",
      "EDGE_INDEX: torch.Size([2, 1758])\t\tLOOP_INDEX: torch.Size([2, 708])\n",
      "241 --- torch.Size([2, 1624])\n",
      "99 --- torch.Size([2, 1624])\n",
      "666 torch.Size([2, 1624])\n",
      "EDGE_INDEX: torch.Size([2, 1624])\t\tLOOP_INDEX: torch.Size([2, 666])\n",
      "241 --- torch.Size([2, 1624])\n",
      "99 --- torch.Size([2, 1624])\n",
      "666 torch.Size([2, 1624])\n",
      "EDGE_INDEX: torch.Size([2, 1624])\t\tLOOP_INDEX: torch.Size([2, 666])\n",
      "241 --- torch.Size([2, 1620])\n",
      "99 --- torch.Size([2, 1620])\n",
      "650 torch.Size([2, 1620])\n",
      "EDGE_INDEX: torch.Size([2, 1620])\t\tLOOP_INDEX: torch.Size([2, 650])\n",
      "241 --- torch.Size([2, 1620])\n",
      "99 --- torch.Size([2, 1620])\n",
      "650 torch.Size([2, 1620])\n",
      "EDGE_INDEX: torch.Size([2, 1620])\t\tLOOP_INDEX: torch.Size([2, 650])\n",
      "241 --- torch.Size([2, 1744])\n",
      "99 --- torch.Size([2, 1744])\n",
      "698 torch.Size([2, 1744])\n",
      "EDGE_INDEX: torch.Size([2, 1744])\t\tLOOP_INDEX: torch.Size([2, 698])\n",
      "241 --- torch.Size([2, 1744])\n",
      "99 --- torch.Size([2, 1744])\n",
      "698 torch.Size([2, 1744])\n",
      "EDGE_INDEX: torch.Size([2, 1744])\t\tLOOP_INDEX: torch.Size([2, 698])\n",
      "241 --- torch.Size([2, 1538])\n",
      "99 --- torch.Size([2, 1538])\n",
      "648 torch.Size([2, 1538])\n",
      "EDGE_INDEX: torch.Size([2, 1538])\t\tLOOP_INDEX: torch.Size([2, 648])\n",
      "241 --- torch.Size([2, 1538])\n",
      "99 --- torch.Size([2, 1538])\n",
      "648 torch.Size([2, 1538])\n",
      "EDGE_INDEX: torch.Size([2, 1538])\t\tLOOP_INDEX: torch.Size([2, 648])\n",
      "241 --- torch.Size([2, 1852])\n",
      "99 --- torch.Size([2, 1852])\n",
      "721 torch.Size([2, 1852])\n",
      "EDGE_INDEX: torch.Size([2, 1852])\t\tLOOP_INDEX: torch.Size([2, 721])\n",
      "241 --- torch.Size([2, 1852])\n",
      "99 --- torch.Size([2, 1852])\n",
      "721 torch.Size([2, 1852])\n",
      "EDGE_INDEX: torch.Size([2, 1852])\t\tLOOP_INDEX: torch.Size([2, 721])\n",
      "241 --- torch.Size([2, 1600])\n",
      "99 --- torch.Size([2, 1600])\n",
      "672 torch.Size([2, 1600])\n",
      "EDGE_INDEX: torch.Size([2, 1600])\t\tLOOP_INDEX: torch.Size([2, 672])\n",
      "241 --- torch.Size([2, 1600])\n",
      "99 --- torch.Size([2, 1600])\n",
      "672 torch.Size([2, 1600])\n",
      "EDGE_INDEX: torch.Size([2, 1600])\t\tLOOP_INDEX: torch.Size([2, 672])\n",
      "241 --- torch.Size([2, 1736])\n",
      "99 --- torch.Size([2, 1736])\n",
      "696 torch.Size([2, 1736])\n",
      "EDGE_INDEX: torch.Size([2, 1736])\t\tLOOP_INDEX: torch.Size([2, 696])\n",
      "241 --- torch.Size([2, 1736])\n",
      "99 --- torch.Size([2, 1736])\n",
      "696 torch.Size([2, 1736])\n",
      "EDGE_INDEX: torch.Size([2, 1736])\t\tLOOP_INDEX: torch.Size([2, 696])\n",
      "241 --- torch.Size([2, 1582])\n",
      "99 --- torch.Size([2, 1582])\n",
      "658 torch.Size([2, 1582])\n",
      "EDGE_INDEX: torch.Size([2, 1582])\t\tLOOP_INDEX: torch.Size([2, 658])\n",
      "241 --- torch.Size([2, 1582])\n",
      "99 --- torch.Size([2, 1582])\n",
      "658 torch.Size([2, 1582])\n",
      "EDGE_INDEX: torch.Size([2, 1582])\t\tLOOP_INDEX: torch.Size([2, 658])\n",
      "241 --- torch.Size([2, 1654])\n",
      "99 --- torch.Size([2, 1654])\n",
      "687 torch.Size([2, 1654])\n",
      "EDGE_INDEX: torch.Size([2, 1654])\t\tLOOP_INDEX: torch.Size([2, 687])\n",
      "241 --- torch.Size([2, 1654])\n",
      "99 --- torch.Size([2, 1654])\n",
      "687 torch.Size([2, 1654])\n",
      "EDGE_INDEX: torch.Size([2, 1654])\t\tLOOP_INDEX: torch.Size([2, 687])\n",
      "241 --- torch.Size([2, 1808])\n",
      "99 --- torch.Size([2, 1808])\n",
      "685 torch.Size([2, 1808])\n",
      "EDGE_INDEX: torch.Size([2, 1808])\t\tLOOP_INDEX: torch.Size([2, 685])\n",
      "241 --- torch.Size([2, 1808])\n",
      "99 --- torch.Size([2, 1808])\n",
      "685 torch.Size([2, 1808])\n",
      "EDGE_INDEX: torch.Size([2, 1808])\t\tLOOP_INDEX: torch.Size([2, 685])\n",
      "241 --- torch.Size([2, 1148])\n",
      "99 --- torch.Size([2, 1148])\n",
      "494 torch.Size([2, 1148])\n",
      "EDGE_INDEX: torch.Size([2, 1148])\t\tLOOP_INDEX: torch.Size([2, 494])\n",
      "241 --- torch.Size([2, 1148])\n",
      "99 --- torch.Size([2, 1148])\n",
      "494 torch.Size([2, 1148])\n",
      "EDGE_INDEX: torch.Size([2, 1148])\t\tLOOP_INDEX: torch.Size([2, 494])\n",
      "241 --- torch.Size([2, 1974])\n",
      "99 --- torch.Size([2, 1974])\n",
      "727 torch.Size([2, 1974])\n",
      "EDGE_INDEX: torch.Size([2, 1974])\t\tLOOP_INDEX: torch.Size([2, 727])\n",
      "241 --- torch.Size([2, 1974])\n",
      "99 --- torch.Size([2, 1974])\n",
      "727 torch.Size([2, 1974])\n",
      "EDGE_INDEX: torch.Size([2, 1974])\t\tLOOP_INDEX: torch.Size([2, 727])\n",
      "241 --- torch.Size([2, 1902])\n",
      "99 --- torch.Size([2, 1902])\n",
      "727 torch.Size([2, 1902])\n",
      "EDGE_INDEX: torch.Size([2, 1902])\t\tLOOP_INDEX: torch.Size([2, 727])\n",
      "241 --- torch.Size([2, 1902])\n",
      "99 --- torch.Size([2, 1902])\n",
      "727 torch.Size([2, 1902])\n",
      "EDGE_INDEX: torch.Size([2, 1902])\t\tLOOP_INDEX: torch.Size([2, 727])\n",
      "241 --- torch.Size([2, 1924])\n",
      "99 --- torch.Size([2, 1924])\n",
      "744 torch.Size([2, 1924])\n",
      "EDGE_INDEX: torch.Size([2, 1924])\t\tLOOP_INDEX: torch.Size([2, 744])\n",
      "241 --- torch.Size([2, 1924])\n",
      "99 --- torch.Size([2, 1924])\n",
      "744 torch.Size([2, 1924])\n",
      "EDGE_INDEX: torch.Size([2, 1924])\t\tLOOP_INDEX: torch.Size([2, 744])\n",
      "241 --- torch.Size([2, 942])\n",
      "99 --- torch.Size([2, 942])\n",
      "391 torch.Size([2, 942])\n",
      "EDGE_INDEX: torch.Size([2, 942])\t\tLOOP_INDEX: torch.Size([2, 391])\n",
      "241 --- torch.Size([2, 942])\n",
      "99 --- torch.Size([2, 942])\n",
      "391 torch.Size([2, 942])\n",
      "EDGE_INDEX: torch.Size([2, 942])\t\tLOOP_INDEX: torch.Size([2, 391])\n"
     ]
    },
    {
     "name": "stderr",
     "output_type": "stream",
     "text": [
      "[Joint E7] Calc Global P:   0%|          | 0/17 [00:00<?, ?it/s]"
     ]
    },
    {
     "name": "stdout",
     "output_type": "stream",
     "text": [
      "241 --- torch.Size([2, 1792])\n",
      "99 --- torch.Size([2, 1792])\n",
      "696 torch.Size([2, 1792])\n",
      "EDGE_INDEX: torch.Size([2, 1792])\t\tLOOP_INDEX: torch.Size([2, 696])\n",
      "241 --- torch.Size([2, 1792])\n",
      "99 --- torch.Size([2, 1792])\n",
      "696 torch.Size([2, 1792])\n",
      "EDGE_INDEX: torch.Size([2, 1792])\t\tLOOP_INDEX: torch.Size([2, 696])\n"
     ]
    },
    {
     "name": "stderr",
     "output_type": "stream",
     "text": [
      "[Joint E7] Calc Global P:   6%|▌         | 1/17 [00:04<01:14,  4.64s/it]"
     ]
    },
    {
     "name": "stdout",
     "output_type": "stream",
     "text": [
      "241 --- torch.Size([2, 1818])\n",
      "99 --- torch.Size([2, 1818])\n",
      "704 torch.Size([2, 1818])\n",
      "EDGE_INDEX: torch.Size([2, 1818])\t\tLOOP_INDEX: torch.Size([2, 704])\n",
      "241 --- torch.Size([2, 1818])\n",
      "99 --- torch.Size([2, 1818])\n",
      "704 torch.Size([2, 1818])\n",
      "EDGE_INDEX: torch.Size([2, 1818])\t\tLOOP_INDEX: torch.Size([2, 704])\n"
     ]
    },
    {
     "name": "stderr",
     "output_type": "stream",
     "text": [
      "[Joint E7] Calc Global P:  12%|█▏        | 2/17 [00:09<01:09,  4.60s/it]"
     ]
    },
    {
     "name": "stdout",
     "output_type": "stream",
     "text": [
      "241 --- torch.Size([2, 1634])\n",
      "99 --- torch.Size([2, 1634])\n",
      "689 torch.Size([2, 1634])\n",
      "EDGE_INDEX: torch.Size([2, 1634])\t\tLOOP_INDEX: torch.Size([2, 689])\n",
      "241 --- torch.Size([2, 1634])\n",
      "99 --- torch.Size([2, 1634])\n",
      "689 torch.Size([2, 1634])\n",
      "EDGE_INDEX: torch.Size([2, 1634])\t\tLOOP_INDEX: torch.Size([2, 689])\n"
     ]
    },
    {
     "name": "stderr",
     "output_type": "stream",
     "text": [
      "[Joint E7] Calc Global P:  18%|█▊        | 3/17 [00:13<01:02,  4.47s/it]"
     ]
    },
    {
     "name": "stdout",
     "output_type": "stream",
     "text": [
      "241 --- torch.Size([2, 1808])\n",
      "99 --- torch.Size([2, 1808])\n",
      "716 torch.Size([2, 1808])\n",
      "EDGE_INDEX: torch.Size([2, 1808])\t\tLOOP_INDEX: torch.Size([2, 716])\n",
      "241 --- torch.Size([2, 1808])\n",
      "99 --- torch.Size([2, 1808])\n",
      "716 torch.Size([2, 1808])\n",
      "EDGE_INDEX: torch.Size([2, 1808])\t\tLOOP_INDEX: torch.Size([2, 716])\n"
     ]
    },
    {
     "name": "stderr",
     "output_type": "stream",
     "text": [
      "[Joint E7] Calc Global P:  24%|██▎       | 4/17 [00:17<00:55,  4.31s/it]"
     ]
    },
    {
     "name": "stdout",
     "output_type": "stream",
     "text": [
      "241 --- torch.Size([2, 1886])\n",
      "99 --- torch.Size([2, 1886])\n",
      "723 torch.Size([2, 1886])\n",
      "EDGE_INDEX: torch.Size([2, 1886])\t\tLOOP_INDEX: torch.Size([2, 723])\n",
      "241 --- torch.Size([2, 1886])\n",
      "99 --- torch.Size([2, 1886])\n",
      "723 torch.Size([2, 1886])\n",
      "EDGE_INDEX: torch.Size([2, 1886])\t\tLOOP_INDEX: torch.Size([2, 723])\n"
     ]
    },
    {
     "name": "stderr",
     "output_type": "stream",
     "text": [
      "[Joint E7] Calc Global P:  29%|██▉       | 5/17 [00:22<00:52,  4.36s/it]"
     ]
    },
    {
     "name": "stdout",
     "output_type": "stream",
     "text": [
      "241 --- torch.Size([2, 1472])\n",
      "99 --- torch.Size([2, 1472])\n",
      "626 torch.Size([2, 1472])\n",
      "EDGE_INDEX: torch.Size([2, 1472])\t\tLOOP_INDEX: torch.Size([2, 626])\n",
      "241 --- torch.Size([2, 1472])\n",
      "99 --- torch.Size([2, 1472])\n",
      "626 torch.Size([2, 1472])\n",
      "EDGE_INDEX: torch.Size([2, 1472])\t\tLOOP_INDEX: torch.Size([2, 626])\n"
     ]
    },
    {
     "name": "stderr",
     "output_type": "stream",
     "text": [
      "[Joint E7] Calc Global P:  35%|███▌      | 6/17 [00:25<00:44,  4.06s/it]"
     ]
    },
    {
     "name": "stdout",
     "output_type": "stream",
     "text": [
      "241 --- torch.Size([2, 1624])\n",
      "99 --- torch.Size([2, 1624])\n",
      "657 torch.Size([2, 1624])\n",
      "EDGE_INDEX: torch.Size([2, 1624])\t\tLOOP_INDEX: torch.Size([2, 657])\n",
      "241 --- torch.Size([2, 1624])\n",
      "99 --- torch.Size([2, 1624])\n",
      "657 torch.Size([2, 1624])\n",
      "EDGE_INDEX: torch.Size([2, 1624])\t\tLOOP_INDEX: torch.Size([2, 657])\n"
     ]
    },
    {
     "name": "stderr",
     "output_type": "stream",
     "text": [
      "[Joint E7] Calc Global P:  41%|████      | 7/17 [00:30<00:42,  4.26s/it]"
     ]
    },
    {
     "name": "stdout",
     "output_type": "stream",
     "text": [
      "241 --- torch.Size([2, 2122])\n",
      "99 --- torch.Size([2, 2122])\n",
      "792 torch.Size([2, 2122])\n",
      "EDGE_INDEX: torch.Size([2, 2122])\t\tLOOP_INDEX: torch.Size([2, 792])\n",
      "241 --- torch.Size([2, 2122])\n",
      "99 --- torch.Size([2, 2122])\n",
      "792 torch.Size([2, 2122])\n",
      "EDGE_INDEX: torch.Size([2, 2122])\t\tLOOP_INDEX: torch.Size([2, 792])\n"
     ]
    },
    {
     "name": "stderr",
     "output_type": "stream",
     "text": [
      "[Joint E7] Calc Global P:  47%|████▋     | 8/17 [00:34<00:38,  4.28s/it]"
     ]
    },
    {
     "name": "stdout",
     "output_type": "stream",
     "text": [
      "241 --- torch.Size([2, 1822])\n",
      "99 --- torch.Size([2, 1822])\n",
      "721 torch.Size([2, 1822])\n",
      "EDGE_INDEX: torch.Size([2, 1822])\t\tLOOP_INDEX: torch.Size([2, 721])\n",
      "241 --- torch.Size([2, 1822])\n",
      "99 --- torch.Size([2, 1822])\n",
      "721 torch.Size([2, 1822])\n",
      "EDGE_INDEX: torch.Size([2, 1822])\t\tLOOP_INDEX: torch.Size([2, 721])\n"
     ]
    },
    {
     "name": "stderr",
     "output_type": "stream",
     "text": [
      "[Joint E7] Calc Global P:  53%|█████▎    | 9/17 [00:38<00:34,  4.33s/it]"
     ]
    },
    {
     "name": "stdout",
     "output_type": "stream",
     "text": [
      "241 --- torch.Size([2, 1654])\n",
      "99 --- torch.Size([2, 1654])\n",
      "671 torch.Size([2, 1654])\n",
      "EDGE_INDEX: torch.Size([2, 1654])\t\tLOOP_INDEX: torch.Size([2, 671])\n",
      "241 --- torch.Size([2, 1654])\n",
      "99 --- torch.Size([2, 1654])\n",
      "671 torch.Size([2, 1654])\n",
      "EDGE_INDEX: torch.Size([2, 1654])\t\tLOOP_INDEX: torch.Size([2, 671])\n"
     ]
    },
    {
     "name": "stderr",
     "output_type": "stream",
     "text": [
      "[Joint E7] Calc Global P:  59%|█████▉    | 10/17 [00:43<00:31,  4.45s/it]"
     ]
    },
    {
     "name": "stdout",
     "output_type": "stream",
     "text": [
      "241 --- torch.Size([2, 2052])\n",
      "99 --- torch.Size([2, 2052])\n",
      "737 torch.Size([2, 2052])\n",
      "EDGE_INDEX: torch.Size([2, 2052])\t\tLOOP_INDEX: torch.Size([2, 737])\n",
      "241 --- torch.Size([2, 2052])\n",
      "99 --- torch.Size([2, 2052])\n",
      "737 torch.Size([2, 2052])\n",
      "EDGE_INDEX: torch.Size([2, 2052])\t\tLOOP_INDEX: torch.Size([2, 737])\n"
     ]
    },
    {
     "name": "stderr",
     "output_type": "stream",
     "text": [
      "[Joint E7] Calc Global P:  65%|██████▍   | 11/17 [00:48<00:26,  4.43s/it]"
     ]
    },
    {
     "name": "stdout",
     "output_type": "stream",
     "text": [
      "241 --- torch.Size([2, 2270])\n",
      "99 --- torch.Size([2, 2270])\n",
      "800 torch.Size([2, 2270])\n",
      "EDGE_INDEX: torch.Size([2, 2270])\t\tLOOP_INDEX: torch.Size([2, 800])\n",
      "241 --- torch.Size([2, 2270])\n",
      "99 --- torch.Size([2, 2270])\n",
      "800 torch.Size([2, 2270])\n",
      "EDGE_INDEX: torch.Size([2, 2270])\t\tLOOP_INDEX: torch.Size([2, 800])\n"
     ]
    },
    {
     "name": "stderr",
     "output_type": "stream",
     "text": [
      "[Joint E7] Calc Global P:  71%|███████   | 12/17 [00:52<00:21,  4.30s/it]"
     ]
    },
    {
     "name": "stdout",
     "output_type": "stream",
     "text": [
      "241 --- torch.Size([2, 1560])\n",
      "99 --- torch.Size([2, 1560])\n",
      "677 torch.Size([2, 1560])\n",
      "EDGE_INDEX: torch.Size([2, 1560])\t\tLOOP_INDEX: torch.Size([2, 677])\n",
      "241 --- torch.Size([2, 1560])\n",
      "99 --- torch.Size([2, 1560])\n",
      "677 torch.Size([2, 1560])\n",
      "EDGE_INDEX: torch.Size([2, 1560])\t\tLOOP_INDEX: torch.Size([2, 677])\n"
     ]
    },
    {
     "name": "stderr",
     "output_type": "stream",
     "text": [
      "[Joint E7] Calc Global P:  76%|███████▋  | 13/17 [00:55<00:16,  4.10s/it]"
     ]
    },
    {
     "name": "stdout",
     "output_type": "stream",
     "text": [
      "241 --- torch.Size([2, 1450])\n",
      "99 --- torch.Size([2, 1450])\n",
      "642 torch.Size([2, 1450])\n",
      "EDGE_INDEX: torch.Size([2, 1450])\t\tLOOP_INDEX: torch.Size([2, 642])\n",
      "241 --- torch.Size([2, 1450])\n",
      "99 --- torch.Size([2, 1450])\n",
      "642 torch.Size([2, 1450])\n",
      "EDGE_INDEX: torch.Size([2, 1450])\t\tLOOP_INDEX: torch.Size([2, 642])\n"
     ]
    },
    {
     "name": "stderr",
     "output_type": "stream",
     "text": [
      "[Joint E7] Calc Global P:  82%|████████▏ | 14/17 [01:00<00:12,  4.18s/it]"
     ]
    },
    {
     "name": "stdout",
     "output_type": "stream",
     "text": [
      "241 --- torch.Size([2, 1412])\n",
      "99 --- torch.Size([2, 1412])\n",
      "628 torch.Size([2, 1412])\n",
      "EDGE_INDEX: torch.Size([2, 1412])\t\tLOOP_INDEX: torch.Size([2, 628])\n",
      "241 --- torch.Size([2, 1412])\n",
      "99 --- torch.Size([2, 1412])\n",
      "628 torch.Size([2, 1412])\n",
      "EDGE_INDEX: torch.Size([2, 1412])\t\tLOOP_INDEX: torch.Size([2, 628])\n"
     ]
    },
    {
     "name": "stderr",
     "output_type": "stream",
     "text": [
      "[Joint E7] Calc Global P:  88%|████████▊ | 15/17 [01:03<00:08,  4.08s/it]"
     ]
    },
    {
     "name": "stdout",
     "output_type": "stream",
     "text": [
      "241 --- torch.Size([2, 1662])\n",
      "99 --- torch.Size([2, 1662])\n",
      "666 torch.Size([2, 1662])\n",
      "EDGE_INDEX: torch.Size([2, 1662])\t\tLOOP_INDEX: torch.Size([2, 666])\n",
      "241 --- torch.Size([2, 1662])\n",
      "99 --- torch.Size([2, 1662])\n",
      "666 torch.Size([2, 1662])\n",
      "EDGE_INDEX: torch.Size([2, 1662])\t\tLOOP_INDEX: torch.Size([2, 666])\n"
     ]
    },
    {
     "name": "stderr",
     "output_type": "stream",
     "text": [
      "[Joint E7] Calc Global P:  94%|█████████▍| 16/17 [01:07<00:03,  3.89s/it]"
     ]
    },
    {
     "name": "stdout",
     "output_type": "stream",
     "text": [
      "241 --- torch.Size([2, 1332])\n",
      "99 --- torch.Size([2, 1332])\n",
      "530 torch.Size([2, 1332])\n",
      "EDGE_INDEX: torch.Size([2, 1332])\t\tLOOP_INDEX: torch.Size([2, 530])\n",
      "241 --- torch.Size([2, 1332])\n",
      "99 --- torch.Size([2, 1332])\n",
      "530 torch.Size([2, 1332])\n",
      "EDGE_INDEX: torch.Size([2, 1332])\t\tLOOP_INDEX: torch.Size([2, 530])\n"
     ]
    },
    {
     "name": "stderr",
     "output_type": "stream",
     "text": [
      "                                                                         \r"
     ]
    },
    {
     "name": "stdout",
     "output_type": "stream",
     "text": [
      "241 --- torch.Size([2, 1598])\n",
      "99 --- torch.Size([2, 1598])\n",
      "682 torch.Size([2, 1598])\n",
      "EDGE_INDEX: torch.Size([2, 1598])\t\tLOOP_INDEX: torch.Size([2, 682])\n",
      "241 --- torch.Size([2, 1598])\n",
      "99 --- torch.Size([2, 1598])\n",
      "682 torch.Size([2, 1598])\n",
      "EDGE_INDEX: torch.Size([2, 1598])\t\tLOOP_INDEX: torch.Size([2, 682])\n",
      "241 --- torch.Size([2, 1820])\n",
      "99 --- torch.Size([2, 1820])\n",
      "700 torch.Size([2, 1820])\n",
      "EDGE_INDEX: torch.Size([2, 1820])\t\tLOOP_INDEX: torch.Size([2, 700])\n",
      "241 --- torch.Size([2, 1820])\n",
      "99 --- torch.Size([2, 1820])\n",
      "700 torch.Size([2, 1820])\n",
      "EDGE_INDEX: torch.Size([2, 1820])\t\tLOOP_INDEX: torch.Size([2, 700])\n",
      "241 --- torch.Size([2, 1770])\n",
      "99 --- torch.Size([2, 1770])\n",
      "694 torch.Size([2, 1770])\n",
      "EDGE_INDEX: torch.Size([2, 1770])\t\tLOOP_INDEX: torch.Size([2, 694])\n",
      "241 --- torch.Size([2, 1770])\n",
      "99 --- torch.Size([2, 1770])\n",
      "694 torch.Size([2, 1770])\n",
      "EDGE_INDEX: torch.Size([2, 1770])\t\tLOOP_INDEX: torch.Size([2, 694])\n",
      "241 --- torch.Size([2, 1962])\n",
      "99 --- torch.Size([2, 1962])\n",
      "722 torch.Size([2, 1962])\n",
      "EDGE_INDEX: torch.Size([2, 1962])\t\tLOOP_INDEX: torch.Size([2, 722])\n",
      "241 --- torch.Size([2, 1962])\n",
      "99 --- torch.Size([2, 1962])\n",
      "722 torch.Size([2, 1962])\n",
      "EDGE_INDEX: torch.Size([2, 1962])\t\tLOOP_INDEX: torch.Size([2, 722])\n",
      "241 --- torch.Size([2, 1980])\n",
      "99 --- torch.Size([2, 1980])\n",
      "757 torch.Size([2, 1980])\n",
      "EDGE_INDEX: torch.Size([2, 1980])\t\tLOOP_INDEX: torch.Size([2, 757])\n",
      "241 --- torch.Size([2, 1980])\n",
      "99 --- torch.Size([2, 1980])\n",
      "757 torch.Size([2, 1980])\n",
      "EDGE_INDEX: torch.Size([2, 1980])\t\tLOOP_INDEX: torch.Size([2, 757])\n",
      "241 --- torch.Size([2, 1630])\n",
      "99 --- torch.Size([2, 1630])\n",
      "673 torch.Size([2, 1630])\n",
      "EDGE_INDEX: torch.Size([2, 1630])\t\tLOOP_INDEX: torch.Size([2, 673])\n",
      "241 --- torch.Size([2, 1630])\n",
      "99 --- torch.Size([2, 1630])\n",
      "673 torch.Size([2, 1630])\n",
      "EDGE_INDEX: torch.Size([2, 1630])\t\tLOOP_INDEX: torch.Size([2, 673])\n",
      "241 --- torch.Size([2, 1758])\n",
      "99 --- torch.Size([2, 1758])\n",
      "691 torch.Size([2, 1758])\n",
      "EDGE_INDEX: torch.Size([2, 1758])\t\tLOOP_INDEX: torch.Size([2, 691])\n",
      "241 --- torch.Size([2, 1758])\n",
      "99 --- torch.Size([2, 1758])\n",
      "691 torch.Size([2, 1758])\n",
      "EDGE_INDEX: torch.Size([2, 1758])\t\tLOOP_INDEX: torch.Size([2, 691])\n",
      "241 --- torch.Size([2, 1910])\n",
      "99 --- torch.Size([2, 1910])\n",
      "736 torch.Size([2, 1910])\n",
      "EDGE_INDEX: torch.Size([2, 1910])\t\tLOOP_INDEX: torch.Size([2, 736])\n",
      "241 --- torch.Size([2, 1910])\n",
      "99 --- torch.Size([2, 1910])\n",
      "736 torch.Size([2, 1910])\n",
      "EDGE_INDEX: torch.Size([2, 1910])\t\tLOOP_INDEX: torch.Size([2, 736])\n",
      "241 --- torch.Size([2, 1656])\n",
      "99 --- torch.Size([2, 1656])\n",
      "701 torch.Size([2, 1656])\n",
      "EDGE_INDEX: torch.Size([2, 1656])\t\tLOOP_INDEX: torch.Size([2, 701])\n",
      "241 --- torch.Size([2, 1656])\n",
      "99 --- torch.Size([2, 1656])\n",
      "701 torch.Size([2, 1656])\n",
      "EDGE_INDEX: torch.Size([2, 1656])\t\tLOOP_INDEX: torch.Size([2, 701])\n",
      "241 --- torch.Size([2, 1728])\n",
      "99 --- torch.Size([2, 1728])\n",
      "687 torch.Size([2, 1728])\n",
      "EDGE_INDEX: torch.Size([2, 1728])\t\tLOOP_INDEX: torch.Size([2, 687])\n",
      "241 --- torch.Size([2, 1728])\n",
      "99 --- torch.Size([2, 1728])\n",
      "687 torch.Size([2, 1728])\n",
      "EDGE_INDEX: torch.Size([2, 1728])\t\tLOOP_INDEX: torch.Size([2, 687])\n",
      "241 --- torch.Size([2, 1662])\n",
      "99 --- torch.Size([2, 1662])\n",
      "687 torch.Size([2, 1662])\n",
      "EDGE_INDEX: torch.Size([2, 1662])\t\tLOOP_INDEX: torch.Size([2, 687])\n",
      "241 --- torch.Size([2, 1662])\n",
      "99 --- torch.Size([2, 1662])\n",
      "687 torch.Size([2, 1662])\n",
      "EDGE_INDEX: torch.Size([2, 1662])\t\tLOOP_INDEX: torch.Size([2, 687])\n",
      "241 --- torch.Size([2, 1718])\n",
      "99 --- torch.Size([2, 1718])\n",
      "702 torch.Size([2, 1718])\n",
      "EDGE_INDEX: torch.Size([2, 1718])\t\tLOOP_INDEX: torch.Size([2, 702])\n",
      "241 --- torch.Size([2, 1718])\n",
      "99 --- torch.Size([2, 1718])\n",
      "702 torch.Size([2, 1718])\n",
      "EDGE_INDEX: torch.Size([2, 1718])\t\tLOOP_INDEX: torch.Size([2, 702])\n",
      "241 --- torch.Size([2, 1658])\n",
      "99 --- torch.Size([2, 1658])\n",
      "674 torch.Size([2, 1658])\n",
      "EDGE_INDEX: torch.Size([2, 1658])\t\tLOOP_INDEX: torch.Size([2, 674])\n",
      "241 --- torch.Size([2, 1658])\n",
      "99 --- torch.Size([2, 1658])\n",
      "674 torch.Size([2, 1658])\n",
      "EDGE_INDEX: torch.Size([2, 1658])\t\tLOOP_INDEX: torch.Size([2, 674])\n",
      "241 --- torch.Size([2, 1728])\n",
      "99 --- torch.Size([2, 1728])\n",
      "698 torch.Size([2, 1728])\n",
      "EDGE_INDEX: torch.Size([2, 1728])\t\tLOOP_INDEX: torch.Size([2, 698])\n",
      "241 --- torch.Size([2, 1728])\n",
      "99 --- torch.Size([2, 1728])\n",
      "698 torch.Size([2, 1728])\n",
      "EDGE_INDEX: torch.Size([2, 1728])\t\tLOOP_INDEX: torch.Size([2, 698])\n",
      "241 --- torch.Size([2, 1454])\n",
      "99 --- torch.Size([2, 1454])\n",
      "630 torch.Size([2, 1454])\n",
      "EDGE_INDEX: torch.Size([2, 1454])\t\tLOOP_INDEX: torch.Size([2, 630])\n",
      "241 --- torch.Size([2, 1454])\n",
      "99 --- torch.Size([2, 1454])\n",
      "630 torch.Size([2, 1454])\n",
      "EDGE_INDEX: torch.Size([2, 1454])\t\tLOOP_INDEX: torch.Size([2, 630])\n",
      "241 --- torch.Size([2, 1766])\n",
      "99 --- torch.Size([2, 1766])\n",
      "686 torch.Size([2, 1766])\n",
      "EDGE_INDEX: torch.Size([2, 1766])\t\tLOOP_INDEX: torch.Size([2, 686])\n",
      "241 --- torch.Size([2, 1766])\n",
      "99 --- torch.Size([2, 1766])\n",
      "686 torch.Size([2, 1766])\n",
      "EDGE_INDEX: torch.Size([2, 1766])\t\tLOOP_INDEX: torch.Size([2, 686])\n",
      "241 --- torch.Size([2, 1512])\n",
      "99 --- torch.Size([2, 1512])\n",
      "591 torch.Size([2, 1512])\n",
      "EDGE_INDEX: torch.Size([2, 1512])\t\tLOOP_INDEX: torch.Size([2, 591])\n",
      "241 --- torch.Size([2, 1512])\n",
      "99 --- torch.Size([2, 1512])\n",
      "591 torch.Size([2, 1512])\n",
      "EDGE_INDEX: torch.Size([2, 1512])\t\tLOOP_INDEX: torch.Size([2, 591])\n",
      "241 --- torch.Size([2, 1974])\n",
      "99 --- torch.Size([2, 1974])\n",
      "727 torch.Size([2, 1974])\n",
      "EDGE_INDEX: torch.Size([2, 1974])\t\tLOOP_INDEX: torch.Size([2, 727])\n",
      "241 --- torch.Size([2, 1974])\n",
      "99 --- torch.Size([2, 1974])\n",
      "727 torch.Size([2, 1974])\n",
      "EDGE_INDEX: torch.Size([2, 1974])\t\tLOOP_INDEX: torch.Size([2, 727])\n",
      "241 --- torch.Size([2, 1902])\n",
      "99 --- torch.Size([2, 1902])\n",
      "727 torch.Size([2, 1902])\n",
      "EDGE_INDEX: torch.Size([2, 1902])\t\tLOOP_INDEX: torch.Size([2, 727])\n",
      "241 --- torch.Size([2, 1902])\n",
      "99 --- torch.Size([2, 1902])\n",
      "727 torch.Size([2, 1902])\n",
      "EDGE_INDEX: torch.Size([2, 1902])\t\tLOOP_INDEX: torch.Size([2, 727])\n",
      "241 --- torch.Size([2, 1924])\n",
      "99 --- torch.Size([2, 1924])\n",
      "744 torch.Size([2, 1924])\n",
      "EDGE_INDEX: torch.Size([2, 1924])\t\tLOOP_INDEX: torch.Size([2, 744])\n",
      "241 --- torch.Size([2, 1924])\n",
      "99 --- torch.Size([2, 1924])\n",
      "744 torch.Size([2, 1924])\n",
      "EDGE_INDEX: torch.Size([2, 1924])\t\tLOOP_INDEX: torch.Size([2, 744])\n",
      "241 --- torch.Size([2, 942])\n",
      "99 --- torch.Size([2, 942])\n",
      "391 torch.Size([2, 942])\n",
      "EDGE_INDEX: torch.Size([2, 942])\t\tLOOP_INDEX: torch.Size([2, 391])\n",
      "241 --- torch.Size([2, 942])\n",
      "99 --- torch.Size([2, 942])\n",
      "391 torch.Size([2, 942])\n",
      "EDGE_INDEX: torch.Size([2, 942])\t\tLOOP_INDEX: torch.Size([2, 391])\n"
     ]
    },
    {
     "name": "stderr",
     "output_type": "stream",
     "text": [
      "[Joint E8] Calc Global P:   0%|          | 0/17 [00:00<?, ?it/s]"
     ]
    },
    {
     "name": "stdout",
     "output_type": "stream",
     "text": [
      "241 --- torch.Size([2, 1792])\n",
      "99 --- torch.Size([2, 1792])\n",
      "696 torch.Size([2, 1792])\n",
      "EDGE_INDEX: torch.Size([2, 1792])\t\tLOOP_INDEX: torch.Size([2, 696])\n",
      "241 --- torch.Size([2, 1792])\n",
      "99 --- torch.Size([2, 1792])\n",
      "696 torch.Size([2, 1792])\n",
      "EDGE_INDEX: torch.Size([2, 1792])\t\tLOOP_INDEX: torch.Size([2, 696])\n"
     ]
    },
    {
     "name": "stderr",
     "output_type": "stream",
     "text": [
      "[Joint E8] Calc Global P:   6%|▌         | 1/17 [00:04<01:12,  4.55s/it]"
     ]
    },
    {
     "name": "stdout",
     "output_type": "stream",
     "text": [
      "241 --- torch.Size([2, 1818])\n",
      "99 --- torch.Size([2, 1818])\n",
      "704 torch.Size([2, 1818])\n",
      "EDGE_INDEX: torch.Size([2, 1818])\t\tLOOP_INDEX: torch.Size([2, 704])\n",
      "241 --- torch.Size([2, 1818])\n",
      "99 --- torch.Size([2, 1818])\n",
      "704 torch.Size([2, 1818])\n",
      "EDGE_INDEX: torch.Size([2, 1818])\t\tLOOP_INDEX: torch.Size([2, 704])\n"
     ]
    },
    {
     "name": "stderr",
     "output_type": "stream",
     "text": [
      "[Joint E8] Calc Global P:  12%|█▏        | 2/17 [00:09<01:08,  4.55s/it]"
     ]
    },
    {
     "name": "stdout",
     "output_type": "stream",
     "text": [
      "241 --- torch.Size([2, 1634])\n",
      "99 --- torch.Size([2, 1634])\n",
      "689 torch.Size([2, 1634])\n",
      "EDGE_INDEX: torch.Size([2, 1634])\t\tLOOP_INDEX: torch.Size([2, 689])\n",
      "241 --- torch.Size([2, 1634])\n",
      "99 --- torch.Size([2, 1634])\n",
      "689 torch.Size([2, 1634])\n",
      "EDGE_INDEX: torch.Size([2, 1634])\t\tLOOP_INDEX: torch.Size([2, 689])\n"
     ]
    },
    {
     "name": "stderr",
     "output_type": "stream",
     "text": [
      "[Joint E8] Calc Global P:  18%|█▊        | 3/17 [00:13<01:02,  4.45s/it]"
     ]
    },
    {
     "name": "stdout",
     "output_type": "stream",
     "text": [
      "241 --- torch.Size([2, 1808])\n",
      "99 --- torch.Size([2, 1808])\n",
      "716 torch.Size([2, 1808])\n",
      "EDGE_INDEX: torch.Size([2, 1808])\t\tLOOP_INDEX: torch.Size([2, 716])\n",
      "241 --- torch.Size([2, 1808])\n",
      "99 --- torch.Size([2, 1808])\n",
      "716 torch.Size([2, 1808])\n",
      "EDGE_INDEX: torch.Size([2, 1808])\t\tLOOP_INDEX: torch.Size([2, 716])\n"
     ]
    },
    {
     "name": "stderr",
     "output_type": "stream",
     "text": [
      "[Joint E8] Calc Global P:  24%|██▎       | 4/17 [00:16<00:53,  4.10s/it]"
     ]
    },
    {
     "name": "stdout",
     "output_type": "stream",
     "text": [
      "241 --- torch.Size([2, 1886])\n",
      "99 --- torch.Size([2, 1886])\n",
      "723 torch.Size([2, 1886])\n",
      "EDGE_INDEX: torch.Size([2, 1886])\t\tLOOP_INDEX: torch.Size([2, 723])\n",
      "241 --- torch.Size([2, 1886])\n",
      "99 --- torch.Size([2, 1886])\n",
      "723 torch.Size([2, 1886])\n",
      "EDGE_INDEX: torch.Size([2, 1886])\t\tLOOP_INDEX: torch.Size([2, 723])\n"
     ]
    },
    {
     "name": "stderr",
     "output_type": "stream",
     "text": [
      "[Joint E8] Calc Global P:  29%|██▉       | 5/17 [00:21<00:50,  4.19s/it]"
     ]
    },
    {
     "name": "stdout",
     "output_type": "stream",
     "text": [
      "241 --- torch.Size([2, 1472])\n",
      "99 --- torch.Size([2, 1472])\n",
      "626 torch.Size([2, 1472])\n",
      "EDGE_INDEX: torch.Size([2, 1472])\t\tLOOP_INDEX: torch.Size([2, 626])\n",
      "241 --- torch.Size([2, 1472])\n",
      "99 --- torch.Size([2, 1472])\n",
      "626 torch.Size([2, 1472])\n",
      "EDGE_INDEX: torch.Size([2, 1472])\t\tLOOP_INDEX: torch.Size([2, 626])\n"
     ]
    },
    {
     "name": "stderr",
     "output_type": "stream",
     "text": [
      "[Joint E8] Calc Global P:  35%|███▌      | 6/17 [00:24<00:43,  3.95s/it]"
     ]
    },
    {
     "name": "stdout",
     "output_type": "stream",
     "text": [
      "241 --- torch.Size([2, 1624])\n",
      "99 --- torch.Size([2, 1624])\n",
      "657 torch.Size([2, 1624])\n",
      "EDGE_INDEX: torch.Size([2, 1624])\t\tLOOP_INDEX: torch.Size([2, 657])\n",
      "241 --- torch.Size([2, 1624])\n",
      "99 --- torch.Size([2, 1624])\n",
      "657 torch.Size([2, 1624])\n",
      "EDGE_INDEX: torch.Size([2, 1624])\t\tLOOP_INDEX: torch.Size([2, 657])\n"
     ]
    },
    {
     "name": "stderr",
     "output_type": "stream",
     "text": [
      "[Joint E8] Calc Global P:  41%|████      | 7/17 [00:29<00:41,  4.16s/it]"
     ]
    },
    {
     "name": "stdout",
     "output_type": "stream",
     "text": [
      "241 --- torch.Size([2, 2122])\n",
      "99 --- torch.Size([2, 2122])\n",
      "792 torch.Size([2, 2122])\n",
      "EDGE_INDEX: torch.Size([2, 2122])\t\tLOOP_INDEX: torch.Size([2, 792])\n",
      "241 --- torch.Size([2, 2122])\n",
      "99 --- torch.Size([2, 2122])\n",
      "792 torch.Size([2, 2122])\n",
      "EDGE_INDEX: torch.Size([2, 2122])\t\tLOOP_INDEX: torch.Size([2, 792])\n"
     ]
    },
    {
     "name": "stderr",
     "output_type": "stream",
     "text": [
      "[Joint E8] Calc Global P:  47%|████▋     | 8/17 [00:34<00:38,  4.32s/it]"
     ]
    },
    {
     "name": "stdout",
     "output_type": "stream",
     "text": [
      "241 --- torch.Size([2, 1822])\n",
      "99 --- torch.Size([2, 1822])\n",
      "721 torch.Size([2, 1822])\n",
      "EDGE_INDEX: torch.Size([2, 1822])\t\tLOOP_INDEX: torch.Size([2, 721])\n",
      "241 --- torch.Size([2, 1822])\n",
      "99 --- torch.Size([2, 1822])\n",
      "721 torch.Size([2, 1822])\n",
      "EDGE_INDEX: torch.Size([2, 1822])\t\tLOOP_INDEX: torch.Size([2, 721])\n"
     ]
    },
    {
     "name": "stderr",
     "output_type": "stream",
     "text": [
      "[Joint E8] Calc Global P:  53%|█████▎    | 9/17 [00:38<00:34,  4.30s/it]"
     ]
    },
    {
     "name": "stdout",
     "output_type": "stream",
     "text": [
      "241 --- torch.Size([2, 1654])\n",
      "99 --- torch.Size([2, 1654])\n",
      "671 torch.Size([2, 1654])\n",
      "EDGE_INDEX: torch.Size([2, 1654])\t\tLOOP_INDEX: torch.Size([2, 671])\n",
      "241 --- torch.Size([2, 1654])\n",
      "99 --- torch.Size([2, 1654])\n",
      "671 torch.Size([2, 1654])\n",
      "EDGE_INDEX: torch.Size([2, 1654])\t\tLOOP_INDEX: torch.Size([2, 671])\n"
     ]
    },
    {
     "name": "stderr",
     "output_type": "stream",
     "text": [
      "[Joint E8] Calc Global P:  59%|█████▉    | 10/17 [00:43<00:31,  4.47s/it]"
     ]
    },
    {
     "name": "stdout",
     "output_type": "stream",
     "text": [
      "241 --- torch.Size([2, 2052])\n",
      "99 --- torch.Size([2, 2052])\n",
      "737 torch.Size([2, 2052])\n",
      "EDGE_INDEX: torch.Size([2, 2052])\t\tLOOP_INDEX: torch.Size([2, 737])\n",
      "241 --- torch.Size([2, 2052])\n",
      "99 --- torch.Size([2, 2052])\n",
      "737 torch.Size([2, 2052])\n",
      "EDGE_INDEX: torch.Size([2, 2052])\t\tLOOP_INDEX: torch.Size([2, 737])\n"
     ]
    },
    {
     "name": "stderr",
     "output_type": "stream",
     "text": [
      "[Joint E8] Calc Global P:  65%|██████▍   | 11/17 [00:48<00:27,  4.59s/it]"
     ]
    },
    {
     "name": "stdout",
     "output_type": "stream",
     "text": [
      "241 --- torch.Size([2, 2270])\n",
      "99 --- torch.Size([2, 2270])\n",
      "800 torch.Size([2, 2270])\n",
      "EDGE_INDEX: torch.Size([2, 2270])\t\tLOOP_INDEX: torch.Size([2, 800])\n",
      "241 --- torch.Size([2, 2270])\n",
      "99 --- torch.Size([2, 2270])\n",
      "800 torch.Size([2, 2270])\n",
      "EDGE_INDEX: torch.Size([2, 2270])\t\tLOOP_INDEX: torch.Size([2, 800])\n"
     ]
    },
    {
     "name": "stderr",
     "output_type": "stream",
     "text": [
      "[Joint E8] Calc Global P:  71%|███████   | 12/17 [00:52<00:22,  4.41s/it]"
     ]
    },
    {
     "name": "stdout",
     "output_type": "stream",
     "text": [
      "241 --- torch.Size([2, 1560])\n",
      "99 --- torch.Size([2, 1560])\n",
      "677 torch.Size([2, 1560])\n",
      "EDGE_INDEX: torch.Size([2, 1560])\t\tLOOP_INDEX: torch.Size([2, 677])\n",
      "241 --- torch.Size([2, 1560])\n",
      "99 --- torch.Size([2, 1560])\n",
      "677 torch.Size([2, 1560])\n",
      "EDGE_INDEX: torch.Size([2, 1560])\t\tLOOP_INDEX: torch.Size([2, 677])\n"
     ]
    },
    {
     "name": "stderr",
     "output_type": "stream",
     "text": [
      "[Joint E8] Calc Global P:  76%|███████▋  | 13/17 [00:56<00:17,  4.30s/it]"
     ]
    },
    {
     "name": "stdout",
     "output_type": "stream",
     "text": [
      "241 --- torch.Size([2, 1450])\n",
      "99 --- torch.Size([2, 1450])\n",
      "642 torch.Size([2, 1450])\n",
      "EDGE_INDEX: torch.Size([2, 1450])\t\tLOOP_INDEX: torch.Size([2, 642])\n",
      "241 --- torch.Size([2, 1450])\n",
      "99 --- torch.Size([2, 1450])\n",
      "642 torch.Size([2, 1450])\n",
      "EDGE_INDEX: torch.Size([2, 1450])\t\tLOOP_INDEX: torch.Size([2, 642])\n"
     ]
    },
    {
     "name": "stderr",
     "output_type": "stream",
     "text": [
      "[Joint E8] Calc Global P:  82%|████████▏ | 14/17 [01:00<00:12,  4.28s/it]"
     ]
    },
    {
     "name": "stdout",
     "output_type": "stream",
     "text": [
      "241 --- torch.Size([2, 1412])\n",
      "99 --- torch.Size([2, 1412])\n",
      "628 torch.Size([2, 1412])\n",
      "EDGE_INDEX: torch.Size([2, 1412])\t\tLOOP_INDEX: torch.Size([2, 628])\n",
      "241 --- torch.Size([2, 1412])\n",
      "99 --- torch.Size([2, 1412])\n",
      "628 torch.Size([2, 1412])\n",
      "EDGE_INDEX: torch.Size([2, 1412])\t\tLOOP_INDEX: torch.Size([2, 628])\n"
     ]
    },
    {
     "name": "stderr",
     "output_type": "stream",
     "text": [
      "[Joint E8] Calc Global P:  88%|████████▊ | 15/17 [01:04<00:08,  4.21s/it]"
     ]
    },
    {
     "name": "stdout",
     "output_type": "stream",
     "text": [
      "241 --- torch.Size([2, 1662])\n",
      "99 --- torch.Size([2, 1662])\n",
      "666 torch.Size([2, 1662])\n",
      "EDGE_INDEX: torch.Size([2, 1662])\t\tLOOP_INDEX: torch.Size([2, 666])\n",
      "241 --- torch.Size([2, 1662])\n",
      "99 --- torch.Size([2, 1662])\n",
      "666 torch.Size([2, 1662])\n",
      "EDGE_INDEX: torch.Size([2, 1662])\t\tLOOP_INDEX: torch.Size([2, 666])\n"
     ]
    },
    {
     "name": "stderr",
     "output_type": "stream",
     "text": [
      "[Joint E8] Calc Global P:  94%|█████████▍| 16/17 [01:07<00:03,  3.90s/it]"
     ]
    },
    {
     "name": "stdout",
     "output_type": "stream",
     "text": [
      "241 --- torch.Size([2, 1332])\n",
      "99 --- torch.Size([2, 1332])\n",
      "530 torch.Size([2, 1332])\n",
      "EDGE_INDEX: torch.Size([2, 1332])\t\tLOOP_INDEX: torch.Size([2, 530])\n",
      "241 --- torch.Size([2, 1332])\n",
      "99 --- torch.Size([2, 1332])\n",
      "530 torch.Size([2, 1332])\n",
      "EDGE_INDEX: torch.Size([2, 1332])\t\tLOOP_INDEX: torch.Size([2, 530])\n"
     ]
    },
    {
     "name": "stderr",
     "output_type": "stream",
     "text": [
      "                                                                         \r"
     ]
    },
    {
     "name": "stdout",
     "output_type": "stream",
     "text": [
      "241 --- torch.Size([2, 1800])\n",
      "99 --- torch.Size([2, 1800])\n",
      "720 torch.Size([2, 1800])\n",
      "EDGE_INDEX: torch.Size([2, 1800])\t\tLOOP_INDEX: torch.Size([2, 720])\n",
      "241 --- torch.Size([2, 1800])\n",
      "99 --- torch.Size([2, 1800])\n",
      "720 torch.Size([2, 1800])\n",
      "EDGE_INDEX: torch.Size([2, 1800])\t\tLOOP_INDEX: torch.Size([2, 720])\n",
      "241 --- torch.Size([2, 1478])\n",
      "99 --- torch.Size([2, 1478])\n",
      "619 torch.Size([2, 1478])\n",
      "EDGE_INDEX: torch.Size([2, 1478])\t\tLOOP_INDEX: torch.Size([2, 619])\n",
      "241 --- torch.Size([2, 1478])\n",
      "99 --- torch.Size([2, 1478])\n",
      "619 torch.Size([2, 1478])\n",
      "EDGE_INDEX: torch.Size([2, 1478])\t\tLOOP_INDEX: torch.Size([2, 619])\n",
      "241 --- torch.Size([2, 1606])\n",
      "99 --- torch.Size([2, 1606])\n",
      "675 torch.Size([2, 1606])\n",
      "EDGE_INDEX: torch.Size([2, 1606])\t\tLOOP_INDEX: torch.Size([2, 675])\n",
      "241 --- torch.Size([2, 1606])\n",
      "99 --- torch.Size([2, 1606])\n",
      "675 torch.Size([2, 1606])\n",
      "EDGE_INDEX: torch.Size([2, 1606])\t\tLOOP_INDEX: torch.Size([2, 675])\n",
      "241 --- torch.Size([2, 1748])\n",
      "99 --- torch.Size([2, 1748])\n",
      "702 torch.Size([2, 1748])\n",
      "EDGE_INDEX: torch.Size([2, 1748])\t\tLOOP_INDEX: torch.Size([2, 702])\n",
      "241 --- torch.Size([2, 1748])\n",
      "99 --- torch.Size([2, 1748])\n",
      "702 torch.Size([2, 1748])\n",
      "EDGE_INDEX: torch.Size([2, 1748])\t\tLOOP_INDEX: torch.Size([2, 702])\n",
      "241 --- torch.Size([2, 1960])\n",
      "99 --- torch.Size([2, 1960])\n",
      "731 torch.Size([2, 1960])\n",
      "EDGE_INDEX: torch.Size([2, 1960])\t\tLOOP_INDEX: torch.Size([2, 731])\n",
      "241 --- torch.Size([2, 1960])\n",
      "99 --- torch.Size([2, 1960])\n",
      "731 torch.Size([2, 1960])\n",
      "EDGE_INDEX: torch.Size([2, 1960])\t\tLOOP_INDEX: torch.Size([2, 731])\n",
      "241 --- torch.Size([2, 2122])\n",
      "99 --- torch.Size([2, 2122])\n",
      "752 torch.Size([2, 2122])\n",
      "EDGE_INDEX: torch.Size([2, 2122])\t\tLOOP_INDEX: torch.Size([2, 752])\n",
      "241 --- torch.Size([2, 2122])\n",
      "99 --- torch.Size([2, 2122])\n",
      "752 torch.Size([2, 2122])\n",
      "EDGE_INDEX: torch.Size([2, 2122])\t\tLOOP_INDEX: torch.Size([2, 752])\n",
      "241 --- torch.Size([2, 1624])\n",
      "99 --- torch.Size([2, 1624])\n",
      "674 torch.Size([2, 1624])\n",
      "EDGE_INDEX: torch.Size([2, 1624])\t\tLOOP_INDEX: torch.Size([2, 674])\n",
      "241 --- torch.Size([2, 1624])\n",
      "99 --- torch.Size([2, 1624])\n",
      "674 torch.Size([2, 1624])\n",
      "EDGE_INDEX: torch.Size([2, 1624])\t\tLOOP_INDEX: torch.Size([2, 674])\n",
      "241 --- torch.Size([2, 1506])\n",
      "99 --- torch.Size([2, 1506])\n",
      "648 torch.Size([2, 1506])\n",
      "EDGE_INDEX: torch.Size([2, 1506])\t\tLOOP_INDEX: torch.Size([2, 648])\n",
      "241 --- torch.Size([2, 1506])\n",
      "99 --- torch.Size([2, 1506])\n",
      "648 torch.Size([2, 1506])\n",
      "EDGE_INDEX: torch.Size([2, 1506])\t\tLOOP_INDEX: torch.Size([2, 648])\n",
      "241 --- torch.Size([2, 1444])\n",
      "99 --- torch.Size([2, 1444])\n",
      "638 torch.Size([2, 1444])\n",
      "EDGE_INDEX: torch.Size([2, 1444])\t\tLOOP_INDEX: torch.Size([2, 638])\n",
      "241 --- torch.Size([2, 1444])\n",
      "99 --- torch.Size([2, 1444])\n",
      "638 torch.Size([2, 1444])\n",
      "EDGE_INDEX: torch.Size([2, 1444])\t\tLOOP_INDEX: torch.Size([2, 638])\n",
      "241 --- torch.Size([2, 1716])\n",
      "99 --- torch.Size([2, 1716])\n",
      "688 torch.Size([2, 1716])\n",
      "EDGE_INDEX: torch.Size([2, 1716])\t\tLOOP_INDEX: torch.Size([2, 688])\n",
      "241 --- torch.Size([2, 1716])\n",
      "99 --- torch.Size([2, 1716])\n",
      "688 torch.Size([2, 1716])\n",
      "EDGE_INDEX: torch.Size([2, 1716])\t\tLOOP_INDEX: torch.Size([2, 688])\n",
      "241 --- torch.Size([2, 1570])\n",
      "99 --- torch.Size([2, 1570])\n",
      "631 torch.Size([2, 1570])\n",
      "EDGE_INDEX: torch.Size([2, 1570])\t\tLOOP_INDEX: torch.Size([2, 631])\n",
      "241 --- torch.Size([2, 1570])\n",
      "99 --- torch.Size([2, 1570])\n",
      "631 torch.Size([2, 1570])\n",
      "EDGE_INDEX: torch.Size([2, 1570])\t\tLOOP_INDEX: torch.Size([2, 631])\n",
      "241 --- torch.Size([2, 1486])\n",
      "99 --- torch.Size([2, 1486])\n",
      "618 torch.Size([2, 1486])\n",
      "EDGE_INDEX: torch.Size([2, 1486])\t\tLOOP_INDEX: torch.Size([2, 618])\n",
      "241 --- torch.Size([2, 1486])\n",
      "99 --- torch.Size([2, 1486])\n",
      "618 torch.Size([2, 1486])\n",
      "EDGE_INDEX: torch.Size([2, 1486])\t\tLOOP_INDEX: torch.Size([2, 618])\n",
      "241 --- torch.Size([2, 1588])\n",
      "99 --- torch.Size([2, 1588])\n",
      "642 torch.Size([2, 1588])\n",
      "EDGE_INDEX: torch.Size([2, 1588])\t\tLOOP_INDEX: torch.Size([2, 642])\n",
      "241 --- torch.Size([2, 1588])\n",
      "99 --- torch.Size([2, 1588])\n",
      "642 torch.Size([2, 1588])\n",
      "EDGE_INDEX: torch.Size([2, 1588])\t\tLOOP_INDEX: torch.Size([2, 642])\n",
      "241 --- torch.Size([2, 1868])\n",
      "99 --- torch.Size([2, 1868])\n",
      "706 torch.Size([2, 1868])\n",
      "EDGE_INDEX: torch.Size([2, 1868])\t\tLOOP_INDEX: torch.Size([2, 706])\n",
      "241 --- torch.Size([2, 1868])\n",
      "99 --- torch.Size([2, 1868])\n",
      "706 torch.Size([2, 1868])\n",
      "EDGE_INDEX: torch.Size([2, 1868])\t\tLOOP_INDEX: torch.Size([2, 706])\n",
      "241 --- torch.Size([2, 1514])\n",
      "99 --- torch.Size([2, 1514])\n",
      "665 torch.Size([2, 1514])\n",
      "EDGE_INDEX: torch.Size([2, 1514])\t\tLOOP_INDEX: torch.Size([2, 665])\n",
      "241 --- torch.Size([2, 1514])\n",
      "99 --- torch.Size([2, 1514])\n",
      "665 torch.Size([2, 1514])\n",
      "EDGE_INDEX: torch.Size([2, 1514])\t\tLOOP_INDEX: torch.Size([2, 665])\n",
      "241 --- torch.Size([2, 1900])\n",
      "99 --- torch.Size([2, 1900])\n",
      "700 torch.Size([2, 1900])\n",
      "EDGE_INDEX: torch.Size([2, 1900])\t\tLOOP_INDEX: torch.Size([2, 700])\n",
      "241 --- torch.Size([2, 1900])\n",
      "99 --- torch.Size([2, 1900])\n",
      "700 torch.Size([2, 1900])\n",
      "EDGE_INDEX: torch.Size([2, 1900])\t\tLOOP_INDEX: torch.Size([2, 700])\n",
      "241 --- torch.Size([2, 1504])\n",
      "99 --- torch.Size([2, 1504])\n",
      "579 torch.Size([2, 1504])\n",
      "EDGE_INDEX: torch.Size([2, 1504])\t\tLOOP_INDEX: torch.Size([2, 579])\n",
      "241 --- torch.Size([2, 1504])\n",
      "99 --- torch.Size([2, 1504])\n",
      "579 torch.Size([2, 1504])\n",
      "EDGE_INDEX: torch.Size([2, 1504])\t\tLOOP_INDEX: torch.Size([2, 579])\n",
      "241 --- torch.Size([2, 1974])\n",
      "99 --- torch.Size([2, 1974])\n",
      "727 torch.Size([2, 1974])\n",
      "EDGE_INDEX: torch.Size([2, 1974])\t\tLOOP_INDEX: torch.Size([2, 727])\n",
      "241 --- torch.Size([2, 1974])\n",
      "99 --- torch.Size([2, 1974])\n",
      "727 torch.Size([2, 1974])\n",
      "EDGE_INDEX: torch.Size([2, 1974])\t\tLOOP_INDEX: torch.Size([2, 727])\n",
      "241 --- torch.Size([2, 1902])\n",
      "99 --- torch.Size([2, 1902])\n",
      "727 torch.Size([2, 1902])\n",
      "EDGE_INDEX: torch.Size([2, 1902])\t\tLOOP_INDEX: torch.Size([2, 727])\n",
      "241 --- torch.Size([2, 1902])\n",
      "99 --- torch.Size([2, 1902])\n",
      "727 torch.Size([2, 1902])\n",
      "EDGE_INDEX: torch.Size([2, 1902])\t\tLOOP_INDEX: torch.Size([2, 727])\n",
      "241 --- torch.Size([2, 1924])\n",
      "99 --- torch.Size([2, 1924])\n",
      "744 torch.Size([2, 1924])\n",
      "EDGE_INDEX: torch.Size([2, 1924])\t\tLOOP_INDEX: torch.Size([2, 744])\n",
      "241 --- torch.Size([2, 1924])\n",
      "99 --- torch.Size([2, 1924])\n",
      "744 torch.Size([2, 1924])\n",
      "EDGE_INDEX: torch.Size([2, 1924])\t\tLOOP_INDEX: torch.Size([2, 744])\n",
      "241 --- torch.Size([2, 942])\n",
      "99 --- torch.Size([2, 942])\n",
      "391 torch.Size([2, 942])\n",
      "EDGE_INDEX: torch.Size([2, 942])\t\tLOOP_INDEX: torch.Size([2, 391])\n",
      "241 --- torch.Size([2, 942])\n",
      "99 --- torch.Size([2, 942])\n",
      "391 torch.Size([2, 942])\n",
      "EDGE_INDEX: torch.Size([2, 942])\t\tLOOP_INDEX: torch.Size([2, 391])\n"
     ]
    },
    {
     "name": "stderr",
     "output_type": "stream",
     "text": [
      "[Joint E9] Calc Global P:   0%|          | 0/17 [00:00<?, ?it/s]"
     ]
    },
    {
     "name": "stdout",
     "output_type": "stream",
     "text": [
      "241 --- torch.Size([2, 1792])\n",
      "99 --- torch.Size([2, 1792])\n",
      "696 torch.Size([2, 1792])\n",
      "EDGE_INDEX: torch.Size([2, 1792])\t\tLOOP_INDEX: torch.Size([2, 696])\n",
      "241 --- torch.Size([2, 1792])\n",
      "99 --- torch.Size([2, 1792])\n",
      "696 torch.Size([2, 1792])\n",
      "EDGE_INDEX: torch.Size([2, 1792])\t\tLOOP_INDEX: torch.Size([2, 696])\n"
     ]
    },
    {
     "name": "stderr",
     "output_type": "stream",
     "text": [
      "[Joint E9] Calc Global P:   6%|▌         | 1/17 [00:04<01:17,  4.84s/it]"
     ]
    },
    {
     "name": "stdout",
     "output_type": "stream",
     "text": [
      "241 --- torch.Size([2, 1818])\n",
      "99 --- torch.Size([2, 1818])\n",
      "704 torch.Size([2, 1818])\n",
      "EDGE_INDEX: torch.Size([2, 1818])\t\tLOOP_INDEX: torch.Size([2, 704])\n",
      "241 --- torch.Size([2, 1818])\n",
      "99 --- torch.Size([2, 1818])\n",
      "704 torch.Size([2, 1818])\n",
      "EDGE_INDEX: torch.Size([2, 1818])\t\tLOOP_INDEX: torch.Size([2, 704])\n"
     ]
    },
    {
     "name": "stderr",
     "output_type": "stream",
     "text": [
      "[Joint E9] Calc Global P:  12%|█▏        | 2/17 [00:09<01:09,  4.64s/it]"
     ]
    },
    {
     "name": "stdout",
     "output_type": "stream",
     "text": [
      "241 --- torch.Size([2, 1634])\n",
      "99 --- torch.Size([2, 1634])\n",
      "689 torch.Size([2, 1634])\n",
      "EDGE_INDEX: torch.Size([2, 1634])\t\tLOOP_INDEX: torch.Size([2, 689])\n",
      "241 --- torch.Size([2, 1634])\n",
      "99 --- torch.Size([2, 1634])\n",
      "689 torch.Size([2, 1634])\n",
      "EDGE_INDEX: torch.Size([2, 1634])\t\tLOOP_INDEX: torch.Size([2, 689])\n"
     ]
    },
    {
     "name": "stderr",
     "output_type": "stream",
     "text": [
      "[Joint E9] Calc Global P:  18%|█▊        | 3/17 [00:13<01:03,  4.56s/it]"
     ]
    },
    {
     "name": "stdout",
     "output_type": "stream",
     "text": [
      "241 --- torch.Size([2, 1808])\n",
      "99 --- torch.Size([2, 1808])\n",
      "716 torch.Size([2, 1808])\n",
      "EDGE_INDEX: torch.Size([2, 1808])\t\tLOOP_INDEX: torch.Size([2, 716])\n",
      "241 --- torch.Size([2, 1808])\n",
      "99 --- torch.Size([2, 1808])\n",
      "716 torch.Size([2, 1808])\n",
      "EDGE_INDEX: torch.Size([2, 1808])\t\tLOOP_INDEX: torch.Size([2, 716])\n"
     ]
    },
    {
     "name": "stderr",
     "output_type": "stream",
     "text": [
      "[Joint E9] Calc Global P:  24%|██▎       | 4/17 [00:17<00:57,  4.40s/it]"
     ]
    },
    {
     "name": "stdout",
     "output_type": "stream",
     "text": [
      "241 --- torch.Size([2, 1886])\n",
      "99 --- torch.Size([2, 1886])\n",
      "723 torch.Size([2, 1886])\n",
      "EDGE_INDEX: torch.Size([2, 1886])\t\tLOOP_INDEX: torch.Size([2, 723])\n",
      "241 --- torch.Size([2, 1886])\n",
      "99 --- torch.Size([2, 1886])\n",
      "723 torch.Size([2, 1886])\n",
      "EDGE_INDEX: torch.Size([2, 1886])\t\tLOOP_INDEX: torch.Size([2, 723])\n"
     ]
    },
    {
     "name": "stderr",
     "output_type": "stream",
     "text": [
      "[Joint E9] Calc Global P:  29%|██▉       | 5/17 [00:22<00:54,  4.51s/it]"
     ]
    },
    {
     "name": "stdout",
     "output_type": "stream",
     "text": [
      "241 --- torch.Size([2, 1472])\n",
      "99 --- torch.Size([2, 1472])\n",
      "626 torch.Size([2, 1472])\n",
      "EDGE_INDEX: torch.Size([2, 1472])\t\tLOOP_INDEX: torch.Size([2, 626])\n",
      "241 --- torch.Size([2, 1472])\n",
      "99 --- torch.Size([2, 1472])\n",
      "626 torch.Size([2, 1472])\n",
      "EDGE_INDEX: torch.Size([2, 1472])\t\tLOOP_INDEX: torch.Size([2, 626])\n"
     ]
    },
    {
     "name": "stderr",
     "output_type": "stream",
     "text": [
      "[Joint E9] Calc Global P:  35%|███▌      | 6/17 [00:26<00:46,  4.25s/it]"
     ]
    },
    {
     "name": "stdout",
     "output_type": "stream",
     "text": [
      "241 --- torch.Size([2, 1624])\n",
      "99 --- torch.Size([2, 1624])\n",
      "657 torch.Size([2, 1624])\n",
      "EDGE_INDEX: torch.Size([2, 1624])\t\tLOOP_INDEX: torch.Size([2, 657])\n",
      "241 --- torch.Size([2, 1624])\n",
      "99 --- torch.Size([2, 1624])\n",
      "657 torch.Size([2, 1624])\n",
      "EDGE_INDEX: torch.Size([2, 1624])\t\tLOOP_INDEX: torch.Size([2, 657])\n"
     ]
    },
    {
     "name": "stderr",
     "output_type": "stream",
     "text": [
      "[Joint E9] Calc Global P:  41%|████      | 7/17 [00:30<00:43,  4.33s/it]"
     ]
    },
    {
     "name": "stdout",
     "output_type": "stream",
     "text": [
      "241 --- torch.Size([2, 2122])\n",
      "99 --- torch.Size([2, 2122])\n",
      "792 torch.Size([2, 2122])\n",
      "EDGE_INDEX: torch.Size([2, 2122])\t\tLOOP_INDEX: torch.Size([2, 792])\n",
      "241 --- torch.Size([2, 2122])\n",
      "99 --- torch.Size([2, 2122])\n",
      "792 torch.Size([2, 2122])\n",
      "EDGE_INDEX: torch.Size([2, 2122])\t\tLOOP_INDEX: torch.Size([2, 792])\n"
     ]
    },
    {
     "name": "stderr",
     "output_type": "stream",
     "text": [
      "[Joint E9] Calc Global P:  47%|████▋     | 8/17 [00:35<00:39,  4.41s/it]"
     ]
    },
    {
     "name": "stdout",
     "output_type": "stream",
     "text": [
      "241 --- torch.Size([2, 1822])\n",
      "99 --- torch.Size([2, 1822])\n",
      "721 torch.Size([2, 1822])\n",
      "EDGE_INDEX: torch.Size([2, 1822])\t\tLOOP_INDEX: torch.Size([2, 721])\n",
      "241 --- torch.Size([2, 1822])\n",
      "99 --- torch.Size([2, 1822])\n",
      "721 torch.Size([2, 1822])\n",
      "EDGE_INDEX: torch.Size([2, 1822])\t\tLOOP_INDEX: torch.Size([2, 721])\n"
     ]
    },
    {
     "name": "stderr",
     "output_type": "stream",
     "text": [
      "[Joint E9] Calc Global P:  53%|█████▎    | 9/17 [00:40<00:35,  4.47s/it]"
     ]
    },
    {
     "name": "stdout",
     "output_type": "stream",
     "text": [
      "241 --- torch.Size([2, 1654])\n",
      "99 --- torch.Size([2, 1654])\n",
      "671 torch.Size([2, 1654])\n",
      "EDGE_INDEX: torch.Size([2, 1654])\t\tLOOP_INDEX: torch.Size([2, 671])\n",
      "241 --- torch.Size([2, 1654])\n",
      "99 --- torch.Size([2, 1654])\n",
      "671 torch.Size([2, 1654])\n",
      "EDGE_INDEX: torch.Size([2, 1654])\t\tLOOP_INDEX: torch.Size([2, 671])\n"
     ]
    },
    {
     "name": "stderr",
     "output_type": "stream",
     "text": [
      "[Joint E9] Calc Global P:  59%|█████▉    | 10/17 [00:44<00:31,  4.54s/it]"
     ]
    },
    {
     "name": "stdout",
     "output_type": "stream",
     "text": [
      "241 --- torch.Size([2, 2052])\n",
      "99 --- torch.Size([2, 2052])\n",
      "737 torch.Size([2, 2052])\n",
      "EDGE_INDEX: torch.Size([2, 2052])\t\tLOOP_INDEX: torch.Size([2, 737])\n",
      "241 --- torch.Size([2, 2052])\n",
      "99 --- torch.Size([2, 2052])\n",
      "737 torch.Size([2, 2052])\n",
      "EDGE_INDEX: torch.Size([2, 2052])\t\tLOOP_INDEX: torch.Size([2, 737])\n"
     ]
    },
    {
     "name": "stderr",
     "output_type": "stream",
     "text": [
      "[Joint E9] Calc Global P:  65%|██████▍   | 11/17 [00:49<00:27,  4.55s/it]"
     ]
    },
    {
     "name": "stdout",
     "output_type": "stream",
     "text": [
      "241 --- torch.Size([2, 2270])\n",
      "99 --- torch.Size([2, 2270])\n",
      "800 torch.Size([2, 2270])\n",
      "EDGE_INDEX: torch.Size([2, 2270])\t\tLOOP_INDEX: torch.Size([2, 800])\n",
      "241 --- torch.Size([2, 2270])\n",
      "99 --- torch.Size([2, 2270])\n",
      "800 torch.Size([2, 2270])\n",
      "EDGE_INDEX: torch.Size([2, 2270])\t\tLOOP_INDEX: torch.Size([2, 800])\n"
     ]
    },
    {
     "name": "stderr",
     "output_type": "stream",
     "text": [
      "[Joint E9] Calc Global P:  71%|███████   | 12/17 [00:53<00:22,  4.45s/it]"
     ]
    },
    {
     "name": "stdout",
     "output_type": "stream",
     "text": [
      "241 --- torch.Size([2, 1560])\n",
      "99 --- torch.Size([2, 1560])\n",
      "677 torch.Size([2, 1560])\n",
      "EDGE_INDEX: torch.Size([2, 1560])\t\tLOOP_INDEX: torch.Size([2, 677])\n",
      "241 --- torch.Size([2, 1560])\n",
      "99 --- torch.Size([2, 1560])\n",
      "677 torch.Size([2, 1560])\n",
      "EDGE_INDEX: torch.Size([2, 1560])\t\tLOOP_INDEX: torch.Size([2, 677])\n"
     ]
    },
    {
     "name": "stderr",
     "output_type": "stream",
     "text": [
      "[Joint E9] Calc Global P:  76%|███████▋  | 13/17 [00:57<00:16,  4.24s/it]"
     ]
    },
    {
     "name": "stdout",
     "output_type": "stream",
     "text": [
      "241 --- torch.Size([2, 1450])\n",
      "99 --- torch.Size([2, 1450])\n",
      "642 torch.Size([2, 1450])\n",
      "EDGE_INDEX: torch.Size([2, 1450])\t\tLOOP_INDEX: torch.Size([2, 642])\n",
      "241 --- torch.Size([2, 1450])\n",
      "99 --- torch.Size([2, 1450])\n",
      "642 torch.Size([2, 1450])\n",
      "EDGE_INDEX: torch.Size([2, 1450])\t\tLOOP_INDEX: torch.Size([2, 642])\n"
     ]
    },
    {
     "name": "stderr",
     "output_type": "stream",
     "text": [
      "[Joint E9] Calc Global P:  82%|████████▏ | 14/17 [01:01<00:13,  4.35s/it]"
     ]
    },
    {
     "name": "stdout",
     "output_type": "stream",
     "text": [
      "241 --- torch.Size([2, 1412])\n",
      "99 --- torch.Size([2, 1412])\n",
      "628 torch.Size([2, 1412])\n",
      "EDGE_INDEX: torch.Size([2, 1412])\t\tLOOP_INDEX: torch.Size([2, 628])\n",
      "241 --- torch.Size([2, 1412])\n",
      "99 --- torch.Size([2, 1412])\n",
      "628 torch.Size([2, 1412])\n",
      "EDGE_INDEX: torch.Size([2, 1412])\t\tLOOP_INDEX: torch.Size([2, 628])\n"
     ]
    },
    {
     "name": "stderr",
     "output_type": "stream",
     "text": [
      "[Joint E9] Calc Global P:  88%|████████▊ | 15/17 [01:06<00:08,  4.27s/it]"
     ]
    },
    {
     "name": "stdout",
     "output_type": "stream",
     "text": [
      "241 --- torch.Size([2, 1662])\n",
      "99 --- torch.Size([2, 1662])\n",
      "666 torch.Size([2, 1662])\n",
      "EDGE_INDEX: torch.Size([2, 1662])\t\tLOOP_INDEX: torch.Size([2, 666])\n",
      "241 --- torch.Size([2, 1662])\n",
      "99 --- torch.Size([2, 1662])\n",
      "666 torch.Size([2, 1662])\n",
      "EDGE_INDEX: torch.Size([2, 1662])\t\tLOOP_INDEX: torch.Size([2, 666])\n"
     ]
    },
    {
     "name": "stderr",
     "output_type": "stream",
     "text": [
      "[Joint E9] Calc Global P:  94%|█████████▍| 16/17 [01:09<00:04,  4.01s/it]"
     ]
    },
    {
     "name": "stdout",
     "output_type": "stream",
     "text": [
      "241 --- torch.Size([2, 1332])\n",
      "99 --- torch.Size([2, 1332])\n",
      "530 torch.Size([2, 1332])\n",
      "EDGE_INDEX: torch.Size([2, 1332])\t\tLOOP_INDEX: torch.Size([2, 530])\n",
      "241 --- torch.Size([2, 1332])\n",
      "99 --- torch.Size([2, 1332])\n",
      "530 torch.Size([2, 1332])\n",
      "EDGE_INDEX: torch.Size([2, 1332])\t\tLOOP_INDEX: torch.Size([2, 530])\n"
     ]
    },
    {
     "name": "stderr",
     "output_type": "stream",
     "text": [
      "                                                                         \r"
     ]
    },
    {
     "name": "stdout",
     "output_type": "stream",
     "text": [
      "241 --- torch.Size([2, 2058])\n",
      "99 --- torch.Size([2, 2058])\n",
      "758 torch.Size([2, 2058])\n",
      "EDGE_INDEX: torch.Size([2, 2058])\t\tLOOP_INDEX: torch.Size([2, 758])\n",
      "241 --- torch.Size([2, 2058])\n",
      "99 --- torch.Size([2, 2058])\n",
      "758 torch.Size([2, 2058])\n",
      "EDGE_INDEX: torch.Size([2, 2058])\t\tLOOP_INDEX: torch.Size([2, 758])\n",
      "241 --- torch.Size([2, 1768])\n",
      "99 --- torch.Size([2, 1768])\n",
      "697 torch.Size([2, 1768])\n",
      "EDGE_INDEX: torch.Size([2, 1768])\t\tLOOP_INDEX: torch.Size([2, 697])\n",
      "241 --- torch.Size([2, 1768])\n",
      "99 --- torch.Size([2, 1768])\n",
      "697 torch.Size([2, 1768])\n",
      "EDGE_INDEX: torch.Size([2, 1768])\t\tLOOP_INDEX: torch.Size([2, 697])\n",
      "241 --- torch.Size([2, 1686])\n",
      "99 --- torch.Size([2, 1686])\n",
      "687 torch.Size([2, 1686])\n",
      "EDGE_INDEX: torch.Size([2, 1686])\t\tLOOP_INDEX: torch.Size([2, 687])\n",
      "241 --- torch.Size([2, 1686])\n",
      "99 --- torch.Size([2, 1686])\n",
      "687 torch.Size([2, 1686])\n",
      "EDGE_INDEX: torch.Size([2, 1686])\t\tLOOP_INDEX: torch.Size([2, 687])\n",
      "241 --- torch.Size([2, 2022])\n",
      "99 --- torch.Size([2, 2022])\n",
      "760 torch.Size([2, 2022])\n",
      "EDGE_INDEX: torch.Size([2, 2022])\t\tLOOP_INDEX: torch.Size([2, 760])\n",
      "241 --- torch.Size([2, 2022])\n",
      "99 --- torch.Size([2, 2022])\n",
      "760 torch.Size([2, 2022])\n",
      "EDGE_INDEX: torch.Size([2, 2022])\t\tLOOP_INDEX: torch.Size([2, 760])\n",
      "241 --- torch.Size([2, 2030])\n",
      "99 --- torch.Size([2, 2030])\n",
      "767 torch.Size([2, 2030])\n",
      "EDGE_INDEX: torch.Size([2, 2030])\t\tLOOP_INDEX: torch.Size([2, 767])\n",
      "241 --- torch.Size([2, 2030])\n",
      "99 --- torch.Size([2, 2030])\n",
      "767 torch.Size([2, 2030])\n",
      "EDGE_INDEX: torch.Size([2, 2030])\t\tLOOP_INDEX: torch.Size([2, 767])\n",
      "241 --- torch.Size([2, 1672])\n",
      "99 --- torch.Size([2, 1672])\n",
      "685 torch.Size([2, 1672])\n",
      "EDGE_INDEX: torch.Size([2, 1672])\t\tLOOP_INDEX: torch.Size([2, 685])\n",
      "241 --- torch.Size([2, 1672])\n",
      "99 --- torch.Size([2, 1672])\n",
      "685 torch.Size([2, 1672])\n",
      "EDGE_INDEX: torch.Size([2, 1672])\t\tLOOP_INDEX: torch.Size([2, 685])\n",
      "241 --- torch.Size([2, 1654])\n",
      "99 --- torch.Size([2, 1654])\n",
      "666 torch.Size([2, 1654])\n",
      "EDGE_INDEX: torch.Size([2, 1654])\t\tLOOP_INDEX: torch.Size([2, 666])\n",
      "241 --- torch.Size([2, 1654])\n",
      "99 --- torch.Size([2, 1654])\n",
      "666 torch.Size([2, 1654])\n",
      "EDGE_INDEX: torch.Size([2, 1654])\t\tLOOP_INDEX: torch.Size([2, 666])\n",
      "241 --- torch.Size([2, 1534])\n",
      "99 --- torch.Size([2, 1534])\n",
      "652 torch.Size([2, 1534])\n",
      "EDGE_INDEX: torch.Size([2, 1534])\t\tLOOP_INDEX: torch.Size([2, 652])\n",
      "241 --- torch.Size([2, 1534])\n",
      "99 --- torch.Size([2, 1534])\n",
      "652 torch.Size([2, 1534])\n",
      "EDGE_INDEX: torch.Size([2, 1534])\t\tLOOP_INDEX: torch.Size([2, 652])\n",
      "241 --- torch.Size([2, 1742])\n",
      "99 --- torch.Size([2, 1742])\n",
      "682 torch.Size([2, 1742])\n",
      "EDGE_INDEX: torch.Size([2, 1742])\t\tLOOP_INDEX: torch.Size([2, 682])\n",
      "241 --- torch.Size([2, 1742])\n",
      "99 --- torch.Size([2, 1742])\n",
      "682 torch.Size([2, 1742])\n",
      "EDGE_INDEX: torch.Size([2, 1742])\t\tLOOP_INDEX: torch.Size([2, 682])\n",
      "241 --- torch.Size([2, 1604])\n",
      "99 --- torch.Size([2, 1604])\n",
      "668 torch.Size([2, 1604])\n",
      "EDGE_INDEX: torch.Size([2, 1604])\t\tLOOP_INDEX: torch.Size([2, 668])\n",
      "241 --- torch.Size([2, 1604])\n",
      "99 --- torch.Size([2, 1604])\n",
      "668 torch.Size([2, 1604])\n",
      "EDGE_INDEX: torch.Size([2, 1604])\t\tLOOP_INDEX: torch.Size([2, 668])\n",
      "241 --- torch.Size([2, 1880])\n",
      "99 --- torch.Size([2, 1880])\n",
      "703 torch.Size([2, 1880])\n",
      "EDGE_INDEX: torch.Size([2, 1880])\t\tLOOP_INDEX: torch.Size([2, 703])\n",
      "241 --- torch.Size([2, 1880])\n",
      "99 --- torch.Size([2, 1880])\n",
      "703 torch.Size([2, 1880])\n",
      "EDGE_INDEX: torch.Size([2, 1880])\t\tLOOP_INDEX: torch.Size([2, 703])\n",
      "241 --- torch.Size([2, 1514])\n",
      "99 --- torch.Size([2, 1514])\n",
      "641 torch.Size([2, 1514])\n",
      "EDGE_INDEX: torch.Size([2, 1514])\t\tLOOP_INDEX: torch.Size([2, 641])\n",
      "241 --- torch.Size([2, 1514])\n",
      "99 --- torch.Size([2, 1514])\n",
      "641 torch.Size([2, 1514])\n",
      "EDGE_INDEX: torch.Size([2, 1514])\t\tLOOP_INDEX: torch.Size([2, 641])\n",
      "241 --- torch.Size([2, 1584])\n",
      "99 --- torch.Size([2, 1584])\n",
      "657 torch.Size([2, 1584])\n",
      "EDGE_INDEX: torch.Size([2, 1584])\t\tLOOP_INDEX: torch.Size([2, 657])\n",
      "241 --- torch.Size([2, 1584])\n",
      "99 --- torch.Size([2, 1584])\n",
      "657 torch.Size([2, 1584])\n",
      "EDGE_INDEX: torch.Size([2, 1584])\t\tLOOP_INDEX: torch.Size([2, 657])\n",
      "241 --- torch.Size([2, 1656])\n",
      "99 --- torch.Size([2, 1656])\n",
      "681 torch.Size([2, 1656])\n",
      "EDGE_INDEX: torch.Size([2, 1656])\t\tLOOP_INDEX: torch.Size([2, 681])\n",
      "241 --- torch.Size([2, 1656])\n",
      "99 --- torch.Size([2, 1656])\n",
      "681 torch.Size([2, 1656])\n",
      "EDGE_INDEX: torch.Size([2, 1656])\t\tLOOP_INDEX: torch.Size([2, 681])\n",
      "241 --- torch.Size([2, 1740])\n",
      "99 --- torch.Size([2, 1740])\n",
      "709 torch.Size([2, 1740])\n",
      "EDGE_INDEX: torch.Size([2, 1740])\t\tLOOP_INDEX: torch.Size([2, 709])\n",
      "241 --- torch.Size([2, 1740])\n",
      "99 --- torch.Size([2, 1740])\n",
      "709 torch.Size([2, 1740])\n",
      "EDGE_INDEX: torch.Size([2, 1740])\t\tLOOP_INDEX: torch.Size([2, 709])\n",
      "241 --- torch.Size([2, 1908])\n",
      "99 --- torch.Size([2, 1908])\n",
      "709 torch.Size([2, 1908])\n",
      "EDGE_INDEX: torch.Size([2, 1908])\t\tLOOP_INDEX: torch.Size([2, 709])\n",
      "241 --- torch.Size([2, 1908])\n",
      "99 --- torch.Size([2, 1908])\n",
      "709 torch.Size([2, 1908])\n",
      "EDGE_INDEX: torch.Size([2, 1908])\t\tLOOP_INDEX: torch.Size([2, 709])\n",
      "241 --- torch.Size([2, 1420])\n",
      "99 --- torch.Size([2, 1420])\n",
      "558 torch.Size([2, 1420])\n",
      "EDGE_INDEX: torch.Size([2, 1420])\t\tLOOP_INDEX: torch.Size([2, 558])\n",
      "241 --- torch.Size([2, 1420])\n",
      "99 --- torch.Size([2, 1420])\n",
      "558 torch.Size([2, 1420])\n",
      "EDGE_INDEX: torch.Size([2, 1420])\t\tLOOP_INDEX: torch.Size([2, 558])\n",
      "241 --- torch.Size([2, 1974])\n",
      "99 --- torch.Size([2, 1974])\n",
      "727 torch.Size([2, 1974])\n",
      "EDGE_INDEX: torch.Size([2, 1974])\t\tLOOP_INDEX: torch.Size([2, 727])\n",
      "241 --- torch.Size([2, 1974])\n",
      "99 --- torch.Size([2, 1974])\n",
      "727 torch.Size([2, 1974])\n",
      "EDGE_INDEX: torch.Size([2, 1974])\t\tLOOP_INDEX: torch.Size([2, 727])\n",
      "241 --- torch.Size([2, 1902])\n",
      "99 --- torch.Size([2, 1902])\n",
      "727 torch.Size([2, 1902])\n",
      "EDGE_INDEX: torch.Size([2, 1902])\t\tLOOP_INDEX: torch.Size([2, 727])\n",
      "241 --- torch.Size([2, 1902])\n",
      "99 --- torch.Size([2, 1902])\n",
      "727 torch.Size([2, 1902])\n",
      "EDGE_INDEX: torch.Size([2, 1902])\t\tLOOP_INDEX: torch.Size([2, 727])\n",
      "241 --- torch.Size([2, 1924])\n",
      "99 --- torch.Size([2, 1924])\n",
      "744 torch.Size([2, 1924])\n",
      "EDGE_INDEX: torch.Size([2, 1924])\t\tLOOP_INDEX: torch.Size([2, 744])\n",
      "241 --- torch.Size([2, 1924])\n",
      "99 --- torch.Size([2, 1924])\n",
      "744 torch.Size([2, 1924])\n",
      "EDGE_INDEX: torch.Size([2, 1924])\t\tLOOP_INDEX: torch.Size([2, 744])\n",
      "241 --- torch.Size([2, 942])\n",
      "99 --- torch.Size([2, 942])\n",
      "391 torch.Size([2, 942])\n",
      "EDGE_INDEX: torch.Size([2, 942])\t\tLOOP_INDEX: torch.Size([2, 391])\n",
      "241 --- torch.Size([2, 942])\n",
      "99 --- torch.Size([2, 942])\n",
      "391 torch.Size([2, 942])\n",
      "EDGE_INDEX: torch.Size([2, 942])\t\tLOOP_INDEX: torch.Size([2, 391])\n",
      "[Joint] Early stopping at epoch 9 due to no improvement for 5 epochs.\n",
      "[Joint] Loading best model weights.\n"
     ]
    }
   ],
   "source": [
    "save_path= \"/home/mei/nas/docker/thesis/data/model_results/final_model_retnet/risk/resampled_30_datasampler\"\n",
    "# save_path= \"/home/mei/nas/docker/thesis/data/model_results/final_model_retnet/combine/resampled_30_debug\"\n",
    "\n",
    "model, history = train_patient_outcome_model(model, \n",
    "            train_loader, val_loader, train_loader_p, device, optimizer,  epochs=50, save_dir=save_path, \n",
    "            gamma=100, beta=150, kappa=200,  theta=1, \n",
    "            patience = 5 )"
   ]
  },
  {
   "cell_type": "code",
   "execution_count": 6,
   "metadata": {},
   "outputs": [
    {
     "data": {
      "image/png": "[encoded data removed]",
      "text/plain": [
       "<Figure size 1000x500 with 1 Axes>"
      ]
     },
     "metadata": {},
     "output_type": "display_data"
    }
   ],
   "source": [
    "plot_training_history(history)"
   ]
  },
  {
   "cell_type": "code",
   "execution_count": 29,
   "metadata": {},
   "outputs": [
    {
     "data": {
      "text/plain": [
       "<All keys matched successfully>"
      ]
     },
     "execution_count": 29,
     "metadata": {},
     "output_type": "execute_result"
    }
   ],
   "source": [
    "best_model = '/home/mei/nas/docker/thesis/data/model_results/final_model_retnet/risk/resampled_30_datasampler/best_joint.pth'\n",
    "model.load_state_dict(torch.load(best_model,weights_only=True))"
   ]
  },
  {
   "cell_type": "code",
   "execution_count": 7,
   "metadata": {},
   "outputs": [
    {
     "name": "stdout",
     "output_type": "stream",
     "text": [
      "241 --- torch.Size([2, 1816])\n",
      "99 --- torch.Size([2, 1816])\n",
      "712 torch.Size([2, 1816])\n",
      "EDGE_INDEX: torch.Size([2, 1816])\t\tLOOP_INDEX: torch.Size([2, 712])\n",
      "241 --- torch.Size([2, 1816])\n",
      "99 --- torch.Size([2, 1816])\n",
      "712 torch.Size([2, 1816])\n",
      "EDGE_INDEX: torch.Size([2, 1816])\t\tLOOP_INDEX: torch.Size([2, 712])\n",
      "241 --- torch.Size([2, 2086])\n",
      "99 --- torch.Size([2, 2086])\n",
      "753 torch.Size([2, 2086])\n",
      "EDGE_INDEX: torch.Size([2, 2086])\t\tLOOP_INDEX: torch.Size([2, 753])\n",
      "241 --- torch.Size([2, 2086])\n",
      "99 --- torch.Size([2, 2086])\n",
      "753 torch.Size([2, 2086])\n",
      "EDGE_INDEX: torch.Size([2, 2086])\t\tLOOP_INDEX: torch.Size([2, 753])\n",
      "241 --- torch.Size([2, 1872])\n",
      "99 --- torch.Size([2, 1872])\n",
      "688 torch.Size([2, 1872])\n",
      "EDGE_INDEX: torch.Size([2, 1872])\t\tLOOP_INDEX: torch.Size([2, 688])\n",
      "241 --- torch.Size([2, 1872])\n",
      "99 --- torch.Size([2, 1872])\n",
      "688 torch.Size([2, 1872])\n",
      "EDGE_INDEX: torch.Size([2, 1872])\t\tLOOP_INDEX: torch.Size([2, 688])\n",
      "241 --- torch.Size([2, 1118])\n",
      "99 --- torch.Size([2, 1118])\n",
      "416 torch.Size([2, 1118])\n",
      "EDGE_INDEX: torch.Size([2, 1118])\t\tLOOP_INDEX: torch.Size([2, 416])\n",
      "241 --- torch.Size([2, 1118])\n",
      "99 --- torch.Size([2, 1118])\n",
      "416 torch.Size([2, 1118])\n",
      "EDGE_INDEX: torch.Size([2, 1118])\t\tLOOP_INDEX: torch.Size([2, 416])\n",
      "Test Risk    → RMSE: 0.1076\n"
     ]
    }
   ],
   "source": [
    "output= test_patient_outcome_model(model, test_loader, device)"
   ]
  },
  {
   "cell_type": "code",
   "execution_count": 8,
   "metadata": {},
   "outputs": [
    {
     "name": "stdout",
     "output_type": "stream",
     "text": [
      "241 --- torch.Size([2, 10])\n",
      "99 --- torch.Size([2, 10])\n",
      "5 torch.Size([2, 10])\n",
      "EDGE_INDEX: torch.Size([2, 10])\t\tLOOP_INDEX: torch.Size([2, 5])\n",
      "241 --- torch.Size([2, 10])\n",
      "99 --- torch.Size([2, 10])\n",
      "5 torch.Size([2, 10])\n",
      "EDGE_INDEX: torch.Size([2, 10])\t\tLOOP_INDEX: torch.Size([2, 5])\n"
     ]
    },
    {
     "data": {
      "image/png": "[encoded data removed]",
      "text/plain": [
       "<Figure size 1000x400 with 1 Axes>"
      ]
     },
     "metadata": {},
     "output_type": "display_data"
    }
   ],
   "source": [
    "plot_patient_risk_score(model, test_loader, patient_index=195, device=device)"
   ]
  },
  {
   "cell_type": "code",
   "execution_count": 9,
   "metadata": {},
   "outputs": [
    {
     "name": "stdout",
     "output_type": "stream",
     "text": [
      "241 --- torch.Size([2, 12])\n",
      "99 --- torch.Size([2, 12])\n",
      "4 torch.Size([2, 12])\n",
      "EDGE_INDEX: torch.Size([2, 12])\t\tLOOP_INDEX: torch.Size([2, 4])\n",
      "241 --- torch.Size([2, 12])\n",
      "99 --- torch.Size([2, 12])\n",
      "4 torch.Size([2, 12])\n",
      "EDGE_INDEX: torch.Size([2, 12])\t\tLOOP_INDEX: torch.Size([2, 4])\n"
     ]
    },
    {
     "data": {
      "image/png": "[encoded data removed]",
      "text/plain": [
       "<Figure size 1000x400 with 1 Axes>"
      ]
     },
     "metadata": {},
     "output_type": "display_data"
    }
   ],
   "source": [
    "plot_patient_risk_score(model, test_loader, patient_index=398, device=device)"
   ]
  },
  {
   "cell_type": "code",
   "execution_count": 10,
   "metadata": {},
   "outputs": [
    {
     "name": "stdout",
     "output_type": "stream",
     "text": [
      "241 --- torch.Size([2, 12])\n",
      "99 --- torch.Size([2, 12])\n",
      "6 torch.Size([2, 12])\n",
      "EDGE_INDEX: torch.Size([2, 12])\t\tLOOP_INDEX: torch.Size([2, 6])\n",
      "241 --- torch.Size([2, 12])\n",
      "99 --- torch.Size([2, 12])\n",
      "6 torch.Size([2, 12])\n",
      "EDGE_INDEX: torch.Size([2, 12])\t\tLOOP_INDEX: torch.Size([2, 6])\n"
     ]
    },
    {
     "data": {
      "image/png": "[encoded data removed]",
      "text/plain": [
       "<Figure size 1000x400 with 1 Axes>"
      ]
     },
     "metadata": {},
     "output_type": "display_data"
    }
   ],
   "source": [
    "plot_patient_risk_score(model, test_loader, patient_index=397, device=device)"
   ]
  },
  {
   "cell_type": "code",
   "execution_count": 11,
   "metadata": {},
   "outputs": [
    {
     "name": "stdout",
     "output_type": "stream",
     "text": [
      "241 --- torch.Size([2, 6])\n",
      "99 --- torch.Size([2, 6])\n",
      "4 torch.Size([2, 6])\n",
      "EDGE_INDEX: torch.Size([2, 6])\t\tLOOP_INDEX: torch.Size([2, 4])\n",
      "241 --- torch.Size([2, 6])\n",
      "99 --- torch.Size([2, 6])\n",
      "4 torch.Size([2, 6])\n",
      "EDGE_INDEX: torch.Size([2, 6])\t\tLOOP_INDEX: torch.Size([2, 4])\n"
     ]
    },
    {
     "data": {
      "image/png": "[encoded data removed]",
      "text/plain": [
       "<Figure size 1000x400 with 1 Axes>"
      ]
     },
     "metadata": {},
     "output_type": "display_data"
    }
   ],
   "source": [
    "plot_patient_risk_score(model, test_loader, patient_index=51, device=device)"
   ]
  },
  {
   "cell_type": "code",
   "execution_count": 12,
   "metadata": {},
   "outputs": [],
   "source": [
    "from matplotlib.colors import LogNorm\n",
    "def plot_som_activation_heatmap(heatmap, som_dim, cmap=\"YlGnBu\"):\n",
    "    H, W = som_dim\n",
    "    plt.figure(figsize=(W*0.6, H*0.6))\n",
    "    sns.heatmap(\n",
    "        heatmap,\n",
    "        cmap=cmap,\n",
    "        norm=LogNorm(vmin=max(heatmap.min(), 1e-3), vmax=heatmap.max()),\n",
    "        annot=False,\n",
    "        fmt=\"d\",\n",
    "        square=True,\n",
    "        cbar_kws={\"label\": \"Activation Count\"}\n",
    "    )\n",
    "    plt.title(\"Overall SOM Activation\")\n",
    "    plt.xlabel(\"SOM Width\")\n",
    "    plt.ylabel(\"SOM Height\")\n",
    "    plt.gca().invert_yaxis()\n",
    "    plt.tight_layout()\n",
    "    plt.show()"
   ]
  },
  {
   "cell_type": "code",
   "execution_count": 13,
   "metadata": {},
   "outputs": [
    {
     "data": {
      "text/plain": [
       "<All keys matched successfully>"
      ]
     },
     "execution_count": 13,
     "metadata": {},
     "output_type": "execute_result"
    }
   ],
   "source": [
    "best_model = '/home/mei/nas/docker/thesis/data/model_results/final_model_retnet/risk/resampled_30_datasampler_higher_gbk/best_joint.pth'\n",
    "model2 = PatientOutcomeModel(flat_input_dim,graph_input_dim, hidden_dim,som=som,pretrained_encoder=pretrained_encoder).to(device) \n",
    "model2.load_state_dict(torch.load(best_model,weights_only=True))"
   ]
  },
  {
   "cell_type": "code",
   "execution_count": 14,
   "metadata": {},
   "outputs": [
    {
     "name": "stdout",
     "output_type": "stream",
     "text": [
      "241 --- torch.Size([2, 1816])\n",
      "99 --- torch.Size([2, 1816])\n",
      "712 torch.Size([2, 1816])\n",
      "EDGE_INDEX: torch.Size([2, 1816])\t\tLOOP_INDEX: torch.Size([2, 712])\n",
      "241 --- torch.Size([2, 1816])\n",
      "99 --- torch.Size([2, 1816])\n",
      "712 torch.Size([2, 1816])\n",
      "EDGE_INDEX: torch.Size([2, 1816])\t\tLOOP_INDEX: torch.Size([2, 712])\n",
      "241 --- torch.Size([2, 2086])\n",
      "99 --- torch.Size([2, 2086])\n",
      "753 torch.Size([2, 2086])\n",
      "EDGE_INDEX: torch.Size([2, 2086])\t\tLOOP_INDEX: torch.Size([2, 753])\n",
      "241 --- torch.Size([2, 2086])\n",
      "99 --- torch.Size([2, 2086])\n",
      "753 torch.Size([2, 2086])\n",
      "EDGE_INDEX: torch.Size([2, 2086])\t\tLOOP_INDEX: torch.Size([2, 753])\n",
      "241 --- torch.Size([2, 1872])\n",
      "99 --- torch.Size([2, 1872])\n",
      "688 torch.Size([2, 1872])\n",
      "EDGE_INDEX: torch.Size([2, 1872])\t\tLOOP_INDEX: torch.Size([2, 688])\n",
      "241 --- torch.Size([2, 1872])\n",
      "99 --- torch.Size([2, 1872])\n",
      "688 torch.Size([2, 1872])\n",
      "EDGE_INDEX: torch.Size([2, 1872])\t\tLOOP_INDEX: torch.Size([2, 688])\n",
      "241 --- torch.Size([2, 1118])\n",
      "99 --- torch.Size([2, 1118])\n",
      "416 torch.Size([2, 1118])\n",
      "EDGE_INDEX: torch.Size([2, 1118])\t\tLOOP_INDEX: torch.Size([2, 416])\n",
      "241 --- torch.Size([2, 1118])\n",
      "99 --- torch.Size([2, 1118])\n",
      "416 torch.Size([2, 1118])\n",
      "EDGE_INDEX: torch.Size([2, 1118])\t\tLOOP_INDEX: torch.Size([2, 416])\n"
     ]
    },
    {
     "data": {
      "image/png": "[encoded data removed]",
      "text/plain": [
       "<Figure size 600x600 with 2 Axes>"
      ]
     },
     "metadata": {},
     "output_type": "display_data"
    }
   ],
   "source": [
    "\n",
    "som_dim = (10,10)\n",
    "activation_grid = compute_som_activation_heatmap(model2, test_loader, device, som_dim)\n",
    "plot_som_activation_heatmap(activation_grid, som_dim)"
   ]
  },
  {
   "cell_type": "code",
   "execution_count": 15,
   "metadata": {},
   "outputs": [],
   "source": [
    "def plot_som_avg_risk(heatmap, som_dim, cmap=\"YlGnBu\"):\n",
    "    H, W = som_dim\n",
    "    plt.figure(figsize=(W*0.6, H*0.6))\n",
    "    sns.heatmap(\n",
    "        heatmap,\n",
    "        vmin=0.0, vmax=1.0,\n",
    "        cmap=cmap,\n",
    "        annot=True, fmt=\".2f\",\n",
    "        # linewidths=.5, linecolor=\"gray\"\n",
    "    )\n",
    "    plt.title(\"SOM Node Avg Risk\")\n",
    "    plt.xlabel(\"SOM Width\"); plt.ylabel(\"SOM Height\")\n",
    "    plt.gca().invert_yaxis() #\n",
    "    plt.tight_layout()\n",
    "    plt.show()\n"
   ]
  },
  {
   "cell_type": "code",
   "execution_count": 16,
   "metadata": {},
   "outputs": [
    {
     "name": "stdout",
     "output_type": "stream",
     "text": [
      "--- Computing SOM Average Risk Heatmap ---\n"
     ]
    },
    {
     "name": "stderr",
     "output_type": "stream",
     "text": [
      "Calculating heatmap:   0%|          | 0/4 [00:00<?, ?it/s]"
     ]
    },
    {
     "name": "stdout",
     "output_type": "stream",
     "text": [
      "241 --- torch.Size([2, 1816])\n",
      "99 --- torch.Size([2, 1816])\n",
      "712 torch.Size([2, 1816])\n",
      "EDGE_INDEX: torch.Size([2, 1816])\t\tLOOP_INDEX: torch.Size([2, 712])\n",
      "241 --- torch.Size([2, 1816])\n",
      "99 --- torch.Size([2, 1816])\n",
      "712 torch.Size([2, 1816])\n",
      "EDGE_INDEX: torch.Size([2, 1816])\t\tLOOP_INDEX: torch.Size([2, 712])\n"
     ]
    },
    {
     "name": "stderr",
     "output_type": "stream",
     "text": [
      "Calculating heatmap:  25%|██▌       | 1/4 [00:04<00:13,  4.48s/it]"
     ]
    },
    {
     "name": "stdout",
     "output_type": "stream",
     "text": [
      "241 --- torch.Size([2, 2086])\n",
      "99 --- torch.Size([2, 2086])\n",
      "753 torch.Size([2, 2086])\n",
      "EDGE_INDEX: torch.Size([2, 2086])\t\tLOOP_INDEX: torch.Size([2, 753])\n",
      "241 --- torch.Size([2, 2086])\n",
      "99 --- torch.Size([2, 2086])\n",
      "753 torch.Size([2, 2086])\n",
      "EDGE_INDEX: torch.Size([2, 2086])\t\tLOOP_INDEX: torch.Size([2, 753])\n"
     ]
    },
    {
     "name": "stderr",
     "output_type": "stream",
     "text": [
      "Calculating heatmap:  50%|█████     | 2/4 [00:09<00:09,  4.55s/it]"
     ]
    },
    {
     "name": "stdout",
     "output_type": "stream",
     "text": [
      "241 --- torch.Size([2, 1872])\n",
      "99 --- torch.Size([2, 1872])\n",
      "688 torch.Size([2, 1872])\n",
      "EDGE_INDEX: torch.Size([2, 1872])\t\tLOOP_INDEX: torch.Size([2, 688])\n",
      "241 --- torch.Size([2, 1872])\n",
      "99 --- torch.Size([2, 1872])\n",
      "688 torch.Size([2, 1872])\n",
      "EDGE_INDEX: torch.Size([2, 1872])\t\tLOOP_INDEX: torch.Size([2, 688])\n"
     ]
    },
    {
     "name": "stderr",
     "output_type": "stream",
     "text": [
      "Calculating heatmap:  75%|███████▌  | 3/4 [00:13<00:04,  4.42s/it]"
     ]
    },
    {
     "name": "stdout",
     "output_type": "stream",
     "text": [
      "241 --- torch.Size([2, 1118])\n",
      "99 --- torch.Size([2, 1118])\n",
      "416 torch.Size([2, 1118])\n",
      "EDGE_INDEX: torch.Size([2, 1118])\t\tLOOP_INDEX: torch.Size([2, 416])\n",
      "241 --- torch.Size([2, 1118])\n",
      "99 --- torch.Size([2, 1118])\n",
      "416 torch.Size([2, 1118])\n",
      "EDGE_INDEX: torch.Size([2, 1118])\t\tLOOP_INDEX: torch.Size([2, 416])\n"
     ]
    },
    {
     "name": "stderr",
     "output_type": "stream",
     "text": [
      "Calculating heatmap: 100%|██████████| 4/4 [00:15<00:00,  3.94s/it]\n"
     ]
    },
    {
     "name": "stdout",
     "output_type": "stream",
     "text": [
      "--> Heatmap computation complete.\n"
     ]
    },
    {
     "data": {
      "image/png": "[encoded data removed]",
      "text/plain": [
       "<Figure size 600x600 with 2 Axes>"
      ]
     },
     "metadata": {},
     "output_type": "display_data"
    }
   ],
   "source": [
    "\n",
    "som_dim = (10,10)\n",
    "avg_risk_map = compute_som_avg_risk(model, test_loader, device, som_dim)\n",
    "plot_som_avg_risk(avg_risk_map, som_dim)"
   ]
  },
  {
   "cell_type": "code",
   "execution_count": 17,
   "metadata": {},
   "outputs": [
    {
     "name": "stdout",
     "output_type": "stream",
     "text": [
      "test_loader 中 cat=0 的样本索引： [327, 194, 122, 161, 303, 123, 127, 51, 117, 109, 241, 279, 48, 61, 53, 302, 114, 18, 131, 77, 75, 88, 46, 43, 418, 71, 330]\n",
      "cat=0 的患者 ID: [3118263, 2441148, 1848702, 2235716, 3064491, 1849239, 1854497, 1721495, 1842081, 1822777, 2642496, 2851573, 1718669, 1730209, 1722941, 3063135, 1833798, 1334230, 1857925, 1764355, 1762378, 1788553, 1364166, 1358338, 3232813, 1754475, 3123772]\n",
      "cat=0 的样本长度: [475, 246, 152, 145, 80, 79, 58, 57, 55, 49, 49, 49, 48, 48, 47, 47, 44, 44, 44, 43, 42, 41, 39, 36, 36, 35, 32]\n",
      "test_loader 中 cat=1 的样本索引： [15, 235, 28, 267, 286, 326, 98, 188, 380, 334, 52, 331, 240, 352, 273, 423, 56, 70, 42, 391, 179, 377, 217, 103, 140, 269, 356, 76, 40, 236, 408, 97, 130, 416, 315, 99, 208, 0, 372, 407, 319, 102, 126, 378, 347, 409, 219, 313, 368, 92, 72, 417, 111, 403, 447, 289, 31, 178, 81, 390, 229, 67, 115, 184, 3, 263, 419, 277, 439, 294, 274, 437, 268, 54, 264, 354, 259, 388, 191, 124, 311, 340, 233, 255, 105, 299, 246, 73, 5, 26, 35, 116, 1, 60, 223, 387, 405, 38, 175, 120, 37, 30, 238, 13, 275, 22, 386, 256, 258, 213, 305, 450, 351, 254, 290, 64, 151, 34, 89, 74, 214, 10, 23, 119, 312, 24, 128, 349, 79, 93, 424, 237, 7, 20, 25, 345, 399, 90, 343, 404, 142, 344, 9, 136, 36, 32, 83, 172, 287, 296, 285, 41, 4, 58, 367, 33, 181, 297, 27, 11, 190, 68, 295, 226, 346, 66, 360, 436, 62, 95, 169, 337, 16, 252, 266, 376, 444, 357, 125, 366, 260, 63, 304, 39, 460, 250, 369, 401, 94, 17, 339, 442, 87, 203, 362, 205, 361, 448, 215, 2, 247, 350, 110, 144, 300, 65, 143, 324, 381, 383, 227, 85, 370, 335, 239, 106, 457, 19, 155, 12, 428, 262, 231, 425, 201, 200, 55, 374, 291, 411, 454, 382, 392, 29, 431, 57, 322, 281, 8, 148, 91, 292, 80, 309, 301, 432, 455, 180, 84, 284, 318, 421, 50, 230, 202, 14, 363, 298, 342, 355, 112, 412, 78, 121, 353, 320, 438, 21, 118, 96, 107, 134, 49, 160, 157, 338, 138, 458, 189, 139, 248, 397, 135, 449, 113, 86, 446, 435, 101, 242, 222, 420, 156, 415]\n",
      "cat=1 的患者 ID: [1327763, 2631475, 1341878, 2775718, 2879353, 3117939, 1800101, 2417929, 3188703, 3131042, 1722323, 3125728, 2641900, 3169712, 2828013, 3240660, 1726618, 1753227, 1357048, 3197047, 2357460, 3186997, 2592611, 1809668, 2034700, 2795828, 3171259, 1764028, 1355793, 2632026, 3219697, 1796288, 1857279, 3231667, 3096179, 1804298, 2579292, 1315985, 3182316, 3218750, 3103631, 1806836, 1854393, 3187149, 3165745, 3221091, 2600093, 3093581, 3180196, 1790095, 1757237, 3232789, 1823703, 3211830, 492652, 2887030, 1345506, 2357250, 1775230, 3196719, 2621071, 1743869, 1836434, 2383552, 1316527, 2769144, 3232944, 2849319, 469511, 3035861, 2829231, 467519, 2794286, 1724041, 2773574, 3170435, 2744549, 3194471, 2432656, 1850408, 3090755, 3152166, 2629821, 2735640, 1817416, 3049703, 2675530, 1758849, 1318693, 1339969, 1352445, 1837508, 1316285, 1729565, 2606546, 3194362, 3217926, 1355623, 2351456, 1847284, 1355460, 1344504, 2635607, 1325246, 2836223, 1336870, 3194103, 2739701, 2744534, 2583536, 3067627, 510771, 3169593, 2730041, 2889884, 1737172, 2148925, 1350443, 1788790, 1760548, 2585209, 1322933, 1337350, 1844832, 3091920, 1339239, 1856099, 3167984, 1766757, 1793310, 3240896, 2633208, 1319181, 1334991, 1339415, 3164453, 3206903, 1788983, 3161902, 3215201, 2047648, 3162056, 1322130, 1990950, 1355427, 1345624, 1780787, 2327125, 2880968, 3043702, 2872418, 1356192, 1316648, 1727400, 3179716, 1348115, 2368493, 3044263, 1340714, 1323061, 2423428, 1751546, 3036838, 2615670, 3165010, 1742439, 3174336, 466355, 1730423, 1794391, 2300782, 3139986, 1329902, 2718314, 2775463, 3186104, 483452, 3173647, 1853600, 3179248, 2754168, 1733084, 3066964, 1355721, 534516, 2697949, 3182007, 3211259, 1794021, 1330827, 3143785, 478163, 1785576, 2514122, 3176220, 2575612, 3174880, 496831, 2585973, 1316503, 2683005, 3169493, 1823438, 2059738, 3053175, 1740963, 2048864, 3115052, 3188763, 3190318, 2620259, 1782858, 3182256, 3134046, 2638240, 1821022, 525969, 1334945, 2191139, 1324386, 445889, 2766314, 2623395, 3244909, 2503291, 2499606, 1724508, 3183390, 2895124, 3224540, 520340, 3189842, 3197559, 1343731, 447820, 1727155, 3109987, 2857347, 1321327, 2107573, 1790006, 2901654, 1768659, 3085874, 3053881, 449566, 522242, 2360691, 1781158, 2870751, 3102728, 3237396, 1721128, 2622682, 2503806, 1326309, 3176708, 3048635, 3161209, 3171179, 1827480, 3225401, 1766053, 1848207, 3170409, 3106105, 468588, 1335985, 1843609, 1794799, 1822166, 1967104, 1720111, 2223135, 2208877, 3142805, 2001519, 534135, 2422619, 2014714, 2686416, 3204327, 1977018, 507834, 1833483, 1783140, 488961, 464766, 1806590, 2644002, 2603980, 3236580, 2204077, 3229076]\n",
      "cat=1 的样本长度: [530, 530, 529, 529, 529, 528, 527, 527, 527, 527, 526, 526, 525, 525, 525, 525, 524, 524, 523, 523, 522, 522, 521, 520, 520, 520, 520, 519, 519, 519, 518, 517, 517, 515, 514, 510, 508, 504, 499, 499, 496, 495, 491, 486, 484, 482, 478, 478, 474, 473, 473, 466, 463, 460, 453, 435, 434, 431, 430, 425, 423, 420, 418, 418, 409, 405, 405, 404, 404, 400, 388, 386, 379, 378, 376, 375, 373, 373, 372, 368, 368, 365, 361, 359, 358, 358, 357, 356, 337, 335, 333, 331, 330, 328, 328, 327, 327, 326, 324, 323, 323, 321, 321, 319, 319, 316, 316, 315, 315, 313, 313, 313, 311, 307, 306, 305, 295, 292, 289, 287, 287, 286, 285, 282, 279, 278, 278, 278, 277, 276, 276, 275, 273, 272, 271, 267, 264, 263, 262, 262, 261, 260, 259, 254, 249, 247, 247, 246, 246, 245, 243, 242, 240, 239, 239, 238, 237, 237, 236, 235, 235, 234, 233, 232, 231, 230, 230, 229, 228, 228, 227, 227, 226, 226, 220, 218, 216, 211, 208, 205, 203, 202, 202, 198, 194, 189, 189, 189, 188, 187, 187, 186, 185, 184, 183, 182, 182, 181, 180, 179, 178, 178, 177, 177, 177, 174, 171, 168, 167, 167, 165, 163, 161, 161, 157, 152, 151, 150, 146, 145, 145, 144, 141, 140, 138, 138, 136, 136, 136, 135, 134, 133, 133, 131, 131, 130, 128, 127, 126, 126, 125, 125, 124, 124, 124, 115, 113, 112, 105, 101, 101, 99, 98, 98, 96, 94, 94, 93, 92, 88, 86, 86, 84, 83, 82, 81, 81, 80, 77, 76, 75, 74, 73, 70, 68, 68, 67, 64, 63, 63, 56, 56, 55, 55, 53, 50, 47, 47, 46, 46, 43, 41, 36, 30]\n",
      "test_loader 中 cat=2 的样本索引： [220, 278, 406, 210, 280, 243, 234, 218, 270, 152, 221, 211, 192, 389, 410, 207, 261, 177, 364, 232, 373, 402, 249, 197, 167, 164, 224, 199, 257, 228, 394, 306, 193, 198, 379, 245, 459, 276, 429, 393, 398, 174, 209, 385, 165, 359, 196, 251, 170, 265, 348, 365, 308, 396, 171, 141, 426, 456, 154, 283, 453, 186, 384, 314, 185, 216, 272, 375, 427, 137, 341, 445, 440, 166, 395, 336, 434, 451, 149, 183, 443, 441, 430, 433, 168, 145, 212, 323, 452]\n",
      "cat=2 的患者 ID: [2600823, 2850001, 3218348, 2582452, 2855985, 2645879, 2630393, 2599591, 2800726, 2160015, 2602560, 2582752, 2434875, 3196635, 3222548, 2576974, 2765737, 2356658, 3178481, 2625447, 3182583, 3211380, 2689908, 2471210, 2297802, 2279968, 2609644, 2478577, 2742516, 2620494, 3198700, 3070103, 2439799, 2471723, 3187444, 2675266, 534484, 2849152, 446339, 3198263, 320647, 2346951, 2579429, 3192911, 2287523, 3174108, 2467277, 2705854, 2300909, 2773822, 3166502, 3178757, 3079727, 3202493, 2300975, 2037672, 426638, 525819, 2182746, 2862670, 519439, 2410431, 3190740, 3094911, 2397214, 2586578, 2814981, 3184344, 430027, 1999416, 3160857, 485423, 473412, 2295318, 3200069, 3136577, 451315, 513778, 2132727, 2383292, 481087, 476771, 446352, 450681, 2298806, 2065254, 2583013, 3113576, 514249]\n",
      "cat=2 的样本长度: [527, 527, 525, 523, 523, 521, 520, 520, 519, 513, 513, 511, 482, 470, 468, 467, 455, 440, 438, 428, 424, 421, 385, 374, 374, 371, 346, 339, 336, 335, 328, 327, 320, 319, 312, 310, 298, 291, 273, 267, 246, 241, 223, 222, 219, 216, 202, 200, 196, 184, 179, 174, 173, 171, 166, 152, 150, 150, 149, 144, 141, 136, 136, 127, 125, 125, 125, 121, 104, 97, 93, 91, 91, 84, 73, 61, 57, 56, 55, 54, 50, 48, 48, 47, 45, 38, 31, 30, 28]\n",
      "test_loader 中 cat=3 的样本索引： [317, 195, 282, 329, 325, 147, 6, 163, 414, 204, 129, 69, 288, 328, 173, 316, 100, 108, 271, 133, 413, 45, 253, 310, 400, 187, 422, 225, 206, 132, 153, 182, 321, 59, 358, 307, 44, 47, 146, 244, 104, 82, 150, 333, 159, 162, 293, 176, 158, 332, 371]\n",
      "cat=3 的患者 ID: [3101154, 2452034, 2861911, 3120701, 3115071, 2088104, 1319019, 2271516, 3226955, 2524513, 1856525, 1752421, 2881351, 3119467, 2328170, 3098663, 1805575, 1822518, 2810322, 1858789, 3226041, 1359029, 2729701, 3090538, 3207324, 2412042, 3239059, 2612422, 2575939, 1858745, 2181888, 2374973, 3106746, 1729481, 3173986, 3070134, 1359017, 1365697, 2084654, 2669599, 1815503, 1779894, 2135888, 3127466, 2216616, 2242932, 3033909, 2354138, 2215557, 3126880, 3182291]\n",
      "cat=3 的样本长度: [445, 357, 337, 331, 319, 296, 292, 269, 267, 265, 237, 232, 220, 214, 208, 192, 172, 163, 161, 153, 145, 130, 129, 125, 118, 117, 108, 100, 83, 80, 76, 75, 75, 70, 65, 56, 54, 44, 44, 41, 36, 34, 34, 34, 22, 17, 16, 15, 15, 10, 8]\n"
     ]
    }
   ],
   "source": [
    "print_statistics_of_dataloader(test_loader)"
   ]
  },
  {
   "cell_type": "code",
   "execution_count": 18,
   "metadata": {},
   "outputs": [
    {
     "name": "stdout",
     "output_type": "stream",
     "text": [
      "--- Computing SOM Average Risk Heatmap ---\n"
     ]
    },
    {
     "name": "stderr",
     "output_type": "stream",
     "text": [
      "Calculating heatmap:   0%|          | 0/4 [00:00<?, ?it/s]"
     ]
    },
    {
     "name": "stdout",
     "output_type": "stream",
     "text": [
      "241 --- torch.Size([2, 1816])\n",
      "99 --- torch.Size([2, 1816])\n",
      "712 torch.Size([2, 1816])\n",
      "EDGE_INDEX: torch.Size([2, 1816])\t\tLOOP_INDEX: torch.Size([2, 712])\n",
      "241 --- torch.Size([2, 1816])\n",
      "99 --- torch.Size([2, 1816])\n",
      "712 torch.Size([2, 1816])\n",
      "EDGE_INDEX: torch.Size([2, 1816])\t\tLOOP_INDEX: torch.Size([2, 712])\n"
     ]
    },
    {
     "name": "stderr",
     "output_type": "stream",
     "text": [
      "Calculating heatmap:  25%|██▌       | 1/4 [00:04<00:12,  4.29s/it]"
     ]
    },
    {
     "name": "stdout",
     "output_type": "stream",
     "text": [
      "241 --- torch.Size([2, 2086])\n",
      "99 --- torch.Size([2, 2086])\n",
      "753 torch.Size([2, 2086])\n",
      "EDGE_INDEX: torch.Size([2, 2086])\t\tLOOP_INDEX: torch.Size([2, 753])\n",
      "241 --- torch.Size([2, 2086])\n",
      "99 --- torch.Size([2, 2086])\n",
      "753 torch.Size([2, 2086])\n",
      "EDGE_INDEX: torch.Size([2, 2086])\t\tLOOP_INDEX: torch.Size([2, 753])\n"
     ]
    },
    {
     "name": "stderr",
     "output_type": "stream",
     "text": [
      "Calculating heatmap:  50%|█████     | 2/4 [00:08<00:08,  4.09s/it]"
     ]
    },
    {
     "name": "stdout",
     "output_type": "stream",
     "text": [
      "241 --- torch.Size([2, 1872])\n",
      "99 --- torch.Size([2, 1872])\n",
      "688 torch.Size([2, 1872])\n",
      "EDGE_INDEX: torch.Size([2, 1872])\t\tLOOP_INDEX: torch.Size([2, 688])\n",
      "241 --- torch.Size([2, 1872])\n",
      "99 --- torch.Size([2, 1872])\n",
      "688 torch.Size([2, 1872])\n",
      "EDGE_INDEX: torch.Size([2, 1872])\t\tLOOP_INDEX: torch.Size([2, 688])\n"
     ]
    },
    {
     "name": "stderr",
     "output_type": "stream",
     "text": [
      "Calculating heatmap:  75%|███████▌  | 3/4 [00:12<00:04,  4.16s/it]"
     ]
    },
    {
     "name": "stdout",
     "output_type": "stream",
     "text": [
      "241 --- torch.Size([2, 1118])\n",
      "99 --- torch.Size([2, 1118])\n",
      "416 torch.Size([2, 1118])\n",
      "EDGE_INDEX: torch.Size([2, 1118])\t\tLOOP_INDEX: torch.Size([2, 416])\n",
      "241 --- torch.Size([2, 1118])\n",
      "99 --- torch.Size([2, 1118])\n",
      "416 torch.Size([2, 1118])\n",
      "EDGE_INDEX: torch.Size([2, 1118])\t\tLOOP_INDEX: torch.Size([2, 416])\n"
     ]
    },
    {
     "name": "stderr",
     "output_type": "stream",
     "text": [
      "Calculating heatmap: 100%|██████████| 4/4 [00:14<00:00,  3.72s/it]"
     ]
    },
    {
     "name": "stdout",
     "output_type": "stream",
     "text": [
      "--> Heatmap computation complete.\n"
     ]
    },
    {
     "name": "stderr",
     "output_type": "stream",
     "text": [
      "\n"
     ]
    }
   ],
   "source": [
    "# --- 1. 计算热力图 ---\n",
    "risk_heatmap = compute_som_avg_risk(model, test_loader, device, som_dim=(10, 10))"
   ]
  },
  {
   "cell_type": "code",
   "execution_count": 19,
   "metadata": {},
   "outputs": [
    {
     "name": "stdout",
     "output_type": "stream",
     "text": [
      "--- Searching for specified patient IDs: ['3118263'] ---\n"
     ]
    },
    {
     "name": "stderr",
     "output_type": "stream",
     "text": [
      "Searching for patients:  50%|█████     | 2/4 [00:06<00:06,  3.28s/it]"
     ]
    },
    {
     "name": "stdout",
     "output_type": "stream",
     "text": [
      "  -> Found 1 target(s) in current batch. Running forward pass...\n",
      "241 --- torch.Size([2, 1872])\n",
      "99 --- torch.Size([2, 1872])\n",
      "688 torch.Size([2, 1872])\n",
      "EDGE_INDEX: torch.Size([2, 1872])\t\tLOOP_INDEX: torch.Size([2, 688])\n",
      "241 --- torch.Size([2, 1872])\n",
      "99 --- torch.Size([2, 1872])\n",
      "688 torch.Size([2, 1872])\n",
      "EDGE_INDEX: torch.Size([2, 1872])\t\tLOOP_INDEX: torch.Size([2, 688])\n"
     ]
    },
    {
     "name": "stderr",
     "output_type": "stream",
     "text": [
      "Searching for patients:  50%|█████     | 2/4 [00:10<00:10,  5.37s/it]"
     ]
    },
    {
     "name": "stdout",
     "output_type": "stream",
     "text": [
      "    -> Computed trajectory for Patient ID: 3118263 (Category: 0)\n",
      "--- All target patients have been found. ---\n",
      "\n",
      "Plotting trajectory snapshots at timesteps: [474]\n"
     ]
    },
    {
     "name": "stderr",
     "output_type": "stream",
     "text": [
      "\n"
     ]
    },
    {
     "data": {
      "image/png": "[encoded data removed]",
      "text/plain": [
       "<Figure size 400x400 with 2 Axes>"
      ]
     },
     "metadata": {},
     "output_type": "display_data"
    }
   ],
   "source": [
    "\n",
    "#cat=0\n",
    "patient_ids = ['3118263'] \n",
    "targeted_trajectories =  compute_trajectories_by_id_or_category(\n",
    "    model, \n",
    "    test_loader, \n",
    "    device, \n",
    "    som_dim=(10,10),\n",
    "    target_patient_ids=patient_ids \n",
    ")\n",
    "    \n",
    "\n",
    "# --- 3. 绘图 ---\n",
    "max_len = max(len(d[\"coords\"]) for d in targeted_trajectories.values())\n",
    "\n",
    "# 开始，1/4处，1/2处，3/4处，和结束前一个点\n",
    "snapshot_timesteps = [\n",
    "    max_len - 1 \n",
    "]\n",
    "\n",
    "snapshot_timesteps = sorted(list(set(snapshot_timesteps))) \n",
    "\n",
    "print(f\"\\nPlotting trajectory snapshots at timesteps: {snapshot_timesteps}\")\n",
    "\n",
    "plot_trajectory_snapshots_custom_color(\n",
    "    heatmap=risk_heatmap, \n",
    "    trajectories=targeted_trajectories, \n",
    "    som_dim=(10, 10),\n",
    "    snapshot_times=snapshot_timesteps\n",
    ")"
   ]
  },
  {
   "cell_type": "code",
   "execution_count": 20,
   "metadata": {},
   "outputs": [
    {
     "name": "stdout",
     "output_type": "stream",
     "text": [
      "--- Searching for specified patient IDs: ['1334991'] ---\n"
     ]
    },
    {
     "name": "stderr",
     "output_type": "stream",
     "text": [
      "Searching for patients:   0%|          | 0/4 [00:00<?, ?it/s]"
     ]
    },
    {
     "name": "stdout",
     "output_type": "stream",
     "text": [
      "  -> Found 1 target(s) in current batch. Running forward pass...\n",
      "241 --- torch.Size([2, 1816])\n",
      "99 --- torch.Size([2, 1816])\n",
      "712 torch.Size([2, 1816])\n",
      "EDGE_INDEX: torch.Size([2, 1816])\t\tLOOP_INDEX: torch.Size([2, 712])\n",
      "241 --- torch.Size([2, 1816])\n",
      "99 --- torch.Size([2, 1816])\n",
      "712 torch.Size([2, 1816])\n",
      "EDGE_INDEX: torch.Size([2, 1816])\t\tLOOP_INDEX: torch.Size([2, 712])\n"
     ]
    },
    {
     "name": "stderr",
     "output_type": "stream",
     "text": [
      "Searching for patients:   0%|          | 0/4 [00:04<?, ?it/s]"
     ]
    },
    {
     "name": "stdout",
     "output_type": "stream",
     "text": [
      "    -> Computed trajectory for Patient ID: 1334991 (Category: 1)\n",
      "--- All target patients have been found. ---\n",
      "\n",
      "Plotting trajectory snapshots at timesteps: [271]\n"
     ]
    },
    {
     "name": "stderr",
     "output_type": "stream",
     "text": [
      "\n"
     ]
    },
    {
     "data": {
      "image/png": "[encoded data removed]",
      "text/plain": [
       "<Figure size 400x400 with 2 Axes>"
      ]
     },
     "metadata": {},
     "output_type": "display_data"
    }
   ],
   "source": [
    "#cat=1\n",
    "# 1753227, 1357048\n",
    "# --- 2. 计算目标病人的轨迹 ---\n",
    "patient_ids =  ['1334991']  \n",
    "# 1796288, 1775230, 2621071, 2582752, 2434875\n",
    "targeted_trajectories =  compute_trajectories_by_id_or_category(\n",
    "    model, \n",
    "    test_loader, \n",
    "    device, \n",
    "    som_dim=(10,10),\n",
    "    target_patient_ids=patient_ids \n",
    ")\n",
    "\n",
    "# --- 3. 绘图 ---\n",
    "max_len = max(len(d[\"coords\"]) for d in targeted_trajectories.values())\n",
    "\n",
    "#开始，1/4处，1/2处，3/4处，和结束前一个点\n",
    "# max_len // 2,  \n",
    "snapshot_timesteps = [\n",
    "    max_len - 1 \n",
    "]\n",
    "\n",
    "snapshot_timesteps = sorted(list(set(snapshot_timesteps))) \n",
    "\n",
    "print(f\"\\nPlotting trajectory snapshots at timesteps: {snapshot_timesteps}\")\n",
    "\n",
    "plot_trajectory_snapshots_custom_color(\n",
    "    heatmap=risk_heatmap, \n",
    "    trajectories=targeted_trajectories, \n",
    "    som_dim=(10, 10),\n",
    "    snapshot_times=snapshot_timesteps\n",
    ")"
   ]
  },
  {
   "cell_type": "code",
   "execution_count": 21,
   "metadata": {},
   "outputs": [
    {
     "name": "stdout",
     "output_type": "stream",
     "text": [
      "--- Searching for specified patient IDs: ['3218348'] ---\n"
     ]
    },
    {
     "name": "stderr",
     "output_type": "stream",
     "text": [
      "Searching for patients:  75%|███████▌  | 3/4 [00:10<00:03,  3.51s/it]"
     ]
    },
    {
     "name": "stdout",
     "output_type": "stream",
     "text": [
      "  -> Found 1 target(s) in current batch. Running forward pass...\n",
      "241 --- torch.Size([2, 1118])\n",
      "99 --- torch.Size([2, 1118])\n",
      "416 torch.Size([2, 1118])\n",
      "EDGE_INDEX: torch.Size([2, 1118])\t\tLOOP_INDEX: torch.Size([2, 416])\n",
      "241 --- torch.Size([2, 1118])\n",
      "99 --- torch.Size([2, 1118])\n",
      "416 torch.Size([2, 1118])\n",
      "EDGE_INDEX: torch.Size([2, 1118])\t\tLOOP_INDEX: torch.Size([2, 416])\n"
     ]
    },
    {
     "name": "stderr",
     "output_type": "stream",
     "text": [
      "Searching for patients:  75%|███████▌  | 3/4 [00:12<00:04,  4.27s/it]"
     ]
    },
    {
     "name": "stdout",
     "output_type": "stream",
     "text": [
      "    -> Computed trajectory for Patient ID: 3218348 (Category: 2)\n",
      "--- All target patients have been found. ---\n",
      "\n",
      "Plotting trajectory snapshots at timesteps: [524]\n"
     ]
    },
    {
     "name": "stderr",
     "output_type": "stream",
     "text": [
      "\n"
     ]
    },
    {
     "data": {
      "image/png": "[encoded data removed]",
      "text/plain": [
       "<Figure size 400x400 with 2 Axes>"
      ]
     },
     "metadata": {},
     "output_type": "display_data"
    }
   ],
   "source": [
    "#cat=2\n",
    "patient_ids = ['3218348'] \n",
    "#  3218348, 2855985, 2160015, 2602560,\n",
    "targeted_trajectories =  compute_trajectories_by_id_or_category(\n",
    "    model, \n",
    "    test_loader, \n",
    "    device, \n",
    "    som_dim=(10,10),\n",
    "    target_patient_ids=patient_ids \n",
    ")\n",
    "    \n",
    "\n",
    "# --- 3. 绘图 ---\n",
    "max_len = max(len(d[\"coords\"]) for d in targeted_trajectories.values())\n",
    "\n",
    "# 开始，1/4处，1/2处，3/4处，和结束前一个点\n",
    "snapshot_timesteps = [\n",
    "    max_len - 1 \n",
    "]\n",
    "\n",
    "snapshot_timesteps = sorted(list(set(snapshot_timesteps))) \n",
    "\n",
    "print(f\"\\nPlotting trajectory snapshots at timesteps: {snapshot_timesteps}\")\n",
    "\n",
    "plot_trajectory_snapshots_custom_color(\n",
    "    heatmap=risk_heatmap, \n",
    "    trajectories=targeted_trajectories, \n",
    "    som_dim=(10, 10),\n",
    "    snapshot_times=snapshot_timesteps\n",
    ")"
   ]
  },
  {
   "cell_type": "code",
   "execution_count": 22,
   "metadata": {},
   "outputs": [
    {
     "name": "stdout",
     "output_type": "stream",
     "text": [
      "--- Searching for specified patient IDs: ['2524513'] ---\n"
     ]
    },
    {
     "name": "stderr",
     "output_type": "stream",
     "text": [
      "Searching for patients:  25%|██▌       | 1/4 [00:03<00:10,  3.43s/it]"
     ]
    },
    {
     "name": "stdout",
     "output_type": "stream",
     "text": [
      "  -> Found 1 target(s) in current batch. Running forward pass...\n",
      "241 --- torch.Size([2, 2086])\n",
      "99 --- torch.Size([2, 2086])\n",
      "753 torch.Size([2, 2086])\n",
      "EDGE_INDEX: torch.Size([2, 2086])\t\tLOOP_INDEX: torch.Size([2, 753])\n",
      "241 --- torch.Size([2, 2086])\n",
      "99 --- torch.Size([2, 2086])\n",
      "753 torch.Size([2, 2086])\n",
      "EDGE_INDEX: torch.Size([2, 2086])\t\tLOOP_INDEX: torch.Size([2, 753])\n"
     ]
    },
    {
     "name": "stderr",
     "output_type": "stream",
     "text": [
      "Searching for patients:  25%|██▌       | 1/4 [00:07<00:21,  7.28s/it]"
     ]
    },
    {
     "name": "stdout",
     "output_type": "stream",
     "text": [
      "    -> Computed trajectory for Patient ID: 2524513 (Category: 3)\n",
      "--- All target patients have been found. ---\n",
      "\n",
      "Plotting trajectory snapshots at timesteps: [264]\n"
     ]
    },
    {
     "name": "stderr",
     "output_type": "stream",
     "text": [
      "\n"
     ]
    },
    {
     "data": {
      "image/png": "[encoded data removed]",
      "text/plain": [
       "<Figure size 400x400 with 2 Axes>"
      ]
     },
     "metadata": {},
     "output_type": "display_data"
    }
   ],
   "source": [
    "#cat=3\n",
    "patient_ids = ['2524513'] \n",
    "targeted_trajectories =  compute_trajectories_by_id_or_category(\n",
    "    model, \n",
    "    test_loader, \n",
    "    device, \n",
    "    som_dim=(10,10),\n",
    "    target_patient_ids=patient_ids \n",
    ")\n",
    "    \n",
    "\n",
    "# --- 3. 绘图 ---\n",
    "max_len = max(len(d[\"coords\"]) for d in targeted_trajectories.values())\n",
    "\n",
    "# 开始，1/4处，1/2处，3/4处，和结束前一个点\n",
    "snapshot_timesteps = [\n",
    "    max_len - 1 \n",
    "]\n",
    "\n",
    "snapshot_timesteps = sorted(list(set(snapshot_timesteps))) \n",
    "\n",
    "print(f\"\\nPlotting trajectory snapshots at timesteps: {snapshot_timesteps}\")\n",
    "\n",
    "plot_trajectory_snapshots_custom_color(\n",
    "    heatmap=risk_heatmap, \n",
    "    trajectories=targeted_trajectories, \n",
    "    som_dim=(10, 10),\n",
    "    snapshot_times=snapshot_timesteps\n",
    ")"
   ]
  },
  {
   "cell_type": "markdown",
   "metadata": {},
   "source": []
  },
  {
   "cell_type": "markdown",
   "metadata": {},
   "source": []
  },
  {
   "cell_type": "markdown",
   "metadata": {},
   "source": []
  },
  {
   "cell_type": "markdown",
   "metadata": {},
   "source": []
  },
  {
   "cell_type": "code",
   "execution_count": 114,
   "metadata": {},
   "outputs": [
    {
     "name": "stdout",
     "output_type": "stream",
     "text": [
      "[Joint] Building patient_start_offset_global as dict...\n",
      "[Joint] Offset dict built for 2150 patients. Total length: 524096\n"
     ]
    },
    {
     "name": "stderr",
     "output_type": "stream",
     "text": [
      "                                                                         \r"
     ]
    },
    {
     "name": "stdout",
     "output_type": "stream",
     "text": [
      "[Joint] Ep10: Calculating global target P...\n"
     ]
    },
    {
     "name": "stderr",
     "output_type": "stream",
     "text": [
      "                                                                          \r"
     ]
    },
    {
     "name": "stdout",
     "output_type": "stream",
     "text": [
      "[Joint] Ep20: Calculating global target P...\n"
     ]
    },
    {
     "name": "stderr",
     "output_type": "stream",
     "text": [
      "                                                                          \r"
     ]
    },
    {
     "name": "stdout",
     "output_type": "stream",
     "text": [
      "[Joint] Ep30: Calculating global target P...\n"
     ]
    },
    {
     "name": "stderr",
     "output_type": "stream",
     "text": [
      "                                                                          \r"
     ]
    },
    {
     "name": "stdout",
     "output_type": "stream",
     "text": [
      "[Joint] Ep40: Calculating global target P...\n"
     ]
    },
    {
     "name": "stderr",
     "output_type": "stream",
     "text": [
      "                                                                          \r"
     ]
    },
    {
     "name": "stdout",
     "output_type": "stream",
     "text": [
      "[Joint] Ep50: Calculating global target P...\n"
     ]
    },
    {
     "name": "stderr",
     "output_type": "stream",
     "text": [
      "                                                                          \r"
     ]
    },
    {
     "name": "stdout",
     "output_type": "stream",
     "text": [
      "[Joint] Ep60: Calculating global target P...\n"
     ]
    },
    {
     "name": "stderr",
     "output_type": "stream",
     "text": [
      "                                                                          \r"
     ]
    },
    {
     "name": "stdout",
     "output_type": "stream",
     "text": [
      "[Joint] Early stopping at epoch 65 due to no improvement for 20 epochs.\n",
      "[Joint] Loading best model weights.\n"
     ]
    }
   ],
   "source": [
    "save_path= \"/home/mei/nas/docker/thesis/data/model_results/final_model_retnet/risk/resampled_30_datasampler_v2\"\n",
    "# save_path= \"/home/mei/nas/docker/thesis/data/model_results/final_model_retnet/combine/resampled_30_debug\"\n",
    "\n",
    "model, history = train_patient_outcome_model(model, \n",
    "            train_loader, val_loader, train_loader_p, device, optimizer,  epochs=100, save_dir=save_path, \n",
    "            gamma=1, beta=1, kappa=1,  theta=1, \n",
    "            patience = 20 )"
   ]
  },
  {
   "cell_type": "code",
   "execution_count": 115,
   "metadata": {},
   "outputs": [
    {
     "data": {
      "image/png": "[encoded data removed]",
      "text/plain": [
       "<Figure size 1000x500 with 1 Axes>"
      ]
     },
     "metadata": {},
     "output_type": "display_data"
    }
   ],
   "source": [
    "plot_training_history(history)"
   ]
  },
  {
   "cell_type": "code",
   "execution_count": 116,
   "metadata": {},
   "outputs": [
    {
     "name": "stdout",
     "output_type": "stream",
     "text": [
      "Test Risk    → RMSE: 0.1731, R²: 0.1459\n",
      "Test Risk κ→ Cohen's κ: 0.0965\n"
     ]
    }
   ],
   "source": [
    "output= test_patient_outcome_model(model, test_loader, device)"
   ]
  },
  {
   "cell_type": "code",
   "execution_count": 117,
   "metadata": {},
   "outputs": [
    {
     "data": {
      "image/png": "[encoded data removed]",
      "text/plain": [
       "<Figure size 600x600 with 2 Axes>"
      ]
     },
     "metadata": {},
     "output_type": "display_data"
    }
   ],
   "source": [
    "som_dim = (10,10)\n",
    "activation_grid = compute_som_activation_heatmap(model, test_loader, device, som_dim)\n",
    "plot_som_activation_heatmap(activation_grid, som_dim)\n"
   ]
  },
  {
   "cell_type": "code",
   "execution_count": 118,
   "metadata": {},
   "outputs": [
    {
     "name": "stdout",
     "output_type": "stream",
     "text": [
      "--- Computing SOM Average Risk Heatmap ---\n"
     ]
    },
    {
     "name": "stderr",
     "output_type": "stream",
     "text": [
      "Calculating heatmap: 100%|██████████| 4/4 [00:00<00:00,  4.13it/s]\n"
     ]
    },
    {
     "name": "stdout",
     "output_type": "stream",
     "text": [
      "--> Heatmap computation complete.\n"
     ]
    },
    {
     "data": {
      "image/png": "[encoded data removed]",
      "text/plain": [
       "<Figure size 600x600 with 2 Axes>"
      ]
     },
     "metadata": {},
     "output_type": "display_data"
    }
   ],
   "source": [
    "som_dim = (10,10)\n",
    "avg_risk_map = compute_som_avg_risk(model, test_loader, device, som_dim)\n",
    "plot_som_avg_risk(avg_risk_map, som_dim)"
   ]
  },
  {
   "cell_type": "code",
   "execution_count": 4,
   "metadata": {},
   "outputs": [
    {
     "name": "stdout",
     "output_type": "stream",
     "text": [
      "[Joint] Building patient_start_offset_global as dict...\n",
      "[Joint] Offset dict built for 2150 patients. Total length: 524096\n"
     ]
    },
    {
     "name": "stderr",
     "output_type": "stream",
     "text": [
      "                                                                         \r"
     ]
    },
    {
     "name": "stdout",
     "output_type": "stream",
     "text": [
      "[Joint] Ep10: Calculating global target P...\n"
     ]
    },
    {
     "name": "stderr",
     "output_type": "stream",
     "text": [
      "                                                                          \r"
     ]
    },
    {
     "name": "stdout",
     "output_type": "stream",
     "text": [
      "[Joint] Ep20: Calculating global target P...\n"
     ]
    },
    {
     "name": "stderr",
     "output_type": "stream",
     "text": [
      "                                                                          \r"
     ]
    },
    {
     "name": "stdout",
     "output_type": "stream",
     "text": [
      "[Joint] Early stopping at epoch 27 due to no improvement for 20 epochs.\n",
      "[Joint] Loading best model weights.\n"
     ]
    }
   ],
   "source": [
    "save_path= \"/home/mei/nas/docker/thesis/data/model_results/final_model_retnet/risk/resampled_30_datasampler_higher_gbk\"\n",
    "# save_path= \"/home/mei/nas/docker/thesis/data/model_results/final_model_retnet/combine/resampled_30_debug\"\n",
    "\n",
    "model, history = train_patient_outcome_model(model, \n",
    "            train_loader, val_loader, train_loader_p, device, optimizer,  epochs=100, save_dir=save_path, \n",
    "            gamma=100, beta=150, kappa=200,  theta=1, \n",
    "            patience = 20 )"
   ]
  },
  {
   "cell_type": "code",
   "execution_count": null,
   "metadata": {},
   "outputs": [],
   "source": []
  }
 ],
 "metadata": {
  "kernelspec": {
   "display_name": "eicu",
   "language": "python",
   "name": "python3"
  },
  "language_info": {
   "codemirror_mode": {
    "name": "ipython",
    "version": 3
   },
   "file_extension": ".py",
   "mimetype": "text/x-python",
   "name": "python",
   "nbconvert_exporter": "python",
   "pygments_lexer": "ipython3",
   "version": "3.10.14"
  }
 },
 "nbformat": 4,
 "nbformat_minor": 2
}
